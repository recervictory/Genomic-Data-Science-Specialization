{
 "cells": [
  {
   "cell_type": "markdown",
   "metadata": {},
   "source": []
  },
  {
   "cell_type": "code",
   "execution_count": 1,
   "metadata": {},
   "outputs": [],
   "source": [
    "alphabet = ['A','C','G','T']\n",
    "score =[[0,4,2,4,8], \\\n",
    "        [4,0,4,2,8], \\\n",
    "        [2,4,0,4,8], \\\n",
    "        [4,2,4,0,8], \\\n",
    "        [8,8,8,8,8]]"
   ]
  },
  {
   "cell_type": "code",
   "execution_count": 5,
   "metadata": {},
   "outputs": [
    {
     "data": {
      "text/plain": [
       "8"
      ]
     },
     "execution_count": 5,
     "metadata": {},
     "output_type": "execute_result"
    }
   ],
   "source": [
    "score[-1][alphabet.index('C')]"
   ]
  },
  {
   "cell_type": "code",
   "execution_count": 9,
   "metadata": {},
   "outputs": [
    {
     "data": {
      "text/plain": [
       "8"
      ]
     },
     "execution_count": 9,
     "metadata": {},
     "output_type": "execute_result"
    }
   ],
   "source": [
    "score[alphabet.index('G')][-1]"
   ]
  },
  {
   "cell_type": "markdown",
   "metadata": {},
   "source": [
    "# Programming Homework 3 Instructions "
   ]
  },
  {
   "cell_type": "markdown",
   "metadata": {},
   "source": [
    "We saw how to adapt dynamic programming to find approximate occurrences of a pattern in a text. Recall that:\n",
    "\n",
    "- Rows of the dynamic programming matrix are labeled with bases from P and columns with bases from T\n",
    "- Elements in the first row are set to 0\n",
    "- Elements in the first column are set to 0, 1, 2, ..., as for edit distance\n",
    "- Other elements are set in the same way as elements of a standard edit distance matrix\n",
    "- The minimal value in the bottom row is the edit distance of the closest match between P and T\n",
    "- First, download the provided excerpt of human chromosome 1"
   ]
  },
  {
   "cell_type": "code",
   "execution_count": 10,
   "metadata": {},
   "outputs": [
    {
     "name": "stdout",
     "output_type": "stream",
     "text": [
      "chr1.GRCh38.excerpt.fasta Already Exist! \n"
     ]
    }
   ],
   "source": [
    "import wget\n",
    "import os\n",
    "\n",
    "url = 'https://d28rh4a8wq0iu5.cloudfront.net/ads1/data/chr1.GRCh38.excerpt.fasta'\n",
    "fname = os.path.basename(url)\n",
    "\n",
    "if not os.path.isfile('data/'+fname):\n",
    "    wget.download(url, out='data/')\n",
    "else: \n",
    "    print(fname + \" Already Exist! \")"
   ]
  },
  {
   "cell_type": "markdown",
   "metadata": {},
   "source": [
    "Second, parse it using the readGenome function we wrote before.\n",
    "\n",
    "Third, adapt the editDistance function we saw in practical (copied below) to answer questions 1 and 2 below. Your function should take arguments p (pattern), t (text) and should return the edit distance of the match between P and T with the fewest edits."
   ]
  },
  {
   "cell_type": "code",
   "execution_count": 11,
   "metadata": {},
   "outputs": [],
   "source": [
    "def readGenome(filename):\n",
    "    genome = ''\n",
    "    with open(filename, 'r') as f:\n",
    "        for line in f:\n",
    "            # ignore header line with genome information\n",
    "            if not line[0] == '>':\n",
    "                genome += line.rstrip()\n",
    "    return genome"
   ]
  },
  {
   "cell_type": "code",
   "execution_count": 14,
   "metadata": {},
   "outputs": [],
   "source": [
    "human_chr1 = readGenome('data/'+fname)"
   ]
  },
  {
   "cell_type": "code",
   "execution_count": 45,
   "metadata": {},
   "outputs": [],
   "source": [
    "def editDistance(x, y):\n",
    "    # Create distance matrix\n",
    "    D = []\n",
    "    for i in range(len(x)+1):\n",
    "        D.append([0]*(len(y)+1))\n",
    "    # Initialize first row and column of matrix\n",
    "    for i in range(len(x)+1):\n",
    "        D[i][0] = i\n",
    "    for i in range(len(y)+1):\n",
    "        D[0][i] = i\n",
    "    # Fill in the rest of the matrix\n",
    "    for i in range(1, len(x)+1):\n",
    "        for j in range(1, len(y)+1):\n",
    "            distHor = D[i][j-1] + 1\n",
    "            distVer = D[i-1][j] + 1\n",
    "            if x[i-1] == y[j-1]:\n",
    "                distDiag = D[i-1][j-1]\n",
    "            else:\n",
    "                distDiag = D[i-1][j-1] + 1\n",
    "            D[i][j] = min(distHor, distVer, distDiag)\n",
    "    # Edit distance is the value in the bottom right corner of the matrix\n",
    "    return D[-1][-1]\n"
   ]
  },
  {
   "cell_type": "code",
   "execution_count": 46,
   "metadata": {},
   "outputs": [
    {
     "data": {
      "text/plain": [
       "11"
      ]
     },
     "execution_count": 46,
     "metadata": {},
     "output_type": "execute_result"
    }
   ],
   "source": [
    "pattern = 'GCGTATGC'\n",
    "text = 'TATTGGCTATACGGTT'\n",
    "\n",
    "editDistance(pattern,text)"
   ]
  },
  {
   "cell_type": "code",
   "execution_count": 47,
   "metadata": {},
   "outputs": [],
   "source": [
    "def editDistance(x, y):\n",
    "    # Create distance matrix\n",
    "    D = []\n",
    "    for i in range(len(x)+1):\n",
    "        D.append([0]*(len(y)+1))\n",
    "    # Initialize first row and column of matrix\n",
    "    for i in range(len(x)+1):\n",
    "        D[i][0] = i\n",
    "    for i in range(len(y)+1):\n",
    "        D[0][i] = 0 # Row == 0\n",
    "        \n",
    "    #print(D)\n",
    "    # Fill in the rest of the matrix\n",
    "    for i in range(1, len(x)+1):\n",
    "        for j in range(1, len(y)+1):\n",
    "            distHor = D[i][j-1] + 1\n",
    "            distVer = D[i-1][j] + 1\n",
    "            if x[i-1] == y[j-1]:\n",
    "                distDiag = D[i-1][j-1]\n",
    "            else:\n",
    "                distDiag = D[i-1][j-1] + 1\n",
    "            D[i][j] = min(distHor, distVer, distDiag)\n",
    "    # Edit distance is the value in the bottom right corner of the matrix\n",
    "    return min(D[-1])"
   ]
  },
  {
   "cell_type": "code",
   "execution_count": 38,
   "metadata": {},
   "outputs": [
    {
     "data": {
      "text/plain": [
       "2"
      ]
     },
     "execution_count": 38,
     "metadata": {},
     "output_type": "execute_result"
    }
   ],
   "source": [
    "pattern = 'GCGTATGC'\n",
    "text = 'TATTGGCTATACGGTT'\n",
    "\n",
    "editDistance(pattern,text)"
   ]
  },
  {
   "cell_type": "markdown",
   "metadata": {},
   "source": [
    "## Programming Homework 3"
   ]
  },
  {
   "cell_type": "markdown",
   "metadata": {},
   "source": [
    "#### Question 1:  What is the edit distance of the best match between pattern `GCTGATCGATCGTACG` and the excerpt of human chromosome 1?  (Don't consider reverse complements.)"
   ]
  },
  {
   "cell_type": "code",
   "execution_count": 39,
   "metadata": {},
   "outputs": [
    {
     "data": {
      "text/plain": [
       "3"
      ]
     },
     "execution_count": 39,
     "metadata": {},
     "output_type": "execute_result"
    }
   ],
   "source": [
    "pattern = 'GCTGATCGATCGTACG'\n",
    "\n",
    "editDistance(pattern,human_chr1)"
   ]
  },
  {
   "cell_type": "markdown",
   "metadata": {},
   "source": [
    "#### Question 2:  What is the edit distance of the best match between pattern `GATTTACCAGATTGAG` and the excerpt of human chromosome 1?  (Don't consider reverse complements.)"
   ]
  },
  {
   "cell_type": "code",
   "execution_count": 40,
   "metadata": {},
   "outputs": [
    {
     "data": {
      "text/plain": [
       "2"
      ]
     },
     "execution_count": 40,
     "metadata": {},
     "output_type": "execute_result"
    }
   ],
   "source": [
    "pattern = 'GATTTACCAGATTGAG'\n",
    "editDistance(pattern,human_chr1)"
   ]
  },
  {
   "cell_type": "markdown",
   "metadata": {},
   "source": [
    "#### Question 3:\n",
    "In a practical, we saw a function for finding the longest exact overlap (suffix/prefix match) between two strings. The function is copied below."
   ]
  },
  {
   "cell_type": "code",
   "execution_count": 41,
   "metadata": {},
   "outputs": [],
   "source": [
    "def overlap(a, b, min_length=3):\n",
    "    \"\"\" Return length of longest suffix of 'a' matching\n",
    "        a prefix of 'b' that is at least 'min_length'\n",
    "        characters long.  If no such overlap exists,\n",
    "        return 0. \"\"\"\n",
    "    start = 0  # start all the way at the left\n",
    "    while True:\n",
    "        start = a.find(b[:min_length], start)  # look for b's prefix in a\n",
    "        if start == -1:  # no more occurrences to right\n",
    "            return 0\n",
    "        # found occurrence; check for full suffix/prefix match\n",
    "        if b.startswith(a[start:]):\n",
    "            return len(a)-start\n",
    "        start += 1  # move just past previous match"
   ]
  },
  {
   "cell_type": "markdown",
   "metadata": {},
   "source": [
    "Say we are concerned only with overlaps that (a) are exact matches (no differences allowed), and (b) are at least `k` bases long. To make an overlap graph, we could call `overlap(a, b, min_length=k)` on every possible pair of reads from the dataset.  Unfortunately, that will be very slow!\n",
    "\n",
    "Consider this: Say we are using `k=6`, and we have a read `a` whose length-6 suffix is `GTCCTA`.  Say `GTCCTA` does not occur in any other read in the dataset.  In other words, the 6-mer `GTCCTA` occurs at the end of read `a` and nowhere else.  It follows that `a`'s suffix cannot possibly overlap the prefix of any other read by 6 or more characters.\n",
    "\n",
    "Put another way, if we want to find the overlaps involving a suffix of read `a` and a prefix of some other read, we can ignore any reads that don't contain the length-k suffix of `a`.  This is good news because it can save us a lot of work!\n",
    "\n",
    "Here is a suggestion for how to implement this idea.  You don't have to do it this way, but this might help you.  Let every k-mer in the dataset have an associated Python `set` object, which starts out empty.  We use a Python dictionary to associate each k-mer with its corresponding \\verb|set|set. (1) For every k-mer in a read, we add the read to the `set` object corresponding to that k-mer.  If our read is `GATTA` and `k=3`, we would add `GATTA` to the `set` objects for `GAT`, `ATT` and `TTA`.  We do this for every read so that, at the end, each `set` contains all reads containing the corresponding k-mer.  (2) Now, for each read \\verb|a|a, we find all overlaps involving a suffix of `a`.  To do this, we take `a`'s length-k suffix, find all reads containing that k-mer (obtained from the corresponding `set`) and call `overlap(a, b, min_length=k)` for each.\n",
    "\n",
    "The most important point is that we do not call `overlap(a, b, min_length=k)` if `b` does not contain the length-k suffix of `a`."
   ]
  },
  {
   "cell_type": "markdown",
   "metadata": {},
   "source": [
    "Download and parse the read sequences from the provided Phi-X FASTQ file. We'll just use their base sequences, so you can ignore read names and base qualities.  Also, no two reads in the FASTQ have the same sequence of bases.  This makes things simpler."
   ]
  },
  {
   "cell_type": "code",
   "execution_count": 51,
   "metadata": {},
   "outputs": [
    {
     "name": "stdout",
     "output_type": "stream",
     "text": [
      "ERR266411_1.for_asm.fastq Already Exist! \n"
     ]
    }
   ],
   "source": [
    "import wget\n",
    "import os\n",
    "\n",
    "url = 'https://d28rh4a8wq0iu5.cloudfront.net/ads1/data/ERR266411_1.for_asm.fastq'\n",
    "fname = os.path.basename(url)\n",
    "\n",
    "if not os.path.isfile('data/'+fname):\n",
    "    wget.download(url, out='data/')\n",
    "    print(fname + \" File Downloaded...\")\n",
    "else: \n",
    "    print(fname + \" Already Exist! \")"
   ]
  },
  {
   "cell_type": "markdown",
   "metadata": {},
   "source": [
    "Next, find all pairs of reads with an exact suffix/prefix match of length at least 30. Don't overlap a read with itself; if a read has a suffix/prefix match to itself, ignore that match.  Ignore reverse complements.\n",
    "\n",
    "- **Hint 1**: Your function should not take much more than 15 seconds to run on this 10,000-read dataset, and maybe much less than that.  (Our solution takes about 3 seconds.) If your function is much slower, there is a problem somewhere.\n",
    "- **Hint 2**: Remember not to overlap a read with itself. If you do, your answers will be too high.\n",
    "- **Hint 3**: You can test your implementation by making up small examples, then checking that (a) your implementation runs quickly, and (b) you get the same answer as if you had simply called `overlap(a, b, min_length=k)` on every pair of reads.  We also have provided a couple examples you can check against."
   ]
  },
  {
   "cell_type": "code",
   "execution_count": 54,
   "metadata": {},
   "outputs": [],
   "source": [
    "def readFastq(filename):\n",
    "    sequences = []\n",
    "    qualities = []\n",
    "    with open(filename) as fh:\n",
    "        while True:\n",
    "            fh.readline()  # skip name line\n",
    "            seq = fh.readline().rstrip()  # read base sequence\n",
    "            fh.readline()  # skip placeholder line\n",
    "            qual = fh.readline().rstrip() # base quality line\n",
    "            if len(seq) == 0: # If line reaches end of file seq value become 0\n",
    "                break\n",
    "            sequences.append(seq)\n",
    "            qualities.append(qual)\n",
    "    return sequences, qualities"
   ]
  },
  {
   "cell_type": "code",
   "execution_count": 57,
   "metadata": {},
   "outputs": [
    {
     "data": {
      "text/plain": [
       "0"
      ]
     },
     "execution_count": 57,
     "metadata": {},
     "output_type": "execute_result"
    }
   ],
   "source": [
    "a , b = 'ABCDEFG', 'XXXXX'\n",
    "overlap(a, b, min_length=3)"
   ]
  },
  {
   "cell_type": "code",
   "execution_count": 55,
   "metadata": {},
   "outputs": [],
   "source": [
    "phix_genome_fastq, _ = readFastq('data/'+fname)"
   ]
  },
  {
   "cell_type": "code",
   "execution_count": 92,
   "metadata": {},
   "outputs": [],
   "source": [
    "# Brute Force \n",
    "def overlap_all_pairs(fastq,min_length=3):\n",
    "    pairs = set()\n",
    "    for a in fastq:\n",
    "        for b in fastq:\n",
    "            if a != b and overlap(a, b, min_length) > 0:\n",
    "                pairs.add((a,b))\n",
    "    return list(pairs)\n",
    "                "
   ]
  },
  {
   "cell_type": "code",
   "execution_count": 93,
   "metadata": {},
   "outputs": [
    {
     "data": {
      "text/plain": [
       "[('ABCDEFG', 'EFGHIJ'),\n",
       " ('ABCDEFG', 'HIJABC'),\n",
       " ('EFGHIJ', 'ABCDEFG'),\n",
       " ('EFGHIJ', 'HIJABC'),\n",
       " ('HIJABC', 'ABCDEFG'),\n",
       " ('HIJABC', 'EFGHIJ')]"
      ]
     },
     "execution_count": 93,
     "metadata": {},
     "output_type": "execute_result"
    }
   ],
   "source": [
    "from itertools import permutations\n",
    "reads = ['ABCDEFG', 'EFGHIJ', 'HIJABC']\n",
    "list(permutations(reads,2))"
   ]
  },
  {
   "cell_type": "code",
   "execution_count": 103,
   "metadata": {},
   "outputs": [],
   "source": [
    "def naive_overlap_all_pairs(reads,min_length=3):\n",
    "    overlap_pairs = dict()\n",
    "    for a,b in permutations(reads,2):\n",
    "        overlap_length =  overlap(a, b, min_length) \n",
    "        if overlap_length > 0:\n",
    "            overlap_pairs[(a,b)] = overlap_length\n",
    "    return overlap_pairs.keys()"
   ]
  },
  {
   "cell_type": "code",
   "execution_count": 104,
   "metadata": {},
   "outputs": [
    {
     "data": {
      "text/plain": [
       "dict_keys([('ABCDEFG', 'EFGHIJ'), ('EFGHIJ', 'HIJABC'), ('HIJABC', 'ABCDEFG')])"
      ]
     },
     "execution_count": 104,
     "metadata": {},
     "output_type": "execute_result"
    }
   ],
   "source": [
    "reads = ['ABCDEFG', 'EFGHIJ', 'HIJABC']\n",
    "naive_overlap_all_pairs(reads, 3)"
   ]
  },
  {
   "cell_type": "code",
   "execution_count": 100,
   "metadata": {},
   "outputs": [
    {
     "data": {
      "text/plain": [
       "[]"
      ]
     },
     "execution_count": 100,
     "metadata": {},
     "output_type": "execute_result"
    }
   ],
   "source": [
    "overlap_all_pairs(reads, 4)"
   ]
  },
  {
   "cell_type": "code",
   "execution_count": 88,
   "metadata": {},
   "outputs": [
    {
     "data": {
      "text/plain": [
       "[('ACGTAC', 'GTACGT'),\n",
       " ('GTACGA', 'TACGAT'),\n",
       " ('ACGTAC', 'CGTACG'),\n",
       " ('CGTACG', 'TACGTA'),\n",
       " ('ACGTAC', 'GTACGA'),\n",
       " ('GTACGT', 'ACGTAC'),\n",
       " ('CGTACG', 'GTACGT'),\n",
       " ('CGTACG', 'TACGAT'),\n",
       " ('CGTACG', 'GTACGA'),\n",
       " ('TACGTA', 'ACGTAC'),\n",
       " ('TACGTA', 'CGTACG'),\n",
       " ('GTACGT', 'TACGTA')]"
      ]
     },
     "execution_count": 88,
     "metadata": {},
     "output_type": "execute_result"
    }
   ],
   "source": [
    "reads = ['CGTACG', 'TACGTA', 'GTACGT', 'ACGTAC', 'GTACGA', 'TACGAT']\n",
    "overlap_all_pairs(reads, 4)"
   ]
  },
  {
   "cell_type": "code",
   "execution_count": 89,
   "metadata": {},
   "outputs": [
    {
     "data": {
      "text/plain": [
       "[('GTACGA', 'TACGAT'),\n",
       " ('ACGTAC', 'CGTACG'),\n",
       " ('CGTACG', 'GTACGT'),\n",
       " ('CGTACG', 'GTACGA'),\n",
       " ('TACGTA', 'ACGTAC'),\n",
       " ('GTACGT', 'TACGTA')]"
      ]
     },
     "execution_count": 89,
     "metadata": {},
     "output_type": "execute_result"
    }
   ],
   "source": [
    "overlap_all_pairs(reads, 5)"
   ]
  },
  {
   "cell_type": "markdown",
   "metadata": {},
   "source": [
    "```\n",
    "The Python defaultdict type behaves almost exactly like a regular Python dictionary, but if you try to access or modify a missing key, then defaultdict \n",
    "will automatically create the key and generate a default value for it. This makes defaultdict a valuable option for handling missing keys in dictionaries.\n",
    "```"
   ]
  },
  {
   "cell_type": "code",
   "execution_count": 122,
   "metadata": {},
   "outputs": [],
   "source": [
    "from collections import defaultdict\n",
    "\n",
    "def fast_overlap_all_pairs(reads, k):\n",
    "    dic = {}\n",
    "    index = defaultdict(set)\n",
    "    for read in reads:\n",
    "        for i in range(len(read)-k+1):\n",
    "            index[read[i:i+k]].add(read)\n",
    "    #print(index)\n",
    "    # make graph\n",
    "    graph = defaultdict(set)\n",
    "    for r in reads:\n",
    "        for o in index[r[-k:]]:\n",
    "            if r != o:\n",
    "                if overlap(r, o, k):\n",
    "                    graph[r].add(o)\n",
    "    #print(graph)\n",
    "    edges = 0\n",
    "    for read in graph:\n",
    "        edges += len(graph[read])\n",
    "    return(edges, len(graph))"
   ]
  },
  {
   "cell_type": "code",
   "execution_count": 136,
   "metadata": {},
   "outputs": [
    {
     "data": {
      "text/plain": [
       "defaultdict(set,\n",
       "            {'ABC': {'ABCDEFG', 'HIJABC'},\n",
       "             'BCD': {'ABCDEFG'},\n",
       "             'CDE': {'ABCDEFG'},\n",
       "             'DEF': {'ABCDEFG'},\n",
       "             'EFG': {'ABCDEFG', 'EFGHIJ'},\n",
       "             'FGH': {'EFGHIJ'},\n",
       "             'GHI': {'EFGHIJ'},\n",
       "             'HIJ': {'EFGHIJ', 'HIJABC'},\n",
       "             'IJA': {'HIJABC'},\n",
       "             'JAB': {'HIJABC'}})"
      ]
     },
     "execution_count": 136,
     "metadata": {},
     "output_type": "execute_result"
    }
   ],
   "source": [
    "k = 3\n",
    "reads = ['ABCDEFG', 'EFGHIJ', 'HIJABC']\n",
    "dic = {}\n",
    "index = defaultdict(set)\n",
    "for read in reads:\n",
    "    for i in range(len(read)-k+1):\n",
    "        index[read[i:i+k]].add(read)\n",
    "index"
   ]
  },
  {
   "cell_type": "code",
   "execution_count": 134,
   "metadata": {},
   "outputs": [
    {
     "data": {
      "text/plain": [
       "defaultdict(set, {'EFGHIJ': {'HIJABC'}, 'HIJABC': {'ABCDEFG'}})"
      ]
     },
     "execution_count": 134,
     "metadata": {},
     "output_type": "execute_result"
    }
   ],
   "source": [
    "graph = defaultdict(set)\n",
    "for read_a in reads:\n",
    "    for read_b in index[r[-k:]]:\n",
    "        if read_a != read_b:\n",
    "            if overlap(read_a, read_b, k):\n",
    "                graph[read_a].add(read_b)\n",
    "\n",
    "graph"
   ]
  },
  {
   "cell_type": "code",
   "execution_count": 135,
   "metadata": {},
   "outputs": [
    {
     "data": {
      "text/plain": [
       "2"
      ]
     },
     "execution_count": 135,
     "metadata": {},
     "output_type": "execute_result"
    }
   ],
   "source": [
    "edges = 0\n",
    "for read in graph:\n",
    "    edges += len(graph[read])\n",
    "edges"
   ]
  },
  {
   "cell_type": "code",
   "execution_count": 119,
   "metadata": {},
   "outputs": [
    {
     "name": "stdout",
     "output_type": "stream",
     "text": [
      "defaultdict(<class 'set'>, {'ABCDEFG': {'EFGHIJ'}, 'EFGHIJ': {'HIJABC'}, 'HIJABC': {'ABCDEFG'}})\n"
     ]
    },
    {
     "data": {
      "text/plain": [
       "(3, 3)"
      ]
     },
     "execution_count": 119,
     "metadata": {},
     "output_type": "execute_result"
    }
   ],
   "source": [
    "reads = ['ABCDEFG', 'EFGHIJ', 'HIJABC']\n",
    "fast_overlap_all_pairs(reads, 3)"
   ]
  },
  {
   "cell_type": "code",
   "execution_count": 144,
   "metadata": {},
   "outputs": [],
   "source": [
    "from collections import defaultdict\n",
    "\n",
    "def fast_overlap_all_pairs(reads, k):\n",
    "    dic = {}\n",
    "    index = defaultdict(set)\n",
    "    for read in reads:\n",
    "        for i in range(len(read)-k+1):\n",
    "            index[read[i:i+k]].add(read)\n",
    "\n",
    "    graph = defaultdict(set)\n",
    "    for read_a in reads:\n",
    "        for read_b in index[read_a[-k:]]:\n",
    "            if read_a != read_b:\n",
    "                if overlap(read_a, read_b, k):\n",
    "                    graph[read_a].add(read_b)\n",
    "                    \n",
    "    #print(graph)\n",
    "    edges = 0\n",
    "    for read in graph:\n",
    "        edges += len(graph[read])\n",
    "    return(edges, len(graph))"
   ]
  },
  {
   "cell_type": "code",
   "execution_count": 145,
   "metadata": {},
   "outputs": [
    {
     "data": {
      "text/plain": [
       "(904746, 7161)"
      ]
     },
     "execution_count": 145,
     "metadata": {},
     "output_type": "execute_result"
    }
   ],
   "source": [
    "phiX_pairs = fast_overlap_all_pairs(phix_genome_fastq, 30)\n",
    "phiX_pairs"
   ]
  }
 ],
 "metadata": {
  "interpreter": {
   "hash": "7dae6437c12b1d87f00e0e10a4bd22be66a3b8ec05fb1161d95372f28c39fa9e"
  },
  "kernelspec": {
   "display_name": "Python 3.8.8 64-bit ('base': conda)",
   "language": "python",
   "name": "python3"
  },
  "language_info": {
   "codemirror_mode": {
    "name": "ipython",
    "version": 3
   },
   "file_extension": ".py",
   "mimetype": "text/x-python",
   "name": "python",
   "nbconvert_exporter": "python",
   "pygments_lexer": "ipython3",
   "version": "3.8.8"
  },
  "orig_nbformat": 4
 },
 "nbformat": 4,
 "nbformat_minor": 2
}
