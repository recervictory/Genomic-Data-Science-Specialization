{
 "cells": [
  {
   "cell_type": "markdown",
   "metadata": {},
   "source": [
    "# Programming Homework 2 Instructions \n",
    "\n",
    "In a practical, we saw Python code implementing the Boyer-Moore algorithm. Some of the code is for preprocessing the pattern P into the tables needed to execute the bad character and good suffix rules — we did not discuss that code. But we did discuss the code that performs the algorithm given those tables:\n",
    "\n"
   ]
  },
  {
   "cell_type": "code",
   "execution_count": 5,
   "metadata": {},
   "outputs": [],
   "source": [
    "# Print in color\n",
    "def cprint(dna):\n",
    "    from termcolor import colored\n",
    "    colors = {'A':'red', 'C' : 'green', 'G' :'magenta', 'T' : 'blue','N':'white'}\n",
    "    print(\"\".join(colored(base, colors[base] if base in 'ATCGN' else 'white') for base in dna))"
   ]
  },
  {
   "cell_type": "code",
   "execution_count": 6,
   "metadata": {},
   "outputs": [],
   "source": [
    "def readGenome(filename):\n",
    "    genome = ''\n",
    "    with open(filename, 'r') as f:\n",
    "        for line in f:\n",
    "            # ignore header line with genome information\n",
    "            if not line[0] == '>':\n",
    "                genome += line.rstrip()\n",
    "    return genome"
   ]
  },
  {
   "cell_type": "code",
   "execution_count": 7,
   "metadata": {},
   "outputs": [],
   "source": [
    "def naive(pattern,text):\n",
    "    occurrences = []\n",
    "    for i in range(len(text) - len(pattern) + 1): #loop over alignments\n",
    "        match = True\n",
    "        for j in range(len(pattern)):\n",
    "            if text[i+j] != pattern[j]:\n",
    "                match = False\n",
    "                break\n",
    "        if match:\n",
    "            occurrences.append(i)\n",
    "    return occurrences"
   ]
  },
  {
   "cell_type": "code",
   "execution_count": 120,
   "metadata": {},
   "outputs": [],
   "source": [
    "def naive_count(pattern,text):\n",
    "    occurrences = []\n",
    "    match_count = 0\n",
    "    alignment_count = 0\n",
    "    for i in range(len(text) - len(pattern) + 1): #loop over alignments\n",
    "        match = True\n",
    "        alignment_count += 1\n",
    "        for j in range(len(pattern)):\n",
    "            match_count += 1\n",
    "            if text[i+j] != pattern[j]:\n",
    "                match = False\n",
    "                break\n",
    "        if match:\n",
    "            occurrences.append(i)\n",
    "    print('Count: ',alignment_count) # len(human_chr1) - len(pattern) +1\n",
    "    print('Match Count: ',match_count )\n",
    "    return occurrences"
   ]
  },
  {
   "cell_type": "markdown",
   "metadata": {},
   "source": [
    "### Question 1\n",
    "How many alignments does the naive exact matching algorithm try when matching the string `GGCGCGGTGGCTCACGCCTGTAATCCCAGCACTTTGGGAGGCCGAGG` (derived from human Alu sequences) to the excerpt of human chromosome 1?  (Don't consider reverse complements.)"
   ]
  },
  {
   "cell_type": "code",
   "execution_count": 8,
   "metadata": {},
   "outputs": [
    {
     "name": "stdout",
     "output_type": "stream",
     "text": [
      "Count:  799954\n",
      "Match Count:  984143\n",
      "Alignmnet Count : 799954\n",
      "37597838\n"
     ]
    }
   ],
   "source": [
    "human_chr1 = readGenome('data/chr1.GRCh38.excerpt.fasta')\n",
    "\n",
    "pattern = 'GGCGCGGTGGCTCACGCCTGTAATCCCAGCACTTTGGGAGGCCGAGG'\n",
    "naive_count(pattern,human_chr1)\n",
    "print(\"Alignmnet Count :\", len(human_chr1) - len(pattern) +1)\n",
    "\n",
    "print(799954 * len(pattern))"
   ]
  },
  {
   "cell_type": "code",
   "execution_count": 19,
   "metadata": {},
   "outputs": [],
   "source": [
    "def boyer_moore(p, p_bm, t):\n",
    "    \"\"\" Do Boyer-Moore matching. p=pattern, t=text,\n",
    "        p_bm=BoyerMoore object for p \"\"\"\n",
    "    i = 0\n",
    "    occurrences = []\n",
    "    alignment_count = 0 # Added\n",
    "    while i < len(t) - len(p) + 1:\n",
    "        alignment_count += 1\n",
    "        shift = 1\n",
    "        mismatched = False\n",
    "        for j in range(len(p)-1, -1, -1):\n",
    "            if p[j] != t[i+j]:\n",
    "                skip_bc = p_bm.bad_character_rule(j, t[i+j])\n",
    "                skip_gs = p_bm.good_suffix_rule(j)\n",
    "                shift = max(shift, skip_bc, skip_gs)\n",
    "                mismatched = True\n",
    "                break\n",
    "        if not mismatched:\n",
    "            occurrences.append(i)\n",
    "            skip_gs = p_bm.match_skip()\n",
    "            shift = max(shift, skip_gs)\n",
    "        i += shift\n",
    "    return occurrences, alignment_count"
   ]
  },
  {
   "cell_type": "code",
   "execution_count": 23,
   "metadata": {},
   "outputs": [
    {
     "name": "stdout",
     "output_type": "stream",
     "text": [
      "127974\n"
     ]
    }
   ],
   "source": [
    "pattern_bm = BoyerMoore(pattern, alphabet='ACGT')\n",
    "occurrences, alignments = boyer_moore(pattern, pattern_bm, human_chr1)\n",
    "print(alignments)"
   ]
  },
  {
   "cell_type": "code",
   "execution_count": 21,
   "metadata": {},
   "outputs": [],
   "source": [
    "from bm_preproc import BoyerMoore"
   ]
  },
  {
   "cell_type": "markdown",
   "metadata": {},
   "source": [
    "This module provides the BoyerMoore class, which encapsulates the preprocessing info used by the boyer_moore function above. Second, download the provided excerpt of human chromosome 1:"
   ]
  },
  {
   "cell_type": "code",
   "execution_count": 3,
   "metadata": {},
   "outputs": [
    {
     "data": {
      "text/plain": [
       "'data//chr1.GRCh38.excerpt.fasta'"
      ]
     },
     "execution_count": 3,
     "metadata": {},
     "output_type": "execute_result"
    }
   ],
   "source": [
    "import wget\n",
    "url = 'http://d28rh4a8wq0iu5.cloudfront.net/ads1/data/chr1.GRCh38.excerpt.fasta'\n",
    "wget.download(url,out='data/')"
   ]
  },
  {
   "cell_type": "markdown",
   "metadata": {},
   "source": [
    "Third, implement versions of the naive exact matching and Boyer-Moore algorithms that additionally count and return (a) the number of character comparisons performed and (b) the number of alignments tried. Roughly speaking, these measure how much work the two different algorithms are doing."
   ]
  },
  {
   "cell_type": "code",
   "execution_count": 7,
   "metadata": {},
   "outputs": [
    {
     "data": {
      "text/plain": [
       "<bm_preproc.BoyerMoore at 0x20b5d808e50>"
      ]
     },
     "execution_count": 7,
     "metadata": {},
     "output_type": "execute_result"
    }
   ],
   "source": [
    "p = 'word'\n",
    "t = 'there would have been a time for such a word'\n",
    "lowercase_alphabet = 'abcdefghijklmnopqrstuvwxyz '\n",
    "p_bm = BoyerMoore(p, lowercase_alphabet)\n",
    "occurrences, num_alignments, num_character_comparisons = boyer_moore_with_counts(p, p_bm, t)\n",
    "print(occurrences, num_alignments, num_character_comparisons)"
   ]
  },
  {
   "cell_type": "markdown",
   "metadata": {},
   "source": [
    "\n",
    "### Question \n",
    "Index-assisted approximate matching. In practicals, we built a Python class called **`Index`**\n",
    "\n",
    "implementing an ordered-list version of the k-mer index.  The **`Index`** class is copied below."
   ]
  },
  {
   "cell_type": "code",
   "execution_count": 1,
   "metadata": {},
   "outputs": [],
   "source": [
    "import bisect\n",
    "\n",
    "class Index(object):\n",
    "    def __init__(self, t, k):\n",
    "        ''' Create index from all substrings of size 'length' '''\n",
    "        self.k = k  # k-mer length (k)\n",
    "        self.index = []\n",
    "        for i in range(len(t) - k + 1):  # for each k-mer\n",
    "            self.index.append((t[i:i+k], i))  # add (k-mer, offset) pair\n",
    "        self.index.sort()  # alphabetize by k-mer\n",
    "    \n",
    "    def query(self, p):\n",
    "        ''' Return index hits for first k-mer of P '''\n",
    "        kmer = p[:self.k]  # query with first k-mer\n",
    "        i = bisect.bisect_left(self.index, (kmer, -1))  # binary search\n",
    "        hits = []\n",
    "        while i < len(self.index):  # collect matching index entries\n",
    "            if self.index[i][0] != kmer:\n",
    "                break\n",
    "            hits.append(self.index[i][1])\n",
    "            i += 1\n",
    "        return hits"
   ]
  },
  {
   "cell_type": "markdown",
   "metadata": {},
   "source": [
    "We also implemented the pigeonhole principle using Boyer-Moore as our exact matching algorithm.\n",
    "\n",
    "Implement the pigeonhole principle using \\verb|Index|Index to find exact matches for the partitions. Assume P always has length 24, and that we are looking for approximate matches with up to 2 mismatches (substitutions). We will use an 8-mer index.\n",
    "\n",
    "Download the Python module for building a k-mer index. "
   ]
  },
  {
   "cell_type": "code",
   "execution_count": 13,
   "metadata": {},
   "outputs": [],
   "source": [
    "import wget\n",
    "url = 'https://d28rh4a8wq0iu5.cloudfront.net/ads1/code/kmer_index.py'\n",
    "# wget.download(url)"
   ]
  },
  {
   "cell_type": "markdown",
   "metadata": {},
   "source": [
    "---\n",
    "Write a function that, given a length-24 pattern P and given an `Index` object built on 8-mers, finds all approximate occurrences of P within T with up to 2 mismatches. Insertions and deletions are not allowed. Don't consider any reverse complements.\n",
    "\n",
    "How many times does the string `GGCGCGGTGGCTCACGCCTGTAAT`, which is derived from a human Alu sequence, occur with up to 2 substitutions in the excerpt of human chromosome 1?  (Don't consider reverse complements here.)\n",
    "\n",
    "Hint 1: Multiple index hits might direct you to the same match multiple times, but be careful not to count a match more than once.\n",
    "\n",
    "Hint 2: You can check your work by comparing the output of your new function to that of the `naive_2mm` function implemented in the previous module.\n",
    "\n",
    "---"
   ]
  },
  {
   "cell_type": "code",
   "execution_count": 121,
   "metadata": {},
   "outputs": [],
   "source": [
    "human_chr1 = readGenome('data/chr1.GRCh38.excerpt.fasta')\n",
    "\n",
    "humanIndex = Index(human_chr1,8)\n",
    "\n",
    "def queryIndex(pattern,text,index):\n",
    "    k = index.k\n",
    "    offset = []\n",
    "    for i in index.query(pattern):\n",
    "        if pattern[k:] == text[i + k: i + len(pattern)]:\n",
    "            offset.append(i)\n",
    "    return offset\n",
    "        \n",
    "\n"
   ]
  },
  {
   "cell_type": "code",
   "execution_count": 122,
   "metadata": {},
   "outputs": [
    {
     "data": {
      "text/plain": [
       "[56922, 262042, 364263, 657496, 717706]"
      ]
     },
     "execution_count": 122,
     "metadata": {},
     "output_type": "execute_result"
    }
   ],
   "source": [
    "alu_pattern = 'GGCGCGGTGGCTCACGCCTGTAAT'\n",
    "queryIndex(alu_pattern,human_chr1,humanIndex)"
   ]
  },
  {
   "cell_type": "code",
   "execution_count": 128,
   "metadata": {},
   "outputs": [],
   "source": [
    "def naive_hmm(pattern,text,hamming_distance = 2):\n",
    "    occurrences = []\n",
    "    for i in range(len(text) - len(pattern) + 1): #loop over alignments\n",
    "        match = True\n",
    "        miss_match_count = 0\n",
    "        for j in range(len(pattern)):\n",
    "            if text[i+j] != pattern[j]:\n",
    "                if miss_match_count >= hamming_distance:\n",
    "                    match = False\n",
    "                    break\n",
    "                else:\n",
    "                     miss_match_count += 1\n",
    "        if match:\n",
    "            occurrences.append(i)\n",
    "    return(occurrences)"
   ]
  },
  {
   "cell_type": "code",
   "execution_count": 129,
   "metadata": {},
   "outputs": [
    {
     "data": {
      "text/plain": [
       "19"
      ]
     },
     "execution_count": 129,
     "metadata": {},
     "output_type": "execute_result"
    }
   ],
   "source": [
    "human_chr1 = readGenome('data/chr1.GRCh38.excerpt.fasta')\n",
    "\n",
    "alu_pattern = 'GGCGCGGTGGCTCACGCCTGTAAT'\n",
    "len( naive_hmm(alu_pattern,human_chr1))\n"
   ]
  },
  {
   "cell_type": "markdown",
   "metadata": {},
   "source": [
    "\n",
    "### Question 5\n",
    "Using the instructions given in Question 4, how many total index hits are there when searching for occurrences of `GGCGCGGTGGCTCACGCCTGTAAT` with up to 2 substitutions in the excerpt of human chromosome 1?\n",
    "\n",
    "  (Don't consider reverse complements.)\n",
    "\n",
    "Hint: You should be able to use the `boyer_moore` function (or the slower `naive` function to double-check your answer."
   ]
  },
  {
   "cell_type": "code",
   "execution_count": 130,
   "metadata": {},
   "outputs": [],
   "source": [
    "from bm_preproc import BoyerMoore\n",
    "\n",
    "def approximate_match(pattern,text,n):\n",
    "    segement_length = int(round(len(pattern)/(n+1)))\n",
    "    all_match = set()\n",
    "    for i in range(n + 1):\n",
    "        start = i * segement_length\n",
    "        end = min( (i + 1) * segement_length, len(pattern))\n",
    "        pattern_bm = BoyerMoore(pattern[start:end],alphabet=\"ACGT\")\n",
    "        matches, _ = boyer_moore(pattern[start:end],pattern_bm,text)\n",
    "        \n",
    "        for match in matches:\n",
    "            if match < start or match - len(pattern) > len(text):\n",
    "                continue\n",
    "            \n",
    "            mismatch = 0\n",
    "            # Prefix matches\n",
    "            for j in range(0,start):\n",
    "                if not pattern[j] == text[match - start + j]:\n",
    "                    mismatch += 1\n",
    "                    if mismatch > n:\n",
    "                        break\n",
    "            \n",
    "            # Sufix matches\n",
    "            for j in range(end,len(pattern)):\n",
    "                if not pattern[j] == text[match - start + j]:\n",
    "                    mismatch += 1\n",
    "                    if mismatch > n:\n",
    "                        break\n",
    "            \n",
    "            if mismatch < n:\n",
    "                all_match.add(match - start)\n",
    "    return list(all_match) "
   ]
  },
  {
   "cell_type": "code",
   "execution_count": 131,
   "metadata": {},
   "outputs": [
    {
     "data": {
      "text/plain": [
       "14"
      ]
     },
     "execution_count": 131,
     "metadata": {},
     "output_type": "execute_result"
    }
   ],
   "source": [
    "pattern = 'GGCGCGGTGGCTCACGCCTGTAAT'\n",
    "human_chr1 = readGenome('data/chr1.GRCh38.excerpt.fasta')\n",
    "len(approximate_match(pattern,human_chr1,2))"
   ]
  },
  {
   "cell_type": "code",
   "execution_count": 142,
   "metadata": {},
   "outputs": [],
   "source": [
    "def approximate_match(pattern,text,n):\n",
    "    segement_length = int(round(len(pattern)/(n+1)))\n",
    "    all_match = set()\n",
    "    text_index = Index(text,segement_length)\n",
    "    index_hits = 0\n",
    "    for i in range(n + 1):\n",
    "        start = i * segement_length\n",
    "        end = min( (i + 1) * segement_length, len(pattern))\n",
    "        \n",
    "        matches = text_index.query(pattern[start:end])\n",
    "        \n",
    "        for match in matches:\n",
    "            index_hits += 1\n",
    "            if match < start or match - len(pattern) > len(text):\n",
    "                continue\n",
    "            \n",
    "            mismatch = 0\n",
    "            # Prefix matches\n",
    "            for j in range(0,start):\n",
    "                if not pattern[j] == text[match - start + j]:\n",
    "                    mismatch += 1\n",
    "                    if mismatch > n:\n",
    "                        break\n",
    "            \n",
    "            # Sufix matches\n",
    "            for j in range(end,len(pattern)):\n",
    "                if not pattern[j] == text[match - start + j]:\n",
    "                    mismatch += 1\n",
    "                    if mismatch > n:\n",
    "                        break\n",
    "            \n",
    "            if mismatch <= n:\n",
    "                all_match.add(match - start)\n",
    "    return list(all_match), index_hits"
   ]
  },
  {
   "cell_type": "code",
   "execution_count": 146,
   "metadata": {},
   "outputs": [
    {
     "name": "stdout",
     "output_type": "stream",
     "text": [
      "[X] Occurence of 2 substitutions using Boyer Moore: 19\n",
      "[X] Total Index its using Boyer Moore: 90\n"
     ]
    }
   ],
   "source": [
    "pattern = 'GGCGCGGTGGCTCACGCCTGTAAT'\n",
    "\n",
    "matches,hits = approximate_match(pattern,human_chr1,2)\n",
    "\n",
    "print(\"[X] Occurence of 2 substitutions using Boyer Moore:\", len(matches))\n",
    "print(\"[X] Total Index its using Boyer Moore:\", hits)"
   ]
  },
  {
   "cell_type": "markdown",
   "metadata": {},
   "source": [
    "### Question 6\n",
    "\n",
    "Let's examine whether there is a benefit to using an index built using **subsequences** of T rather than **substrings**, as we discussed in the \"**Variations on k-mer indexes**\" video.  We'll consider subsequences involving every N characters.  For example, if we split `ATATAT` into two substring partitions, we would get partitions `ATA` (the first half) and `TAT` (second half).  But if we split `ATATAT` into two  subsequences  by taking every other character, we would get `AAA` (first, third and fifth characters) and `TTT` (second, fourth and sixth).\n",
    "\n",
    "Another way to visualize this is using numbers to show how each character of P is allocated to a partition.  Splitting a length-6 pattern into two substrings could be represented as `111222`, and splitting into two subsequences of every other character could be represented as `121212`\n",
    "\n",
    "The following class **`SubseqIndex`** is a more general implementation of **`Index`** that additionally handles subsequences. It only considers subsequences that take every Nth character:"
   ]
  },
  {
   "cell_type": "code",
   "execution_count": 138,
   "metadata": {},
   "outputs": [],
   "source": [
    "import bisect\n",
    "   \n",
    "class SubseqIndex(object):\n",
    "    \"\"\" Holds a subsequence index for a text T \"\"\"\n",
    "    \n",
    "    def __init__(self, t, k, ival):\n",
    "        \"\"\" Create index from all subsequences consisting of k characters\n",
    "            spaced ival positions apart.  E.g., SubseqIndex(\"ATAT\", 2, 2)\n",
    "            extracts (\"AA\", 0) and (\"TT\", 1). \"\"\"\n",
    "        self.k = k  # num characters per subsequence extracted\n",
    "        self.ival = ival  # space between them; 1=adjacent, 2=every other, etc\n",
    "        self.index = []\n",
    "        self.span = 1 + ival * (k - 1) # total length of each index pattern e.g: 1 + 2 * (2 - 1) ==> 3 as ival 2: every other\n",
    "        \n",
    "        for i in range(len(t) - self.span + 1):  # for each subseq\n",
    "            self.index.append((t[i:i+self.span:ival], i))  # add (subseq, offset)\n",
    "        self.index.sort()  # alphabetize by subseq\n",
    "    \n",
    "    def query(self, p):\n",
    "        \"\"\" Return index hits for first subseq of p \"\"\"\n",
    "        subseq = p[:self.span:self.ival]  # query with first subseq\n",
    "        i = bisect.bisect_left(self.index, (subseq, -1))  # binary search\n",
    "        hits = []\n",
    "        while i < len(self.index):  # collect matching index entries\n",
    "            if self.index[i][0] != subseq:\n",
    "                break\n",
    "            hits.append(self.index[i][1])\n",
    "            i += 1\n",
    "        return hits"
   ]
  },
  {
   "cell_type": "code",
   "execution_count": 139,
   "metadata": {},
   "outputs": [
    {
     "name": "stdout",
     "output_type": "stream",
     "text": [
      "[('CGGTCCTT', 2), ('GCTCACGA', 1), ('GGGGCGTA', 0)]\n"
     ]
    }
   ],
   "source": [
    "ind = SubseqIndex('GGCGCGGTGGCTCACGCCTGTAAT', 8, 3)\n",
    "print(ind.index)"
   ]
  },
  {
   "cell_type": "code",
   "execution_count": 78,
   "metadata": {},
   "outputs": [
    {
     "data": {
      "text/plain": [
       "24"
      ]
     },
     "execution_count": 78,
     "metadata": {},
     "output_type": "execute_result"
    }
   ],
   "source": [
    "len('GGCGCGGTGGCTCACGCCTGTAAT')"
   ]
  },
  {
   "cell_type": "markdown",
   "metadata": {},
   "source": [
    "**Write a function that, given a length-24 pattern P and given a `SubseqIndex` object built with k = 8 and ival = 3, finds all approximate occurrences of P within T with up to 2 mismatches.**\n",
    "\n",
    "When using this function, how many total index hits are there when searching for `GGCGCGGTGGCTCACGCCTGTAAT` with up to 2 substitutions in the excerpt of human chromosome 1?  (Again, don't consider reverse complements.)"
   ]
  },
  {
   "cell_type": "code",
   "execution_count": 153,
   "metadata": {},
   "outputs": [],
   "source": [
    "\n",
    "# Approximate Match with Sub Sequence\n",
    "\n",
    "def approximate_match(pattern,text,k,ival,n=2):\n",
    "    segment_length = int(round(len(p) / (n + 1)))\n",
    "    all_match = set()\n",
    "    text_index = SubseqIndex(text,segment_length,ival)\n",
    "    index_hits = 0\n",
    "    for i in range(n + 1):\n",
    "        start = i \n",
    "        matches = text_index.query(pattern[start:])\n",
    "        \n",
    "        for match in matches:\n",
    "            index_hits += 1\n",
    "            if match < start or match - len(pattern) > len(text):\n",
    "                continue\n",
    "            \n",
    "            mismatch = 0\n",
    "            # Prefix matches\n",
    "            for j in range(0,start):\n",
    "                if not pattern[j] == text[match - start + j]:\n",
    "                    mismatch += 1\n",
    "                    if mismatch > n:\n",
    "                        break\n",
    "            \n",
    "            # Sufix matches\n",
    "            for j in range(0,len(pattern)):\n",
    "                if not pattern[j] == text[match - start + j]:\n",
    "                    mismatch += 1\n",
    "                    if mismatch > n:\n",
    "                        break\n",
    "            \n",
    "            if mismatch <= n:\n",
    "                all_match.add(match - start)\n",
    "    return list(all_match), index_hits"
   ]
  },
  {
   "cell_type": "code",
   "execution_count": 155,
   "metadata": {},
   "outputs": [
    {
     "name": "stdout",
     "output_type": "stream",
     "text": [
      "[X] Occurence of 2 substitutions using Boyer Moore: 19\n",
      "[X] Total Index its using Boyer Moore: 79\n"
     ]
    }
   ],
   "source": [
    "matches,hits = approximate_match(pattern,human_chr1,8,3)\n",
    "\n",
    "print(\"[X] Occurence of 2 substitutions using Boyer Moore:\", len(matches))\n",
    "print(\"[X] Total Index its using Boyer Moore:\", hits)"
   ]
  }
 ],
 "metadata": {
  "interpreter": {
   "hash": "7dae6437c12b1d87f00e0e10a4bd22be66a3b8ec05fb1161d95372f28c39fa9e"
  },
  "kernelspec": {
   "display_name": "Python 3.8.8 64-bit ('base': conda)",
   "language": "python",
   "name": "python3"
  },
  "language_info": {
   "codemirror_mode": {
    "name": "ipython",
    "version": 3
   },
   "file_extension": ".py",
   "mimetype": "text/x-python",
   "name": "python",
   "nbconvert_exporter": "python",
   "pygments_lexer": "ipython3",
   "version": "3.8.8"
  },
  "orig_nbformat": 4
 },
 "nbformat": 4,
 "nbformat_minor": 2
}
