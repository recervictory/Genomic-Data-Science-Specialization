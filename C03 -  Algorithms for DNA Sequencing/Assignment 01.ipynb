{
 "cells": [
  {
   "cell_type": "markdown",
   "metadata": {},
   "source": [
    "# Programming Homework 1"
   ]
  },
  {
   "cell_type": "markdown",
   "metadata": {},
   "source": [
    "## ReadMe"
   ]
  },
  {
   "cell_type": "code",
   "execution_count": 3,
   "metadata": {},
   "outputs": [
    {
     "name": "stdout",
     "output_type": "stream",
     "text": [
      "\u001b[37mt\u001b[0m\u001b[37mh\u001b[0m\u001b[37mi\u001b[0m\u001b[37ms\u001b[0m\u001b[37m \u001b[0m\u001b[37mi\u001b[0m\u001b[37ms\u001b[0m\u001b[37m \u001b[0m\u001b[37ma\u001b[0m\u001b[37m \u001b[0m\u001b[31mA\u001b[0m\u001b[31mA\u001b[0m\u001b[31mA\u001b[0m\u001b[31mA\u001b[0m\u001b[31mA\u001b[0m\u001b[34mT\u001b[0m\u001b[34mT\u001b[0m\u001b[34mT\u001b[0m\u001b[34mT\u001b[0m\u001b[37mN\u001b[0m\u001b[35mG\u001b[0m\u001b[32mC\u001b[0m\u001b[32mC\u001b[0m\n"
     ]
    }
   ],
   "source": [
    "# Print in color\n",
    "def cprint(dna):\n",
    "    from termcolor import colored\n",
    "    colors = {'A':'red', 'C' : 'green', 'G' :'magenta', 'T' : 'blue','N':'white'}\n",
    "    print(\"\".join(colored(base, colors[base] if base in 'ATCGN' else 'white') for base in dna))\n",
    "    \n",
    "cprint('this is a AAAAATTTTNGCC')"
   ]
  },
  {
   "cell_type": "code",
   "execution_count": 2,
   "metadata": {},
   "outputs": [
    {
     "data": {
      "text/plain": [
       "'white'"
      ]
     },
     "execution_count": 2,
     "metadata": {},
     "output_type": "execute_result"
    }
   ],
   "source": [
    "colors = {'A':'red', 'C' : 'green', 'G' :'magenta', 'T' : 'blue','N':'white'}\n",
    "base ='a'\n",
    "colors[base] if base in 'ATCGN' else 'white'"
   ]
  },
  {
   "cell_type": "markdown",
   "metadata": {},
   "source": [
    "### In lecture and in a practical, we saw an implementation of the naive exact matching algorithm:"
   ]
  },
  {
   "cell_type": "code",
   "execution_count": 4,
   "metadata": {},
   "outputs": [],
   "source": [
    "def naive(pattern,text):\n",
    "    occurrences = []\n",
    "    for i in range(len(text) - len(pattern) + 1): #loop over alignments\n",
    "        match = True\n",
    "        for j in range(len(pattern)):\n",
    "            if text[i+j] != pattern[j]:\n",
    "                match = False\n",
    "                break\n",
    "        if match:\n",
    "            occurrences.append(i)\n",
    "    return(occurrences)\n",
    "        "
   ]
  },
  {
   "cell_type": "markdown",
   "metadata": {},
   "source": [
    "### ...and we saw a function that takes a DNA string and returns its reverse complement:"
   ]
  },
  {
   "cell_type": "code",
   "execution_count": 5,
   "metadata": {},
   "outputs": [],
   "source": [
    "def reverseComplemnet(dna):\n",
    "    complement = {'A': 'T', 'C':'G', 'G':'C', 'T':'A', 'N':'N'}\n",
    "    reverse_dna = ''\n",
    "    for base in dna:\n",
    "        reverse_dna = complement[base] + reverse_dna\n",
    "    return reverse_dna"
   ]
  },
  {
   "cell_type": "markdown",
   "metadata": {},
   "source": [
    "### ...and we saw a function that parses a DNA reference genome from a file in the FASTA format."
   ]
  },
  {
   "cell_type": "code",
   "execution_count": 6,
   "metadata": {},
   "outputs": [],
   "source": [
    "def readGenome(filename):\n",
    "    genome = ''\n",
    "    with open(filename, 'r') as f:\n",
    "        for line in f:\n",
    "            # ignore header line with genome information\n",
    "            if not line[0] == '>':\n",
    "                genome += line.rstrip()\n",
    "    return genome"
   ]
  },
  {
   "cell_type": "markdown",
   "metadata": {},
   "source": [
    "### ...and we saw a function that parses the read and quality strings from a FASTQ file containing sequencing reads."
   ]
  },
  {
   "cell_type": "code",
   "execution_count": 7,
   "metadata": {},
   "outputs": [],
   "source": [
    "def readFastq(filename):\n",
    "    sequences = []\n",
    "    qualities = []\n",
    "    with open(filename) as fh:\n",
    "        while True:\n",
    "            fh.readline()  # skip name line\n",
    "            seq = fh.readline().rstrip()  # read base sequence\n",
    "            fh.readline()  # skip placeholder line\n",
    "            qual = fh.readline().rstrip() # base quality line\n",
    "            if len(seq) == 0: # If line reaches end of file seq value become 0\n",
    "                break\n",
    "            sequences.append(seq)\n",
    "            qualities.append(qual)\n",
    "    return sequences, qualities"
   ]
  },
  {
   "cell_type": "markdown",
   "metadata": {},
   "source": [
    "## Assignment\n",
    "First, implement a version of the naive exact matching algorithm that is strand-aware. That is, instead of looking only for occurrences of P in T, additionally look for occurrences of thereverse complement of P in T. If P is ACT, your function should find occurrences of both ACTand its reverse complement AGT in T.\n",
    "\n",
    "If P and its reverse complement are identical (e.g. AACGTT), then a given match offset should be reported only once. So if your new function is called naive_with_rc, then the old naivefunction and your new naive_with_rc function should return the same results when P equals its reverse complement."
   ]
  },
  {
   "cell_type": "code",
   "execution_count": 8,
   "metadata": {},
   "outputs": [],
   "source": [
    "def naive_with_rc(pattern,text):\n",
    "    return list(set(naive(pattern,text) + naive(reverseComplemnet(pattern),text)))"
   ]
  },
  {
   "cell_type": "markdown",
   "metadata": {},
   "source": [
    "### Test 1"
   ]
  },
  {
   "cell_type": "code",
   "execution_count": 9,
   "metadata": {},
   "outputs": [
    {
     "name": "stdout",
     "output_type": "stream",
     "text": [
      "[10, 23]\n"
     ]
    }
   ],
   "source": [
    "p = 'CCC'\n",
    "ten_as = 'AAAAAAAAAA'\n",
    "t = ten_as + 'CCC' +  ten_as + 'GGG' + ten_as\n",
    "occurrences = naive_with_rc(p, t)\n",
    "print(occurrences)"
   ]
  },
  {
   "cell_type": "markdown",
   "metadata": {},
   "source": [
    "### Test 02"
   ]
  },
  {
   "cell_type": "code",
   "execution_count": 10,
   "metadata": {},
   "outputs": [
    {
     "name": "stdout",
     "output_type": "stream",
     "text": [
      "[24, 10]\n"
     ]
    }
   ],
   "source": [
    "p = 'CGCG'\n",
    "t = ten_as + 'CGCG' + ten_as + 'CGCG' + ten_as\n",
    "occurrences = naive_with_rc(p, t)\n",
    "print(occurrences)"
   ]
  },
  {
   "cell_type": "markdown",
   "metadata": {},
   "source": [
    "### Test 03\n"
   ]
  },
  {
   "cell_type": "code",
   "execution_count": 11,
   "metadata": {},
   "outputs": [],
   "source": [
    "phix_genome = readGenome('data/phix.fa')"
   ]
  },
  {
   "cell_type": "code",
   "execution_count": 12,
   "metadata": {},
   "outputs": [],
   "source": [
    "occurrences = naive_with_rc('ATTA', phix_genome)"
   ]
  },
  {
   "cell_type": "code",
   "execution_count": 13,
   "metadata": {},
   "outputs": [
    {
     "name": "stdout",
     "output_type": "stream",
     "text": [
      "offset of leftmost occurrence: 62\n"
     ]
    }
   ],
   "source": [
    "print('offset of leftmost occurrence: %d' % min(occurrences))"
   ]
  },
  {
   "cell_type": "code",
   "execution_count": 14,
   "metadata": {},
   "outputs": [
    {
     "name": "stdout",
     "output_type": "stream",
     "text": [
      "# occurrences: 60\n"
     ]
    }
   ],
   "source": [
    "print('# occurrences: %d' % len(occurrences))"
   ]
  },
  {
   "cell_type": "markdown",
   "metadata": {},
   "source": [
    "## Programming Homework 1"
   ]
  },
  {
   "cell_type": "markdown",
   "metadata": {},
   "source": [
    "#### Downloading Lambda Virus Genomes \n"
   ]
  },
  {
   "cell_type": "code",
   "execution_count": 15,
   "metadata": {},
   "outputs": [
    {
     "data": {
      "text/plain": [
       "'data//lambda_virus (1).fa'"
      ]
     },
     "execution_count": 15,
     "metadata": {},
     "output_type": "execute_result"
    }
   ],
   "source": [
    "import wget\n",
    "url = 'https://d28rh4a8wq0iu5.cloudfront.net/ads1/data/lambda_virus.fa'\n",
    "#wget.download(url,out='data/')"
   ]
  },
  {
   "cell_type": "code",
   "execution_count": 16,
   "metadata": {},
   "outputs": [],
   "source": [
    "# Reading Lambda Virus Genome\n",
    "lambda_genome = readGenome('data/lambda_virus.fa')"
   ]
  },
  {
   "cell_type": "markdown",
   "metadata": {},
   "source": [
    "\n",
    "#### Question 1 : How many times does `AGGT` or its reverse complement `ACCT` occur in the lambda virus genome?  E.g. if `AGGT` occurs 10 times and `ACCT` occurs 12 times, you should report 22."
   ]
  },
  {
   "cell_type": "code",
   "execution_count": 17,
   "metadata": {},
   "outputs": [
    {
     "name": "stdout",
     "output_type": "stream",
     "text": [
      "# occurrences of AGGT: 306 Times\n"
     ]
    }
   ],
   "source": [
    "occurrences = naive_with_rc('AGGT', lambda_genome)\n",
    "print('# occurrences of AGGT: %d Times' % len(occurrences))"
   ]
  },
  {
   "cell_type": "markdown",
   "metadata": {},
   "source": [
    "#### Question 2: How many times does `TTAA` or its reverse complement occur in the lambda virus genome?  \n",
    "\n",
    "Hint: `TTAA `and its reverse complement are equal, so remember not to double count."
   ]
  },
  {
   "cell_type": "code",
   "execution_count": 18,
   "metadata": {},
   "outputs": [
    {
     "name": "stdout",
     "output_type": "stream",
     "text": [
      "# occurrences of TTAA: 195 Times\n"
     ]
    }
   ],
   "source": [
    "occurrences = naive_with_rc('TTAA', lambda_genome)\n",
    "print('# occurrences of TTAA: %d Times' % len(occurrences))"
   ]
  },
  {
   "cell_type": "markdown",
   "metadata": {},
   "source": [
    "#### Question 3: What is the offset of the leftmost occurrence of `ACTAAGT` or its reverse complement in the Lambda virus genome?  E.g. if the leftmost occurrence of `ACTAAGT` is at offset 40 (0-based) and the leftmost occurrence of its reverse complement CTTAGT is at offset 29, then report 29."
   ]
  },
  {
   "cell_type": "code",
   "execution_count": 21,
   "metadata": {},
   "outputs": [
    {
     "name": "stdout",
     "output_type": "stream",
     "text": [
      "offset of leftmost occurrence: 26028\n"
     ]
    }
   ],
   "source": [
    "occurrences = naive_with_rc('ACTAAGT', lambda_genome)\n",
    "print('offset of leftmost occurrence: %d' % min(occurrences))"
   ]
  },
  {
   "cell_type": "markdown",
   "metadata": {},
   "source": [
    "#### Question 4: What is the offset of the leftmost occurrence of `AGTCGA` or its reverse complement in the Lambda virus genome?\n",
    "\n",
    "\n"
   ]
  },
  {
   "cell_type": "code",
   "execution_count": 19,
   "metadata": {},
   "outputs": [
    {
     "name": "stdout",
     "output_type": "stream",
     "text": [
      "offset of leftmost occurrence: 450\n"
     ]
    }
   ],
   "source": [
    "occurrences = naive_with_rc('AGTCGA', lambda_genome)\n",
    "print('offset of leftmost occurrence: %d' % min(occurrences))"
   ]
  },
  {
   "cell_type": "markdown",
   "metadata": {},
   "source": [
    "### Question 5: As we will discuss, sometimes we would like to find approximate matches for P in T. That is, we want to find occurrences with one or more differences.\n",
    "\n",
    "For Questions 5 and 6, make a new version of the \\verb|naive|naive function called \\verb|naive_2mm|naive_2mm that allows up to 2 mismatches per occurrence. Unlike for the previous questions, do not consider the reverse complement here.  We're looking for approximate matches for P itself, not its reverse complement.\n",
    "\n",
    "For example, `ACTTTA` occurs twice in `ACTTACTTGATAAAGT`, once at offset 0 with 2 mismatches, and once at offset 4 with 1 mismatch. So naive_2mm('ACTTTA', 'ACTTACTTGATAAAGT') should return the list `[0, 4]`.\n",
    "\n",
    "### How many times does `TTCAAGCC` occur in the Lambda virus genome when allowing up to 2 mismatches? "
   ]
  },
  {
   "cell_type": "code",
   "execution_count": 20,
   "metadata": {},
   "outputs": [],
   "source": [
    "def naive_hmm(pattern,text,hamming_distance = 2):\n",
    "    occurrences = []\n",
    "    for i in range(len(text) - len(pattern) + 1): #loop over alignments\n",
    "        match = True\n",
    "        miss_match_count = 0\n",
    "        for j in range(len(pattern)):\n",
    "            if text[i+j] != pattern[j]:\n",
    "                if miss_match_count >= hamming_distance:\n",
    "                    match = False\n",
    "                    break\n",
    "                else:\n",
    "                     miss_match_count += 1\n",
    "        if match:\n",
    "            occurrences.append(i)\n",
    "    return(occurrences)"
   ]
  },
  {
   "cell_type": "code",
   "execution_count": 21,
   "metadata": {},
   "outputs": [
    {
     "data": {
      "text/plain": [
       "[0, 4]"
      ]
     },
     "execution_count": 21,
     "metadata": {},
     "output_type": "execute_result"
    }
   ],
   "source": [
    "naive_hmm('ACTTTA','ACTTACTTGATAAAGT')"
   ]
  },
  {
   "cell_type": "code",
   "execution_count": 22,
   "metadata": {},
   "outputs": [
    {
     "name": "stdout",
     "output_type": "stream",
     "text": [
      "offset of leftmost occurrence: 10\n"
     ]
    }
   ],
   "source": [
    "occurrences = naive_hmm('GATTACA', phix_genome)\n",
    "print('offset of leftmost occurrence: %d' % min(occurrences))"
   ]
  },
  {
   "cell_type": "markdown",
   "metadata": {},
   "source": [
    "#### Test 02\n"
   ]
  },
  {
   "cell_type": "code",
   "execution_count": 23,
   "metadata": {},
   "outputs": [
    {
     "name": "stdout",
     "output_type": "stream",
     "text": [
      "[10, 24, 38]\n"
     ]
    }
   ],
   "source": [
    "p = 'CTGT'\n",
    "ten_as = 'AAAAAAAAAA'\n",
    "t = ten_as + 'CTGT' + ten_as + 'CTTT' + ten_as + 'CGGG' + ten_as\n",
    "occurrences = naive_hmm(p, t)\n",
    "print(occurrences)"
   ]
  },
  {
   "cell_type": "markdown",
   "metadata": {},
   "source": [
    "\n",
    "#### How many times does `TTCAAGCC` occur in the Lambda virus genome when allowing up to 2 mismatches? "
   ]
  },
  {
   "cell_type": "code",
   "execution_count": 64,
   "metadata": {},
   "outputs": [],
   "source": [
    "def naive_hmm_with_rc(pattern,text):\n",
    "    return list(set(naive_hmm(pattern,text) + naive_hmm(reverseComplemnet(pattern),text)))"
   ]
  },
  {
   "cell_type": "code",
   "execution_count": 24,
   "metadata": {},
   "outputs": [
    {
     "name": "stdout",
     "output_type": "stream",
     "text": [
      "\u001b[37m#\u001b[0m\u001b[37m \u001b[0m\u001b[37mo\u001b[0m\u001b[37mc\u001b[0m\u001b[37mc\u001b[0m\u001b[37mu\u001b[0m\u001b[37mr\u001b[0m\u001b[37mr\u001b[0m\u001b[37me\u001b[0m\u001b[37mn\u001b[0m\u001b[37mc\u001b[0m\u001b[37me\u001b[0m\u001b[37ms\u001b[0m\u001b[37m \u001b[0m\u001b[37mo\u001b[0m\u001b[37mf\u001b[0m\u001b[37m \u001b[0m\u001b[34mT\u001b[0m\u001b[34mT\u001b[0m\u001b[32mC\u001b[0m\u001b[31mA\u001b[0m\u001b[31mA\u001b[0m\u001b[35mG\u001b[0m\u001b[32mC\u001b[0m\u001b[32mC\u001b[0m\u001b[37m:\u001b[0m\u001b[37m \u001b[0m\u001b[37m1\u001b[0m\u001b[37m9\u001b[0m\u001b[37m1\u001b[0m\u001b[37m \u001b[0m\u001b[37mt\u001b[0m\u001b[37mi\u001b[0m\u001b[37mm\u001b[0m\u001b[37me\u001b[0m\u001b[37ms\u001b[0m\n"
     ]
    }
   ],
   "source": [
    "occurrences = naive_hmm('TTCAAGCC', lambda_genome)\n",
    "cprint('# occurrences of TTCAAGCC: %d times' % len(occurrences))"
   ]
  },
  {
   "cell_type": "code",
   "execution_count": 25,
   "metadata": {},
   "outputs": [
    {
     "name": "stdout",
     "output_type": "stream",
     "text": [
      "[49, 282, 299, 302, 380, 1560, 1650, 2235, 2277, 2400, 2562, 2565, 2729, 2823, 3160, 3181, 3946, 4210, 4294, 4309, 4405, 4580, 5069, 5159, 5189, 5231, 5331, 5519, 5737, 5882, 5993, 5996, 6011, 6312, 6522, 6585, 6606, 7316, 7394, 7819, 7904, 7966, 7998, 8534, 8648, 8946, 9339, 9354, 9530, 9842, 9966, 10041, 10250, 10416, 10445, 10484, 10527, 10874, 11193, 11292, 11505, 11568, 11655, 11745, 11838, 12078, 12180, 12222, 12697, 12745, 12819, 12880, 12935, 13011, 13087, 13256, 13415, 13526, 13813, 14259, 15385, 15473, 16192, 17101, 17437, 17755, 17936, 17989, 18016, 18040, 18727, 18853, 18911, 19232, 19263, 19310, 19833, 19929, 19932, 19947, 19980, 20793, 20802, 21305, 21528, 21627, 21684, 22414, 22660, 22670, 22787, 23326, 24063, 24145, 24409, 24595, 24681, 25120, 25139, 25210, 25381, 25384, 25648, 25664, 25773, 25987, 26196, 26208, 26576, 26587, 26653, 26736, 27892, 27967, 28042, 28622, 28840, 28976, 29119, 30029, 30530, 30673, 30902, 31619, 31645, 31682, 31843, 31859, 32069, 33180, 33365, 33715, 33952, 34321, 34421, 34841, 34848, 34956, 35145, 35253, 35289, 35643, 36185, 36687, 36869, 38030, 38197, 38381, 38479, 38737, 39282, 39600, 39681, 39786, 39828, 39954, 40119, 40337, 40508, 40781, 40887, 40890, 40946, 41110, 41225, 41264, 41282, 41324, 41570, 41693, 41717, 41768, 42079, 42082, 42266, 42353, 43039, 43184, 43389, 43662, 43689, 45033, 45727, 45763, 45781, 45790, 46173, 46215, 47028, 47220, 47930, 48101, 48256, 48301, 48411]\n",
      "\u001b[37m#\u001b[0m\u001b[37m \u001b[0m\u001b[37mo\u001b[0m\u001b[37mc\u001b[0m\u001b[37mc\u001b[0m\u001b[37mu\u001b[0m\u001b[37mr\u001b[0m\u001b[37mr\u001b[0m\u001b[37me\u001b[0m\u001b[37mn\u001b[0m\u001b[37mc\u001b[0m\u001b[37me\u001b[0m\u001b[37ms\u001b[0m\u001b[37m \u001b[0m\u001b[37mo\u001b[0m\u001b[37mf\u001b[0m\u001b[37m \u001b[0m\u001b[34mT\u001b[0m\u001b[34mT\u001b[0m\u001b[32mC\u001b[0m\u001b[31mA\u001b[0m\u001b[31mA\u001b[0m\u001b[35mG\u001b[0m\u001b[32mC\u001b[0m\u001b[32mC\u001b[0m\u001b[37m:\u001b[0m\u001b[37m \u001b[0m\u001b[37m2\u001b[0m\u001b[37m1\u001b[0m\u001b[37m5\u001b[0m\u001b[37m \u001b[0m\u001b[37mt\u001b[0m\u001b[37mi\u001b[0m\u001b[37mm\u001b[0m\u001b[37me\u001b[0m\u001b[37ms\u001b[0m\n"
     ]
    }
   ],
   "source": [
    "pattern = 'AGGAGGTT'\n",
    "occurrences = naive_hmm('AGGAGGTT', lambda_genome)\n",
    "print(occurrences)\n",
    "cprint('# occurrences of TTCAAGCC: %d times' % len(occurrences))"
   ]
  },
  {
   "cell_type": "markdown",
   "metadata": {},
   "source": [
    "#### What is the offset of the leftmost occurrence of 'AGGAGGTT' in the Lambda virus genome when allowing up to 2 mismatches?"
   ]
  },
  {
   "cell_type": "code",
   "execution_count": 157,
   "metadata": {},
   "outputs": [
    {
     "name": "stdout",
     "output_type": "stream",
     "text": [
      "\u001b[31mA\u001b[0m\u001b[35mG\u001b[0m\u001b[35mG\u001b[0m\u001b[31mA\u001b[0m\u001b[35mG\u001b[0m\u001b[35mG\u001b[0m\u001b[34mT\u001b[0m\u001b[34mT\u001b[0m\u001b[37m \u001b[0m\u001b[37mo\u001b[0m\u001b[37mf\u001b[0m\u001b[37mf\u001b[0m\u001b[37ms\u001b[0m\u001b[37me\u001b[0m\u001b[37mt\u001b[0m\u001b[37m \u001b[0m\u001b[37mo\u001b[0m\u001b[37mf\u001b[0m\u001b[37m \u001b[0m\u001b[37ml\u001b[0m\u001b[37me\u001b[0m\u001b[37mf\u001b[0m\u001b[37mt\u001b[0m\u001b[37mm\u001b[0m\u001b[37mo\u001b[0m\u001b[37ms\u001b[0m\u001b[37mt\u001b[0m\u001b[37m \u001b[0m\u001b[37mo\u001b[0m\u001b[37mc\u001b[0m\u001b[37mc\u001b[0m\u001b[37mu\u001b[0m\u001b[37mr\u001b[0m\u001b[37mr\u001b[0m\u001b[37me\u001b[0m\u001b[37mn\u001b[0m\u001b[37mc\u001b[0m\u001b[37me\u001b[0m\u001b[37m:\u001b[0m\u001b[37m \u001b[0m\u001b[37m4\u001b[0m\u001b[37m9\u001b[0m\n"
     ]
    }
   ],
   "source": [
    "occurrences = naive_hmm('AGGAGGTT', lambda_genome)\n",
    "cprint('AGGAGGTT offset of leftmost occurrence: %d' % min(occurrences))"
   ]
  },
  {
   "cell_type": "markdown",
   "metadata": {},
   "source": [
    "\n",
    "### Question 7\n",
    "Finally, download and parse the provided FASTQ file containing real DNA sequencing reads derived from a human:\n",
    "\n",
    " `https://d28rh4a8wq0iu5.cloudfront.net/ads1/data/ERR037900_1.first1000.fastq`\n",
    "\n",
    "Note that the file has many reads in it and you should examine all of them together when answering this question.  The reads are taken from this study:\n",
    "\n",
    "Ajay, S. S., Parker, S. C., Abaan, H. O., Fajardo, K. V. F., & Margulies, E. H. (2011). Accurate\n",
    "\n",
    "and comprehensive sequencing of personal genomes. Genome research, 21(9), 1498-1505. \n",
    "\n",
    "This dataset has something wrong with it; one of the sequencing cycles is poor quality.\n",
    "\n",
    "Report which sequencing cycle has the problem.  Remember that a sequencing cycle corresponds to a particular offset in all the reads. For example, if the leftmost read position seems to have a problem consistently across reads, report 0. If the fourth position from the left has the problem, report 3. Do whatever analysis you think is needed to identify the bad cycle. It might help to review the \"Analyzing reads by position\" video."
   ]
  },
  {
   "cell_type": "code",
   "execution_count": 110,
   "metadata": {},
   "outputs": [
    {
     "data": {
      "text/plain": [
       "'data//ERR037900_1.first1000.fastq'"
      ]
     },
     "execution_count": 110,
     "metadata": {},
     "output_type": "execute_result"
    }
   ],
   "source": [
    "import wget\n",
    "url = 'https://d28rh4a8wq0iu5.cloudfront.net/ads1/data/ERR037900_1.first1000.fastq'\n",
    "wget.download(url,out='data/')"
   ]
  },
  {
   "cell_type": "code",
   "execution_count": 30,
   "metadata": {},
   "outputs": [
    {
     "name": "stdout",
     "output_type": "stream",
     "text": [
      "\u001b[34mT\u001b[0m\u001b[31mA\u001b[0m\u001b[31mA\u001b[0m\u001b[32mC\u001b[0m\u001b[32mC\u001b[0m\u001b[32mC\u001b[0m\u001b[34mT\u001b[0m\u001b[31mA\u001b[0m\u001b[31mA\u001b[0m\u001b[32mC\u001b[0m\u001b[32mC\u001b[0m\u001b[32mC\u001b[0m\u001b[34mT\u001b[0m\u001b[31mA\u001b[0m\u001b[31mA\u001b[0m\u001b[32mC\u001b[0m\u001b[32mC\u001b[0m\u001b[32mC\u001b[0m\u001b[34mT\u001b[0m\u001b[31mA\u001b[0m\u001b[31mA\u001b[0m\u001b[32mC\u001b[0m\u001b[32mC\u001b[0m\u001b[32mC\u001b[0m\u001b[34mT\u001b[0m\u001b[31mA\u001b[0m\u001b[31mA\u001b[0m\u001b[32mC\u001b[0m\u001b[32mC\u001b[0m\u001b[32mC\u001b[0m\u001b[34mT\u001b[0m\u001b[31mA\u001b[0m\u001b[31mA\u001b[0m\u001b[32mC\u001b[0m\u001b[32mC\u001b[0m\u001b[32mC\u001b[0m\u001b[34mT\u001b[0m\u001b[31mA\u001b[0m\u001b[31mA\u001b[0m\u001b[32mC\u001b[0m\u001b[32mC\u001b[0m\u001b[32mC\u001b[0m\u001b[34mT\u001b[0m\u001b[31mA\u001b[0m\u001b[31mA\u001b[0m\u001b[32mC\u001b[0m\u001b[32mC\u001b[0m\u001b[32mC\u001b[0m\u001b[34mT\u001b[0m\u001b[31mA\u001b[0m\u001b[31mA\u001b[0m\u001b[32mC\u001b[0m\u001b[32mC\u001b[0m\u001b[32mC\u001b[0m\u001b[34mT\u001b[0m\u001b[31mA\u001b[0m\u001b[31mA\u001b[0m\u001b[32mC\u001b[0m\u001b[32mC\u001b[0m\u001b[32mC\u001b[0m\u001b[34mT\u001b[0m\u001b[31mA\u001b[0m\u001b[31mA\u001b[0m\u001b[32mC\u001b[0m\u001b[32mC\u001b[0m\u001b[32mC\u001b[0m\u001b[37mN\u001b[0m\u001b[31mA\u001b[0m\u001b[31mA\u001b[0m\u001b[32mC\u001b[0m\u001b[32mC\u001b[0m\u001b[32mC\u001b[0m\u001b[34mT\u001b[0m\u001b[31mA\u001b[0m\u001b[31mA\u001b[0m\u001b[32mC\u001b[0m\u001b[32mC\u001b[0m\u001b[32mC\u001b[0m\u001b[34mT\u001b[0m\u001b[31mA\u001b[0m\u001b[31mA\u001b[0m\u001b[32mC\u001b[0m\u001b[32mC\u001b[0m\u001b[32mC\u001b[0m\u001b[34mT\u001b[0m\u001b[31mA\u001b[0m\u001b[31mA\u001b[0m\u001b[32mC\u001b[0m\u001b[32mC\u001b[0m\u001b[32mC\u001b[0m\u001b[34mT\u001b[0m\u001b[31mA\u001b[0m\u001b[31mA\u001b[0m\u001b[32mC\u001b[0m\u001b[32mC\u001b[0m\u001b[32mC\u001b[0m\u001b[34mT\u001b[0m\u001b[31mA\u001b[0m\u001b[31mA\u001b[0m\u001b[32mC\u001b[0m\n",
      "Read Length:  100\n"
     ]
    }
   ],
   "source": [
    "human_seq, _ = readFastq('data//ERR037900_1.first1000.fastq')\n",
    "cprint(human_seq[0])\n",
    "print(\"Read Length: \",len(human_seq[0]))"
   ]
  },
  {
   "cell_type": "code",
   "execution_count": 32,
   "metadata": {},
   "outputs": [],
   "source": [
    "def findGCbyPosition(reads):\n",
    "    read_length = len(reads[0])\n",
    "    gc = [0] * read_length\n",
    "    total = [0] * read_length\n",
    "    \n",
    "    for read in reads:\n",
    "        for i in range(read_length):\n",
    "            if read[i] in 'GC':\n",
    "                gc[i] += 1\n",
    "            total[i] += total\n",
    "    \n",
    "    for i in range(read_length):\n",
    "        gc[i] /= float(total[i])\n",
    "    return gc\n"
   ]
  },
  {
   "cell_type": "code",
   "execution_count": 33,
   "metadata": {},
   "outputs": [
    {
     "data": {
      "image/png": "[encoded data removed]",
      "text/plain": [
       "<Figure size 432x288 with 1 Axes>"
      ]
     },
     "metadata": {
      "needs_background": "light"
     },
     "output_type": "display_data"
    }
   ],
   "source": [
    "gc = findGCByPos(human_seq)\n",
    "gc\n",
    "plt.plot(range(len(gc)), gc)\n",
    "plt.show()"
   ]
  },
  {
   "cell_type": "code",
   "execution_count": 36,
   "metadata": {},
   "outputs": [
    {
     "name": "stdout",
     "output_type": "stream",
     "text": [
      "Sequencing cycles is poor quality : 66\n"
     ]
    }
   ],
   "source": [
    "print(\"Sequencing cycles is poor quality :\", gc.index(min(gc)))"
   ]
  }
 ],
 "metadata": {
  "interpreter": {
   "hash": "7dae6437c12b1d87f00e0e10a4bd22be66a3b8ec05fb1161d95372f28c39fa9e"
  },
  "kernelspec": {
   "display_name": "Python 3.8.8 64-bit ('base': conda)",
   "language": "python",
   "name": "python3"
  },
  "language_info": {
   "codemirror_mode": {
    "name": "ipython",
    "version": 3
   },
   "file_extension": ".py",
   "mimetype": "text/x-python",
   "name": "python",
   "nbconvert_exporter": "python",
   "pygments_lexer": "ipython3",
   "version": "3.8.8"
  },
  "orig_nbformat": 4
 },
 "nbformat": 4,
 "nbformat_minor": 2
}
