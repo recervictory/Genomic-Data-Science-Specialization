{
 "cells": [
  {
   "cell_type": "markdown",
   "metadata": {},
   "source": [
    "# Week 1: \n",
    "This course is structured to hit the key conceptual ideas of normalization, exploratory analysis, linear modeling, testing, and multiple testing that arise over and over in genomic studies."
   ]
  },
  {
   "cell_type": "markdown",
   "metadata": {},
   "source": [
    "## A: The three tables in genomics\n"
   ]
  },
  {
   "cell_type": "markdown",
   "metadata": {},
   "source": [
    "#### Dependencies"
   ]
  },
  {
   "cell_type": "code",
   "execution_count": 2,
   "metadata": {},
   "outputs": [
    {
     "name": "stderr",
     "output_type": "stream",
     "text": [
      "Installing package into 'C:/Users/etuca/OneDrive/Documents/R/win-library/4.1'\n",
      "(as 'lib' is unspecified)\n",
      "\n"
     ]
    },
    {
     "name": "stdout",
     "output_type": "stream",
     "text": [
      "package 'devtools' successfully unpacked and MD5 sums checked\n",
      "\n",
      "The downloaded binary packages are in\n",
      "\tC:\\Users\\etuca\\AppData\\Local\\Temp\\Rtmp8Y89BU\\downloaded_packages\n"
     ]
    },
    {
     "name": "stderr",
     "output_type": "stream",
     "text": [
      "Warning message:\n",
      "\"package 'BiocManager' was built under R version 4.1.2\"\n",
      "'getOption(\"repos\")' replaces Bioconductor standard repositories, see\n",
      "'?repositories' for details\n",
      "\n",
      "replacement repositories:\n",
      "    CRAN: https://cran.r-project.org\n",
      "\n",
      "\n",
      "Bioconductor version 3.14 (BiocManager 1.30.16), R 4.1.0 (2021-05-18)\n",
      "\n",
      "Warning message:\n",
      "\"package(s) not installed when version(s) same as current; use `force = TRUE` to\n",
      "  re-install: 'Biobase'\"\n",
      "Old packages: 'cli', 'clipr', 'colorspace', 'gee', 'ragg', 'tidyselect',\n",
      "  'yaml', 'brio', 'cachem', 'curl', 'diffobj', 'fs', 'gert', 'magrittr',\n",
      "  'mime', 'openssl', 'rlang', 'roxygen2', 'stringi', 'testthat', 'tibble',\n",
      "  'xfun', 'xml2', 'zip'\n",
      "\n"
     ]
    }
   ],
   "source": [
    "install.packages(\"devtools\")\n",
    "\n",
    "if (!require(\"BiocManager\", quietly = TRUE))\n",
    "    install.packages(\"BiocManager\")\n",
    "\n",
    "BiocManager::install(\"Biobase\")"
   ]
  },
  {
   "cell_type": "code",
   "execution_count": 4,
   "metadata": {},
   "outputs": [],
   "source": [
    "# This document depends on the following packages:\n",
    "library(devtools)\n",
    "library(Biobase)"
   ]
  },
  {
   "cell_type": "code",
   "execution_count": 5,
   "metadata": {},
   "outputs": [],
   "source": [
    "# Load the data from the web\n",
    "con=url(\"http://bowtie-bio.sourceforge.net/recount/ExpressionSets/bodymap_eset.RData\")\n",
    "load(file=con)\n",
    "close(con)"
   ]
  },
  {
   "cell_type": "code",
   "execution_count": 6,
   "metadata": {},
   "outputs": [
    {
     "data": {
      "text/plain": [
       "ExpressionSet (storageMode: lockedEnvironment)\n",
       "assayData: 52580 features, 19 samples \n",
       "  element names: exprs \n",
       "protocolData: none\n",
       "phenoData\n",
       "  sampleNames: ERS025098 ERS025092 ... ERS025091 (19 total)\n",
       "  varLabels: sample.id num.tech.reps ... race (6 total)\n",
       "  varMetadata: labelDescription\n",
       "featureData\n",
       "  featureNames: ENSG00000000003 ENSG00000000005 ... LRG_99 (52580\n",
       "    total)\n",
       "  fvarLabels: gene\n",
       "  fvarMetadata: labelDescription\n",
       "experimentData: use 'experimentData(object)'\n",
       "Annotation:  "
      ]
     },
     "metadata": {},
     "output_type": "display_data"
    }
   ],
   "source": [
    "# An expression set\n",
    "bm = bodymap.eset\n",
    "bm"
   ]
  },
  {
   "cell_type": "markdown",
   "metadata": {},
   "source": [
    "#### Table 1: the genomics data\n",
    "These are usually high dimensional measurements. In this case it is RNA-sequencing data. Each row is a gene and each column is a sample"
   ]
  },
  {
   "cell_type": "code",
   "execution_count": 7,
   "metadata": {},
   "outputs": [
    {
     "data": {
      "text/html": [
       "<style>\n",
       ".list-inline {list-style: none; margin:0; padding: 0}\n",
       ".list-inline>li {display: inline-block}\n",
       ".list-inline>li:not(:last-child)::after {content: \"\\00b7\"; padding: 0 .5ex}\n",
       "</style>\n",
       "<ol class=list-inline><li>52580</li><li>19</li></ol>\n"
      ],
      "text/latex": [
       "\\begin{enumerate*}\n",
       "\\item 52580\n",
       "\\item 19\n",
       "\\end{enumerate*}\n"
      ],
      "text/markdown": [
       "1. 52580\n",
       "2. 19\n",
       "\n",
       "\n"
      ],
      "text/plain": [
       "[1] 52580    19"
      ]
     },
     "metadata": {},
     "output_type": "display_data"
    }
   ],
   "source": [
    "exp_data = exprs(bm)\n",
    "dim(exp_data)"
   ]
  },
  {
   "cell_type": "code",
   "execution_count": 8,
   "metadata": {},
   "outputs": [
    {
     "data": {
      "text/html": [
       "<table class=\"dataframe\">\n",
       "<caption>A matrix: 5 × 19 of type int</caption>\n",
       "<thead>\n",
       "\t<tr><th></th><th scope=col>ERS025098</th><th scope=col>ERS025092</th><th scope=col>ERS025085</th><th scope=col>ERS025088</th><th scope=col>ERS025089</th><th scope=col>ERS025082</th><th scope=col>ERS025081</th><th scope=col>ERS025096</th><th scope=col>ERS025099</th><th scope=col>ERS025086</th><th scope=col>ERS025084</th><th scope=col>ERS025087</th><th scope=col>ERS025093</th><th scope=col>ERS025083</th><th scope=col>ERS025095</th><th scope=col>ERS025097</th><th scope=col>ERS025094</th><th scope=col>ERS025090</th><th scope=col>ERS025091</th></tr>\n",
       "</thead>\n",
       "<tbody>\n",
       "\t<tr><th scope=row>ENSG00000000003</th><td>1354</td><td>216</td><td>215</td><td> 924</td><td>725</td><td>125</td><td>796</td><td>1954</td><td>815</td><td>249</td><td>4614</td><td>6548</td><td>5030</td><td>1450</td><td>781</td><td> 69</td><td>1888</td><td> 983</td><td>  3</td></tr>\n",
       "\t<tr><th scope=row>ENSG00000000005</th><td> 712</td><td>134</td><td>  4</td><td>1495</td><td>119</td><td> 20</td><td>  7</td><td>   0</td><td>  0</td><td> 16</td><td> 975</td><td> 923</td><td> 696</td><td>  15</td><td> 24</td><td>  0</td><td>  20</td><td>   4</td><td>  0</td></tr>\n",
       "\t<tr><th scope=row>ENSG00000000419</th><td> 450</td><td>547</td><td>516</td><td> 529</td><td>808</td><td>680</td><td>744</td><td> 369</td><td>636</td><td>486</td><td>1200</td><td>2823</td><td>2159</td><td> 933</td><td>870</td><td>621</td><td>1026</td><td>1185</td><td>765</td></tr>\n",
       "\t<tr><th scope=row>ENSG00000000457</th><td> 188</td><td>368</td><td>196</td><td> 386</td><td>156</td><td>259</td><td>436</td><td> 288</td><td>187</td><td>553</td><td>1543</td><td>1194</td><td> 876</td><td> 655</td><td>862</td><td>242</td><td> 569</td><td> 609</td><td>782</td></tr>\n",
       "\t<tr><th scope=row>ENSG00000000460</th><td>  66</td><td> 29</td><td>  1</td><td>  26</td><td> 11</td><td>  9</td><td> 25</td><td>  42</td><td> 12</td><td> 22</td><td> 213</td><td>  80</td><td>  57</td><td>  13</td><td> 78</td><td> 17</td><td> 351</td><td>  46</td><td> 73</td></tr>\n",
       "</tbody>\n",
       "</table>\n"
      ],
      "text/latex": [
       "A matrix: 5 × 19 of type int\n",
       "\\begin{tabular}{r|lllllllllllllllllll}\n",
       "  & ERS025098 & ERS025092 & ERS025085 & ERS025088 & ERS025089 & ERS025082 & ERS025081 & ERS025096 & ERS025099 & ERS025086 & ERS025084 & ERS025087 & ERS025093 & ERS025083 & ERS025095 & ERS025097 & ERS025094 & ERS025090 & ERS025091\\\\\n",
       "\\hline\n",
       "\tENSG00000000003 & 1354 & 216 & 215 &  924 & 725 & 125 & 796 & 1954 & 815 & 249 & 4614 & 6548 & 5030 & 1450 & 781 &  69 & 1888 &  983 &   3\\\\\n",
       "\tENSG00000000005 &  712 & 134 &   4 & 1495 & 119 &  20 &   7 &    0 &   0 &  16 &  975 &  923 &  696 &   15 &  24 &   0 &   20 &    4 &   0\\\\\n",
       "\tENSG00000000419 &  450 & 547 & 516 &  529 & 808 & 680 & 744 &  369 & 636 & 486 & 1200 & 2823 & 2159 &  933 & 870 & 621 & 1026 & 1185 & 765\\\\\n",
       "\tENSG00000000457 &  188 & 368 & 196 &  386 & 156 & 259 & 436 &  288 & 187 & 553 & 1543 & 1194 &  876 &  655 & 862 & 242 &  569 &  609 & 782\\\\\n",
       "\tENSG00000000460 &   66 &  29 &   1 &   26 &  11 &   9 &  25 &   42 &  12 &  22 &  213 &   80 &   57 &   13 &  78 &  17 &  351 &   46 &  73\\\\\n",
       "\\end{tabular}\n"
      ],
      "text/markdown": [
       "\n",
       "A matrix: 5 × 19 of type int\n",
       "\n",
       "| <!--/--> | ERS025098 | ERS025092 | ERS025085 | ERS025088 | ERS025089 | ERS025082 | ERS025081 | ERS025096 | ERS025099 | ERS025086 | ERS025084 | ERS025087 | ERS025093 | ERS025083 | ERS025095 | ERS025097 | ERS025094 | ERS025090 | ERS025091 |\n",
       "|---|---|---|---|---|---|---|---|---|---|---|---|---|---|---|---|---|---|---|---|\n",
       "| ENSG00000000003 | 1354 | 216 | 215 |  924 | 725 | 125 | 796 | 1954 | 815 | 249 | 4614 | 6548 | 5030 | 1450 | 781 |  69 | 1888 |  983 |   3 |\n",
       "| ENSG00000000005 |  712 | 134 |   4 | 1495 | 119 |  20 |   7 |    0 |   0 |  16 |  975 |  923 |  696 |   15 |  24 |   0 |   20 |    4 |   0 |\n",
       "| ENSG00000000419 |  450 | 547 | 516 |  529 | 808 | 680 | 744 |  369 | 636 | 486 | 1200 | 2823 | 2159 |  933 | 870 | 621 | 1026 | 1185 | 765 |\n",
       "| ENSG00000000457 |  188 | 368 | 196 |  386 | 156 | 259 | 436 |  288 | 187 | 553 | 1543 | 1194 |  876 |  655 | 862 | 242 |  569 |  609 | 782 |\n",
       "| ENSG00000000460 |   66 |  29 |   1 |   26 |  11 |   9 |  25 |   42 |  12 |  22 |  213 |   80 |   57 |   13 |  78 |  17 |  351 |   46 |  73 |\n",
       "\n"
      ],
      "text/plain": [
       "                ERS025098 ERS025092 ERS025085 ERS025088 ERS025089 ERS025082\n",
       "ENSG00000000003 1354      216       215        924      725       125      \n",
       "ENSG00000000005  712      134         4       1495      119        20      \n",
       "ENSG00000000419  450      547       516        529      808       680      \n",
       "ENSG00000000457  188      368       196        386      156       259      \n",
       "ENSG00000000460   66       29         1         26       11         9      \n",
       "                ERS025081 ERS025096 ERS025099 ERS025086 ERS025084 ERS025087\n",
       "ENSG00000000003 796       1954      815       249       4614      6548     \n",
       "ENSG00000000005   7          0        0        16        975       923     \n",
       "ENSG00000000419 744        369      636       486       1200      2823     \n",
       "ENSG00000000457 436        288      187       553       1543      1194     \n",
       "ENSG00000000460  25         42       12        22        213        80     \n",
       "                ERS025093 ERS025083 ERS025095 ERS025097 ERS025094 ERS025090\n",
       "ENSG00000000003 5030      1450      781        69       1888       983     \n",
       "ENSG00000000005  696        15       24         0         20         4     \n",
       "ENSG00000000419 2159       933      870       621       1026      1185     \n",
       "ENSG00000000457  876       655      862       242        569       609     \n",
       "ENSG00000000460   57        13       78        17        351        46     \n",
       "                ERS025091\n",
       "ENSG00000000003   3      \n",
       "ENSG00000000005   0      \n",
       "ENSG00000000419 765      \n",
       "ENSG00000000457 782      \n",
       "ENSG00000000460  73      "
      ]
     },
     "metadata": {},
     "output_type": "display_data"
    }
   ],
   "source": [
    "head(exp_data,n=5)"
   ]
  },
  {
   "cell_type": "markdown",
   "metadata": {},
   "source": [
    "#### Table 2: the phenotype data\n",
    "This is the “meta data” or “phenotype data” that is what you typically associate the genomic data with. Each column is a variable and each row is a sample."
   ]
  },
  {
   "cell_type": "code",
   "execution_count": 9,
   "metadata": {},
   "outputs": [
    {
     "data": {
      "text/html": [
       "<style>\n",
       ".list-inline {list-style: none; margin:0; padding: 0}\n",
       ".list-inline>li {display: inline-block}\n",
       ".list-inline>li:not(:last-child)::after {content: \"\\00b7\"; padding: 0 .5ex}\n",
       "</style>\n",
       "<ol class=list-inline><li>19</li><li>6</li></ol>\n"
      ],
      "text/latex": [
       "\\begin{enumerate*}\n",
       "\\item 19\n",
       "\\item 6\n",
       "\\end{enumerate*}\n"
      ],
      "text/markdown": [
       "1. 19\n",
       "2. 6\n",
       "\n",
       "\n"
      ],
      "text/plain": [
       "[1] 19  6"
      ]
     },
     "metadata": {},
     "output_type": "display_data"
    }
   ],
   "source": [
    "pheno_data = pData(bm)\n",
    "dim(pheno_data)"
   ]
  },
  {
   "cell_type": "code",
   "execution_count": 10,
   "metadata": {},
   "outputs": [
    {
     "data": {
      "text/html": [
       "<table class=\"dataframe\">\n",
       "<caption>A data.frame: 6 × 6</caption>\n",
       "<thead>\n",
       "\t<tr><th></th><th scope=col>sample.id</th><th scope=col>num.tech.reps</th><th scope=col>tissue.type</th><th scope=col>gender</th><th scope=col>age</th><th scope=col>race</th></tr>\n",
       "\t<tr><th></th><th scope=col>&lt;fct&gt;</th><th scope=col>&lt;dbl&gt;</th><th scope=col>&lt;fct&gt;</th><th scope=col>&lt;fct&gt;</th><th scope=col>&lt;dbl&gt;</th><th scope=col>&lt;fct&gt;</th></tr>\n",
       "</thead>\n",
       "<tbody>\n",
       "\t<tr><th scope=row>ERS025098</th><td>ERS025098</td><td>2</td><td>adipose</td><td>F</td><td>73</td><td>caucasian</td></tr>\n",
       "\t<tr><th scope=row>ERS025092</th><td>ERS025092</td><td>2</td><td>adrenal</td><td>M</td><td>60</td><td>caucasian</td></tr>\n",
       "\t<tr><th scope=row>ERS025085</th><td>ERS025085</td><td>2</td><td>brain  </td><td>F</td><td>77</td><td>caucasian</td></tr>\n",
       "\t<tr><th scope=row>ERS025088</th><td>ERS025088</td><td>2</td><td>breast </td><td>F</td><td>29</td><td>caucasian</td></tr>\n",
       "\t<tr><th scope=row>ERS025089</th><td>ERS025089</td><td>2</td><td>colon  </td><td>F</td><td>68</td><td>caucasian</td></tr>\n",
       "\t<tr><th scope=row>ERS025082</th><td>ERS025082</td><td>2</td><td>heart  </td><td>M</td><td>77</td><td>caucasian</td></tr>\n",
       "</tbody>\n",
       "</table>\n"
      ],
      "text/latex": [
       "A data.frame: 6 × 6\n",
       "\\begin{tabular}{r|llllll}\n",
       "  & sample.id & num.tech.reps & tissue.type & gender & age & race\\\\\n",
       "  & <fct> & <dbl> & <fct> & <fct> & <dbl> & <fct>\\\\\n",
       "\\hline\n",
       "\tERS025098 & ERS025098 & 2 & adipose & F & 73 & caucasian\\\\\n",
       "\tERS025092 & ERS025092 & 2 & adrenal & M & 60 & caucasian\\\\\n",
       "\tERS025085 & ERS025085 & 2 & brain   & F & 77 & caucasian\\\\\n",
       "\tERS025088 & ERS025088 & 2 & breast  & F & 29 & caucasian\\\\\n",
       "\tERS025089 & ERS025089 & 2 & colon   & F & 68 & caucasian\\\\\n",
       "\tERS025082 & ERS025082 & 2 & heart   & M & 77 & caucasian\\\\\n",
       "\\end{tabular}\n"
      ],
      "text/markdown": [
       "\n",
       "A data.frame: 6 × 6\n",
       "\n",
       "| <!--/--> | sample.id &lt;fct&gt; | num.tech.reps &lt;dbl&gt; | tissue.type &lt;fct&gt; | gender &lt;fct&gt; | age &lt;dbl&gt; | race &lt;fct&gt; |\n",
       "|---|---|---|---|---|---|---|\n",
       "| ERS025098 | ERS025098 | 2 | adipose | F | 73 | caucasian |\n",
       "| ERS025092 | ERS025092 | 2 | adrenal | M | 60 | caucasian |\n",
       "| ERS025085 | ERS025085 | 2 | brain   | F | 77 | caucasian |\n",
       "| ERS025088 | ERS025088 | 2 | breast  | F | 29 | caucasian |\n",
       "| ERS025089 | ERS025089 | 2 | colon   | F | 68 | caucasian |\n",
       "| ERS025082 | ERS025082 | 2 | heart   | M | 77 | caucasian |\n",
       "\n"
      ],
      "text/plain": [
       "          sample.id num.tech.reps tissue.type gender age race     \n",
       "ERS025098 ERS025098 2             adipose     F      73  caucasian\n",
       "ERS025092 ERS025092 2             adrenal     M      60  caucasian\n",
       "ERS025085 ERS025085 2             brain       F      77  caucasian\n",
       "ERS025088 ERS025088 2             breast      F      29  caucasian\n",
       "ERS025089 ERS025089 2             colon       F      68  caucasian\n",
       "ERS025082 ERS025082 2             heart       M      77  caucasian"
      ]
     },
     "metadata": {},
     "output_type": "display_data"
    }
   ],
   "source": [
    "head(pheno_data)"
   ]
  },
  {
   "cell_type": "markdown",
   "metadata": {},
   "source": [
    "#### Table 3: the feature data\n",
    "This is information about the genes or other genomic features you are measuring. Each column is a variable and each row is a gene/feature."
   ]
  },
  {
   "cell_type": "code",
   "execution_count": 11,
   "metadata": {},
   "outputs": [
    {
     "data": {
      "text/html": [
       "<style>\n",
       ".list-inline {list-style: none; margin:0; padding: 0}\n",
       ".list-inline>li {display: inline-block}\n",
       ".list-inline>li:not(:last-child)::after {content: \"\\00b7\"; padding: 0 .5ex}\n",
       "</style>\n",
       "<ol class=list-inline><li>52580</li><li>1</li></ol>\n"
      ],
      "text/latex": [
       "\\begin{enumerate*}\n",
       "\\item 52580\n",
       "\\item 1\n",
       "\\end{enumerate*}\n"
      ],
      "text/markdown": [
       "1. 52580\n",
       "2. 1\n",
       "\n",
       "\n"
      ],
      "text/plain": [
       "[1] 52580     1"
      ]
     },
     "metadata": {},
     "output_type": "display_data"
    }
   ],
   "source": [
    "\n",
    "feature_data = fData(bm)\n",
    "dim(fData(bodymap.eset))"
   ]
  },
  {
   "cell_type": "code",
   "execution_count": 12,
   "metadata": {},
   "outputs": [
    {
     "data": {
      "text/html": [
       "<style>\n",
       ".list-inline {list-style: none; margin:0; padding: 0}\n",
       ".list-inline>li {display: inline-block}\n",
       ".list-inline>li:not(:last-child)::after {content: \"\\00b7\"; padding: 0 .5ex}\n",
       "</style>\n",
       "<ol class=list-inline><li>ENSG00000000003</li><li>ENSG00000000005</li><li>ENSG00000000419</li><li>ENSG00000000457</li><li>ENSG00000000460</li><li>ENSG00000000938</li><li>ENSG00000000971</li><li>ENSG00000001036</li><li>ENSG00000001084</li><li>ENSG00000001167</li></ol>\n",
       "\n",
       "<details>\n",
       "\t<summary style=display:list-item;cursor:pointer>\n",
       "\t\t<strong>Levels</strong>:\n",
       "\t</summary>\n",
       "\t<style>\n",
       "\t.list-inline {list-style: none; margin:0; padding: 0}\n",
       "\t.list-inline>li {display: inline-block}\n",
       "\t.list-inline>li:not(:last-child)::after {content: \"\\00b7\"; padding: 0 .5ex}\n",
       "\t</style>\n",
       "\t<ol class=list-inline><li>'ENSG00000000003'</li><li>'ENSG00000000005'</li><li>'ENSG00000000419'</li><li>'ENSG00000000457'</li><li>'ENSG00000000460'</li><li>'ENSG00000000938'</li><li>'ENSG00000000971'</li><li>'ENSG00000001036'</li><li>'ENSG00000001084'</li><li>'ENSG00000001167'</li><li>'ENSG00000001460'</li><li>'ENSG00000001461'</li><li>'ENSG00000001497'</li><li>'ENSG00000001561'</li><li>'ENSG00000001617'</li><li>'ENSG00000001626'</li><li>'ENSG00000001629'</li><li>'ENSG00000001630'</li><li>'ENSG00000001631'</li><li>'ENSG00000002016'</li><li>'ENSG00000002079'</li><li>'ENSG00000002330'</li><li>'ENSG00000002549'</li><li>'ENSG00000002586'</li><li>'ENSG00000002587'</li><li>'ENSG00000002726'</li><li>'ENSG00000002745'</li><li>'ENSG00000002746'</li><li>'ENSG00000002822'</li><li>'ENSG00000002834'</li><li>'ENSG00000002919'</li><li>'ENSG00000002933'</li><li>'ENSG00000003056'</li><li>'ENSG00000003096'</li><li>'ENSG00000003137'</li><li>'ENSG00000003147'</li><li>'ENSG00000003249'</li><li>'ENSG00000003393'</li><li>'ENSG00000003400'</li><li>'ENSG00000003402'</li><li>'ENSG00000003436'</li><li>'ENSG00000003509'</li><li>'ENSG00000003756'</li><li>'ENSG00000003987'</li><li>'ENSG00000003989'</li><li>'ENSG00000004059'</li><li>'ENSG00000004139'</li><li>'ENSG00000004142'</li><li>'ENSG00000004399'</li><li>'ENSG00000004455'</li><li>'ENSG00000004468'</li><li>'ENSG00000004478'</li><li>'ENSG00000004487'</li><li>'ENSG00000004534'</li><li>'ENSG00000004660'</li><li>'ENSG00000004700'</li><li>'ENSG00000004766'</li><li>'ENSG00000004776'</li><li>'ENSG00000004777'</li><li>'ENSG00000004779'</li><li>'ENSG00000004799'</li><li>'ENSG00000004809'</li><li>'ENSG00000004838'</li><li>'ENSG00000004846'</li><li>'ENSG00000004848'</li><li>'ENSG00000004864'</li><li>'ENSG00000004866'</li><li>'ENSG00000004897'</li><li>'ENSG00000004939'</li><li>'ENSG00000004948'</li><li>'ENSG00000004961'</li><li>'ENSG00000004975'</li><li>'ENSG00000005001'</li><li>'ENSG00000005007'</li><li>'ENSG00000005020'</li><li>'ENSG00000005022'</li><li>'ENSG00000005059'</li><li>'ENSG00000005073'</li><li>'ENSG00000005075'</li><li>'ENSG00000005100'</li><li>'ENSG00000005102'</li><li>'ENSG00000005108'</li><li>'ENSG00000005156'</li><li>'ENSG00000005175'</li><li>'ENSG00000005187'</li><li>'ENSG00000005189'</li><li>'ENSG00000005194'</li><li>'ENSG00000005206'</li><li>'ENSG00000005238'</li><li>'ENSG00000005243'</li><li>'ENSG00000005249'</li><li>'ENSG00000005302'</li><li>'ENSG00000005339'</li><li>'ENSG00000005379'</li><li>'ENSG00000005381'</li><li>'ENSG00000005421'</li><li>'ENSG00000005436'</li><li>'ENSG00000005448'</li><li>'ENSG00000005469'</li><li>'ENSG00000005471'</li><li>'ENSG00000005483'</li><li>'ENSG00000005486'</li><li>'ENSG00000005513'</li><li>'ENSG00000005700'</li><li>'ENSG00000005801'</li><li>'ENSG00000005810'</li><li>'ENSG00000005812'</li><li>'ENSG00000005844'</li><li>'ENSG00000005882'</li><li>'ENSG00000005884'</li><li>'ENSG00000005889'</li><li>'ENSG00000005893'</li><li>'ENSG00000005955'</li><li>'ENSG00000005961'</li><li>'ENSG00000005981'</li><li>'ENSG00000006007'</li><li>'ENSG00000006015'</li><li>'ENSG00000006016'</li><li>'ENSG00000006025'</li><li>'ENSG00000006042'</li><li>'ENSG00000006047'</li><li>'ENSG00000006059'</li><li>'ENSG00000006062'</li><li>'ENSG00000006071'</li><li>'ENSG00000006074'</li><li>'ENSG00000006075'</li><li>'ENSG00000006114'</li><li>'ENSG00000006116'</li><li>'ENSG00000006118'</li><li>'ENSG00000006125'</li><li>'ENSG00000006128'</li><li>'ENSG00000006194'</li><li>'ENSG00000006210'</li><li>'ENSG00000006282'</li><li>'ENSG00000006283'</li><li>'ENSG00000006327'</li><li>'ENSG00000006377'</li><li>'ENSG00000006432'</li><li>'ENSG00000006451'</li><li>'ENSG00000006453'</li><li>'ENSG00000006459'</li><li>'ENSG00000006468'</li><li>'ENSG00000006530'</li><li>'ENSG00000006534'</li><li>'ENSG00000006555'</li><li>'ENSG00000006576'</li><li>'ENSG00000006606'</li><li>'ENSG00000006607'</li><li>'ENSG00000006611'</li><li>'ENSG00000006625'</li><li>'ENSG00000006634'</li><li>'ENSG00000006638'</li><li>'ENSG00000006652'</li><li>'ENSG00000006659'</li><li>'ENSG00000006695'</li><li>'ENSG00000006704'</li><li>'ENSG00000006712'</li><li>'ENSG00000006715'</li><li>'ENSG00000006740'</li><li>'ENSG00000006744'</li><li>'ENSG00000006747'</li><li>'ENSG00000006756'</li><li>'ENSG00000006757'</li><li>'ENSG00000006788'</li><li>'ENSG00000006831'</li><li>'ENSG00000006837'</li><li>'ENSG00000007001'</li><li>'ENSG00000007038'</li><li>'ENSG00000007047'</li><li>'ENSG00000007062'</li><li>'ENSG00000007080'</li><li>'ENSG00000007129'</li><li>'ENSG00000007168'</li><li>'ENSG00000007171'</li><li>'ENSG00000007174'</li><li>'ENSG00000007202'</li><li>'ENSG00000007216'</li><li>'ENSG00000007237'</li><li>'ENSG00000007255'</li><li>'ENSG00000007264'</li><li>'ENSG00000007306'</li><li>'ENSG00000007312'</li><li>'ENSG00000007314'</li><li>'ENSG00000007341'</li><li>'ENSG00000007350'</li><li>'ENSG00000007372'</li><li>'ENSG00000007376'</li><li>'ENSG00000007384'</li><li>'ENSG00000007392'</li><li>'ENSG00000007402'</li><li>'ENSG00000007516'</li><li>'ENSG00000007520'</li><li>'ENSG00000007541'</li><li>'ENSG00000007545'</li><li>'ENSG00000007866'</li><li>'ENSG00000007908'</li><li>'ENSG00000007923'</li><li>'ENSG00000007933'</li><li>'ENSG00000007944'</li><li>'ENSG00000007952'</li><li>...</li><li>'ENSG00000254312'</li><li>'ENSG00000254313'</li><li>'ENSG00000254314'</li><li>'ENSG00000254315'</li><li>'ENSG00000254316'</li><li>'ENSG00000254317'</li><li>'ENSG00000254318'</li><li>'ENSG00000254319'</li><li>'ENSG00000254320'</li><li>'ENSG00000254321'</li><li>'ENSG00000254322'</li><li>'ENSG00000254323'</li><li>'ENSG00000254324'</li><li>'ENSG00000254325'</li><li>'ENSG00000254326'</li><li>'ENSG00000254327'</li><li>'ENSG00000254328'</li><li>'ENSG00000254329'</li><li>'ENSG00000254330'</li><li>'ENSG00000254331'</li><li>'ENSG00000254332'</li><li>'ENSG00000254333'</li><li>'ENSG00000254334'</li><li>'ENSG00000254335'</li><li>'ENSG00000254336'</li><li>'ENSG00000254337'</li><li>'ENSG00000254338'</li><li>'ENSG00000254339'</li><li>'ENSG00000254340'</li><li>'ENSG00000254341'</li><li>'ENSG00000254342'</li><li>'ENSG00000254343'</li><li>'ENSG00000254344'</li><li>'ENSG00000254345'</li><li>'ENSG00000254346'</li><li>'ENSG00000254347'</li><li>'ENSG00000254348'</li><li>'ENSG00000254349'</li><li>'ENSG00000254350'</li><li>'ENSG00000254351'</li><li>'ENSG00000254352'</li><li>'ENSG00000254353'</li><li>'ENSG00000254354'</li><li>'ENSG00000254355'</li><li>'ENSG00000254356'</li><li>'ENSG00000254357'</li><li>'ENSG00000254358'</li><li>'ENSG00000254359'</li><li>'ENSG00000254360'</li><li>'ENSG00000254361'</li><li>'ENSG00000254362'</li><li>'ENSG00000254363'</li><li>'ENSG00000254364'</li><li>'ENSG00000254365'</li><li>'ENSG00000254366'</li><li>'ENSG00000254367'</li><li>'ENSG00000254368'</li><li>'ENSG00000254369'</li><li>'ENSG00000254370'</li><li>'ENSG00000254371'</li><li>'ENSG00000254372'</li><li>'ENSG00000254373'</li><li>'ENSG00000254374'</li><li>'ENSG00000254375'</li><li>'ENSG00000254376'</li><li>'ENSG00000254377'</li><li>'ENSG00000254378'</li><li>'ENSG00000254379'</li><li>'ENSG00000254380'</li><li>'ENSG00000254381'</li><li>'ENSG00000254382'</li><li>'ENSG00000254383'</li><li>'ENSG00000254384'</li><li>'ENSG00000254385'</li><li>'ENSG00000254386'</li><li>'ENSG00000254387'</li><li>'ENSG00000254388'</li><li>'ENSG00000254389'</li><li>'ENSG00000254390'</li><li>'ENSG00000254391'</li><li>'ENSG00000254392'</li><li>'ENSG00000254393'</li><li>'ENSG00000254394'</li><li>'ENSG00000254395'</li><li>'ENSG00000254396'</li><li>'LRG_1'</li><li>'LRG_10'</li><li>'LRG_100'</li><li>'LRG_101'</li><li>'LRG_102'</li><li>'LRG_103'</li><li>'LRG_105'</li><li>'LRG_106'</li><li>'LRG_107'</li><li>'LRG_108'</li><li>'LRG_109'</li><li>'LRG_110'</li><li>'LRG_111'</li><li>'LRG_113'</li><li>'LRG_114'</li><li>'LRG_115'</li><li>'LRG_116'</li><li>'LRG_117'</li><li>'LRG_118'</li><li>'LRG_119'</li><li>'LRG_12'</li><li>'LRG_120'</li><li>'LRG_122'</li><li>'LRG_123'</li><li>'LRG_124'</li><li>'LRG_125'</li><li>'LRG_126'</li><li>'LRG_127'</li><li>'LRG_128'</li><li>'LRG_129'</li><li>'LRG_13'</li><li>'LRG_130'</li><li>'LRG_15'</li><li>'LRG_16'</li><li>'LRG_17'</li><li>'LRG_18'</li><li>'LRG_2'</li><li>'LRG_21'</li><li>'LRG_22'</li><li>'LRG_23'</li><li>'LRG_24'</li><li>'LRG_25'</li><li>'LRG_26'</li><li>'LRG_27'</li><li>'LRG_28'</li><li>'LRG_29'</li><li>'LRG_3'</li><li>'LRG_30'</li><li>'LRG_31'</li><li>'LRG_32'</li><li>'LRG_33'</li><li>'LRG_34'</li><li>'LRG_35'</li><li>'LRG_36'</li><li>'LRG_37'</li><li>'LRG_38'</li><li>'LRG_39'</li><li>'LRG_4'</li><li>'LRG_40'</li><li>'LRG_41'</li><li>'LRG_42'</li><li>'LRG_43'</li><li>'LRG_44'</li><li>'LRG_45'</li><li>'LRG_46'</li><li>'LRG_47'</li><li>'LRG_48'</li><li>'LRG_49'</li><li>'LRG_5'</li><li>'LRG_50'</li><li>'LRG_51'</li><li>'LRG_52'</li><li>'LRG_53'</li><li>'LRG_54'</li><li>'LRG_55'</li><li>'LRG_56'</li><li>'LRG_57'</li><li>'LRG_58'</li><li>'LRG_59'</li><li>'LRG_6'</li><li>'LRG_60'</li><li>'LRG_61'</li><li>'LRG_62'</li><li>'LRG_63'</li><li>'LRG_64'</li><li>'LRG_65'</li><li>'LRG_66'</li><li>'LRG_69'</li><li>'LRG_7'</li><li>'LRG_70'</li><li>'LRG_71'</li><li>'LRG_73'</li><li>'LRG_74'</li><li>'LRG_75'</li><li>'LRG_76'</li><li>'LRG_77'</li><li>'LRG_79'</li><li>'LRG_8'</li><li>'LRG_80'</li><li>'LRG_81'</li><li>'LRG_83'</li><li>'LRG_84'</li><li>'LRG_85'</li><li>'LRG_86'</li><li>'LRG_88'</li><li>'LRG_89'</li><li>'LRG_90'</li><li>'LRG_91'</li><li>'LRG_92'</li><li>'LRG_93'</li><li>'LRG_94'</li><li>'LRG_96'</li><li>'LRG_97'</li><li>'LRG_98'</li><li>'LRG_99'</li></ol>\n",
       "</details>"
      ],
      "text/latex": [
       "\\begin{enumerate*}\n",
       "\\item ENSG00000000003\n",
       "\\item ENSG00000000005\n",
       "\\item ENSG00000000419\n",
       "\\item ENSG00000000457\n",
       "\\item ENSG00000000460\n",
       "\\item ENSG00000000938\n",
       "\\item ENSG00000000971\n",
       "\\item ENSG00000001036\n",
       "\\item ENSG00000001084\n",
       "\\item ENSG00000001167\n",
       "\\end{enumerate*}\n",
       "\n",
       "\\emph{Levels}: \\begin{enumerate*}\n",
       "\\item 'ENSG00000000003'\n",
       "\\item 'ENSG00000000005'\n",
       "\\item 'ENSG00000000419'\n",
       "\\item 'ENSG00000000457'\n",
       "\\item 'ENSG00000000460'\n",
       "\\item 'ENSG00000000938'\n",
       "\\item 'ENSG00000000971'\n",
       "\\item 'ENSG00000001036'\n",
       "\\item 'ENSG00000001084'\n",
       "\\item 'ENSG00000001167'\n",
       "\\item 'ENSG00000001460'\n",
       "\\item 'ENSG00000001461'\n",
       "\\item 'ENSG00000001497'\n",
       "\\item 'ENSG00000001561'\n",
       "\\item 'ENSG00000001617'\n",
       "\\item 'ENSG00000001626'\n",
       "\\item 'ENSG00000001629'\n",
       "\\item 'ENSG00000001630'\n",
       "\\item 'ENSG00000001631'\n",
       "\\item 'ENSG00000002016'\n",
       "\\item 'ENSG00000002079'\n",
       "\\item 'ENSG00000002330'\n",
       "\\item 'ENSG00000002549'\n",
       "\\item 'ENSG00000002586'\n",
       "\\item 'ENSG00000002587'\n",
       "\\item 'ENSG00000002726'\n",
       "\\item 'ENSG00000002745'\n",
       "\\item 'ENSG00000002746'\n",
       "\\item 'ENSG00000002822'\n",
       "\\item 'ENSG00000002834'\n",
       "\\item 'ENSG00000002919'\n",
       "\\item 'ENSG00000002933'\n",
       "\\item 'ENSG00000003056'\n",
       "\\item 'ENSG00000003096'\n",
       "\\item 'ENSG00000003137'\n",
       "\\item 'ENSG00000003147'\n",
       "\\item 'ENSG00000003249'\n",
       "\\item 'ENSG00000003393'\n",
       "\\item 'ENSG00000003400'\n",
       "\\item 'ENSG00000003402'\n",
       "\\item 'ENSG00000003436'\n",
       "\\item 'ENSG00000003509'\n",
       "\\item 'ENSG00000003756'\n",
       "\\item 'ENSG00000003987'\n",
       "\\item 'ENSG00000003989'\n",
       "\\item 'ENSG00000004059'\n",
       "\\item 'ENSG00000004139'\n",
       "\\item 'ENSG00000004142'\n",
       "\\item 'ENSG00000004399'\n",
       "\\item 'ENSG00000004455'\n",
       "\\item 'ENSG00000004468'\n",
       "\\item 'ENSG00000004478'\n",
       "\\item 'ENSG00000004487'\n",
       "\\item 'ENSG00000004534'\n",
       "\\item 'ENSG00000004660'\n",
       "\\item 'ENSG00000004700'\n",
       "\\item 'ENSG00000004766'\n",
       "\\item 'ENSG00000004776'\n",
       "\\item 'ENSG00000004777'\n",
       "\\item 'ENSG00000004779'\n",
       "\\item 'ENSG00000004799'\n",
       "\\item 'ENSG00000004809'\n",
       "\\item 'ENSG00000004838'\n",
       "\\item 'ENSG00000004846'\n",
       "\\item 'ENSG00000004848'\n",
       "\\item 'ENSG00000004864'\n",
       "\\item 'ENSG00000004866'\n",
       "\\item 'ENSG00000004897'\n",
       "\\item 'ENSG00000004939'\n",
       "\\item 'ENSG00000004948'\n",
       "\\item 'ENSG00000004961'\n",
       "\\item 'ENSG00000004975'\n",
       "\\item 'ENSG00000005001'\n",
       "\\item 'ENSG00000005007'\n",
       "\\item 'ENSG00000005020'\n",
       "\\item 'ENSG00000005022'\n",
       "\\item 'ENSG00000005059'\n",
       "\\item 'ENSG00000005073'\n",
       "\\item 'ENSG00000005075'\n",
       "\\item 'ENSG00000005100'\n",
       "\\item 'ENSG00000005102'\n",
       "\\item 'ENSG00000005108'\n",
       "\\item 'ENSG00000005156'\n",
       "\\item 'ENSG00000005175'\n",
       "\\item 'ENSG00000005187'\n",
       "\\item 'ENSG00000005189'\n",
       "\\item 'ENSG00000005194'\n",
       "\\item 'ENSG00000005206'\n",
       "\\item 'ENSG00000005238'\n",
       "\\item 'ENSG00000005243'\n",
       "\\item 'ENSG00000005249'\n",
       "\\item 'ENSG00000005302'\n",
       "\\item 'ENSG00000005339'\n",
       "\\item 'ENSG00000005379'\n",
       "\\item 'ENSG00000005381'\n",
       "\\item 'ENSG00000005421'\n",
       "\\item 'ENSG00000005436'\n",
       "\\item 'ENSG00000005448'\n",
       "\\item 'ENSG00000005469'\n",
       "\\item 'ENSG00000005471'\n",
       "\\item 'ENSG00000005483'\n",
       "\\item 'ENSG00000005486'\n",
       "\\item 'ENSG00000005513'\n",
       "\\item 'ENSG00000005700'\n",
       "\\item 'ENSG00000005801'\n",
       "\\item 'ENSG00000005810'\n",
       "\\item 'ENSG00000005812'\n",
       "\\item 'ENSG00000005844'\n",
       "\\item 'ENSG00000005882'\n",
       "\\item 'ENSG00000005884'\n",
       "\\item 'ENSG00000005889'\n",
       "\\item 'ENSG00000005893'\n",
       "\\item 'ENSG00000005955'\n",
       "\\item 'ENSG00000005961'\n",
       "\\item 'ENSG00000005981'\n",
       "\\item 'ENSG00000006007'\n",
       "\\item 'ENSG00000006015'\n",
       "\\item 'ENSG00000006016'\n",
       "\\item 'ENSG00000006025'\n",
       "\\item 'ENSG00000006042'\n",
       "\\item 'ENSG00000006047'\n",
       "\\item 'ENSG00000006059'\n",
       "\\item 'ENSG00000006062'\n",
       "\\item 'ENSG00000006071'\n",
       "\\item 'ENSG00000006074'\n",
       "\\item 'ENSG00000006075'\n",
       "\\item 'ENSG00000006114'\n",
       "\\item 'ENSG00000006116'\n",
       "\\item 'ENSG00000006118'\n",
       "\\item 'ENSG00000006125'\n",
       "\\item 'ENSG00000006128'\n",
       "\\item 'ENSG00000006194'\n",
       "\\item 'ENSG00000006210'\n",
       "\\item 'ENSG00000006282'\n",
       "\\item 'ENSG00000006283'\n",
       "\\item 'ENSG00000006327'\n",
       "\\item 'ENSG00000006377'\n",
       "\\item 'ENSG00000006432'\n",
       "\\item 'ENSG00000006451'\n",
       "\\item 'ENSG00000006453'\n",
       "\\item 'ENSG00000006459'\n",
       "\\item 'ENSG00000006468'\n",
       "\\item 'ENSG00000006530'\n",
       "\\item 'ENSG00000006534'\n",
       "\\item 'ENSG00000006555'\n",
       "\\item 'ENSG00000006576'\n",
       "\\item 'ENSG00000006606'\n",
       "\\item 'ENSG00000006607'\n",
       "\\item 'ENSG00000006611'\n",
       "\\item 'ENSG00000006625'\n",
       "\\item 'ENSG00000006634'\n",
       "\\item 'ENSG00000006638'\n",
       "\\item 'ENSG00000006652'\n",
       "\\item 'ENSG00000006659'\n",
       "\\item 'ENSG00000006695'\n",
       "\\item 'ENSG00000006704'\n",
       "\\item 'ENSG00000006712'\n",
       "\\item 'ENSG00000006715'\n",
       "\\item 'ENSG00000006740'\n",
       "\\item 'ENSG00000006744'\n",
       "\\item 'ENSG00000006747'\n",
       "\\item 'ENSG00000006756'\n",
       "\\item 'ENSG00000006757'\n",
       "\\item 'ENSG00000006788'\n",
       "\\item 'ENSG00000006831'\n",
       "\\item 'ENSG00000006837'\n",
       "\\item 'ENSG00000007001'\n",
       "\\item 'ENSG00000007038'\n",
       "\\item 'ENSG00000007047'\n",
       "\\item 'ENSG00000007062'\n",
       "\\item 'ENSG00000007080'\n",
       "\\item 'ENSG00000007129'\n",
       "\\item 'ENSG00000007168'\n",
       "\\item 'ENSG00000007171'\n",
       "\\item 'ENSG00000007174'\n",
       "\\item 'ENSG00000007202'\n",
       "\\item 'ENSG00000007216'\n",
       "\\item 'ENSG00000007237'\n",
       "\\item 'ENSG00000007255'\n",
       "\\item 'ENSG00000007264'\n",
       "\\item 'ENSG00000007306'\n",
       "\\item 'ENSG00000007312'\n",
       "\\item 'ENSG00000007314'\n",
       "\\item 'ENSG00000007341'\n",
       "\\item 'ENSG00000007350'\n",
       "\\item 'ENSG00000007372'\n",
       "\\item 'ENSG00000007376'\n",
       "\\item 'ENSG00000007384'\n",
       "\\item 'ENSG00000007392'\n",
       "\\item 'ENSG00000007402'\n",
       "\\item 'ENSG00000007516'\n",
       "\\item 'ENSG00000007520'\n",
       "\\item 'ENSG00000007541'\n",
       "\\item 'ENSG00000007545'\n",
       "\\item 'ENSG00000007866'\n",
       "\\item 'ENSG00000007908'\n",
       "\\item 'ENSG00000007923'\n",
       "\\item 'ENSG00000007933'\n",
       "\\item 'ENSG00000007944'\n",
       "\\item 'ENSG00000007952'\n",
       "\\item ...\n",
       "\\item 'ENSG00000254312'\n",
       "\\item 'ENSG00000254313'\n",
       "\\item 'ENSG00000254314'\n",
       "\\item 'ENSG00000254315'\n",
       "\\item 'ENSG00000254316'\n",
       "\\item 'ENSG00000254317'\n",
       "\\item 'ENSG00000254318'\n",
       "\\item 'ENSG00000254319'\n",
       "\\item 'ENSG00000254320'\n",
       "\\item 'ENSG00000254321'\n",
       "\\item 'ENSG00000254322'\n",
       "\\item 'ENSG00000254323'\n",
       "\\item 'ENSG00000254324'\n",
       "\\item 'ENSG00000254325'\n",
       "\\item 'ENSG00000254326'\n",
       "\\item 'ENSG00000254327'\n",
       "\\item 'ENSG00000254328'\n",
       "\\item 'ENSG00000254329'\n",
       "\\item 'ENSG00000254330'\n",
       "\\item 'ENSG00000254331'\n",
       "\\item 'ENSG00000254332'\n",
       "\\item 'ENSG00000254333'\n",
       "\\item 'ENSG00000254334'\n",
       "\\item 'ENSG00000254335'\n",
       "\\item 'ENSG00000254336'\n",
       "\\item 'ENSG00000254337'\n",
       "\\item 'ENSG00000254338'\n",
       "\\item 'ENSG00000254339'\n",
       "\\item 'ENSG00000254340'\n",
       "\\item 'ENSG00000254341'\n",
       "\\item 'ENSG00000254342'\n",
       "\\item 'ENSG00000254343'\n",
       "\\item 'ENSG00000254344'\n",
       "\\item 'ENSG00000254345'\n",
       "\\item 'ENSG00000254346'\n",
       "\\item 'ENSG00000254347'\n",
       "\\item 'ENSG00000254348'\n",
       "\\item 'ENSG00000254349'\n",
       "\\item 'ENSG00000254350'\n",
       "\\item 'ENSG00000254351'\n",
       "\\item 'ENSG00000254352'\n",
       "\\item 'ENSG00000254353'\n",
       "\\item 'ENSG00000254354'\n",
       "\\item 'ENSG00000254355'\n",
       "\\item 'ENSG00000254356'\n",
       "\\item 'ENSG00000254357'\n",
       "\\item 'ENSG00000254358'\n",
       "\\item 'ENSG00000254359'\n",
       "\\item 'ENSG00000254360'\n",
       "\\item 'ENSG00000254361'\n",
       "\\item 'ENSG00000254362'\n",
       "\\item 'ENSG00000254363'\n",
       "\\item 'ENSG00000254364'\n",
       "\\item 'ENSG00000254365'\n",
       "\\item 'ENSG00000254366'\n",
       "\\item 'ENSG00000254367'\n",
       "\\item 'ENSG00000254368'\n",
       "\\item 'ENSG00000254369'\n",
       "\\item 'ENSG00000254370'\n",
       "\\item 'ENSG00000254371'\n",
       "\\item 'ENSG00000254372'\n",
       "\\item 'ENSG00000254373'\n",
       "\\item 'ENSG00000254374'\n",
       "\\item 'ENSG00000254375'\n",
       "\\item 'ENSG00000254376'\n",
       "\\item 'ENSG00000254377'\n",
       "\\item 'ENSG00000254378'\n",
       "\\item 'ENSG00000254379'\n",
       "\\item 'ENSG00000254380'\n",
       "\\item 'ENSG00000254381'\n",
       "\\item 'ENSG00000254382'\n",
       "\\item 'ENSG00000254383'\n",
       "\\item 'ENSG00000254384'\n",
       "\\item 'ENSG00000254385'\n",
       "\\item 'ENSG00000254386'\n",
       "\\item 'ENSG00000254387'\n",
       "\\item 'ENSG00000254388'\n",
       "\\item 'ENSG00000254389'\n",
       "\\item 'ENSG00000254390'\n",
       "\\item 'ENSG00000254391'\n",
       "\\item 'ENSG00000254392'\n",
       "\\item 'ENSG00000254393'\n",
       "\\item 'ENSG00000254394'\n",
       "\\item 'ENSG00000254395'\n",
       "\\item 'ENSG00000254396'\n",
       "\\item 'LRG\\_1'\n",
       "\\item 'LRG\\_10'\n",
       "\\item 'LRG\\_100'\n",
       "\\item 'LRG\\_101'\n",
       "\\item 'LRG\\_102'\n",
       "\\item 'LRG\\_103'\n",
       "\\item 'LRG\\_105'\n",
       "\\item 'LRG\\_106'\n",
       "\\item 'LRG\\_107'\n",
       "\\item 'LRG\\_108'\n",
       "\\item 'LRG\\_109'\n",
       "\\item 'LRG\\_110'\n",
       "\\item 'LRG\\_111'\n",
       "\\item 'LRG\\_113'\n",
       "\\item 'LRG\\_114'\n",
       "\\item 'LRG\\_115'\n",
       "\\item 'LRG\\_116'\n",
       "\\item 'LRG\\_117'\n",
       "\\item 'LRG\\_118'\n",
       "\\item 'LRG\\_119'\n",
       "\\item 'LRG\\_12'\n",
       "\\item 'LRG\\_120'\n",
       "\\item 'LRG\\_122'\n",
       "\\item 'LRG\\_123'\n",
       "\\item 'LRG\\_124'\n",
       "\\item 'LRG\\_125'\n",
       "\\item 'LRG\\_126'\n",
       "\\item 'LRG\\_127'\n",
       "\\item 'LRG\\_128'\n",
       "\\item 'LRG\\_129'\n",
       "\\item 'LRG\\_13'\n",
       "\\item 'LRG\\_130'\n",
       "\\item 'LRG\\_15'\n",
       "\\item 'LRG\\_16'\n",
       "\\item 'LRG\\_17'\n",
       "\\item 'LRG\\_18'\n",
       "\\item 'LRG\\_2'\n",
       "\\item 'LRG\\_21'\n",
       "\\item 'LRG\\_22'\n",
       "\\item 'LRG\\_23'\n",
       "\\item 'LRG\\_24'\n",
       "\\item 'LRG\\_25'\n",
       "\\item 'LRG\\_26'\n",
       "\\item 'LRG\\_27'\n",
       "\\item 'LRG\\_28'\n",
       "\\item 'LRG\\_29'\n",
       "\\item 'LRG\\_3'\n",
       "\\item 'LRG\\_30'\n",
       "\\item 'LRG\\_31'\n",
       "\\item 'LRG\\_32'\n",
       "\\item 'LRG\\_33'\n",
       "\\item 'LRG\\_34'\n",
       "\\item 'LRG\\_35'\n",
       "\\item 'LRG\\_36'\n",
       "\\item 'LRG\\_37'\n",
       "\\item 'LRG\\_38'\n",
       "\\item 'LRG\\_39'\n",
       "\\item 'LRG\\_4'\n",
       "\\item 'LRG\\_40'\n",
       "\\item 'LRG\\_41'\n",
       "\\item 'LRG\\_42'\n",
       "\\item 'LRG\\_43'\n",
       "\\item 'LRG\\_44'\n",
       "\\item 'LRG\\_45'\n",
       "\\item 'LRG\\_46'\n",
       "\\item 'LRG\\_47'\n",
       "\\item 'LRG\\_48'\n",
       "\\item 'LRG\\_49'\n",
       "\\item 'LRG\\_5'\n",
       "\\item 'LRG\\_50'\n",
       "\\item 'LRG\\_51'\n",
       "\\item 'LRG\\_52'\n",
       "\\item 'LRG\\_53'\n",
       "\\item 'LRG\\_54'\n",
       "\\item 'LRG\\_55'\n",
       "\\item 'LRG\\_56'\n",
       "\\item 'LRG\\_57'\n",
       "\\item 'LRG\\_58'\n",
       "\\item 'LRG\\_59'\n",
       "\\item 'LRG\\_6'\n",
       "\\item 'LRG\\_60'\n",
       "\\item 'LRG\\_61'\n",
       "\\item 'LRG\\_62'\n",
       "\\item 'LRG\\_63'\n",
       "\\item 'LRG\\_64'\n",
       "\\item 'LRG\\_65'\n",
       "\\item 'LRG\\_66'\n",
       "\\item 'LRG\\_69'\n",
       "\\item 'LRG\\_7'\n",
       "\\item 'LRG\\_70'\n",
       "\\item 'LRG\\_71'\n",
       "\\item 'LRG\\_73'\n",
       "\\item 'LRG\\_74'\n",
       "\\item 'LRG\\_75'\n",
       "\\item 'LRG\\_76'\n",
       "\\item 'LRG\\_77'\n",
       "\\item 'LRG\\_79'\n",
       "\\item 'LRG\\_8'\n",
       "\\item 'LRG\\_80'\n",
       "\\item 'LRG\\_81'\n",
       "\\item 'LRG\\_83'\n",
       "\\item 'LRG\\_84'\n",
       "\\item 'LRG\\_85'\n",
       "\\item 'LRG\\_86'\n",
       "\\item 'LRG\\_88'\n",
       "\\item 'LRG\\_89'\n",
       "\\item 'LRG\\_90'\n",
       "\\item 'LRG\\_91'\n",
       "\\item 'LRG\\_92'\n",
       "\\item 'LRG\\_93'\n",
       "\\item 'LRG\\_94'\n",
       "\\item 'LRG\\_96'\n",
       "\\item 'LRG\\_97'\n",
       "\\item 'LRG\\_98'\n",
       "\\item 'LRG\\_99'\n",
       "\\end{enumerate*}\n"
      ],
      "text/markdown": [
       "1. ENSG00000000003\n",
       "2. ENSG00000000005\n",
       "3. ENSG00000000419\n",
       "4. ENSG00000000457\n",
       "5. ENSG00000000460\n",
       "6. ENSG00000000938\n",
       "7. ENSG00000000971\n",
       "8. ENSG00000001036\n",
       "9. ENSG00000001084\n",
       "10. ENSG00000001167\n",
       "\n",
       "\n",
       "\n",
       "**Levels**: 1. 'ENSG00000000003'\n",
       "2. 'ENSG00000000005'\n",
       "3. 'ENSG00000000419'\n",
       "4. 'ENSG00000000457'\n",
       "5. 'ENSG00000000460'\n",
       "6. 'ENSG00000000938'\n",
       "7. 'ENSG00000000971'\n",
       "8. 'ENSG00000001036'\n",
       "9. 'ENSG00000001084'\n",
       "10. 'ENSG00000001167'\n",
       "11. 'ENSG00000001460'\n",
       "12. 'ENSG00000001461'\n",
       "13. 'ENSG00000001497'\n",
       "14. 'ENSG00000001561'\n",
       "15. 'ENSG00000001617'\n",
       "16. 'ENSG00000001626'\n",
       "17. 'ENSG00000001629'\n",
       "18. 'ENSG00000001630'\n",
       "19. 'ENSG00000001631'\n",
       "20. 'ENSG00000002016'\n",
       "21. 'ENSG00000002079'\n",
       "22. 'ENSG00000002330'\n",
       "23. 'ENSG00000002549'\n",
       "24. 'ENSG00000002586'\n",
       "25. 'ENSG00000002587'\n",
       "26. 'ENSG00000002726'\n",
       "27. 'ENSG00000002745'\n",
       "28. 'ENSG00000002746'\n",
       "29. 'ENSG00000002822'\n",
       "30. 'ENSG00000002834'\n",
       "31. 'ENSG00000002919'\n",
       "32. 'ENSG00000002933'\n",
       "33. 'ENSG00000003056'\n",
       "34. 'ENSG00000003096'\n",
       "35. 'ENSG00000003137'\n",
       "36. 'ENSG00000003147'\n",
       "37. 'ENSG00000003249'\n",
       "38. 'ENSG00000003393'\n",
       "39. 'ENSG00000003400'\n",
       "40. 'ENSG00000003402'\n",
       "41. 'ENSG00000003436'\n",
       "42. 'ENSG00000003509'\n",
       "43. 'ENSG00000003756'\n",
       "44. 'ENSG00000003987'\n",
       "45. 'ENSG00000003989'\n",
       "46. 'ENSG00000004059'\n",
       "47. 'ENSG00000004139'\n",
       "48. 'ENSG00000004142'\n",
       "49. 'ENSG00000004399'\n",
       "50. 'ENSG00000004455'\n",
       "51. 'ENSG00000004468'\n",
       "52. 'ENSG00000004478'\n",
       "53. 'ENSG00000004487'\n",
       "54. 'ENSG00000004534'\n",
       "55. 'ENSG00000004660'\n",
       "56. 'ENSG00000004700'\n",
       "57. 'ENSG00000004766'\n",
       "58. 'ENSG00000004776'\n",
       "59. 'ENSG00000004777'\n",
       "60. 'ENSG00000004779'\n",
       "61. 'ENSG00000004799'\n",
       "62. 'ENSG00000004809'\n",
       "63. 'ENSG00000004838'\n",
       "64. 'ENSG00000004846'\n",
       "65. 'ENSG00000004848'\n",
       "66. 'ENSG00000004864'\n",
       "67. 'ENSG00000004866'\n",
       "68. 'ENSG00000004897'\n",
       "69. 'ENSG00000004939'\n",
       "70. 'ENSG00000004948'\n",
       "71. 'ENSG00000004961'\n",
       "72. 'ENSG00000004975'\n",
       "73. 'ENSG00000005001'\n",
       "74. 'ENSG00000005007'\n",
       "75. 'ENSG00000005020'\n",
       "76. 'ENSG00000005022'\n",
       "77. 'ENSG00000005059'\n",
       "78. 'ENSG00000005073'\n",
       "79. 'ENSG00000005075'\n",
       "80. 'ENSG00000005100'\n",
       "81. 'ENSG00000005102'\n",
       "82. 'ENSG00000005108'\n",
       "83. 'ENSG00000005156'\n",
       "84. 'ENSG00000005175'\n",
       "85. 'ENSG00000005187'\n",
       "86. 'ENSG00000005189'\n",
       "87. 'ENSG00000005194'\n",
       "88. 'ENSG00000005206'\n",
       "89. 'ENSG00000005238'\n",
       "90. 'ENSG00000005243'\n",
       "91. 'ENSG00000005249'\n",
       "92. 'ENSG00000005302'\n",
       "93. 'ENSG00000005339'\n",
       "94. 'ENSG00000005379'\n",
       "95. 'ENSG00000005381'\n",
       "96. 'ENSG00000005421'\n",
       "97. 'ENSG00000005436'\n",
       "98. 'ENSG00000005448'\n",
       "99. 'ENSG00000005469'\n",
       "100. 'ENSG00000005471'\n",
       "101. 'ENSG00000005483'\n",
       "102. 'ENSG00000005486'\n",
       "103. 'ENSG00000005513'\n",
       "104. 'ENSG00000005700'\n",
       "105. 'ENSG00000005801'\n",
       "106. 'ENSG00000005810'\n",
       "107. 'ENSG00000005812'\n",
       "108. 'ENSG00000005844'\n",
       "109. 'ENSG00000005882'\n",
       "110. 'ENSG00000005884'\n",
       "111. 'ENSG00000005889'\n",
       "112. 'ENSG00000005893'\n",
       "113. 'ENSG00000005955'\n",
       "114. 'ENSG00000005961'\n",
       "115. 'ENSG00000005981'\n",
       "116. 'ENSG00000006007'\n",
       "117. 'ENSG00000006015'\n",
       "118. 'ENSG00000006016'\n",
       "119. 'ENSG00000006025'\n",
       "120. 'ENSG00000006042'\n",
       "121. 'ENSG00000006047'\n",
       "122. 'ENSG00000006059'\n",
       "123. 'ENSG00000006062'\n",
       "124. 'ENSG00000006071'\n",
       "125. 'ENSG00000006074'\n",
       "126. 'ENSG00000006075'\n",
       "127. 'ENSG00000006114'\n",
       "128. 'ENSG00000006116'\n",
       "129. 'ENSG00000006118'\n",
       "130. 'ENSG00000006125'\n",
       "131. 'ENSG00000006128'\n",
       "132. 'ENSG00000006194'\n",
       "133. 'ENSG00000006210'\n",
       "134. 'ENSG00000006282'\n",
       "135. 'ENSG00000006283'\n",
       "136. 'ENSG00000006327'\n",
       "137. 'ENSG00000006377'\n",
       "138. 'ENSG00000006432'\n",
       "139. 'ENSG00000006451'\n",
       "140. 'ENSG00000006453'\n",
       "141. 'ENSG00000006459'\n",
       "142. 'ENSG00000006468'\n",
       "143. 'ENSG00000006530'\n",
       "144. 'ENSG00000006534'\n",
       "145. 'ENSG00000006555'\n",
       "146. 'ENSG00000006576'\n",
       "147. 'ENSG00000006606'\n",
       "148. 'ENSG00000006607'\n",
       "149. 'ENSG00000006611'\n",
       "150. 'ENSG00000006625'\n",
       "151. 'ENSG00000006634'\n",
       "152. 'ENSG00000006638'\n",
       "153. 'ENSG00000006652'\n",
       "154. 'ENSG00000006659'\n",
       "155. 'ENSG00000006695'\n",
       "156. 'ENSG00000006704'\n",
       "157. 'ENSG00000006712'\n",
       "158. 'ENSG00000006715'\n",
       "159. 'ENSG00000006740'\n",
       "160. 'ENSG00000006744'\n",
       "161. 'ENSG00000006747'\n",
       "162. 'ENSG00000006756'\n",
       "163. 'ENSG00000006757'\n",
       "164. 'ENSG00000006788'\n",
       "165. 'ENSG00000006831'\n",
       "166. 'ENSG00000006837'\n",
       "167. 'ENSG00000007001'\n",
       "168. 'ENSG00000007038'\n",
       "169. 'ENSG00000007047'\n",
       "170. 'ENSG00000007062'\n",
       "171. 'ENSG00000007080'\n",
       "172. 'ENSG00000007129'\n",
       "173. 'ENSG00000007168'\n",
       "174. 'ENSG00000007171'\n",
       "175. 'ENSG00000007174'\n",
       "176. 'ENSG00000007202'\n",
       "177. 'ENSG00000007216'\n",
       "178. 'ENSG00000007237'\n",
       "179. 'ENSG00000007255'\n",
       "180. 'ENSG00000007264'\n",
       "181. 'ENSG00000007306'\n",
       "182. 'ENSG00000007312'\n",
       "183. 'ENSG00000007314'\n",
       "184. 'ENSG00000007341'\n",
       "185. 'ENSG00000007350'\n",
       "186. 'ENSG00000007372'\n",
       "187. 'ENSG00000007376'\n",
       "188. 'ENSG00000007384'\n",
       "189. 'ENSG00000007392'\n",
       "190. 'ENSG00000007402'\n",
       "191. 'ENSG00000007516'\n",
       "192. 'ENSG00000007520'\n",
       "193. 'ENSG00000007541'\n",
       "194. 'ENSG00000007545'\n",
       "195. 'ENSG00000007866'\n",
       "196. 'ENSG00000007908'\n",
       "197. 'ENSG00000007923'\n",
       "198. 'ENSG00000007933'\n",
       "199. 'ENSG00000007944'\n",
       "200. 'ENSG00000007952'\n",
       "201. ...\n",
       "202. 'ENSG00000254312'\n",
       "203. 'ENSG00000254313'\n",
       "204. 'ENSG00000254314'\n",
       "205. 'ENSG00000254315'\n",
       "206. 'ENSG00000254316'\n",
       "207. 'ENSG00000254317'\n",
       "208. 'ENSG00000254318'\n",
       "209. 'ENSG00000254319'\n",
       "210. 'ENSG00000254320'\n",
       "211. 'ENSG00000254321'\n",
       "212. 'ENSG00000254322'\n",
       "213. 'ENSG00000254323'\n",
       "214. 'ENSG00000254324'\n",
       "215. 'ENSG00000254325'\n",
       "216. 'ENSG00000254326'\n",
       "217. 'ENSG00000254327'\n",
       "218. 'ENSG00000254328'\n",
       "219. 'ENSG00000254329'\n",
       "220. 'ENSG00000254330'\n",
       "221. 'ENSG00000254331'\n",
       "222. 'ENSG00000254332'\n",
       "223. 'ENSG00000254333'\n",
       "224. 'ENSG00000254334'\n",
       "225. 'ENSG00000254335'\n",
       "226. 'ENSG00000254336'\n",
       "227. 'ENSG00000254337'\n",
       "228. 'ENSG00000254338'\n",
       "229. 'ENSG00000254339'\n",
       "230. 'ENSG00000254340'\n",
       "231. 'ENSG00000254341'\n",
       "232. 'ENSG00000254342'\n",
       "233. 'ENSG00000254343'\n",
       "234. 'ENSG00000254344'\n",
       "235. 'ENSG00000254345'\n",
       "236. 'ENSG00000254346'\n",
       "237. 'ENSG00000254347'\n",
       "238. 'ENSG00000254348'\n",
       "239. 'ENSG00000254349'\n",
       "240. 'ENSG00000254350'\n",
       "241. 'ENSG00000254351'\n",
       "242. 'ENSG00000254352'\n",
       "243. 'ENSG00000254353'\n",
       "244. 'ENSG00000254354'\n",
       "245. 'ENSG00000254355'\n",
       "246. 'ENSG00000254356'\n",
       "247. 'ENSG00000254357'\n",
       "248. 'ENSG00000254358'\n",
       "249. 'ENSG00000254359'\n",
       "250. 'ENSG00000254360'\n",
       "251. 'ENSG00000254361'\n",
       "252. 'ENSG00000254362'\n",
       "253. 'ENSG00000254363'\n",
       "254. 'ENSG00000254364'\n",
       "255. 'ENSG00000254365'\n",
       "256. 'ENSG00000254366'\n",
       "257. 'ENSG00000254367'\n",
       "258. 'ENSG00000254368'\n",
       "259. 'ENSG00000254369'\n",
       "260. 'ENSG00000254370'\n",
       "261. 'ENSG00000254371'\n",
       "262. 'ENSG00000254372'\n",
       "263. 'ENSG00000254373'\n",
       "264. 'ENSG00000254374'\n",
       "265. 'ENSG00000254375'\n",
       "266. 'ENSG00000254376'\n",
       "267. 'ENSG00000254377'\n",
       "268. 'ENSG00000254378'\n",
       "269. 'ENSG00000254379'\n",
       "270. 'ENSG00000254380'\n",
       "271. 'ENSG00000254381'\n",
       "272. 'ENSG00000254382'\n",
       "273. 'ENSG00000254383'\n",
       "274. 'ENSG00000254384'\n",
       "275. 'ENSG00000254385'\n",
       "276. 'ENSG00000254386'\n",
       "277. 'ENSG00000254387'\n",
       "278. 'ENSG00000254388'\n",
       "279. 'ENSG00000254389'\n",
       "280. 'ENSG00000254390'\n",
       "281. 'ENSG00000254391'\n",
       "282. 'ENSG00000254392'\n",
       "283. 'ENSG00000254393'\n",
       "284. 'ENSG00000254394'\n",
       "285. 'ENSG00000254395'\n",
       "286. 'ENSG00000254396'\n",
       "287. 'LRG_1'\n",
       "288. 'LRG_10'\n",
       "289. 'LRG_100'\n",
       "290. 'LRG_101'\n",
       "291. 'LRG_102'\n",
       "292. 'LRG_103'\n",
       "293. 'LRG_105'\n",
       "294. 'LRG_106'\n",
       "295. 'LRG_107'\n",
       "296. 'LRG_108'\n",
       "297. 'LRG_109'\n",
       "298. 'LRG_110'\n",
       "299. 'LRG_111'\n",
       "300. 'LRG_113'\n",
       "301. 'LRG_114'\n",
       "302. 'LRG_115'\n",
       "303. 'LRG_116'\n",
       "304. 'LRG_117'\n",
       "305. 'LRG_118'\n",
       "306. 'LRG_119'\n",
       "307. 'LRG_12'\n",
       "308. 'LRG_120'\n",
       "309. 'LRG_122'\n",
       "310. 'LRG_123'\n",
       "311. 'LRG_124'\n",
       "312. 'LRG_125'\n",
       "313. 'LRG_126'\n",
       "314. 'LRG_127'\n",
       "315. 'LRG_128'\n",
       "316. 'LRG_129'\n",
       "317. 'LRG_13'\n",
       "318. 'LRG_130'\n",
       "319. 'LRG_15'\n",
       "320. 'LRG_16'\n",
       "321. 'LRG_17'\n",
       "322. 'LRG_18'\n",
       "323. 'LRG_2'\n",
       "324. 'LRG_21'\n",
       "325. 'LRG_22'\n",
       "326. 'LRG_23'\n",
       "327. 'LRG_24'\n",
       "328. 'LRG_25'\n",
       "329. 'LRG_26'\n",
       "330. 'LRG_27'\n",
       "331. 'LRG_28'\n",
       "332. 'LRG_29'\n",
       "333. 'LRG_3'\n",
       "334. 'LRG_30'\n",
       "335. 'LRG_31'\n",
       "336. 'LRG_32'\n",
       "337. 'LRG_33'\n",
       "338. 'LRG_34'\n",
       "339. 'LRG_35'\n",
       "340. 'LRG_36'\n",
       "341. 'LRG_37'\n",
       "342. 'LRG_38'\n",
       "343. 'LRG_39'\n",
       "344. 'LRG_4'\n",
       "345. 'LRG_40'\n",
       "346. 'LRG_41'\n",
       "347. 'LRG_42'\n",
       "348. 'LRG_43'\n",
       "349. 'LRG_44'\n",
       "350. 'LRG_45'\n",
       "351. 'LRG_46'\n",
       "352. 'LRG_47'\n",
       "353. 'LRG_48'\n",
       "354. 'LRG_49'\n",
       "355. 'LRG_5'\n",
       "356. 'LRG_50'\n",
       "357. 'LRG_51'\n",
       "358. 'LRG_52'\n",
       "359. 'LRG_53'\n",
       "360. 'LRG_54'\n",
       "361. 'LRG_55'\n",
       "362. 'LRG_56'\n",
       "363. 'LRG_57'\n",
       "364. 'LRG_58'\n",
       "365. 'LRG_59'\n",
       "366. 'LRG_6'\n",
       "367. 'LRG_60'\n",
       "368. 'LRG_61'\n",
       "369. 'LRG_62'\n",
       "370. 'LRG_63'\n",
       "371. 'LRG_64'\n",
       "372. 'LRG_65'\n",
       "373. 'LRG_66'\n",
       "374. 'LRG_69'\n",
       "375. 'LRG_7'\n",
       "376. 'LRG_70'\n",
       "377. 'LRG_71'\n",
       "378. 'LRG_73'\n",
       "379. 'LRG_74'\n",
       "380. 'LRG_75'\n",
       "381. 'LRG_76'\n",
       "382. 'LRG_77'\n",
       "383. 'LRG_79'\n",
       "384. 'LRG_8'\n",
       "385. 'LRG_80'\n",
       "386. 'LRG_81'\n",
       "387. 'LRG_83'\n",
       "388. 'LRG_84'\n",
       "389. 'LRG_85'\n",
       "390. 'LRG_86'\n",
       "391. 'LRG_88'\n",
       "392. 'LRG_89'\n",
       "393. 'LRG_90'\n",
       "394. 'LRG_91'\n",
       "395. 'LRG_92'\n",
       "396. 'LRG_93'\n",
       "397. 'LRG_94'\n",
       "398. 'LRG_96'\n",
       "399. 'LRG_97'\n",
       "400. 'LRG_98'\n",
       "401. 'LRG_99'\n",
       "\n",
       "\n"
      ],
      "text/plain": [
       " [1] ENSG00000000003 ENSG00000000005 ENSG00000000419 ENSG00000000457\n",
       " [5] ENSG00000000460 ENSG00000000938 ENSG00000000971 ENSG00000001036\n",
       " [9] ENSG00000001084 ENSG00000001167\n",
       "52580 Levels: ENSG00000000003 ENSG00000000005 ENSG00000000419 ... LRG_99"
      ]
     },
     "metadata": {},
     "output_type": "display_data"
    }
   ],
   "source": [
    "fData(bodymap.eset)[1:10,,1]"
   ]
  },
  {
   "cell_type": "markdown",
   "metadata": {},
   "source": [
    "##### Session information"
   ]
  },
  {
   "cell_type": "code",
   "execution_count": 13,
   "metadata": {},
   "outputs": [
    {
     "data": {
      "text/html": [
       "<dl>\n",
       "\t<dt>$platform</dt>\n",
       "\t\t<dd><dl>\n",
       "\t<dt>$version</dt>\n",
       "\t\t<dd>'R version 4.1.0 (2021-05-18)'</dd>\n",
       "\t<dt>$os</dt>\n",
       "\t\t<dd>'Windows 10 x64 (build 22557)'</dd>\n",
       "\t<dt>$system</dt>\n",
       "\t\t<dd>'x86_64, mingw32'</dd>\n",
       "\t<dt>$ui</dt>\n",
       "\t\t<dd>'RTerm'</dd>\n",
       "\t<dt>$language</dt>\n",
       "\t\t<dd>'(EN)'</dd>\n",
       "\t<dt>$collate</dt>\n",
       "\t\t<dd>'English_India.1252'</dd>\n",
       "\t<dt>$ctype</dt>\n",
       "\t\t<dd>'English_India.1252'</dd>\n",
       "\t<dt>$tz</dt>\n",
       "\t\t<dd>'Asia/Calcutta'</dd>\n",
       "\t<dt>$date</dt>\n",
       "\t\t<dd>'2022-02-22'</dd>\n",
       "\t<dt>$pandoc</dt>\n",
       "\t\t<dd>'NA'</dd>\n",
       "</dl>\n",
       "</dd>\n",
       "\t<dt>$packages</dt>\n",
       "\t\t<dd><table class=\"dataframe\">\n",
       "<caption>A packages_info: 45 × 11</caption>\n",
       "<thead>\n",
       "\t<tr><th></th><th scope=col>package</th><th scope=col>ondiskversion</th><th scope=col>loadedversion</th><th scope=col>path</th><th scope=col>loadedpath</th><th scope=col>attached</th><th scope=col>is_base</th><th scope=col>date</th><th scope=col>source</th><th scope=col>md5ok</th><th scope=col>library</th></tr>\n",
       "\t<tr><th></th><th scope=col>&lt;chr&gt;</th><th scope=col>&lt;chr&gt;</th><th scope=col>&lt;chr&gt;</th><th scope=col>&lt;chr&gt;</th><th scope=col>&lt;chr&gt;</th><th scope=col>&lt;lgl&gt;</th><th scope=col>&lt;lgl&gt;</th><th scope=col>&lt;chr&gt;</th><th scope=col>&lt;chr&gt;</th><th scope=col>&lt;lgl&gt;</th><th scope=col>&lt;fct&gt;</th></tr>\n",
       "</thead>\n",
       "<tbody>\n",
       "\t<tr><th scope=row>base64enc</th><td>base64enc   </td><td>0.1.3  </td><td>0.1-3  </td><td>C:/Users/etuca/OneDrive/Documents/R/win-library/4.1/base64enc   </td><td>C:/Users/etuca/OneDrive/Documents/R/win-library/4.1/base64enc   </td><td>FALSE</td><td>FALSE</td><td>2015-07-28</td><td>CRAN (R 4.1.1)</td><td>TRUE</td><td>C:/Users/etuca/OneDrive/Documents/R/win-library/4.1</td></tr>\n",
       "\t<tr><th scope=row>Biobase</th><td>Biobase     </td><td>2.54.0 </td><td>2.54.0 </td><td>C:/Users/etuca/OneDrive/Documents/R/win-library/4.1/Biobase     </td><td>C:/Users/etuca/OneDrive/Documents/R/win-library/4.1/Biobase     </td><td> TRUE</td><td>FALSE</td><td>2021-10-26</td><td>Bioconductor  </td><td>TRUE</td><td>C:/Users/etuca/OneDrive/Documents/R/win-library/4.1</td></tr>\n",
       "\t<tr><th scope=row>BiocGenerics</th><td>BiocGenerics</td><td>0.40.0 </td><td>0.40.0 </td><td>C:/Users/etuca/OneDrive/Documents/R/win-library/4.1/BiocGenerics</td><td>C:/Users/etuca/OneDrive/Documents/R/win-library/4.1/BiocGenerics</td><td> TRUE</td><td>FALSE</td><td>2021-10-26</td><td>Bioconductor  </td><td>TRUE</td><td>C:/Users/etuca/OneDrive/Documents/R/win-library/4.1</td></tr>\n",
       "\t<tr><th scope=row>BiocManager</th><td>BiocManager </td><td>1.30.16</td><td>1.30.16</td><td>C:/Users/etuca/OneDrive/Documents/R/win-library/4.1/BiocManager </td><td>C:/Users/etuca/OneDrive/Documents/R/win-library/4.1/BiocManager </td><td> TRUE</td><td>FALSE</td><td>2021-06-15</td><td>CRAN (R 4.1.2)</td><td>TRUE</td><td>C:/Users/etuca/OneDrive/Documents/R/win-library/4.1</td></tr>\n",
       "\t<tr><th scope=row>brio</th><td>brio        </td><td>1.1.3  </td><td>1.1.3  </td><td>C:/Users/etuca/OneDrive/Documents/R/win-library/4.1/brio        </td><td>C:/Users/etuca/OneDrive/Documents/R/win-library/4.1/brio        </td><td>FALSE</td><td>FALSE</td><td>2021-11-30</td><td>CRAN (R 4.1.2)</td><td>TRUE</td><td>C:/Users/etuca/OneDrive/Documents/R/win-library/4.1</td></tr>\n",
       "\t<tr><th scope=row>cachem</th><td>cachem      </td><td>1.0.6  </td><td>1.0.6  </td><td>C:/Users/etuca/OneDrive/Documents/R/win-library/4.1/cachem      </td><td>C:/Users/etuca/OneDrive/Documents/R/win-library/4.1/cachem      </td><td>FALSE</td><td>FALSE</td><td>2021-08-19</td><td>CRAN (R 4.1.2)</td><td>TRUE</td><td>C:/Users/etuca/OneDrive/Documents/R/win-library/4.1</td></tr>\n",
       "\t<tr><th scope=row>callr</th><td>callr       </td><td>3.7.0  </td><td>3.7.0  </td><td>C:/Users/etuca/OneDrive/Documents/R/win-library/4.1/callr       </td><td>C:/Users/etuca/OneDrive/Documents/R/win-library/4.1/callr       </td><td>FALSE</td><td>FALSE</td><td>2021-04-20</td><td>CRAN (R 4.1.2)</td><td>TRUE</td><td>C:/Users/etuca/OneDrive/Documents/R/win-library/4.1</td></tr>\n",
       "\t<tr><th scope=row>cli</th><td>cli         </td><td>3.1.1  </td><td>3.1.1  </td><td>C:/Users/etuca/OneDrive/Documents/R/win-library/4.1/cli         </td><td>C:/Users/etuca/OneDrive/Documents/R/win-library/4.1/cli         </td><td>FALSE</td><td>FALSE</td><td>2022-01-20</td><td>CRAN (R 4.1.2)</td><td>TRUE</td><td>C:/Users/etuca/OneDrive/Documents/R/win-library/4.1</td></tr>\n",
       "\t<tr><th scope=row>crayon</th><td>crayon      </td><td>1.5.0  </td><td>1.5.0  </td><td>C:/Users/etuca/OneDrive/Documents/R/win-library/4.1/crayon      </td><td>C:/Users/etuca/OneDrive/Documents/R/win-library/4.1/crayon      </td><td>FALSE</td><td>FALSE</td><td>2022-02-14</td><td>CRAN (R 4.1.2)</td><td>TRUE</td><td>C:/Users/etuca/OneDrive/Documents/R/win-library/4.1</td></tr>\n",
       "\t<tr><th scope=row>desc</th><td>desc        </td><td>1.4.0  </td><td>1.4.0  </td><td>C:/Users/etuca/OneDrive/Documents/R/win-library/4.1/desc        </td><td>C:/Users/etuca/OneDrive/Documents/R/win-library/4.1/desc        </td><td>FALSE</td><td>FALSE</td><td>2021-09-28</td><td>CRAN (R 4.1.2)</td><td>TRUE</td><td>C:/Users/etuca/OneDrive/Documents/R/win-library/4.1</td></tr>\n",
       "\t<tr><th scope=row>devtools</th><td>devtools    </td><td>2.4.3  </td><td>2.4.3  </td><td>C:/Users/etuca/OneDrive/Documents/R/win-library/4.1/devtools    </td><td>C:/Users/etuca/OneDrive/Documents/R/win-library/4.1/devtools    </td><td> TRUE</td><td>FALSE</td><td>2021-11-30</td><td>CRAN (R 4.1.2)</td><td>TRUE</td><td>C:/Users/etuca/OneDrive/Documents/R/win-library/4.1</td></tr>\n",
       "\t<tr><th scope=row>digest</th><td>digest      </td><td>0.6.29 </td><td>0.6.29 </td><td>C:/Users/etuca/OneDrive/Documents/R/win-library/4.1/digest      </td><td>C:/Users/etuca/OneDrive/Documents/R/win-library/4.1/digest      </td><td>FALSE</td><td>FALSE</td><td>2021-12-01</td><td>CRAN (R 4.1.2)</td><td>TRUE</td><td>C:/Users/etuca/OneDrive/Documents/R/win-library/4.1</td></tr>\n",
       "\t<tr><th scope=row>ellipsis</th><td>ellipsis    </td><td>0.3.2  </td><td>0.3.2  </td><td>C:/Users/etuca/OneDrive/Documents/R/win-library/4.1/ellipsis    </td><td>C:/Users/etuca/OneDrive/Documents/R/win-library/4.1/ellipsis    </td><td>FALSE</td><td>FALSE</td><td>2021-04-29</td><td>CRAN (R 4.1.2)</td><td>TRUE</td><td>C:/Users/etuca/OneDrive/Documents/R/win-library/4.1</td></tr>\n",
       "\t<tr><th scope=row>evaluate</th><td>evaluate    </td><td>0.15   </td><td>0.15   </td><td>C:/Users/etuca/OneDrive/Documents/R/win-library/4.1/evaluate    </td><td>C:/Users/etuca/OneDrive/Documents/R/win-library/4.1/evaluate    </td><td>FALSE</td><td>FALSE</td><td>2022-02-18</td><td>CRAN (R 4.1.2)</td><td>TRUE</td><td>C:/Users/etuca/OneDrive/Documents/R/win-library/4.1</td></tr>\n",
       "\t<tr><th scope=row>fansi</th><td>fansi       </td><td>1.0.2  </td><td>1.0.2  </td><td>C:/Users/etuca/OneDrive/Documents/R/win-library/4.1/fansi       </td><td>C:/Users/etuca/OneDrive/Documents/R/win-library/4.1/fansi       </td><td>FALSE</td><td>FALSE</td><td>2022-01-14</td><td>CRAN (R 4.1.2)</td><td>TRUE</td><td>C:/Users/etuca/OneDrive/Documents/R/win-library/4.1</td></tr>\n",
       "\t<tr><th scope=row>fastmap</th><td>fastmap     </td><td>1.1.0  </td><td>1.1.0  </td><td>C:/Users/etuca/OneDrive/Documents/R/win-library/4.1/fastmap     </td><td>C:/Users/etuca/OneDrive/Documents/R/win-library/4.1/fastmap     </td><td>FALSE</td><td>FALSE</td><td>2021-01-25</td><td>CRAN (R 4.1.2)</td><td>TRUE</td><td>C:/Users/etuca/OneDrive/Documents/R/win-library/4.1</td></tr>\n",
       "\t<tr><th scope=row>fs</th><td>fs          </td><td>1.5.2  </td><td>1.5.2  </td><td>C:/Users/etuca/OneDrive/Documents/R/win-library/4.1/fs          </td><td>C:/Users/etuca/OneDrive/Documents/R/win-library/4.1/fs          </td><td>FALSE</td><td>FALSE</td><td>2021-12-08</td><td>CRAN (R 4.1.2)</td><td>TRUE</td><td>C:/Users/etuca/OneDrive/Documents/R/win-library/4.1</td></tr>\n",
       "\t<tr><th scope=row>glue</th><td>glue        </td><td>1.6.1  </td><td>1.6.1  </td><td>C:/Users/etuca/OneDrive/Documents/R/win-library/4.1/glue        </td><td>C:/Users/etuca/OneDrive/Documents/R/win-library/4.1/glue        </td><td>FALSE</td><td>FALSE</td><td>2022-01-22</td><td>CRAN (R 4.1.2)</td><td>TRUE</td><td>C:/Users/etuca/OneDrive/Documents/R/win-library/4.1</td></tr>\n",
       "\t<tr><th scope=row>htmltools</th><td>htmltools   </td><td>0.5.2  </td><td>0.5.2  </td><td>C:/Users/etuca/OneDrive/Documents/R/win-library/4.1/htmltools   </td><td>C:/Users/etuca/OneDrive/Documents/R/win-library/4.1/htmltools   </td><td>FALSE</td><td>FALSE</td><td>2021-08-25</td><td>CRAN (R 4.1.2)</td><td>TRUE</td><td>C:/Users/etuca/OneDrive/Documents/R/win-library/4.1</td></tr>\n",
       "\t<tr><th scope=row>IRdisplay</th><td>IRdisplay   </td><td>1.1    </td><td>1.1    </td><td>C:/Users/etuca/OneDrive/Documents/R/win-library/4.1/IRdisplay   </td><td>C:/Users/etuca/OneDrive/Documents/R/win-library/4.1/IRdisplay   </td><td>FALSE</td><td>FALSE</td><td>2022-01-04</td><td>CRAN (R 4.1.2)</td><td>TRUE</td><td>C:/Users/etuca/OneDrive/Documents/R/win-library/4.1</td></tr>\n",
       "\t<tr><th scope=row>IRkernel</th><td>IRkernel    </td><td>1.3    </td><td>1.3    </td><td>C:/Users/etuca/OneDrive/Documents/R/win-library/4.1/IRkernel    </td><td>C:/Users/etuca/OneDrive/Documents/R/win-library/4.1/IRkernel    </td><td>FALSE</td><td>FALSE</td><td>2022-01-03</td><td>CRAN (R 4.1.2)</td><td>TRUE</td><td>C:/Users/etuca/OneDrive/Documents/R/win-library/4.1</td></tr>\n",
       "\t<tr><th scope=row>jsonlite</th><td>jsonlite    </td><td>1.7.3  </td><td>1.7.3  </td><td>C:/Users/etuca/OneDrive/Documents/R/win-library/4.1/jsonlite    </td><td>C:/Users/etuca/OneDrive/Documents/R/win-library/4.1/jsonlite    </td><td>FALSE</td><td>FALSE</td><td>2022-01-17</td><td>CRAN (R 4.1.2)</td><td>TRUE</td><td>C:/Users/etuca/OneDrive/Documents/R/win-library/4.1</td></tr>\n",
       "\t<tr><th scope=row>lifecycle</th><td>lifecycle   </td><td>1.0.1  </td><td>1.0.1  </td><td>C:/Users/etuca/OneDrive/Documents/R/win-library/4.1/lifecycle   </td><td>C:/Users/etuca/OneDrive/Documents/R/win-library/4.1/lifecycle   </td><td>FALSE</td><td>FALSE</td><td>2021-09-24</td><td>CRAN (R 4.1.2)</td><td>TRUE</td><td>C:/Users/etuca/OneDrive/Documents/R/win-library/4.1</td></tr>\n",
       "\t<tr><th scope=row>magrittr</th><td>magrittr    </td><td>2.0.2  </td><td>2.0.2  </td><td>C:/Users/etuca/OneDrive/Documents/R/win-library/4.1/magrittr    </td><td>C:/Users/etuca/OneDrive/Documents/R/win-library/4.1/magrittr    </td><td>FALSE</td><td>FALSE</td><td>2022-01-26</td><td>CRAN (R 4.1.2)</td><td>TRUE</td><td>C:/Users/etuca/OneDrive/Documents/R/win-library/4.1</td></tr>\n",
       "\t<tr><th scope=row>memoise</th><td>memoise     </td><td>2.0.1  </td><td>2.0.1  </td><td>C:/Users/etuca/OneDrive/Documents/R/win-library/4.1/memoise     </td><td>C:/Users/etuca/OneDrive/Documents/R/win-library/4.1/memoise     </td><td>FALSE</td><td>FALSE</td><td>2021-11-26</td><td>CRAN (R 4.1.2)</td><td>TRUE</td><td>C:/Users/etuca/OneDrive/Documents/R/win-library/4.1</td></tr>\n",
       "\t<tr><th scope=row>pbdZMQ</th><td>pbdZMQ      </td><td>0.3.7  </td><td>0.3-7  </td><td>C:/Users/etuca/OneDrive/Documents/R/win-library/4.1/pbdZMQ      </td><td>C:/Users/etuca/OneDrive/Documents/R/win-library/4.1/pbdZMQ      </td><td>FALSE</td><td>FALSE</td><td>2022-02-05</td><td>CRAN (R 4.1.2)</td><td>TRUE</td><td>C:/Users/etuca/OneDrive/Documents/R/win-library/4.1</td></tr>\n",
       "\t<tr><th scope=row>pillar</th><td>pillar      </td><td>1.7.0  </td><td>1.7.0  </td><td>C:/Users/etuca/OneDrive/Documents/R/win-library/4.1/pillar      </td><td>C:/Users/etuca/OneDrive/Documents/R/win-library/4.1/pillar      </td><td>FALSE</td><td>FALSE</td><td>2022-02-01</td><td>CRAN (R 4.1.2)</td><td>TRUE</td><td>C:/Users/etuca/OneDrive/Documents/R/win-library/4.1</td></tr>\n",
       "\t<tr><th scope=row>pkgbuild</th><td>pkgbuild    </td><td>1.3.1  </td><td>1.3.1  </td><td>C:/Users/etuca/OneDrive/Documents/R/win-library/4.1/pkgbuild    </td><td>C:/Users/etuca/OneDrive/Documents/R/win-library/4.1/pkgbuild    </td><td>FALSE</td><td>FALSE</td><td>2021-12-20</td><td>CRAN (R 4.1.2)</td><td>TRUE</td><td>C:/Users/etuca/OneDrive/Documents/R/win-library/4.1</td></tr>\n",
       "\t<tr><th scope=row>pkgload</th><td>pkgload     </td><td>1.2.4  </td><td>1.2.4  </td><td>C:/Users/etuca/OneDrive/Documents/R/win-library/4.1/pkgload     </td><td>C:/Users/etuca/OneDrive/Documents/R/win-library/4.1/pkgload     </td><td>FALSE</td><td>FALSE</td><td>2021-11-30</td><td>CRAN (R 4.1.2)</td><td>TRUE</td><td>C:/Users/etuca/OneDrive/Documents/R/win-library/4.1</td></tr>\n",
       "\t<tr><th scope=row>prettyunits</th><td>prettyunits </td><td>1.1.1  </td><td>1.1.1  </td><td>C:/Users/etuca/OneDrive/Documents/R/win-library/4.1/prettyunits </td><td>C:/Users/etuca/OneDrive/Documents/R/win-library/4.1/prettyunits </td><td>FALSE</td><td>FALSE</td><td>2020-01-24</td><td>CRAN (R 4.1.2)</td><td>TRUE</td><td>C:/Users/etuca/OneDrive/Documents/R/win-library/4.1</td></tr>\n",
       "\t<tr><th scope=row>processx</th><td>processx    </td><td>3.5.2  </td><td>3.5.2  </td><td>C:/Users/etuca/OneDrive/Documents/R/win-library/4.1/processx    </td><td>C:/Users/etuca/OneDrive/Documents/R/win-library/4.1/processx    </td><td>FALSE</td><td>FALSE</td><td>2021-04-30</td><td>CRAN (R 4.1.2)</td><td>TRUE</td><td>C:/Users/etuca/OneDrive/Documents/R/win-library/4.1</td></tr>\n",
       "\t<tr><th scope=row>ps</th><td>ps          </td><td>1.6.0  </td><td>1.6.0  </td><td>C:/Users/etuca/OneDrive/Documents/R/win-library/4.1/ps          </td><td>C:/Users/etuca/OneDrive/Documents/R/win-library/4.1/ps          </td><td>FALSE</td><td>FALSE</td><td>2021-02-28</td><td>CRAN (R 4.1.2)</td><td>TRUE</td><td>C:/Users/etuca/OneDrive/Documents/R/win-library/4.1</td></tr>\n",
       "\t<tr><th scope=row>purrr</th><td>purrr       </td><td>0.3.4  </td><td>0.3.4  </td><td>C:/Users/etuca/OneDrive/Documents/R/win-library/4.1/purrr       </td><td>C:/Users/etuca/OneDrive/Documents/R/win-library/4.1/purrr       </td><td>FALSE</td><td>FALSE</td><td>2020-04-17</td><td>CRAN (R 4.1.2)</td><td>TRUE</td><td>C:/Users/etuca/OneDrive/Documents/R/win-library/4.1</td></tr>\n",
       "\t<tr><th scope=row>R6</th><td>R6          </td><td>2.5.1  </td><td>2.5.1  </td><td>C:/Users/etuca/OneDrive/Documents/R/win-library/4.1/R6          </td><td>C:/Users/etuca/OneDrive/Documents/R/win-library/4.1/R6          </td><td>FALSE</td><td>FALSE</td><td>2021-08-19</td><td>CRAN (R 4.1.2)</td><td>TRUE</td><td>C:/Users/etuca/OneDrive/Documents/R/win-library/4.1</td></tr>\n",
       "\t<tr><th scope=row>remotes</th><td>remotes     </td><td>2.4.2  </td><td>2.4.2  </td><td>C:/Users/etuca/OneDrive/Documents/R/win-library/4.1/remotes     </td><td>C:/Users/etuca/OneDrive/Documents/R/win-library/4.1/remotes     </td><td>FALSE</td><td>FALSE</td><td>2021-11-30</td><td>CRAN (R 4.1.2)</td><td>TRUE</td><td>C:/Users/etuca/OneDrive/Documents/R/win-library/4.1</td></tr>\n",
       "\t<tr><th scope=row>repr</th><td>repr        </td><td>1.1.4  </td><td>1.1.4  </td><td>C:/Users/etuca/OneDrive/Documents/R/win-library/4.1/repr        </td><td>C:/Users/etuca/OneDrive/Documents/R/win-library/4.1/repr        </td><td>FALSE</td><td>FALSE</td><td>2022-01-04</td><td>CRAN (R 4.1.2)</td><td>TRUE</td><td>C:/Users/etuca/OneDrive/Documents/R/win-library/4.1</td></tr>\n",
       "\t<tr><th scope=row>rlang</th><td>rlang       </td><td>1.0.1  </td><td>1.0.1  </td><td>C:/Users/etuca/OneDrive/Documents/R/win-library/4.1/rlang       </td><td>C:/Users/etuca/OneDrive/Documents/R/win-library/4.1/rlang       </td><td>FALSE</td><td>FALSE</td><td>2022-02-03</td><td>CRAN (R 4.1.2)</td><td>TRUE</td><td>C:/Users/etuca/OneDrive/Documents/R/win-library/4.1</td></tr>\n",
       "\t<tr><th scope=row>rprojroot</th><td>rprojroot   </td><td>2.0.2  </td><td>2.0.2  </td><td>C:/Users/etuca/OneDrive/Documents/R/win-library/4.1/rprojroot   </td><td>C:/Users/etuca/OneDrive/Documents/R/win-library/4.1/rprojroot   </td><td>FALSE</td><td>FALSE</td><td>2020-11-15</td><td>CRAN (R 4.1.2)</td><td>TRUE</td><td>C:/Users/etuca/OneDrive/Documents/R/win-library/4.1</td></tr>\n",
       "\t<tr><th scope=row>sessioninfo</th><td>sessioninfo </td><td>1.2.2  </td><td>1.2.2  </td><td>C:/Users/etuca/OneDrive/Documents/R/win-library/4.1/sessioninfo </td><td>C:/Users/etuca/OneDrive/Documents/R/win-library/4.1/sessioninfo </td><td>FALSE</td><td>FALSE</td><td>2021-12-06</td><td>CRAN (R 4.1.2)</td><td>TRUE</td><td>C:/Users/etuca/OneDrive/Documents/R/win-library/4.1</td></tr>\n",
       "\t<tr><th scope=row>testthat</th><td>testthat    </td><td>3.1.2  </td><td>3.1.2  </td><td>C:/Users/etuca/OneDrive/Documents/R/win-library/4.1/testthat    </td><td>C:/Users/etuca/OneDrive/Documents/R/win-library/4.1/testthat    </td><td>FALSE</td><td>FALSE</td><td>2022-01-20</td><td>CRAN (R 4.1.2)</td><td>TRUE</td><td>C:/Users/etuca/OneDrive/Documents/R/win-library/4.1</td></tr>\n",
       "\t<tr><th scope=row>usethis</th><td>usethis     </td><td>2.1.5  </td><td>2.1.5  </td><td>C:/Users/etuca/OneDrive/Documents/R/win-library/4.1/usethis     </td><td>C:/Users/etuca/OneDrive/Documents/R/win-library/4.1/usethis     </td><td> TRUE</td><td>FALSE</td><td>2021-12-09</td><td>CRAN (R 4.1.2)</td><td>TRUE</td><td>C:/Users/etuca/OneDrive/Documents/R/win-library/4.1</td></tr>\n",
       "\t<tr><th scope=row>utf8</th><td>utf8        </td><td>1.2.2  </td><td>1.2.2  </td><td>C:/Users/etuca/OneDrive/Documents/R/win-library/4.1/utf8        </td><td>C:/Users/etuca/OneDrive/Documents/R/win-library/4.1/utf8        </td><td>FALSE</td><td>FALSE</td><td>2021-07-24</td><td>CRAN (R 4.1.2)</td><td>TRUE</td><td>C:/Users/etuca/OneDrive/Documents/R/win-library/4.1</td></tr>\n",
       "\t<tr><th scope=row>uuid</th><td>uuid        </td><td>1.0.3  </td><td>1.0-3  </td><td>C:/Users/etuca/OneDrive/Documents/R/win-library/4.1/uuid        </td><td>C:/Users/etuca/OneDrive/Documents/R/win-library/4.1/uuid        </td><td>FALSE</td><td>FALSE</td><td>2021-11-01</td><td>CRAN (R 4.1.2)</td><td>TRUE</td><td>C:/Users/etuca/OneDrive/Documents/R/win-library/4.1</td></tr>\n",
       "\t<tr><th scope=row>vctrs</th><td>vctrs       </td><td>0.3.8  </td><td>0.3.8  </td><td>C:/Users/etuca/OneDrive/Documents/R/win-library/4.1/vctrs       </td><td>C:/Users/etuca/OneDrive/Documents/R/win-library/4.1/vctrs       </td><td>FALSE</td><td>FALSE</td><td>2021-04-29</td><td>CRAN (R 4.1.2)</td><td>TRUE</td><td>C:/Users/etuca/OneDrive/Documents/R/win-library/4.1</td></tr>\n",
       "\t<tr><th scope=row>withr</th><td>withr       </td><td>2.4.3  </td><td>2.4.3  </td><td>C:/Users/etuca/OneDrive/Documents/R/win-library/4.1/withr       </td><td>C:/Users/etuca/OneDrive/Documents/R/win-library/4.1/withr       </td><td>FALSE</td><td>FALSE</td><td>2021-11-30</td><td>CRAN (R 4.1.2)</td><td>TRUE</td><td>C:/Users/etuca/OneDrive/Documents/R/win-library/4.1</td></tr>\n",
       "</tbody>\n",
       "</table>\n",
       "</dd>\n",
       "</dl>\n"
      ],
      "text/latex": [
       "\\begin{description}\n",
       "\\item[\\$platform] \\begin{description}\n",
       "\\item[\\$version] 'R version 4.1.0 (2021-05-18)'\n",
       "\\item[\\$os] 'Windows 10 x64 (build 22557)'\n",
       "\\item[\\$system] 'x86\\_64, mingw32'\n",
       "\\item[\\$ui] 'RTerm'\n",
       "\\item[\\$language] '(EN)'\n",
       "\\item[\\$collate] 'English\\_India.1252'\n",
       "\\item[\\$ctype] 'English\\_India.1252'\n",
       "\\item[\\$tz] 'Asia/Calcutta'\n",
       "\\item[\\$date] '2022-02-22'\n",
       "\\item[\\$pandoc] 'NA'\n",
       "\\end{description}\n",
       "\n",
       "\\item[\\$packages] A packages\\_info: 45 × 11\n",
       "\\begin{tabular}{r|lllllllllll}\n",
       "  & package & ondiskversion & loadedversion & path & loadedpath & attached & is\\_base & date & source & md5ok & library\\\\\n",
       "  & <chr> & <chr> & <chr> & <chr> & <chr> & <lgl> & <lgl> & <chr> & <chr> & <lgl> & <fct>\\\\\n",
       "\\hline\n",
       "\tbase64enc & base64enc    & 0.1.3   & 0.1-3   & C:/Users/etuca/OneDrive/Documents/R/win-library/4.1/base64enc    & C:/Users/etuca/OneDrive/Documents/R/win-library/4.1/base64enc    & FALSE & FALSE & 2015-07-28 & CRAN (R 4.1.1) & TRUE & C:/Users/etuca/OneDrive/Documents/R/win-library/4.1\\\\\n",
       "\tBiobase & Biobase      & 2.54.0  & 2.54.0  & C:/Users/etuca/OneDrive/Documents/R/win-library/4.1/Biobase      & C:/Users/etuca/OneDrive/Documents/R/win-library/4.1/Biobase      &  TRUE & FALSE & 2021-10-26 & Bioconductor   & TRUE & C:/Users/etuca/OneDrive/Documents/R/win-library/4.1\\\\\n",
       "\tBiocGenerics & BiocGenerics & 0.40.0  & 0.40.0  & C:/Users/etuca/OneDrive/Documents/R/win-library/4.1/BiocGenerics & C:/Users/etuca/OneDrive/Documents/R/win-library/4.1/BiocGenerics &  TRUE & FALSE & 2021-10-26 & Bioconductor   & TRUE & C:/Users/etuca/OneDrive/Documents/R/win-library/4.1\\\\\n",
       "\tBiocManager & BiocManager  & 1.30.16 & 1.30.16 & C:/Users/etuca/OneDrive/Documents/R/win-library/4.1/BiocManager  & C:/Users/etuca/OneDrive/Documents/R/win-library/4.1/BiocManager  &  TRUE & FALSE & 2021-06-15 & CRAN (R 4.1.2) & TRUE & C:/Users/etuca/OneDrive/Documents/R/win-library/4.1\\\\\n",
       "\tbrio & brio         & 1.1.3   & 1.1.3   & C:/Users/etuca/OneDrive/Documents/R/win-library/4.1/brio         & C:/Users/etuca/OneDrive/Documents/R/win-library/4.1/brio         & FALSE & FALSE & 2021-11-30 & CRAN (R 4.1.2) & TRUE & C:/Users/etuca/OneDrive/Documents/R/win-library/4.1\\\\\n",
       "\tcachem & cachem       & 1.0.6   & 1.0.6   & C:/Users/etuca/OneDrive/Documents/R/win-library/4.1/cachem       & C:/Users/etuca/OneDrive/Documents/R/win-library/4.1/cachem       & FALSE & FALSE & 2021-08-19 & CRAN (R 4.1.2) & TRUE & C:/Users/etuca/OneDrive/Documents/R/win-library/4.1\\\\\n",
       "\tcallr & callr        & 3.7.0   & 3.7.0   & C:/Users/etuca/OneDrive/Documents/R/win-library/4.1/callr        & C:/Users/etuca/OneDrive/Documents/R/win-library/4.1/callr        & FALSE & FALSE & 2021-04-20 & CRAN (R 4.1.2) & TRUE & C:/Users/etuca/OneDrive/Documents/R/win-library/4.1\\\\\n",
       "\tcli & cli          & 3.1.1   & 3.1.1   & C:/Users/etuca/OneDrive/Documents/R/win-library/4.1/cli          & C:/Users/etuca/OneDrive/Documents/R/win-library/4.1/cli          & FALSE & FALSE & 2022-01-20 & CRAN (R 4.1.2) & TRUE & C:/Users/etuca/OneDrive/Documents/R/win-library/4.1\\\\\n",
       "\tcrayon & crayon       & 1.5.0   & 1.5.0   & C:/Users/etuca/OneDrive/Documents/R/win-library/4.1/crayon       & C:/Users/etuca/OneDrive/Documents/R/win-library/4.1/crayon       & FALSE & FALSE & 2022-02-14 & CRAN (R 4.1.2) & TRUE & C:/Users/etuca/OneDrive/Documents/R/win-library/4.1\\\\\n",
       "\tdesc & desc         & 1.4.0   & 1.4.0   & C:/Users/etuca/OneDrive/Documents/R/win-library/4.1/desc         & C:/Users/etuca/OneDrive/Documents/R/win-library/4.1/desc         & FALSE & FALSE & 2021-09-28 & CRAN (R 4.1.2) & TRUE & C:/Users/etuca/OneDrive/Documents/R/win-library/4.1\\\\\n",
       "\tdevtools & devtools     & 2.4.3   & 2.4.3   & C:/Users/etuca/OneDrive/Documents/R/win-library/4.1/devtools     & C:/Users/etuca/OneDrive/Documents/R/win-library/4.1/devtools     &  TRUE & FALSE & 2021-11-30 & CRAN (R 4.1.2) & TRUE & C:/Users/etuca/OneDrive/Documents/R/win-library/4.1\\\\\n",
       "\tdigest & digest       & 0.6.29  & 0.6.29  & C:/Users/etuca/OneDrive/Documents/R/win-library/4.1/digest       & C:/Users/etuca/OneDrive/Documents/R/win-library/4.1/digest       & FALSE & FALSE & 2021-12-01 & CRAN (R 4.1.2) & TRUE & C:/Users/etuca/OneDrive/Documents/R/win-library/4.1\\\\\n",
       "\tellipsis & ellipsis     & 0.3.2   & 0.3.2   & C:/Users/etuca/OneDrive/Documents/R/win-library/4.1/ellipsis     & C:/Users/etuca/OneDrive/Documents/R/win-library/4.1/ellipsis     & FALSE & FALSE & 2021-04-29 & CRAN (R 4.1.2) & TRUE & C:/Users/etuca/OneDrive/Documents/R/win-library/4.1\\\\\n",
       "\tevaluate & evaluate     & 0.15    & 0.15    & C:/Users/etuca/OneDrive/Documents/R/win-library/4.1/evaluate     & C:/Users/etuca/OneDrive/Documents/R/win-library/4.1/evaluate     & FALSE & FALSE & 2022-02-18 & CRAN (R 4.1.2) & TRUE & C:/Users/etuca/OneDrive/Documents/R/win-library/4.1\\\\\n",
       "\tfansi & fansi        & 1.0.2   & 1.0.2   & C:/Users/etuca/OneDrive/Documents/R/win-library/4.1/fansi        & C:/Users/etuca/OneDrive/Documents/R/win-library/4.1/fansi        & FALSE & FALSE & 2022-01-14 & CRAN (R 4.1.2) & TRUE & C:/Users/etuca/OneDrive/Documents/R/win-library/4.1\\\\\n",
       "\tfastmap & fastmap      & 1.1.0   & 1.1.0   & C:/Users/etuca/OneDrive/Documents/R/win-library/4.1/fastmap      & C:/Users/etuca/OneDrive/Documents/R/win-library/4.1/fastmap      & FALSE & FALSE & 2021-01-25 & CRAN (R 4.1.2) & TRUE & C:/Users/etuca/OneDrive/Documents/R/win-library/4.1\\\\\n",
       "\tfs & fs           & 1.5.2   & 1.5.2   & C:/Users/etuca/OneDrive/Documents/R/win-library/4.1/fs           & C:/Users/etuca/OneDrive/Documents/R/win-library/4.1/fs           & FALSE & FALSE & 2021-12-08 & CRAN (R 4.1.2) & TRUE & C:/Users/etuca/OneDrive/Documents/R/win-library/4.1\\\\\n",
       "\tglue & glue         & 1.6.1   & 1.6.1   & C:/Users/etuca/OneDrive/Documents/R/win-library/4.1/glue         & C:/Users/etuca/OneDrive/Documents/R/win-library/4.1/glue         & FALSE & FALSE & 2022-01-22 & CRAN (R 4.1.2) & TRUE & C:/Users/etuca/OneDrive/Documents/R/win-library/4.1\\\\\n",
       "\thtmltools & htmltools    & 0.5.2   & 0.5.2   & C:/Users/etuca/OneDrive/Documents/R/win-library/4.1/htmltools    & C:/Users/etuca/OneDrive/Documents/R/win-library/4.1/htmltools    & FALSE & FALSE & 2021-08-25 & CRAN (R 4.1.2) & TRUE & C:/Users/etuca/OneDrive/Documents/R/win-library/4.1\\\\\n",
       "\tIRdisplay & IRdisplay    & 1.1     & 1.1     & C:/Users/etuca/OneDrive/Documents/R/win-library/4.1/IRdisplay    & C:/Users/etuca/OneDrive/Documents/R/win-library/4.1/IRdisplay    & FALSE & FALSE & 2022-01-04 & CRAN (R 4.1.2) & TRUE & C:/Users/etuca/OneDrive/Documents/R/win-library/4.1\\\\\n",
       "\tIRkernel & IRkernel     & 1.3     & 1.3     & C:/Users/etuca/OneDrive/Documents/R/win-library/4.1/IRkernel     & C:/Users/etuca/OneDrive/Documents/R/win-library/4.1/IRkernel     & FALSE & FALSE & 2022-01-03 & CRAN (R 4.1.2) & TRUE & C:/Users/etuca/OneDrive/Documents/R/win-library/4.1\\\\\n",
       "\tjsonlite & jsonlite     & 1.7.3   & 1.7.3   & C:/Users/etuca/OneDrive/Documents/R/win-library/4.1/jsonlite     & C:/Users/etuca/OneDrive/Documents/R/win-library/4.1/jsonlite     & FALSE & FALSE & 2022-01-17 & CRAN (R 4.1.2) & TRUE & C:/Users/etuca/OneDrive/Documents/R/win-library/4.1\\\\\n",
       "\tlifecycle & lifecycle    & 1.0.1   & 1.0.1   & C:/Users/etuca/OneDrive/Documents/R/win-library/4.1/lifecycle    & C:/Users/etuca/OneDrive/Documents/R/win-library/4.1/lifecycle    & FALSE & FALSE & 2021-09-24 & CRAN (R 4.1.2) & TRUE & C:/Users/etuca/OneDrive/Documents/R/win-library/4.1\\\\\n",
       "\tmagrittr & magrittr     & 2.0.2   & 2.0.2   & C:/Users/etuca/OneDrive/Documents/R/win-library/4.1/magrittr     & C:/Users/etuca/OneDrive/Documents/R/win-library/4.1/magrittr     & FALSE & FALSE & 2022-01-26 & CRAN (R 4.1.2) & TRUE & C:/Users/etuca/OneDrive/Documents/R/win-library/4.1\\\\\n",
       "\tmemoise & memoise      & 2.0.1   & 2.0.1   & C:/Users/etuca/OneDrive/Documents/R/win-library/4.1/memoise      & C:/Users/etuca/OneDrive/Documents/R/win-library/4.1/memoise      & FALSE & FALSE & 2021-11-26 & CRAN (R 4.1.2) & TRUE & C:/Users/etuca/OneDrive/Documents/R/win-library/4.1\\\\\n",
       "\tpbdZMQ & pbdZMQ       & 0.3.7   & 0.3-7   & C:/Users/etuca/OneDrive/Documents/R/win-library/4.1/pbdZMQ       & C:/Users/etuca/OneDrive/Documents/R/win-library/4.1/pbdZMQ       & FALSE & FALSE & 2022-02-05 & CRAN (R 4.1.2) & TRUE & C:/Users/etuca/OneDrive/Documents/R/win-library/4.1\\\\\n",
       "\tpillar & pillar       & 1.7.0   & 1.7.0   & C:/Users/etuca/OneDrive/Documents/R/win-library/4.1/pillar       & C:/Users/etuca/OneDrive/Documents/R/win-library/4.1/pillar       & FALSE & FALSE & 2022-02-01 & CRAN (R 4.1.2) & TRUE & C:/Users/etuca/OneDrive/Documents/R/win-library/4.1\\\\\n",
       "\tpkgbuild & pkgbuild     & 1.3.1   & 1.3.1   & C:/Users/etuca/OneDrive/Documents/R/win-library/4.1/pkgbuild     & C:/Users/etuca/OneDrive/Documents/R/win-library/4.1/pkgbuild     & FALSE & FALSE & 2021-12-20 & CRAN (R 4.1.2) & TRUE & C:/Users/etuca/OneDrive/Documents/R/win-library/4.1\\\\\n",
       "\tpkgload & pkgload      & 1.2.4   & 1.2.4   & C:/Users/etuca/OneDrive/Documents/R/win-library/4.1/pkgload      & C:/Users/etuca/OneDrive/Documents/R/win-library/4.1/pkgload      & FALSE & FALSE & 2021-11-30 & CRAN (R 4.1.2) & TRUE & C:/Users/etuca/OneDrive/Documents/R/win-library/4.1\\\\\n",
       "\tprettyunits & prettyunits  & 1.1.1   & 1.1.1   & C:/Users/etuca/OneDrive/Documents/R/win-library/4.1/prettyunits  & C:/Users/etuca/OneDrive/Documents/R/win-library/4.1/prettyunits  & FALSE & FALSE & 2020-01-24 & CRAN (R 4.1.2) & TRUE & C:/Users/etuca/OneDrive/Documents/R/win-library/4.1\\\\\n",
       "\tprocessx & processx     & 3.5.2   & 3.5.2   & C:/Users/etuca/OneDrive/Documents/R/win-library/4.1/processx     & C:/Users/etuca/OneDrive/Documents/R/win-library/4.1/processx     & FALSE & FALSE & 2021-04-30 & CRAN (R 4.1.2) & TRUE & C:/Users/etuca/OneDrive/Documents/R/win-library/4.1\\\\\n",
       "\tps & ps           & 1.6.0   & 1.6.0   & C:/Users/etuca/OneDrive/Documents/R/win-library/4.1/ps           & C:/Users/etuca/OneDrive/Documents/R/win-library/4.1/ps           & FALSE & FALSE & 2021-02-28 & CRAN (R 4.1.2) & TRUE & C:/Users/etuca/OneDrive/Documents/R/win-library/4.1\\\\\n",
       "\tpurrr & purrr        & 0.3.4   & 0.3.4   & C:/Users/etuca/OneDrive/Documents/R/win-library/4.1/purrr        & C:/Users/etuca/OneDrive/Documents/R/win-library/4.1/purrr        & FALSE & FALSE & 2020-04-17 & CRAN (R 4.1.2) & TRUE & C:/Users/etuca/OneDrive/Documents/R/win-library/4.1\\\\\n",
       "\tR6 & R6           & 2.5.1   & 2.5.1   & C:/Users/etuca/OneDrive/Documents/R/win-library/4.1/R6           & C:/Users/etuca/OneDrive/Documents/R/win-library/4.1/R6           & FALSE & FALSE & 2021-08-19 & CRAN (R 4.1.2) & TRUE & C:/Users/etuca/OneDrive/Documents/R/win-library/4.1\\\\\n",
       "\tremotes & remotes      & 2.4.2   & 2.4.2   & C:/Users/etuca/OneDrive/Documents/R/win-library/4.1/remotes      & C:/Users/etuca/OneDrive/Documents/R/win-library/4.1/remotes      & FALSE & FALSE & 2021-11-30 & CRAN (R 4.1.2) & TRUE & C:/Users/etuca/OneDrive/Documents/R/win-library/4.1\\\\\n",
       "\trepr & repr         & 1.1.4   & 1.1.4   & C:/Users/etuca/OneDrive/Documents/R/win-library/4.1/repr         & C:/Users/etuca/OneDrive/Documents/R/win-library/4.1/repr         & FALSE & FALSE & 2022-01-04 & CRAN (R 4.1.2) & TRUE & C:/Users/etuca/OneDrive/Documents/R/win-library/4.1\\\\\n",
       "\trlang & rlang        & 1.0.1   & 1.0.1   & C:/Users/etuca/OneDrive/Documents/R/win-library/4.1/rlang        & C:/Users/etuca/OneDrive/Documents/R/win-library/4.1/rlang        & FALSE & FALSE & 2022-02-03 & CRAN (R 4.1.2) & TRUE & C:/Users/etuca/OneDrive/Documents/R/win-library/4.1\\\\\n",
       "\trprojroot & rprojroot    & 2.0.2   & 2.0.2   & C:/Users/etuca/OneDrive/Documents/R/win-library/4.1/rprojroot    & C:/Users/etuca/OneDrive/Documents/R/win-library/4.1/rprojroot    & FALSE & FALSE & 2020-11-15 & CRAN (R 4.1.2) & TRUE & C:/Users/etuca/OneDrive/Documents/R/win-library/4.1\\\\\n",
       "\tsessioninfo & sessioninfo  & 1.2.2   & 1.2.2   & C:/Users/etuca/OneDrive/Documents/R/win-library/4.1/sessioninfo  & C:/Users/etuca/OneDrive/Documents/R/win-library/4.1/sessioninfo  & FALSE & FALSE & 2021-12-06 & CRAN (R 4.1.2) & TRUE & C:/Users/etuca/OneDrive/Documents/R/win-library/4.1\\\\\n",
       "\ttestthat & testthat     & 3.1.2   & 3.1.2   & C:/Users/etuca/OneDrive/Documents/R/win-library/4.1/testthat     & C:/Users/etuca/OneDrive/Documents/R/win-library/4.1/testthat     & FALSE & FALSE & 2022-01-20 & CRAN (R 4.1.2) & TRUE & C:/Users/etuca/OneDrive/Documents/R/win-library/4.1\\\\\n",
       "\tusethis & usethis      & 2.1.5   & 2.1.5   & C:/Users/etuca/OneDrive/Documents/R/win-library/4.1/usethis      & C:/Users/etuca/OneDrive/Documents/R/win-library/4.1/usethis      &  TRUE & FALSE & 2021-12-09 & CRAN (R 4.1.2) & TRUE & C:/Users/etuca/OneDrive/Documents/R/win-library/4.1\\\\\n",
       "\tutf8 & utf8         & 1.2.2   & 1.2.2   & C:/Users/etuca/OneDrive/Documents/R/win-library/4.1/utf8         & C:/Users/etuca/OneDrive/Documents/R/win-library/4.1/utf8         & FALSE & FALSE & 2021-07-24 & CRAN (R 4.1.2) & TRUE & C:/Users/etuca/OneDrive/Documents/R/win-library/4.1\\\\\n",
       "\tuuid & uuid         & 1.0.3   & 1.0-3   & C:/Users/etuca/OneDrive/Documents/R/win-library/4.1/uuid         & C:/Users/etuca/OneDrive/Documents/R/win-library/4.1/uuid         & FALSE & FALSE & 2021-11-01 & CRAN (R 4.1.2) & TRUE & C:/Users/etuca/OneDrive/Documents/R/win-library/4.1\\\\\n",
       "\tvctrs & vctrs        & 0.3.8   & 0.3.8   & C:/Users/etuca/OneDrive/Documents/R/win-library/4.1/vctrs        & C:/Users/etuca/OneDrive/Documents/R/win-library/4.1/vctrs        & FALSE & FALSE & 2021-04-29 & CRAN (R 4.1.2) & TRUE & C:/Users/etuca/OneDrive/Documents/R/win-library/4.1\\\\\n",
       "\twithr & withr        & 2.4.3   & 2.4.3   & C:/Users/etuca/OneDrive/Documents/R/win-library/4.1/withr        & C:/Users/etuca/OneDrive/Documents/R/win-library/4.1/withr        & FALSE & FALSE & 2021-11-30 & CRAN (R 4.1.2) & TRUE & C:/Users/etuca/OneDrive/Documents/R/win-library/4.1\\\\\n",
       "\\end{tabular}\n",
       "\n",
       "\\end{description}\n"
      ],
      "text/markdown": [
       "$platform\n",
       ":   $version\n",
       ":   'R version 4.1.0 (2021-05-18)'\n",
       "$os\n",
       ":   'Windows 10 x64 (build 22557)'\n",
       "$system\n",
       ":   'x86_64, mingw32'\n",
       "$ui\n",
       ":   'RTerm'\n",
       "$language\n",
       ":   '(EN)'\n",
       "$collate\n",
       ":   'English_India.1252'\n",
       "$ctype\n",
       ":   'English_India.1252'\n",
       "$tz\n",
       ":   'Asia/Calcutta'\n",
       "$date\n",
       ":   '2022-02-22'\n",
       "$pandoc\n",
       ":   'NA'\n",
       "\n",
       "\n",
       "\n",
       "$packages\n",
       ":   \n",
       "A packages_info: 45 × 11\n",
       "\n",
       "| <!--/--> | package &lt;chr&gt; | ondiskversion &lt;chr&gt; | loadedversion &lt;chr&gt; | path &lt;chr&gt; | loadedpath &lt;chr&gt; | attached &lt;lgl&gt; | is_base &lt;lgl&gt; | date &lt;chr&gt; | source &lt;chr&gt; | md5ok &lt;lgl&gt; | library &lt;fct&gt; |\n",
       "|---|---|---|---|---|---|---|---|---|---|---|---|\n",
       "| base64enc | base64enc    | 0.1.3   | 0.1-3   | C:/Users/etuca/OneDrive/Documents/R/win-library/4.1/base64enc    | C:/Users/etuca/OneDrive/Documents/R/win-library/4.1/base64enc    | FALSE | FALSE | 2015-07-28 | CRAN (R 4.1.1) | TRUE | C:/Users/etuca/OneDrive/Documents/R/win-library/4.1 |\n",
       "| Biobase | Biobase      | 2.54.0  | 2.54.0  | C:/Users/etuca/OneDrive/Documents/R/win-library/4.1/Biobase      | C:/Users/etuca/OneDrive/Documents/R/win-library/4.1/Biobase      |  TRUE | FALSE | 2021-10-26 | Bioconductor   | TRUE | C:/Users/etuca/OneDrive/Documents/R/win-library/4.1 |\n",
       "| BiocGenerics | BiocGenerics | 0.40.0  | 0.40.0  | C:/Users/etuca/OneDrive/Documents/R/win-library/4.1/BiocGenerics | C:/Users/etuca/OneDrive/Documents/R/win-library/4.1/BiocGenerics |  TRUE | FALSE | 2021-10-26 | Bioconductor   | TRUE | C:/Users/etuca/OneDrive/Documents/R/win-library/4.1 |\n",
       "| BiocManager | BiocManager  | 1.30.16 | 1.30.16 | C:/Users/etuca/OneDrive/Documents/R/win-library/4.1/BiocManager  | C:/Users/etuca/OneDrive/Documents/R/win-library/4.1/BiocManager  |  TRUE | FALSE | 2021-06-15 | CRAN (R 4.1.2) | TRUE | C:/Users/etuca/OneDrive/Documents/R/win-library/4.1 |\n",
       "| brio | brio         | 1.1.3   | 1.1.3   | C:/Users/etuca/OneDrive/Documents/R/win-library/4.1/brio         | C:/Users/etuca/OneDrive/Documents/R/win-library/4.1/brio         | FALSE | FALSE | 2021-11-30 | CRAN (R 4.1.2) | TRUE | C:/Users/etuca/OneDrive/Documents/R/win-library/4.1 |\n",
       "| cachem | cachem       | 1.0.6   | 1.0.6   | C:/Users/etuca/OneDrive/Documents/R/win-library/4.1/cachem       | C:/Users/etuca/OneDrive/Documents/R/win-library/4.1/cachem       | FALSE | FALSE | 2021-08-19 | CRAN (R 4.1.2) | TRUE | C:/Users/etuca/OneDrive/Documents/R/win-library/4.1 |\n",
       "| callr | callr        | 3.7.0   | 3.7.0   | C:/Users/etuca/OneDrive/Documents/R/win-library/4.1/callr        | C:/Users/etuca/OneDrive/Documents/R/win-library/4.1/callr        | FALSE | FALSE | 2021-04-20 | CRAN (R 4.1.2) | TRUE | C:/Users/etuca/OneDrive/Documents/R/win-library/4.1 |\n",
       "| cli | cli          | 3.1.1   | 3.1.1   | C:/Users/etuca/OneDrive/Documents/R/win-library/4.1/cli          | C:/Users/etuca/OneDrive/Documents/R/win-library/4.1/cli          | FALSE | FALSE | 2022-01-20 | CRAN (R 4.1.2) | TRUE | C:/Users/etuca/OneDrive/Documents/R/win-library/4.1 |\n",
       "| crayon | crayon       | 1.5.0   | 1.5.0   | C:/Users/etuca/OneDrive/Documents/R/win-library/4.1/crayon       | C:/Users/etuca/OneDrive/Documents/R/win-library/4.1/crayon       | FALSE | FALSE | 2022-02-14 | CRAN (R 4.1.2) | TRUE | C:/Users/etuca/OneDrive/Documents/R/win-library/4.1 |\n",
       "| desc | desc         | 1.4.0   | 1.4.0   | C:/Users/etuca/OneDrive/Documents/R/win-library/4.1/desc         | C:/Users/etuca/OneDrive/Documents/R/win-library/4.1/desc         | FALSE | FALSE | 2021-09-28 | CRAN (R 4.1.2) | TRUE | C:/Users/etuca/OneDrive/Documents/R/win-library/4.1 |\n",
       "| devtools | devtools     | 2.4.3   | 2.4.3   | C:/Users/etuca/OneDrive/Documents/R/win-library/4.1/devtools     | C:/Users/etuca/OneDrive/Documents/R/win-library/4.1/devtools     |  TRUE | FALSE | 2021-11-30 | CRAN (R 4.1.2) | TRUE | C:/Users/etuca/OneDrive/Documents/R/win-library/4.1 |\n",
       "| digest | digest       | 0.6.29  | 0.6.29  | C:/Users/etuca/OneDrive/Documents/R/win-library/4.1/digest       | C:/Users/etuca/OneDrive/Documents/R/win-library/4.1/digest       | FALSE | FALSE | 2021-12-01 | CRAN (R 4.1.2) | TRUE | C:/Users/etuca/OneDrive/Documents/R/win-library/4.1 |\n",
       "| ellipsis | ellipsis     | 0.3.2   | 0.3.2   | C:/Users/etuca/OneDrive/Documents/R/win-library/4.1/ellipsis     | C:/Users/etuca/OneDrive/Documents/R/win-library/4.1/ellipsis     | FALSE | FALSE | 2021-04-29 | CRAN (R 4.1.2) | TRUE | C:/Users/etuca/OneDrive/Documents/R/win-library/4.1 |\n",
       "| evaluate | evaluate     | 0.15    | 0.15    | C:/Users/etuca/OneDrive/Documents/R/win-library/4.1/evaluate     | C:/Users/etuca/OneDrive/Documents/R/win-library/4.1/evaluate     | FALSE | FALSE | 2022-02-18 | CRAN (R 4.1.2) | TRUE | C:/Users/etuca/OneDrive/Documents/R/win-library/4.1 |\n",
       "| fansi | fansi        | 1.0.2   | 1.0.2   | C:/Users/etuca/OneDrive/Documents/R/win-library/4.1/fansi        | C:/Users/etuca/OneDrive/Documents/R/win-library/4.1/fansi        | FALSE | FALSE | 2022-01-14 | CRAN (R 4.1.2) | TRUE | C:/Users/etuca/OneDrive/Documents/R/win-library/4.1 |\n",
       "| fastmap | fastmap      | 1.1.0   | 1.1.0   | C:/Users/etuca/OneDrive/Documents/R/win-library/4.1/fastmap      | C:/Users/etuca/OneDrive/Documents/R/win-library/4.1/fastmap      | FALSE | FALSE | 2021-01-25 | CRAN (R 4.1.2) | TRUE | C:/Users/etuca/OneDrive/Documents/R/win-library/4.1 |\n",
       "| fs | fs           | 1.5.2   | 1.5.2   | C:/Users/etuca/OneDrive/Documents/R/win-library/4.1/fs           | C:/Users/etuca/OneDrive/Documents/R/win-library/4.1/fs           | FALSE | FALSE | 2021-12-08 | CRAN (R 4.1.2) | TRUE | C:/Users/etuca/OneDrive/Documents/R/win-library/4.1 |\n",
       "| glue | glue         | 1.6.1   | 1.6.1   | C:/Users/etuca/OneDrive/Documents/R/win-library/4.1/glue         | C:/Users/etuca/OneDrive/Documents/R/win-library/4.1/glue         | FALSE | FALSE | 2022-01-22 | CRAN (R 4.1.2) | TRUE | C:/Users/etuca/OneDrive/Documents/R/win-library/4.1 |\n",
       "| htmltools | htmltools    | 0.5.2   | 0.5.2   | C:/Users/etuca/OneDrive/Documents/R/win-library/4.1/htmltools    | C:/Users/etuca/OneDrive/Documents/R/win-library/4.1/htmltools    | FALSE | FALSE | 2021-08-25 | CRAN (R 4.1.2) | TRUE | C:/Users/etuca/OneDrive/Documents/R/win-library/4.1 |\n",
       "| IRdisplay | IRdisplay    | 1.1     | 1.1     | C:/Users/etuca/OneDrive/Documents/R/win-library/4.1/IRdisplay    | C:/Users/etuca/OneDrive/Documents/R/win-library/4.1/IRdisplay    | FALSE | FALSE | 2022-01-04 | CRAN (R 4.1.2) | TRUE | C:/Users/etuca/OneDrive/Documents/R/win-library/4.1 |\n",
       "| IRkernel | IRkernel     | 1.3     | 1.3     | C:/Users/etuca/OneDrive/Documents/R/win-library/4.1/IRkernel     | C:/Users/etuca/OneDrive/Documents/R/win-library/4.1/IRkernel     | FALSE | FALSE | 2022-01-03 | CRAN (R 4.1.2) | TRUE | C:/Users/etuca/OneDrive/Documents/R/win-library/4.1 |\n",
       "| jsonlite | jsonlite     | 1.7.3   | 1.7.3   | C:/Users/etuca/OneDrive/Documents/R/win-library/4.1/jsonlite     | C:/Users/etuca/OneDrive/Documents/R/win-library/4.1/jsonlite     | FALSE | FALSE | 2022-01-17 | CRAN (R 4.1.2) | TRUE | C:/Users/etuca/OneDrive/Documents/R/win-library/4.1 |\n",
       "| lifecycle | lifecycle    | 1.0.1   | 1.0.1   | C:/Users/etuca/OneDrive/Documents/R/win-library/4.1/lifecycle    | C:/Users/etuca/OneDrive/Documents/R/win-library/4.1/lifecycle    | FALSE | FALSE | 2021-09-24 | CRAN (R 4.1.2) | TRUE | C:/Users/etuca/OneDrive/Documents/R/win-library/4.1 |\n",
       "| magrittr | magrittr     | 2.0.2   | 2.0.2   | C:/Users/etuca/OneDrive/Documents/R/win-library/4.1/magrittr     | C:/Users/etuca/OneDrive/Documents/R/win-library/4.1/magrittr     | FALSE | FALSE | 2022-01-26 | CRAN (R 4.1.2) | TRUE | C:/Users/etuca/OneDrive/Documents/R/win-library/4.1 |\n",
       "| memoise | memoise      | 2.0.1   | 2.0.1   | C:/Users/etuca/OneDrive/Documents/R/win-library/4.1/memoise      | C:/Users/etuca/OneDrive/Documents/R/win-library/4.1/memoise      | FALSE | FALSE | 2021-11-26 | CRAN (R 4.1.2) | TRUE | C:/Users/etuca/OneDrive/Documents/R/win-library/4.1 |\n",
       "| pbdZMQ | pbdZMQ       | 0.3.7   | 0.3-7   | C:/Users/etuca/OneDrive/Documents/R/win-library/4.1/pbdZMQ       | C:/Users/etuca/OneDrive/Documents/R/win-library/4.1/pbdZMQ       | FALSE | FALSE | 2022-02-05 | CRAN (R 4.1.2) | TRUE | C:/Users/etuca/OneDrive/Documents/R/win-library/4.1 |\n",
       "| pillar | pillar       | 1.7.0   | 1.7.0   | C:/Users/etuca/OneDrive/Documents/R/win-library/4.1/pillar       | C:/Users/etuca/OneDrive/Documents/R/win-library/4.1/pillar       | FALSE | FALSE | 2022-02-01 | CRAN (R 4.1.2) | TRUE | C:/Users/etuca/OneDrive/Documents/R/win-library/4.1 |\n",
       "| pkgbuild | pkgbuild     | 1.3.1   | 1.3.1   | C:/Users/etuca/OneDrive/Documents/R/win-library/4.1/pkgbuild     | C:/Users/etuca/OneDrive/Documents/R/win-library/4.1/pkgbuild     | FALSE | FALSE | 2021-12-20 | CRAN (R 4.1.2) | TRUE | C:/Users/etuca/OneDrive/Documents/R/win-library/4.1 |\n",
       "| pkgload | pkgload      | 1.2.4   | 1.2.4   | C:/Users/etuca/OneDrive/Documents/R/win-library/4.1/pkgload      | C:/Users/etuca/OneDrive/Documents/R/win-library/4.1/pkgload      | FALSE | FALSE | 2021-11-30 | CRAN (R 4.1.2) | TRUE | C:/Users/etuca/OneDrive/Documents/R/win-library/4.1 |\n",
       "| prettyunits | prettyunits  | 1.1.1   | 1.1.1   | C:/Users/etuca/OneDrive/Documents/R/win-library/4.1/prettyunits  | C:/Users/etuca/OneDrive/Documents/R/win-library/4.1/prettyunits  | FALSE | FALSE | 2020-01-24 | CRAN (R 4.1.2) | TRUE | C:/Users/etuca/OneDrive/Documents/R/win-library/4.1 |\n",
       "| processx | processx     | 3.5.2   | 3.5.2   | C:/Users/etuca/OneDrive/Documents/R/win-library/4.1/processx     | C:/Users/etuca/OneDrive/Documents/R/win-library/4.1/processx     | FALSE | FALSE | 2021-04-30 | CRAN (R 4.1.2) | TRUE | C:/Users/etuca/OneDrive/Documents/R/win-library/4.1 |\n",
       "| ps | ps           | 1.6.0   | 1.6.0   | C:/Users/etuca/OneDrive/Documents/R/win-library/4.1/ps           | C:/Users/etuca/OneDrive/Documents/R/win-library/4.1/ps           | FALSE | FALSE | 2021-02-28 | CRAN (R 4.1.2) | TRUE | C:/Users/etuca/OneDrive/Documents/R/win-library/4.1 |\n",
       "| purrr | purrr        | 0.3.4   | 0.3.4   | C:/Users/etuca/OneDrive/Documents/R/win-library/4.1/purrr        | C:/Users/etuca/OneDrive/Documents/R/win-library/4.1/purrr        | FALSE | FALSE | 2020-04-17 | CRAN (R 4.1.2) | TRUE | C:/Users/etuca/OneDrive/Documents/R/win-library/4.1 |\n",
       "| R6 | R6           | 2.5.1   | 2.5.1   | C:/Users/etuca/OneDrive/Documents/R/win-library/4.1/R6           | C:/Users/etuca/OneDrive/Documents/R/win-library/4.1/R6           | FALSE | FALSE | 2021-08-19 | CRAN (R 4.1.2) | TRUE | C:/Users/etuca/OneDrive/Documents/R/win-library/4.1 |\n",
       "| remotes | remotes      | 2.4.2   | 2.4.2   | C:/Users/etuca/OneDrive/Documents/R/win-library/4.1/remotes      | C:/Users/etuca/OneDrive/Documents/R/win-library/4.1/remotes      | FALSE | FALSE | 2021-11-30 | CRAN (R 4.1.2) | TRUE | C:/Users/etuca/OneDrive/Documents/R/win-library/4.1 |\n",
       "| repr | repr         | 1.1.4   | 1.1.4   | C:/Users/etuca/OneDrive/Documents/R/win-library/4.1/repr         | C:/Users/etuca/OneDrive/Documents/R/win-library/4.1/repr         | FALSE | FALSE | 2022-01-04 | CRAN (R 4.1.2) | TRUE | C:/Users/etuca/OneDrive/Documents/R/win-library/4.1 |\n",
       "| rlang | rlang        | 1.0.1   | 1.0.1   | C:/Users/etuca/OneDrive/Documents/R/win-library/4.1/rlang        | C:/Users/etuca/OneDrive/Documents/R/win-library/4.1/rlang        | FALSE | FALSE | 2022-02-03 | CRAN (R 4.1.2) | TRUE | C:/Users/etuca/OneDrive/Documents/R/win-library/4.1 |\n",
       "| rprojroot | rprojroot    | 2.0.2   | 2.0.2   | C:/Users/etuca/OneDrive/Documents/R/win-library/4.1/rprojroot    | C:/Users/etuca/OneDrive/Documents/R/win-library/4.1/rprojroot    | FALSE | FALSE | 2020-11-15 | CRAN (R 4.1.2) | TRUE | C:/Users/etuca/OneDrive/Documents/R/win-library/4.1 |\n",
       "| sessioninfo | sessioninfo  | 1.2.2   | 1.2.2   | C:/Users/etuca/OneDrive/Documents/R/win-library/4.1/sessioninfo  | C:/Users/etuca/OneDrive/Documents/R/win-library/4.1/sessioninfo  | FALSE | FALSE | 2021-12-06 | CRAN (R 4.1.2) | TRUE | C:/Users/etuca/OneDrive/Documents/R/win-library/4.1 |\n",
       "| testthat | testthat     | 3.1.2   | 3.1.2   | C:/Users/etuca/OneDrive/Documents/R/win-library/4.1/testthat     | C:/Users/etuca/OneDrive/Documents/R/win-library/4.1/testthat     | FALSE | FALSE | 2022-01-20 | CRAN (R 4.1.2) | TRUE | C:/Users/etuca/OneDrive/Documents/R/win-library/4.1 |\n",
       "| usethis | usethis      | 2.1.5   | 2.1.5   | C:/Users/etuca/OneDrive/Documents/R/win-library/4.1/usethis      | C:/Users/etuca/OneDrive/Documents/R/win-library/4.1/usethis      |  TRUE | FALSE | 2021-12-09 | CRAN (R 4.1.2) | TRUE | C:/Users/etuca/OneDrive/Documents/R/win-library/4.1 |\n",
       "| utf8 | utf8         | 1.2.2   | 1.2.2   | C:/Users/etuca/OneDrive/Documents/R/win-library/4.1/utf8         | C:/Users/etuca/OneDrive/Documents/R/win-library/4.1/utf8         | FALSE | FALSE | 2021-07-24 | CRAN (R 4.1.2) | TRUE | C:/Users/etuca/OneDrive/Documents/R/win-library/4.1 |\n",
       "| uuid | uuid         | 1.0.3   | 1.0-3   | C:/Users/etuca/OneDrive/Documents/R/win-library/4.1/uuid         | C:/Users/etuca/OneDrive/Documents/R/win-library/4.1/uuid         | FALSE | FALSE | 2021-11-01 | CRAN (R 4.1.2) | TRUE | C:/Users/etuca/OneDrive/Documents/R/win-library/4.1 |\n",
       "| vctrs | vctrs        | 0.3.8   | 0.3.8   | C:/Users/etuca/OneDrive/Documents/R/win-library/4.1/vctrs        | C:/Users/etuca/OneDrive/Documents/R/win-library/4.1/vctrs        | FALSE | FALSE | 2021-04-29 | CRAN (R 4.1.2) | TRUE | C:/Users/etuca/OneDrive/Documents/R/win-library/4.1 |\n",
       "| withr | withr        | 2.4.3   | 2.4.3   | C:/Users/etuca/OneDrive/Documents/R/win-library/4.1/withr        | C:/Users/etuca/OneDrive/Documents/R/win-library/4.1/withr        | FALSE | FALSE | 2021-11-30 | CRAN (R 4.1.2) | TRUE | C:/Users/etuca/OneDrive/Documents/R/win-library/4.1 |\n",
       "\n",
       "\n",
       "\n",
       "\n"
      ],
      "text/plain": [
       "\u001b[1m\u001b[36m- Session info ---------------------------------------------------------------\u001b[39m\u001b[22m\n",
       " \u001b[3m\u001b[90msetting \u001b[39m\u001b[23m \u001b[3m\u001b[90mvalue\u001b[39m\u001b[23m\n",
       " version  R version 4.1.0 (2021-05-18)\n",
       " os       Windows 10 x64 (build 22557)\n",
       " system   x86_64, mingw32\n",
       " ui       RTerm\n",
       " language (EN)\n",
       " collate  English_India.1252\n",
       " ctype    English_India.1252\n",
       " tz       Asia/Calcutta\n",
       " date     2022-02-22\n",
       " pandoc   NA\n",
       "\n",
       "\u001b[1m\u001b[36m- Packages -------------------------------------------------------------------\u001b[39m\u001b[22m\n",
       " \u001b[3m\u001b[90mpackage     \u001b[39m\u001b[23m \u001b[3m\u001b[90m*\u001b[39m\u001b[23m \u001b[3m\u001b[90mversion\u001b[39m\u001b[23m \u001b[3m\u001b[90mdate (UTC)\u001b[39m\u001b[23m \u001b[3m\u001b[90mlib\u001b[39m\u001b[23m \u001b[3m\u001b[90msource\u001b[39m\u001b[23m\n",
       " base64enc      0.1-3   \u001b[90m2015-07-28\u001b[39m \u001b[90m[1]\u001b[39m \u001b[90mCRAN (R 4.1.1)\u001b[39m\n",
       " Biobase      * 2.54.0  \u001b[90m2021-10-26\u001b[39m \u001b[90m[1]\u001b[39m \u001b[90mBioconductor\u001b[39m\n",
       " BiocGenerics * 0.40.0  \u001b[90m2021-10-26\u001b[39m \u001b[90m[1]\u001b[39m \u001b[90mBioconductor\u001b[39m\n",
       " BiocManager  * 1.30.16 \u001b[90m2021-06-15\u001b[39m \u001b[90m[1]\u001b[39m \u001b[90mCRAN (R 4.1.2)\u001b[39m\n",
       " brio           1.1.3   \u001b[90m2021-11-30\u001b[39m \u001b[90m[1]\u001b[39m \u001b[90mCRAN (R 4.1.2)\u001b[39m\n",
       " cachem         1.0.6   \u001b[90m2021-08-19\u001b[39m \u001b[90m[1]\u001b[39m \u001b[90mCRAN (R 4.1.2)\u001b[39m\n",
       " callr          3.7.0   \u001b[90m2021-04-20\u001b[39m \u001b[90m[1]\u001b[39m \u001b[90mCRAN (R 4.1.2)\u001b[39m\n",
       " cli            3.1.1   \u001b[90m2022-01-20\u001b[39m \u001b[90m[1]\u001b[39m \u001b[90mCRAN (R 4.1.2)\u001b[39m\n",
       " crayon         1.5.0   \u001b[90m2022-02-14\u001b[39m \u001b[90m[1]\u001b[39m \u001b[90mCRAN (R 4.1.2)\u001b[39m\n",
       " desc           1.4.0   \u001b[90m2021-09-28\u001b[39m \u001b[90m[1]\u001b[39m \u001b[90mCRAN (R 4.1.2)\u001b[39m\n",
       " devtools     * 2.4.3   \u001b[90m2021-11-30\u001b[39m \u001b[90m[1]\u001b[39m \u001b[90mCRAN (R 4.1.2)\u001b[39m\n",
       " digest         0.6.29  \u001b[90m2021-12-01\u001b[39m \u001b[90m[1]\u001b[39m \u001b[90mCRAN (R 4.1.2)\u001b[39m\n",
       " ellipsis       0.3.2   \u001b[90m2021-04-29\u001b[39m \u001b[90m[1]\u001b[39m \u001b[90mCRAN (R 4.1.2)\u001b[39m\n",
       " evaluate       0.15    \u001b[90m2022-02-18\u001b[39m \u001b[90m[1]\u001b[39m \u001b[90mCRAN (R 4.1.2)\u001b[39m\n",
       " fansi          1.0.2   \u001b[90m2022-01-14\u001b[39m \u001b[90m[1]\u001b[39m \u001b[90mCRAN (R 4.1.2)\u001b[39m\n",
       " fastmap        1.1.0   \u001b[90m2021-01-25\u001b[39m \u001b[90m[1]\u001b[39m \u001b[90mCRAN (R 4.1.2)\u001b[39m\n",
       " fs             1.5.2   \u001b[90m2021-12-08\u001b[39m \u001b[90m[1]\u001b[39m \u001b[90mCRAN (R 4.1.2)\u001b[39m\n",
       " glue           1.6.1   \u001b[90m2022-01-22\u001b[39m \u001b[90m[1]\u001b[39m \u001b[90mCRAN (R 4.1.2)\u001b[39m\n",
       " htmltools      0.5.2   \u001b[90m2021-08-25\u001b[39m \u001b[90m[1]\u001b[39m \u001b[90mCRAN (R 4.1.2)\u001b[39m\n",
       " IRdisplay      1.1     \u001b[90m2022-01-04\u001b[39m \u001b[90m[1]\u001b[39m \u001b[90mCRAN (R 4.1.2)\u001b[39m\n",
       " IRkernel       1.3     \u001b[90m2022-01-03\u001b[39m \u001b[90m[1]\u001b[39m \u001b[90mCRAN (R 4.1.2)\u001b[39m\n",
       " jsonlite       1.7.3   \u001b[90m2022-01-17\u001b[39m \u001b[90m[1]\u001b[39m \u001b[90mCRAN (R 4.1.2)\u001b[39m\n",
       " lifecycle      1.0.1   \u001b[90m2021-09-24\u001b[39m \u001b[90m[1]\u001b[39m \u001b[90mCRAN (R 4.1.2)\u001b[39m\n",
       " magrittr       2.0.2   \u001b[90m2022-01-26\u001b[39m \u001b[90m[1]\u001b[39m \u001b[90mCRAN (R 4.1.2)\u001b[39m\n",
       " memoise        2.0.1   \u001b[90m2021-11-26\u001b[39m \u001b[90m[1]\u001b[39m \u001b[90mCRAN (R 4.1.2)\u001b[39m\n",
       " pbdZMQ         0.3-7   \u001b[90m2022-02-05\u001b[39m \u001b[90m[1]\u001b[39m \u001b[90mCRAN (R 4.1.2)\u001b[39m\n",
       " pillar         1.7.0   \u001b[90m2022-02-01\u001b[39m \u001b[90m[1]\u001b[39m \u001b[90mCRAN (R 4.1.2)\u001b[39m\n",
       " pkgbuild       1.3.1   \u001b[90m2021-12-20\u001b[39m \u001b[90m[1]\u001b[39m \u001b[90mCRAN (R 4.1.2)\u001b[39m\n",
       " pkgload        1.2.4   \u001b[90m2021-11-30\u001b[39m \u001b[90m[1]\u001b[39m \u001b[90mCRAN (R 4.1.2)\u001b[39m\n",
       " prettyunits    1.1.1   \u001b[90m2020-01-24\u001b[39m \u001b[90m[1]\u001b[39m \u001b[90mCRAN (R 4.1.2)\u001b[39m\n",
       " processx       3.5.2   \u001b[90m2021-04-30\u001b[39m \u001b[90m[1]\u001b[39m \u001b[90mCRAN (R 4.1.2)\u001b[39m\n",
       " ps             1.6.0   \u001b[90m2021-02-28\u001b[39m \u001b[90m[1]\u001b[39m \u001b[90mCRAN (R 4.1.2)\u001b[39m\n",
       " purrr          0.3.4   \u001b[90m2020-04-17\u001b[39m \u001b[90m[1]\u001b[39m \u001b[90mCRAN (R 4.1.2)\u001b[39m\n",
       " R6             2.5.1   \u001b[90m2021-08-19\u001b[39m \u001b[90m[1]\u001b[39m \u001b[90mCRAN (R 4.1.2)\u001b[39m\n",
       " remotes        2.4.2   \u001b[90m2021-11-30\u001b[39m \u001b[90m[1]\u001b[39m \u001b[90mCRAN (R 4.1.2)\u001b[39m\n",
       " repr           1.1.4   \u001b[90m2022-01-04\u001b[39m \u001b[90m[1]\u001b[39m \u001b[90mCRAN (R 4.1.2)\u001b[39m\n",
       " rlang          1.0.1   \u001b[90m2022-02-03\u001b[39m \u001b[90m[1]\u001b[39m \u001b[90mCRAN (R 4.1.2)\u001b[39m\n",
       " rprojroot      2.0.2   \u001b[90m2020-11-15\u001b[39m \u001b[90m[1]\u001b[39m \u001b[90mCRAN (R 4.1.2)\u001b[39m\n",
       " sessioninfo    1.2.2   \u001b[90m2021-12-06\u001b[39m \u001b[90m[1]\u001b[39m \u001b[90mCRAN (R 4.1.2)\u001b[39m\n",
       " testthat       3.1.2   \u001b[90m2022-01-20\u001b[39m \u001b[90m[1]\u001b[39m \u001b[90mCRAN (R 4.1.2)\u001b[39m\n",
       " usethis      * 2.1.5   \u001b[90m2021-12-09\u001b[39m \u001b[90m[1]\u001b[39m \u001b[90mCRAN (R 4.1.2)\u001b[39m\n",
       " utf8           1.2.2   \u001b[90m2021-07-24\u001b[39m \u001b[90m[1]\u001b[39m \u001b[90mCRAN (R 4.1.2)\u001b[39m\n",
       " uuid           1.0-3   \u001b[90m2021-11-01\u001b[39m \u001b[90m[1]\u001b[39m \u001b[90mCRAN (R 4.1.2)\u001b[39m\n",
       " vctrs          0.3.8   \u001b[90m2021-04-29\u001b[39m \u001b[90m[1]\u001b[39m \u001b[90mCRAN (R 4.1.2)\u001b[39m\n",
       " withr          2.4.3   \u001b[90m2021-11-30\u001b[39m \u001b[90m[1]\u001b[39m \u001b[90mCRAN (R 4.1.2)\u001b[39m\n",
       "\n",
       "\u001b[90m [1] C:/Users/etuca/OneDrive/Documents/R/win-library/4.1\u001b[39m\n",
       "\u001b[90m [2] C:/Users/etuca/.conda/envs/rbase/Lib/R/library\u001b[39m\n",
       "\n",
       "\u001b[1m\u001b[36m------------------------------------------------------------------------------\u001b[39m\u001b[22m"
      ]
     },
     "metadata": {},
     "output_type": "display_data"
    }
   ],
   "source": [
    "devtools::session_info()"
   ]
  },
  {
   "cell_type": "markdown",
   "metadata": {},
   "source": [
    "## B. Exploratory analysis\n"
   ]
  },
  {
   "cell_type": "markdown",
   "metadata": {},
   "source": [
    "### Dependencies"
   ]
  },
  {
   "cell_type": "code",
   "execution_count": 2,
   "metadata": {},
   "outputs": [
    {
     "name": "stderr",
     "output_type": "stream",
     "text": [
      "Installing package into 'C:/Users/etuca/OneDrive/Documents/R/win-library/4.1'\n",
      "(as 'lib' is unspecified)\n",
      "\n"
     ]
    },
    {
     "name": "stdout",
     "output_type": "stream",
     "text": [
      "package 'gplots' successfully unpacked and MD5 sums checked\n",
      "\n",
      "The downloaded binary packages are in\n",
      "\tC:\\Users\\etuca\\AppData\\Local\\Temp\\Rtmpq6znEh\\downloaded_packages\n"
     ]
    },
    {
     "name": "stderr",
     "output_type": "stream",
     "text": [
      "Installing package into 'C:/Users/etuca/OneDrive/Documents/R/win-library/4.1'\n",
      "(as 'lib' is unspecified)\n",
      "\n"
     ]
    },
    {
     "name": "stdout",
     "output_type": "stream",
     "text": [
      "package 'devtools' successfully unpacked and MD5 sums checked\n",
      "\n",
      "The downloaded binary packages are in\n",
      "\tC:\\Users\\etuca\\AppData\\Local\\Temp\\Rtmpq6znEh\\downloaded_packages\n"
     ]
    },
    {
     "name": "stderr",
     "output_type": "stream",
     "text": [
      "'getOption(\"repos\")' replaces Bioconductor standard repositories, see\n",
      "'?repositories' for details\n",
      "\n",
      "replacement repositories:\n",
      "    CRAN: https://cran.r-project.org\n",
      "\n",
      "\n",
      "Bioconductor version 3.14 (BiocManager 1.30.16), R 4.1.0 (2021-05-18)\n",
      "\n",
      "Warning message:\n",
      "\"package(s) not installed when version(s) same as current; use `force = TRUE` to\n",
      "  re-install: 'Biobase'\"\n",
      "Old packages: 'cli', 'clipr', 'colorspace', 'gee', 'jsonlite', 'ragg',\n",
      "  'tidyselect', 'yaml', 'brio', 'cachem', 'curl', 'diffobj', 'fs', 'gert',\n",
      "  'magrittr', 'mime', 'openssl', 'rlang', 'roxygen2', 'stringi', 'testthat',\n",
      "  'tibble', 'xfun', 'xml2', 'zip'\n",
      "\n",
      "'getOption(\"repos\")' replaces Bioconductor standard repositories, see\n",
      "'?repositories' for details\n",
      "\n",
      "replacement repositories:\n",
      "    CRAN: https://cran.r-project.org\n",
      "\n",
      "\n",
      "Bioconductor version 3.14 (BiocManager 1.30.16), R 4.1.0 (2021-05-18)\n",
      "\n",
      "Installing package(s) 'RSkittleBrewer'\n",
      "\n",
      "Warning message in .inet_warning(msg):\n",
      "\"package 'RSkittleBrewer' is not available for Bioconductor version '3.14'\n",
      "\n",
      "A version of this package for your version of R might be available elsewhere,\n",
      "see the ideas at\n",
      "https://cran.r-project.org/doc/manuals/r-patched/R-admin.html#Installing-packages\"\n",
      "Old packages: 'cli', 'clipr', 'colorspace', 'gee', 'jsonlite', 'ragg',\n",
      "  'tidyselect', 'yaml', 'brio', 'cachem', 'curl', 'diffobj', 'fs', 'gert',\n",
      "  'magrittr', 'mime', 'openssl', 'rlang', 'roxygen2', 'stringi', 'testthat',\n",
      "  'tibble', 'xfun', 'xml2', 'zip'\n",
      "\n",
      "'getOption(\"repos\")' replaces Bioconductor standard repositories, see\n",
      "'?repositories' for details\n",
      "\n",
      "replacement repositories:\n",
      "    CRAN: https://cran.r-project.org\n",
      "\n",
      "\n",
      "Bioconductor version 3.14 (BiocManager 1.30.16), R 4.1.0 (2021-05-18)\n",
      "\n",
      "Installing package(s) 'org.Hs.eg.db'\n",
      "\n",
      "also installing the dependencies 'KEGGREST', 'AnnotationDbi'\n",
      "\n",
      "\n"
     ]
    },
    {
     "name": "stdout",
     "output_type": "stream",
     "text": [
      "package 'KEGGREST' successfully unpacked and MD5 sums checked\n",
      "package 'AnnotationDbi' successfully unpacked and MD5 sums checked\n",
      "\n",
      "The downloaded binary packages are in\n",
      "\tC:\\Users\\etuca\\AppData\\Local\\Temp\\Rtmpq6znEh\\downloaded_packages\n"
     ]
    },
    {
     "name": "stderr",
     "output_type": "stream",
     "text": [
      "installing the source package 'org.Hs.eg.db'\n",
      "\n",
      "\n",
      "Old packages: 'cli', 'clipr', 'colorspace', 'gee', 'jsonlite', 'ragg',\n",
      "  'tidyselect', 'yaml', 'brio', 'cachem', 'curl', 'diffobj', 'fs', 'gert',\n",
      "  'magrittr', 'mime', 'openssl', 'rlang', 'roxygen2', 'stringi', 'testthat',\n",
      "  'tibble', 'xfun', 'xml2', 'zip'\n",
      "\n",
      "'getOption(\"repos\")' replaces Bioconductor standard repositories, see\n",
      "'?repositories' for details\n",
      "\n",
      "replacement repositories:\n",
      "    CRAN: https://cran.r-project.org\n",
      "\n",
      "\n",
      "Bioconductor version 3.14 (BiocManager 1.30.16), R 4.1.0 (2021-05-18)\n",
      "\n",
      "Warning message:\n",
      "\"package(s) not installed when version(s) same as current; use `force = TRUE` to\n",
      "  re-install: 'AnnotationDbi'\"\n",
      "Old packages: 'cli', 'clipr', 'colorspace', 'gee', 'jsonlite', 'ragg',\n",
      "  'tidyselect', 'yaml', 'brio', 'cachem', 'curl', 'diffobj', 'fs', 'gert',\n",
      "  'magrittr', 'mime', 'openssl', 'rlang', 'roxygen2', 'stringi', 'testthat',\n",
      "  'tibble', 'xfun', 'xml2', 'zip'\n",
      "\n"
     ]
    }
   ],
   "source": [
    "\n",
    "\n",
    "\n",
    "# To install these packages you can use the code\n",
    "install.packages('gplots')\n",
    "install.packages('devtools')\n",
    "\n",
    "BiocManager::install(\"Biobase\")\n",
    "devtools::install_github('alyssafrazee/RSkittleBrewer')\n",
    "BiocManager::install(\"org.Hs.eg.db\")\n",
    "BiocManager::install(\"AnnotationDbi\")"
   ]
  },
  {
   "cell_type": "code",
   "execution_count": 2,
   "metadata": {},
   "outputs": [
    {
     "name": "stderr",
     "output_type": "stream",
     "text": [
      "Warning message:\n",
      "\"package 'gplots' was built under R version 4.1.2\"\n",
      "\n",
      "Attaching package: 'gplots'\n",
      "\n",
      "\n",
      "The following object is masked from 'package:stats':\n",
      "\n",
      "    lowess\n",
      "\n",
      "\n",
      "Warning message:\n",
      "\"package 'devtools' was built under R version 4.1.2\"\n",
      "Loading required package: usethis\n",
      "\n",
      "Warning message:\n",
      "\"package 'usethis' was built under R version 4.1.2\"\n",
      "Warning message:\n",
      "\"package 'Biobase' was built under R version 4.1.1\"\n",
      "Loading required package: BiocGenerics\n",
      "\n",
      "Warning message:\n",
      "\"package 'BiocGenerics' was built under R version 4.1.1\"\n",
      "\n",
      "Attaching package: 'BiocGenerics'\n",
      "\n",
      "\n",
      "The following objects are masked from 'package:stats':\n",
      "\n",
      "    IQR, mad, sd, var, xtabs\n",
      "\n",
      "\n",
      "The following objects are masked from 'package:base':\n",
      "\n",
      "    anyDuplicated, append, as.data.frame, basename, cbind, colnames,\n",
      "    dirname, do.call, duplicated, eval, evalq, Filter, Find, get, grep,\n",
      "    grepl, intersect, is.unsorted, lapply, Map, mapply, match, mget,\n",
      "    order, paste, pmax, pmax.int, pmin, pmin.int, Position, rank,\n",
      "    rbind, Reduce, rownames, sapply, setdiff, sort, table, tapply,\n",
      "    union, unique, unsplit, which.max, which.min\n",
      "\n",
      "\n",
      "Welcome to Bioconductor\n",
      "\n",
      "    Vignettes contain introductory material; view with\n",
      "    'browseVignettes()'. To cite Bioconductor, see\n",
      "    'citation(\"Biobase\")', and for packages 'citation(\"pkgname\")'.\n",
      "\n",
      "\n",
      "Loading required package: AnnotationDbi\n",
      "\n",
      "Warning message:\n",
      "\"package 'AnnotationDbi' was built under R version 4.1.1\"\n",
      "Loading required package: stats4\n",
      "\n",
      "Loading required package: IRanges\n",
      "\n",
      "Warning message:\n",
      "\"package 'IRanges' was built under R version 4.1.1\"\n",
      "Loading required package: S4Vectors\n",
      "\n",
      "Warning message:\n",
      "\"package 'S4Vectors' was built under R version 4.1.2\"\n",
      "\n",
      "Attaching package: 'S4Vectors'\n",
      "\n",
      "\n",
      "The following object is masked from 'package:gplots':\n",
      "\n",
      "    space\n",
      "\n",
      "\n",
      "The following objects are masked from 'package:base':\n",
      "\n",
      "    expand.grid, I, unname\n",
      "\n",
      "\n",
      "\n",
      "Attaching package: 'IRanges'\n",
      "\n",
      "\n",
      "The following object is masked from 'package:grDevices':\n",
      "\n",
      "    windows\n",
      "\n",
      "\n",
      "\n",
      "\n"
     ]
    }
   ],
   "source": [
    "# Documents depends on the following packages\n",
    "library(gplots)\n",
    "library(devtools)\n",
    "library(Biobase)\n",
    "library(RSkittleBrewer)\n",
    "library(org.Hs.eg.db)\n",
    "library(AnnotationDbi)"
   ]
  },
  {
   "cell_type": "markdown",
   "metadata": {},
   "source": [
    "### Make the plots pretty\n",
    "\n",
    "Typically we will use color to explore data sets and label different values. There are a large number of color options in R. I like the **RSkittleBrewer** package, but you can also check out Jenny Bryan’s excellent lecture on colors in R for more information.\n",
    "\n",
    "Load the library and set the color palette with the palette function. Now when I type `col = 1` it will look for the first color in the trop colors. We also set the character to be a filled dot with par`(pch=19)`."
   ]
  },
  {
   "cell_type": "code",
   "execution_count": 4,
   "metadata": {},
   "outputs": [],
   "source": [
    "library(RSkittleBrewer)\n",
    "# Make the colors pretty\n",
    "trop = RSkittleBrewer(\"tropical\")\n",
    "palette(trop)\n",
    "par(pch=19)"
   ]
  },
  {
   "cell_type": "markdown",
   "metadata": {},
   "source": [
    "### Load some data\n",
    "We will use this expression set to look at how we use plots and tables to check for different characteristics"
   ]
  },
  {
   "cell_type": "code",
   "execution_count": 5,
   "metadata": {},
   "outputs": [
    {
     "data": {
      "text/html": [
       "<style>\n",
       ".list-inline {list-style: none; margin:0; padding: 0}\n",
       ".list-inline>li {display: inline-block}\n",
       ".list-inline>li:not(:last-child)::after {content: \"\\00b7\"; padding: 0 .5ex}\n",
       "</style>\n",
       "<ol class=list-inline><li>'bm'</li><li>'bodymap.eset'</li><li>'con'</li><li>'edata'</li><li>'fdata'</li><li>'pdata'</li><li>'trop'</li></ol>\n"
      ],
      "text/latex": [
       "\\begin{enumerate*}\n",
       "\\item 'bm'\n",
       "\\item 'bodymap.eset'\n",
       "\\item 'con'\n",
       "\\item 'edata'\n",
       "\\item 'fdata'\n",
       "\\item 'pdata'\n",
       "\\item 'trop'\n",
       "\\end{enumerate*}\n"
      ],
      "text/markdown": [
       "1. 'bm'\n",
       "2. 'bodymap.eset'\n",
       "3. 'con'\n",
       "4. 'edata'\n",
       "5. 'fdata'\n",
       "6. 'pdata'\n",
       "7. 'trop'\n",
       "\n",
       "\n"
      ],
      "text/plain": [
       "[1] \"bm\"           \"bodymap.eset\" \"con\"          \"edata\"        \"fdata\"       \n",
       "[6] \"pdata\"        \"trop\"        "
      ]
     },
     "metadata": {},
     "output_type": "display_data"
    }
   ],
   "source": [
    "con = url(\"http://bowtie-bio.sourceforge.net/recount/ExpressionSets/bodymap_eset.RData\")\n",
    "load(file=con)\n",
    "close(con)\n",
    "\n",
    "bm = bodymap.eset\n",
    "pdata=pData(bm) # phenotype data\n",
    "edata=exprs(bm) # expression data\n",
    "fdata = fData(bm) # feature data\n",
    "\n",
    "ls()"
   ]
  },
  {
   "cell_type": "markdown",
   "metadata": {},
   "source": [
    "### Tables for factor/character variables\n",
    "Tables are good for looking at factor or character variables, especially in phenotype data"
   ]
  },
  {
   "cell_type": "code",
   "execution_count": 14,
   "metadata": {},
   "outputs": [
    {
     "data": {
      "text/plain": [
       "\n",
       "F M \n",
       "8 8 "
      ]
     },
     "metadata": {},
     "output_type": "display_data"
    }
   ],
   "source": [
    "table(pdata$gender)"
   ]
  },
  {
   "cell_type": "code",
   "execution_count": 15,
   "metadata": {},
   "outputs": [
    {
     "data": {
      "text/plain": [
       "   \n",
       "    african_american caucasian\n",
       "  F                1         7\n",
       "  M                0         8"
      ]
     },
     "metadata": {},
     "output_type": "display_data"
    }
   ],
   "source": [
    "table(pdata$gender,pdata$race)"
   ]
  },
  {
   "cell_type": "markdown",
   "metadata": {},
   "source": [
    "### Look for missing values\n",
    "NA is the most common character for missing values, but sometimes they are coded as spaces, 999, -1 or “missing”. Check for missing values in a variety of ways"
   ]
  },
  {
   "cell_type": "code",
   "execution_count": 16,
   "metadata": {},
   "outputs": [
    {
     "data": {
      "text/plain": [
       "   ERS025098           ERS025092          ERS025085          ERS025088        \n",
       " Min.   :      0.0   Min.   :     0.0   Min.   :     0.0   Min.   :      0.0  \n",
       " 1st Qu.:      0.0   1st Qu.:     0.0   1st Qu.:     0.0   1st Qu.:      0.0  \n",
       " Median :      0.0   Median :     0.0   Median :     0.0   Median :      0.0  \n",
       " Mean   :    455.6   Mean   :   361.1   Mean   :   399.3   Mean   :    445.5  \n",
       " 3rd Qu.:      0.0   3rd Qu.:     0.0   3rd Qu.:     0.0   3rd Qu.:      0.0  \n",
       " Max.   :1584528.0   Max.   :499802.0   Max.   :808641.0   Max.   :1014579.0  \n",
       "   ERS025089         ERS025082         ERS025081           ERS025096      \n",
       " Min.   :      0   Min.   :      0   Min.   :      0.0   Min.   :      0  \n",
       " 1st Qu.:      0   1st Qu.:      0   1st Qu.:      0.0   1st Qu.:      0  \n",
       " Median :      0   Median :      0   Median :      0.0   Median :      0  \n",
       " Mean   :    445   Mean   :    509   Mean   :    430.4   Mean   :    558  \n",
       " 3rd Qu.:      0   3rd Qu.:      0   3rd Qu.:      0.0   3rd Qu.:      0  \n",
       " Max.   :1415741   Max.   :2484692   Max.   :1356643.0   Max.   :3517964  \n",
       "   ERS025099          ERS025086          ERS025084          ERS025087     \n",
       " Min.   :     0.0   Min.   :     0.0   Min.   :     0.0   Min.   :     0  \n",
       " 1st Qu.:     0.0   1st Qu.:     0.0   1st Qu.:     0.0   1st Qu.:     0  \n",
       " Median :     0.0   Median :     0.0   Median :     0.0   Median :     0  \n",
       " Mean   :   445.5   Mean   :   370.7   Mean   :   592.1   Mean   :  1097  \n",
       " 3rd Qu.:     0.0   3rd Qu.:     0.0   3rd Qu.:     0.0   3rd Qu.:     0  \n",
       " Max.   :572374.0   Max.   :458168.0   Max.   :287539.0   Max.   :519683  \n",
       "   ERS025093           ERS025083          ERS025095           ERS025097        \n",
       " Min.   :      0.0   Min.   :     0.0   Min.   :      0.0   Min.   :      0.0  \n",
       " 1st Qu.:      0.0   1st Qu.:     0.0   1st Qu.:      0.0   1st Qu.:      0.0  \n",
       " Median :      0.0   Median :     0.0   Median :      0.0   Median :      0.0  \n",
       " Mean   :    997.7   Mean   :   434.7   Mean   :    479.6   Mean   :    540.1  \n",
       " 3rd Qu.:      0.0   3rd Qu.:     0.0   3rd Qu.:      0.0   3rd Qu.:      0.0  \n",
       " Max.   :1332827.0   Max.   :626824.0   Max.   :1605570.0   Max.   :1888083.0  \n",
       "   ERS025094          ERS025090          ERS025091        \n",
       " Min.   :     0.0   Min.   :     0.0   Min.   :      0.0  \n",
       " 1st Qu.:     0.0   1st Qu.:     0.0   1st Qu.:      0.0  \n",
       " Median :     0.0   Median :     0.0   Median :      0.0  \n",
       " Mean   :   518.5   Mean   :   465.3   Mean   :    530.1  \n",
       " 3rd Qu.:     0.0   3rd Qu.:     0.0   3rd Qu.:      0.0  \n",
       " Max.   :776623.0   Max.   :535410.0   Max.   :1221921.0  "
      ]
     },
     "metadata": {},
     "output_type": "display_data"
    }
   ],
   "source": [
    "summary(edata)"
   ]
  },
  {
   "cell_type": "code",
   "execution_count": 17,
   "metadata": {},
   "outputs": [
    {
     "data": {
      "text/plain": [
       "\n",
       "  19   29   37   47   58   60   65   68   73   77   86 <NA> \n",
       "   1    1    1    1    1    3    1    1    2    3    1    3 "
      ]
     },
     "metadata": {},
     "output_type": "display_data"
    }
   ],
   "source": [
    "# Use option useNA to include NA's in table\n",
    "table(pdata$age,useNA=\"ifany\")"
   ]
  },
  {
   "cell_type": "code",
   "execution_count": 18,
   "metadata": {},
   "outputs": [
    {
     "data": {
      "text/plain": [
       "\n",
       "FALSE  TRUE \n",
       "   16     3 "
      ]
     },
     "metadata": {},
     "output_type": "display_data"
    }
   ],
   "source": [
    "# is.na checks for NA values\n",
    "table(is.na(pdata$age))"
   ]
  },
  {
   "cell_type": "code",
   "execution_count": 19,
   "metadata": {},
   "outputs": [
    {
     "data": {
      "text/html": [
       "&lt;NA&gt;"
      ],
      "text/latex": [
       "<NA>"
      ],
      "text/markdown": [
       "&lt;NA&gt;"
      ],
      "text/plain": [
       "[1] NA"
      ]
     },
     "metadata": {},
     "output_type": "display_data"
    }
   ],
   "source": [
    "# Check for other common missing names\n",
    "sum(pdata$age==\" \")"
   ]
  },
  {
   "cell_type": "code",
   "execution_count": 20,
   "metadata": {},
   "outputs": [
    {
     "data": {
      "text/html": [
       "0"
      ],
      "text/latex": [
       "0"
      ],
      "text/markdown": [
       "0"
      ],
      "text/plain": [
       "[1] 0"
      ]
     },
     "metadata": {},
     "output_type": "display_data"
    }
   ],
   "source": [
    "# Check genomic data for NAs\n",
    "sum(is.na(edata))"
   ]
  },
  {
   "cell_type": "code",
   "execution_count": 21,
   "metadata": {},
   "outputs": [
    {
     "data": {
      "text/plain": [
       "gene_na\n",
       "    0 \n",
       "52580 "
      ]
     },
     "metadata": {},
     "output_type": "display_data"
    }
   ],
   "source": [
    "# Make the distribution of NA's by genes\n",
    "gene_na = rowSums(is.na(edata))\n",
    "table(gene_na)"
   ]
  },
  {
   "cell_type": "code",
   "execution_count": 22,
   "metadata": {},
   "outputs": [
    {
     "data": {
      "text/plain": [
       "sample_na\n",
       "    0 \n",
       "52580 "
      ]
     },
     "metadata": {},
     "output_type": "display_data"
    }
   ],
   "source": [
    "# Make the distribution of NA's by samples\n",
    "sample_na = rowSums(is.na(edata))\n",
    "table(sample_na)"
   ]
  },
  {
   "cell_type": "markdown",
   "metadata": {},
   "source": [
    "### Make sure dimensions match up\n",
    "\n",
    "The number of rows of the feature data should match the number of rows of the genomic data (both are the number of genes). The number of rows of the phenotype data should match the number of columns of the genomic data (both are the number of samples)."
   ]
  },
  {
   "cell_type": "code",
   "execution_count": 23,
   "metadata": {},
   "outputs": [
    {
     "data": {
      "text/html": [
       "<style>\n",
       ".list-inline {list-style: none; margin:0; padding: 0}\n",
       ".list-inline>li {display: inline-block}\n",
       ".list-inline>li:not(:last-child)::after {content: \"\\00b7\"; padding: 0 .5ex}\n",
       "</style>\n",
       "<ol class=list-inline><li>52580</li><li>1</li></ol>\n"
      ],
      "text/latex": [
       "\\begin{enumerate*}\n",
       "\\item 52580\n",
       "\\item 1\n",
       "\\end{enumerate*}\n"
      ],
      "text/markdown": [
       "1. 52580\n",
       "2. 1\n",
       "\n",
       "\n"
      ],
      "text/plain": [
       "[1] 52580     1"
      ]
     },
     "metadata": {},
     "output_type": "display_data"
    }
   ],
   "source": [
    "dim(fdata) # dimensions of feature data\n",
    "dim(pdata) # dimensions of phenotype data\n",
    "dim(edata) # dimensions of expression data"
   ]
  },
  {
   "cell_type": "markdown",
   "metadata": {},
   "source": [
    "### Look at overall distribution\n",
    "Lots of outliers in data"
   ]
  },
  {
   "cell_type": "code",
   "execution_count": 28,
   "metadata": {},
   "outputs": [
    {
     "data": {
      "image/png": "[encoded data removed]",
      "text/plain": [
       "plot without title"
      ]
     },
     "metadata": {
      "image/png": {
       "height": 420,
       "width": 420
      }
     },
     "output_type": "display_data"
    }
   ],
   "source": [
    "boxplot(log2(edata + 1),col=2,range=0)"
   ]
  },
  {
   "cell_type": "code",
   "execution_count": 29,
   "metadata": {},
   "outputs": [
    {
     "data": {
      "image/png": "[encoded data removed]",
      "text/plain": [
       "Plot with title \"Histogram of log2(edata[, 2] + 1)\""
      ]
     },
     "metadata": {
      "image/png": {
       "height": 420,
       "width": 420
      }
     },
     "output_type": "display_data"
    }
   ],
   "source": [
    "par(mfrow = c(1,2))\n",
    "hist(log2(edata[,1]+1),col = 2) # col (color)\n",
    "hist(log2(edata[,2]+1),col = 3)"
   ]
  },
  {
   "cell_type": "code",
   "execution_count": 32,
   "metadata": {},
   "outputs": [
    {
     "data": {
      "image/png": "[encoded data removed]",
      "text/plain": [
       "Plot with title \"density.default(x = log2(edata[, 1] + 1))\""
      ]
     },
     "metadata": {
      "image/png": {
       "height": 420,
       "width": 420
      }
     },
     "output_type": "display_data"
    }
   ],
   "source": [
    "# density plot\n",
    "plot(density(log2(edata[,1]+1)),col=2)\n",
    "lines(density(log2(edata[,2]+1)),col=3)\n"
   ]
  },
  {
   "cell_type": "code",
   "execution_count": 33,
   "metadata": {},
   "outputs": [
    {
     "data": {
      "image/png": "[encoded data removed]",
      "text/plain": [
       "plot without title"
      ]
     },
     "metadata": {
      "image/png": {
       "height": 420,
       "width": 420
      }
     },
     "output_type": "display_data"
    }
   ],
   "source": [
    "# Quantile Quantile plot\n",
    "# A very common task is to compare distributions of measurements (say before normalization). You can do this with a qq-plot\n",
    "\n",
    "qqplot(log2(edata[,1]+1), log2(edata[,2]+1),col=3)"
   ]
  },
  {
   "cell_type": "markdown",
   "metadata": {},
   "source": [
    "A very widely used plot is what is known as a [M-A plot](https://en.wikipedia.org/wiki/MA_plot), sometimes called a [Bland Altman plot](https://en.wikipedia.org/wiki/Bland%E2%80%93Altman_plot). The basic idea is to plot the sum of the two values on the x-axis and the difference on the y-axis. This can be used to see any difference between the (samples, averages, etc.) and to see if there is any intensity-specific biases."
   ]
  },
  {
   "cell_type": "code",
   "execution_count": 35,
   "metadata": {},
   "outputs": [
    {
     "data": {
      "image/png": "[encoded data removed]",
      "text/plain": [
       "plot without title"
      ]
     },
     "metadata": {
      "image/png": {
       "height": 420,
       "width": 420
      }
     },
     "output_type": "display_data"
    }
   ],
   "source": [
    "mm = log2(edata[,1]+1) - log2(edata[,2]+1)\n",
    "aa = log2(edata[,1]+1) + log2(edata[,2]+1)\n",
    "plot(aa,mm,col=3)"
   ]
  },
  {
   "cell_type": "code",
   "execution_count": 25,
   "metadata": {},
   "outputs": [
    {
     "data": {
      "image/png": "[encoded data removed]",
      "text/plain": [
       "plot without title"
      ]
     },
     "metadata": {
      "image/png": {
       "height": 420,
       "width": 420
      }
     },
     "output_type": "display_data"
    }
   ],
   "source": [
    "# We can remove rows that are mostly zero and notice any differences in the distributions across samples.\n",
    "\n",
    "\n",
    "library (\"dplyr\")\n",
    "\n",
    "edata = as.data.frame(edata)\n",
    "filt_edata = filter(edata,rowMeans(edata) > 1)\n",
    "boxplot(as.matrix(log2(filt_edata+1)),col=3)"
   ]
  },
  {
   "cell_type": "markdown",
   "metadata": {},
   "source": [
    "### Check for obvious data mixups\n",
    "\n",
    "Here we are going to do a check to make sure that the men and women are correctly labeled by looking at expression on the Y chromosome. In general you might do several of this type of check to confirm the data are correctly labeled.\n",
    "\n",
    "Get the chromosomes for each gene using the feature data.\n"
   ]
  },
  {
   "cell_type": "code",
   "execution_count": 26,
   "metadata": {},
   "outputs": [
    {
     "name": "stderr",
     "output_type": "stream",
     "text": [
      "Warning message in .deprecatedColsMessage():\n",
      "\"Accessing gene location information via 'CHR','CHRLOC','CHRLOCEND' is\n",
      "  deprecated. Please use a range based accessor like genes(), or select()\n",
      "  with columns values like TXCHROM and TXSTART on a TxDb or OrganismDb\n",
      "  object instead.\"\n",
      "'select()' returned 1:many mapping between keys and columns\n",
      "\n"
     ]
    },
    {
     "data": {
      "text/html": [
       "<table class=\"dataframe\">\n",
       "<caption>A data.frame: 6 × 2</caption>\n",
       "<thead>\n",
       "\t<tr><th></th><th scope=col>ENSEMBL</th><th scope=col>CHR</th></tr>\n",
       "\t<tr><th></th><th scope=col>&lt;chr&gt;</th><th scope=col>&lt;chr&gt;</th></tr>\n",
       "</thead>\n",
       "<tbody>\n",
       "\t<tr><th scope=row>1</th><td>ENSG00000000003</td><td>X </td></tr>\n",
       "\t<tr><th scope=row>2</th><td>ENSG00000000005</td><td>X </td></tr>\n",
       "\t<tr><th scope=row>3</th><td>ENSG00000000419</td><td>20</td></tr>\n",
       "\t<tr><th scope=row>4</th><td>ENSG00000000457</td><td>1 </td></tr>\n",
       "\t<tr><th scope=row>5</th><td>ENSG00000000460</td><td>1 </td></tr>\n",
       "\t<tr><th scope=row>6</th><td>ENSG00000000938</td><td>1 </td></tr>\n",
       "</tbody>\n",
       "</table>\n"
      ],
      "text/latex": [
       "A data.frame: 6 × 2\n",
       "\\begin{tabular}{r|ll}\n",
       "  & ENSEMBL & CHR\\\\\n",
       "  & <chr> & <chr>\\\\\n",
       "\\hline\n",
       "\t1 & ENSG00000000003 & X \\\\\n",
       "\t2 & ENSG00000000005 & X \\\\\n",
       "\t3 & ENSG00000000419 & 20\\\\\n",
       "\t4 & ENSG00000000457 & 1 \\\\\n",
       "\t5 & ENSG00000000460 & 1 \\\\\n",
       "\t6 & ENSG00000000938 & 1 \\\\\n",
       "\\end{tabular}\n"
      ],
      "text/markdown": [
       "\n",
       "A data.frame: 6 × 2\n",
       "\n",
       "| <!--/--> | ENSEMBL &lt;chr&gt; | CHR &lt;chr&gt; |\n",
       "|---|---|---|\n",
       "| 1 | ENSG00000000003 | X  |\n",
       "| 2 | ENSG00000000005 | X  |\n",
       "| 3 | ENSG00000000419 | 20 |\n",
       "| 4 | ENSG00000000457 | 1  |\n",
       "| 5 | ENSG00000000460 | 1  |\n",
       "| 6 | ENSG00000000938 | 1  |\n",
       "\n"
      ],
      "text/plain": [
       "  ENSEMBL         CHR\n",
       "1 ENSG00000000003 X  \n",
       "2 ENSG00000000005 X  \n",
       "3 ENSG00000000419 20 \n",
       "4 ENSG00000000457 1  \n",
       "5 ENSG00000000460 1  \n",
       "6 ENSG00000000938 1  "
      ]
     },
     "metadata": {},
     "output_type": "display_data"
    }
   ],
   "source": [
    "aeid = as.character(fdata[,1])\n",
    "chr = AnnotationDbi::select(org.Hs.eg.db,keys=aeid,keytype=\"ENSEMBL\",columns=\"CHR\")\n",
    "head(chr)"
   ]
  },
  {
   "cell_type": "markdown",
   "metadata": {},
   "source": [
    "Filter to the data on chromsome Y and sum up all the counts. A tricky issue is that some genes are annotated to multiple chromsomes. Here we take the first chromsome each is annotated to."
   ]
  },
  {
   "cell_type": "code",
   "execution_count": 27,
   "metadata": {},
   "outputs": [
    {
     "data": {
      "text/html": [
       "<style>\n",
       ".list-inline {list-style: none; margin:0; padding: 0}\n",
       ".list-inline>li {display: inline-block}\n",
       ".list-inline>li:not(:last-child)::after {content: \"\\00b7\"; padding: 0 .5ex}\n",
       "</style>\n",
       "<ol class=list-inline><li>52623</li><li>2</li></ol>\n"
      ],
      "text/latex": [
       "\\begin{enumerate*}\n",
       "\\item 52623\n",
       "\\item 2\n",
       "\\end{enumerate*}\n"
      ],
      "text/markdown": [
       "1. 52623\n",
       "2. 2\n",
       "\n",
       "\n"
      ],
      "text/plain": [
       "[1] 52623     2"
      ]
     },
     "metadata": {},
     "output_type": "display_data"
    }
   ],
   "source": [
    "dim(chr)"
   ]
  },
  {
   "cell_type": "code",
   "execution_count": 28,
   "metadata": {},
   "outputs": [
    {
     "data": {
      "text/html": [
       "<style>\n",
       ".list-inline {list-style: none; margin:0; padding: 0}\n",
       ".list-inline>li {display: inline-block}\n",
       ".list-inline>li:not(:last-child)::after {content: \"\\00b7\"; padding: 0 .5ex}\n",
       "</style>\n",
       "<ol class=list-inline><li>52580</li><li>19</li></ol>\n"
      ],
      "text/latex": [
       "\\begin{enumerate*}\n",
       "\\item 52580\n",
       "\\item 19\n",
       "\\end{enumerate*}\n"
      ],
      "text/markdown": [
       "1. 52580\n",
       "2. 19\n",
       "\n",
       "\n"
      ],
      "text/plain": [
       "[1] 52580    19"
      ]
     },
     "metadata": {},
     "output_type": "display_data"
    }
   ],
   "source": [
    "dim(edata)"
   ]
  },
  {
   "cell_type": "code",
   "execution_count": 29,
   "metadata": {},
   "outputs": [
    {
     "data": {
      "text/html": [
       "TRUE"
      ],
      "text/latex": [
       "TRUE"
      ],
      "text/markdown": [
       "TRUE"
      ],
      "text/plain": [
       "[1] TRUE"
      ]
     },
     "metadata": {},
     "output_type": "display_data"
    }
   ],
   "source": [
    "# Take non-duplicated chromsomes\n",
    "chr = chr[!duplicated(chr[,1]),]\n",
    "\n",
    "# Confirm that the annotation still is in the right order\n",
    "all(chr[,1] == rownames(edata))"
   ]
  },
  {
   "cell_type": "code",
   "execution_count": 30,
   "metadata": {},
   "outputs": [
    {
     "data": {
      "image/png": "[encoded data removed]",
      "text/plain": [
       "plot without title"
      ]
     },
     "metadata": {
      "image/png": {
       "height": 420,
       "width": 420
      }
     },
     "output_type": "display_data"
    }
   ],
   "source": [
    "# Select the chromosome Y samples\n",
    "edatay = dplyr::filter(edata,chr$CHR==\"Y\")\n",
    "\n",
    "# Males have Y chromsome expression as expected\n",
    "boxplot(colSums(edatay) ~ pdata$gender)\n",
    "points(colSums(edatay) ~ jitter(as.numeric(pdata$gender)),\n",
    "        col=as.numeric(pdata$gender),\n",
    "        pch=19)"
   ]
  },
  {
   "cell_type": "markdown",
   "metadata": {},
   "source": [
    "### Heatmaps\n",
    "A common type of plot for genomics data is a heatmap. They are usually used for visualizing matrices. For example we can look at all genes with an average number of counts greater than 500:"
   ]
  },
  {
   "cell_type": "code",
   "execution_count": 31,
   "metadata": {},
   "outputs": [
    {
     "data": {
      "image/png": "[encoded data removed]",
      "text/plain": [
       "plot without title"
      ]
     },
     "metadata": {
      "image/png": {
       "height": 420,
       "width": 420
      }
     },
     "output_type": "display_data"
    }
   ],
   "source": [
    "ematrix = as.matrix(edata)[rowMeans(edata) > 10000,]\n",
    "heatmap(ematrix)"
   ]
  },
  {
   "cell_type": "code",
   "execution_count": 32,
   "metadata": {},
   "outputs": [
    {
     "data": {
      "image/png": "[encoded data removed]",
      "text/plain": [
       "plot without title"
      ]
     },
     "metadata": {
      "image/png": {
       "height": 420,
       "width": 420
      }
     },
     "output_type": "display_data"
    }
   ],
   "source": [
    "# We might change the coloring since this one is a little hard to see. To do this you have to set up a color palette.\n",
    "\n",
    "colramp = colorRampPalette(c(3,\"white\",2))(9)\n",
    "heatmap(ematrix,col=colramp)"
   ]
  },
  {
   "cell_type": "code",
   "execution_count": 33,
   "metadata": {},
   "outputs": [
    {
     "data": {
      "image/png": "[encoded data removed]",
      "text/plain": [
       "Plot with title \"Color Key\n",
       "and Histogram\""
      ]
     },
     "metadata": {
      "image/png": {
       "height": 420,
       "width": 420
      }
     },
     "output_type": "display_data"
    }
   ],
   "source": [
    "# If you load the gplots package you can add a color scale with the heatmap.2 package. Here we have to add some options to make the dendogram disappear, scale the data by rows, and remove a tracing plot.\n",
    "\n",
    "heatmap.2(ematrix,col=colramp,Rowv=NA,Colv=NA,\n",
    "          dendrogram=\"none\", scale=\"row\",trace=\"none\")"
   ]
  },
  {
   "cell_type": "markdown",
   "metadata": {},
   "source": [
    "### Session Information"
   ]
  },
  {
   "cell_type": "code",
   "execution_count": 34,
   "metadata": {},
   "outputs": [
    {
     "data": {
      "text/html": [
       "<dl>\n",
       "\t<dt>$platform</dt>\n",
       "\t\t<dd><dl>\n",
       "\t<dt>$version</dt>\n",
       "\t\t<dd>'R version 4.1.0 (2021-05-18)'</dd>\n",
       "\t<dt>$os</dt>\n",
       "\t\t<dd>'Windows 10 x64 (build 22557)'</dd>\n",
       "\t<dt>$system</dt>\n",
       "\t\t<dd>'x86_64, mingw32'</dd>\n",
       "\t<dt>$ui</dt>\n",
       "\t\t<dd>'RTerm'</dd>\n",
       "\t<dt>$language</dt>\n",
       "\t\t<dd>'(EN)'</dd>\n",
       "\t<dt>$collate</dt>\n",
       "\t\t<dd>'English_India.1252'</dd>\n",
       "\t<dt>$ctype</dt>\n",
       "\t\t<dd>'English_India.1252'</dd>\n",
       "\t<dt>$tz</dt>\n",
       "\t\t<dd>'Asia/Calcutta'</dd>\n",
       "\t<dt>$date</dt>\n",
       "\t\t<dd>'2022-02-23'</dd>\n",
       "\t<dt>$pandoc</dt>\n",
       "\t\t<dd>'NA'</dd>\n",
       "</dl>\n",
       "</dd>\n",
       "\t<dt>$packages</dt>\n",
       "\t\t<dd><table class=\"dataframe\">\n",
       "<caption>A packages_info: 75 × 11</caption>\n",
       "<thead>\n",
       "\t<tr><th></th><th scope=col>package</th><th scope=col>ondiskversion</th><th scope=col>loadedversion</th><th scope=col>path</th><th scope=col>loadedpath</th><th scope=col>attached</th><th scope=col>is_base</th><th scope=col>date</th><th scope=col>source</th><th scope=col>md5ok</th><th scope=col>library</th></tr>\n",
       "\t<tr><th></th><th scope=col>&lt;chr&gt;</th><th scope=col>&lt;chr&gt;</th><th scope=col>&lt;chr&gt;</th><th scope=col>&lt;chr&gt;</th><th scope=col>&lt;chr&gt;</th><th scope=col>&lt;lgl&gt;</th><th scope=col>&lt;lgl&gt;</th><th scope=col>&lt;chr&gt;</th><th scope=col>&lt;chr&gt;</th><th scope=col>&lt;lgl&gt;</th><th scope=col>&lt;fct&gt;</th></tr>\n",
       "</thead>\n",
       "<tbody>\n",
       "\t<tr><th scope=row>AnnotationDbi</th><td>AnnotationDbi   </td><td>1.56.2</td><td>1.56.2</td><td>C:/Users/etuca/OneDrive/Documents/R/win-library/4.1/AnnotationDbi   </td><td>C:/Users/etuca/OneDrive/Documents/R/win-library/4.1/AnnotationDbi   </td><td> TRUE</td><td>FALSE</td><td>2021-11-09</td><td>Bioconductor  </td><td>TRUE</td><td>C:/Users/etuca/OneDrive/Documents/R/win-library/4.1</td></tr>\n",
       "\t<tr><th scope=row>assertthat</th><td>assertthat      </td><td>0.2.1 </td><td>0.2.1 </td><td>C:/Users/etuca/OneDrive/Documents/R/win-library/4.1/assertthat      </td><td>C:/Users/etuca/OneDrive/Documents/R/win-library/4.1/assertthat      </td><td>FALSE</td><td>FALSE</td><td>2019-03-21</td><td>CRAN (R 4.1.2)</td><td>TRUE</td><td>C:/Users/etuca/OneDrive/Documents/R/win-library/4.1</td></tr>\n",
       "\t<tr><th scope=row>base64enc</th><td>base64enc       </td><td>0.1.3 </td><td>0.1-3 </td><td>C:/Users/etuca/OneDrive/Documents/R/win-library/4.1/base64enc       </td><td>C:/Users/etuca/OneDrive/Documents/R/win-library/4.1/base64enc       </td><td>FALSE</td><td>FALSE</td><td>2015-07-28</td><td>CRAN (R 4.1.1)</td><td>TRUE</td><td>C:/Users/etuca/OneDrive/Documents/R/win-library/4.1</td></tr>\n",
       "\t<tr><th scope=row>Biobase</th><td>Biobase         </td><td>2.54.0</td><td>2.54.0</td><td>C:/Users/etuca/OneDrive/Documents/R/win-library/4.1/Biobase         </td><td>C:/Users/etuca/OneDrive/Documents/R/win-library/4.1/Biobase         </td><td> TRUE</td><td>FALSE</td><td>2021-10-26</td><td>Bioconductor  </td><td>TRUE</td><td>C:/Users/etuca/OneDrive/Documents/R/win-library/4.1</td></tr>\n",
       "\t<tr><th scope=row>BiocGenerics</th><td>BiocGenerics    </td><td>0.40.0</td><td>0.40.0</td><td>C:/Users/etuca/OneDrive/Documents/R/win-library/4.1/BiocGenerics    </td><td>C:/Users/etuca/OneDrive/Documents/R/win-library/4.1/BiocGenerics    </td><td> TRUE</td><td>FALSE</td><td>2021-10-26</td><td>Bioconductor  </td><td>TRUE</td><td>C:/Users/etuca/OneDrive/Documents/R/win-library/4.1</td></tr>\n",
       "\t<tr><th scope=row>Biostrings</th><td>Biostrings      </td><td>2.62.0</td><td>2.62.0</td><td>C:/Users/etuca/OneDrive/Documents/R/win-library/4.1/Biostrings      </td><td>C:/Users/etuca/OneDrive/Documents/R/win-library/4.1/Biostrings      </td><td>FALSE</td><td>FALSE</td><td>2021-10-26</td><td>Bioconductor  </td><td>TRUE</td><td>C:/Users/etuca/OneDrive/Documents/R/win-library/4.1</td></tr>\n",
       "\t<tr><th scope=row>bit</th><td>bit             </td><td>4.0.4 </td><td>4.0.4 </td><td>C:/Users/etuca/OneDrive/Documents/R/win-library/4.1/bit             </td><td>C:/Users/etuca/OneDrive/Documents/R/win-library/4.1/bit             </td><td>FALSE</td><td>FALSE</td><td>2020-08-04</td><td>CRAN (R 4.1.2)</td><td>TRUE</td><td>C:/Users/etuca/OneDrive/Documents/R/win-library/4.1</td></tr>\n",
       "\t<tr><th scope=row>bit64</th><td>bit64           </td><td>4.0.5 </td><td>4.0.5 </td><td>C:/Users/etuca/OneDrive/Documents/R/win-library/4.1/bit64           </td><td>C:/Users/etuca/OneDrive/Documents/R/win-library/4.1/bit64           </td><td>FALSE</td><td>FALSE</td><td>2020-08-30</td><td>CRAN (R 4.1.2)</td><td>TRUE</td><td>C:/Users/etuca/OneDrive/Documents/R/win-library/4.1</td></tr>\n",
       "\t<tr><th scope=row>bitops</th><td>bitops          </td><td>1.0.7 </td><td>1.0-7 </td><td>C:/Users/etuca/OneDrive/Documents/R/win-library/4.1/bitops          </td><td>C:/Users/etuca/OneDrive/Documents/R/win-library/4.1/bitops          </td><td>FALSE</td><td>FALSE</td><td>2021-04-24</td><td>CRAN (R 4.1.1)</td><td>TRUE</td><td>C:/Users/etuca/OneDrive/Documents/R/win-library/4.1</td></tr>\n",
       "\t<tr><th scope=row>blob</th><td>blob            </td><td>1.2.2 </td><td>1.2.2 </td><td>C:/Users/etuca/OneDrive/Documents/R/win-library/4.1/blob            </td><td>C:/Users/etuca/OneDrive/Documents/R/win-library/4.1/blob            </td><td>FALSE</td><td>FALSE</td><td>2021-07-23</td><td>CRAN (R 4.1.2)</td><td>TRUE</td><td>C:/Users/etuca/OneDrive/Documents/R/win-library/4.1</td></tr>\n",
       "\t<tr><th scope=row>brio</th><td>brio            </td><td>1.1.3 </td><td>1.1.3 </td><td>C:/Users/etuca/OneDrive/Documents/R/win-library/4.1/brio            </td><td>C:/Users/etuca/OneDrive/Documents/R/win-library/4.1/brio            </td><td>FALSE</td><td>FALSE</td><td>2021-11-30</td><td>CRAN (R 4.1.2)</td><td>TRUE</td><td>C:/Users/etuca/OneDrive/Documents/R/win-library/4.1</td></tr>\n",
       "\t<tr><th scope=row>cachem</th><td>cachem          </td><td>1.0.6 </td><td>1.0.6 </td><td>C:/Users/etuca/OneDrive/Documents/R/win-library/4.1/cachem          </td><td>C:/Users/etuca/OneDrive/Documents/R/win-library/4.1/cachem          </td><td>FALSE</td><td>FALSE</td><td>2021-08-19</td><td>CRAN (R 4.1.2)</td><td>TRUE</td><td>C:/Users/etuca/OneDrive/Documents/R/win-library/4.1</td></tr>\n",
       "\t<tr><th scope=row>callr</th><td>callr           </td><td>3.7.0 </td><td>3.7.0 </td><td>C:/Users/etuca/OneDrive/Documents/R/win-library/4.1/callr           </td><td>C:/Users/etuca/OneDrive/Documents/R/win-library/4.1/callr           </td><td>FALSE</td><td>FALSE</td><td>2021-04-20</td><td>CRAN (R 4.1.2)</td><td>TRUE</td><td>C:/Users/etuca/OneDrive/Documents/R/win-library/4.1</td></tr>\n",
       "\t<tr><th scope=row>caTools</th><td>caTools         </td><td>1.18.2</td><td>1.18.2</td><td>C:/Users/etuca/OneDrive/Documents/R/win-library/4.1/caTools         </td><td>C:/Users/etuca/OneDrive/Documents/R/win-library/4.1/caTools         </td><td>FALSE</td><td>FALSE</td><td>2021-03-28</td><td>CRAN (R 4.1.2)</td><td>TRUE</td><td>C:/Users/etuca/OneDrive/Documents/R/win-library/4.1</td></tr>\n",
       "\t<tr><th scope=row>cli</th><td>cli             </td><td>3.1.1 </td><td>3.1.1 </td><td>C:/Users/etuca/OneDrive/Documents/R/win-library/4.1/cli             </td><td>C:/Users/etuca/OneDrive/Documents/R/win-library/4.1/cli             </td><td>FALSE</td><td>FALSE</td><td>2022-01-20</td><td>CRAN (R 4.1.2)</td><td>TRUE</td><td>C:/Users/etuca/OneDrive/Documents/R/win-library/4.1</td></tr>\n",
       "\t<tr><th scope=row>crayon</th><td>crayon          </td><td>1.5.0 </td><td>1.5.0 </td><td>C:/Users/etuca/OneDrive/Documents/R/win-library/4.1/crayon          </td><td>C:/Users/etuca/OneDrive/Documents/R/win-library/4.1/crayon          </td><td>FALSE</td><td>FALSE</td><td>2022-02-14</td><td>CRAN (R 4.1.2)</td><td>TRUE</td><td>C:/Users/etuca/OneDrive/Documents/R/win-library/4.1</td></tr>\n",
       "\t<tr><th scope=row>DBI</th><td>DBI             </td><td>1.1.2 </td><td>1.1.2 </td><td>C:/Users/etuca/OneDrive/Documents/R/win-library/4.1/DBI             </td><td>C:/Users/etuca/OneDrive/Documents/R/win-library/4.1/DBI             </td><td>FALSE</td><td>FALSE</td><td>2021-12-20</td><td>CRAN (R 4.1.2)</td><td>TRUE</td><td>C:/Users/etuca/OneDrive/Documents/R/win-library/4.1</td></tr>\n",
       "\t<tr><th scope=row>desc</th><td>desc            </td><td>1.4.0 </td><td>1.4.0 </td><td>C:/Users/etuca/OneDrive/Documents/R/win-library/4.1/desc            </td><td>C:/Users/etuca/OneDrive/Documents/R/win-library/4.1/desc            </td><td>FALSE</td><td>FALSE</td><td>2021-09-28</td><td>CRAN (R 4.1.2)</td><td>TRUE</td><td>C:/Users/etuca/OneDrive/Documents/R/win-library/4.1</td></tr>\n",
       "\t<tr><th scope=row>devtools</th><td>devtools        </td><td>2.4.3 </td><td>2.4.3 </td><td>C:/Users/etuca/OneDrive/Documents/R/win-library/4.1/devtools        </td><td>C:/Users/etuca/OneDrive/Documents/R/win-library/4.1/devtools        </td><td> TRUE</td><td>FALSE</td><td>2021-11-30</td><td>CRAN (R 4.1.2)</td><td>TRUE</td><td>C:/Users/etuca/OneDrive/Documents/R/win-library/4.1</td></tr>\n",
       "\t<tr><th scope=row>digest</th><td>digest          </td><td>0.6.29</td><td>0.6.29</td><td>C:/Users/etuca/OneDrive/Documents/R/win-library/4.1/digest          </td><td>C:/Users/etuca/OneDrive/Documents/R/win-library/4.1/digest          </td><td>FALSE</td><td>FALSE</td><td>2021-12-01</td><td>CRAN (R 4.1.2)</td><td>TRUE</td><td>C:/Users/etuca/OneDrive/Documents/R/win-library/4.1</td></tr>\n",
       "\t<tr><th scope=row>dplyr</th><td>dplyr           </td><td>1.0.8 </td><td>1.0.8 </td><td>C:/Users/etuca/OneDrive/Documents/R/win-library/4.1/dplyr           </td><td>C:/Users/etuca/OneDrive/Documents/R/win-library/4.1/dplyr           </td><td> TRUE</td><td>FALSE</td><td>2022-02-08</td><td>CRAN (R 4.1.2)</td><td>TRUE</td><td>C:/Users/etuca/OneDrive/Documents/R/win-library/4.1</td></tr>\n",
       "\t<tr><th scope=row>ellipsis</th><td>ellipsis        </td><td>0.3.2 </td><td>0.3.2 </td><td>C:/Users/etuca/OneDrive/Documents/R/win-library/4.1/ellipsis        </td><td>C:/Users/etuca/OneDrive/Documents/R/win-library/4.1/ellipsis        </td><td>FALSE</td><td>FALSE</td><td>2021-04-29</td><td>CRAN (R 4.1.2)</td><td>TRUE</td><td>C:/Users/etuca/OneDrive/Documents/R/win-library/4.1</td></tr>\n",
       "\t<tr><th scope=row>evaluate</th><td>evaluate        </td><td>0.15  </td><td>0.15  </td><td>C:/Users/etuca/OneDrive/Documents/R/win-library/4.1/evaluate        </td><td>C:/Users/etuca/OneDrive/Documents/R/win-library/4.1/evaluate        </td><td>FALSE</td><td>FALSE</td><td>2022-02-18</td><td>CRAN (R 4.1.2)</td><td>TRUE</td><td>C:/Users/etuca/OneDrive/Documents/R/win-library/4.1</td></tr>\n",
       "\t<tr><th scope=row>fansi</th><td>fansi           </td><td>1.0.2 </td><td>1.0.2 </td><td>C:/Users/etuca/OneDrive/Documents/R/win-library/4.1/fansi           </td><td>C:/Users/etuca/OneDrive/Documents/R/win-library/4.1/fansi           </td><td>FALSE</td><td>FALSE</td><td>2022-01-14</td><td>CRAN (R 4.1.2)</td><td>TRUE</td><td>C:/Users/etuca/OneDrive/Documents/R/win-library/4.1</td></tr>\n",
       "\t<tr><th scope=row>fastmap</th><td>fastmap         </td><td>1.1.0 </td><td>1.1.0 </td><td>C:/Users/etuca/OneDrive/Documents/R/win-library/4.1/fastmap         </td><td>C:/Users/etuca/OneDrive/Documents/R/win-library/4.1/fastmap         </td><td>FALSE</td><td>FALSE</td><td>2021-01-25</td><td>CRAN (R 4.1.2)</td><td>TRUE</td><td>C:/Users/etuca/OneDrive/Documents/R/win-library/4.1</td></tr>\n",
       "\t<tr><th scope=row>fs</th><td>fs              </td><td>1.5.2 </td><td>1.5.2 </td><td>C:/Users/etuca/OneDrive/Documents/R/win-library/4.1/fs              </td><td>C:/Users/etuca/OneDrive/Documents/R/win-library/4.1/fs              </td><td>FALSE</td><td>FALSE</td><td>2021-12-08</td><td>CRAN (R 4.1.2)</td><td>TRUE</td><td>C:/Users/etuca/OneDrive/Documents/R/win-library/4.1</td></tr>\n",
       "\t<tr><th scope=row>generics</th><td>generics        </td><td>0.1.2 </td><td>0.1.2 </td><td>C:/Users/etuca/OneDrive/Documents/R/win-library/4.1/generics        </td><td>C:/Users/etuca/OneDrive/Documents/R/win-library/4.1/generics        </td><td>FALSE</td><td>FALSE</td><td>2022-01-31</td><td>CRAN (R 4.1.2)</td><td>TRUE</td><td>C:/Users/etuca/OneDrive/Documents/R/win-library/4.1</td></tr>\n",
       "\t<tr><th scope=row>GenomeInfoDb</th><td>GenomeInfoDb    </td><td>1.30.1</td><td>1.30.1</td><td>C:/Users/etuca/OneDrive/Documents/R/win-library/4.1/GenomeInfoDb    </td><td>C:/Users/etuca/OneDrive/Documents/R/win-library/4.1/GenomeInfoDb    </td><td>FALSE</td><td>FALSE</td><td>2022-01-30</td><td>Bioconductor  </td><td>TRUE</td><td>C:/Users/etuca/OneDrive/Documents/R/win-library/4.1</td></tr>\n",
       "\t<tr><th scope=row>GenomeInfoDbData</th><td>GenomeInfoDbData</td><td>1.2.7 </td><td>1.2.7 </td><td>C:/Users/etuca/OneDrive/Documents/R/win-library/4.1/GenomeInfoDbData</td><td>C:/Users/etuca/OneDrive/Documents/R/win-library/4.1/GenomeInfoDbData</td><td>FALSE</td><td>FALSE</td><td>2022-02-19</td><td>Bioconductor  </td><td>TRUE</td><td>C:/Users/etuca/OneDrive/Documents/R/win-library/4.1</td></tr>\n",
       "\t<tr><th scope=row>glue</th><td>glue            </td><td>1.6.1 </td><td>1.6.1 </td><td>C:/Users/etuca/OneDrive/Documents/R/win-library/4.1/glue            </td><td>C:/Users/etuca/OneDrive/Documents/R/win-library/4.1/glue            </td><td>FALSE</td><td>FALSE</td><td>2022-01-22</td><td>CRAN (R 4.1.2)</td><td>TRUE</td><td>C:/Users/etuca/OneDrive/Documents/R/win-library/4.1</td></tr>\n",
       "\t<tr><th scope=row>...</th><td>...</td><td>...</td><td>...</td><td>...</td><td>...</td><td>...</td><td>...</td><td>...</td><td>...</td><td>...</td><td>...</td></tr>\n",
       "\t<tr><th scope=row>pillar</th><td>pillar        </td><td>1.7.0   </td><td>1.7.0   </td><td>C:/Users/etuca/OneDrive/Documents/R/win-library/4.1/pillar        </td><td>C:/Users/etuca/OneDrive/Documents/R/win-library/4.1/pillar        </td><td>FALSE</td><td>FALSE</td><td>2022-02-01</td><td>CRAN (R 4.1.2)                                                               </td><td>TRUE</td><td>C:/Users/etuca/OneDrive/Documents/R/win-library/4.1</td></tr>\n",
       "\t<tr><th scope=row>pkgbuild</th><td>pkgbuild      </td><td>1.3.1   </td><td>1.3.1   </td><td>C:/Users/etuca/OneDrive/Documents/R/win-library/4.1/pkgbuild      </td><td>C:/Users/etuca/OneDrive/Documents/R/win-library/4.1/pkgbuild      </td><td>FALSE</td><td>FALSE</td><td>2021-12-20</td><td>CRAN (R 4.1.2)                                                               </td><td>TRUE</td><td>C:/Users/etuca/OneDrive/Documents/R/win-library/4.1</td></tr>\n",
       "\t<tr><th scope=row>pkgconfig</th><td>pkgconfig     </td><td>2.0.3   </td><td>2.0.3   </td><td>C:/Users/etuca/OneDrive/Documents/R/win-library/4.1/pkgconfig     </td><td>C:/Users/etuca/OneDrive/Documents/R/win-library/4.1/pkgconfig     </td><td>FALSE</td><td>FALSE</td><td>2019-09-22</td><td>CRAN (R 4.1.2)                                                               </td><td>TRUE</td><td>C:/Users/etuca/OneDrive/Documents/R/win-library/4.1</td></tr>\n",
       "\t<tr><th scope=row>pkgload</th><td>pkgload       </td><td>1.2.4   </td><td>1.2.4   </td><td>C:/Users/etuca/OneDrive/Documents/R/win-library/4.1/pkgload       </td><td>C:/Users/etuca/OneDrive/Documents/R/win-library/4.1/pkgload       </td><td>FALSE</td><td>FALSE</td><td>2021-11-30</td><td>CRAN (R 4.1.2)                                                               </td><td>TRUE</td><td>C:/Users/etuca/OneDrive/Documents/R/win-library/4.1</td></tr>\n",
       "\t<tr><th scope=row>png</th><td>png           </td><td>0.1.7   </td><td>0.1-7   </td><td>C:/Users/etuca/OneDrive/Documents/R/win-library/4.1/png           </td><td>C:/Users/etuca/OneDrive/Documents/R/win-library/4.1/png           </td><td>FALSE</td><td>FALSE</td><td>2013-12-03</td><td>CRAN (R 4.1.1)                                                               </td><td>TRUE</td><td>C:/Users/etuca/OneDrive/Documents/R/win-library/4.1</td></tr>\n",
       "\t<tr><th scope=row>prettyunits</th><td>prettyunits   </td><td>1.1.1   </td><td>1.1.1   </td><td>C:/Users/etuca/OneDrive/Documents/R/win-library/4.1/prettyunits   </td><td>C:/Users/etuca/OneDrive/Documents/R/win-library/4.1/prettyunits   </td><td>FALSE</td><td>FALSE</td><td>2020-01-24</td><td>CRAN (R 4.1.2)                                                               </td><td>TRUE</td><td>C:/Users/etuca/OneDrive/Documents/R/win-library/4.1</td></tr>\n",
       "\t<tr><th scope=row>processx</th><td>processx      </td><td>3.5.2   </td><td>3.5.2   </td><td>C:/Users/etuca/OneDrive/Documents/R/win-library/4.1/processx      </td><td>C:/Users/etuca/OneDrive/Documents/R/win-library/4.1/processx      </td><td>FALSE</td><td>FALSE</td><td>2021-04-30</td><td>CRAN (R 4.1.2)                                                               </td><td>TRUE</td><td>C:/Users/etuca/OneDrive/Documents/R/win-library/4.1</td></tr>\n",
       "\t<tr><th scope=row>ps</th><td>ps            </td><td>1.6.0   </td><td>1.6.0   </td><td>C:/Users/etuca/OneDrive/Documents/R/win-library/4.1/ps            </td><td>C:/Users/etuca/OneDrive/Documents/R/win-library/4.1/ps            </td><td>FALSE</td><td>FALSE</td><td>2021-02-28</td><td>CRAN (R 4.1.2)                                                               </td><td>TRUE</td><td>C:/Users/etuca/OneDrive/Documents/R/win-library/4.1</td></tr>\n",
       "\t<tr><th scope=row>purrr</th><td>purrr         </td><td>0.3.4   </td><td>0.3.4   </td><td>C:/Users/etuca/OneDrive/Documents/R/win-library/4.1/purrr         </td><td>C:/Users/etuca/OneDrive/Documents/R/win-library/4.1/purrr         </td><td>FALSE</td><td>FALSE</td><td>2020-04-17</td><td>CRAN (R 4.1.2)                                                               </td><td>TRUE</td><td>C:/Users/etuca/OneDrive/Documents/R/win-library/4.1</td></tr>\n",
       "\t<tr><th scope=row>R6</th><td>R6            </td><td>2.5.1   </td><td>2.5.1   </td><td>C:/Users/etuca/OneDrive/Documents/R/win-library/4.1/R6            </td><td>C:/Users/etuca/OneDrive/Documents/R/win-library/4.1/R6            </td><td>FALSE</td><td>FALSE</td><td>2021-08-19</td><td>CRAN (R 4.1.2)                                                               </td><td>TRUE</td><td>C:/Users/etuca/OneDrive/Documents/R/win-library/4.1</td></tr>\n",
       "\t<tr><th scope=row>Rcpp</th><td>Rcpp          </td><td>1.0.8   </td><td>1.0.8   </td><td>C:/Users/etuca/OneDrive/Documents/R/win-library/4.1/Rcpp          </td><td>C:/Users/etuca/OneDrive/Documents/R/win-library/4.1/Rcpp          </td><td>FALSE</td><td>FALSE</td><td>2022-01-13</td><td>CRAN (R 4.1.2)                                                               </td><td>TRUE</td><td>C:/Users/etuca/OneDrive/Documents/R/win-library/4.1</td></tr>\n",
       "\t<tr><th scope=row>RCurl</th><td>RCurl         </td><td>1.98.1.6</td><td>1.98-1.6</td><td>C:/Users/etuca/OneDrive/Documents/R/win-library/4.1/RCurl         </td><td>C:/Users/etuca/OneDrive/Documents/R/win-library/4.1/RCurl         </td><td>FALSE</td><td>FALSE</td><td>2022-02-08</td><td>CRAN (R 4.1.2)                                                               </td><td>TRUE</td><td>C:/Users/etuca/OneDrive/Documents/R/win-library/4.1</td></tr>\n",
       "\t<tr><th scope=row>remotes</th><td>remotes       </td><td>2.4.2   </td><td>2.4.2   </td><td>C:/Users/etuca/OneDrive/Documents/R/win-library/4.1/remotes       </td><td>C:/Users/etuca/OneDrive/Documents/R/win-library/4.1/remotes       </td><td>FALSE</td><td>FALSE</td><td>2021-11-30</td><td>CRAN (R 4.1.2)                                                               </td><td>TRUE</td><td>C:/Users/etuca/OneDrive/Documents/R/win-library/4.1</td></tr>\n",
       "\t<tr><th scope=row>repr</th><td>repr          </td><td>1.1.4   </td><td>1.1.4   </td><td>C:/Users/etuca/OneDrive/Documents/R/win-library/4.1/repr          </td><td>C:/Users/etuca/OneDrive/Documents/R/win-library/4.1/repr          </td><td>FALSE</td><td>FALSE</td><td>2022-01-04</td><td>CRAN (R 4.1.2)                                                               </td><td>TRUE</td><td>C:/Users/etuca/OneDrive/Documents/R/win-library/4.1</td></tr>\n",
       "\t<tr><th scope=row>rlang</th><td>rlang         </td><td>1.0.1   </td><td>1.0.1   </td><td>C:/Users/etuca/OneDrive/Documents/R/win-library/4.1/rlang         </td><td>C:/Users/etuca/OneDrive/Documents/R/win-library/4.1/rlang         </td><td>FALSE</td><td>FALSE</td><td>2022-02-03</td><td>CRAN (R 4.1.2)                                                               </td><td>TRUE</td><td>C:/Users/etuca/OneDrive/Documents/R/win-library/4.1</td></tr>\n",
       "\t<tr><th scope=row>rprojroot</th><td>rprojroot     </td><td>2.0.2   </td><td>2.0.2   </td><td>C:/Users/etuca/OneDrive/Documents/R/win-library/4.1/rprojroot     </td><td>C:/Users/etuca/OneDrive/Documents/R/win-library/4.1/rprojroot     </td><td>FALSE</td><td>FALSE</td><td>2020-11-15</td><td>CRAN (R 4.1.2)                                                               </td><td>TRUE</td><td>C:/Users/etuca/OneDrive/Documents/R/win-library/4.1</td></tr>\n",
       "\t<tr><th scope=row>RSkittleBrewer</th><td>RSkittleBrewer</td><td>1.1     </td><td>1.1     </td><td>C:/Users/etuca/OneDrive/Documents/R/win-library/4.1/RSkittleBrewer</td><td>C:/Users/etuca/OneDrive/Documents/R/win-library/4.1/RSkittleBrewer</td><td> TRUE</td><td>FALSE</td><td>2022-02-23</td><td>Github (alyssafrazee/RSkittleBrewer@3bd1c989905c9398a98d79e8cb96d835785b139b)</td><td>TRUE</td><td>C:/Users/etuca/OneDrive/Documents/R/win-library/4.1</td></tr>\n",
       "\t<tr><th scope=row>RSQLite</th><td>RSQLite       </td><td>2.2.10  </td><td>2.2.10  </td><td>C:/Users/etuca/OneDrive/Documents/R/win-library/4.1/RSQLite       </td><td>C:/Users/etuca/OneDrive/Documents/R/win-library/4.1/RSQLite       </td><td>FALSE</td><td>FALSE</td><td>2022-02-17</td><td>CRAN (R 4.1.2)                                                               </td><td>TRUE</td><td>C:/Users/etuca/OneDrive/Documents/R/win-library/4.1</td></tr>\n",
       "\t<tr><th scope=row>S4Vectors</th><td>S4Vectors     </td><td>0.32.3  </td><td>0.32.3  </td><td>C:/Users/etuca/OneDrive/Documents/R/win-library/4.1/S4Vectors     </td><td>C:/Users/etuca/OneDrive/Documents/R/win-library/4.1/S4Vectors     </td><td> TRUE</td><td>FALSE</td><td>2021-11-21</td><td>Bioconductor                                                                 </td><td>TRUE</td><td>C:/Users/etuca/OneDrive/Documents/R/win-library/4.1</td></tr>\n",
       "\t<tr><th scope=row>sessioninfo</th><td>sessioninfo   </td><td>1.2.2   </td><td>1.2.2   </td><td>C:/Users/etuca/OneDrive/Documents/R/win-library/4.1/sessioninfo   </td><td>C:/Users/etuca/OneDrive/Documents/R/win-library/4.1/sessioninfo   </td><td>FALSE</td><td>FALSE</td><td>2021-12-06</td><td>CRAN (R 4.1.2)                                                               </td><td>TRUE</td><td>C:/Users/etuca/OneDrive/Documents/R/win-library/4.1</td></tr>\n",
       "\t<tr><th scope=row>testthat</th><td>testthat      </td><td>3.1.2   </td><td>3.1.2   </td><td>C:/Users/etuca/OneDrive/Documents/R/win-library/4.1/testthat      </td><td>C:/Users/etuca/OneDrive/Documents/R/win-library/4.1/testthat      </td><td>FALSE</td><td>FALSE</td><td>2022-01-20</td><td>CRAN (R 4.1.2)                                                               </td><td>TRUE</td><td>C:/Users/etuca/OneDrive/Documents/R/win-library/4.1</td></tr>\n",
       "\t<tr><th scope=row>tibble</th><td>tibble        </td><td>3.1.6   </td><td>3.1.6   </td><td>C:/Users/etuca/OneDrive/Documents/R/win-library/4.1/tibble        </td><td>C:/Users/etuca/OneDrive/Documents/R/win-library/4.1/tibble        </td><td>FALSE</td><td>FALSE</td><td>2021-11-07</td><td>CRAN (R 4.1.2)                                                               </td><td>TRUE</td><td>C:/Users/etuca/OneDrive/Documents/R/win-library/4.1</td></tr>\n",
       "\t<tr><th scope=row>tidyselect</th><td>tidyselect    </td><td>1.1.1   </td><td>1.1.1   </td><td>C:/Users/etuca/OneDrive/Documents/R/win-library/4.1/tidyselect    </td><td>C:/Users/etuca/OneDrive/Documents/R/win-library/4.1/tidyselect    </td><td>FALSE</td><td>FALSE</td><td>2021-04-30</td><td>CRAN (R 4.1.2)                                                               </td><td>TRUE</td><td>C:/Users/etuca/OneDrive/Documents/R/win-library/4.1</td></tr>\n",
       "\t<tr><th scope=row>usethis</th><td>usethis       </td><td>2.1.5   </td><td>2.1.5   </td><td>C:/Users/etuca/OneDrive/Documents/R/win-library/4.1/usethis       </td><td>C:/Users/etuca/OneDrive/Documents/R/win-library/4.1/usethis       </td><td> TRUE</td><td>FALSE</td><td>2021-12-09</td><td>CRAN (R 4.1.2)                                                               </td><td>TRUE</td><td>C:/Users/etuca/OneDrive/Documents/R/win-library/4.1</td></tr>\n",
       "\t<tr><th scope=row>utf8</th><td>utf8          </td><td>1.2.2   </td><td>1.2.2   </td><td>C:/Users/etuca/OneDrive/Documents/R/win-library/4.1/utf8          </td><td>C:/Users/etuca/OneDrive/Documents/R/win-library/4.1/utf8          </td><td>FALSE</td><td>FALSE</td><td>2021-07-24</td><td>CRAN (R 4.1.2)                                                               </td><td>TRUE</td><td>C:/Users/etuca/OneDrive/Documents/R/win-library/4.1</td></tr>\n",
       "\t<tr><th scope=row>uuid</th><td>uuid          </td><td>1.0.3   </td><td>1.0-3   </td><td>C:/Users/etuca/OneDrive/Documents/R/win-library/4.1/uuid          </td><td>C:/Users/etuca/OneDrive/Documents/R/win-library/4.1/uuid          </td><td>FALSE</td><td>FALSE</td><td>2021-11-01</td><td>CRAN (R 4.1.2)                                                               </td><td>TRUE</td><td>C:/Users/etuca/OneDrive/Documents/R/win-library/4.1</td></tr>\n",
       "\t<tr><th scope=row>vctrs</th><td>vctrs         </td><td>0.3.8   </td><td>0.3.8   </td><td>C:/Users/etuca/OneDrive/Documents/R/win-library/4.1/vctrs         </td><td>C:/Users/etuca/OneDrive/Documents/R/win-library/4.1/vctrs         </td><td>FALSE</td><td>FALSE</td><td>2021-04-29</td><td>CRAN (R 4.1.2)                                                               </td><td>TRUE</td><td>C:/Users/etuca/OneDrive/Documents/R/win-library/4.1</td></tr>\n",
       "\t<tr><th scope=row>withr</th><td>withr         </td><td>2.4.3   </td><td>2.4.3   </td><td>C:/Users/etuca/OneDrive/Documents/R/win-library/4.1/withr         </td><td>C:/Users/etuca/OneDrive/Documents/R/win-library/4.1/withr         </td><td>FALSE</td><td>FALSE</td><td>2021-11-30</td><td>CRAN (R 4.1.2)                                                               </td><td>TRUE</td><td>C:/Users/etuca/OneDrive/Documents/R/win-library/4.1</td></tr>\n",
       "\t<tr><th scope=row>XVector</th><td>XVector       </td><td>0.34.0  </td><td>0.34.0  </td><td>C:/Users/etuca/OneDrive/Documents/R/win-library/4.1/XVector       </td><td>C:/Users/etuca/OneDrive/Documents/R/win-library/4.1/XVector       </td><td>FALSE</td><td>FALSE</td><td>2021-10-26</td><td>Bioconductor                                                                 </td><td>TRUE</td><td>C:/Users/etuca/OneDrive/Documents/R/win-library/4.1</td></tr>\n",
       "\t<tr><th scope=row>zlibbioc</th><td>zlibbioc      </td><td>1.40.0  </td><td>1.40.0  </td><td>C:/Users/etuca/OneDrive/Documents/R/win-library/4.1/zlibbioc      </td><td>C:/Users/etuca/OneDrive/Documents/R/win-library/4.1/zlibbioc      </td><td>FALSE</td><td>FALSE</td><td>2021-10-26</td><td>Bioconductor                                                                 </td><td>TRUE</td><td>C:/Users/etuca/OneDrive/Documents/R/win-library/4.1</td></tr>\n",
       "</tbody>\n",
       "</table>\n",
       "</dd>\n",
       "</dl>\n"
      ],
      "text/latex": [
       "\\begin{description}\n",
       "\\item[\\$platform] \\begin{description}\n",
       "\\item[\\$version] 'R version 4.1.0 (2021-05-18)'\n",
       "\\item[\\$os] 'Windows 10 x64 (build 22557)'\n",
       "\\item[\\$system] 'x86\\_64, mingw32'\n",
       "\\item[\\$ui] 'RTerm'\n",
       "\\item[\\$language] '(EN)'\n",
       "\\item[\\$collate] 'English\\_India.1252'\n",
       "\\item[\\$ctype] 'English\\_India.1252'\n",
       "\\item[\\$tz] 'Asia/Calcutta'\n",
       "\\item[\\$date] '2022-02-23'\n",
       "\\item[\\$pandoc] 'NA'\n",
       "\\end{description}\n",
       "\n",
       "\\item[\\$packages] A packages\\_info: 75 × 11\n",
       "\\begin{tabular}{r|lllllllllll}\n",
       "  & package & ondiskversion & loadedversion & path & loadedpath & attached & is\\_base & date & source & md5ok & library\\\\\n",
       "  & <chr> & <chr> & <chr> & <chr> & <chr> & <lgl> & <lgl> & <chr> & <chr> & <lgl> & <fct>\\\\\n",
       "\\hline\n",
       "\tAnnotationDbi & AnnotationDbi    & 1.56.2 & 1.56.2 & C:/Users/etuca/OneDrive/Documents/R/win-library/4.1/AnnotationDbi    & C:/Users/etuca/OneDrive/Documents/R/win-library/4.1/AnnotationDbi    &  TRUE & FALSE & 2021-11-09 & Bioconductor   & TRUE & C:/Users/etuca/OneDrive/Documents/R/win-library/4.1\\\\\n",
       "\tassertthat & assertthat       & 0.2.1  & 0.2.1  & C:/Users/etuca/OneDrive/Documents/R/win-library/4.1/assertthat       & C:/Users/etuca/OneDrive/Documents/R/win-library/4.1/assertthat       & FALSE & FALSE & 2019-03-21 & CRAN (R 4.1.2) & TRUE & C:/Users/etuca/OneDrive/Documents/R/win-library/4.1\\\\\n",
       "\tbase64enc & base64enc        & 0.1.3  & 0.1-3  & C:/Users/etuca/OneDrive/Documents/R/win-library/4.1/base64enc        & C:/Users/etuca/OneDrive/Documents/R/win-library/4.1/base64enc        & FALSE & FALSE & 2015-07-28 & CRAN (R 4.1.1) & TRUE & C:/Users/etuca/OneDrive/Documents/R/win-library/4.1\\\\\n",
       "\tBiobase & Biobase          & 2.54.0 & 2.54.0 & C:/Users/etuca/OneDrive/Documents/R/win-library/4.1/Biobase          & C:/Users/etuca/OneDrive/Documents/R/win-library/4.1/Biobase          &  TRUE & FALSE & 2021-10-26 & Bioconductor   & TRUE & C:/Users/etuca/OneDrive/Documents/R/win-library/4.1\\\\\n",
       "\tBiocGenerics & BiocGenerics     & 0.40.0 & 0.40.0 & C:/Users/etuca/OneDrive/Documents/R/win-library/4.1/BiocGenerics     & C:/Users/etuca/OneDrive/Documents/R/win-library/4.1/BiocGenerics     &  TRUE & FALSE & 2021-10-26 & Bioconductor   & TRUE & C:/Users/etuca/OneDrive/Documents/R/win-library/4.1\\\\\n",
       "\tBiostrings & Biostrings       & 2.62.0 & 2.62.0 & C:/Users/etuca/OneDrive/Documents/R/win-library/4.1/Biostrings       & C:/Users/etuca/OneDrive/Documents/R/win-library/4.1/Biostrings       & FALSE & FALSE & 2021-10-26 & Bioconductor   & TRUE & C:/Users/etuca/OneDrive/Documents/R/win-library/4.1\\\\\n",
       "\tbit & bit              & 4.0.4  & 4.0.4  & C:/Users/etuca/OneDrive/Documents/R/win-library/4.1/bit              & C:/Users/etuca/OneDrive/Documents/R/win-library/4.1/bit              & FALSE & FALSE & 2020-08-04 & CRAN (R 4.1.2) & TRUE & C:/Users/etuca/OneDrive/Documents/R/win-library/4.1\\\\\n",
       "\tbit64 & bit64            & 4.0.5  & 4.0.5  & C:/Users/etuca/OneDrive/Documents/R/win-library/4.1/bit64            & C:/Users/etuca/OneDrive/Documents/R/win-library/4.1/bit64            & FALSE & FALSE & 2020-08-30 & CRAN (R 4.1.2) & TRUE & C:/Users/etuca/OneDrive/Documents/R/win-library/4.1\\\\\n",
       "\tbitops & bitops           & 1.0.7  & 1.0-7  & C:/Users/etuca/OneDrive/Documents/R/win-library/4.1/bitops           & C:/Users/etuca/OneDrive/Documents/R/win-library/4.1/bitops           & FALSE & FALSE & 2021-04-24 & CRAN (R 4.1.1) & TRUE & C:/Users/etuca/OneDrive/Documents/R/win-library/4.1\\\\\n",
       "\tblob & blob             & 1.2.2  & 1.2.2  & C:/Users/etuca/OneDrive/Documents/R/win-library/4.1/blob             & C:/Users/etuca/OneDrive/Documents/R/win-library/4.1/blob             & FALSE & FALSE & 2021-07-23 & CRAN (R 4.1.2) & TRUE & C:/Users/etuca/OneDrive/Documents/R/win-library/4.1\\\\\n",
       "\tbrio & brio             & 1.1.3  & 1.1.3  & C:/Users/etuca/OneDrive/Documents/R/win-library/4.1/brio             & C:/Users/etuca/OneDrive/Documents/R/win-library/4.1/brio             & FALSE & FALSE & 2021-11-30 & CRAN (R 4.1.2) & TRUE & C:/Users/etuca/OneDrive/Documents/R/win-library/4.1\\\\\n",
       "\tcachem & cachem           & 1.0.6  & 1.0.6  & C:/Users/etuca/OneDrive/Documents/R/win-library/4.1/cachem           & C:/Users/etuca/OneDrive/Documents/R/win-library/4.1/cachem           & FALSE & FALSE & 2021-08-19 & CRAN (R 4.1.2) & TRUE & C:/Users/etuca/OneDrive/Documents/R/win-library/4.1\\\\\n",
       "\tcallr & callr            & 3.7.0  & 3.7.0  & C:/Users/etuca/OneDrive/Documents/R/win-library/4.1/callr            & C:/Users/etuca/OneDrive/Documents/R/win-library/4.1/callr            & FALSE & FALSE & 2021-04-20 & CRAN (R 4.1.2) & TRUE & C:/Users/etuca/OneDrive/Documents/R/win-library/4.1\\\\\n",
       "\tcaTools & caTools          & 1.18.2 & 1.18.2 & C:/Users/etuca/OneDrive/Documents/R/win-library/4.1/caTools          & C:/Users/etuca/OneDrive/Documents/R/win-library/4.1/caTools          & FALSE & FALSE & 2021-03-28 & CRAN (R 4.1.2) & TRUE & C:/Users/etuca/OneDrive/Documents/R/win-library/4.1\\\\\n",
       "\tcli & cli              & 3.1.1  & 3.1.1  & C:/Users/etuca/OneDrive/Documents/R/win-library/4.1/cli              & C:/Users/etuca/OneDrive/Documents/R/win-library/4.1/cli              & FALSE & FALSE & 2022-01-20 & CRAN (R 4.1.2) & TRUE & C:/Users/etuca/OneDrive/Documents/R/win-library/4.1\\\\\n",
       "\tcrayon & crayon           & 1.5.0  & 1.5.0  & C:/Users/etuca/OneDrive/Documents/R/win-library/4.1/crayon           & C:/Users/etuca/OneDrive/Documents/R/win-library/4.1/crayon           & FALSE & FALSE & 2022-02-14 & CRAN (R 4.1.2) & TRUE & C:/Users/etuca/OneDrive/Documents/R/win-library/4.1\\\\\n",
       "\tDBI & DBI              & 1.1.2  & 1.1.2  & C:/Users/etuca/OneDrive/Documents/R/win-library/4.1/DBI              & C:/Users/etuca/OneDrive/Documents/R/win-library/4.1/DBI              & FALSE & FALSE & 2021-12-20 & CRAN (R 4.1.2) & TRUE & C:/Users/etuca/OneDrive/Documents/R/win-library/4.1\\\\\n",
       "\tdesc & desc             & 1.4.0  & 1.4.0  & C:/Users/etuca/OneDrive/Documents/R/win-library/4.1/desc             & C:/Users/etuca/OneDrive/Documents/R/win-library/4.1/desc             & FALSE & FALSE & 2021-09-28 & CRAN (R 4.1.2) & TRUE & C:/Users/etuca/OneDrive/Documents/R/win-library/4.1\\\\\n",
       "\tdevtools & devtools         & 2.4.3  & 2.4.3  & C:/Users/etuca/OneDrive/Documents/R/win-library/4.1/devtools         & C:/Users/etuca/OneDrive/Documents/R/win-library/4.1/devtools         &  TRUE & FALSE & 2021-11-30 & CRAN (R 4.1.2) & TRUE & C:/Users/etuca/OneDrive/Documents/R/win-library/4.1\\\\\n",
       "\tdigest & digest           & 0.6.29 & 0.6.29 & C:/Users/etuca/OneDrive/Documents/R/win-library/4.1/digest           & C:/Users/etuca/OneDrive/Documents/R/win-library/4.1/digest           & FALSE & FALSE & 2021-12-01 & CRAN (R 4.1.2) & TRUE & C:/Users/etuca/OneDrive/Documents/R/win-library/4.1\\\\\n",
       "\tdplyr & dplyr            & 1.0.8  & 1.0.8  & C:/Users/etuca/OneDrive/Documents/R/win-library/4.1/dplyr            & C:/Users/etuca/OneDrive/Documents/R/win-library/4.1/dplyr            &  TRUE & FALSE & 2022-02-08 & CRAN (R 4.1.2) & TRUE & C:/Users/etuca/OneDrive/Documents/R/win-library/4.1\\\\\n",
       "\tellipsis & ellipsis         & 0.3.2  & 0.3.2  & C:/Users/etuca/OneDrive/Documents/R/win-library/4.1/ellipsis         & C:/Users/etuca/OneDrive/Documents/R/win-library/4.1/ellipsis         & FALSE & FALSE & 2021-04-29 & CRAN (R 4.1.2) & TRUE & C:/Users/etuca/OneDrive/Documents/R/win-library/4.1\\\\\n",
       "\tevaluate & evaluate         & 0.15   & 0.15   & C:/Users/etuca/OneDrive/Documents/R/win-library/4.1/evaluate         & C:/Users/etuca/OneDrive/Documents/R/win-library/4.1/evaluate         & FALSE & FALSE & 2022-02-18 & CRAN (R 4.1.2) & TRUE & C:/Users/etuca/OneDrive/Documents/R/win-library/4.1\\\\\n",
       "\tfansi & fansi            & 1.0.2  & 1.0.2  & C:/Users/etuca/OneDrive/Documents/R/win-library/4.1/fansi            & C:/Users/etuca/OneDrive/Documents/R/win-library/4.1/fansi            & FALSE & FALSE & 2022-01-14 & CRAN (R 4.1.2) & TRUE & C:/Users/etuca/OneDrive/Documents/R/win-library/4.1\\\\\n",
       "\tfastmap & fastmap          & 1.1.0  & 1.1.0  & C:/Users/etuca/OneDrive/Documents/R/win-library/4.1/fastmap          & C:/Users/etuca/OneDrive/Documents/R/win-library/4.1/fastmap          & FALSE & FALSE & 2021-01-25 & CRAN (R 4.1.2) & TRUE & C:/Users/etuca/OneDrive/Documents/R/win-library/4.1\\\\\n",
       "\tfs & fs               & 1.5.2  & 1.5.2  & C:/Users/etuca/OneDrive/Documents/R/win-library/4.1/fs               & C:/Users/etuca/OneDrive/Documents/R/win-library/4.1/fs               & FALSE & FALSE & 2021-12-08 & CRAN (R 4.1.2) & TRUE & C:/Users/etuca/OneDrive/Documents/R/win-library/4.1\\\\\n",
       "\tgenerics & generics         & 0.1.2  & 0.1.2  & C:/Users/etuca/OneDrive/Documents/R/win-library/4.1/generics         & C:/Users/etuca/OneDrive/Documents/R/win-library/4.1/generics         & FALSE & FALSE & 2022-01-31 & CRAN (R 4.1.2) & TRUE & C:/Users/etuca/OneDrive/Documents/R/win-library/4.1\\\\\n",
       "\tGenomeInfoDb & GenomeInfoDb     & 1.30.1 & 1.30.1 & C:/Users/etuca/OneDrive/Documents/R/win-library/4.1/GenomeInfoDb     & C:/Users/etuca/OneDrive/Documents/R/win-library/4.1/GenomeInfoDb     & FALSE & FALSE & 2022-01-30 & Bioconductor   & TRUE & C:/Users/etuca/OneDrive/Documents/R/win-library/4.1\\\\\n",
       "\tGenomeInfoDbData & GenomeInfoDbData & 1.2.7  & 1.2.7  & C:/Users/etuca/OneDrive/Documents/R/win-library/4.1/GenomeInfoDbData & C:/Users/etuca/OneDrive/Documents/R/win-library/4.1/GenomeInfoDbData & FALSE & FALSE & 2022-02-19 & Bioconductor   & TRUE & C:/Users/etuca/OneDrive/Documents/R/win-library/4.1\\\\\n",
       "\tglue & glue             & 1.6.1  & 1.6.1  & C:/Users/etuca/OneDrive/Documents/R/win-library/4.1/glue             & C:/Users/etuca/OneDrive/Documents/R/win-library/4.1/glue             & FALSE & FALSE & 2022-01-22 & CRAN (R 4.1.2) & TRUE & C:/Users/etuca/OneDrive/Documents/R/win-library/4.1\\\\\n",
       "\t... & ... & ... & ... & ... & ... & ... & ... & ... & ... & ... & ...\\\\\n",
       "\tpillar & pillar         & 1.7.0    & 1.7.0    & C:/Users/etuca/OneDrive/Documents/R/win-library/4.1/pillar         & C:/Users/etuca/OneDrive/Documents/R/win-library/4.1/pillar         & FALSE & FALSE & 2022-02-01 & CRAN (R 4.1.2)                                                                & TRUE & C:/Users/etuca/OneDrive/Documents/R/win-library/4.1\\\\\n",
       "\tpkgbuild & pkgbuild       & 1.3.1    & 1.3.1    & C:/Users/etuca/OneDrive/Documents/R/win-library/4.1/pkgbuild       & C:/Users/etuca/OneDrive/Documents/R/win-library/4.1/pkgbuild       & FALSE & FALSE & 2021-12-20 & CRAN (R 4.1.2)                                                                & TRUE & C:/Users/etuca/OneDrive/Documents/R/win-library/4.1\\\\\n",
       "\tpkgconfig & pkgconfig      & 2.0.3    & 2.0.3    & C:/Users/etuca/OneDrive/Documents/R/win-library/4.1/pkgconfig      & C:/Users/etuca/OneDrive/Documents/R/win-library/4.1/pkgconfig      & FALSE & FALSE & 2019-09-22 & CRAN (R 4.1.2)                                                                & TRUE & C:/Users/etuca/OneDrive/Documents/R/win-library/4.1\\\\\n",
       "\tpkgload & pkgload        & 1.2.4    & 1.2.4    & C:/Users/etuca/OneDrive/Documents/R/win-library/4.1/pkgload        & C:/Users/etuca/OneDrive/Documents/R/win-library/4.1/pkgload        & FALSE & FALSE & 2021-11-30 & CRAN (R 4.1.2)                                                                & TRUE & C:/Users/etuca/OneDrive/Documents/R/win-library/4.1\\\\\n",
       "\tpng & png            & 0.1.7    & 0.1-7    & C:/Users/etuca/OneDrive/Documents/R/win-library/4.1/png            & C:/Users/etuca/OneDrive/Documents/R/win-library/4.1/png            & FALSE & FALSE & 2013-12-03 & CRAN (R 4.1.1)                                                                & TRUE & C:/Users/etuca/OneDrive/Documents/R/win-library/4.1\\\\\n",
       "\tprettyunits & prettyunits    & 1.1.1    & 1.1.1    & C:/Users/etuca/OneDrive/Documents/R/win-library/4.1/prettyunits    & C:/Users/etuca/OneDrive/Documents/R/win-library/4.1/prettyunits    & FALSE & FALSE & 2020-01-24 & CRAN (R 4.1.2)                                                                & TRUE & C:/Users/etuca/OneDrive/Documents/R/win-library/4.1\\\\\n",
       "\tprocessx & processx       & 3.5.2    & 3.5.2    & C:/Users/etuca/OneDrive/Documents/R/win-library/4.1/processx       & C:/Users/etuca/OneDrive/Documents/R/win-library/4.1/processx       & FALSE & FALSE & 2021-04-30 & CRAN (R 4.1.2)                                                                & TRUE & C:/Users/etuca/OneDrive/Documents/R/win-library/4.1\\\\\n",
       "\tps & ps             & 1.6.0    & 1.6.0    & C:/Users/etuca/OneDrive/Documents/R/win-library/4.1/ps             & C:/Users/etuca/OneDrive/Documents/R/win-library/4.1/ps             & FALSE & FALSE & 2021-02-28 & CRAN (R 4.1.2)                                                                & TRUE & C:/Users/etuca/OneDrive/Documents/R/win-library/4.1\\\\\n",
       "\tpurrr & purrr          & 0.3.4    & 0.3.4    & C:/Users/etuca/OneDrive/Documents/R/win-library/4.1/purrr          & C:/Users/etuca/OneDrive/Documents/R/win-library/4.1/purrr          & FALSE & FALSE & 2020-04-17 & CRAN (R 4.1.2)                                                                & TRUE & C:/Users/etuca/OneDrive/Documents/R/win-library/4.1\\\\\n",
       "\tR6 & R6             & 2.5.1    & 2.5.1    & C:/Users/etuca/OneDrive/Documents/R/win-library/4.1/R6             & C:/Users/etuca/OneDrive/Documents/R/win-library/4.1/R6             & FALSE & FALSE & 2021-08-19 & CRAN (R 4.1.2)                                                                & TRUE & C:/Users/etuca/OneDrive/Documents/R/win-library/4.1\\\\\n",
       "\tRcpp & Rcpp           & 1.0.8    & 1.0.8    & C:/Users/etuca/OneDrive/Documents/R/win-library/4.1/Rcpp           & C:/Users/etuca/OneDrive/Documents/R/win-library/4.1/Rcpp           & FALSE & FALSE & 2022-01-13 & CRAN (R 4.1.2)                                                                & TRUE & C:/Users/etuca/OneDrive/Documents/R/win-library/4.1\\\\\n",
       "\tRCurl & RCurl          & 1.98.1.6 & 1.98-1.6 & C:/Users/etuca/OneDrive/Documents/R/win-library/4.1/RCurl          & C:/Users/etuca/OneDrive/Documents/R/win-library/4.1/RCurl          & FALSE & FALSE & 2022-02-08 & CRAN (R 4.1.2)                                                                & TRUE & C:/Users/etuca/OneDrive/Documents/R/win-library/4.1\\\\\n",
       "\tremotes & remotes        & 2.4.2    & 2.4.2    & C:/Users/etuca/OneDrive/Documents/R/win-library/4.1/remotes        & C:/Users/etuca/OneDrive/Documents/R/win-library/4.1/remotes        & FALSE & FALSE & 2021-11-30 & CRAN (R 4.1.2)                                                                & TRUE & C:/Users/etuca/OneDrive/Documents/R/win-library/4.1\\\\\n",
       "\trepr & repr           & 1.1.4    & 1.1.4    & C:/Users/etuca/OneDrive/Documents/R/win-library/4.1/repr           & C:/Users/etuca/OneDrive/Documents/R/win-library/4.1/repr           & FALSE & FALSE & 2022-01-04 & CRAN (R 4.1.2)                                                                & TRUE & C:/Users/etuca/OneDrive/Documents/R/win-library/4.1\\\\\n",
       "\trlang & rlang          & 1.0.1    & 1.0.1    & C:/Users/etuca/OneDrive/Documents/R/win-library/4.1/rlang          & C:/Users/etuca/OneDrive/Documents/R/win-library/4.1/rlang          & FALSE & FALSE & 2022-02-03 & CRAN (R 4.1.2)                                                                & TRUE & C:/Users/etuca/OneDrive/Documents/R/win-library/4.1\\\\\n",
       "\trprojroot & rprojroot      & 2.0.2    & 2.0.2    & C:/Users/etuca/OneDrive/Documents/R/win-library/4.1/rprojroot      & C:/Users/etuca/OneDrive/Documents/R/win-library/4.1/rprojroot      & FALSE & FALSE & 2020-11-15 & CRAN (R 4.1.2)                                                                & TRUE & C:/Users/etuca/OneDrive/Documents/R/win-library/4.1\\\\\n",
       "\tRSkittleBrewer & RSkittleBrewer & 1.1      & 1.1      & C:/Users/etuca/OneDrive/Documents/R/win-library/4.1/RSkittleBrewer & C:/Users/etuca/OneDrive/Documents/R/win-library/4.1/RSkittleBrewer &  TRUE & FALSE & 2022-02-23 & Github (alyssafrazee/RSkittleBrewer@3bd1c989905c9398a98d79e8cb96d835785b139b) & TRUE & C:/Users/etuca/OneDrive/Documents/R/win-library/4.1\\\\\n",
       "\tRSQLite & RSQLite        & 2.2.10   & 2.2.10   & C:/Users/etuca/OneDrive/Documents/R/win-library/4.1/RSQLite        & C:/Users/etuca/OneDrive/Documents/R/win-library/4.1/RSQLite        & FALSE & FALSE & 2022-02-17 & CRAN (R 4.1.2)                                                                & TRUE & C:/Users/etuca/OneDrive/Documents/R/win-library/4.1\\\\\n",
       "\tS4Vectors & S4Vectors      & 0.32.3   & 0.32.3   & C:/Users/etuca/OneDrive/Documents/R/win-library/4.1/S4Vectors      & C:/Users/etuca/OneDrive/Documents/R/win-library/4.1/S4Vectors      &  TRUE & FALSE & 2021-11-21 & Bioconductor                                                                  & TRUE & C:/Users/etuca/OneDrive/Documents/R/win-library/4.1\\\\\n",
       "\tsessioninfo & sessioninfo    & 1.2.2    & 1.2.2    & C:/Users/etuca/OneDrive/Documents/R/win-library/4.1/sessioninfo    & C:/Users/etuca/OneDrive/Documents/R/win-library/4.1/sessioninfo    & FALSE & FALSE & 2021-12-06 & CRAN (R 4.1.2)                                                                & TRUE & C:/Users/etuca/OneDrive/Documents/R/win-library/4.1\\\\\n",
       "\ttestthat & testthat       & 3.1.2    & 3.1.2    & C:/Users/etuca/OneDrive/Documents/R/win-library/4.1/testthat       & C:/Users/etuca/OneDrive/Documents/R/win-library/4.1/testthat       & FALSE & FALSE & 2022-01-20 & CRAN (R 4.1.2)                                                                & TRUE & C:/Users/etuca/OneDrive/Documents/R/win-library/4.1\\\\\n",
       "\ttibble & tibble         & 3.1.6    & 3.1.6    & C:/Users/etuca/OneDrive/Documents/R/win-library/4.1/tibble         & C:/Users/etuca/OneDrive/Documents/R/win-library/4.1/tibble         & FALSE & FALSE & 2021-11-07 & CRAN (R 4.1.2)                                                                & TRUE & C:/Users/etuca/OneDrive/Documents/R/win-library/4.1\\\\\n",
       "\ttidyselect & tidyselect     & 1.1.1    & 1.1.1    & C:/Users/etuca/OneDrive/Documents/R/win-library/4.1/tidyselect     & C:/Users/etuca/OneDrive/Documents/R/win-library/4.1/tidyselect     & FALSE & FALSE & 2021-04-30 & CRAN (R 4.1.2)                                                                & TRUE & C:/Users/etuca/OneDrive/Documents/R/win-library/4.1\\\\\n",
       "\tusethis & usethis        & 2.1.5    & 2.1.5    & C:/Users/etuca/OneDrive/Documents/R/win-library/4.1/usethis        & C:/Users/etuca/OneDrive/Documents/R/win-library/4.1/usethis        &  TRUE & FALSE & 2021-12-09 & CRAN (R 4.1.2)                                                                & TRUE & C:/Users/etuca/OneDrive/Documents/R/win-library/4.1\\\\\n",
       "\tutf8 & utf8           & 1.2.2    & 1.2.2    & C:/Users/etuca/OneDrive/Documents/R/win-library/4.1/utf8           & C:/Users/etuca/OneDrive/Documents/R/win-library/4.1/utf8           & FALSE & FALSE & 2021-07-24 & CRAN (R 4.1.2)                                                                & TRUE & C:/Users/etuca/OneDrive/Documents/R/win-library/4.1\\\\\n",
       "\tuuid & uuid           & 1.0.3    & 1.0-3    & C:/Users/etuca/OneDrive/Documents/R/win-library/4.1/uuid           & C:/Users/etuca/OneDrive/Documents/R/win-library/4.1/uuid           & FALSE & FALSE & 2021-11-01 & CRAN (R 4.1.2)                                                                & TRUE & C:/Users/etuca/OneDrive/Documents/R/win-library/4.1\\\\\n",
       "\tvctrs & vctrs          & 0.3.8    & 0.3.8    & C:/Users/etuca/OneDrive/Documents/R/win-library/4.1/vctrs          & C:/Users/etuca/OneDrive/Documents/R/win-library/4.1/vctrs          & FALSE & FALSE & 2021-04-29 & CRAN (R 4.1.2)                                                                & TRUE & C:/Users/etuca/OneDrive/Documents/R/win-library/4.1\\\\\n",
       "\twithr & withr          & 2.4.3    & 2.4.3    & C:/Users/etuca/OneDrive/Documents/R/win-library/4.1/withr          & C:/Users/etuca/OneDrive/Documents/R/win-library/4.1/withr          & FALSE & FALSE & 2021-11-30 & CRAN (R 4.1.2)                                                                & TRUE & C:/Users/etuca/OneDrive/Documents/R/win-library/4.1\\\\\n",
       "\tXVector & XVector        & 0.34.0   & 0.34.0   & C:/Users/etuca/OneDrive/Documents/R/win-library/4.1/XVector        & C:/Users/etuca/OneDrive/Documents/R/win-library/4.1/XVector        & FALSE & FALSE & 2021-10-26 & Bioconductor                                                                  & TRUE & C:/Users/etuca/OneDrive/Documents/R/win-library/4.1\\\\\n",
       "\tzlibbioc & zlibbioc       & 1.40.0   & 1.40.0   & C:/Users/etuca/OneDrive/Documents/R/win-library/4.1/zlibbioc       & C:/Users/etuca/OneDrive/Documents/R/win-library/4.1/zlibbioc       & FALSE & FALSE & 2021-10-26 & Bioconductor                                                                  & TRUE & C:/Users/etuca/OneDrive/Documents/R/win-library/4.1\\\\\n",
       "\\end{tabular}\n",
       "\n",
       "\\end{description}\n"
      ],
      "text/markdown": [
       "$platform\n",
       ":   $version\n",
       ":   'R version 4.1.0 (2021-05-18)'\n",
       "$os\n",
       ":   'Windows 10 x64 (build 22557)'\n",
       "$system\n",
       ":   'x86_64, mingw32'\n",
       "$ui\n",
       ":   'RTerm'\n",
       "$language\n",
       ":   '(EN)'\n",
       "$collate\n",
       ":   'English_India.1252'\n",
       "$ctype\n",
       ":   'English_India.1252'\n",
       "$tz\n",
       ":   'Asia/Calcutta'\n",
       "$date\n",
       ":   '2022-02-23'\n",
       "$pandoc\n",
       ":   'NA'\n",
       "\n",
       "\n",
       "\n",
       "$packages\n",
       ":   \n",
       "A packages_info: 75 × 11\n",
       "\n",
       "| <!--/--> | package &lt;chr&gt; | ondiskversion &lt;chr&gt; | loadedversion &lt;chr&gt; | path &lt;chr&gt; | loadedpath &lt;chr&gt; | attached &lt;lgl&gt; | is_base &lt;lgl&gt; | date &lt;chr&gt; | source &lt;chr&gt; | md5ok &lt;lgl&gt; | library &lt;fct&gt; |\n",
       "|---|---|---|---|---|---|---|---|---|---|---|---|\n",
       "| AnnotationDbi | AnnotationDbi    | 1.56.2 | 1.56.2 | C:/Users/etuca/OneDrive/Documents/R/win-library/4.1/AnnotationDbi    | C:/Users/etuca/OneDrive/Documents/R/win-library/4.1/AnnotationDbi    |  TRUE | FALSE | 2021-11-09 | Bioconductor   | TRUE | C:/Users/etuca/OneDrive/Documents/R/win-library/4.1 |\n",
       "| assertthat | assertthat       | 0.2.1  | 0.2.1  | C:/Users/etuca/OneDrive/Documents/R/win-library/4.1/assertthat       | C:/Users/etuca/OneDrive/Documents/R/win-library/4.1/assertthat       | FALSE | FALSE | 2019-03-21 | CRAN (R 4.1.2) | TRUE | C:/Users/etuca/OneDrive/Documents/R/win-library/4.1 |\n",
       "| base64enc | base64enc        | 0.1.3  | 0.1-3  | C:/Users/etuca/OneDrive/Documents/R/win-library/4.1/base64enc        | C:/Users/etuca/OneDrive/Documents/R/win-library/4.1/base64enc        | FALSE | FALSE | 2015-07-28 | CRAN (R 4.1.1) | TRUE | C:/Users/etuca/OneDrive/Documents/R/win-library/4.1 |\n",
       "| Biobase | Biobase          | 2.54.0 | 2.54.0 | C:/Users/etuca/OneDrive/Documents/R/win-library/4.1/Biobase          | C:/Users/etuca/OneDrive/Documents/R/win-library/4.1/Biobase          |  TRUE | FALSE | 2021-10-26 | Bioconductor   | TRUE | C:/Users/etuca/OneDrive/Documents/R/win-library/4.1 |\n",
       "| BiocGenerics | BiocGenerics     | 0.40.0 | 0.40.0 | C:/Users/etuca/OneDrive/Documents/R/win-library/4.1/BiocGenerics     | C:/Users/etuca/OneDrive/Documents/R/win-library/4.1/BiocGenerics     |  TRUE | FALSE | 2021-10-26 | Bioconductor   | TRUE | C:/Users/etuca/OneDrive/Documents/R/win-library/4.1 |\n",
       "| Biostrings | Biostrings       | 2.62.0 | 2.62.0 | C:/Users/etuca/OneDrive/Documents/R/win-library/4.1/Biostrings       | C:/Users/etuca/OneDrive/Documents/R/win-library/4.1/Biostrings       | FALSE | FALSE | 2021-10-26 | Bioconductor   | TRUE | C:/Users/etuca/OneDrive/Documents/R/win-library/4.1 |\n",
       "| bit | bit              | 4.0.4  | 4.0.4  | C:/Users/etuca/OneDrive/Documents/R/win-library/4.1/bit              | C:/Users/etuca/OneDrive/Documents/R/win-library/4.1/bit              | FALSE | FALSE | 2020-08-04 | CRAN (R 4.1.2) | TRUE | C:/Users/etuca/OneDrive/Documents/R/win-library/4.1 |\n",
       "| bit64 | bit64            | 4.0.5  | 4.0.5  | C:/Users/etuca/OneDrive/Documents/R/win-library/4.1/bit64            | C:/Users/etuca/OneDrive/Documents/R/win-library/4.1/bit64            | FALSE | FALSE | 2020-08-30 | CRAN (R 4.1.2) | TRUE | C:/Users/etuca/OneDrive/Documents/R/win-library/4.1 |\n",
       "| bitops | bitops           | 1.0.7  | 1.0-7  | C:/Users/etuca/OneDrive/Documents/R/win-library/4.1/bitops           | C:/Users/etuca/OneDrive/Documents/R/win-library/4.1/bitops           | FALSE | FALSE | 2021-04-24 | CRAN (R 4.1.1) | TRUE | C:/Users/etuca/OneDrive/Documents/R/win-library/4.1 |\n",
       "| blob | blob             | 1.2.2  | 1.2.2  | C:/Users/etuca/OneDrive/Documents/R/win-library/4.1/blob             | C:/Users/etuca/OneDrive/Documents/R/win-library/4.1/blob             | FALSE | FALSE | 2021-07-23 | CRAN (R 4.1.2) | TRUE | C:/Users/etuca/OneDrive/Documents/R/win-library/4.1 |\n",
       "| brio | brio             | 1.1.3  | 1.1.3  | C:/Users/etuca/OneDrive/Documents/R/win-library/4.1/brio             | C:/Users/etuca/OneDrive/Documents/R/win-library/4.1/brio             | FALSE | FALSE | 2021-11-30 | CRAN (R 4.1.2) | TRUE | C:/Users/etuca/OneDrive/Documents/R/win-library/4.1 |\n",
       "| cachem | cachem           | 1.0.6  | 1.0.6  | C:/Users/etuca/OneDrive/Documents/R/win-library/4.1/cachem           | C:/Users/etuca/OneDrive/Documents/R/win-library/4.1/cachem           | FALSE | FALSE | 2021-08-19 | CRAN (R 4.1.2) | TRUE | C:/Users/etuca/OneDrive/Documents/R/win-library/4.1 |\n",
       "| callr | callr            | 3.7.0  | 3.7.0  | C:/Users/etuca/OneDrive/Documents/R/win-library/4.1/callr            | C:/Users/etuca/OneDrive/Documents/R/win-library/4.1/callr            | FALSE | FALSE | 2021-04-20 | CRAN (R 4.1.2) | TRUE | C:/Users/etuca/OneDrive/Documents/R/win-library/4.1 |\n",
       "| caTools | caTools          | 1.18.2 | 1.18.2 | C:/Users/etuca/OneDrive/Documents/R/win-library/4.1/caTools          | C:/Users/etuca/OneDrive/Documents/R/win-library/4.1/caTools          | FALSE | FALSE | 2021-03-28 | CRAN (R 4.1.2) | TRUE | C:/Users/etuca/OneDrive/Documents/R/win-library/4.1 |\n",
       "| cli | cli              | 3.1.1  | 3.1.1  | C:/Users/etuca/OneDrive/Documents/R/win-library/4.1/cli              | C:/Users/etuca/OneDrive/Documents/R/win-library/4.1/cli              | FALSE | FALSE | 2022-01-20 | CRAN (R 4.1.2) | TRUE | C:/Users/etuca/OneDrive/Documents/R/win-library/4.1 |\n",
       "| crayon | crayon           | 1.5.0  | 1.5.0  | C:/Users/etuca/OneDrive/Documents/R/win-library/4.1/crayon           | C:/Users/etuca/OneDrive/Documents/R/win-library/4.1/crayon           | FALSE | FALSE | 2022-02-14 | CRAN (R 4.1.2) | TRUE | C:/Users/etuca/OneDrive/Documents/R/win-library/4.1 |\n",
       "| DBI | DBI              | 1.1.2  | 1.1.2  | C:/Users/etuca/OneDrive/Documents/R/win-library/4.1/DBI              | C:/Users/etuca/OneDrive/Documents/R/win-library/4.1/DBI              | FALSE | FALSE | 2021-12-20 | CRAN (R 4.1.2) | TRUE | C:/Users/etuca/OneDrive/Documents/R/win-library/4.1 |\n",
       "| desc | desc             | 1.4.0  | 1.4.0  | C:/Users/etuca/OneDrive/Documents/R/win-library/4.1/desc             | C:/Users/etuca/OneDrive/Documents/R/win-library/4.1/desc             | FALSE | FALSE | 2021-09-28 | CRAN (R 4.1.2) | TRUE | C:/Users/etuca/OneDrive/Documents/R/win-library/4.1 |\n",
       "| devtools | devtools         | 2.4.3  | 2.4.3  | C:/Users/etuca/OneDrive/Documents/R/win-library/4.1/devtools         | C:/Users/etuca/OneDrive/Documents/R/win-library/4.1/devtools         |  TRUE | FALSE | 2021-11-30 | CRAN (R 4.1.2) | TRUE | C:/Users/etuca/OneDrive/Documents/R/win-library/4.1 |\n",
       "| digest | digest           | 0.6.29 | 0.6.29 | C:/Users/etuca/OneDrive/Documents/R/win-library/4.1/digest           | C:/Users/etuca/OneDrive/Documents/R/win-library/4.1/digest           | FALSE | FALSE | 2021-12-01 | CRAN (R 4.1.2) | TRUE | C:/Users/etuca/OneDrive/Documents/R/win-library/4.1 |\n",
       "| dplyr | dplyr            | 1.0.8  | 1.0.8  | C:/Users/etuca/OneDrive/Documents/R/win-library/4.1/dplyr            | C:/Users/etuca/OneDrive/Documents/R/win-library/4.1/dplyr            |  TRUE | FALSE | 2022-02-08 | CRAN (R 4.1.2) | TRUE | C:/Users/etuca/OneDrive/Documents/R/win-library/4.1 |\n",
       "| ellipsis | ellipsis         | 0.3.2  | 0.3.2  | C:/Users/etuca/OneDrive/Documents/R/win-library/4.1/ellipsis         | C:/Users/etuca/OneDrive/Documents/R/win-library/4.1/ellipsis         | FALSE | FALSE | 2021-04-29 | CRAN (R 4.1.2) | TRUE | C:/Users/etuca/OneDrive/Documents/R/win-library/4.1 |\n",
       "| evaluate | evaluate         | 0.15   | 0.15   | C:/Users/etuca/OneDrive/Documents/R/win-library/4.1/evaluate         | C:/Users/etuca/OneDrive/Documents/R/win-library/4.1/evaluate         | FALSE | FALSE | 2022-02-18 | CRAN (R 4.1.2) | TRUE | C:/Users/etuca/OneDrive/Documents/R/win-library/4.1 |\n",
       "| fansi | fansi            | 1.0.2  | 1.0.2  | C:/Users/etuca/OneDrive/Documents/R/win-library/4.1/fansi            | C:/Users/etuca/OneDrive/Documents/R/win-library/4.1/fansi            | FALSE | FALSE | 2022-01-14 | CRAN (R 4.1.2) | TRUE | C:/Users/etuca/OneDrive/Documents/R/win-library/4.1 |\n",
       "| fastmap | fastmap          | 1.1.0  | 1.1.0  | C:/Users/etuca/OneDrive/Documents/R/win-library/4.1/fastmap          | C:/Users/etuca/OneDrive/Documents/R/win-library/4.1/fastmap          | FALSE | FALSE | 2021-01-25 | CRAN (R 4.1.2) | TRUE | C:/Users/etuca/OneDrive/Documents/R/win-library/4.1 |\n",
       "| fs | fs               | 1.5.2  | 1.5.2  | C:/Users/etuca/OneDrive/Documents/R/win-library/4.1/fs               | C:/Users/etuca/OneDrive/Documents/R/win-library/4.1/fs               | FALSE | FALSE | 2021-12-08 | CRAN (R 4.1.2) | TRUE | C:/Users/etuca/OneDrive/Documents/R/win-library/4.1 |\n",
       "| generics | generics         | 0.1.2  | 0.1.2  | C:/Users/etuca/OneDrive/Documents/R/win-library/4.1/generics         | C:/Users/etuca/OneDrive/Documents/R/win-library/4.1/generics         | FALSE | FALSE | 2022-01-31 | CRAN (R 4.1.2) | TRUE | C:/Users/etuca/OneDrive/Documents/R/win-library/4.1 |\n",
       "| GenomeInfoDb | GenomeInfoDb     | 1.30.1 | 1.30.1 | C:/Users/etuca/OneDrive/Documents/R/win-library/4.1/GenomeInfoDb     | C:/Users/etuca/OneDrive/Documents/R/win-library/4.1/GenomeInfoDb     | FALSE | FALSE | 2022-01-30 | Bioconductor   | TRUE | C:/Users/etuca/OneDrive/Documents/R/win-library/4.1 |\n",
       "| GenomeInfoDbData | GenomeInfoDbData | 1.2.7  | 1.2.7  | C:/Users/etuca/OneDrive/Documents/R/win-library/4.1/GenomeInfoDbData | C:/Users/etuca/OneDrive/Documents/R/win-library/4.1/GenomeInfoDbData | FALSE | FALSE | 2022-02-19 | Bioconductor   | TRUE | C:/Users/etuca/OneDrive/Documents/R/win-library/4.1 |\n",
       "| glue | glue             | 1.6.1  | 1.6.1  | C:/Users/etuca/OneDrive/Documents/R/win-library/4.1/glue             | C:/Users/etuca/OneDrive/Documents/R/win-library/4.1/glue             | FALSE | FALSE | 2022-01-22 | CRAN (R 4.1.2) | TRUE | C:/Users/etuca/OneDrive/Documents/R/win-library/4.1 |\n",
       "| ... | ... | ... | ... | ... | ... | ... | ... | ... | ... | ... | ... |\n",
       "| pillar | pillar         | 1.7.0    | 1.7.0    | C:/Users/etuca/OneDrive/Documents/R/win-library/4.1/pillar         | C:/Users/etuca/OneDrive/Documents/R/win-library/4.1/pillar         | FALSE | FALSE | 2022-02-01 | CRAN (R 4.1.2)                                                                | TRUE | C:/Users/etuca/OneDrive/Documents/R/win-library/4.1 |\n",
       "| pkgbuild | pkgbuild       | 1.3.1    | 1.3.1    | C:/Users/etuca/OneDrive/Documents/R/win-library/4.1/pkgbuild       | C:/Users/etuca/OneDrive/Documents/R/win-library/4.1/pkgbuild       | FALSE | FALSE | 2021-12-20 | CRAN (R 4.1.2)                                                                | TRUE | C:/Users/etuca/OneDrive/Documents/R/win-library/4.1 |\n",
       "| pkgconfig | pkgconfig      | 2.0.3    | 2.0.3    | C:/Users/etuca/OneDrive/Documents/R/win-library/4.1/pkgconfig      | C:/Users/etuca/OneDrive/Documents/R/win-library/4.1/pkgconfig      | FALSE | FALSE | 2019-09-22 | CRAN (R 4.1.2)                                                                | TRUE | C:/Users/etuca/OneDrive/Documents/R/win-library/4.1 |\n",
       "| pkgload | pkgload        | 1.2.4    | 1.2.4    | C:/Users/etuca/OneDrive/Documents/R/win-library/4.1/pkgload        | C:/Users/etuca/OneDrive/Documents/R/win-library/4.1/pkgload        | FALSE | FALSE | 2021-11-30 | CRAN (R 4.1.2)                                                                | TRUE | C:/Users/etuca/OneDrive/Documents/R/win-library/4.1 |\n",
       "| png | png            | 0.1.7    | 0.1-7    | C:/Users/etuca/OneDrive/Documents/R/win-library/4.1/png            | C:/Users/etuca/OneDrive/Documents/R/win-library/4.1/png            | FALSE | FALSE | 2013-12-03 | CRAN (R 4.1.1)                                                                | TRUE | C:/Users/etuca/OneDrive/Documents/R/win-library/4.1 |\n",
       "| prettyunits | prettyunits    | 1.1.1    | 1.1.1    | C:/Users/etuca/OneDrive/Documents/R/win-library/4.1/prettyunits    | C:/Users/etuca/OneDrive/Documents/R/win-library/4.1/prettyunits    | FALSE | FALSE | 2020-01-24 | CRAN (R 4.1.2)                                                                | TRUE | C:/Users/etuca/OneDrive/Documents/R/win-library/4.1 |\n",
       "| processx | processx       | 3.5.2    | 3.5.2    | C:/Users/etuca/OneDrive/Documents/R/win-library/4.1/processx       | C:/Users/etuca/OneDrive/Documents/R/win-library/4.1/processx       | FALSE | FALSE | 2021-04-30 | CRAN (R 4.1.2)                                                                | TRUE | C:/Users/etuca/OneDrive/Documents/R/win-library/4.1 |\n",
       "| ps | ps             | 1.6.0    | 1.6.0    | C:/Users/etuca/OneDrive/Documents/R/win-library/4.1/ps             | C:/Users/etuca/OneDrive/Documents/R/win-library/4.1/ps             | FALSE | FALSE | 2021-02-28 | CRAN (R 4.1.2)                                                                | TRUE | C:/Users/etuca/OneDrive/Documents/R/win-library/4.1 |\n",
       "| purrr | purrr          | 0.3.4    | 0.3.4    | C:/Users/etuca/OneDrive/Documents/R/win-library/4.1/purrr          | C:/Users/etuca/OneDrive/Documents/R/win-library/4.1/purrr          | FALSE | FALSE | 2020-04-17 | CRAN (R 4.1.2)                                                                | TRUE | C:/Users/etuca/OneDrive/Documents/R/win-library/4.1 |\n",
       "| R6 | R6             | 2.5.1    | 2.5.1    | C:/Users/etuca/OneDrive/Documents/R/win-library/4.1/R6             | C:/Users/etuca/OneDrive/Documents/R/win-library/4.1/R6             | FALSE | FALSE | 2021-08-19 | CRAN (R 4.1.2)                                                                | TRUE | C:/Users/etuca/OneDrive/Documents/R/win-library/4.1 |\n",
       "| Rcpp | Rcpp           | 1.0.8    | 1.0.8    | C:/Users/etuca/OneDrive/Documents/R/win-library/4.1/Rcpp           | C:/Users/etuca/OneDrive/Documents/R/win-library/4.1/Rcpp           | FALSE | FALSE | 2022-01-13 | CRAN (R 4.1.2)                                                                | TRUE | C:/Users/etuca/OneDrive/Documents/R/win-library/4.1 |\n",
       "| RCurl | RCurl          | 1.98.1.6 | 1.98-1.6 | C:/Users/etuca/OneDrive/Documents/R/win-library/4.1/RCurl          | C:/Users/etuca/OneDrive/Documents/R/win-library/4.1/RCurl          | FALSE | FALSE | 2022-02-08 | CRAN (R 4.1.2)                                                                | TRUE | C:/Users/etuca/OneDrive/Documents/R/win-library/4.1 |\n",
       "| remotes | remotes        | 2.4.2    | 2.4.2    | C:/Users/etuca/OneDrive/Documents/R/win-library/4.1/remotes        | C:/Users/etuca/OneDrive/Documents/R/win-library/4.1/remotes        | FALSE | FALSE | 2021-11-30 | CRAN (R 4.1.2)                                                                | TRUE | C:/Users/etuca/OneDrive/Documents/R/win-library/4.1 |\n",
       "| repr | repr           | 1.1.4    | 1.1.4    | C:/Users/etuca/OneDrive/Documents/R/win-library/4.1/repr           | C:/Users/etuca/OneDrive/Documents/R/win-library/4.1/repr           | FALSE | FALSE | 2022-01-04 | CRAN (R 4.1.2)                                                                | TRUE | C:/Users/etuca/OneDrive/Documents/R/win-library/4.1 |\n",
       "| rlang | rlang          | 1.0.1    | 1.0.1    | C:/Users/etuca/OneDrive/Documents/R/win-library/4.1/rlang          | C:/Users/etuca/OneDrive/Documents/R/win-library/4.1/rlang          | FALSE | FALSE | 2022-02-03 | CRAN (R 4.1.2)                                                                | TRUE | C:/Users/etuca/OneDrive/Documents/R/win-library/4.1 |\n",
       "| rprojroot | rprojroot      | 2.0.2    | 2.0.2    | C:/Users/etuca/OneDrive/Documents/R/win-library/4.1/rprojroot      | C:/Users/etuca/OneDrive/Documents/R/win-library/4.1/rprojroot      | FALSE | FALSE | 2020-11-15 | CRAN (R 4.1.2)                                                                | TRUE | C:/Users/etuca/OneDrive/Documents/R/win-library/4.1 |\n",
       "| RSkittleBrewer | RSkittleBrewer | 1.1      | 1.1      | C:/Users/etuca/OneDrive/Documents/R/win-library/4.1/RSkittleBrewer | C:/Users/etuca/OneDrive/Documents/R/win-library/4.1/RSkittleBrewer |  TRUE | FALSE | 2022-02-23 | Github (alyssafrazee/RSkittleBrewer@3bd1c989905c9398a98d79e8cb96d835785b139b) | TRUE | C:/Users/etuca/OneDrive/Documents/R/win-library/4.1 |\n",
       "| RSQLite | RSQLite        | 2.2.10   | 2.2.10   | C:/Users/etuca/OneDrive/Documents/R/win-library/4.1/RSQLite        | C:/Users/etuca/OneDrive/Documents/R/win-library/4.1/RSQLite        | FALSE | FALSE | 2022-02-17 | CRAN (R 4.1.2)                                                                | TRUE | C:/Users/etuca/OneDrive/Documents/R/win-library/4.1 |\n",
       "| S4Vectors | S4Vectors      | 0.32.3   | 0.32.3   | C:/Users/etuca/OneDrive/Documents/R/win-library/4.1/S4Vectors      | C:/Users/etuca/OneDrive/Documents/R/win-library/4.1/S4Vectors      |  TRUE | FALSE | 2021-11-21 | Bioconductor                                                                  | TRUE | C:/Users/etuca/OneDrive/Documents/R/win-library/4.1 |\n",
       "| sessioninfo | sessioninfo    | 1.2.2    | 1.2.2    | C:/Users/etuca/OneDrive/Documents/R/win-library/4.1/sessioninfo    | C:/Users/etuca/OneDrive/Documents/R/win-library/4.1/sessioninfo    | FALSE | FALSE | 2021-12-06 | CRAN (R 4.1.2)                                                                | TRUE | C:/Users/etuca/OneDrive/Documents/R/win-library/4.1 |\n",
       "| testthat | testthat       | 3.1.2    | 3.1.2    | C:/Users/etuca/OneDrive/Documents/R/win-library/4.1/testthat       | C:/Users/etuca/OneDrive/Documents/R/win-library/4.1/testthat       | FALSE | FALSE | 2022-01-20 | CRAN (R 4.1.2)                                                                | TRUE | C:/Users/etuca/OneDrive/Documents/R/win-library/4.1 |\n",
       "| tibble | tibble         | 3.1.6    | 3.1.6    | C:/Users/etuca/OneDrive/Documents/R/win-library/4.1/tibble         | C:/Users/etuca/OneDrive/Documents/R/win-library/4.1/tibble         | FALSE | FALSE | 2021-11-07 | CRAN (R 4.1.2)                                                                | TRUE | C:/Users/etuca/OneDrive/Documents/R/win-library/4.1 |\n",
       "| tidyselect | tidyselect     | 1.1.1    | 1.1.1    | C:/Users/etuca/OneDrive/Documents/R/win-library/4.1/tidyselect     | C:/Users/etuca/OneDrive/Documents/R/win-library/4.1/tidyselect     | FALSE | FALSE | 2021-04-30 | CRAN (R 4.1.2)                                                                | TRUE | C:/Users/etuca/OneDrive/Documents/R/win-library/4.1 |\n",
       "| usethis | usethis        | 2.1.5    | 2.1.5    | C:/Users/etuca/OneDrive/Documents/R/win-library/4.1/usethis        | C:/Users/etuca/OneDrive/Documents/R/win-library/4.1/usethis        |  TRUE | FALSE | 2021-12-09 | CRAN (R 4.1.2)                                                                | TRUE | C:/Users/etuca/OneDrive/Documents/R/win-library/4.1 |\n",
       "| utf8 | utf8           | 1.2.2    | 1.2.2    | C:/Users/etuca/OneDrive/Documents/R/win-library/4.1/utf8           | C:/Users/etuca/OneDrive/Documents/R/win-library/4.1/utf8           | FALSE | FALSE | 2021-07-24 | CRAN (R 4.1.2)                                                                | TRUE | C:/Users/etuca/OneDrive/Documents/R/win-library/4.1 |\n",
       "| uuid | uuid           | 1.0.3    | 1.0-3    | C:/Users/etuca/OneDrive/Documents/R/win-library/4.1/uuid           | C:/Users/etuca/OneDrive/Documents/R/win-library/4.1/uuid           | FALSE | FALSE | 2021-11-01 | CRAN (R 4.1.2)                                                                | TRUE | C:/Users/etuca/OneDrive/Documents/R/win-library/4.1 |\n",
       "| vctrs | vctrs          | 0.3.8    | 0.3.8    | C:/Users/etuca/OneDrive/Documents/R/win-library/4.1/vctrs          | C:/Users/etuca/OneDrive/Documents/R/win-library/4.1/vctrs          | FALSE | FALSE | 2021-04-29 | CRAN (R 4.1.2)                                                                | TRUE | C:/Users/etuca/OneDrive/Documents/R/win-library/4.1 |\n",
       "| withr | withr          | 2.4.3    | 2.4.3    | C:/Users/etuca/OneDrive/Documents/R/win-library/4.1/withr          | C:/Users/etuca/OneDrive/Documents/R/win-library/4.1/withr          | FALSE | FALSE | 2021-11-30 | CRAN (R 4.1.2)                                                                | TRUE | C:/Users/etuca/OneDrive/Documents/R/win-library/4.1 |\n",
       "| XVector | XVector        | 0.34.0   | 0.34.0   | C:/Users/etuca/OneDrive/Documents/R/win-library/4.1/XVector        | C:/Users/etuca/OneDrive/Documents/R/win-library/4.1/XVector        | FALSE | FALSE | 2021-10-26 | Bioconductor                                                                  | TRUE | C:/Users/etuca/OneDrive/Documents/R/win-library/4.1 |\n",
       "| zlibbioc | zlibbioc       | 1.40.0   | 1.40.0   | C:/Users/etuca/OneDrive/Documents/R/win-library/4.1/zlibbioc       | C:/Users/etuca/OneDrive/Documents/R/win-library/4.1/zlibbioc       | FALSE | FALSE | 2021-10-26 | Bioconductor                                                                  | TRUE | C:/Users/etuca/OneDrive/Documents/R/win-library/4.1 |\n",
       "\n",
       "\n",
       "\n",
       "\n"
      ],
      "text/plain": [
       "\u001b[1m\u001b[36m- Session info ---------------------------------------------------------------\u001b[39m\u001b[22m\n",
       " \u001b[3m\u001b[90msetting \u001b[39m\u001b[23m \u001b[3m\u001b[90mvalue\u001b[39m\u001b[23m\n",
       " version  R version 4.1.0 (2021-05-18)\n",
       " os       Windows 10 x64 (build 22557)\n",
       " system   x86_64, mingw32\n",
       " ui       RTerm\n",
       " language (EN)\n",
       " collate  English_India.1252\n",
       " ctype    English_India.1252\n",
       " tz       Asia/Calcutta\n",
       " date     2022-02-23\n",
       " pandoc   NA\n",
       "\n",
       "\u001b[1m\u001b[36m- Packages -------------------------------------------------------------------\u001b[39m\u001b[22m\n",
       " \u001b[3m\u001b[90mpackage         \u001b[39m\u001b[23m \u001b[3m\u001b[90m*\u001b[39m\u001b[23m \u001b[3m\u001b[90mversion \u001b[39m\u001b[23m \u001b[3m\u001b[90mdate (UTC)\u001b[39m\u001b[23m \u001b[3m\u001b[90mlib\u001b[39m\u001b[23m \u001b[3m\u001b[90msource\u001b[39m\u001b[23m\n",
       " AnnotationDbi    * 1.56.2   \u001b[90m2021-11-09\u001b[39m \u001b[90m[1]\u001b[39m \u001b[90mBioconductor\u001b[39m\n",
       " assertthat         0.2.1    \u001b[90m2019-03-21\u001b[39m \u001b[90m[1]\u001b[39m \u001b[90mCRAN (R 4.1.2)\u001b[39m\n",
       " base64enc          0.1-3    \u001b[90m2015-07-28\u001b[39m \u001b[90m[1]\u001b[39m \u001b[90mCRAN (R 4.1.1)\u001b[39m\n",
       " Biobase          * 2.54.0   \u001b[90m2021-10-26\u001b[39m \u001b[90m[1]\u001b[39m \u001b[90mBioconductor\u001b[39m\n",
       " BiocGenerics     * 0.40.0   \u001b[90m2021-10-26\u001b[39m \u001b[90m[1]\u001b[39m \u001b[90mBioconductor\u001b[39m\n",
       " Biostrings         2.62.0   \u001b[90m2021-10-26\u001b[39m \u001b[90m[1]\u001b[39m \u001b[90mBioconductor\u001b[39m\n",
       " bit                4.0.4    \u001b[90m2020-08-04\u001b[39m \u001b[90m[1]\u001b[39m \u001b[90mCRAN (R 4.1.2)\u001b[39m\n",
       " bit64              4.0.5    \u001b[90m2020-08-30\u001b[39m \u001b[90m[1]\u001b[39m \u001b[90mCRAN (R 4.1.2)\u001b[39m\n",
       " bitops             1.0-7    \u001b[90m2021-04-24\u001b[39m \u001b[90m[1]\u001b[39m \u001b[90mCRAN (R 4.1.1)\u001b[39m\n",
       " blob               1.2.2    \u001b[90m2021-07-23\u001b[39m \u001b[90m[1]\u001b[39m \u001b[90mCRAN (R 4.1.2)\u001b[39m\n",
       " brio               1.1.3    \u001b[90m2021-11-30\u001b[39m \u001b[90m[1]\u001b[39m \u001b[90mCRAN (R 4.1.2)\u001b[39m\n",
       " cachem             1.0.6    \u001b[90m2021-08-19\u001b[39m \u001b[90m[1]\u001b[39m \u001b[90mCRAN (R 4.1.2)\u001b[39m\n",
       " callr              3.7.0    \u001b[90m2021-04-20\u001b[39m \u001b[90m[1]\u001b[39m \u001b[90mCRAN (R 4.1.2)\u001b[39m\n",
       " caTools            1.18.2   \u001b[90m2021-03-28\u001b[39m \u001b[90m[1]\u001b[39m \u001b[90mCRAN (R 4.1.2)\u001b[39m\n",
       " cli                3.1.1    \u001b[90m2022-01-20\u001b[39m \u001b[90m[1]\u001b[39m \u001b[90mCRAN (R 4.1.2)\u001b[39m\n",
       " crayon             1.5.0    \u001b[90m2022-02-14\u001b[39m \u001b[90m[1]\u001b[39m \u001b[90mCRAN (R 4.1.2)\u001b[39m\n",
       " DBI                1.1.2    \u001b[90m2021-12-20\u001b[39m \u001b[90m[1]\u001b[39m \u001b[90mCRAN (R 4.1.2)\u001b[39m\n",
       " desc               1.4.0    \u001b[90m2021-09-28\u001b[39m \u001b[90m[1]\u001b[39m \u001b[90mCRAN (R 4.1.2)\u001b[39m\n",
       " devtools         * 2.4.3    \u001b[90m2021-11-30\u001b[39m \u001b[90m[1]\u001b[39m \u001b[90mCRAN (R 4.1.2)\u001b[39m\n",
       " digest             0.6.29   \u001b[90m2021-12-01\u001b[39m \u001b[90m[1]\u001b[39m \u001b[90mCRAN (R 4.1.2)\u001b[39m\n",
       " dplyr            * 1.0.8    \u001b[90m2022-02-08\u001b[39m \u001b[90m[1]\u001b[39m \u001b[90mCRAN (R 4.1.2)\u001b[39m\n",
       " ellipsis           0.3.2    \u001b[90m2021-04-29\u001b[39m \u001b[90m[1]\u001b[39m \u001b[90mCRAN (R 4.1.2)\u001b[39m\n",
       " evaluate           0.15     \u001b[90m2022-02-18\u001b[39m \u001b[90m[1]\u001b[39m \u001b[90mCRAN (R 4.1.2)\u001b[39m\n",
       " fansi              1.0.2    \u001b[90m2022-01-14\u001b[39m \u001b[90m[1]\u001b[39m \u001b[90mCRAN (R 4.1.2)\u001b[39m\n",
       " fastmap            1.1.0    \u001b[90m2021-01-25\u001b[39m \u001b[90m[1]\u001b[39m \u001b[90mCRAN (R 4.1.2)\u001b[39m\n",
       " fs                 1.5.2    \u001b[90m2021-12-08\u001b[39m \u001b[90m[1]\u001b[39m \u001b[90mCRAN (R 4.1.2)\u001b[39m\n",
       " generics           0.1.2    \u001b[90m2022-01-31\u001b[39m \u001b[90m[1]\u001b[39m \u001b[90mCRAN (R 4.1.2)\u001b[39m\n",
       " GenomeInfoDb       1.30.1   \u001b[90m2022-01-30\u001b[39m \u001b[90m[1]\u001b[39m \u001b[90mBioconductor\u001b[39m\n",
       " GenomeInfoDbData   1.2.7    \u001b[90m2022-02-19\u001b[39m \u001b[90m[1]\u001b[39m \u001b[90mBioconductor\u001b[39m\n",
       " glue               1.6.1    \u001b[90m2022-01-22\u001b[39m \u001b[90m[1]\u001b[39m \u001b[90mCRAN (R 4.1.2)\u001b[39m\n",
       " gplots           * 3.1.1    \u001b[90m2020-11-28\u001b[39m \u001b[90m[1]\u001b[39m \u001b[90mCRAN (R 4.1.2)\u001b[39m\n",
       " gtools             3.9.2    \u001b[90m2021-06-06\u001b[39m \u001b[90m[1]\u001b[39m \u001b[90mCRAN (R 4.1.2)\u001b[39m\n",
       " htmltools          0.5.2    \u001b[90m2021-08-25\u001b[39m \u001b[90m[1]\u001b[39m \u001b[90mCRAN (R 4.1.2)\u001b[39m\n",
       " httr               1.4.2    \u001b[90m2020-07-20\u001b[39m \u001b[90m[1]\u001b[39m \u001b[90mCRAN (R 4.1.2)\u001b[39m\n",
       " IRanges          * 2.28.0   \u001b[90m2021-10-26\u001b[39m \u001b[90m[1]\u001b[39m \u001b[90mBioconductor\u001b[39m\n",
       " IRdisplay          1.1      \u001b[90m2022-01-04\u001b[39m \u001b[90m[1]\u001b[39m \u001b[90mCRAN (R 4.1.2)\u001b[39m\n",
       " IRkernel           1.3      \u001b[90m2022-01-03\u001b[39m \u001b[90m[1]\u001b[39m \u001b[90mCRAN (R 4.1.2)\u001b[39m\n",
       " jsonlite           1.7.3    \u001b[90m2022-01-17\u001b[39m \u001b[90m[1]\u001b[39m \u001b[90mCRAN (R 4.1.2)\u001b[39m\n",
       " KEGGREST           1.34.0   \u001b[90m2021-10-26\u001b[39m \u001b[90m[1]\u001b[39m \u001b[90mBioconductor\u001b[39m\n",
       " KernSmooth         2.23-20  \u001b[90m2021-05-03\u001b[39m \u001b[90m[1]\u001b[39m \u001b[90mCRAN (R 4.1.2)\u001b[39m\n",
       " lifecycle          1.0.1    \u001b[90m2021-09-24\u001b[39m \u001b[90m[1]\u001b[39m \u001b[90mCRAN (R 4.1.2)\u001b[39m\n",
       " magrittr           2.0.2    \u001b[90m2022-01-26\u001b[39m \u001b[90m[1]\u001b[39m \u001b[90mCRAN (R 4.1.2)\u001b[39m\n",
       " memoise            2.0.1    \u001b[90m2021-11-26\u001b[39m \u001b[90m[1]\u001b[39m \u001b[90mCRAN (R 4.1.2)\u001b[39m\n",
       " org.Hs.eg.db     * 3.14.0   \u001b[90m2022-02-23\u001b[39m \u001b[90m[1]\u001b[39m \u001b[90mBioconductor\u001b[39m\n",
       " pbdZMQ             0.3-7    \u001b[90m2022-02-05\u001b[39m \u001b[90m[1]\u001b[39m \u001b[90mCRAN (R 4.1.2)\u001b[39m\n",
       " pillar             1.7.0    \u001b[90m2022-02-01\u001b[39m \u001b[90m[1]\u001b[39m \u001b[90mCRAN (R 4.1.2)\u001b[39m\n",
       " pkgbuild           1.3.1    \u001b[90m2021-12-20\u001b[39m \u001b[90m[1]\u001b[39m \u001b[90mCRAN (R 4.1.2)\u001b[39m\n",
       " pkgconfig          2.0.3    \u001b[90m2019-09-22\u001b[39m \u001b[90m[1]\u001b[39m \u001b[90mCRAN (R 4.1.2)\u001b[39m\n",
       " pkgload            1.2.4    \u001b[90m2021-11-30\u001b[39m \u001b[90m[1]\u001b[39m \u001b[90mCRAN (R 4.1.2)\u001b[39m\n",
       " png                0.1-7    \u001b[90m2013-12-03\u001b[39m \u001b[90m[1]\u001b[39m \u001b[90mCRAN (R 4.1.1)\u001b[39m\n",
       " prettyunits        1.1.1    \u001b[90m2020-01-24\u001b[39m \u001b[90m[1]\u001b[39m \u001b[90mCRAN (R 4.1.2)\u001b[39m\n",
       " processx           3.5.2    \u001b[90m2021-04-30\u001b[39m \u001b[90m[1]\u001b[39m \u001b[90mCRAN (R 4.1.2)\u001b[39m\n",
       " ps                 1.6.0    \u001b[90m2021-02-28\u001b[39m \u001b[90m[1]\u001b[39m \u001b[90mCRAN (R 4.1.2)\u001b[39m\n",
       " purrr              0.3.4    \u001b[90m2020-04-17\u001b[39m \u001b[90m[1]\u001b[39m \u001b[90mCRAN (R 4.1.2)\u001b[39m\n",
       " R6                 2.5.1    \u001b[90m2021-08-19\u001b[39m \u001b[90m[1]\u001b[39m \u001b[90mCRAN (R 4.1.2)\u001b[39m\n",
       " Rcpp               1.0.8    \u001b[90m2022-01-13\u001b[39m \u001b[90m[1]\u001b[39m \u001b[90mCRAN (R 4.1.2)\u001b[39m\n",
       " RCurl              1.98-1.6 \u001b[90m2022-02-08\u001b[39m \u001b[90m[1]\u001b[39m \u001b[90mCRAN (R 4.1.2)\u001b[39m\n",
       " remotes            2.4.2    \u001b[90m2021-11-30\u001b[39m \u001b[90m[1]\u001b[39m \u001b[90mCRAN (R 4.1.2)\u001b[39m\n",
       " repr               1.1.4    \u001b[90m2022-01-04\u001b[39m \u001b[90m[1]\u001b[39m \u001b[90mCRAN (R 4.1.2)\u001b[39m\n",
       " rlang              1.0.1    \u001b[90m2022-02-03\u001b[39m \u001b[90m[1]\u001b[39m \u001b[90mCRAN (R 4.1.2)\u001b[39m\n",
       " rprojroot          2.0.2    \u001b[90m2020-11-15\u001b[39m \u001b[90m[1]\u001b[39m \u001b[90mCRAN (R 4.1.2)\u001b[39m\n",
       " RSkittleBrewer   * 1.1      \u001b[90m2022-02-23\u001b[39m \u001b[90m[1]\u001b[39m \u001b[1m\u001b[35mGithub (alyssafrazee/RSkittleBrewer@3bd1c98)\u001b[39m\u001b[22m\n",
       " RSQLite            2.2.10   \u001b[90m2022-02-17\u001b[39m \u001b[90m[1]\u001b[39m \u001b[90mCRAN (R 4.1.2)\u001b[39m\n",
       " S4Vectors        * 0.32.3   \u001b[90m2021-11-21\u001b[39m \u001b[90m[1]\u001b[39m \u001b[90mBioconductor\u001b[39m\n",
       " sessioninfo        1.2.2    \u001b[90m2021-12-06\u001b[39m \u001b[90m[1]\u001b[39m \u001b[90mCRAN (R 4.1.2)\u001b[39m\n",
       " testthat           3.1.2    \u001b[90m2022-01-20\u001b[39m \u001b[90m[1]\u001b[39m \u001b[90mCRAN (R 4.1.2)\u001b[39m\n",
       " tibble             3.1.6    \u001b[90m2021-11-07\u001b[39m \u001b[90m[1]\u001b[39m \u001b[90mCRAN (R 4.1.2)\u001b[39m\n",
       " tidyselect         1.1.1    \u001b[90m2021-04-30\u001b[39m \u001b[90m[1]\u001b[39m \u001b[90mCRAN (R 4.1.2)\u001b[39m\n",
       " usethis          * 2.1.5    \u001b[90m2021-12-09\u001b[39m \u001b[90m[1]\u001b[39m \u001b[90mCRAN (R 4.1.2)\u001b[39m\n",
       " utf8               1.2.2    \u001b[90m2021-07-24\u001b[39m \u001b[90m[1]\u001b[39m \u001b[90mCRAN (R 4.1.2)\u001b[39m\n",
       " uuid               1.0-3    \u001b[90m2021-11-01\u001b[39m \u001b[90m[1]\u001b[39m \u001b[90mCRAN (R 4.1.2)\u001b[39m\n",
       " vctrs              0.3.8    \u001b[90m2021-04-29\u001b[39m \u001b[90m[1]\u001b[39m \u001b[90mCRAN (R 4.1.2)\u001b[39m\n",
       " withr              2.4.3    \u001b[90m2021-11-30\u001b[39m \u001b[90m[1]\u001b[39m \u001b[90mCRAN (R 4.1.2)\u001b[39m\n",
       " XVector            0.34.0   \u001b[90m2021-10-26\u001b[39m \u001b[90m[1]\u001b[39m \u001b[90mBioconductor\u001b[39m\n",
       " zlibbioc           1.40.0   \u001b[90m2021-10-26\u001b[39m \u001b[90m[1]\u001b[39m \u001b[90mBioconductor\u001b[39m\n",
       "\n",
       "\u001b[90m [1] C:/Users/etuca/OneDrive/Documents/R/win-library/4.1\u001b[39m\n",
       "\u001b[90m [2] C:/Users/etuca/.conda/envs/rbase/Lib/R/library\u001b[39m\n",
       "\n",
       "\u001b[1m\u001b[36m------------------------------------------------------------------------------\u001b[39m\u001b[22m"
      ]
     },
     "metadata": {},
     "output_type": "display_data"
    }
   ],
   "source": [
    "devtools::session_info()"
   ]
  },
  {
   "cell_type": "code",
   "execution_count": null,
   "metadata": {},
   "outputs": [],
   "source": []
  }
 ],
 "metadata": {
  "kernelspec": {
   "display_name": "R",
   "language": "R",
   "name": "python397jvsc74a57bd0d6bc797ca6257d39e165523fa60779612b2f1c534658e3244fce042889d023e7"
  },
  "language_info": {
   "codemirror_mode": "r",
   "file_extension": ".r",
   "mimetype": "text/x-r-source",
   "name": "R",
   "pygments_lexer": "r",
   "version": "4.1.0"
  },
  "orig_nbformat": 4
 },
 "nbformat": 4,
 "nbformat_minor": 2
}
