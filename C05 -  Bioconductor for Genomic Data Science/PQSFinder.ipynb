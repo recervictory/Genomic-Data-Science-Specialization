{
 "cells": [
  {
   "cell_type": "markdown",
   "metadata": {},
   "source": [
    "### Installation"
   ]
  },
  {
   "cell_type": "code",
   "execution_count": null,
   "metadata": {},
   "outputs": [
    {
     "ename": "",
     "evalue": "",
     "output_type": "error",
     "traceback": [
      "\u001b[1;31mUnable to start Kernel 'R' due to connection timeout. \n",
      "View Jupyter <a href='command:jupyter.viewOutput'>log</a> for further details."
     ]
    }
   ],
   "source": [
    "if (!requireNamespace(\"BiocManager\", quietly = TRUE))\n",
    "    install.packages(\"BiocManager\")\n",
    "\n",
    "BiocManager::install(\"pqsfinder\")\n",
    "BiocManager::install(\"Gviz\")\n",
    "BiocManager::install(\"BSgenome\")\n",
    "BiocManager::install(\"BSgenome.Hsapiens.UCSC.hg38\")"
   ]
  },
  {
   "cell_type": "markdown",
   "metadata": {},
   "source": [
    "###  Documntation"
   ]
  },
  {
   "cell_type": "code",
   "execution_count": 7,
   "metadata": {},
   "outputs": [],
   "source": [
    "browseVignettes(\"pqsfinder\")"
   ]
  },
  {
   "cell_type": "code",
   "execution_count": 9,
   "metadata": {},
   "outputs": [],
   "source": [
    "library(pqsfinder)"
   ]
  },
  {
   "cell_type": "code",
   "execution_count": 8,
   "metadata": {},
   "outputs": [
    {
     "data": {
      "text/plain": [
       "  PQS views on a 59-letter DNAString subject\n",
       "subject: TTTTGGGCGGGAGGAGTGGAGTTTTTAACCCCAAAAATTTGGGAGGGTGGGTGGGAGAA\n",
       "quadruplexes:\n",
       "    start width score strand nt nb nm\n",
       "[1]     5    17    33      +  3  2  0 [GGGCGGGAGGAGTGGAG]\n",
       "[2]    41    15    73      +  3  0  0 [GGGAGGGTGGGTGGG]"
      ]
     },
     "metadata": {},
     "output_type": "display_data"
    }
   ],
   "source": [
    "seq <- DNAString(\"TTTTGGGCGGGAGGAGTGGAGTTTTTAACCCCAAAAATTTGGGAGGGTGGGTGGGAGAA\")\n",
    "pqs <- pqsfinder(seq, min_score = 20)\n",
    "pqs"
   ]
  },
  {
   "cell_type": "code",
   "execution_count": 12,
   "metadata": {},
   "outputs": [
    {
     "data": {
      "text/html": [
       "<style>\n",
       ".list-inline {list-style: none; margin:0; padding: 0}\n",
       ".list-inline>li {display: inline-block}\n",
       ".list-inline>li:not(:last-child)::after {content: \"\\00b7\"; padding: 0 .5ex}\n",
       "</style>\n",
       "<ol class=list-inline><li>0</li><li>0</li><li>0</li><li>0</li><li>38</li><li>42</li><li>43</li><li>43</li><li>71</li><li>81</li><li>86</li><li>86</li><li>99</li><li>103</li><li>103</li><li>107</li><li>107</li><li>111</li><li>112</li><li>108</li><li>108</li><li>104</li><li>104</li><li>104</li><li>104</li><li>104</li><li>104</li><li>104</li><li>104</li><li>104</li><li>104</li><li>104</li><li>104</li><li>104</li><li>104</li><li>104</li><li>104</li><li>104</li><li>104</li><li>104</li><li>124</li><li>132</li><li>132</li><li>125</li><li>125</li><li>125</li><li>125</li><li>101</li><li>101</li><li>101</li><li>101</li><li>63</li><li>63</li><li>63</li><li>55</li><li>11</li><li>11</li><li>0</li><li>0</li></ol>\n"
      ],
      "text/latex": [
       "\\begin{enumerate*}\n",
       "\\item 0\n",
       "\\item 0\n",
       "\\item 0\n",
       "\\item 0\n",
       "\\item 38\n",
       "\\item 42\n",
       "\\item 43\n",
       "\\item 43\n",
       "\\item 71\n",
       "\\item 81\n",
       "\\item 86\n",
       "\\item 86\n",
       "\\item 99\n",
       "\\item 103\n",
       "\\item 103\n",
       "\\item 107\n",
       "\\item 107\n",
       "\\item 111\n",
       "\\item 112\n",
       "\\item 108\n",
       "\\item 108\n",
       "\\item 104\n",
       "\\item 104\n",
       "\\item 104\n",
       "\\item 104\n",
       "\\item 104\n",
       "\\item 104\n",
       "\\item 104\n",
       "\\item 104\n",
       "\\item 104\n",
       "\\item 104\n",
       "\\item 104\n",
       "\\item 104\n",
       "\\item 104\n",
       "\\item 104\n",
       "\\item 104\n",
       "\\item 104\n",
       "\\item 104\n",
       "\\item 104\n",
       "\\item 104\n",
       "\\item 124\n",
       "\\item 132\n",
       "\\item 132\n",
       "\\item 125\n",
       "\\item 125\n",
       "\\item 125\n",
       "\\item 125\n",
       "\\item 101\n",
       "\\item 101\n",
       "\\item 101\n",
       "\\item 101\n",
       "\\item 63\n",
       "\\item 63\n",
       "\\item 63\n",
       "\\item 55\n",
       "\\item 11\n",
       "\\item 11\n",
       "\\item 0\n",
       "\\item 0\n",
       "\\end{enumerate*}\n"
      ],
      "text/markdown": [
       "1. 0\n",
       "2. 0\n",
       "3. 0\n",
       "4. 0\n",
       "5. 38\n",
       "6. 42\n",
       "7. 43\n",
       "8. 43\n",
       "9. 71\n",
       "10. 81\n",
       "11. 86\n",
       "12. 86\n",
       "13. 99\n",
       "14. 103\n",
       "15. 103\n",
       "16. 107\n",
       "17. 107\n",
       "18. 111\n",
       "19. 112\n",
       "20. 108\n",
       "21. 108\n",
       "22. 104\n",
       "23. 104\n",
       "24. 104\n",
       "25. 104\n",
       "26. 104\n",
       "27. 104\n",
       "28. 104\n",
       "29. 104\n",
       "30. 104\n",
       "31. 104\n",
       "32. 104\n",
       "33. 104\n",
       "34. 104\n",
       "35. 104\n",
       "36. 104\n",
       "37. 104\n",
       "38. 104\n",
       "39. 104\n",
       "40. 104\n",
       "41. 124\n",
       "42. 132\n",
       "43. 132\n",
       "44. 125\n",
       "45. 125\n",
       "46. 125\n",
       "47. 125\n",
       "48. 101\n",
       "49. 101\n",
       "50. 101\n",
       "51. 101\n",
       "52. 63\n",
       "53. 63\n",
       "54. 63\n",
       "55. 55\n",
       "56. 11\n",
       "57. 11\n",
       "58. 0\n",
       "59. 0\n",
       "\n",
       "\n"
      ],
      "text/plain": [
       " [1]   0   0   0   0  38  42  43  43  71  81  86  86  99 103 103 107 107 111 112\n",
       "[20] 108 108 104 104 104 104 104 104 104 104 104 104 104 104 104 104 104 104 104\n",
       "[39] 104 104 124 132 132 125 125 125 125 101 101 101 101  63  63  63  55  11  11\n",
       "[58]   0   0"
      ]
     },
     "metadata": {},
     "output_type": "display_data"
    }
   ],
   "source": [
    "pqs <- pqsfinder(seq, deep = TRUE, min_score = 20)\n",
    "density(pqs)"
   ]
  },
  {
   "cell_type": "code",
   "execution_count": 13,
   "metadata": {},
   "outputs": [
    {
     "name": "stderr",
     "output_type": "stream",
     "text": [
      "Loading required package: GenomicRanges\n",
      "\n",
      "Loading required package: grid\n",
      "\n",
      "\n",
      "Attaching package: 'grid'\n",
      "\n",
      "\n",
      "The following object is masked from 'package:Biostrings':\n",
      "\n",
      "    pattern\n",
      "\n",
      "\n"
     ]
    },
    {
     "data": {
      "image/png": "[encoded data removed]",
      "text/plain": [
       "plot without title"
      ]
     },
     "metadata": {
      "image/png": {
       "height": 420,
       "width": 420
      }
     },
     "output_type": "display_data"
    }
   ],
   "source": [
    "library(Gviz)\n",
    "ss <- DNAStringSet(seq)\n",
    "names(ss) <- \"chr1\"\n",
    "dtrack <- DataTrack(\n",
    "  start = 1:length(density(pqs)), width = 1, data = density(pqs),\n",
    "  chromosome = \"chr1\", genome = \"\", name = \"density\")\n",
    "strack <- SequenceTrack(ss, chromosome = \"chr1\", name = \"sequence\")\n",
    "suppressWarnings(plotTracks(c(dtrack, strack), type = \"h\"))"
   ]
  },
  {
   "cell_type": "code",
   "execution_count": 17,
   "metadata": {},
   "outputs": [
    {
     "name": "stderr",
     "output_type": "stream",
     "text": [
      "Loading required package: BSgenome\n",
      "\n",
      "Loading required package: rtracklayer\n",
      "\n"
     ]
    }
   ],
   "source": [
    "library(pqsfinder)\n",
    "library(BSgenome.Hsapiens.UCSC.hg38)\n",
    "library(rtracklayer)\n",
    "library(ggplot2)\n",
    "library(Gviz)"
   ]
  },
  {
   "cell_type": "code",
   "execution_count": 18,
   "metadata": {},
   "outputs": [],
   "source": [
    "gnm <- \"hg38\"\n",
    "gene <- \"AHNAK\"\n",
    "# Load cached AHNAK region track:\n",
    "load(system.file(\"extdata\", \"gtrack_ahnak.RData\", package=\"pqsfinder\"))\n",
    "# Alternatively, query biomaRt API with the following commands:\n",
    "# library(biomaRt)\n",
    "# gtrack <- BiomartGeneRegionTrack(genome = gnm, symbol = gene, name = gene)"
   ]
  },
  {
   "cell_type": "code",
   "execution_count": 19,
   "metadata": {},
   "outputs": [],
   "source": [
    "extend <- 1000\n",
    "seq_start <- min(start(gtrack)) - extend\n",
    "seq_end <- max(end(gtrack)) + extend\n",
    "chr <- chromosome(gtrack)\n",
    "seq <- Hsapiens[[chr]][seq_start:seq_end]"
   ]
  },
  {
   "cell_type": "code",
   "execution_count": 20,
   "metadata": {},
   "outputs": [],
   "source": [
    "pqs <- pqsfinder(seq, deep = TRUE)"
   ]
  },
  {
   "cell_type": "code",
   "execution_count": 21,
   "metadata": {},
   "outputs": [
    {
     "data": {
      "text/plain": [
       "  PQS views on a 124694-letter DNAString subject\n",
       "subject: GCGGGTGTCTGTAATCCCAGCTACTTGGGAGGCT...CAATGCACCAGCTGCACCTAGCATTTTCAGATCC\n",
       "quadruplexes:\n",
       "       start width score strand nt nb nm\n",
       "  [1]    778    29    85      +  4  1  0 [GGGGAGGGGGAGCAAGGGGTGTAAGAGGG]\n",
       "  [2]   1071    39    71      -  5  2  1 [CCCCCTCTAGTCCCAAA...GCCCACACTCTGTCCCC]\n",
       "  [3]   1846    29    54      -  3  0  0 [CCCTTCACCTTCCCTCCCTGTCGTCTCCC]\n",
       "  [4]   1912    32    60      -  4  2  0 [CCTCCTCCCCGAGTCACACCCAACTCATCCCC]\n",
       "  [5]   2958    34    50      -  4  3  0 [CCCCCGGGGTTCCCGCCATTCTCCTGCCTCAGCC]\n",
       "  [6]   4531    42    58      -  4  2  0 [CCCCAAAACGTTCCCTC...TCCCAATCCATATCCCC]\n",
       "  [7]   5111    21    64      -  3  0  0 [CCCAGCCCAAATCCCTTACCC]\n",
       "  [8]   7613    33    52      +  4  3  0 [GGGCCCTGAGGGAAAAGTGAGGGGGTGGCCGGG]\n",
       "  [9]   7877    20    52      -  3  1  0 [CCCTCCCAGCCACGAGCCCC]\n",
       "  ...    ...   ...   ...    ... ... ... ...\n",
       "[184] 123115    33    51      -  4  1  1 [CCCCTCCCTTCAACATTCTAGGCTTCCCCCACC]\n",
       "[185] 123174    27    56      +  3  0  0 [GGGCATGTGGGCAGCTGGTGGGATGGG]\n",
       "[186] 123462    26    58      -  4  1  1 [CAGCCCTGAGCCCCGACCCCTTCTCC]\n",
       "[187] 123604    46    64      -  4  1  0 [CCCCTGATCCATTCAAA...TTTCTGCTCCTCACCCC]\n",
       "[188] 123830    26    47      +  3  1  0 [GGAGAGCCCAGCGGGGATGGGAAGGG]\n",
       "[189] 123891    18    52      +  3  1  0 [GGGCAGGGCGGGGGACAG]\n",
       "[190] 123977    44    74      -  5  3  0 [CTCCCCTACCCACCACA...CCTTGCATCCCACCCCC]\n",
       "[191] 124288    30    72      -  5  1  2 [CCCATGGCCCACCCAGAACCCCCGACCCAC]\n",
       "[192] 124618    17    53      -  3  1  0 [CAGCCATCCCCCCACCC]"
      ]
     },
     "metadata": {},
     "output_type": "display_data"
    }
   ],
   "source": [
    "pqs"
   ]
  },
  {
   "cell_type": "code",
   "execution_count": 22,
   "metadata": {},
   "outputs": [
    {
     "data": {
      "text/plain": [
       "  PQS views on a 124694-letter DNAString subject\n",
       "subject: GCGGGTGTCTGTAATCCCAGCTACTTGGGAGGCT...CAATGCACCAGCTGCACCTAGCATTTTCAGATCC\n",
       "quadruplexes:\n",
       "       start width score strand nt nb nm\n",
       "  [1] 114398    42   125      +  6  3  0 [GGGACCCGGGAGTGGGC...AGGGGGGCCGCTGGGGG]\n",
       "  [2] 103330    36   118      -  6  2  1 [CCCTGCCCTTCCCTCCAACACCCCCACCGACCCCCC]\n",
       "  [3]  73196    37   115      -  5  1  0 [CCCCCGACACACCTCCCCCTACTCTCCACCCGCCCCC]\n",
       "  [4] 113317    47   113      +  6  3  0 [GGGAGTTGGGCGGGGGG...CGGAGGGGAAGGGGCGG]\n",
       "  [5] 109892    24   106      -  4  0  0 [CCCCTCCCCATCACCCCCTTCCCC]\n",
       "  [6] 114459    36   104      -  5  2  0 [CCCCCTCCCCGCATCCACTGCCCCCTGTCCTGTCCC]\n",
       "  [7]  72215    27   101      -  4  0  0 [CCCCTGCCCCACCCCCTACCCTGCCCC]\n",
       "  [8] 111482    29    99      -  4  0  0 [CCCCAGAGCCCCACACACCCCTCCGCCCC]\n",
       "  [9]  29660    28    94      -  5  3  0 [CCCCCACCCCAACGCCCACCCTCCACCC]\n",
       "  ...    ...   ...   ...    ... ... ... ...\n",
       "[184] 114017    35    48      -  4  3  0 [CCCCAACAACGCGCCCTGCCGGAGCACCGCAACCC]\n",
       "[185] 121116    46    48      -  4  2  0 [CTGTGCCCGCCCCAGGA...CATCTGACCCTGGCCCC]\n",
       "[186]   8193    34    47      -  4  1  1 [CATCCCAGCCCCGTCTCCACAAAGGCAGATCCCC]\n",
       "[187]  15962    37    47      +  4  3  0 [GGGGATGTGAGGGCTGAGGAAGAGGGAGGCATTGAGG]\n",
       "[188]  22278    26    47      -  4  0  2 [CCCCATGTCTGCTCCAGCCCCTCCTC]\n",
       "[189]  59036    33    47      +  4  3  0 [GGCCCAGGAGAAAGAGGGGCTGGGCTCCTGGGG]\n",
       "[190] 109797    20    47      -  3  1  0 [CTCCTCCCTGCTCCCTGCCC]\n",
       "[191] 115193    26    47      -  3  1  0 [CCCTCCTAGGTGGCCACCCACTGCCC]\n",
       "[192] 123830    26    47      +  3  1  0 [GGAGAGCCCAGCGGGGATGGGAAGGG]"
      ]
     },
     "metadata": {},
     "output_type": "display_data"
    }
   ],
   "source": [
    "pqs_s <- pqs[order(score(pqs), decreasing = TRUE)]\n",
    "pqs_s"
   ]
  },
  {
   "cell_type": "code",
   "execution_count": 23,
   "metadata": {},
   "outputs": [
    {
     "data": {
      "image/png": "[encoded data removed]",
      "text/plain": [
       "plot without title"
      ]
     },
     "metadata": {
      "image/png": {
       "height": 420,
       "width": 420
      }
     },
     "output_type": "display_data"
    }
   ],
   "source": [
    "sf <- data.frame(score = score(pqs))\n",
    "ggplot(sf) + geom_histogram(mapping = aes(x = score), binwidth = 5)"
   ]
  },
  {
   "cell_type": "code",
   "execution_count": 24,
   "metadata": {},
   "outputs": [
    {
     "data": {
      "image/png": "[encoded data removed]",
      "text/plain": [
       "plot without title"
      ]
     },
     "metadata": {
      "image/png": {
       "height": 420,
       "width": 420
      }
     },
     "output_type": "display_data"
    }
   ],
   "source": [
    "strack <- DataTrack(\n",
    "  start = start(pqs)+seq_start, end = end(pqs)+seq_start,\n",
    "  data = score(pqs), chromosome = chr, genome = gnm, name = \"score\")\n",
    "dtrack <- DataTrack(\n",
    "  start = (seq_start):(seq_start+length(density(pqs))-1), width = 1,\n",
    "  data = density(pqs), chromosome = chr, genome = gnm,\n",
    "  name = \"density\")\n",
    "atrack <- GenomeAxisTrack()\n",
    "suppressWarnings(plotTracks(c(gtrack, strack, dtrack, atrack), type = \"h\"))\n"
   ]
  },
  {
   "cell_type": "code",
   "execution_count": null,
   "metadata": {},
   "outputs": [],
   "source": []
  }
 ],
 "metadata": {
  "kernelspec": {
   "display_name": "R",
   "language": "R",
   "name": "ir"
  },
  "language_info": {
   "codemirror_mode": "r",
   "file_extension": ".r",
   "mimetype": "text/x-r-source",
   "name": "R",
   "pygments_lexer": "r",
   "version": "4.1.2"
  },
  "orig_nbformat": 4
 },
 "nbformat": 4,
 "nbformat_minor": 2
}
