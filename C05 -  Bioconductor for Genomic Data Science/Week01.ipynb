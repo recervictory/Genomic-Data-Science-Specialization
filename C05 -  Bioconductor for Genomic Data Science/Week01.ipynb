{
 "cells": [
  {
   "cell_type": "markdown",
   "metadata": {},
   "source": [
    "# Week 01: GenomicRanges - Basic GRanges Usage"
   ]
  },
  {
   "cell_type": "markdown",
   "metadata": {},
   "source": [
    "## 01. IRanges - Basic Usage\n"
   ]
  },
  {
   "cell_type": "markdown",
   "metadata": {},
   "source": [
    "### Overview\n",
    "A surprising amount of objects/tasks in computational biology can be formulated in terms of integer intervals, manipulation of integer intervals and overlap of integer intervals.\n",
    "\n",
    "Objects: A transcript (a union of integer intervals), a collection of SNPs (intervals of width 1), transcription factor binding sites, a collection of aligned short reads.\n",
    "\n",
    "Tasks: Which transcription factor binding sites hit the promoter of genes (overlap between two sets of intervals), which SNPs hit a collection of exons, which short reads hit a predetermined set of exons.\n",
    "\n",
    "IRanges are collections of integer intervals. GRanges are like IRanges, but with an associated chromosome and strand, taking care of some book keeping.\n",
    "\n",
    "Here we discuss IRanges, which provides the foundation for GRanges. This package implements (amongst other things) an algebra for handling integer intervals.\n",
    "\n"
   ]
  },
  {
   "cell_type": "markdown",
   "metadata": {},
   "source": [
    "### Dependencies"
   ]
  },
  {
   "cell_type": "code",
   "execution_count": 2,
   "metadata": {},
   "outputs": [],
   "source": [
    "# This document has the following dependencies:\n",
    "# BiocManager::install(\"IRanges\")\n",
    "library(IRanges)"
   ]
  },
  {
   "cell_type": "code",
   "execution_count": 19,
   "metadata": {},
   "outputs": [],
   "source": [
    "## Plot Iranges\n",
    "plotRanges <- function(x, xlim = x, main = deparse(substitute(x)),\n",
    "                       col = \"black\", sep = 0.5, ...) {\n",
    "    opar <- par(mar = c(5,1,1.5,1))\n",
    "    on.exit(par(opar))\n",
    "    height <- 1\n",
    "    if (is(xlim, \"Ranges\"))\n",
    "        xlim <- c(min(start(xlim)), max(end(xlim)))\n",
    "    bins <- disjointBins(IRanges(start(x), end(x) + 1))\n",
    "    plot.new()\n",
    "    plot.window(xlim, c(0, max(bins)*(height + sep)))\n",
    "    ybottom <- bins * (sep + height) - height\n",
    "    rect(start(x)-0.5, ybottom, end(x)+0.5, ybottom + height, col = col, ...)\n",
    "    title(main)\n",
    "    axis(1)\n",
    "}"
   ]
  },
  {
   "cell_type": "markdown",
   "metadata": {},
   "source": [
    "### Basic IRanges"
   ]
  },
  {
   "cell_type": "code",
   "execution_count": 3,
   "metadata": {},
   "outputs": [
    {
     "data": {
      "text/plain": [
       "IRanges object with 3 ranges and 0 metadata columns:\n",
       "          start       end     width\n",
       "      <integer> <integer> <integer>\n",
       "  [1]         1         3         3\n",
       "  [2]         3         5         3\n",
       "  [3]         5         7         3"
      ]
     },
     "metadata": {},
     "output_type": "display_data"
    }
   ],
   "source": [
    "# Specify IRanges by 2 of start, end, width (SEW).\n",
    "ir1 <- IRanges(start = c(1,3,5), end = c(3,5,7))\n",
    "ir1"
   ]
  },
  {
   "cell_type": "code",
   "execution_count": 4,
   "metadata": {},
   "outputs": [
    {
     "data": {
      "text/html": [
       "TRUE"
      ],
      "text/latex": [
       "TRUE"
      ],
      "text/markdown": [
       "TRUE"
      ],
      "text/plain": [
       "[1] TRUE"
      ]
     },
     "metadata": {},
     "output_type": "display_data"
    }
   ],
   "source": [
    "ir2 <- IRanges(start = c(1,3,5), width = 3)\n",
    "all.equal(ir1, ir2)"
   ]
  },
  {
   "cell_type": "markdown",
   "metadata": {},
   "source": [
    "An **IRanges** consist of separate intervals; each interval is called a `range`. So ir1 above contains 3 ranges.\n",
    "\n",
    "Assessor methods: `start()`, `end()`, `width()` and also replacement methods."
   ]
  },
  {
   "cell_type": "code",
   "execution_count": 5,
   "metadata": {},
   "outputs": [
    {
     "data": {
      "text/html": [
       "<style>\n",
       ".list-inline {list-style: none; margin:0; padding: 0}\n",
       ".list-inline>li {display: inline-block}\n",
       ".list-inline>li:not(:last-child)::after {content: \"\\00b7\"; padding: 0 .5ex}\n",
       "</style>\n",
       "<ol class=list-inline><li>1</li><li>3</li><li>5</li></ol>\n"
      ],
      "text/latex": [
       "\\begin{enumerate*}\n",
       "\\item 1\n",
       "\\item 3\n",
       "\\item 5\n",
       "\\end{enumerate*}\n"
      ],
      "text/markdown": [
       "1. 1\n",
       "2. 3\n",
       "3. 5\n",
       "\n",
       "\n"
      ],
      "text/plain": [
       "[1] 1 3 5"
      ]
     },
     "metadata": {},
     "output_type": "display_data"
    }
   ],
   "source": [
    "start(ir1)"
   ]
  },
  {
   "cell_type": "code",
   "execution_count": 7,
   "metadata": {},
   "outputs": [
    {
     "data": {
      "text/plain": [
       "IRanges object with 3 ranges and 0 metadata columns:\n",
       "          start       end     width\n",
       "      <integer> <integer> <integer>\n",
       "  [1]         1         1         1\n",
       "  [2]         3         3         1\n",
       "  [3]         5         5         1"
      ]
     },
     "metadata": {},
     "output_type": "display_data"
    }
   ],
   "source": [
    "width(ir2) <- 1\n",
    "ir2"
   ]
  },
  {
   "cell_type": "code",
   "execution_count": 8,
   "metadata": {},
   "outputs": [
    {
     "data": {
      "text/plain": [
       "IRanges object with 3 ranges and 0 metadata columns:\n",
       "         start       end     width\n",
       "     <integer> <integer> <integer>\n",
       "  A1         1         3         3\n",
       "  A2         3         5         3\n",
       "  A3         5         7         3"
      ]
     },
     "metadata": {},
     "output_type": "display_data"
    }
   ],
   "source": [
    "# They may have names\n",
    "names(ir1) <- paste(\"A\", 1:3, sep = \"\")\n",
    "ir1"
   ]
  },
  {
   "cell_type": "code",
   "execution_count": 9,
   "metadata": {},
   "outputs": [
    {
     "data": {
      "text/plain": [
       "NULL"
      ]
     },
     "metadata": {},
     "output_type": "display_data"
    }
   ],
   "source": [
    "# They have a single dimension\n",
    "dim(ir1)"
   ]
  },
  {
   "cell_type": "code",
   "execution_count": 10,
   "metadata": {},
   "outputs": [
    {
     "data": {
      "text/html": [
       "3"
      ],
      "text/latex": [
       "3"
      ],
      "text/markdown": [
       "3"
      ],
      "text/plain": [
       "[1] 3"
      ]
     },
     "metadata": {},
     "output_type": "display_data"
    }
   ],
   "source": [
    "length(ir1)"
   ]
  },
  {
   "cell_type": "code",
   "execution_count": 11,
   "metadata": {},
   "outputs": [
    {
     "data": {
      "text/plain": [
       "IRanges object with 1 range and 0 metadata columns:\n",
       "         start       end     width\n",
       "     <integer> <integer> <integer>\n",
       "  A1         1         3         3"
      ]
     },
     "metadata": {},
     "output_type": "display_data"
    }
   ],
   "source": [
    "# Because of this, subsetting works like a vector\n",
    "ir1[1]"
   ]
  },
  {
   "cell_type": "code",
   "execution_count": 12,
   "metadata": {},
   "outputs": [
    {
     "data": {
      "text/plain": [
       "IRanges object with 1 range and 0 metadata columns:\n",
       "         start       end     width\n",
       "     <integer> <integer> <integer>\n",
       "  A1         1         3         3"
      ]
     },
     "metadata": {},
     "output_type": "display_data"
    }
   ],
   "source": [
    "ir1[\"A1\"]"
   ]
  },
  {
   "cell_type": "code",
   "execution_count": 13,
   "metadata": {},
   "outputs": [
    {
     "data": {
      "text/plain": [
       "IRanges object with 6 ranges and 0 metadata columns:\n",
       "         start       end     width\n",
       "     <integer> <integer> <integer>\n",
       "  A1         1         3         3\n",
       "  A2         3         5         3\n",
       "  A3         5         7         3\n",
       "             1         1         1\n",
       "             3         3         1\n",
       "             5         5         1"
      ]
     },
     "metadata": {},
     "output_type": "display_data"
    }
   ],
   "source": [
    "# Like vectors, you can concatenate two IRanges with the c() function\n",
    "c(ir1, ir2)"
   ]
  },
  {
   "cell_type": "markdown",
   "metadata": {},
   "source": [
    "### Normal IRanges"
   ]
  },
  {
   "cell_type": "markdown",
   "metadata": {},
   "source": [
    "A normal IRanges is a minimal representation of the IRanges viewed as a set. Each integer only occur in a single range and there are as few ranges as possible. In addition, it is ordered. Many functions produce a normal IRanges. Created by `reduce()`."
   ]
  },
  {
   "cell_type": "code",
   "execution_count": 20,
   "metadata": {},
   "outputs": [
    {
     "data": {
      "text/plain": [
       "IRanges object with 4 ranges and 0 metadata columns:\n",
       "          start       end     width\n",
       "      <integer> <integer> <integer>\n",
       "  [1]         1         4         4\n",
       "  [2]         3         4         2\n",
       "  [3]         7         8         2\n",
       "  [4]         9        10         2"
      ]
     },
     "metadata": {},
     "output_type": "display_data"
    }
   ],
   "source": [
    "ir <- IRanges(start = c(1,3,7,9), end = c(4,4,8,10))\n",
    "ir"
   ]
  },
  {
   "cell_type": "code",
   "execution_count": 21,
   "metadata": {},
   "outputs": [
    {
     "data": {
      "image/png": "[encoded data removed]",
      "text/plain": [
       "Plot with title \"ir\""
      ]
     },
     "metadata": {
      "image/png": {
       "height": 420,
       "width": 420
      }
     },
     "output_type": "display_data"
    }
   ],
   "source": [
    "plotRanges(ir)"
   ]
  },
  {
   "cell_type": "code",
   "execution_count": 16,
   "metadata": {},
   "outputs": [
    {
     "data": {
      "text/plain": [
       "IRanges object with 2 ranges and 0 metadata columns:\n",
       "          start       end     width\n",
       "      <integer> <integer> <integer>\n",
       "  [1]         1         4         4\n",
       "  [2]         7        10         4"
      ]
     },
     "metadata": {},
     "output_type": "display_data"
    }
   ],
   "source": [
    "reduce(ir)"
   ]
  },
  {
   "cell_type": "code",
   "execution_count": 22,
   "metadata": {},
   "outputs": [
    {
     "data": {
      "image/png": "[encoded data removed]",
      "text/plain": [
       "Plot with title \"reduce(ir)\""
      ]
     },
     "metadata": {
      "image/png": {
       "height": 420,
       "width": 420
      }
     },
     "output_type": "display_data"
    }
   ],
   "source": [
    "plotRanges(reduce(ir))"
   ]
  },
  {
   "cell_type": "markdown",
   "metadata": {},
   "source": [
    "From some perspective, `disjoin()` is the opposite of reduce(). An example explains better:"
   ]
  },
  {
   "cell_type": "code",
   "execution_count": 18,
   "metadata": {},
   "outputs": [
    {
     "data": {
      "text/plain": [
       "IRanges object with 3 ranges and 0 metadata columns:\n",
       "         start       end     width\n",
       "     <integer> <integer> <integer>\n",
       "  A1         1         3         3\n",
       "  A2         3         5         3\n",
       "  A3         5         7         3"
      ]
     },
     "metadata": {},
     "output_type": "display_data"
    }
   ],
   "source": [
    "ir1"
   ]
  },
  {
   "cell_type": "code",
   "execution_count": 23,
   "metadata": {},
   "outputs": [
    {
     "data": {
      "image/png": "[encoded data removed]",
      "text/plain": [
       "Plot with title \"ir1\""
      ]
     },
     "metadata": {
      "image/png": {
       "height": 420,
       "width": 420
      }
     },
     "output_type": "display_data"
    }
   ],
   "source": [
    "plotRanges(ir1)"
   ]
  },
  {
   "cell_type": "code",
   "execution_count": 17,
   "metadata": {},
   "outputs": [
    {
     "data": {
      "text/plain": [
       "IRanges object with 5 ranges and 0 metadata columns:\n",
       "          start       end     width\n",
       "      <integer> <integer> <integer>\n",
       "  [1]         1         2         2\n",
       "  [2]         3         3         1\n",
       "  [3]         4         4         1\n",
       "  [4]         5         5         1\n",
       "  [5]         6         7         2"
      ]
     },
     "metadata": {},
     "output_type": "display_data"
    }
   ],
   "source": [
    "disjoin(ir1)"
   ]
  },
  {
   "cell_type": "code",
   "execution_count": 24,
   "metadata": {},
   "outputs": [
    {
     "data": {
      "image/png": "[encoded data removed]",
      "text/plain": [
       "Plot with title \"disjoin(ir1)\""
      ]
     },
     "metadata": {
      "image/png": {
       "height": 420,
       "width": 420
      }
     },
     "output_type": "display_data"
    }
   ],
   "source": [
    "plotRanges(disjoin(ir1))"
   ]
  },
  {
   "cell_type": "markdown",
   "metadata": {},
   "source": [
    "### Manipulating IRanges, intra-range\n",
    "“Intra-range” manipulations are manipulations where each original range gets mapped to a new range.\n",
    "\n",
    "Examples of these are: `shift()`, `narrow()`, `flank()`, `resize()`, `restrict()`.\n",
    "\n",
    "For example, `resize()` can be extremely useful. It has a fix argument controlling where the resizing occurs from. Use fix=\"center\" to resize around the center of the ranges; I use this a lot."
   ]
  },
  {
   "cell_type": "code",
   "execution_count": 25,
   "metadata": {},
   "outputs": [
    {
     "data": {
      "text/plain": [
       "IRanges object with 4 ranges and 0 metadata columns:\n",
       "          start       end     width\n",
       "      <integer> <integer> <integer>\n",
       "  [1]         1         1         1\n",
       "  [2]         3         3         1\n",
       "  [3]         7         7         1\n",
       "  [4]         9         9         1"
      ]
     },
     "metadata": {},
     "output_type": "display_data"
    }
   ],
   "source": [
    "resize(ir, width = 1, fix = \"start\")"
   ]
  },
  {
   "cell_type": "code",
   "execution_count": 26,
   "metadata": {},
   "outputs": [
    {
     "data": {
      "image/png": "[encoded data removed]",
      "text/plain": [
       "Plot with title \"resize(ir, width = 1, fix = \"start\")\""
      ]
     },
     "metadata": {
      "image/png": {
       "height": 420,
       "width": 420
      }
     },
     "output_type": "display_data"
    }
   ],
   "source": [
    "plotRanges(resize(ir, width = 1, fix = \"start\"))"
   ]
  },
  {
   "cell_type": "code",
   "execution_count": 27,
   "metadata": {},
   "outputs": [
    {
     "data": {
      "text/plain": [
       "IRanges object with 4 ranges and 0 metadata columns:\n",
       "          start       end     width\n",
       "      <integer> <integer> <integer>\n",
       "  [1]         2         2         1\n",
       "  [2]         3         3         1\n",
       "  [3]         7         7         1\n",
       "  [4]         9         9         1"
      ]
     },
     "metadata": {},
     "output_type": "display_data"
    }
   ],
   "source": [
    "resize(ir, width = 1, fix = \"center\")"
   ]
  },
  {
   "cell_type": "code",
   "execution_count": 28,
   "metadata": {},
   "outputs": [
    {
     "data": {
      "image/png": "[encoded data removed]",
      "text/plain": [
       "Plot with title \"resize(ir, width = 1, fix = \"center\")\""
      ]
     },
     "metadata": {
      "image/png": {
       "height": 420,
       "width": 420
      }
     },
     "output_type": "display_data"
    }
   ],
   "source": [
    "plotRanges(resize(ir, width = 1, fix = \"center\"))"
   ]
  },
  {
   "cell_type": "markdown",
   "metadata": {},
   "source": [
    "### Manipulating IRanges, as sets\n",
    "\n",
    "Manipulating IRanges as sets means that we view each IRanges as a set of integers; individual integers is either contained in one or more ranges or they are not. This is equivalent to calling reduce() on the IRanges first.\n",
    "\n",
    "Once this is done, we can use standard: `union()`, `intersect()`, `setdiff()`, `gaps()` between two IRanges (which all returns normalized IRanges)."
   ]
  },
  {
   "cell_type": "code",
   "execution_count": 29,
   "metadata": {},
   "outputs": [
    {
     "data": {
      "text/plain": [
       "IRanges object with 2 ranges and 0 metadata columns:\n",
       "          start       end     width\n",
       "      <integer> <integer> <integer>\n",
       "  [1]         1         1         1\n",
       "  [2]         3         6         4"
      ]
     },
     "metadata": {},
     "output_type": "display_data"
    }
   ],
   "source": [
    "ir1 <- IRanges(start = c(1, 3, 5), width = 1)\n",
    "ir2 <- IRanges(start = c(4, 5, 6), width = 1)\n",
    "union(ir1, ir2)"
   ]
  },
  {
   "cell_type": "code",
   "execution_count": 30,
   "metadata": {},
   "outputs": [
    {
     "data": {
      "text/plain": [
       "IRanges object with 1 range and 0 metadata columns:\n",
       "          start       end     width\n",
       "      <integer> <integer> <integer>\n",
       "  [1]         5         5         1"
      ]
     },
     "metadata": {},
     "output_type": "display_data"
    }
   ],
   "source": [
    "intersect(ir1, ir2)"
   ]
  },
  {
   "cell_type": "code",
   "execution_count": 31,
   "metadata": {},
   "outputs": [
    {
     "data": {
      "text/plain": [
       "IRanges object with 2 ranges and 0 metadata columns:\n",
       "          start       end     width\n",
       "      <integer> <integer> <integer>\n",
       "  [1]         1         1         1\n",
       "  [2]         3         6         4"
      ]
     },
     "metadata": {},
     "output_type": "display_data"
    }
   ],
   "source": [
    "# Because they return normalized IRanges, an alternative to union() is\n",
    "reduce(c(ir1, ir2))"
   ]
  },
  {
   "cell_type": "markdown",
   "metadata": {},
   "source": [
    "There is also an element-wise (pair-wise) version of these: punion(), pintersect(), psetdiff(), pgap(); this is similar to say pmax from base R. In my experience, these functions are seldom used."
   ]
  },
  {
   "cell_type": "markdown",
   "metadata": {},
   "source": [
    "### Finding Overlaps\n",
    "Finding (pairwise) overlaps between two IRanges is done by `findOverlaps()`. This function is very important and amazingly fast!"
   ]
  },
  {
   "cell_type": "code",
   "execution_count": 32,
   "metadata": {},
   "outputs": [
    {
     "data": {
      "text/plain": [
       "Hits object with 3 hits and 0 metadata columns:\n",
       "      queryHits subjectHits\n",
       "      <integer>   <integer>\n",
       "  [1]         1           1\n",
       "  [2]         2           1\n",
       "  [3]         2           2\n",
       "  -------\n",
       "  queryLength: 3 / subjectLength: 2"
      ]
     },
     "metadata": {},
     "output_type": "display_data"
    }
   ],
   "source": [
    "ir1 <- IRanges(start = c(1,4,8), end = c(3,7,10))\n",
    "ir2 <- IRanges(start = c(3,4), width = 3)\n",
    "ov <- findOverlaps(ir1, ir2)\n",
    "ov"
   ]
  },
  {
   "cell_type": "markdown",
   "metadata": {},
   "source": [
    "It returns a Hits object which describes the relationship between the two IRanges. This object is basically a two-column matrix of indicies into the two IRanges.\n",
    "\n",
    "The two columns of the hits object can be accessed by `queryHits()` and `subjectHits()` (often used with unique()).\n",
    "\n",
    "For example, the first row of the matrix describes that the first range of ir1 overlaps with the first range of ir2. Or said differently, they have a non-empty intersection:"
   ]
  },
  {
   "cell_type": "code",
   "execution_count": 33,
   "metadata": {},
   "outputs": [
    {
     "data": {
      "text/plain": [
       "IRanges object with 0 ranges and 0 metadata columns:\n",
       "       start       end     width\n",
       "   <integer> <integer> <integer>"
      ]
     },
     "metadata": {},
     "output_type": "display_data"
    }
   ],
   "source": [
    "intersect(ir1[subjectHits(ov)[1]],\n",
    "          ir2[queryHits(ov)[2]])"
   ]
  },
  {
   "cell_type": "markdown",
   "metadata": {},
   "source": [
    "The elements of `unique(queryHits)` gives you the indices of the query ranges which actually had an overlap; you need unique because a query range may overlap multiple subject range"
   ]
  },
  {
   "cell_type": "code",
   "execution_count": 34,
   "metadata": {},
   "outputs": [
    {
     "data": {
      "text/html": [
       "<style>\n",
       ".list-inline {list-style: none; margin:0; padding: 0}\n",
       ".list-inline>li {display: inline-block}\n",
       ".list-inline>li:not(:last-child)::after {content: \"\\00b7\"; padding: 0 .5ex}\n",
       "</style>\n",
       "<ol class=list-inline><li>1</li><li>2</li><li>2</li></ol>\n"
      ],
      "text/latex": [
       "\\begin{enumerate*}\n",
       "\\item 1\n",
       "\\item 2\n",
       "\\item 2\n",
       "\\end{enumerate*}\n"
      ],
      "text/markdown": [
       "1. 1\n",
       "2. 2\n",
       "3. 2\n",
       "\n",
       "\n"
      ],
      "text/plain": [
       "[1] 1 2 2"
      ]
     },
     "metadata": {},
     "output_type": "display_data"
    }
   ],
   "source": [
    "queryHits(ov)"
   ]
  },
  {
   "cell_type": "code",
   "execution_count": 35,
   "metadata": {},
   "outputs": [
    {
     "data": {
      "text/html": [
       "<style>\n",
       ".list-inline {list-style: none; margin:0; padding: 0}\n",
       ".list-inline>li {display: inline-block}\n",
       ".list-inline>li:not(:last-child)::after {content: \"\\00b7\"; padding: 0 .5ex}\n",
       "</style>\n",
       "<ol class=list-inline><li>1</li><li>2</li></ol>\n"
      ],
      "text/latex": [
       "\\begin{enumerate*}\n",
       "\\item 1\n",
       "\\item 2\n",
       "\\end{enumerate*}\n"
      ],
      "text/markdown": [
       "1. 1\n",
       "2. 2\n",
       "\n",
       "\n"
      ],
      "text/plain": [
       "[1] 1 2"
      ]
     },
     "metadata": {},
     "output_type": "display_data"
    }
   ],
   "source": [
    "unique(queryHits(ov))"
   ]
  },
  {
   "cell_type": "markdown",
   "metadata": {},
   "source": [
    "*The list of arguments to `findOverlaps()` is long; there are a few hidden treasures here. For example, you can ask to only get an overlap if two ranges overlap by a certain number of bases.*"
   ]
  },
  {
   "cell_type": "code",
   "execution_count": 36,
   "metadata": {},
   "outputs": [
    {
     "data": {
      "text/html": [
       "<pre class=language-r><code>function (query, subject, maxgap = -1L, minoverlap = 0L, type = c(\"any\", \n",
       "<span style=white-space:pre-wrap>    \"start\", \"end\", \"within\", \"equal\"), select = c(\"all\", \"first\", </span>\n",
       "<span style=white-space:pre-wrap>    \"last\", \"arbitrary\"), ...) </span>\n",
       "NULL</code></pre>"
      ],
      "text/latex": [
       "\\begin{minted}{r}\n",
       "function (query, subject, maxgap = -1L, minoverlap = 0L, type = c(\"any\", \n",
       "    \"start\", \"end\", \"within\", \"equal\"), select = c(\"all\", \"first\", \n",
       "    \"last\", \"arbitrary\"), ...) \n",
       "NULL\n",
       "\\end{minted}"
      ],
      "text/markdown": [
       "```r\n",
       "function (query, subject, maxgap = -1L, minoverlap = 0L, type = c(\"any\", \n",
       "    \"start\", \"end\", \"within\", \"equal\"), select = c(\"all\", \"first\", \n",
       "    \"last\", \"arbitrary\"), ...) \n",
       "NULL\n",
       "```"
      ],
      "text/plain": [
       "function (query, subject, maxgap = -1L, minoverlap = 0L, type = c(\"any\", \n",
       "    \"start\", \"end\", \"within\", \"equal\"), select = c(\"all\", \"first\", \n",
       "    \"last\", \"arbitrary\"), ...) \n",
       "NULL"
      ]
     },
     "metadata": {},
     "output_type": "display_data"
    }
   ],
   "source": [
    "args(findOverlaps)"
   ]
  },
  {
   "cell_type": "markdown",
   "metadata": {},
   "source": [
    "### countOverlaps\n",
    "For efficiency, there is also countOverlaps(), which just returns the number of overlaps. This function is faster and takes up less memory because it does not have to keep track of which ranges overlap, just the number of overlaps."
   ]
  },
  {
   "cell_type": "code",
   "execution_count": 37,
   "metadata": {},
   "outputs": [
    {
     "data": {
      "text/html": [
       "<style>\n",
       ".list-inline {list-style: none; margin:0; padding: 0}\n",
       ".list-inline>li {display: inline-block}\n",
       ".list-inline>li:not(:last-child)::after {content: \"\\00b7\"; padding: 0 .5ex}\n",
       "</style>\n",
       "<ol class=list-inline><li>1</li><li>2</li><li>0</li></ol>\n"
      ],
      "text/latex": [
       "\\begin{enumerate*}\n",
       "\\item 1\n",
       "\\item 2\n",
       "\\item 0\n",
       "\\end{enumerate*}\n"
      ],
      "text/markdown": [
       "1. 1\n",
       "2. 2\n",
       "3. 0\n",
       "\n",
       "\n"
      ],
      "text/plain": [
       "[1] 1 2 0"
      ]
     },
     "metadata": {},
     "output_type": "display_data"
    }
   ],
   "source": [
    "countOverlaps(ir1, ir2)"
   ]
  },
  {
   "cell_type": "markdown",
   "metadata": {},
   "source": [
    "### Finding nearest IRanges\n",
    "Sometimes you have two sets of IRanges and you need to know which ones are closest to each other. Functions for this include `nearest()`, `precede()`, `follow()`. Watch out for ties!"
   ]
  },
  {
   "cell_type": "code",
   "execution_count": 38,
   "metadata": {},
   "outputs": [
    {
     "data": {
      "text/plain": [
       "IRanges object with 3 ranges and 0 metadata columns:\n",
       "          start       end     width\n",
       "      <integer> <integer> <integer>\n",
       "  [1]         1         3         3\n",
       "  [2]         4         7         4\n",
       "  [3]         8        10         3"
      ]
     },
     "metadata": {},
     "output_type": "display_data"
    }
   ],
   "source": [
    "ir1"
   ]
  },
  {
   "cell_type": "code",
   "execution_count": 39,
   "metadata": {},
   "outputs": [
    {
     "data": {
      "text/plain": [
       "IRanges object with 2 ranges and 0 metadata columns:\n",
       "          start       end     width\n",
       "      <integer> <integer> <integer>\n",
       "  [1]         3         5         3\n",
       "  [2]         4         6         3"
      ]
     },
     "metadata": {},
     "output_type": "display_data"
    }
   ],
   "source": [
    "ir2"
   ]
  },
  {
   "cell_type": "code",
   "execution_count": 40,
   "metadata": {},
   "outputs": [
    {
     "data": {
      "text/html": [
       "<style>\n",
       ".list-inline {list-style: none; margin:0; padding: 0}\n",
       ".list-inline>li {display: inline-block}\n",
       ".list-inline>li:not(:last-child)::after {content: \"\\00b7\"; padding: 0 .5ex}\n",
       "</style>\n",
       "<ol class=list-inline><li>1</li><li>1</li><li>2</li></ol>\n"
      ],
      "text/latex": [
       "\\begin{enumerate*}\n",
       "\\item 1\n",
       "\\item 1\n",
       "\\item 2\n",
       "\\end{enumerate*}\n"
      ],
      "text/markdown": [
       "1. 1\n",
       "2. 1\n",
       "3. 2\n",
       "\n",
       "\n"
      ],
      "text/plain": [
       "[1] 1 1 2"
      ]
     },
     "metadata": {},
     "output_type": "display_data"
    }
   ],
   "source": [
    "nearest(ir1, ir2)"
   ]
  },
  {
   "cell_type": "markdown",
   "metadata": {},
   "source": [
    "## 02: GenomicRanges - GRanges"
   ]
  },
  {
   "cell_type": "markdown",
   "metadata": {},
   "source": [
    "### Dependencies"
   ]
  },
  {
   "cell_type": "code",
   "execution_count": 2,
   "metadata": {},
   "outputs": [],
   "source": [
    "# Install Genomic Ranges Library\n",
    "library(GenomicRanges)"
   ]
  },
  {
   "cell_type": "markdown",
   "metadata": {},
   "source": [
    "##"
   ]
  },
  {
   "cell_type": "markdown",
   "metadata": {},
   "source": [
    "**`GRanges`** : `GRanges` are like `IRanges` with strand and chromosome. Strand can be +, - and *. The value * indicates ‘unknown strand’ or ‘unstranded’. This value usually gets treated as a third strand, which is sometimes confusing to users (examples below)."
   ]
  },
  {
   "cell_type": "code",
   "execution_count": 5,
   "metadata": {},
   "outputs": [
    {
     "data": {
      "text/plain": [
       "GRanges object with 3 ranges and 0 metadata columns:\n",
       "      seqnames    ranges strand\n",
       "         <Rle> <IRanges>  <Rle>\n",
       "  [1]     chr1       1-3      +\n",
       "  [2]     chr1       3-5      -\n",
       "  [3]     chr1       5-7      +\n",
       "  -------\n",
       "  seqinfo: 1 sequence from an unspecified genome; no seqlengths"
      ]
     },
     "metadata": {},
     "output_type": "display_data"
    }
   ],
   "source": [
    "## They get created with the GRanges constructor:\n",
    "gr <- GRanges(seqnames = \"chr1\", strand = c(\"+\", \"-\", \"+\"),\n",
    "              ranges = IRanges(start = c(1,3,5), width = 3))\n",
    "gr"
   ]
  },
  {
   "cell_type": "markdown",
   "metadata": {},
   "source": [
    "Natural accessor functions: \n",
    "- strand(), \n",
    "- seqnames(), \n",
    "- ranges(), \n",
    "- start(), \n",
    "- end(), \n",
    "- width().\n",
    "Because the have strand, we now have operations which are relative to the direction of transcription (`upstream()`, `downstream()`):"
   ]
  },
  {
   "cell_type": "code",
   "execution_count": 4,
   "metadata": {},
   "outputs": [
    {
     "data": {
      "text/plain": [
       "GRanges object with 3 ranges and 0 metadata columns:\n",
       "      seqnames    ranges strand\n",
       "         <Rle> <IRanges>  <Rle>\n",
       "  [1]     chr1       4-5      +\n",
       "  [2]     chr1       1-2      -\n",
       "  [3]     chr1       8-9      +\n",
       "  -------\n",
       "  seqinfo: 1 sequence from an unspecified genome; no seqlengths"
      ]
     },
     "metadata": {},
     "output_type": "display_data"
    }
   ],
   "source": [
    "flank(gr, 2, start = FALSE)"
   ]
  },
  {
   "cell_type": "code",
   "execution_count": 6,
   "metadata": {},
   "outputs": [
    {
     "data": {
      "text/plain": [
       "Seqinfo object with 1 sequence from an unspecified genome; no seqlengths:\n",
       "  seqnames seqlengths isCircular genome\n",
       "  chr1             NA         NA   <NA>"
      ]
     },
     "metadata": {},
     "output_type": "display_data"
    }
   ],
   "source": [
    "# GRanges, seqinfo\n",
    "# GRanges operate within a universe of sequences (chromosomes/contigs) and their lengths.\n",
    "# This is described through seqinfo:\n",
    "seqinfo(gr)"
   ]
  },
  {
   "cell_type": "code",
   "execution_count": 7,
   "metadata": {},
   "outputs": [
    {
     "data": {
      "text/plain": [
       "Seqinfo object with 1 sequence from an unspecified genome:\n",
       "  seqnames seqlengths isCircular genome\n",
       "  chr1             10         NA   <NA>"
      ]
     },
     "metadata": {},
     "output_type": "display_data"
    }
   ],
   "source": [
    "seqlengths(gr) <- c(\"chr1\" = 10)\n",
    "seqinfo(gr)"
   ]
  },
  {
   "cell_type": "code",
   "execution_count": 8,
   "metadata": {},
   "outputs": [
    {
     "data": {
      "text/html": [
       "'chr1'"
      ],
      "text/latex": [
       "'chr1'"
      ],
      "text/markdown": [
       "'chr1'"
      ],
      "text/plain": [
       "[1] \"chr1\""
      ]
     },
     "metadata": {},
     "output_type": "display_data"
    }
   ],
   "source": [
    "seqlevels(gr)"
   ]
  },
  {
   "cell_type": "code",
   "execution_count": 9,
   "metadata": {},
   "outputs": [
    {
     "data": {
      "text/html": [
       "<strong>chr1:</strong> 10"
      ],
      "text/latex": [
       "\\textbf{chr1:} 10"
      ],
      "text/markdown": [
       "**chr1:** 10"
      ],
      "text/plain": [
       "chr1 \n",
       "  10 "
      ]
     },
     "metadata": {},
     "output_type": "display_data"
    }
   ],
   "source": [
    "seqlengths(gr)"
   ]
  },
  {
   "cell_type": "code",
   "execution_count": 10,
   "metadata": {},
   "outputs": [
    {
     "data": {
      "text/plain": [
       "GRanges object with 5 ranges and 0 metadata columns:\n",
       "      seqnames    ranges strand\n",
       "         <Rle> <IRanges>  <Rle>\n",
       "  [1]     chr1         4      +\n",
       "  [2]     chr1      8-10      +\n",
       "  [3]     chr1       1-2      -\n",
       "  [4]     chr1      6-10      -\n",
       "  [5]     chr1      1-10      *\n",
       "  -------\n",
       "  seqinfo: 1 sequence from an unspecified genome"
      ]
     },
     "metadata": {},
     "output_type": "display_data"
    }
   ],
   "source": [
    "# Especially the length of the chromosomes are used by some functions. For example gaps() return the stretches of the genome not covered by the GRanges.\n",
    "gaps(gr)"
   ]
  },
  {
   "cell_type": "markdown",
   "metadata": {},
   "source": [
    "In this example, we know that the last gap stops at 10, because that is the length of the chromosome. Note how a range on the * strand appears in the result."
   ]
  },
  {
   "cell_type": "code",
   "execution_count": 11,
   "metadata": {},
   "outputs": [],
   "source": [
    "# Let us expand the GRanges with another chromosome\n",
    "seqlevels(gr) <- c(\"chr1\", \"chr2\")\n",
    "seqnames(gr) <- c(\"chr1\", \"chr2\", \"chr1\")"
   ]
  },
  {
   "cell_type": "code",
   "execution_count": 12,
   "metadata": {},
   "outputs": [
    {
     "data": {
      "text/plain": [
       "GRanges object with 3 ranges and 0 metadata columns:\n",
       "      seqnames    ranges strand\n",
       "         <Rle> <IRanges>  <Rle>\n",
       "  [1]     chr1       1-3      +\n",
       "  [2]     chr2       3-5      -\n",
       "  [3]     chr1       5-7      +\n",
       "  -------\n",
       "  seqinfo: 2 sequences from an unspecified genome"
      ]
     },
     "metadata": {},
     "output_type": "display_data"
    }
   ],
   "source": [
    "gr"
   ]
  },
  {
   "cell_type": "markdown",
   "metadata": {},
   "source": [
    "When you `sort()` a GRanges, the sorting order of the chromosomes is determined by their order in seqlevel. This is nice if you want the sorting “chr1”, “chr2”, …, “chr10”, …"
   ]
  },
  {
   "cell_type": "code",
   "execution_count": 13,
   "metadata": {},
   "outputs": [
    {
     "data": {
      "text/plain": [
       "GRanges object with 3 ranges and 0 metadata columns:\n",
       "      seqnames    ranges strand\n",
       "         <Rle> <IRanges>  <Rle>\n",
       "  [1]     chr1       1-3      +\n",
       "  [2]     chr1       5-7      +\n",
       "  [3]     chr2       3-5      -\n",
       "  -------\n",
       "  seqinfo: 2 sequences from an unspecified genome"
      ]
     },
     "metadata": {},
     "output_type": "display_data"
    }
   ],
   "source": [
    "sort(gr)"
   ]
  },
  {
   "cell_type": "code",
   "execution_count": 14,
   "metadata": {},
   "outputs": [
    {
     "data": {
      "text/plain": [
       "GRanges object with 3 ranges and 0 metadata columns:\n",
       "      seqnames    ranges strand\n",
       "         <Rle> <IRanges>  <Rle>\n",
       "  [1]     chr1       1-3      +\n",
       "  [2]     chr2       3-5      -\n",
       "  [3]     chr1       5-7      +\n",
       "  -------\n",
       "  seqinfo: 2 sequences from hg19 genome"
      ]
     },
     "metadata": {},
     "output_type": "display_data"
    }
   ],
   "source": [
    "# You can associate a genome with a GRanges.\n",
    "genome(gr) <- \"hg19\"\n",
    "gr"
   ]
  },
  {
   "cell_type": "markdown",
   "metadata": {},
   "source": [
    "This becomes valuable when you deal with data from different genome versions (as we all do), because it allows R to throw an error when you compare two `GRanges` from **different genomes**, like"
   ]
  },
  {
   "cell_type": "code",
   "execution_count": 15,
   "metadata": {},
   "outputs": [
    {
     "ename": "ERROR",
     "evalue": "Error in mergeNamedAtomicVectors(genome(x), genome(y), what = c(\"sequence\", : sequences chr1, chr2 have incompatible genomes:\n  - in 'x': hg19, hg19\n  - in 'y': hg18, hg18\n",
     "output_type": "error",
     "traceback": [
      "Error in mergeNamedAtomicVectors(genome(x), genome(y), what = c(\"sequence\", : sequences chr1, chr2 have incompatible genomes:\n  - in 'x': hg19, hg19\n  - in 'y': hg18, hg18\nTraceback:\n",
      "1. findOverlaps(gr, gr2)",
      "2. findOverlaps(gr, gr2)",
      "3. .local(query, subject, maxgap, minoverlap, type, select, ...)",
      "4. findOverlaps_GNCList(query, subject, maxgap = maxgap, minoverlap = minoverlap, \n .     type = type, select = select, ignore.strand = ignore.strand)",
      "5. merge(seqinfo(query), seqinfo(subject))",
      "6. merge(seqinfo(query), seqinfo(subject))",
      "7. .Seqinfo.merge(x, y, ...)",
      "8. .Seqinfo.mergexy(x, y)",
      "9. mergeNamedAtomicVectors(genome(x), genome(y), what = c(\"sequence\", \n .     \"genomes\"))",
      "10. stop(msg)"
     ]
    }
   ],
   "source": [
    "gr2 <- gr\n",
    "genome(gr2) <- \"hg18\"\n",
    "findOverlaps(gr, gr2)"
   ]
  },
  {
   "cell_type": "markdown",
   "metadata": {},
   "source": [
    "## GenomicRanges - Basic GRanges Usage"
   ]
  },
  {
   "cell_type": "markdown",
   "metadata": {},
   "source": [
    "### DataFrame\n",
    "The [S4Vectors](https://bioconductor.org/packages/release/bioc/html/S4Vectors.html) package introduced the DataFrame class. This class is very similar to the base data.frame class from R, but it allows columns of any class, provided a number of required methods are supported. For example, DataFrame can have IRanges as columns, unlike data.frame:"
   ]
  },
  {
   "cell_type": "code",
   "execution_count": 16,
   "metadata": {},
   "outputs": [
    {
     "data": {
      "text/plain": [
       "DataFrame with 2 rows and 1 column\n",
       "    iranges\n",
       "  <IRanges>\n",
       "1       1-3\n",
       "2       2-4"
      ]
     },
     "metadata": {},
     "output_type": "display_data"
    }
   ],
   "source": [
    "ir <- IRanges(start = 1:2, width = 3)\n",
    "df1 <- DataFrame(iranges = ir)\n",
    "df1"
   ]
  },
  {
   "cell_type": "code",
   "execution_count": 17,
   "metadata": {},
   "outputs": [
    {
     "data": {
      "text/plain": [
       "IRanges object with 2 ranges and 0 metadata columns:\n",
       "          start       end     width\n",
       "      <integer> <integer> <integer>\n",
       "  [1]         1         3         3\n",
       "  [2]         2         4         3"
      ]
     },
     "metadata": {},
     "output_type": "display_data"
    }
   ],
   "source": [
    "df1$iranges"
   ]
  },
  {
   "cell_type": "code",
   "execution_count": 18,
   "metadata": {},
   "outputs": [
    {
     "data": {
      "text/html": [
       "<table class=\"dataframe\">\n",
       "<caption>A data.frame: 2 × 3</caption>\n",
       "<thead>\n",
       "\t<tr><th scope=col>iranges.start</th><th scope=col>iranges.end</th><th scope=col>iranges.width</th></tr>\n",
       "\t<tr><th scope=col>&lt;int&gt;</th><th scope=col>&lt;int&gt;</th><th scope=col>&lt;int&gt;</th></tr>\n",
       "</thead>\n",
       "<tbody>\n",
       "\t<tr><td>1</td><td>3</td><td>3</td></tr>\n",
       "\t<tr><td>2</td><td>4</td><td>3</td></tr>\n",
       "</tbody>\n",
       "</table>\n"
      ],
      "text/latex": [
       "A data.frame: 2 × 3\n",
       "\\begin{tabular}{lll}\n",
       " iranges.start & iranges.end & iranges.width\\\\\n",
       " <int> & <int> & <int>\\\\\n",
       "\\hline\n",
       "\t 1 & 3 & 3\\\\\n",
       "\t 2 & 4 & 3\\\\\n",
       "\\end{tabular}\n"
      ],
      "text/markdown": [
       "\n",
       "A data.frame: 2 × 3\n",
       "\n",
       "| iranges.start &lt;int&gt; | iranges.end &lt;int&gt; | iranges.width &lt;int&gt; |\n",
       "|---|---|---|\n",
       "| 1 | 3 | 3 |\n",
       "| 2 | 4 | 3 |\n",
       "\n"
      ],
      "text/plain": [
       "  iranges.start iranges.end iranges.width\n",
       "1 1             3           3            \n",
       "2 2             4           3            "
      ]
     },
     "metadata": {},
     "output_type": "display_data"
    }
   ],
   "source": [
    "df2 <- data.frame(iranges = ir)\n",
    "df2"
   ]
  },
  {
   "cell_type": "markdown",
   "metadata": {},
   "source": [
    "In the data.frame case, the IRanges gives rise to 4 columns, whereas it is a single column when a DataFrame is used."
   ]
  },
  {
   "cell_type": "markdown",
   "metadata": {},
   "source": [
    "### GRanges, metadata\n",
    "`GRanges` (unlike IRanges) may have **associated metadata**. This is immensely useful. The formal way to access and set this metadata is through values or elementMetadata or mcols, like"
   ]
  },
  {
   "cell_type": "code",
   "execution_count": 19,
   "metadata": {},
   "outputs": [
    {
     "data": {
      "text/plain": [
       "GRanges object with 3 ranges and 1 metadata column:\n",
       "      seqnames    ranges strand |     score\n",
       "         <Rle> <IRanges>  <Rle> | <numeric>\n",
       "  [1]     chr1       1-3      + |       0.1\n",
       "  [2]     chr1       3-5      - |       0.5\n",
       "  [3]     chr1       5-7      + |       0.3\n",
       "  -------\n",
       "  seqinfo: 1 sequence from an unspecified genome; no seqlengths"
      ]
     },
     "metadata": {},
     "output_type": "display_data"
    }
   ],
   "source": [
    "gr <- GRanges(seqnames = \"chr1\", strand = c(\"+\", \"-\", \"+\"),\n",
    "              ranges = IRanges(start = c(1,3,5), width = 3))\n",
    "values(gr) <- DataFrame(score = c(0.1, 0.5, 0.3))\n",
    "gr"
   ]
  },
  {
   "cell_type": "code",
   "execution_count": 20,
   "metadata": {},
   "outputs": [
    {
     "data": {
      "text/html": [
       "<style>\n",
       ".list-inline {list-style: none; margin:0; padding: 0}\n",
       ".list-inline>li {display: inline-block}\n",
       ".list-inline>li:not(:last-child)::after {content: \"\\00b7\"; padding: 0 .5ex}\n",
       "</style>\n",
       "<ol class=list-inline><li>0.1</li><li>0.5</li><li>0.3</li></ol>\n"
      ],
      "text/latex": [
       "\\begin{enumerate*}\n",
       "\\item 0.1\n",
       "\\item 0.5\n",
       "\\item 0.3\n",
       "\\end{enumerate*}\n"
      ],
      "text/markdown": [
       "1. 0.1\n",
       "2. 0.5\n",
       "3. 0.3\n",
       "\n",
       "\n"
      ],
      "text/plain": [
       "[1] 0.1 0.5 0.3"
      ]
     },
     "metadata": {},
     "output_type": "display_data"
    }
   ],
   "source": [
    "# A much easier way to set and access metadata is through the $ operator\n",
    "gr$score"
   ]
  },
  {
   "cell_type": "code",
   "execution_count": 21,
   "metadata": {},
   "outputs": [
    {
     "data": {
      "text/plain": [
       "GRanges object with 3 ranges and 2 metadata columns:\n",
       "      seqnames    ranges strand |     score    score2\n",
       "         <Rle> <IRanges>  <Rle> | <numeric> <numeric>\n",
       "  [1]     chr1       1-3      + |       0.1      0.02\n",
       "  [2]     chr1       3-5      - |       0.5      0.10\n",
       "  [3]     chr1       5-7      + |       0.3      0.06\n",
       "  -------\n",
       "  seqinfo: 1 sequence from an unspecified genome; no seqlengths"
      ]
     },
     "metadata": {},
     "output_type": "display_data"
    }
   ],
   "source": [
    "gr$score2 = gr$score * 0.2\n",
    "gr"
   ]
  },
  {
   "cell_type": "markdown",
   "metadata": {},
   "source": [
    "### findOverlaps\n",
    "`findOverlaps` works exactly as for IRanges. But the strand information can be confusing. Let us make an example"
   ]
  },
  {
   "cell_type": "code",
   "execution_count": 22,
   "metadata": {},
   "outputs": [
    {
     "data": {
      "text/plain": [
       "GRanges object with 3 ranges and 0 metadata columns:\n",
       "      seqnames    ranges strand\n",
       "         <Rle> <IRanges>  <Rle>\n",
       "  [1]     chr1       1-3      *\n",
       "  [2]     chr2       3-5      *\n",
       "  [3]     chr1       5-7      *\n",
       "  -------\n",
       "  seqinfo: 2 sequences from an unspecified genome; no seqlengths"
      ]
     },
     "metadata": {},
     "output_type": "display_data"
    }
   ],
   "source": [
    "gr2 <- GRanges(seqnames = c(\"chr1\", \"chr2\", \"chr1\"), strand = \"*\",\n",
    "               ranges = IRanges(start = c(1, 3, 5), width = 3))\n",
    "gr2"
   ]
  },
  {
   "cell_type": "code",
   "execution_count": 23,
   "metadata": {},
   "outputs": [
    {
     "data": {
      "text/plain": [
       "GRanges object with 3 ranges and 2 metadata columns:\n",
       "      seqnames    ranges strand |     score    score2\n",
       "         <Rle> <IRanges>  <Rle> | <numeric> <numeric>\n",
       "  [1]     chr1       1-3      + |       0.1      0.02\n",
       "  [2]     chr1       3-5      - |       0.5      0.10\n",
       "  [3]     chr1       5-7      + |       0.3      0.06\n",
       "  -------\n",
       "  seqinfo: 1 sequence from an unspecified genome; no seqlengths"
      ]
     },
     "metadata": {},
     "output_type": "display_data"
    }
   ],
   "source": [
    "gr"
   ]
  },
  {
   "cell_type": "markdown",
   "metadata": {},
   "source": [
    "Note how the ranges in the two GRanges object are the same coordinates, they just have different seqnames and strand. Let us try to do a standard `findOverlaps`:"
   ]
  },
  {
   "cell_type": "code",
   "execution_count": 24,
   "metadata": {},
   "outputs": [
    {
     "data": {
      "text/plain": [
       "Hits object with 4 hits and 0 metadata columns:\n",
       "      queryHits subjectHits\n",
       "      <integer>   <integer>\n",
       "  [1]         1           1\n",
       "  [2]         2           1\n",
       "  [3]         2           3\n",
       "  [4]         3           3\n",
       "  -------\n",
       "  queryLength: 3 / subjectLength: 3"
      ]
     },
     "metadata": {},
     "output_type": "display_data"
    }
   ],
   "source": [
    "findOverlaps(gr, gr2)\n"
   ]
  },
  {
   "cell_type": "markdown",
   "metadata": {},
   "source": [
    "Notice how the `*` strand overlaps both + and -. There is an argument `ignore.strand` to findOverlaps which will … ignore the strand information (so + overlaps -). Several other functions in GenomicRanges have an ignore.strand argument as well."
   ]
  },
  {
   "cell_type": "code",
   "execution_count": 26,
   "metadata": {},
   "outputs": [
    {
     "data": {
      "text/plain": [
       "Hits object with 4 hits and 0 metadata columns:\n",
       "      queryHits subjectHits\n",
       "      <integer>   <integer>\n",
       "  [1]         1           1\n",
       "  [2]         2           1\n",
       "  [3]         2           3\n",
       "  [4]         3           3\n",
       "  -------\n",
       "  queryLength: 3 / subjectLength: 3"
      ]
     },
     "metadata": {},
     "output_type": "display_data"
    }
   ],
   "source": [
    "findOverlaps(gr, gr2,ignore.strand = TRUE)"
   ]
  },
  {
   "cell_type": "markdown",
   "metadata": {},
   "source": [
    "### subsetByOverlaps"
   ]
  },
  {
   "cell_type": "markdown",
   "metadata": {},
   "source": [
    "A common operation is to select only certain ranges from a GRanges which overlap something else. Enter the convenience function `subsetByOverlaps`"
   ]
  },
  {
   "cell_type": "code",
   "execution_count": 27,
   "metadata": {},
   "outputs": [
    {
     "data": {
      "text/plain": [
       "GRanges object with 3 ranges and 2 metadata columns:\n",
       "      seqnames    ranges strand |     score    score2\n",
       "         <Rle> <IRanges>  <Rle> | <numeric> <numeric>\n",
       "  [1]     chr1       1-3      + |       0.1      0.02\n",
       "  [2]     chr1       3-5      - |       0.5      0.10\n",
       "  [3]     chr1       5-7      + |       0.3      0.06\n",
       "  -------\n",
       "  seqinfo: 1 sequence from an unspecified genome; no seqlengths"
      ]
     },
     "metadata": {},
     "output_type": "display_data"
    }
   ],
   "source": [
    "subsetByOverlaps(gr, gr2)"
   ]
  },
  {
   "cell_type": "markdown",
   "metadata": {},
   "source": [
    "### makeGRangesFromDataFrame\n",
    "A common situation is that you have data which looks like a GRanges but is really stored as a classic data.frame, with chr, start etc. The makeGRangesFromDataFrame converts this data.frame into a GRanges. An argument tells you whether you want to keep any additional column."
   ]
  },
  {
   "cell_type": "code",
   "execution_count": 28,
   "metadata": {},
   "outputs": [
    {
     "data": {
      "text/plain": [
       "GRanges object with 3 ranges and 0 metadata columns:\n",
       "      seqnames    ranges strand\n",
       "         <Rle> <IRanges>  <Rle>\n",
       "  [1]     chr1       1-4      *\n",
       "  [2]     chr1       2-5      *\n",
       "  [3]     chr1       3-6      *\n",
       "  -------\n",
       "  seqinfo: 1 sequence from an unspecified genome; no seqlengths"
      ]
     },
     "metadata": {},
     "output_type": "display_data"
    }
   ],
   "source": [
    "df <- data.frame(chr = \"chr1\", start = 1:3, end = 4:6, score = 7:9)\n",
    "makeGRangesFromDataFrame(df)"
   ]
  },
  {
   "cell_type": "code",
   "execution_count": 29,
   "metadata": {},
   "outputs": [
    {
     "data": {
      "text/plain": [
       "GRanges object with 3 ranges and 1 metadata column:\n",
       "      seqnames    ranges strand |     score\n",
       "         <Rle> <IRanges>  <Rle> | <integer>\n",
       "  [1]     chr1       1-4      * |         7\n",
       "  [2]     chr1       2-5      * |         8\n",
       "  [3]     chr1       3-6      * |         9\n",
       "  -------\n",
       "  seqinfo: 1 sequence from an unspecified genome; no seqlengths"
      ]
     },
     "metadata": {},
     "output_type": "display_data"
    }
   ],
   "source": [
    "makeGRangesFromDataFrame(df, keep.extra.columns = TRUE)"
   ]
  },
  {
   "cell_type": "markdown",
   "metadata": {},
   "source": [
    "## GenomicRanges - seqinfo"
   ]
  },
  {
   "cell_type": "code",
   "execution_count": 32,
   "metadata": {},
   "outputs": [],
   "source": [
    "## \n",
    "library(GenomeInfoDb)\n",
    "library(GenomicRanges)\n"
   ]
  },
  {
   "cell_type": "markdown",
   "metadata": {},
   "source": [
    "### Drop and keep seqlevels\n",
    "It is common to want to remove seqlevels from a GRanges object. Here are some equivalent methods"
   ]
  },
  {
   "cell_type": "code",
   "execution_count": 45,
   "metadata": {},
   "outputs": [
    {
     "data": {
      "text/plain": [
       "GRanges object with 1 range and 0 metadata columns:\n",
       "      seqnames    ranges strand\n",
       "         <Rle> <IRanges>  <Rle>\n",
       "  [1]     chr2       2-5      *\n",
       "  -------\n",
       "  seqinfo: 1 sequence from an unspecified genome; no seqlengths"
      ]
     },
     "metadata": {},
     "output_type": "display_data"
    }
   ],
   "source": [
    "gr <- GRanges(seqnames = c(\"chr1\", \"chr2\"),\n",
    "              ranges = IRanges(start = 1:2, end = 4:5))\n",
    "dropSeqlevels(gr, \"chr1\", pruning.mode=\"coarse\")\n"
   ]
  },
  {
   "cell_type": "code",
   "execution_count": 47,
   "metadata": {},
   "outputs": [
    {
     "data": {
      "text/plain": [
       "GRanges object with 1 range and 0 metadata columns:\n",
       "      seqnames    ranges strand\n",
       "         <Rle> <IRanges>  <Rle>\n",
       "  [1]     chr2       2-5      *\n",
       "  -------\n",
       "  seqinfo: 1 sequence from an unspecified genome; no seqlengths"
      ]
     },
     "metadata": {},
     "output_type": "display_data"
    }
   ],
   "source": [
    "keepSeqlevels(gr, \"chr2\", pruning.mode = \"coarse\")"
   ]
  },
  {
   "cell_type": "code",
   "execution_count": 50,
   "metadata": {},
   "outputs": [],
   "source": [
    "gr <- GRanges(seqnames = c(\"chr1\", \"chrU345\"),\n",
    "              ranges = IRanges(start = 1:2, end = 4:5))\n"
   ]
  },
  {
   "cell_type": "code",
   "execution_count": 53,
   "metadata": {},
   "outputs": [
    {
     "data": {
      "text/plain": [
       "GRanges object with 1 range and 0 metadata columns:\n",
       "      seqnames    ranges strand\n",
       "         <Rle> <IRanges>  <Rle>\n",
       "  [1]     chr1       1-4      *\n",
       "  -------\n",
       "  seqinfo: 1 sequence from an unspecified genome; no seqlengths"
      ]
     },
     "metadata": {},
     "output_type": "display_data"
    }
   ],
   "source": [
    "# You can also just get rid of weird looking chromosome names with keepStandardChromosomes().\n",
    "keepStandardChromosomes(gr,pruning.mode=\"coarse\")"
   ]
  },
  {
   "cell_type": "markdown",
   "metadata": {},
   "source": [
    "### Changing style\n",
    "It is an inconvenient truth that different online resources uses different naming convention for chromosomes. This can even be different from organism to organism. For example, for the fruitfly (Drosophila Melanogaster) NCBI and Ensembl uses “2L” and UCSC uses “chr2L”. But NCBI and Ensembl differs on some contigs: NCBI uses “Un” and Ensembl used “U”."
   ]
  },
  {
   "cell_type": "code",
   "execution_count": 55,
   "metadata": {},
   "outputs": [
    {
     "data": {
      "text/plain": [
       "GRanges object with 2 ranges and 0 metadata columns:\n",
       "      seqnames    ranges strand\n",
       "         <Rle> <IRanges>  <Rle>\n",
       "  [1]     chr1       1-2      *\n",
       "  [2]     chr1       2-3      *\n",
       "  -------\n",
       "  seqinfo: 1 sequence from an unspecified genome; no seqlengths"
      ]
     },
     "metadata": {},
     "output_type": "display_data"
    }
   ],
   "source": [
    "gr <- GRanges(seqnames = \"chr1\", ranges = IRanges(start = 1:2, width = 2))\n",
    "gr"
   ]
  },
  {
   "cell_type": "code",
   "execution_count": 63,
   "metadata": {},
   "outputs": [
    {
     "data": {
      "text/plain": [
       "GRanges object with 6 ranges and 0 metadata columns:\n",
       "      seqnames    ranges strand\n",
       "         <Rle> <IRanges>  <Rle>\n",
       "  [1]     chr2      1-10      *\n",
       "  [2]     chr3      2-10      *\n",
       "  [3]     chrM      3-10      *\n",
       "  [4]     chr2      4-10      *\n",
       "  [5]     chr3      5-10      *\n",
       "  [6]     chrM      6-10      *\n",
       "  -------\n",
       "  seqinfo: 3 sequences from an unspecified genome; no seqlengths"
      ]
     },
     "metadata": {},
     "output_type": "display_data"
    }
   ],
   "source": [
    "gr <- GRanges(rep(c(\"chr2\", \"chr3\", \"chrM\"), 2), IRanges(1:6, 10))\n",
    "gr"
   ]
  },
  {
   "cell_type": "code",
   "execution_count": 64,
   "metadata": {},
   "outputs": [
    {
     "data": {
      "text/html": [
       "'UCSC'"
      ],
      "text/latex": [
       "'UCSC'"
      ],
      "text/markdown": [
       "'UCSC'"
      ],
      "text/plain": [
       "[1] \"UCSC\""
      ]
     },
     "metadata": {},
     "output_type": "display_data"
    },
    {
     "data": {
      "text/plain": [
       "GRanges object with 6 ranges and 0 metadata columns:\n",
       "      seqnames    ranges strand\n",
       "         <Rle> <IRanges>  <Rle>\n",
       "  [1]        2      1-10      *\n",
       "  [2]        3      2-10      *\n",
       "  [3]       MT      3-10      *\n",
       "  [4]        2      4-10      *\n",
       "  [5]        3      5-10      *\n",
       "  [6]       MT      6-10      *\n",
       "  -------\n",
       "  seqinfo: 3 sequences from an unspecified genome; no seqlengths"
      ]
     },
     "metadata": {},
     "output_type": "display_data"
    }
   ],
   "source": [
    "seqlevelsStyle(gr)\n",
    "seqlevelsStyle(gr) <- \"NCBI\"\n",
    "gr"
   ]
  },
  {
   "cell_type": "code",
   "execution_count": 65,
   "metadata": {},
   "outputs": [
    {
     "data": {
      "text/html": [
       "<style>\n",
       ".list-inline {list-style: none; margin:0; padding: 0}\n",
       ".list-inline>li {display: inline-block}\n",
       ".list-inline>li:not(:last-child)::after {content: \"\\00b7\"; padding: 0 .5ex}\n",
       "</style>\n",
       "<ol class=list-inline><li>'NCBI'</li><li>'Ensembl'</li></ol>\n"
      ],
      "text/latex": [
       "\\begin{enumerate*}\n",
       "\\item 'NCBI'\n",
       "\\item 'Ensembl'\n",
       "\\end{enumerate*}\n"
      ],
      "text/markdown": [
       "1. 'NCBI'\n",
       "2. 'Ensembl'\n",
       "\n",
       "\n"
      ],
      "text/plain": [
       "[1] \"NCBI\"    \"Ensembl\""
      ]
     },
     "metadata": {},
     "output_type": "display_data"
    },
    {
     "data": {
      "text/plain": [
       "GRanges object with 6 ranges and 0 metadata columns:\n",
       "      seqnames    ranges strand\n",
       "         <Rle> <IRanges>  <Rle>\n",
       "  [1]     chr2      1-10      *\n",
       "  [2]     chr3      2-10      *\n",
       "  [3]     chrM      3-10      *\n",
       "  [4]     chr2      4-10      *\n",
       "  [5]     chr3      5-10      *\n",
       "  [6]     chrM      6-10      *\n",
       "  -------\n",
       "  seqinfo: 3 sequences from an unspecified genome; no seqlengths"
      ]
     },
     "metadata": {},
     "output_type": "display_data"
    }
   ],
   "source": [
    "seqlevelsStyle(gr)\n",
    "seqlevelsStyle(gr) <- \"UCSC\"\n",
    "gr\n"
   ]
  },
  {
   "cell_type": "code",
   "execution_count": null,
   "metadata": {},
   "outputs": [],
   "source": []
  }
 ],
 "metadata": {
  "kernelspec": {
   "display_name": "R",
   "language": "R",
   "name": "python3102jvsc74a57bd055db829a23e27f1a4129460ab65de434bf1fc9efa4ae0ce0afb72d96498ad818"
  },
  "language_info": {
   "codemirror_mode": "r",
   "file_extension": ".r",
   "mimetype": "text/x-r-source",
   "name": "R",
   "pygments_lexer": "r",
   "version": "4.1.2"
  },
  "orig_nbformat": 4
 },
 "nbformat": 4,
 "nbformat_minor": 2
}
