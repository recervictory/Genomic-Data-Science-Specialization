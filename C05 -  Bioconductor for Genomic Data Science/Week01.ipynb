{
 "cells": [
  {
   "cell_type": "markdown",
   "metadata": {},
   "source": [
    "# Week 01: GenomicRanges - Basic GRanges Usage"
   ]
  },
  {
   "cell_type": "markdown",
   "metadata": {},
   "source": [
    "## 01. IRanges - Basic Usage\n"
   ]
  },
  {
   "cell_type": "markdown",
   "metadata": {},
   "source": [
    "### Overview\n",
    "A surprising amount of objects/tasks in computational biology can be formulated in terms of integer intervals, manipulation of integer intervals and overlap of integer intervals.\n",
    "\n",
    "Objects: A transcript (a union of integer intervals), a collection of SNPs (intervals of width 1), transcription factor binding sites, a collection of aligned short reads.\n",
    "\n",
    "Tasks: Which transcription factor binding sites hit the promoter of genes (overlap between two sets of intervals), which SNPs hit a collection of exons, which short reads hit a predetermined set of exons.\n",
    "\n",
    "IRanges are collections of integer intervals. GRanges are like IRanges, but with an associated chromosome and strand, taking care of some book keeping.\n",
    "\n",
    "Here we discuss IRanges, which provides the foundation for GRanges. This package implements (amongst other things) an algebra for handling integer intervals.\n",
    "\n"
   ]
  },
  {
   "cell_type": "markdown",
   "metadata": {},
   "source": [
    "### Dependencies"
   ]
  },
  {
   "cell_type": "code",
   "execution_count": 4,
   "metadata": {},
   "outputs": [
    {
     "name": "stderr",
     "output_type": "stream",
     "text": [
      "Loading required package: S4Vectors\n",
      "\n",
      "Loading required package: stats4\n",
      "\n",
      "\n",
      "Attaching package: 'S4Vectors'\n",
      "\n",
      "\n",
      "The following objects are masked from 'package:base':\n",
      "\n",
      "    expand.grid, I, unname\n",
      "\n",
      "\n",
      "\n",
      "Attaching package: 'IRanges'\n",
      "\n",
      "\n",
      "The following object is masked from 'package:grDevices':\n",
      "\n",
      "    windows\n",
      "\n",
      "\n"
     ]
    }
   ],
   "source": [
    "# This document has the following dependencies:\n",
    "# BiocManager::install(\"IRanges\")\n",
    "library(IRanges)"
   ]
  },
  {
   "cell_type": "code",
   "execution_count": 5,
   "metadata": {},
   "outputs": [],
   "source": [
    "## Plot Iranges\n",
    "plotRanges <- function(x, xlim = x, main = deparse(substitute(x)),\n",
    "                       col = \"black\", sep = 0.5, ...) {\n",
    "    opar <- par(mar = c(5,1,1.5,1))\n",
    "    on.exit(par(opar))\n",
    "    height <- 1\n",
    "    if (is(xlim, \"Ranges\"))\n",
    "        xlim <- c(min(start(xlim)), max(end(xlim)))\n",
    "    bins <- disjointBins(IRanges(start(x), end(x) + 1))\n",
    "    plot.new()\n",
    "    plot.window(xlim, c(0, max(bins)*(height + sep)))\n",
    "    ybottom <- bins * (sep + height) - height\n",
    "    rect(start(x)-0.5, ybottom, end(x)+0.5, ybottom + height, col = col, ...)\n",
    "    title(main)\n",
    "    axis(1)\n",
    "}"
   ]
  },
  {
   "cell_type": "markdown",
   "metadata": {},
   "source": [
    "### Basic IRanges"
   ]
  },
  {
   "cell_type": "code",
   "execution_count": 6,
   "metadata": {},
   "outputs": [
    {
     "data": {
      "text/plain": [
       "IRanges object with 3 ranges and 0 metadata columns:\n",
       "          start       end     width\n",
       "      <integer> <integer> <integer>\n",
       "  [1]         1         3         3\n",
       "  [2]         3         5         3\n",
       "  [3]         5         7         3"
      ]
     },
     "metadata": {},
     "output_type": "display_data"
    }
   ],
   "source": [
    "# Specify IRanges by 2 of start, end, width (SEW).\n",
    "ir1 <- IRanges(start = c(1,3,5), end = c(3,5,7))\n",
    "ir1"
   ]
  },
  {
   "cell_type": "code",
   "execution_count": 7,
   "metadata": {},
   "outputs": [
    {
     "data": {
      "text/html": [
       "TRUE"
      ],
      "text/latex": [
       "TRUE"
      ],
      "text/markdown": [
       "TRUE"
      ],
      "text/plain": [
       "[1] TRUE"
      ]
     },
     "metadata": {},
     "output_type": "display_data"
    }
   ],
   "source": [
    "ir2 <- IRanges(start = c(1,3,5), width = 3)\n",
    "all.equal(ir1, ir2)"
   ]
  },
  {
   "cell_type": "markdown",
   "metadata": {},
   "source": [
    "An **IRanges** consist of separate intervals; each interval is called a `range`. So ir1 above contains 3 ranges.\n",
    "\n",
    "Assessor methods: `start()`, `end()`, `width()` and also replacement methods."
   ]
  },
  {
   "cell_type": "code",
   "execution_count": 8,
   "metadata": {},
   "outputs": [
    {
     "data": {
      "text/html": [
       "<style>\n",
       ".list-inline {list-style: none; margin:0; padding: 0}\n",
       ".list-inline>li {display: inline-block}\n",
       ".list-inline>li:not(:last-child)::after {content: \"\\00b7\"; padding: 0 .5ex}\n",
       "</style>\n",
       "<ol class=list-inline><li>1</li><li>3</li><li>5</li></ol>\n"
      ],
      "text/latex": [
       "\\begin{enumerate*}\n",
       "\\item 1\n",
       "\\item 3\n",
       "\\item 5\n",
       "\\end{enumerate*}\n"
      ],
      "text/markdown": [
       "1. 1\n",
       "2. 3\n",
       "3. 5\n",
       "\n",
       "\n"
      ],
      "text/plain": [
       "[1] 1 3 5"
      ]
     },
     "metadata": {},
     "output_type": "display_data"
    }
   ],
   "source": [
    "start(ir1)"
   ]
  },
  {
   "cell_type": "code",
   "execution_count": 9,
   "metadata": {},
   "outputs": [
    {
     "data": {
      "text/plain": [
       "IRanges object with 3 ranges and 0 metadata columns:\n",
       "          start       end     width\n",
       "      <integer> <integer> <integer>\n",
       "  [1]         1         1         1\n",
       "  [2]         3         3         1\n",
       "  [3]         5         5         1"
      ]
     },
     "metadata": {},
     "output_type": "display_data"
    }
   ],
   "source": [
    "width(ir2) <- 1\n",
    "ir2"
   ]
  },
  {
   "cell_type": "code",
   "execution_count": 10,
   "metadata": {},
   "outputs": [
    {
     "data": {
      "text/plain": [
       "IRanges object with 3 ranges and 0 metadata columns:\n",
       "         start       end     width\n",
       "     <integer> <integer> <integer>\n",
       "  A1         1         3         3\n",
       "  A2         3         5         3\n",
       "  A3         5         7         3"
      ]
     },
     "metadata": {},
     "output_type": "display_data"
    }
   ],
   "source": [
    "# They may have names\n",
    "names(ir1) <- paste(\"A\", 1:3, sep = \"\")\n",
    "ir1"
   ]
  },
  {
   "cell_type": "code",
   "execution_count": 11,
   "metadata": {},
   "outputs": [
    {
     "data": {
      "text/plain": [
       "NULL"
      ]
     },
     "metadata": {},
     "output_type": "display_data"
    }
   ],
   "source": [
    "# They have a single dimension\n",
    "dim(ir1)"
   ]
  },
  {
   "cell_type": "code",
   "execution_count": 12,
   "metadata": {},
   "outputs": [
    {
     "data": {
      "text/html": [
       "3"
      ],
      "text/latex": [
       "3"
      ],
      "text/markdown": [
       "3"
      ],
      "text/plain": [
       "[1] 3"
      ]
     },
     "metadata": {},
     "output_type": "display_data"
    }
   ],
   "source": [
    "length(ir1)"
   ]
  },
  {
   "cell_type": "code",
   "execution_count": 13,
   "metadata": {},
   "outputs": [
    {
     "data": {
      "text/plain": [
       "IRanges object with 1 range and 0 metadata columns:\n",
       "         start       end     width\n",
       "     <integer> <integer> <integer>\n",
       "  A1         1         3         3"
      ]
     },
     "metadata": {},
     "output_type": "display_data"
    }
   ],
   "source": [
    "# Because of this, subsetting works like a vector\n",
    "ir1[1]"
   ]
  },
  {
   "cell_type": "code",
   "execution_count": 14,
   "metadata": {},
   "outputs": [
    {
     "data": {
      "text/plain": [
       "IRanges object with 1 range and 0 metadata columns:\n",
       "         start       end     width\n",
       "     <integer> <integer> <integer>\n",
       "  A1         1         3         3"
      ]
     },
     "metadata": {},
     "output_type": "display_data"
    }
   ],
   "source": [
    "ir1[\"A1\"]"
   ]
  },
  {
   "cell_type": "code",
   "execution_count": 15,
   "metadata": {},
   "outputs": [
    {
     "data": {
      "text/plain": [
       "IRanges object with 6 ranges and 0 metadata columns:\n",
       "         start       end     width\n",
       "     <integer> <integer> <integer>\n",
       "  A1         1         3         3\n",
       "  A2         3         5         3\n",
       "  A3         5         7         3\n",
       "             1         1         1\n",
       "             3         3         1\n",
       "             5         5         1"
      ]
     },
     "metadata": {},
     "output_type": "display_data"
    }
   ],
   "source": [
    "# Like vectors, you can concatenate two IRanges with the c() function\n",
    "c(ir1, ir2)"
   ]
  },
  {
   "cell_type": "markdown",
   "metadata": {},
   "source": [
    "### Normal IRanges"
   ]
  },
  {
   "cell_type": "markdown",
   "metadata": {},
   "source": [
    "A normal IRanges is a minimal representation of the IRanges viewed as a set. Each integer only occur in a single range and there are as few ranges as possible. In addition, it is ordered. Many functions produce a normal IRanges. Created by `reduce()`."
   ]
  },
  {
   "cell_type": "code",
   "execution_count": 16,
   "metadata": {},
   "outputs": [
    {
     "data": {
      "text/plain": [
       "IRanges object with 4 ranges and 0 metadata columns:\n",
       "          start       end     width\n",
       "      <integer> <integer> <integer>\n",
       "  [1]         1         4         4\n",
       "  [2]         3         4         2\n",
       "  [3]         7         8         2\n",
       "  [4]         9        10         2"
      ]
     },
     "metadata": {},
     "output_type": "display_data"
    }
   ],
   "source": [
    "ir <- IRanges(start = c(1,3,7,9), end = c(4,4,8,10))\n",
    "ir"
   ]
  },
  {
   "cell_type": "code",
   "execution_count": 17,
   "metadata": {},
   "outputs": [
    {
     "data": {
      "image/png": "[encoded data removed]",
      "text/plain": [
       "Plot with title \"ir\""
      ]
     },
     "metadata": {
      "image/png": {
       "height": 420,
       "width": 420
      }
     },
     "output_type": "display_data"
    }
   ],
   "source": [
    "plotRanges(ir)"
   ]
  },
  {
   "cell_type": "code",
   "execution_count": 18,
   "metadata": {},
   "outputs": [
    {
     "data": {
      "text/plain": [
       "IRanges object with 2 ranges and 0 metadata columns:\n",
       "          start       end     width\n",
       "      <integer> <integer> <integer>\n",
       "  [1]         1         4         4\n",
       "  [2]         7        10         4"
      ]
     },
     "metadata": {},
     "output_type": "display_data"
    }
   ],
   "source": [
    "reduce(ir)"
   ]
  },
  {
   "cell_type": "code",
   "execution_count": 19,
   "metadata": {},
   "outputs": [
    {
     "data": {
      "image/png": "[encoded data removed]",
      "text/plain": [
       "Plot with title \"reduce(ir)\""
      ]
     },
     "metadata": {
      "image/png": {
       "height": 420,
       "width": 420
      }
     },
     "output_type": "display_data"
    }
   ],
   "source": [
    "plotRanges(reduce(ir))"
   ]
  },
  {
   "cell_type": "markdown",
   "metadata": {},
   "source": [
    "From some perspective, `disjoin()` is the opposite of reduce(). An example explains better:"
   ]
  },
  {
   "cell_type": "code",
   "execution_count": 20,
   "metadata": {},
   "outputs": [
    {
     "data": {
      "text/plain": [
       "IRanges object with 3 ranges and 0 metadata columns:\n",
       "         start       end     width\n",
       "     <integer> <integer> <integer>\n",
       "  A1         1         3         3\n",
       "  A2         3         5         3\n",
       "  A3         5         7         3"
      ]
     },
     "metadata": {},
     "output_type": "display_data"
    }
   ],
   "source": [
    "ir1"
   ]
  },
  {
   "cell_type": "code",
   "execution_count": 21,
   "metadata": {},
   "outputs": [
    {
     "data": {
      "image/png": "[encoded data removed]",
      "text/plain": [
       "Plot with title \"ir1\""
      ]
     },
     "metadata": {
      "image/png": {
       "height": 420,
       "width": 420
      }
     },
     "output_type": "display_data"
    }
   ],
   "source": [
    "plotRanges(ir1)"
   ]
  },
  {
   "cell_type": "code",
   "execution_count": 22,
   "metadata": {},
   "outputs": [
    {
     "data": {
      "text/plain": [
       "IRanges object with 5 ranges and 0 metadata columns:\n",
       "          start       end     width\n",
       "      <integer> <integer> <integer>\n",
       "  [1]         1         2         2\n",
       "  [2]         3         3         1\n",
       "  [3]         4         4         1\n",
       "  [4]         5         5         1\n",
       "  [5]         6         7         2"
      ]
     },
     "metadata": {},
     "output_type": "display_data"
    }
   ],
   "source": [
    "disjoin(ir1)"
   ]
  },
  {
   "cell_type": "code",
   "execution_count": 23,
   "metadata": {},
   "outputs": [
    {
     "data": {
      "image/png": "[encoded data removed]",
      "text/plain": [
       "Plot with title \"disjoin(ir1)\""
      ]
     },
     "metadata": {
      "image/png": {
       "height": 420,
       "width": 420
      }
     },
     "output_type": "display_data"
    }
   ],
   "source": [
    "plotRanges(disjoin(ir1))"
   ]
  },
  {
   "cell_type": "markdown",
   "metadata": {},
   "source": [
    "### Manipulating IRanges, intra-range\n",
    "“Intra-range” manipulations are manipulations where each original range gets mapped to a new range.\n",
    "\n",
    "Examples of these are: `shift()`, `narrow()`, `flank()`, `resize()`, `restrict()`.\n",
    "\n",
    "For example, `resize()` can be extremely useful. It has a fix argument controlling where the resizing occurs from. Use fix=\"center\" to resize around the center of the ranges; I use this a lot."
   ]
  },
  {
   "cell_type": "code",
   "execution_count": 24,
   "metadata": {},
   "outputs": [
    {
     "data": {
      "text/plain": [
       "IRanges object with 4 ranges and 0 metadata columns:\n",
       "          start       end     width\n",
       "      <integer> <integer> <integer>\n",
       "  [1]         1         1         1\n",
       "  [2]         3         3         1\n",
       "  [3]         7         7         1\n",
       "  [4]         9         9         1"
      ]
     },
     "metadata": {},
     "output_type": "display_data"
    }
   ],
   "source": [
    "resize(ir, width = 1, fix = \"start\")"
   ]
  },
  {
   "cell_type": "code",
   "execution_count": 25,
   "metadata": {},
   "outputs": [
    {
     "data": {
      "image/png": "[encoded data removed]",
      "text/plain": [
       "Plot with title \"resize(ir, width = 1, fix = \"start\")\""
      ]
     },
     "metadata": {
      "image/png": {
       "height": 420,
       "width": 420
      }
     },
     "output_type": "display_data"
    }
   ],
   "source": [
    "plotRanges(resize(ir, width = 1, fix = \"start\"))"
   ]
  },
  {
   "cell_type": "code",
   "execution_count": 26,
   "metadata": {},
   "outputs": [
    {
     "data": {
      "text/plain": [
       "IRanges object with 4 ranges and 0 metadata columns:\n",
       "          start       end     width\n",
       "      <integer> <integer> <integer>\n",
       "  [1]         2         2         1\n",
       "  [2]         3         3         1\n",
       "  [3]         7         7         1\n",
       "  [4]         9         9         1"
      ]
     },
     "metadata": {},
     "output_type": "display_data"
    }
   ],
   "source": [
    "resize(ir, width = 1, fix = \"center\")"
   ]
  },
  {
   "cell_type": "code",
   "execution_count": 27,
   "metadata": {},
   "outputs": [
    {
     "data": {
      "image/png": "[encoded data removed]",
      "text/plain": [
       "Plot with title \"resize(ir, width = 1, fix = \"center\")\""
      ]
     },
     "metadata": {
      "image/png": {
       "height": 420,
       "width": 420
      }
     },
     "output_type": "display_data"
    }
   ],
   "source": [
    "plotRanges(resize(ir, width = 1, fix = \"center\"))"
   ]
  },
  {
   "cell_type": "markdown",
   "metadata": {},
   "source": [
    "### Manipulating IRanges, as sets\n",
    "\n",
    "Manipulating IRanges as sets means that we view each IRanges as a set of integers; individual integers is either contained in one or more ranges or they are not. This is equivalent to calling reduce() on the IRanges first.\n",
    "\n",
    "Once this is done, we can use standard: `union()`, `intersect()`, `setdiff()`, `gaps()` between two IRanges (which all returns normalized IRanges)."
   ]
  },
  {
   "cell_type": "code",
   "execution_count": 28,
   "metadata": {},
   "outputs": [
    {
     "data": {
      "text/plain": [
       "IRanges object with 2 ranges and 0 metadata columns:\n",
       "          start       end     width\n",
       "      <integer> <integer> <integer>\n",
       "  [1]         1         1         1\n",
       "  [2]         3         6         4"
      ]
     },
     "metadata": {},
     "output_type": "display_data"
    }
   ],
   "source": [
    "ir1 <- IRanges(start = c(1, 3, 5), width = 1)\n",
    "ir2 <- IRanges(start = c(4, 5, 6), width = 1)\n",
    "union(ir1, ir2)"
   ]
  },
  {
   "cell_type": "code",
   "execution_count": 29,
   "metadata": {},
   "outputs": [
    {
     "data": {
      "text/plain": [
       "IRanges object with 1 range and 0 metadata columns:\n",
       "          start       end     width\n",
       "      <integer> <integer> <integer>\n",
       "  [1]         5         5         1"
      ]
     },
     "metadata": {},
     "output_type": "display_data"
    }
   ],
   "source": [
    "intersect(ir1, ir2)"
   ]
  },
  {
   "cell_type": "code",
   "execution_count": 30,
   "metadata": {},
   "outputs": [
    {
     "data": {
      "text/plain": [
       "IRanges object with 2 ranges and 0 metadata columns:\n",
       "          start       end     width\n",
       "      <integer> <integer> <integer>\n",
       "  [1]         1         1         1\n",
       "  [2]         3         6         4"
      ]
     },
     "metadata": {},
     "output_type": "display_data"
    }
   ],
   "source": [
    "# Because they return normalized IRanges, an alternative to union() is\n",
    "reduce(c(ir1, ir2))"
   ]
  },
  {
   "cell_type": "markdown",
   "metadata": {},
   "source": [
    "There is also an element-wise (pair-wise) version of these: punion(), pintersect(), psetdiff(), pgap(); this is similar to say pmax from base R. In my experience, these functions are seldom used."
   ]
  },
  {
   "cell_type": "markdown",
   "metadata": {},
   "source": [
    "### Finding Overlaps\n",
    "Finding (pairwise) overlaps between two IRanges is done by `findOverlaps()`. This function is very important and amazingly fast!"
   ]
  },
  {
   "cell_type": "code",
   "execution_count": 31,
   "metadata": {},
   "outputs": [
    {
     "data": {
      "text/plain": [
       "Hits object with 3 hits and 0 metadata columns:\n",
       "      queryHits subjectHits\n",
       "      <integer>   <integer>\n",
       "  [1]         1           1\n",
       "  [2]         2           1\n",
       "  [3]         2           2\n",
       "  -------\n",
       "  queryLength: 3 / subjectLength: 2"
      ]
     },
     "metadata": {},
     "output_type": "display_data"
    }
   ],
   "source": [
    "ir1 <- IRanges(start = c(1,4,8), end = c(3,7,10))\n",
    "ir2 <- IRanges(start = c(3,4), width = 3)\n",
    "ov <- findOverlaps(ir1, ir2)\n",
    "ov"
   ]
  },
  {
   "cell_type": "markdown",
   "metadata": {},
   "source": [
    "It returns a Hits object which describes the relationship between the two IRanges. This object is basically a two-column matrix of indicies into the two IRanges.\n",
    "\n",
    "The two columns of the hits object can be accessed by `queryHits()` and `subjectHits()` (often used with unique()).\n",
    "\n",
    "For example, the first row of the matrix describes that the first range of ir1 overlaps with the first range of ir2. Or said differently, they have a non-empty intersection:"
   ]
  },
  {
   "cell_type": "code",
   "execution_count": 32,
   "metadata": {},
   "outputs": [
    {
     "data": {
      "text/plain": [
       "IRanges object with 0 ranges and 0 metadata columns:\n",
       "       start       end     width\n",
       "   <integer> <integer> <integer>"
      ]
     },
     "metadata": {},
     "output_type": "display_data"
    }
   ],
   "source": [
    "intersect(ir1[subjectHits(ov)[1]],\n",
    "          ir2[queryHits(ov)[2]])"
   ]
  },
  {
   "cell_type": "markdown",
   "metadata": {},
   "source": [
    "The elements of `unique(queryHits)` gives you the indices of the query ranges which actually had an overlap; you need unique because a query range may overlap multiple subject range"
   ]
  },
  {
   "cell_type": "code",
   "execution_count": 33,
   "metadata": {},
   "outputs": [
    {
     "data": {
      "text/html": [
       "<style>\n",
       ".list-inline {list-style: none; margin:0; padding: 0}\n",
       ".list-inline>li {display: inline-block}\n",
       ".list-inline>li:not(:last-child)::after {content: \"\\00b7\"; padding: 0 .5ex}\n",
       "</style>\n",
       "<ol class=list-inline><li>1</li><li>2</li><li>2</li></ol>\n"
      ],
      "text/latex": [
       "\\begin{enumerate*}\n",
       "\\item 1\n",
       "\\item 2\n",
       "\\item 2\n",
       "\\end{enumerate*}\n"
      ],
      "text/markdown": [
       "1. 1\n",
       "2. 2\n",
       "3. 2\n",
       "\n",
       "\n"
      ],
      "text/plain": [
       "[1] 1 2 2"
      ]
     },
     "metadata": {},
     "output_type": "display_data"
    }
   ],
   "source": [
    "queryHits(ov)"
   ]
  },
  {
   "cell_type": "code",
   "execution_count": 34,
   "metadata": {},
   "outputs": [
    {
     "data": {
      "text/html": [
       "<style>\n",
       ".list-inline {list-style: none; margin:0; padding: 0}\n",
       ".list-inline>li {display: inline-block}\n",
       ".list-inline>li:not(:last-child)::after {content: \"\\00b7\"; padding: 0 .5ex}\n",
       "</style>\n",
       "<ol class=list-inline><li>1</li><li>2</li></ol>\n"
      ],
      "text/latex": [
       "\\begin{enumerate*}\n",
       "\\item 1\n",
       "\\item 2\n",
       "\\end{enumerate*}\n"
      ],
      "text/markdown": [
       "1. 1\n",
       "2. 2\n",
       "\n",
       "\n"
      ],
      "text/plain": [
       "[1] 1 2"
      ]
     },
     "metadata": {},
     "output_type": "display_data"
    }
   ],
   "source": [
    "unique(queryHits(ov))"
   ]
  },
  {
   "cell_type": "markdown",
   "metadata": {},
   "source": [
    "*The list of arguments to `findOverlaps()` is long; there are a few hidden treasures here. For example, you can ask to only get an overlap if two ranges overlap by a certain number of bases.*"
   ]
  },
  {
   "cell_type": "code",
   "execution_count": 35,
   "metadata": {},
   "outputs": [
    {
     "data": {
      "text/html": [
       "<pre class=language-r><code>function (query, subject, maxgap = -1L, minoverlap = 0L, type = c(\"any\", \n",
       "<span style=white-space:pre-wrap>    \"start\", \"end\", \"within\", \"equal\"), select = c(\"all\", \"first\", </span>\n",
       "<span style=white-space:pre-wrap>    \"last\", \"arbitrary\"), ...) </span>\n",
       "NULL</code></pre>"
      ],
      "text/latex": [
       "\\begin{minted}{r}\n",
       "function (query, subject, maxgap = -1L, minoverlap = 0L, type = c(\"any\", \n",
       "    \"start\", \"end\", \"within\", \"equal\"), select = c(\"all\", \"first\", \n",
       "    \"last\", \"arbitrary\"), ...) \n",
       "NULL\n",
       "\\end{minted}"
      ],
      "text/markdown": [
       "```r\n",
       "function (query, subject, maxgap = -1L, minoverlap = 0L, type = c(\"any\", \n",
       "    \"start\", \"end\", \"within\", \"equal\"), select = c(\"all\", \"first\", \n",
       "    \"last\", \"arbitrary\"), ...) \n",
       "NULL\n",
       "```"
      ],
      "text/plain": [
       "function (query, subject, maxgap = -1L, minoverlap = 0L, type = c(\"any\", \n",
       "    \"start\", \"end\", \"within\", \"equal\"), select = c(\"all\", \"first\", \n",
       "    \"last\", \"arbitrary\"), ...) \n",
       "NULL"
      ]
     },
     "metadata": {},
     "output_type": "display_data"
    }
   ],
   "source": [
    "args(findOverlaps)"
   ]
  },
  {
   "cell_type": "markdown",
   "metadata": {},
   "source": [
    "### countOverlaps\n",
    "For efficiency, there is also countOverlaps(), which just returns the number of overlaps. This function is faster and takes up less memory because it does not have to keep track of which ranges overlap, just the number of overlaps."
   ]
  },
  {
   "cell_type": "code",
   "execution_count": 36,
   "metadata": {},
   "outputs": [
    {
     "data": {
      "text/html": [
       "<style>\n",
       ".list-inline {list-style: none; margin:0; padding: 0}\n",
       ".list-inline>li {display: inline-block}\n",
       ".list-inline>li:not(:last-child)::after {content: \"\\00b7\"; padding: 0 .5ex}\n",
       "</style>\n",
       "<ol class=list-inline><li>1</li><li>2</li><li>0</li></ol>\n"
      ],
      "text/latex": [
       "\\begin{enumerate*}\n",
       "\\item 1\n",
       "\\item 2\n",
       "\\item 0\n",
       "\\end{enumerate*}\n"
      ],
      "text/markdown": [
       "1. 1\n",
       "2. 2\n",
       "3. 0\n",
       "\n",
       "\n"
      ],
      "text/plain": [
       "[1] 1 2 0"
      ]
     },
     "metadata": {},
     "output_type": "display_data"
    }
   ],
   "source": [
    "countOverlaps(ir1, ir2)"
   ]
  },
  {
   "cell_type": "markdown",
   "metadata": {},
   "source": [
    "### Finding nearest IRanges\n",
    "Sometimes you have two sets of IRanges and you need to know which ones are closest to each other. Functions for this include `nearest()`, `precede()`, `follow()`. Watch out for ties!"
   ]
  },
  {
   "cell_type": "code",
   "execution_count": 37,
   "metadata": {},
   "outputs": [
    {
     "data": {
      "text/plain": [
       "IRanges object with 3 ranges and 0 metadata columns:\n",
       "          start       end     width\n",
       "      <integer> <integer> <integer>\n",
       "  [1]         1         3         3\n",
       "  [2]         4         7         4\n",
       "  [3]         8        10         3"
      ]
     },
     "metadata": {},
     "output_type": "display_data"
    }
   ],
   "source": [
    "ir1"
   ]
  },
  {
   "cell_type": "code",
   "execution_count": 38,
   "metadata": {},
   "outputs": [
    {
     "data": {
      "text/plain": [
       "IRanges object with 2 ranges and 0 metadata columns:\n",
       "          start       end     width\n",
       "      <integer> <integer> <integer>\n",
       "  [1]         3         5         3\n",
       "  [2]         4         6         3"
      ]
     },
     "metadata": {},
     "output_type": "display_data"
    }
   ],
   "source": [
    "ir2"
   ]
  },
  {
   "cell_type": "code",
   "execution_count": 39,
   "metadata": {},
   "outputs": [
    {
     "data": {
      "text/html": [
       "<style>\n",
       ".list-inline {list-style: none; margin:0; padding: 0}\n",
       ".list-inline>li {display: inline-block}\n",
       ".list-inline>li:not(:last-child)::after {content: \"\\00b7\"; padding: 0 .5ex}\n",
       "</style>\n",
       "<ol class=list-inline><li>1</li><li>1</li><li>2</li></ol>\n"
      ],
      "text/latex": [
       "\\begin{enumerate*}\n",
       "\\item 1\n",
       "\\item 1\n",
       "\\item 2\n",
       "\\end{enumerate*}\n"
      ],
      "text/markdown": [
       "1. 1\n",
       "2. 1\n",
       "3. 2\n",
       "\n",
       "\n"
      ],
      "text/plain": [
       "[1] 1 1 2"
      ]
     },
     "metadata": {},
     "output_type": "display_data"
    }
   ],
   "source": [
    "nearest(ir1, ir2)"
   ]
  },
  {
   "cell_type": "markdown",
   "metadata": {},
   "source": [
    "## 02: GenomicRanges - GRanges"
   ]
  },
  {
   "cell_type": "markdown",
   "metadata": {},
   "source": [
    "### Dependencies"
   ]
  },
  {
   "cell_type": "code",
   "execution_count": 40,
   "metadata": {},
   "outputs": [
    {
     "name": "stderr",
     "output_type": "stream",
     "text": [
      "Loading required package: GenomeInfoDb\n",
      "\n"
     ]
    }
   ],
   "source": [
    "# Install Genomic Ranges Library\n",
    "library(GenomicRanges)"
   ]
  },
  {
   "cell_type": "markdown",
   "metadata": {},
   "source": [
    "##"
   ]
  },
  {
   "cell_type": "markdown",
   "metadata": {},
   "source": [
    "**`GRanges`** : `GRanges` are like `IRanges` with strand and chromosome. Strand can be +, - and *. The value * indicates ‘unknown strand’ or ‘unstranded’. This value usually gets treated as a third strand, which is sometimes confusing to users (examples below)."
   ]
  },
  {
   "cell_type": "code",
   "execution_count": 41,
   "metadata": {},
   "outputs": [
    {
     "data": {
      "text/plain": [
       "GRanges object with 3 ranges and 0 metadata columns:\n",
       "      seqnames    ranges strand\n",
       "         <Rle> <IRanges>  <Rle>\n",
       "  [1]     chr1       1-3      +\n",
       "  [2]     chr1       3-5      -\n",
       "  [3]     chr1       5-7      +\n",
       "  -------\n",
       "  seqinfo: 1 sequence from an unspecified genome; no seqlengths"
      ]
     },
     "metadata": {},
     "output_type": "display_data"
    }
   ],
   "source": [
    "## They get created with the GRanges constructor:\n",
    "gr <- GRanges(seqnames = \"chr1\", strand = c(\"+\", \"-\", \"+\"),\n",
    "              ranges = IRanges(start = c(1,3,5), width = 3))\n",
    "gr"
   ]
  },
  {
   "cell_type": "markdown",
   "metadata": {},
   "source": [
    "Natural accessor functions: \n",
    "- strand(), \n",
    "- seqnames(), \n",
    "- ranges(), \n",
    "- start(), \n",
    "- end(), \n",
    "- width().\n",
    "Because the have strand, we now have operations which are relative to the direction of transcription (`upstream()`, `downstream()`):"
   ]
  },
  {
   "cell_type": "code",
   "execution_count": 42,
   "metadata": {},
   "outputs": [
    {
     "data": {
      "text/plain": [
       "GRanges object with 3 ranges and 0 metadata columns:\n",
       "      seqnames    ranges strand\n",
       "         <Rle> <IRanges>  <Rle>\n",
       "  [1]     chr1       4-5      +\n",
       "  [2]     chr1       1-2      -\n",
       "  [3]     chr1       8-9      +\n",
       "  -------\n",
       "  seqinfo: 1 sequence from an unspecified genome; no seqlengths"
      ]
     },
     "metadata": {},
     "output_type": "display_data"
    }
   ],
   "source": [
    "flank(gr, 2, start = FALSE)"
   ]
  },
  {
   "cell_type": "code",
   "execution_count": 43,
   "metadata": {},
   "outputs": [
    {
     "data": {
      "text/plain": [
       "Seqinfo object with 1 sequence from an unspecified genome; no seqlengths:\n",
       "  seqnames seqlengths isCircular genome\n",
       "  chr1             NA         NA   <NA>"
      ]
     },
     "metadata": {},
     "output_type": "display_data"
    }
   ],
   "source": [
    "# GRanges, seqinfo\n",
    "# GRanges operate within a universe of sequences (chromosomes/contigs) and their lengths.\n",
    "# This is described through seqinfo:\n",
    "seqinfo(gr)"
   ]
  },
  {
   "cell_type": "code",
   "execution_count": 44,
   "metadata": {},
   "outputs": [
    {
     "data": {
      "text/plain": [
       "Seqinfo object with 1 sequence from an unspecified genome:\n",
       "  seqnames seqlengths isCircular genome\n",
       "  chr1             10         NA   <NA>"
      ]
     },
     "metadata": {},
     "output_type": "display_data"
    }
   ],
   "source": [
    "seqlengths(gr) <- c(\"chr1\" = 10)\n",
    "seqinfo(gr)"
   ]
  },
  {
   "cell_type": "code",
   "execution_count": 45,
   "metadata": {},
   "outputs": [
    {
     "data": {
      "text/html": [
       "'chr1'"
      ],
      "text/latex": [
       "'chr1'"
      ],
      "text/markdown": [
       "'chr1'"
      ],
      "text/plain": [
       "[1] \"chr1\""
      ]
     },
     "metadata": {},
     "output_type": "display_data"
    }
   ],
   "source": [
    "seqlevels(gr)"
   ]
  },
  {
   "cell_type": "code",
   "execution_count": 46,
   "metadata": {},
   "outputs": [
    {
     "data": {
      "text/html": [
       "<strong>chr1:</strong> 10"
      ],
      "text/latex": [
       "\\textbf{chr1:} 10"
      ],
      "text/markdown": [
       "**chr1:** 10"
      ],
      "text/plain": [
       "chr1 \n",
       "  10 "
      ]
     },
     "metadata": {},
     "output_type": "display_data"
    }
   ],
   "source": [
    "seqlengths(gr)"
   ]
  },
  {
   "cell_type": "code",
   "execution_count": 47,
   "metadata": {},
   "outputs": [
    {
     "data": {
      "text/plain": [
       "GRanges object with 5 ranges and 0 metadata columns:\n",
       "      seqnames    ranges strand\n",
       "         <Rle> <IRanges>  <Rle>\n",
       "  [1]     chr1         4      +\n",
       "  [2]     chr1      8-10      +\n",
       "  [3]     chr1       1-2      -\n",
       "  [4]     chr1      6-10      -\n",
       "  [5]     chr1      1-10      *\n",
       "  -------\n",
       "  seqinfo: 1 sequence from an unspecified genome"
      ]
     },
     "metadata": {},
     "output_type": "display_data"
    }
   ],
   "source": [
    "# Especially the length of the chromosomes are used by some functions. For example gaps() return the stretches of the genome not covered by the GRanges.\n",
    "gaps(gr)"
   ]
  },
  {
   "cell_type": "markdown",
   "metadata": {},
   "source": [
    "In this example, we know that the last gap stops at 10, because that is the length of the chromosome. Note how a range on the * strand appears in the result."
   ]
  },
  {
   "cell_type": "code",
   "execution_count": 48,
   "metadata": {},
   "outputs": [],
   "source": [
    "# Let us expand the GRanges with another chromosome\n",
    "seqlevels(gr) <- c(\"chr1\", \"chr2\")\n",
    "seqnames(gr) <- c(\"chr1\", \"chr2\", \"chr1\")"
   ]
  },
  {
   "cell_type": "code",
   "execution_count": 49,
   "metadata": {},
   "outputs": [
    {
     "data": {
      "text/plain": [
       "GRanges object with 3 ranges and 0 metadata columns:\n",
       "      seqnames    ranges strand\n",
       "         <Rle> <IRanges>  <Rle>\n",
       "  [1]     chr1       1-3      +\n",
       "  [2]     chr2       3-5      -\n",
       "  [3]     chr1       5-7      +\n",
       "  -------\n",
       "  seqinfo: 2 sequences from an unspecified genome"
      ]
     },
     "metadata": {},
     "output_type": "display_data"
    }
   ],
   "source": [
    "gr"
   ]
  },
  {
   "cell_type": "markdown",
   "metadata": {},
   "source": [
    "When you `sort()` a GRanges, the sorting order of the chromosomes is determined by their order in seqlevel. This is nice if you want the sorting “chr1”, “chr2”, …, “chr10”, …"
   ]
  },
  {
   "cell_type": "code",
   "execution_count": 50,
   "metadata": {},
   "outputs": [
    {
     "data": {
      "text/plain": [
       "GRanges object with 3 ranges and 0 metadata columns:\n",
       "      seqnames    ranges strand\n",
       "         <Rle> <IRanges>  <Rle>\n",
       "  [1]     chr1       1-3      +\n",
       "  [2]     chr1       5-7      +\n",
       "  [3]     chr2       3-5      -\n",
       "  -------\n",
       "  seqinfo: 2 sequences from an unspecified genome"
      ]
     },
     "metadata": {},
     "output_type": "display_data"
    }
   ],
   "source": [
    "sort(gr)"
   ]
  },
  {
   "cell_type": "code",
   "execution_count": 51,
   "metadata": {},
   "outputs": [
    {
     "data": {
      "text/plain": [
       "GRanges object with 3 ranges and 0 metadata columns:\n",
       "      seqnames    ranges strand\n",
       "         <Rle> <IRanges>  <Rle>\n",
       "  [1]     chr1       1-3      +\n",
       "  [2]     chr2       3-5      -\n",
       "  [3]     chr1       5-7      +\n",
       "  -------\n",
       "  seqinfo: 2 sequences from hg19 genome"
      ]
     },
     "metadata": {},
     "output_type": "display_data"
    }
   ],
   "source": [
    "# You can associate a genome with a GRanges.\n",
    "genome(gr) <- \"hg19\"\n",
    "gr"
   ]
  },
  {
   "cell_type": "markdown",
   "metadata": {},
   "source": [
    "This becomes valuable when you deal with data from different genome versions (as we all do), because it allows R to throw an error when you compare two `GRanges` from **different genomes**, like"
   ]
  },
  {
   "cell_type": "code",
   "execution_count": 52,
   "metadata": {},
   "outputs": [
    {
     "ename": "ERROR",
     "evalue": "Error in mergeNamedAtomicVectors(genome(x), genome(y), what = c(\"sequence\", : sequences chr1, chr2 have incompatible genomes:\n  - in 'x': hg19, hg19\n  - in 'y': hg18, hg18\n",
     "output_type": "error",
     "traceback": [
      "Error in mergeNamedAtomicVectors(genome(x), genome(y), what = c(\"sequence\", : sequences chr1, chr2 have incompatible genomes:\n  - in 'x': hg19, hg19\n  - in 'y': hg18, hg18\nTraceback:\n",
      "1. findOverlaps(gr, gr2)",
      "2. findOverlaps(gr, gr2)",
      "3. .local(query, subject, maxgap, minoverlap, type, select, ...)",
      "4. findOverlaps_GNCList(query, subject, maxgap = maxgap, minoverlap = minoverlap, \n .     type = type, select = select, ignore.strand = ignore.strand)",
      "5. merge(seqinfo(query), seqinfo(subject))",
      "6. merge(seqinfo(query), seqinfo(subject))",
      "7. .Seqinfo.merge(x, y, ...)",
      "8. .Seqinfo.mergexy(x, y)",
      "9. mergeNamedAtomicVectors(genome(x), genome(y), what = c(\"sequence\", \n .     \"genomes\"))",
      "10. stop(msg)"
     ]
    }
   ],
   "source": [
    "gr2 <- gr\n",
    "genome(gr2) <- \"hg18\"\n",
    "findOverlaps(gr, gr2)"
   ]
  },
  {
   "cell_type": "markdown",
   "metadata": {},
   "source": [
    "## GenomicRanges - Basic GRanges Usage"
   ]
  },
  {
   "cell_type": "markdown",
   "metadata": {},
   "source": [
    "### DataFrame\n",
    "The [S4Vectors](https://bioconductor.org/packages/release/bioc/html/S4Vectors.html) package introduced the DataFrame class. This class is very similar to the base data.frame class from R, but it allows columns of any class, provided a number of required methods are supported. For example, DataFrame can have IRanges as columns, unlike data.frame:"
   ]
  },
  {
   "cell_type": "code",
   "execution_count": null,
   "metadata": {},
   "outputs": [
    {
     "data": {
      "text/plain": [
       "DataFrame with 2 rows and 1 column\n",
       "    iranges\n",
       "  <IRanges>\n",
       "1       1-3\n",
       "2       2-4"
      ]
     },
     "metadata": {},
     "output_type": "display_data"
    }
   ],
   "source": [
    "ir <- IRanges(start = 1:2, width = 3)\n",
    "df1 <- DataFrame(iranges = ir)\n",
    "df1"
   ]
  },
  {
   "cell_type": "code",
   "execution_count": null,
   "metadata": {},
   "outputs": [
    {
     "data": {
      "text/plain": [
       "IRanges object with 2 ranges and 0 metadata columns:\n",
       "          start       end     width\n",
       "      <integer> <integer> <integer>\n",
       "  [1]         1         3         3\n",
       "  [2]         2         4         3"
      ]
     },
     "metadata": {},
     "output_type": "display_data"
    }
   ],
   "source": [
    "df1$iranges"
   ]
  },
  {
   "cell_type": "code",
   "execution_count": null,
   "metadata": {},
   "outputs": [
    {
     "data": {
      "text/html": [
       "<table class=\"dataframe\">\n",
       "<caption>A data.frame: 2 × 3</caption>\n",
       "<thead>\n",
       "\t<tr><th scope=col>iranges.start</th><th scope=col>iranges.end</th><th scope=col>iranges.width</th></tr>\n",
       "\t<tr><th scope=col>&lt;int&gt;</th><th scope=col>&lt;int&gt;</th><th scope=col>&lt;int&gt;</th></tr>\n",
       "</thead>\n",
       "<tbody>\n",
       "\t<tr><td>1</td><td>3</td><td>3</td></tr>\n",
       "\t<tr><td>2</td><td>4</td><td>3</td></tr>\n",
       "</tbody>\n",
       "</table>\n"
      ],
      "text/latex": [
       "A data.frame: 2 × 3\n",
       "\\begin{tabular}{lll}\n",
       " iranges.start & iranges.end & iranges.width\\\\\n",
       " <int> & <int> & <int>\\\\\n",
       "\\hline\n",
       "\t 1 & 3 & 3\\\\\n",
       "\t 2 & 4 & 3\\\\\n",
       "\\end{tabular}\n"
      ],
      "text/markdown": [
       "\n",
       "A data.frame: 2 × 3\n",
       "\n",
       "| iranges.start &lt;int&gt; | iranges.end &lt;int&gt; | iranges.width &lt;int&gt; |\n",
       "|---|---|---|\n",
       "| 1 | 3 | 3 |\n",
       "| 2 | 4 | 3 |\n",
       "\n"
      ],
      "text/plain": [
       "  iranges.start iranges.end iranges.width\n",
       "1 1             3           3            \n",
       "2 2             4           3            "
      ]
     },
     "metadata": {},
     "output_type": "display_data"
    }
   ],
   "source": [
    "df2 <- data.frame(iranges = ir)\n",
    "df2"
   ]
  },
  {
   "cell_type": "markdown",
   "metadata": {},
   "source": [
    "In the data.frame case, the IRanges gives rise to 4 columns, whereas it is a single column when a DataFrame is used."
   ]
  },
  {
   "cell_type": "markdown",
   "metadata": {},
   "source": [
    "### GRanges, metadata\n",
    "`GRanges` (unlike IRanges) may have **associated metadata**. This is immensely useful. The formal way to access and set this metadata is through values or elementMetadata or mcols, like"
   ]
  },
  {
   "cell_type": "code",
   "execution_count": null,
   "metadata": {},
   "outputs": [
    {
     "data": {
      "text/plain": [
       "GRanges object with 3 ranges and 1 metadata column:\n",
       "      seqnames    ranges strand |     score\n",
       "         <Rle> <IRanges>  <Rle> | <numeric>\n",
       "  [1]     chr1       1-3      + |       0.1\n",
       "  [2]     chr1       3-5      - |       0.5\n",
       "  [3]     chr1       5-7      + |       0.3\n",
       "  -------\n",
       "  seqinfo: 1 sequence from an unspecified genome; no seqlengths"
      ]
     },
     "metadata": {},
     "output_type": "display_data"
    }
   ],
   "source": [
    "gr <- GRanges(seqnames = \"chr1\", strand = c(\"+\", \"-\", \"+\"),\n",
    "              ranges = IRanges(start = c(1,3,5), width = 3))\n",
    "values(gr) <- DataFrame(score = c(0.1, 0.5, 0.3))\n",
    "gr"
   ]
  },
  {
   "cell_type": "code",
   "execution_count": null,
   "metadata": {},
   "outputs": [
    {
     "data": {
      "text/html": [
       "<style>\n",
       ".list-inline {list-style: none; margin:0; padding: 0}\n",
       ".list-inline>li {display: inline-block}\n",
       ".list-inline>li:not(:last-child)::after {content: \"\\00b7\"; padding: 0 .5ex}\n",
       "</style>\n",
       "<ol class=list-inline><li>0.1</li><li>0.5</li><li>0.3</li></ol>\n"
      ],
      "text/latex": [
       "\\begin{enumerate*}\n",
       "\\item 0.1\n",
       "\\item 0.5\n",
       "\\item 0.3\n",
       "\\end{enumerate*}\n"
      ],
      "text/markdown": [
       "1. 0.1\n",
       "2. 0.5\n",
       "3. 0.3\n",
       "\n",
       "\n"
      ],
      "text/plain": [
       "[1] 0.1 0.5 0.3"
      ]
     },
     "metadata": {},
     "output_type": "display_data"
    }
   ],
   "source": [
    "# A much easier way to set and access metadata is through the $ operator\n",
    "gr$score"
   ]
  },
  {
   "cell_type": "code",
   "execution_count": null,
   "metadata": {},
   "outputs": [
    {
     "data": {
      "text/plain": [
       "GRanges object with 3 ranges and 2 metadata columns:\n",
       "      seqnames    ranges strand |     score    score2\n",
       "         <Rle> <IRanges>  <Rle> | <numeric> <numeric>\n",
       "  [1]     chr1       1-3      + |       0.1      0.02\n",
       "  [2]     chr1       3-5      - |       0.5      0.10\n",
       "  [3]     chr1       5-7      + |       0.3      0.06\n",
       "  -------\n",
       "  seqinfo: 1 sequence from an unspecified genome; no seqlengths"
      ]
     },
     "metadata": {},
     "output_type": "display_data"
    }
   ],
   "source": [
    "gr$score2 = gr$score * 0.2\n",
    "gr"
   ]
  },
  {
   "cell_type": "markdown",
   "metadata": {},
   "source": [
    "### findOverlaps\n",
    "`findOverlaps` works exactly as for IRanges. But the strand information can be confusing. Let us make an example"
   ]
  },
  {
   "cell_type": "code",
   "execution_count": null,
   "metadata": {},
   "outputs": [
    {
     "data": {
      "text/plain": [
       "GRanges object with 3 ranges and 0 metadata columns:\n",
       "      seqnames    ranges strand\n",
       "         <Rle> <IRanges>  <Rle>\n",
       "  [1]     chr1       1-3      *\n",
       "  [2]     chr2       3-5      *\n",
       "  [3]     chr1       5-7      *\n",
       "  -------\n",
       "  seqinfo: 2 sequences from an unspecified genome; no seqlengths"
      ]
     },
     "metadata": {},
     "output_type": "display_data"
    }
   ],
   "source": [
    "gr2 <- GRanges(seqnames = c(\"chr1\", \"chr2\", \"chr1\"), strand = \"*\",\n",
    "               ranges = IRanges(start = c(1, 3, 5), width = 3))\n",
    "gr2"
   ]
  },
  {
   "cell_type": "code",
   "execution_count": null,
   "metadata": {},
   "outputs": [
    {
     "data": {
      "text/plain": [
       "GRanges object with 3 ranges and 2 metadata columns:\n",
       "      seqnames    ranges strand |     score    score2\n",
       "         <Rle> <IRanges>  <Rle> | <numeric> <numeric>\n",
       "  [1]     chr1       1-3      + |       0.1      0.02\n",
       "  [2]     chr1       3-5      - |       0.5      0.10\n",
       "  [3]     chr1       5-7      + |       0.3      0.06\n",
       "  -------\n",
       "  seqinfo: 1 sequence from an unspecified genome; no seqlengths"
      ]
     },
     "metadata": {},
     "output_type": "display_data"
    }
   ],
   "source": [
    "gr"
   ]
  },
  {
   "cell_type": "markdown",
   "metadata": {},
   "source": [
    "Note how the ranges in the two GRanges object are the same coordinates, they just have different seqnames and strand. Let us try to do a standard `findOverlaps`:"
   ]
  },
  {
   "cell_type": "code",
   "execution_count": null,
   "metadata": {},
   "outputs": [
    {
     "data": {
      "text/plain": [
       "Hits object with 4 hits and 0 metadata columns:\n",
       "      queryHits subjectHits\n",
       "      <integer>   <integer>\n",
       "  [1]         1           1\n",
       "  [2]         2           1\n",
       "  [3]         2           3\n",
       "  [4]         3           3\n",
       "  -------\n",
       "  queryLength: 3 / subjectLength: 3"
      ]
     },
     "metadata": {},
     "output_type": "display_data"
    }
   ],
   "source": [
    "findOverlaps(gr, gr2)\n"
   ]
  },
  {
   "cell_type": "markdown",
   "metadata": {},
   "source": [
    "Notice how the `*` strand overlaps both + and -. There is an argument `ignore.strand` to findOverlaps which will … ignore the strand information (so + overlaps -). Several other functions in GenomicRanges have an ignore.strand argument as well."
   ]
  },
  {
   "cell_type": "code",
   "execution_count": null,
   "metadata": {},
   "outputs": [
    {
     "data": {
      "text/plain": [
       "Hits object with 4 hits and 0 metadata columns:\n",
       "      queryHits subjectHits\n",
       "      <integer>   <integer>\n",
       "  [1]         1           1\n",
       "  [2]         2           1\n",
       "  [3]         2           3\n",
       "  [4]         3           3\n",
       "  -------\n",
       "  queryLength: 3 / subjectLength: 3"
      ]
     },
     "metadata": {},
     "output_type": "display_data"
    }
   ],
   "source": [
    "findOverlaps(gr, gr2,ignore.strand = TRUE)"
   ]
  },
  {
   "cell_type": "markdown",
   "metadata": {},
   "source": [
    "### subsetByOverlaps"
   ]
  },
  {
   "cell_type": "markdown",
   "metadata": {},
   "source": [
    "A common operation is to select only certain ranges from a GRanges which overlap something else. Enter the convenience function `subsetByOverlaps`"
   ]
  },
  {
   "cell_type": "code",
   "execution_count": null,
   "metadata": {},
   "outputs": [
    {
     "data": {
      "text/plain": [
       "GRanges object with 3 ranges and 2 metadata columns:\n",
       "      seqnames    ranges strand |     score    score2\n",
       "         <Rle> <IRanges>  <Rle> | <numeric> <numeric>\n",
       "  [1]     chr1       1-3      + |       0.1      0.02\n",
       "  [2]     chr1       3-5      - |       0.5      0.10\n",
       "  [3]     chr1       5-7      + |       0.3      0.06\n",
       "  -------\n",
       "  seqinfo: 1 sequence from an unspecified genome; no seqlengths"
      ]
     },
     "metadata": {},
     "output_type": "display_data"
    }
   ],
   "source": [
    "subsetByOverlaps(gr, gr2)"
   ]
  },
  {
   "cell_type": "markdown",
   "metadata": {},
   "source": [
    "### makeGRangesFromDataFrame\n",
    "A common situation is that you have data which looks like a GRanges but is really stored as a classic data.frame, with chr, start etc. The makeGRangesFromDataFrame converts this data.frame into a GRanges. An argument tells you whether you want to keep any additional column."
   ]
  },
  {
   "cell_type": "code",
   "execution_count": null,
   "metadata": {},
   "outputs": [
    {
     "data": {
      "text/plain": [
       "GRanges object with 3 ranges and 0 metadata columns:\n",
       "      seqnames    ranges strand\n",
       "         <Rle> <IRanges>  <Rle>\n",
       "  [1]     chr1       1-4      *\n",
       "  [2]     chr1       2-5      *\n",
       "  [3]     chr1       3-6      *\n",
       "  -------\n",
       "  seqinfo: 1 sequence from an unspecified genome; no seqlengths"
      ]
     },
     "metadata": {},
     "output_type": "display_data"
    }
   ],
   "source": [
    "df <- data.frame(chr = \"chr1\", start = 1:3, end = 4:6, score = 7:9)\n",
    "makeGRangesFromDataFrame(df)"
   ]
  },
  {
   "cell_type": "code",
   "execution_count": null,
   "metadata": {},
   "outputs": [
    {
     "data": {
      "text/plain": [
       "GRanges object with 3 ranges and 1 metadata column:\n",
       "      seqnames    ranges strand |     score\n",
       "         <Rle> <IRanges>  <Rle> | <integer>\n",
       "  [1]     chr1       1-4      * |         7\n",
       "  [2]     chr1       2-5      * |         8\n",
       "  [3]     chr1       3-6      * |         9\n",
       "  -------\n",
       "  seqinfo: 1 sequence from an unspecified genome; no seqlengths"
      ]
     },
     "metadata": {},
     "output_type": "display_data"
    }
   ],
   "source": [
    "makeGRangesFromDataFrame(df, keep.extra.columns = TRUE)"
   ]
  },
  {
   "cell_type": "markdown",
   "metadata": {},
   "source": [
    "## GenomicRanges - seqinfo"
   ]
  },
  {
   "cell_type": "code",
   "execution_count": null,
   "metadata": {},
   "outputs": [],
   "source": [
    "## \n",
    "library(GenomeInfoDb)\n",
    "library(GenomicRanges)\n"
   ]
  },
  {
   "cell_type": "markdown",
   "metadata": {},
   "source": [
    "### Drop and keep seqlevels\n",
    "It is common to want to remove seqlevels from a GRanges object. Here are some equivalent methods"
   ]
  },
  {
   "cell_type": "code",
   "execution_count": null,
   "metadata": {},
   "outputs": [
    {
     "data": {
      "text/plain": [
       "GRanges object with 1 range and 0 metadata columns:\n",
       "      seqnames    ranges strand\n",
       "         <Rle> <IRanges>  <Rle>\n",
       "  [1]     chr2       2-5      *\n",
       "  -------\n",
       "  seqinfo: 1 sequence from an unspecified genome; no seqlengths"
      ]
     },
     "metadata": {},
     "output_type": "display_data"
    }
   ],
   "source": [
    "gr <- GRanges(seqnames = c(\"chr1\", \"chr2\"),\n",
    "              ranges = IRanges(start = 1:2, end = 4:5))\n",
    "dropSeqlevels(gr, \"chr1\", pruning.mode=\"coarse\")\n"
   ]
  },
  {
   "cell_type": "code",
   "execution_count": null,
   "metadata": {},
   "outputs": [
    {
     "data": {
      "text/plain": [
       "GRanges object with 1 range and 0 metadata columns:\n",
       "      seqnames    ranges strand\n",
       "         <Rle> <IRanges>  <Rle>\n",
       "  [1]     chr2       2-5      *\n",
       "  -------\n",
       "  seqinfo: 1 sequence from an unspecified genome; no seqlengths"
      ]
     },
     "metadata": {},
     "output_type": "display_data"
    }
   ],
   "source": [
    "keepSeqlevels(gr, \"chr2\", pruning.mode = \"coarse\")"
   ]
  },
  {
   "cell_type": "code",
   "execution_count": null,
   "metadata": {},
   "outputs": [],
   "source": [
    "gr <- GRanges(seqnames = c(\"chr1\", \"chrU345\"),\n",
    "              ranges = IRanges(start = 1:2, end = 4:5))\n"
   ]
  },
  {
   "cell_type": "code",
   "execution_count": null,
   "metadata": {},
   "outputs": [
    {
     "data": {
      "text/plain": [
       "GRanges object with 1 range and 0 metadata columns:\n",
       "      seqnames    ranges strand\n",
       "         <Rle> <IRanges>  <Rle>\n",
       "  [1]     chr1       1-4      *\n",
       "  -------\n",
       "  seqinfo: 1 sequence from an unspecified genome; no seqlengths"
      ]
     },
     "metadata": {},
     "output_type": "display_data"
    }
   ],
   "source": [
    "# You can also just get rid of weird looking chromosome names with keepStandardChromosomes().\n",
    "keepStandardChromosomes(gr,pruning.mode=\"coarse\")"
   ]
  },
  {
   "cell_type": "markdown",
   "metadata": {},
   "source": [
    "### Changing style\n",
    "It is an inconvenient truth that different online resources uses different naming convention for chromosomes. This can even be different from organism to organism. For example, for the fruitfly (Drosophila Melanogaster) NCBI and Ensembl uses “2L” and UCSC uses “chr2L”. But NCBI and Ensembl differs on some contigs: NCBI uses “Un” and Ensembl used “U”."
   ]
  },
  {
   "cell_type": "code",
   "execution_count": null,
   "metadata": {},
   "outputs": [
    {
     "data": {
      "text/plain": [
       "GRanges object with 2 ranges and 0 metadata columns:\n",
       "      seqnames    ranges strand\n",
       "         <Rle> <IRanges>  <Rle>\n",
       "  [1]     chr1       1-2      *\n",
       "  [2]     chr1       2-3      *\n",
       "  -------\n",
       "  seqinfo: 1 sequence from an unspecified genome; no seqlengths"
      ]
     },
     "metadata": {},
     "output_type": "display_data"
    }
   ],
   "source": [
    "gr <- GRanges(seqnames = \"chr1\", ranges = IRanges(start = 1:2, width = 2))\n",
    "gr"
   ]
  },
  {
   "cell_type": "code",
   "execution_count": null,
   "metadata": {},
   "outputs": [
    {
     "data": {
      "text/plain": [
       "GRanges object with 6 ranges and 0 metadata columns:\n",
       "      seqnames    ranges strand\n",
       "         <Rle> <IRanges>  <Rle>\n",
       "  [1]     chr2      1-10      *\n",
       "  [2]     chr3      2-10      *\n",
       "  [3]     chrM      3-10      *\n",
       "  [4]     chr2      4-10      *\n",
       "  [5]     chr3      5-10      *\n",
       "  [6]     chrM      6-10      *\n",
       "  -------\n",
       "  seqinfo: 3 sequences from an unspecified genome; no seqlengths"
      ]
     },
     "metadata": {},
     "output_type": "display_data"
    }
   ],
   "source": [
    "gr <- GRanges(rep(c(\"chr2\", \"chr3\", \"chrM\"), 2), IRanges(1:6, 10))\n",
    "gr"
   ]
  },
  {
   "cell_type": "code",
   "execution_count": null,
   "metadata": {},
   "outputs": [
    {
     "data": {
      "text/html": [
       "'UCSC'"
      ],
      "text/latex": [
       "'UCSC'"
      ],
      "text/markdown": [
       "'UCSC'"
      ],
      "text/plain": [
       "[1] \"UCSC\""
      ]
     },
     "metadata": {},
     "output_type": "display_data"
    },
    {
     "data": {
      "text/plain": [
       "GRanges object with 6 ranges and 0 metadata columns:\n",
       "      seqnames    ranges strand\n",
       "         <Rle> <IRanges>  <Rle>\n",
       "  [1]        2      1-10      *\n",
       "  [2]        3      2-10      *\n",
       "  [3]       MT      3-10      *\n",
       "  [4]        2      4-10      *\n",
       "  [5]        3      5-10      *\n",
       "  [6]       MT      6-10      *\n",
       "  -------\n",
       "  seqinfo: 3 sequences from an unspecified genome; no seqlengths"
      ]
     },
     "metadata": {},
     "output_type": "display_data"
    }
   ],
   "source": [
    "seqlevelsStyle(gr)\n",
    "seqlevelsStyle(gr) <- \"NCBI\"\n",
    "gr"
   ]
  },
  {
   "cell_type": "code",
   "execution_count": null,
   "metadata": {},
   "outputs": [
    {
     "data": {
      "text/html": [
       "<style>\n",
       ".list-inline {list-style: none; margin:0; padding: 0}\n",
       ".list-inline>li {display: inline-block}\n",
       ".list-inline>li:not(:last-child)::after {content: \"\\00b7\"; padding: 0 .5ex}\n",
       "</style>\n",
       "<ol class=list-inline><li>'NCBI'</li><li>'Ensembl'</li></ol>\n"
      ],
      "text/latex": [
       "\\begin{enumerate*}\n",
       "\\item 'NCBI'\n",
       "\\item 'Ensembl'\n",
       "\\end{enumerate*}\n"
      ],
      "text/markdown": [
       "1. 'NCBI'\n",
       "2. 'Ensembl'\n",
       "\n",
       "\n"
      ],
      "text/plain": [
       "[1] \"NCBI\"    \"Ensembl\""
      ]
     },
     "metadata": {},
     "output_type": "display_data"
    },
    {
     "data": {
      "text/plain": [
       "GRanges object with 6 ranges and 0 metadata columns:\n",
       "      seqnames    ranges strand\n",
       "         <Rle> <IRanges>  <Rle>\n",
       "  [1]     chr2      1-10      *\n",
       "  [2]     chr3      2-10      *\n",
       "  [3]     chrM      3-10      *\n",
       "  [4]     chr2      4-10      *\n",
       "  [5]     chr3      5-10      *\n",
       "  [6]     chrM      6-10      *\n",
       "  -------\n",
       "  seqinfo: 3 sequences from an unspecified genome; no seqlengths"
      ]
     },
     "metadata": {},
     "output_type": "display_data"
    }
   ],
   "source": [
    "seqlevelsStyle(gr)\n",
    "seqlevelsStyle(gr) <- \"UCSC\"\n",
    "gr\n"
   ]
  },
  {
   "cell_type": "markdown",
   "metadata": {},
   "source": [
    "## AnnotationHub"
   ]
  },
  {
   "cell_type": "code",
   "execution_count": null,
   "metadata": {},
   "outputs": [
    {
     "name": "stderr",
     "output_type": "stream",
     "text": [
      "Loading required package: BiocGenerics\n",
      "\n",
      "Loading required package: parallel\n",
      "\n",
      "\n",
      "Attaching package: 'BiocGenerics'\n",
      "\n",
      "\n",
      "The following objects are masked from 'package:parallel':\n",
      "\n",
      "    clusterApply, clusterApplyLB, clusterCall, clusterEvalQ,\n",
      "    clusterExport, clusterMap, parApply, parCapply, parLapply,\n",
      "    parLapplyLB, parRapply, parSapply, parSapplyLB\n",
      "\n",
      "\n",
      "The following objects are masked from 'package:stats':\n",
      "\n",
      "    IQR, mad, sd, var, xtabs\n",
      "\n",
      "\n",
      "The following objects are masked from 'package:base':\n",
      "\n",
      "    anyDuplicated, append, as.data.frame, basename, cbind, colnames,\n",
      "    dirname, do.call, duplicated, eval, evalq, Filter, Find, get, grep,\n",
      "    grepl, intersect, is.unsorted, lapply, Map, mapply, match, mget,\n",
      "    order, paste, pmax, pmax.int, pmin, pmin.int, Position, rank,\n",
      "    rbind, Reduce, rownames, sapply, setdiff, sort, table, tapply,\n",
      "    union, unique, unsplit, which.max, which.min\n",
      "\n",
      "\n",
      "Loading required package: BiocFileCache\n",
      "\n",
      "Loading required package: dbplyr\n",
      "\n"
     ]
    }
   ],
   "source": [
    "# BiocManager::install(\"AnnotationHub\")\n",
    "library(AnnotationHub)"
   ]
  },
  {
   "cell_type": "markdown",
   "metadata": {},
   "source": [
    "### Overview\n",
    "Annotation information is extremely important for putting your data into context. There are many online resources for doing this, and many different databases organizes different information suing different approaches.\n",
    "\n",
    "There are multiple ways to access annotation information in Bioconductor.\n",
    "\n",
    "Here we discuss a new way of doing so, through the package `AnnotationHub`. This package provides access to a ton of online resources through a unified interface. However, each data resource has its own peculiarities, so a user still needs to understand what the different datasets are.\n",
    "\n",
    "In a recent paper I was involved in (Hansen et al. 2014), I used AnnotationHub to interrogate my data against all transcription factor data available through the ENCODE project. I managed to write the code and conduct the analysis in the matter of a single evening, which I think is pretty awesome"
   ]
  },
  {
   "cell_type": "markdown",
   "metadata": {},
   "source": [
    "### Usage\n",
    "First we create an AnnotationHub instance. The first time you do this, it will create a local cache on your system, so that repeat queries for the same information (even in different R sessions) will be very fast.\n"
   ]
  },
  {
   "cell_type": "markdown",
   "metadata": {},
   "source": [
    "##### `Troubleshooting issues: ` [AnnotationHub](https://bioconductor.org/packages/release/bioc/vignettes/AnnotationHub/inst/doc/TroubleshootingTheCache.html)\n"
   ]
  },
  {
   "cell_type": "code",
   "execution_count": 2,
   "metadata": {},
   "outputs": [
    {
     "data": {
      "text/html": [
       "'http://192.168.1.101:8080'"
      ],
      "text/latex": [
       "'http://192.168.1.101:8080'"
      ],
      "text/markdown": [
       "'http://192.168.1.101:8080'"
      ],
      "text/plain": [
       "[1] \"http://192.168.1.101:8080\""
      ]
     },
     "metadata": {},
     "output_type": "display_data"
    },
    {
     "data": {
      "text/html": [
       "'http://192.168.1.101:8080'"
      ],
      "text/latex": [
       "'http://192.168.1.101:8080'"
      ],
      "text/markdown": [
       "'http://192.168.1.101:8080'"
      ],
      "text/plain": [
       "[1] \"http://192.168.1.101:8080\""
      ]
     },
     "metadata": {},
     "output_type": "display_data"
    }
   ],
   "source": [
    "# set Proxy to http and https\n",
    "Sys.setenv(http_proxy=\"\") \n",
    "Sys.setenv(https_proxy=\"\")\n",
    "Sys.getenv(\"http_proxy\")\n",
    "Sys.getenv(\"https_proxy\")"
   ]
  },
  {
   "cell_type": "code",
   "execution_count": null,
   "metadata": {},
   "outputs": [
    {
     "name": "stderr",
     "output_type": "stream",
     "text": [
      "snapshotDate(): 2021-05-18\n",
      "\n"
     ]
    },
    {
     "data": {
      "text/plain": [
       "AnnotationHub with 59800 records\n",
       "# snapshotDate(): 2021-05-18\n",
       "# $dataprovider: Ensembl, BroadInstitute, UCSC, ftp://ftp.ncbi.nlm.nih.gov/g...\n",
       "# $species: Homo sapiens, Mus musculus, Drosophila melanogaster, Bos taurus,...\n",
       "# $rdataclass: GRanges, TwoBitFile, BigWigFile, EnsDb, Rle, OrgDb, ChainFile...\n",
       "# additional mcols(): taxonomyid, genome, description,\n",
       "#   coordinate_1_based, maintainer, rdatadateadded, preparerclass, tags,\n",
       "#   rdatapath, sourceurl, sourcetype \n",
       "# retrieve records with, e.g., 'object[[\"AH5012\"]]' \n",
       "\n",
       "            title                                       \n",
       "  AH5012  | Chromosome Band                             \n",
       "  AH5013  | STS Markers                                 \n",
       "  AH5014  | FISH Clones                                 \n",
       "  AH5015  | Recomb Rate                                 \n",
       "  AH5016  | ENCODE Pilot                                \n",
       "  ...       ...                                         \n",
       "  AH95885 | Ensembl 104 EnsDb for Xiphophorus couchianus\n",
       "  AH95886 | Ensembl 104 EnsDb for Xiphophorus maculatus \n",
       "  AH95887 | Ensembl 104 EnsDb for Xenopus tropicalis    \n",
       "  AH95888 | Ensembl 104 EnsDb for Zonotrichia albicollis\n",
       "  AH95889 | Ensembl 104 EnsDb for Zalophus californianus"
      ]
     },
     "metadata": {},
     "output_type": "display_data"
    }
   ],
   "source": [
    "ah <- AnnotationHub()\n",
    "ah"
   ]
  },
  {
   "cell_type": "markdown",
   "metadata": {},
   "source": [
    "You can see that it gives you an idea about the different types of data that are present inside the hub. You can see where the data is coming from (dataprovider), as well as what species have samples present (species), what kinds of R data objects could be returned (rdataclass). We can take a closer look at all the kinds of data providers that are available by simply looking at the contents of dataprovider as if it were the column of a data.frame object like this:"
   ]
  },
  {
   "cell_type": "code",
   "execution_count": 53,
   "metadata": {},
   "outputs": [
    {
     "data": {
      "text/html": [
       "<style>\n",
       ".list-inline {list-style: none; margin:0; padding: 0}\n",
       ".list-inline>li {display: inline-block}\n",
       ".list-inline>li:not(:last-child)::after {content: \"\\00b7\"; padding: 0 .5ex}\n",
       "</style>\n",
       "<ol class=list-inline><li>'UCSC'</li><li>'Ensembl'</li><li>'RefNet'</li><li>'Inparanoid8'</li><li>'NHLBI'</li><li>'ChEA'</li><li>'Pazar'</li><li>'NIH Pathway Interaction Database'</li><li>'Haemcode'</li><li>'BroadInstitute'</li><li>'PRIDE'</li><li>'Gencode'</li><li>'CRIBI'</li><li>'Genoscope'</li><li>'MISO, VAST-TOOLS, UCSC'</li><li>'UWashington'</li><li>'Stanford'</li><li>'dbSNP'</li><li>'BioMart'</li><li>'GeneOntology'</li><li>'KEGG'</li><li>'URGI'</li><li>'EMBL-EBI'</li><li>'MicrosporidiaDB'</li><li>'FungiDB'</li><li>'TriTrypDB'</li><li>'ToxoDB'</li><li>'AmoebaDB'</li><li>'PlasmoDB'</li><li>'PiroplasmaDB'</li><li>'CryptoDB'</li><li>'TrichDB'</li><li>'GiardiaDB'</li><li>'The Gene Ontology Consortium'</li><li>'ENCODE Project'</li><li>'SchistoDB'</li><li>'NCBI/UniProt'</li><li>'GENCODE'</li><li>'http://www.pantherdb.org'</li><li>'RMBase v2.0'</li><li>'snoRNAdb'</li><li>'tRNAdb'</li><li>'NCBI'</li><li>'DrugAge, DrugBank, Broad Institute'</li><li>'DrugAge'</li><li>'DrugBank'</li><li>'Broad Institute'</li><li>'HMDB, EMBL-EBI, EPA'</li><li>'STRING'</li><li>'OMA'</li><li>'OrthoDB'</li><li>'PathBank'</li><li>'EBI/EMBL'</li><li>'NCBI,DBCLS'</li><li>'FANTOM5,DLRP,IUPHAR,HPRD,STRING,SWISSPROT,TREMBL,ENSEMBL,CELLPHONEDB,BADERLAB,SINGLECELLSIGNALR,HOMOLOGENE'</li><li>'WikiPathways'</li><li>'ftp://ftp.ncbi.nlm.nih.gov/gene/DATA/'</li><li>'UCSC Jaspar'</li></ol>\n"
      ],
      "text/latex": [
       "\\begin{enumerate*}\n",
       "\\item 'UCSC'\n",
       "\\item 'Ensembl'\n",
       "\\item 'RefNet'\n",
       "\\item 'Inparanoid8'\n",
       "\\item 'NHLBI'\n",
       "\\item 'ChEA'\n",
       "\\item 'Pazar'\n",
       "\\item 'NIH Pathway Interaction Database'\n",
       "\\item 'Haemcode'\n",
       "\\item 'BroadInstitute'\n",
       "\\item 'PRIDE'\n",
       "\\item 'Gencode'\n",
       "\\item 'CRIBI'\n",
       "\\item 'Genoscope'\n",
       "\\item 'MISO, VAST-TOOLS, UCSC'\n",
       "\\item 'UWashington'\n",
       "\\item 'Stanford'\n",
       "\\item 'dbSNP'\n",
       "\\item 'BioMart'\n",
       "\\item 'GeneOntology'\n",
       "\\item 'KEGG'\n",
       "\\item 'URGI'\n",
       "\\item 'EMBL-EBI'\n",
       "\\item 'MicrosporidiaDB'\n",
       "\\item 'FungiDB'\n",
       "\\item 'TriTrypDB'\n",
       "\\item 'ToxoDB'\n",
       "\\item 'AmoebaDB'\n",
       "\\item 'PlasmoDB'\n",
       "\\item 'PiroplasmaDB'\n",
       "\\item 'CryptoDB'\n",
       "\\item 'TrichDB'\n",
       "\\item 'GiardiaDB'\n",
       "\\item 'The Gene Ontology Consortium'\n",
       "\\item 'ENCODE Project'\n",
       "\\item 'SchistoDB'\n",
       "\\item 'NCBI/UniProt'\n",
       "\\item 'GENCODE'\n",
       "\\item 'http://www.pantherdb.org'\n",
       "\\item 'RMBase v2.0'\n",
       "\\item 'snoRNAdb'\n",
       "\\item 'tRNAdb'\n",
       "\\item 'NCBI'\n",
       "\\item 'DrugAge, DrugBank, Broad Institute'\n",
       "\\item 'DrugAge'\n",
       "\\item 'DrugBank'\n",
       "\\item 'Broad Institute'\n",
       "\\item 'HMDB, EMBL-EBI, EPA'\n",
       "\\item 'STRING'\n",
       "\\item 'OMA'\n",
       "\\item 'OrthoDB'\n",
       "\\item 'PathBank'\n",
       "\\item 'EBI/EMBL'\n",
       "\\item 'NCBI,DBCLS'\n",
       "\\item 'FANTOM5,DLRP,IUPHAR,HPRD,STRING,SWISSPROT,TREMBL,ENSEMBL,CELLPHONEDB,BADERLAB,SINGLECELLSIGNALR,HOMOLOGENE'\n",
       "\\item 'WikiPathways'\n",
       "\\item 'ftp://ftp.ncbi.nlm.nih.gov/gene/DATA/'\n",
       "\\item 'UCSC Jaspar'\n",
       "\\end{enumerate*}\n"
      ],
      "text/markdown": [
       "1. 'UCSC'\n",
       "2. 'Ensembl'\n",
       "3. 'RefNet'\n",
       "4. 'Inparanoid8'\n",
       "5. 'NHLBI'\n",
       "6. 'ChEA'\n",
       "7. 'Pazar'\n",
       "8. 'NIH Pathway Interaction Database'\n",
       "9. 'Haemcode'\n",
       "10. 'BroadInstitute'\n",
       "11. 'PRIDE'\n",
       "12. 'Gencode'\n",
       "13. 'CRIBI'\n",
       "14. 'Genoscope'\n",
       "15. 'MISO, VAST-TOOLS, UCSC'\n",
       "16. 'UWashington'\n",
       "17. 'Stanford'\n",
       "18. 'dbSNP'\n",
       "19. 'BioMart'\n",
       "20. 'GeneOntology'\n",
       "21. 'KEGG'\n",
       "22. 'URGI'\n",
       "23. 'EMBL-EBI'\n",
       "24. 'MicrosporidiaDB'\n",
       "25. 'FungiDB'\n",
       "26. 'TriTrypDB'\n",
       "27. 'ToxoDB'\n",
       "28. 'AmoebaDB'\n",
       "29. 'PlasmoDB'\n",
       "30. 'PiroplasmaDB'\n",
       "31. 'CryptoDB'\n",
       "32. 'TrichDB'\n",
       "33. 'GiardiaDB'\n",
       "34. 'The Gene Ontology Consortium'\n",
       "35. 'ENCODE Project'\n",
       "36. 'SchistoDB'\n",
       "37. 'NCBI/UniProt'\n",
       "38. 'GENCODE'\n",
       "39. 'http://www.pantherdb.org'\n",
       "40. 'RMBase v2.0'\n",
       "41. 'snoRNAdb'\n",
       "42. 'tRNAdb'\n",
       "43. 'NCBI'\n",
       "44. 'DrugAge, DrugBank, Broad Institute'\n",
       "45. 'DrugAge'\n",
       "46. 'DrugBank'\n",
       "47. 'Broad Institute'\n",
       "48. 'HMDB, EMBL-EBI, EPA'\n",
       "49. 'STRING'\n",
       "50. 'OMA'\n",
       "51. 'OrthoDB'\n",
       "52. 'PathBank'\n",
       "53. 'EBI/EMBL'\n",
       "54. 'NCBI,DBCLS'\n",
       "55. 'FANTOM5,DLRP,IUPHAR,HPRD,STRING,SWISSPROT,TREMBL,ENSEMBL,CELLPHONEDB,BADERLAB,SINGLECELLSIGNALR,HOMOLOGENE'\n",
       "56. 'WikiPathways'\n",
       "57. 'ftp://ftp.ncbi.nlm.nih.gov/gene/DATA/'\n",
       "58. 'UCSC Jaspar'\n",
       "\n",
       "\n"
      ],
      "text/plain": [
       " [1] \"UCSC\"                                                                                                      \n",
       " [2] \"Ensembl\"                                                                                                   \n",
       " [3] \"RefNet\"                                                                                                    \n",
       " [4] \"Inparanoid8\"                                                                                               \n",
       " [5] \"NHLBI\"                                                                                                     \n",
       " [6] \"ChEA\"                                                                                                      \n",
       " [7] \"Pazar\"                                                                                                     \n",
       " [8] \"NIH Pathway Interaction Database\"                                                                          \n",
       " [9] \"Haemcode\"                                                                                                  \n",
       "[10] \"BroadInstitute\"                                                                                            \n",
       "[11] \"PRIDE\"                                                                                                     \n",
       "[12] \"Gencode\"                                                                                                   \n",
       "[13] \"CRIBI\"                                                                                                     \n",
       "[14] \"Genoscope\"                                                                                                 \n",
       "[15] \"MISO, VAST-TOOLS, UCSC\"                                                                                    \n",
       "[16] \"UWashington\"                                                                                               \n",
       "[17] \"Stanford\"                                                                                                  \n",
       "[18] \"dbSNP\"                                                                                                     \n",
       "[19] \"BioMart\"                                                                                                   \n",
       "[20] \"GeneOntology\"                                                                                              \n",
       "[21] \"KEGG\"                                                                                                      \n",
       "[22] \"URGI\"                                                                                                      \n",
       "[23] \"EMBL-EBI\"                                                                                                  \n",
       "[24] \"MicrosporidiaDB\"                                                                                           \n",
       "[25] \"FungiDB\"                                                                                                   \n",
       "[26] \"TriTrypDB\"                                                                                                 \n",
       "[27] \"ToxoDB\"                                                                                                    \n",
       "[28] \"AmoebaDB\"                                                                                                  \n",
       "[29] \"PlasmoDB\"                                                                                                  \n",
       "[30] \"PiroplasmaDB\"                                                                                              \n",
       "[31] \"CryptoDB\"                                                                                                  \n",
       "[32] \"TrichDB\"                                                                                                   \n",
       "[33] \"GiardiaDB\"                                                                                                 \n",
       "[34] \"The Gene Ontology Consortium\"                                                                              \n",
       "[35] \"ENCODE Project\"                                                                                            \n",
       "[36] \"SchistoDB\"                                                                                                 \n",
       "[37] \"NCBI/UniProt\"                                                                                              \n",
       "[38] \"GENCODE\"                                                                                                   \n",
       "[39] \"http://www.pantherdb.org\"                                                                                  \n",
       "[40] \"RMBase v2.0\"                                                                                               \n",
       "[41] \"snoRNAdb\"                                                                                                  \n",
       "[42] \"tRNAdb\"                                                                                                    \n",
       "[43] \"NCBI\"                                                                                                      \n",
       "[44] \"DrugAge, DrugBank, Broad Institute\"                                                                        \n",
       "[45] \"DrugAge\"                                                                                                   \n",
       "[46] \"DrugBank\"                                                                                                  \n",
       "[47] \"Broad Institute\"                                                                                           \n",
       "[48] \"HMDB, EMBL-EBI, EPA\"                                                                                       \n",
       "[49] \"STRING\"                                                                                                    \n",
       "[50] \"OMA\"                                                                                                       \n",
       "[51] \"OrthoDB\"                                                                                                   \n",
       "[52] \"PathBank\"                                                                                                  \n",
       "[53] \"EBI/EMBL\"                                                                                                  \n",
       "[54] \"NCBI,DBCLS\"                                                                                                \n",
       "[55] \"FANTOM5,DLRP,IUPHAR,HPRD,STRING,SWISSPROT,TREMBL,ENSEMBL,CELLPHONEDB,BADERLAB,SINGLECELLSIGNALR,HOMOLOGENE\"\n",
       "[56] \"WikiPathways\"                                                                                              \n",
       "[57] \"ftp://ftp.ncbi.nlm.nih.gov/gene/DATA/\"                                                                     \n",
       "[58] \"UCSC Jaspar\"                                                                                               "
      ]
     },
     "metadata": {},
     "output_type": "display_data"
    }
   ],
   "source": [
    "unique(ah$dataprovider)"
   ]
  },
  {
   "cell_type": "markdown",
   "metadata": {},
   "source": [
    "In the same way, you can also see data from different species inside the hub by looking at the contents of species like this:"
   ]
  },
  {
   "cell_type": "code",
   "execution_count": 54,
   "metadata": {},
   "outputs": [
    {
     "data": {
      "text/html": [
       "<style>\n",
       ".list-inline {list-style: none; margin:0; padding: 0}\n",
       ".list-inline>li {display: inline-block}\n",
       ".list-inline>li:not(:last-child)::after {content: \"\\00b7\"; padding: 0 .5ex}\n",
       "</style>\n",
       "<ol class=list-inline><li>'Homo sapiens'</li><li>'Vicugna pacos'</li><li>'Dasypus novemcinctus'</li><li>'Otolemur garnettii'</li><li>'Papio hamadryas'</li><li>'Papio anubis'</li></ol>\n"
      ],
      "text/latex": [
       "\\begin{enumerate*}\n",
       "\\item 'Homo sapiens'\n",
       "\\item 'Vicugna pacos'\n",
       "\\item 'Dasypus novemcinctus'\n",
       "\\item 'Otolemur garnettii'\n",
       "\\item 'Papio hamadryas'\n",
       "\\item 'Papio anubis'\n",
       "\\end{enumerate*}\n"
      ],
      "text/markdown": [
       "1. 'Homo sapiens'\n",
       "2. 'Vicugna pacos'\n",
       "3. 'Dasypus novemcinctus'\n",
       "4. 'Otolemur garnettii'\n",
       "5. 'Papio hamadryas'\n",
       "6. 'Papio anubis'\n",
       "\n",
       "\n"
      ],
      "text/plain": [
       "[1] \"Homo sapiens\"         \"Vicugna pacos\"        \"Dasypus novemcinctus\"\n",
       "[4] \"Otolemur garnettii\"   \"Papio hamadryas\"      \"Papio anubis\"        "
      ]
     },
     "metadata": {},
     "output_type": "display_data"
    }
   ],
   "source": [
    "head(unique(ah$species))"
   ]
  },
  {
   "cell_type": "code",
   "execution_count": 55,
   "metadata": {},
   "outputs": [
    {
     "data": {
      "text/html": [
       "<style>\n",
       ".list-inline {list-style: none; margin:0; padding: 0}\n",
       ".list-inline>li {display: inline-block}\n",
       ".list-inline>li:not(:last-child)::after {content: \"\\00b7\"; padding: 0 .5ex}\n",
       "</style>\n",
       "<ol class=list-inline><li>'GRanges'</li><li>'data.frame'</li><li>'Inparanoid8Db'</li><li>'TwoBitFile'</li><li>'ChainFile'</li><li>'SQLiteConnection'</li><li>'biopax'</li><li>'BigWigFile'</li><li>'AAStringSet'</li><li>'MSnSet'</li><li>'mzRpwiz'</li><li>'mzRident'</li><li>'list'</li><li>'TxDb'</li><li>'Rle'</li><li>'EnsDb'</li><li>'VcfFile'</li><li>'igraph'</li><li>'data.frame, DNAStringSet, GRanges'</li><li>'sqlite'</li><li>'data.table'</li><li>'character'</li><li>'SQLite'</li><li>'SQLiteFile'</li><li>'Tibble'</li><li>'Rda'</li><li>'FaFile'</li><li>'OrgDb'</li></ol>\n"
      ],
      "text/latex": [
       "\\begin{enumerate*}\n",
       "\\item 'GRanges'\n",
       "\\item 'data.frame'\n",
       "\\item 'Inparanoid8Db'\n",
       "\\item 'TwoBitFile'\n",
       "\\item 'ChainFile'\n",
       "\\item 'SQLiteConnection'\n",
       "\\item 'biopax'\n",
       "\\item 'BigWigFile'\n",
       "\\item 'AAStringSet'\n",
       "\\item 'MSnSet'\n",
       "\\item 'mzRpwiz'\n",
       "\\item 'mzRident'\n",
       "\\item 'list'\n",
       "\\item 'TxDb'\n",
       "\\item 'Rle'\n",
       "\\item 'EnsDb'\n",
       "\\item 'VcfFile'\n",
       "\\item 'igraph'\n",
       "\\item 'data.frame, DNAStringSet, GRanges'\n",
       "\\item 'sqlite'\n",
       "\\item 'data.table'\n",
       "\\item 'character'\n",
       "\\item 'SQLite'\n",
       "\\item 'SQLiteFile'\n",
       "\\item 'Tibble'\n",
       "\\item 'Rda'\n",
       "\\item 'FaFile'\n",
       "\\item 'OrgDb'\n",
       "\\end{enumerate*}\n"
      ],
      "text/markdown": [
       "1. 'GRanges'\n",
       "2. 'data.frame'\n",
       "3. 'Inparanoid8Db'\n",
       "4. 'TwoBitFile'\n",
       "5. 'ChainFile'\n",
       "6. 'SQLiteConnection'\n",
       "7. 'biopax'\n",
       "8. 'BigWigFile'\n",
       "9. 'AAStringSet'\n",
       "10. 'MSnSet'\n",
       "11. 'mzRpwiz'\n",
       "12. 'mzRident'\n",
       "13. 'list'\n",
       "14. 'TxDb'\n",
       "15. 'Rle'\n",
       "16. 'EnsDb'\n",
       "17. 'VcfFile'\n",
       "18. 'igraph'\n",
       "19. 'data.frame, DNAStringSet, GRanges'\n",
       "20. 'sqlite'\n",
       "21. 'data.table'\n",
       "22. 'character'\n",
       "23. 'SQLite'\n",
       "24. 'SQLiteFile'\n",
       "25. 'Tibble'\n",
       "26. 'Rda'\n",
       "27. 'FaFile'\n",
       "28. 'OrgDb'\n",
       "\n",
       "\n"
      ],
      "text/plain": [
       " [1] \"GRanges\"                           \"data.frame\"                       \n",
       " [3] \"Inparanoid8Db\"                     \"TwoBitFile\"                       \n",
       " [5] \"ChainFile\"                         \"SQLiteConnection\"                 \n",
       " [7] \"biopax\"                            \"BigWigFile\"                       \n",
       " [9] \"AAStringSet\"                       \"MSnSet\"                           \n",
       "[11] \"mzRpwiz\"                           \"mzRident\"                         \n",
       "[13] \"list\"                              \"TxDb\"                             \n",
       "[15] \"Rle\"                               \"EnsDb\"                            \n",
       "[17] \"VcfFile\"                           \"igraph\"                           \n",
       "[19] \"data.frame, DNAStringSet, GRanges\" \"sqlite\"                           \n",
       "[21] \"data.table\"                        \"character\"                        \n",
       "[23] \"SQLite\"                            \"SQLiteFile\"                       \n",
       "[25] \"Tibble\"                            \"Rda\"                              \n",
       "[27] \"FaFile\"                            \"OrgDb\"                            "
      ]
     },
     "metadata": {},
     "output_type": "display_data"
    }
   ],
   "source": [
    "unique(ah$rdataclass)"
   ]
  },
  {
   "cell_type": "markdown",
   "metadata": {},
   "source": [
    "You can narrow down the hub by using one (or more) of the following strategies\n",
    "\n",
    "- Use `subset` (or [) to do a specific subsetting operation.\n",
    "- Use `query` to do a command-line search over the metadata of the hub.\n",
    "- Use `display` to get a Shiny interface in a browser, so you can browse the object.\n",
    "It is often useful to start with a very rough subsetting, for example to data from a specific species. The subset function is useful for doing a standard R subsetting (the function also works on data.frames)."
   ]
  },
  {
   "cell_type": "code",
   "execution_count": 56,
   "metadata": {},
   "outputs": [
    {
     "data": {
      "text/plain": [
       "AnnotationHub with 26472 records\n",
       "# snapshotDate(): 2021-05-18\n",
       "# $dataprovider: BroadInstitute, UCSC, Ensembl, GENCODE, UWashington, Stanfo...\n",
       "# $species: Homo sapiens\n",
       "# $rdataclass: GRanges, BigWigFile, Rle, ChainFile, TwoBitFile, list, data.f...\n",
       "# additional mcols(): taxonomyid, genome, description,\n",
       "#   coordinate_1_based, maintainer, rdatadateadded, preparerclass, tags,\n",
       "#   rdatapath, sourceurl, sourcetype \n",
       "# retrieve records with, e.g., 'object[[\"AH5012\"]]' \n",
       "\n",
       "            title                                   \n",
       "  AH5012  | Chromosome Band                         \n",
       "  AH5013  | STS Markers                             \n",
       "  AH5014  | FISH Clones                             \n",
       "  AH5015  | Recomb Rate                             \n",
       "  AH5016  | ENCODE Pilot                            \n",
       "  ...       ...                                     \n",
       "  AH92591 | TxDb.Hsapiens.UCSC.hg38.knownGene.sqlite\n",
       "  AH92592 | TxDb.Hsapiens.UCSC.hg38.refGene.sqlite  \n",
       "  AH95565 | CTCF_hg19.RData                         \n",
       "  AH95566 | CTCF_hg38.RData                         \n",
       "  AH95744 | Ensembl 104 EnsDb for Homo sapiens      "
      ]
     },
     "metadata": {},
     "output_type": "display_data"
    }
   ],
   "source": [
    "ah <- subset(ah, species == \"Homo sapiens\")\n",
    "ah"
   ]
  },
  {
   "cell_type": "markdown",
   "metadata": {},
   "source": [
    "We can use query to search the hub. The (possible) drawback to query is that it searches over different fields in the hub, so watch out with using a search term which is very non-specific. The query is a regular expression, which by default is case-insensitive. Here we locate all datasets on the H3K4me3 histone modification (in H. sapiens because we selected this species above)"
   ]
  },
  {
   "cell_type": "code",
   "execution_count": 57,
   "metadata": {},
   "outputs": [
    {
     "data": {
      "text/plain": [
       "AnnotationHub with 2018 records\n",
       "# snapshotDate(): 2021-05-18\n",
       "# $dataprovider: BroadInstitute, UCSC\n",
       "# $species: Homo sapiens\n",
       "# $rdataclass: GRanges, BigWigFile\n",
       "# additional mcols(): taxonomyid, genome, description,\n",
       "#   coordinate_1_based, maintainer, rdatadateadded, preparerclass, tags,\n",
       "#   rdatapath, sourceurl, sourcetype \n",
       "# retrieve records with, e.g., 'object[[\"AH23256\"]]' \n",
       "\n",
       "            title                                                              \n",
       "  AH23256 | wgEncodeBroadHistoneGm12878H3k4me3StdPk.broadPeak.gz               \n",
       "  AH23273 | wgEncodeBroadHistoneH1hescH3k4me3StdPk.broadPeak.gz                \n",
       "  AH23297 | wgEncodeBroadHistoneHelas3H3k4me3StdPk.broadPeak.gz                \n",
       "  AH23311 | wgEncodeBroadHistoneHepg2H3k4me3StdPk.broadPeak.gz                 \n",
       "  AH23324 | wgEncodeBroadHistoneHmecH3k4me3StdPk.broadPeak.gz                  \n",
       "  ...       ...                                                                \n",
       "  AH46826 | UW.Fetal_Muscle_Leg.H3K4me3.H-24644.Histone.DS21536.gappedPeak.gz  \n",
       "  AH46833 | UW.Fetal_Muscle_Trunk.H3K4me3.H-24851.Histone.DS23302.gappedPeak.gz\n",
       "  AH46839 | UW.Fetal_Placenta.H3K4me3.H-24996.Histone.DS23300.gappedPeak.gz    \n",
       "  AH46845 | UW.Fetal_Stomach.H3K4me3.H-24639.Histone.DS22598.gappedPeak.gz     \n",
       "  AH46851 | UW.Fetal_Thymus.H3K4me3.H-24644.Histone.DS21539.gappedPeak.gz      "
      ]
     },
     "metadata": {},
     "output_type": "display_data"
    }
   ],
   "source": [
    "query(ah, \"H3K4me3\")"
   ]
  },
  {
   "cell_type": "markdown",
   "metadata": {},
   "source": [
    "Another way of searching a hub is by using a browser. Notice how we assign the output of display to make sure that we can capture our selection in the browser"
   ]
  },
  {
   "cell_type": "code",
   "execution_count": 58,
   "metadata": {},
   "outputs": [
    {
     "name": "stderr",
     "output_type": "stream",
     "text": [
      "Loading required package: shiny\n",
      "\n",
      "\n",
      "Listening on http://127.0.0.1:7818\n",
      "\n"
     ]
    }
   ],
   "source": [
    "hist <- display(ah)"
   ]
  },
  {
   "cell_type": "markdown",
   "metadata": {},
   "source": [
    "## Usecase - Basic GRanges and AnnotationHub"
   ]
  },
  {
   "cell_type": "markdown",
   "metadata": {},
   "source": [
    "### Dependencies\n"
   ]
  },
  {
   "cell_type": "code",
   "execution_count": 2,
   "metadata": {},
   "outputs": [],
   "source": [
    "library(GenomicRanges)\n",
    "library(rtracklayer)\n",
    "library(AnnotationHub)"
   ]
  },
  {
   "cell_type": "markdown",
   "metadata": {},
   "source": [
    "## Overview\n",
    "We are going to use AnnotationHub and GenomicRanges to access ENCODE data on the H3K4me3 histone modification in a specific cell line. This histone modification is believed to mark active promoters, and we are going to attempt to verify this statement. This involves\n",
    "\n",
    "- Getting the ENCODE histone data using AnnotationHub.\n",
    "- Getting promoters using AnnotationHub.\n",
    "- Comparing the histone data and promoters using findOverlaps in GenomicRanges."
   ]
  },
  {
   "cell_type": "code",
   "execution_count": 4,
   "metadata": {},
   "outputs": [
    {
     "data": {
      "text/html": [
       "'http://192.168.1.101:8080'"
      ],
      "text/latex": [
       "'http://192.168.1.101:8080'"
      ],
      "text/markdown": [
       "'http://192.168.1.101:8080'"
      ],
      "text/plain": [
       "[1] \"http://192.168.1.101:8080\""
      ]
     },
     "metadata": {},
     "output_type": "display_data"
    },
    {
     "data": {
      "text/html": [
       "'http://192.168.1.101:8080'"
      ],
      "text/latex": [
       "'http://192.168.1.101:8080'"
      ],
      "text/markdown": [
       "'http://192.168.1.101:8080'"
      ],
      "text/plain": [
       "[1] \"http://192.168.1.101:8080\""
      ]
     },
     "metadata": {},
     "output_type": "display_data"
    }
   ],
   "source": [
    "Sys.setenv(http_proxy=\"\")\n",
    "Sys.setenv(https_proxy=\"\")\n",
    "Sys.getenv(\"http_proxy\")\n",
    "Sys.getenv(\"https_proxy\")"
   ]
  },
  {
   "cell_type": "code",
   "execution_count": 5,
   "metadata": {},
   "outputs": [
    {
     "name": "stderr",
     "output_type": "stream",
     "text": [
      "snapshotDate(): 2021-05-18\n",
      "\n"
     ]
    }
   ],
   "source": [
    "## Getting the data\n",
    "ah <- AnnotationHub()\n",
    "ah <- subset(ah, species == \"Homo sapiens\")"
   ]
  },
  {
   "cell_type": "code",
   "execution_count": 6,
   "metadata": {},
   "outputs": [],
   "source": [
    "## Next we search for two keywords: H3K4me3 and Gm12878 which is the name of the cell line we are interested in.\n",
    "qhs <- query(ah, \"H3K4me3\")\n",
    "qhs <- query(qhs, \"Gm12878\")"
   ]
  },
  {
   "cell_type": "markdown",
   "metadata": {},
   "source": [
    "(**Note**: I like to keep my full annotation hub around, so I can re-do my query with a different search term in case I end up with no hits. This is why I start assigning output to the qhs object and not ah)."
   ]
  },
  {
   "cell_type": "code",
   "execution_count": 7,
   "metadata": {},
   "outputs": [
    {
     "data": {
      "text/plain": [
       "AnnotationHub with 11 records\n",
       "# snapshotDate(): 2021-05-18\n",
       "# $dataprovider: BroadInstitute, UCSC\n",
       "# $species: Homo sapiens\n",
       "# $rdataclass: GRanges, BigWigFile\n",
       "# additional mcols(): taxonomyid, genome, description,\n",
       "#   coordinate_1_based, maintainer, rdatadateadded, preparerclass, tags,\n",
       "#   rdatapath, sourceurl, sourcetype \n",
       "# retrieve records with, e.g., 'object[[\"AH23256\"]]' \n",
       "\n",
       "            title                                                      \n",
       "  AH23256 | wgEncodeBroadHistoneGm12878H3k4me3StdPk.broadPeak.gz       \n",
       "  AH27075 | wgEncodeUwHistoneGm12878H3k4me3StdHotspotsRep1.broadPeak.gz\n",
       "  AH27076 | wgEncodeUwHistoneGm12878H3k4me3StdHotspotsRep2.broadPeak.gz\n",
       "  AH27077 | wgEncodeUwHistoneGm12878H3k4me3StdPkRep1.narrowPeak.gz     \n",
       "  AH27078 | wgEncodeUwHistoneGm12878H3k4me3StdPkRep2.narrowPeak.gz     \n",
       "  ...       ...                                                        \n",
       "  AH30747 | E116-H3K4me3.narrowPeak.gz                                 \n",
       "  AH31690 | E116-H3K4me3.gappedPeak.gz                                 \n",
       "  AH32869 | E116-H3K4me3.fc.signal.bigwig                              \n",
       "  AH33901 | E116-H3K4me3.pval.signal.bigwig                            \n",
       "  AH40294 | E116-H3K4me3.imputed.pval.signal.bigwig                    "
      ]
     },
     "metadata": {},
     "output_type": "display_data"
    }
   ],
   "source": [
    "qhs"
   ]
  },
  {
   "cell_type": "markdown",
   "metadata": {},
   "source": [
    "Note how some of these hits don’t contain Gm12878 in their title. This is a useful illustration of how query searches over multiple fields.\n",
    "\n",
    "Lets have a closer look at this"
   ]
  },
  {
   "cell_type": "code",
   "execution_count": 8,
   "metadata": {},
   "outputs": [
    {
     "data": {
      "text/html": [
       "<style>\n",
       ".list-inline {list-style: none; margin:0; padding: 0}\n",
       ".list-inline>li {display: inline-block}\n",
       ".list-inline>li:not(:last-child)::after {content: \"\\00b7\"; padding: 0 .5ex}\n",
       "</style>\n",
       "<ol class=list-inline><li>'wgEncodeBroadHistoneGm12878H3k4me3StdPk.broadPeak.gz'</li><li>'wgEncodeUwHistoneGm12878H3k4me3StdHotspotsRep1.broadPeak.gz'</li><li>'wgEncodeUwHistoneGm12878H3k4me3StdHotspotsRep2.broadPeak.gz'</li><li>'wgEncodeUwHistoneGm12878H3k4me3StdPkRep1.narrowPeak.gz'</li><li>'wgEncodeUwHistoneGm12878H3k4me3StdPkRep2.narrowPeak.gz'</li><li>'E116-H3K4me3.broadPeak.gz'</li><li>'E116-H3K4me3.narrowPeak.gz'</li><li>'E116-H3K4me3.gappedPeak.gz'</li><li>'E116-H3K4me3.fc.signal.bigwig'</li><li>'E116-H3K4me3.pval.signal.bigwig'</li><li>'E116-H3K4me3.imputed.pval.signal.bigwig'</li></ol>\n"
      ],
      "text/latex": [
       "\\begin{enumerate*}\n",
       "\\item 'wgEncodeBroadHistoneGm12878H3k4me3StdPk.broadPeak.gz'\n",
       "\\item 'wgEncodeUwHistoneGm12878H3k4me3StdHotspotsRep1.broadPeak.gz'\n",
       "\\item 'wgEncodeUwHistoneGm12878H3k4me3StdHotspotsRep2.broadPeak.gz'\n",
       "\\item 'wgEncodeUwHistoneGm12878H3k4me3StdPkRep1.narrowPeak.gz'\n",
       "\\item 'wgEncodeUwHistoneGm12878H3k4me3StdPkRep2.narrowPeak.gz'\n",
       "\\item 'E116-H3K4me3.broadPeak.gz'\n",
       "\\item 'E116-H3K4me3.narrowPeak.gz'\n",
       "\\item 'E116-H3K4me3.gappedPeak.gz'\n",
       "\\item 'E116-H3K4me3.fc.signal.bigwig'\n",
       "\\item 'E116-H3K4me3.pval.signal.bigwig'\n",
       "\\item 'E116-H3K4me3.imputed.pval.signal.bigwig'\n",
       "\\end{enumerate*}\n"
      ],
      "text/markdown": [
       "1. 'wgEncodeBroadHistoneGm12878H3k4me3StdPk.broadPeak.gz'\n",
       "2. 'wgEncodeUwHistoneGm12878H3k4me3StdHotspotsRep1.broadPeak.gz'\n",
       "3. 'wgEncodeUwHistoneGm12878H3k4me3StdHotspotsRep2.broadPeak.gz'\n",
       "4. 'wgEncodeUwHistoneGm12878H3k4me3StdPkRep1.narrowPeak.gz'\n",
       "5. 'wgEncodeUwHistoneGm12878H3k4me3StdPkRep2.narrowPeak.gz'\n",
       "6. 'E116-H3K4me3.broadPeak.gz'\n",
       "7. 'E116-H3K4me3.narrowPeak.gz'\n",
       "8. 'E116-H3K4me3.gappedPeak.gz'\n",
       "9. 'E116-H3K4me3.fc.signal.bigwig'\n",
       "10. 'E116-H3K4me3.pval.signal.bigwig'\n",
       "11. 'E116-H3K4me3.imputed.pval.signal.bigwig'\n",
       "\n",
       "\n"
      ],
      "text/plain": [
       " [1] \"wgEncodeBroadHistoneGm12878H3k4me3StdPk.broadPeak.gz\"       \n",
       " [2] \"wgEncodeUwHistoneGm12878H3k4me3StdHotspotsRep1.broadPeak.gz\"\n",
       " [3] \"wgEncodeUwHistoneGm12878H3k4me3StdHotspotsRep2.broadPeak.gz\"\n",
       " [4] \"wgEncodeUwHistoneGm12878H3k4me3StdPkRep1.narrowPeak.gz\"     \n",
       " [5] \"wgEncodeUwHistoneGm12878H3k4me3StdPkRep2.narrowPeak.gz\"     \n",
       " [6] \"E116-H3K4me3.broadPeak.gz\"                                  \n",
       " [7] \"E116-H3K4me3.narrowPeak.gz\"                                 \n",
       " [8] \"E116-H3K4me3.gappedPeak.gz\"                                 \n",
       " [9] \"E116-H3K4me3.fc.signal.bigwig\"                              \n",
       "[10] \"E116-H3K4me3.pval.signal.bigwig\"                            \n",
       "[11] \"E116-H3K4me3.imputed.pval.signal.bigwig\"                    "
      ]
     },
     "metadata": {},
     "output_type": "display_data"
    }
   ],
   "source": [
    "qhs$title"
   ]
  },
  {
   "cell_type": "code",
   "execution_count": 9,
   "metadata": {},
   "outputs": [
    {
     "data": {
      "text/html": [
       "<style>\n",
       ".list-inline {list-style: none; margin:0; padding: 0}\n",
       ".list-inline>li {display: inline-block}\n",
       ".list-inline>li:not(:last-child)::after {content: \"\\00b7\"; padding: 0 .5ex}\n",
       "</style>\n",
       "<ol class=list-inline><li>'UCSC'</li><li>'UCSC'</li><li>'UCSC'</li><li>'UCSC'</li><li>'UCSC'</li><li>'BroadInstitute'</li><li>'BroadInstitute'</li><li>'BroadInstitute'</li><li>'BroadInstitute'</li><li>'BroadInstitute'</li><li>'BroadInstitute'</li></ol>\n"
      ],
      "text/latex": [
       "\\begin{enumerate*}\n",
       "\\item 'UCSC'\n",
       "\\item 'UCSC'\n",
       "\\item 'UCSC'\n",
       "\\item 'UCSC'\n",
       "\\item 'UCSC'\n",
       "\\item 'BroadInstitute'\n",
       "\\item 'BroadInstitute'\n",
       "\\item 'BroadInstitute'\n",
       "\\item 'BroadInstitute'\n",
       "\\item 'BroadInstitute'\n",
       "\\item 'BroadInstitute'\n",
       "\\end{enumerate*}\n"
      ],
      "text/markdown": [
       "1. 'UCSC'\n",
       "2. 'UCSC'\n",
       "3. 'UCSC'\n",
       "4. 'UCSC'\n",
       "5. 'UCSC'\n",
       "6. 'BroadInstitute'\n",
       "7. 'BroadInstitute'\n",
       "8. 'BroadInstitute'\n",
       "9. 'BroadInstitute'\n",
       "10. 'BroadInstitute'\n",
       "11. 'BroadInstitute'\n",
       "\n",
       "\n"
      ],
      "text/plain": [
       " [1] \"UCSC\"           \"UCSC\"           \"UCSC\"           \"UCSC\"          \n",
       " [5] \"UCSC\"           \"BroadInstitute\" \"BroadInstitute\" \"BroadInstitute\"\n",
       " [9] \"BroadInstitute\" \"BroadInstitute\" \"BroadInstitute\""
      ]
     },
     "metadata": {},
     "output_type": "display_data"
    }
   ],
   "source": [
    "qhs$dataprovider"
   ]
  },
  {
   "cell_type": "markdown",
   "metadata": {},
   "source": [
    "This result is a great illustration of the mess of public data. It turns our that E116 is a Roadmap Epigenetics code for the `Gm12878` cell line. The first 5 hits are from ENCODE, hosted at UCSC and the last 6 hits are from Roadmap Epigenomics hosted at the Broad Institute. \n",
    "\n",
    "The Roadmap data is different representation (and peaks) from the same underlying data. For the ENCODE data, two different centers did the same experiment in the same cell line (Broad, hit 1) and (Uw, hit 2-5), where Uw exposed data on two replicates (whatever that means). These two experiments seems to be analyzed using different algorithms. It is even possible that the Roadmap data is from the same raw data but just analyzed using different algorithms."
   ]
  },
  {
   "cell_type": "code",
   "execution_count": 10,
   "metadata": {},
   "outputs": [
    {
     "name": "stderr",
     "output_type": "stream",
     "text": [
      "downloading 1 resources\n",
      "\n",
      "retrieving 1 resource\n",
      "\n",
      "loading from cache\n",
      "\n",
      "'getOption(\"repos\")' replaces Bioconductor standard repositories, see\n",
      "'?repositories' for details\n",
      "\n",
      "replacement repositories:\n",
      "    CRAN: https://cran.r-project.org\n",
      "\n",
      "\n"
     ]
    },
    {
     "data": {
      "text/plain": [
       "GRanges object with 74470 ranges and 6 metadata columns:\n",
       "          seqnames              ranges strand |        name     score\n",
       "             <Rle>           <IRanges>  <Rle> | <character> <numeric>\n",
       "      [1]     chr1       713301-713450      * |        <NA>         0\n",
       "      [2]     chr1       713501-713650      * |        <NA>         0\n",
       "      [3]     chr1       713881-714030      * |        <NA>         0\n",
       "      [4]     chr1       714181-714330      * |        <NA>         0\n",
       "      [5]     chr1       714481-714630      * |        <NA>         0\n",
       "      ...      ...                 ...    ... .         ...       ...\n",
       "  [74466]     chrX 154492741-154492890      * |        <NA>         0\n",
       "  [74467]     chrX 154493401-154493550      * |        <NA>         0\n",
       "  [74468]     chrX 154560441-154560590      * |        <NA>         0\n",
       "  [74469]     chrX 154562121-154562270      * |        <NA>         0\n",
       "  [74470]     chrX 154842061-154842210      * |        <NA>         0\n",
       "          signalValue    pValue    qValue      peak\n",
       "            <numeric> <numeric> <numeric> <numeric>\n",
       "      [1]          91  112.7680        -1        -1\n",
       "      [2]          25   26.7181        -1        -1\n",
       "      [3]          81   77.4798        -1        -1\n",
       "      [4]          32  106.5650        -1        -1\n",
       "      [5]         122  153.8320        -1        -1\n",
       "      ...         ...       ...       ...       ...\n",
       "  [74466]          43  52.20930        -1        -1\n",
       "  [74467]         122 203.16800        -1        -1\n",
       "  [74468]           8   4.49236        -1        -1\n",
       "  [74469]           8   4.41978        -1        -1\n",
       "  [74470]         125 170.20100        -1        -1\n",
       "  -------\n",
       "  seqinfo: 298 sequences (2 circular) from hg19 genome"
      ]
     },
     "metadata": {},
     "output_type": "display_data"
    }
   ],
   "source": [
    "# Lets take a look at the narrowPeak data:\n",
    "gr1 <- subset(qhs, title == \"wgEncodeUwHistoneGm12878H3k4me3StdPkRep1.narrowPeak.gz\")[[1]]\n",
    "gr1"
   ]
  },
  {
   "cell_type": "code",
   "execution_count": 11,
   "metadata": {},
   "outputs": [
    {
     "name": "stderr",
     "output_type": "stream",
     "text": [
      "downloading 1 resources\n",
      "\n",
      "retrieving 1 resource\n",
      "\n",
      "loading from cache\n",
      "\n",
      "'getOption(\"repos\")' replaces Bioconductor standard repositories, see\n",
      "'?repositories' for details\n",
      "\n",
      "replacement repositories:\n",
      "    CRAN: https://cran.r-project.org\n",
      "\n",
      "\n"
     ]
    },
    {
     "data": {
      "text/plain": [
       "GRanges object with 76188 ranges and 6 metadata columns:\n",
       "          seqnames              ranges strand |        name     score\n",
       "             <Rle>           <IRanges>  <Rle> | <character> <numeric>\n",
       "      [1]     chr9 123553464-123557122      * |      Rank_1       623\n",
       "      [2]     chr3   53196213-53197995      * |      Rank_2       622\n",
       "      [3]    chr18     9137534-9142676      * |      Rank_3       583\n",
       "      [4]    chr11   75110593-75111943      * |      Rank_4       548\n",
       "      [5]    chr13   41343776-41345943      * |      Rank_5       543\n",
       "      ...      ...                 ...    ... .         ...       ...\n",
       "  [76184]     chr8   98881411-98881613      * |  Rank_76184        20\n",
       "  [76185]     chr9   26812360-26812533      * |  Rank_76185        20\n",
       "  [76186]     chrX   49019816-49020016      * |  Rank_76186        20\n",
       "  [76187]     chrX   55932872-55933045      * |  Rank_76187        20\n",
       "  [76188]     chr5 118322235-118322408      * |  Rank_76188        20\n",
       "          signalValue    pValue    qValue      peak\n",
       "            <numeric> <numeric> <numeric> <numeric>\n",
       "      [1]     23.0922   62.3413   52.8591      1736\n",
       "      [2]     24.9198   62.2283   52.8591       439\n",
       "      [3]     22.4894   58.3918   50.6730       442\n",
       "      [4]     22.4706   54.8491   47.7718       752\n",
       "      [5]     20.8280   54.3184   47.2908       909\n",
       "      ...         ...       ...       ...       ...\n",
       "  [76184]     2.63471   2.02539   0.27458        94\n",
       "  [76185]     2.63471   2.02539   0.27458        32\n",
       "  [76186]     2.63471   2.02539   0.27458        82\n",
       "  [76187]     2.63471   2.02539   0.27458        41\n",
       "  [76188]     2.62206   2.00970   0.26790        52\n",
       "  -------\n",
       "  seqinfo: 298 sequences (2 circular) from hg19 genome"
      ]
     },
     "metadata": {},
     "output_type": "display_data"
    }
   ],
   "source": [
    "gr2 <- subset(qhs, title == \"E116-H3K4me3.narrowPeak.gz\")[[1]]\n",
    "gr2"
   ]
  },
  {
   "cell_type": "code",
   "execution_count": 12,
   "metadata": {},
   "outputs": [
    {
     "data": {
      "text/plain": [
       "   Min. 1st Qu.  Median    Mean 3rd Qu.    Max. \n",
       "  150.0   150.0   150.0   150.3   150.0   410.0 "
      ]
     },
     "metadata": {},
     "output_type": "display_data"
    }
   ],
   "source": [
    "## This gives us two GRanges objects. Let us look at the distribution of peak widths:\n",
    "summary(width(gr1))"
   ]
  },
  {
   "cell_type": "code",
   "execution_count": 13,
   "metadata": {},
   "outputs": [
    {
     "data": {
      "text/plain": [
       "\n",
       "  150   210   230   250   270   290   390   410 \n",
       "74313     1    13    24    37    77     4     1 "
      ]
     },
     "metadata": {},
     "output_type": "display_data"
    }
   ],
   "source": [
    "table(width(gr1))"
   ]
  },
  {
   "cell_type": "code",
   "execution_count": 14,
   "metadata": {},
   "outputs": [
    {
     "data": {
      "text/plain": [
       "   Min. 1st Qu.  Median    Mean 3rd Qu.    Max. \n",
       "    174     243     387     662     770   12339 "
      ]
     },
     "metadata": {},
     "output_type": "display_data"
    }
   ],
   "source": [
    "summary(width(gr2))"
   ]
  },
  {
   "cell_type": "markdown",
   "metadata": {},
   "source": [
    "Turns out that almost all peaks in gr1 have a width of 150bp, whereas gr2 is much more variable. This is likely a product of the data processing algorithm; it can be very hard to figure out the details of this.\n",
    "\n",
    "At this time one can spend a lot of time thinking about which datasets is best. We will avoid this (important) discussion; since we referred to ENCODE data above (in the Overview section), we will stick with gr1.\n",
    "\n",
    "Now we need to get some promoter coordinates. There are multiple ways to do this in Bioconductor, but here I will do a quick lookup for RefSeq in my annotation hub. RefSeq is a highly curated (aka conservative) collection of genes."
   ]
  },
  {
   "cell_type": "code",
   "execution_count": 15,
   "metadata": {},
   "outputs": [
    {
     "data": {
      "text/plain": [
       "AnnotationHub with 8 records\n",
       "# snapshotDate(): 2021-05-18\n",
       "# $dataprovider: UCSC\n",
       "# $species: Homo sapiens\n",
       "# $rdataclass: GRanges\n",
       "# additional mcols(): taxonomyid, genome, description,\n",
       "#   coordinate_1_based, maintainer, rdatadateadded, preparerclass, tags,\n",
       "#   rdatapath, sourceurl, sourcetype \n",
       "# retrieve records with, e.g., 'object[[\"AH5040\"]]' \n",
       "\n",
       "           title       \n",
       "  AH5040 | RefSeq Genes\n",
       "  AH5041 | Other RefSeq\n",
       "  AH5155 | RefSeq Genes\n",
       "  AH5156 | Other RefSeq\n",
       "  AH5306 | RefSeq Genes\n",
       "  AH5307 | Other RefSeq\n",
       "  AH5431 | RefSeq Genes\n",
       "  AH5432 | Other RefSeq"
      ]
     },
     "metadata": {},
     "output_type": "display_data"
    }
   ],
   "source": [
    "qhs <- query(ah, \"RefSeq\")\n",
    "qhs"
   ]
  },
  {
   "cell_type": "markdown",
   "metadata": {},
   "source": [
    "So this gives us multiple datasets, all with very similar names. We probably need the thing called RefSeq Genes and not Other RefSeq but why are there multiple resources with the same name?\n",
    "\n",
    "Turns out the answer makes sense:"
   ]
  },
  {
   "cell_type": "code",
   "execution_count": 16,
   "metadata": {},
   "outputs": [
    {
     "data": {
      "text/html": [
       "<style>\n",
       ".list-inline {list-style: none; margin:0; padding: 0}\n",
       ".list-inline>li {display: inline-block}\n",
       ".list-inline>li:not(:last-child)::after {content: \"\\00b7\"; padding: 0 .5ex}\n",
       "</style>\n",
       "<ol class=list-inline><li>'hg19'</li><li>'hg19'</li><li>'hg18'</li><li>'hg18'</li><li>'hg17'</li><li>'hg17'</li><li>'hg16'</li><li>'hg16'</li></ol>\n"
      ],
      "text/latex": [
       "\\begin{enumerate*}\n",
       "\\item 'hg19'\n",
       "\\item 'hg19'\n",
       "\\item 'hg18'\n",
       "\\item 'hg18'\n",
       "\\item 'hg17'\n",
       "\\item 'hg17'\n",
       "\\item 'hg16'\n",
       "\\item 'hg16'\n",
       "\\end{enumerate*}\n"
      ],
      "text/markdown": [
       "1. 'hg19'\n",
       "2. 'hg19'\n",
       "3. 'hg18'\n",
       "4. 'hg18'\n",
       "5. 'hg17'\n",
       "6. 'hg17'\n",
       "7. 'hg16'\n",
       "8. 'hg16'\n",
       "\n",
       "\n"
      ],
      "text/plain": [
       "[1] \"hg19\" \"hg19\" \"hg18\" \"hg18\" \"hg17\" \"hg17\" \"hg16\" \"hg16\""
      ]
     },
     "metadata": {},
     "output_type": "display_data"
    }
   ],
   "source": [
    "qhs$genome"
   ]
  },
  {
   "cell_type": "code",
   "execution_count": 17,
   "metadata": {},
   "outputs": [
    {
     "data": {
      "text/html": [
       "<style>\n",
       ".dl-inline {width: auto; margin:0; padding: 0}\n",
       ".dl-inline>dt, .dl-inline>dd {float: none; width: auto; display: inline-block}\n",
       ".dl-inline>dt::after {content: \":\\0020\"; padding-right: .5ex}\n",
       ".dl-inline>dt:not(:first-of-type) {padding-left: .5ex}\n",
       "</style><dl class=dl-inline><dt>chr1</dt><dd>'hg19'</dd><dt>chr2</dt><dd>'hg19'</dd><dt>chr3</dt><dd>'hg19'</dd><dt>chr4</dt><dd>'hg19'</dd><dt>chr5</dt><dd>'hg19'</dd><dt>chr6</dt><dd>'hg19'</dd><dt>chr7</dt><dd>'hg19'</dd><dt>chr8</dt><dd>'hg19'</dd><dt>chr9</dt><dd>'hg19'</dd><dt>chr10</dt><dd>'hg19'</dd><dt>chr11</dt><dd>'hg19'</dd><dt>chr12</dt><dd>'hg19'</dd><dt>chr13</dt><dd>'hg19'</dd><dt>chr14</dt><dd>'hg19'</dd><dt>chr15</dt><dd>'hg19'</dd><dt>chr16</dt><dd>'hg19'</dd><dt>chr17</dt><dd>'hg19'</dd><dt>chr18</dt><dd>'hg19'</dd><dt>chr19</dt><dd>'hg19'</dd><dt>chr20</dt><dd>'hg19'</dd><dt>chr21</dt><dd>'hg19'</dd><dt>chr22</dt><dd>'hg19'</dd><dt>chrX</dt><dd>'hg19'</dd><dt>chrY</dt><dd>'hg19'</dd><dt>chrM</dt><dd>'hg19'</dd><dt>chrMT</dt><dd>'hg19'</dd><dt>chr1_gl000191_random</dt><dd>'hg19'</dd><dt>chr1_gl000192_random</dt><dd>'hg19'</dd><dt>chr1_gl383516_fix</dt><dd>'hg19'</dd><dt>chr1_gl383517_fix</dt><dd>'hg19'</dd><dt>chr1_gl383518_alt</dt><dd>'hg19'</dd><dt>chr1_gl383519_alt</dt><dd>'hg19'</dd><dt>chr1_gl383520_alt</dt><dd>'hg19'</dd><dt>chr1_gl949741_fix</dt><dd>'hg19'</dd><dt>chr1_jh636052_fix</dt><dd>'hg19'</dd><dt>chr1_jh636053_fix</dt><dd>'hg19'</dd><dt>chr1_jh636054_fix</dt><dd>'hg19'</dd><dt>chr1_jh806573_fix</dt><dd>'hg19'</dd><dt>chr1_jh806574_fix</dt><dd>'hg19'</dd><dt>chr1_jh806575_fix</dt><dd>'hg19'</dd><dt>chr2_gl383521_alt</dt><dd>'hg19'</dd><dt>chr2_gl383522_alt</dt><dd>'hg19'</dd><dt>chr2_gl582966_alt</dt><dd>'hg19'</dd><dt>chr2_gl877870_fix</dt><dd>'hg19'</dd><dt>chr2_gl877871_fix</dt><dd>'hg19'</dd><dt>chr2_kb663603_fix</dt><dd>'hg19'</dd><dt>chr3_gl383523_fix</dt><dd>'hg19'</dd><dt>chr3_gl383524_fix</dt><dd>'hg19'</dd><dt>chr3_gl383525_fix</dt><dd>'hg19'</dd><dt>chr3_gl383526_alt</dt><dd>'hg19'</dd><dt>chr3_jh159131_fix</dt><dd>'hg19'</dd><dt>chr3_jh159132_fix</dt><dd>'hg19'</dd><dt>chr3_jh636055_alt</dt><dd>'hg19'</dd><dt>chr3_ke332495_fix</dt><dd>'hg19'</dd><dt>chr4_ctg9_hap1</dt><dd>'hg19'</dd><dt>chr4_gl000193_random</dt><dd>'hg19'</dd><dt>chr4_gl000194_random</dt><dd>'hg19'</dd><dt>chr4_gl383527_alt</dt><dd>'hg19'</dd><dt>chr4_gl383528_alt</dt><dd>'hg19'</dd><dt>chr4_gl383529_alt</dt><dd>'hg19'</dd><dt>chr4_gl582967_fix</dt><dd>'hg19'</dd><dt>chr4_gl877872_fix</dt><dd>'hg19'</dd><dt>chr4_ke332496_fix</dt><dd>'hg19'</dd><dt>chr5_gl339449_alt</dt><dd>'hg19'</dd><dt>chr5_gl383530_alt</dt><dd>'hg19'</dd><dt>chr5_gl383531_alt</dt><dd>'hg19'</dd><dt>chr5_gl383532_alt</dt><dd>'hg19'</dd><dt>chr5_gl949742_alt</dt><dd>'hg19'</dd><dt>chr5_jh159133_fix</dt><dd>'hg19'</dd><dt>chr5_ke332497_fix</dt><dd>'hg19'</dd><dt>chr6_apd_hap1</dt><dd>'hg19'</dd><dt>chr6_cox_hap2</dt><dd>'hg19'</dd><dt>chr6_dbb_hap3</dt><dd>'hg19'</dd><dt>chr6_gl383533_alt</dt><dd>'hg19'</dd><dt>chr6_jh636056_fix</dt><dd>'hg19'</dd><dt>chr6_jh636057_fix</dt><dd>'hg19'</dd><dt>chr6_jh806576_fix</dt><dd>'hg19'</dd><dt>chr6_kb021644_alt</dt><dd>'hg19'</dd><dt>chr6_kb663604_fix</dt><dd>'hg19'</dd><dt>chr6_ke332498_fix</dt><dd>'hg19'</dd><dt>chr6_mann_hap4</dt><dd>'hg19'</dd><dt>chr6_mcf_hap5</dt><dd>'hg19'</dd><dt>chr6_qbl_hap6</dt><dd>'hg19'</dd><dt>chr6_ssto_hap7</dt><dd>'hg19'</dd><dt>chr7_gl000195_random</dt><dd>'hg19'</dd><dt>chr7_gl383534_alt</dt><dd>'hg19'</dd><dt>chr7_gl582968_fix</dt><dd>'hg19'</dd><dt>chr7_gl582969_fix</dt><dd>'hg19'</dd><dt>chr7_gl582970_fix</dt><dd>'hg19'</dd><dt>chr7_gl582971_fix</dt><dd>'hg19'</dd><dt>chr7_gl582972_fix</dt><dd>'hg19'</dd><dt>chr7_jh159134_fix</dt><dd>'hg19'</dd><dt>chr7_jh636058_fix</dt><dd>'hg19'</dd><dt>chr7_ke332499_fix</dt><dd>'hg19'</dd><dt>chr8_gl000196_random</dt><dd>'hg19'</dd><dt>chr8_gl000197_random</dt><dd>'hg19'</dd><dt>chr8_gl383535_fix</dt><dd>'hg19'</dd><dt>chr8_gl383536_fix</dt><dd>'hg19'</dd><dt>chr8_gl949743_fix</dt><dd>'hg19'</dd><dt>chr8_jh159135_fix</dt><dd>'hg19'</dd><dt>chr8_ke332500_fix</dt><dd>'hg19'</dd><dt>chr9_gl000198_random</dt><dd>'hg19'</dd><dt>chr9_gl000199_random</dt><dd>'hg19'</dd><dt>chr9_gl000200_random</dt><dd>'hg19'</dd><dt>chr9_gl000201_random</dt><dd>'hg19'</dd><dt>chr9_gl339450_fix</dt><dd>'hg19'</dd><dt>chr9_gl383537_fix</dt><dd>'hg19'</dd><dt>chr9_gl383538_fix</dt><dd>'hg19'</dd><dt>chr9_gl383539_alt</dt><dd>'hg19'</dd><dt>chr9_gl383540_alt</dt><dd>'hg19'</dd><dt>chr9_gl383541_alt</dt><dd>'hg19'</dd><dt>chr9_gl383542_alt</dt><dd>'hg19'</dd><dt>chr9_jh636059_fix</dt><dd>'hg19'</dd><dt>chr9_jh806577_fix</dt><dd>'hg19'</dd><dt>chr9_jh806578_fix</dt><dd>'hg19'</dd><dt>chr9_jh806579_fix</dt><dd>'hg19'</dd><dt>chr9_kb663605_fix</dt><dd>'hg19'</dd><dt>chr10_gl383543_fix</dt><dd>'hg19'</dd><dt>chr10_gl383544_fix</dt><dd>'hg19'</dd><dt>chr10_gl383545_alt</dt><dd>'hg19'</dd><dt>chr10_gl383546_alt</dt><dd>'hg19'</dd><dt>chr10_gl877873_fix</dt><dd>'hg19'</dd><dt>chr10_jh591181_fix</dt><dd>'hg19'</dd><dt>chr10_jh591182_fix</dt><dd>'hg19'</dd><dt>chr10_jh591183_fix</dt><dd>'hg19'</dd><dt>chr10_jh636060_fix</dt><dd>'hg19'</dd><dt>chr10_jh806580_fix</dt><dd>'hg19'</dd><dt>chr10_kb663606_fix</dt><dd>'hg19'</dd><dt>chr10_ke332501_fix</dt><dd>'hg19'</dd><dt>chr11_gl000202_random</dt><dd>'hg19'</dd><dt>chr11_gl383547_alt</dt><dd>'hg19'</dd><dt>chr11_gl582973_fix</dt><dd>'hg19'</dd><dt>chr11_gl949744_fix</dt><dd>'hg19'</dd><dt>chr11_jh159136_alt</dt><dd>'hg19'</dd><dt>chr11_jh159137_alt</dt><dd>'hg19'</dd><dt>chr11_jh159138_fix</dt><dd>'hg19'</dd><dt>chr11_jh159139_fix</dt><dd>'hg19'</dd><dt>chr11_jh159140_fix</dt><dd>'hg19'</dd><dt>chr11_jh159141_fix</dt><dd>'hg19'</dd><dt>chr11_jh159142_fix</dt><dd>'hg19'</dd><dt>chr11_jh159143_fix</dt><dd>'hg19'</dd><dt>chr11_jh591184_fix</dt><dd>'hg19'</dd><dt>chr11_jh591185_fix</dt><dd>'hg19'</dd><dt>chr11_jh720443_fix</dt><dd>'hg19'</dd><dt>chr11_jh806581_fix</dt><dd>'hg19'</dd><dt>chr12_gl383548_fix</dt><dd>'hg19'</dd><dt>chr12_gl383549_alt</dt><dd>'hg19'</dd><dt>chr12_gl383550_alt</dt><dd>'hg19'</dd><dt>chr12_gl383551_alt</dt><dd>'hg19'</dd><dt>chr12_gl383552_alt</dt><dd>'hg19'</dd><dt>chr12_gl383553_alt</dt><dd>'hg19'</dd><dt>chr12_gl582974_fix</dt><dd>'hg19'</dd><dt>chr12_gl877875_alt</dt><dd>'hg19'</dd><dt>chr12_gl877876_alt</dt><dd>'hg19'</dd><dt>chr12_gl949745_alt</dt><dd>'hg19'</dd><dt>chr12_jh720444_fix</dt><dd>'hg19'</dd><dt>chr12_kb663607_fix</dt><dd>'hg19'</dd><dt>chr13_gl582975_fix</dt><dd>'hg19'</dd><dt>chr14_kb021645_fix</dt><dd>'hg19'</dd><dt>chr15_gl383554_alt</dt><dd>'hg19'</dd><dt>chr15_gl383555_alt</dt><dd>'hg19'</dd><dt>chr15_jh720445_fix</dt><dd>'hg19'</dd><dt>chr16_gl383556_alt</dt><dd>'hg19'</dd><dt>chr16_gl383557_alt</dt><dd>'hg19'</dd><dt>chr16_jh720446_fix</dt><dd>'hg19'</dd><dt>chr17_ctg5_hap1</dt><dd>'hg19'</dd><dt>chr17_gl000203_random</dt><dd>'hg19'</dd><dt>chr17_gl000204_random</dt><dd>'hg19'</dd><dt>chr17_gl000205_random</dt><dd>'hg19'</dd><dt>chr17_gl000206_random</dt><dd>'hg19'</dd><dt>chr17_gl383558_fix</dt><dd>'hg19'</dd><dt>chr17_gl383559_fix</dt><dd>'hg19'</dd><dt>chr17_gl383560_fix</dt><dd>'hg19'</dd><dt>chr17_gl383561_fix</dt><dd>'hg19'</dd><dt>chr17_gl383562_fix</dt><dd>'hg19'</dd><dt>chr17_gl383563_alt</dt><dd>'hg19'</dd><dt>chr17_gl383564_alt</dt><dd>'hg19'</dd><dt>chr17_gl383565_alt</dt><dd>'hg19'</dd><dt>chr17_gl383566_alt</dt><dd>'hg19'</dd><dt>chr17_gl582976_fix</dt><dd>'hg19'</dd><dt>chr17_jh159144_fix</dt><dd>'hg19'</dd><dt>chr17_jh159145_fix</dt><dd>'hg19'</dd><dt>chr17_jh159146_alt</dt><dd>'hg19'</dd><dt>chr17_jh159147_alt</dt><dd>'hg19'</dd><dt>chr17_jh159148_alt</dt><dd>'hg19'</dd><dt>chr17_jh591186_fix</dt><dd>'hg19'</dd><dt>chr17_jh636061_fix</dt><dd>'hg19'</dd><dt>chr17_jh720447_fix</dt><dd>'hg19'</dd><dt>chr17_jh806582_fix</dt><dd>'hg19'</dd><dt>chr17_kb021646_fix</dt><dd>'hg19'</dd><dt>chr17_ke332502_fix</dt><dd>'hg19'</dd><dt>chr18_gl000207_random</dt><dd>'hg19'</dd><dt>chr18_gl383567_alt</dt><dd>'hg19'</dd><dt>chr18_gl383568_alt</dt><dd>'hg19'</dd><dt>chr18_gl383569_alt</dt><dd>'hg19'</dd><dt>chr18_gl383570_alt</dt><dd>'hg19'</dd><dt>chr18_gl383571_alt</dt><dd>'hg19'</dd><dt>chr18_gl383572_alt</dt><dd>'hg19'</dd><dt>chr19_gl000208_random</dt><dd>'hg19'</dd><dt>chr19_gl000209_random</dt><dd>'hg19'</dd><dt>chr19_gl383573_alt</dt><dd>'hg19'</dd><dt>chr19_gl383574_alt</dt><dd>'hg19'</dd><dt>chr19_gl383575_alt</dt><dd>'hg19'</dd><dt>chr19_gl383576_alt</dt><dd>'hg19'</dd><dt>chr19_gl582977_fix</dt><dd>'hg19'</dd><dt>chr19_gl949746_alt</dt><dd>'hg19'</dd><dt>chr19_gl949747_alt</dt><dd>'hg19'</dd><dt>chr19_gl949748_alt</dt><dd>'hg19'</dd><dt>chr19_gl949749_alt</dt><dd>'hg19'</dd><dt>chr19_gl949750_alt</dt><dd>'hg19'</dd><dt>chr19_gl949751_alt</dt><dd>'hg19'</dd><dt>chr19_gl949752_alt</dt><dd>'hg19'</dd><dt>chr19_gl949753_alt</dt><dd>'hg19'</dd><dt>chr19_jh159149_fix</dt><dd>'hg19'</dd><dt>chr19_kb021647_fix</dt><dd>'hg19'</dd><dt>chr19_ke332505_fix</dt><dd>'hg19'</dd><dt>chr20_gl383577_alt</dt><dd>'hg19'</dd><dt>chr20_gl582979_fix</dt><dd>'hg19'</dd><dt>chr20_jh720448_fix</dt><dd>'hg19'</dd><dt>chr20_kb663608_fix</dt><dd>'hg19'</dd><dt>chr21_gl000210_random</dt><dd>'hg19'</dd><dt>chr21_gl383578_alt</dt><dd>'hg19'</dd><dt>chr21_gl383579_alt</dt><dd>'hg19'</dd><dt>chr21_gl383580_alt</dt><dd>'hg19'</dd><dt>chr21_gl383581_alt</dt><dd>'hg19'</dd><dt>chr21_ke332506_fix</dt><dd>'hg19'</dd><dt>chr22_gl383582_alt</dt><dd>'hg19'</dd><dt>chr22_gl383583_alt</dt><dd>'hg19'</dd><dt>chr22_jh720449_fix</dt><dd>'hg19'</dd><dt>chr22_jh806583_fix</dt><dd>'hg19'</dd><dt>chr22_jh806584_fix</dt><dd>'hg19'</dd><dt>chr22_jh806585_fix</dt><dd>'hg19'</dd><dt>chr22_jh806586_fix</dt><dd>'hg19'</dd><dt>chr22_kb663609_alt</dt><dd>'hg19'</dd><dt>chrX_gl877877_fix</dt><dd>'hg19'</dd><dt>chrX_jh159150_fix</dt><dd>'hg19'</dd><dt>chrX_jh720451_fix</dt><dd>'hg19'</dd><dt>chrX_jh720452_fix</dt><dd>'hg19'</dd><dt>chrX_jh720453_fix</dt><dd>'hg19'</dd><dt>chrX_jh720454_fix</dt><dd>'hg19'</dd><dt>chrX_jh720455_fix</dt><dd>'hg19'</dd><dt>chrX_jh806587_fix</dt><dd>'hg19'</dd><dt>chrX_jh806588_fix</dt><dd>'hg19'</dd><dt>chrX_jh806589_fix</dt><dd>'hg19'</dd><dt>chrX_jh806590_fix</dt><dd>'hg19'</dd><dt>chrX_jh806591_fix</dt><dd>'hg19'</dd><dt>chrX_jh806592_fix</dt><dd>'hg19'</dd><dt>chrX_jh806593_fix</dt><dd>'hg19'</dd><dt>chrX_jh806594_fix</dt><dd>'hg19'</dd><dt>chrX_jh806595_fix</dt><dd>'hg19'</dd><dt>chrX_jh806596_fix</dt><dd>'hg19'</dd><dt>chrX_jh806597_fix</dt><dd>'hg19'</dd><dt>chrX_jh806598_fix</dt><dd>'hg19'</dd><dt>chrX_jh806599_fix</dt><dd>'hg19'</dd><dt>chrX_jh806600_fix</dt><dd>'hg19'</dd><dt>chrX_jh806601_fix</dt><dd>'hg19'</dd><dt>chrX_jh806602_fix</dt><dd>'hg19'</dd><dt>chrX_jh806603_fix</dt><dd>'hg19'</dd><dt>chrX_kb021648_fix</dt><dd>'hg19'</dd><dt>chrUn_gl000211</dt><dd>'hg19'</dd><dt>chrUn_gl000212</dt><dd>'hg19'</dd><dt>chrUn_gl000213</dt><dd>'hg19'</dd><dt>chrUn_gl000214</dt><dd>'hg19'</dd><dt>chrUn_gl000215</dt><dd>'hg19'</dd><dt>chrUn_gl000216</dt><dd>'hg19'</dd><dt>chrUn_gl000217</dt><dd>'hg19'</dd><dt>chrUn_gl000218</dt><dd>'hg19'</dd><dt>chrUn_gl000219</dt><dd>'hg19'</dd><dt>chrUn_gl000220</dt><dd>'hg19'</dd><dt>chrUn_gl000221</dt><dd>'hg19'</dd><dt>chrUn_gl000222</dt><dd>'hg19'</dd><dt>chrUn_gl000223</dt><dd>'hg19'</dd><dt>chrUn_gl000224</dt><dd>'hg19'</dd><dt>chrUn_gl000225</dt><dd>'hg19'</dd><dt>chrUn_gl000226</dt><dd>'hg19'</dd><dt>chrUn_gl000227</dt><dd>'hg19'</dd><dt>chrUn_gl000228</dt><dd>'hg19'</dd><dt>chrUn_gl000229</dt><dd>'hg19'</dd><dt>chrUn_gl000230</dt><dd>'hg19'</dd><dt>chrUn_gl000231</dt><dd>'hg19'</dd><dt>chrUn_gl000232</dt><dd>'hg19'</dd><dt>chrUn_gl000233</dt><dd>'hg19'</dd><dt>chrUn_gl000234</dt><dd>'hg19'</dd><dt>chrUn_gl000235</dt><dd>'hg19'</dd><dt>chrUn_gl000236</dt><dd>'hg19'</dd><dt>chrUn_gl000237</dt><dd>'hg19'</dd><dt>chrUn_gl000238</dt><dd>'hg19'</dd><dt>chrUn_gl000239</dt><dd>'hg19'</dd><dt>chrUn_gl000240</dt><dd>'hg19'</dd><dt>chrUn_gl000241</dt><dd>'hg19'</dd><dt>chrUn_gl000242</dt><dd>'hg19'</dd><dt>chrUn_gl000243</dt><dd>'hg19'</dd><dt>chrUn_gl000244</dt><dd>'hg19'</dd><dt>chrUn_gl000245</dt><dd>'hg19'</dd><dt>chrUn_gl000246</dt><dd>'hg19'</dd><dt>chrUn_gl000247</dt><dd>'hg19'</dd><dt>chrUn_gl000248</dt><dd>'hg19'</dd><dt>chrUn_gl000249</dt><dd>'hg19'</dd></dl>\n"
      ],
      "text/latex": [
       "\\begin{description*}\n",
       "\\item[chr1] 'hg19'\n",
       "\\item[chr2] 'hg19'\n",
       "\\item[chr3] 'hg19'\n",
       "\\item[chr4] 'hg19'\n",
       "\\item[chr5] 'hg19'\n",
       "\\item[chr6] 'hg19'\n",
       "\\item[chr7] 'hg19'\n",
       "\\item[chr8] 'hg19'\n",
       "\\item[chr9] 'hg19'\n",
       "\\item[chr10] 'hg19'\n",
       "\\item[chr11] 'hg19'\n",
       "\\item[chr12] 'hg19'\n",
       "\\item[chr13] 'hg19'\n",
       "\\item[chr14] 'hg19'\n",
       "\\item[chr15] 'hg19'\n",
       "\\item[chr16] 'hg19'\n",
       "\\item[chr17] 'hg19'\n",
       "\\item[chr18] 'hg19'\n",
       "\\item[chr19] 'hg19'\n",
       "\\item[chr20] 'hg19'\n",
       "\\item[chr21] 'hg19'\n",
       "\\item[chr22] 'hg19'\n",
       "\\item[chrX] 'hg19'\n",
       "\\item[chrY] 'hg19'\n",
       "\\item[chrM] 'hg19'\n",
       "\\item[chrMT] 'hg19'\n",
       "\\item[chr1\\textbackslash{}\\_gl000191\\textbackslash{}\\_random] 'hg19'\n",
       "\\item[chr1\\textbackslash{}\\_gl000192\\textbackslash{}\\_random] 'hg19'\n",
       "\\item[chr1\\textbackslash{}\\_gl383516\\textbackslash{}\\_fix] 'hg19'\n",
       "\\item[chr1\\textbackslash{}\\_gl383517\\textbackslash{}\\_fix] 'hg19'\n",
       "\\item[chr1\\textbackslash{}\\_gl383518\\textbackslash{}\\_alt] 'hg19'\n",
       "\\item[chr1\\textbackslash{}\\_gl383519\\textbackslash{}\\_alt] 'hg19'\n",
       "\\item[chr1\\textbackslash{}\\_gl383520\\textbackslash{}\\_alt] 'hg19'\n",
       "\\item[chr1\\textbackslash{}\\_gl949741\\textbackslash{}\\_fix] 'hg19'\n",
       "\\item[chr1\\textbackslash{}\\_jh636052\\textbackslash{}\\_fix] 'hg19'\n",
       "\\item[chr1\\textbackslash{}\\_jh636053\\textbackslash{}\\_fix] 'hg19'\n",
       "\\item[chr1\\textbackslash{}\\_jh636054\\textbackslash{}\\_fix] 'hg19'\n",
       "\\item[chr1\\textbackslash{}\\_jh806573\\textbackslash{}\\_fix] 'hg19'\n",
       "\\item[chr1\\textbackslash{}\\_jh806574\\textbackslash{}\\_fix] 'hg19'\n",
       "\\item[chr1\\textbackslash{}\\_jh806575\\textbackslash{}\\_fix] 'hg19'\n",
       "\\item[chr2\\textbackslash{}\\_gl383521\\textbackslash{}\\_alt] 'hg19'\n",
       "\\item[chr2\\textbackslash{}\\_gl383522\\textbackslash{}\\_alt] 'hg19'\n",
       "\\item[chr2\\textbackslash{}\\_gl582966\\textbackslash{}\\_alt] 'hg19'\n",
       "\\item[chr2\\textbackslash{}\\_gl877870\\textbackslash{}\\_fix] 'hg19'\n",
       "\\item[chr2\\textbackslash{}\\_gl877871\\textbackslash{}\\_fix] 'hg19'\n",
       "\\item[chr2\\textbackslash{}\\_kb663603\\textbackslash{}\\_fix] 'hg19'\n",
       "\\item[chr3\\textbackslash{}\\_gl383523\\textbackslash{}\\_fix] 'hg19'\n",
       "\\item[chr3\\textbackslash{}\\_gl383524\\textbackslash{}\\_fix] 'hg19'\n",
       "\\item[chr3\\textbackslash{}\\_gl383525\\textbackslash{}\\_fix] 'hg19'\n",
       "\\item[chr3\\textbackslash{}\\_gl383526\\textbackslash{}\\_alt] 'hg19'\n",
       "\\item[chr3\\textbackslash{}\\_jh159131\\textbackslash{}\\_fix] 'hg19'\n",
       "\\item[chr3\\textbackslash{}\\_jh159132\\textbackslash{}\\_fix] 'hg19'\n",
       "\\item[chr3\\textbackslash{}\\_jh636055\\textbackslash{}\\_alt] 'hg19'\n",
       "\\item[chr3\\textbackslash{}\\_ke332495\\textbackslash{}\\_fix] 'hg19'\n",
       "\\item[chr4\\textbackslash{}\\_ctg9\\textbackslash{}\\_hap1] 'hg19'\n",
       "\\item[chr4\\textbackslash{}\\_gl000193\\textbackslash{}\\_random] 'hg19'\n",
       "\\item[chr4\\textbackslash{}\\_gl000194\\textbackslash{}\\_random] 'hg19'\n",
       "\\item[chr4\\textbackslash{}\\_gl383527\\textbackslash{}\\_alt] 'hg19'\n",
       "\\item[chr4\\textbackslash{}\\_gl383528\\textbackslash{}\\_alt] 'hg19'\n",
       "\\item[chr4\\textbackslash{}\\_gl383529\\textbackslash{}\\_alt] 'hg19'\n",
       "\\item[chr4\\textbackslash{}\\_gl582967\\textbackslash{}\\_fix] 'hg19'\n",
       "\\item[chr4\\textbackslash{}\\_gl877872\\textbackslash{}\\_fix] 'hg19'\n",
       "\\item[chr4\\textbackslash{}\\_ke332496\\textbackslash{}\\_fix] 'hg19'\n",
       "\\item[chr5\\textbackslash{}\\_gl339449\\textbackslash{}\\_alt] 'hg19'\n",
       "\\item[chr5\\textbackslash{}\\_gl383530\\textbackslash{}\\_alt] 'hg19'\n",
       "\\item[chr5\\textbackslash{}\\_gl383531\\textbackslash{}\\_alt] 'hg19'\n",
       "\\item[chr5\\textbackslash{}\\_gl383532\\textbackslash{}\\_alt] 'hg19'\n",
       "\\item[chr5\\textbackslash{}\\_gl949742\\textbackslash{}\\_alt] 'hg19'\n",
       "\\item[chr5\\textbackslash{}\\_jh159133\\textbackslash{}\\_fix] 'hg19'\n",
       "\\item[chr5\\textbackslash{}\\_ke332497\\textbackslash{}\\_fix] 'hg19'\n",
       "\\item[chr6\\textbackslash{}\\_apd\\textbackslash{}\\_hap1] 'hg19'\n",
       "\\item[chr6\\textbackslash{}\\_cox\\textbackslash{}\\_hap2] 'hg19'\n",
       "\\item[chr6\\textbackslash{}\\_dbb\\textbackslash{}\\_hap3] 'hg19'\n",
       "\\item[chr6\\textbackslash{}\\_gl383533\\textbackslash{}\\_alt] 'hg19'\n",
       "\\item[chr6\\textbackslash{}\\_jh636056\\textbackslash{}\\_fix] 'hg19'\n",
       "\\item[chr6\\textbackslash{}\\_jh636057\\textbackslash{}\\_fix] 'hg19'\n",
       "\\item[chr6\\textbackslash{}\\_jh806576\\textbackslash{}\\_fix] 'hg19'\n",
       "\\item[chr6\\textbackslash{}\\_kb021644\\textbackslash{}\\_alt] 'hg19'\n",
       "\\item[chr6\\textbackslash{}\\_kb663604\\textbackslash{}\\_fix] 'hg19'\n",
       "\\item[chr6\\textbackslash{}\\_ke332498\\textbackslash{}\\_fix] 'hg19'\n",
       "\\item[chr6\\textbackslash{}\\_mann\\textbackslash{}\\_hap4] 'hg19'\n",
       "\\item[chr6\\textbackslash{}\\_mcf\\textbackslash{}\\_hap5] 'hg19'\n",
       "\\item[chr6\\textbackslash{}\\_qbl\\textbackslash{}\\_hap6] 'hg19'\n",
       "\\item[chr6\\textbackslash{}\\_ssto\\textbackslash{}\\_hap7] 'hg19'\n",
       "\\item[chr7\\textbackslash{}\\_gl000195\\textbackslash{}\\_random] 'hg19'\n",
       "\\item[chr7\\textbackslash{}\\_gl383534\\textbackslash{}\\_alt] 'hg19'\n",
       "\\item[chr7\\textbackslash{}\\_gl582968\\textbackslash{}\\_fix] 'hg19'\n",
       "\\item[chr7\\textbackslash{}\\_gl582969\\textbackslash{}\\_fix] 'hg19'\n",
       "\\item[chr7\\textbackslash{}\\_gl582970\\textbackslash{}\\_fix] 'hg19'\n",
       "\\item[chr7\\textbackslash{}\\_gl582971\\textbackslash{}\\_fix] 'hg19'\n",
       "\\item[chr7\\textbackslash{}\\_gl582972\\textbackslash{}\\_fix] 'hg19'\n",
       "\\item[chr7\\textbackslash{}\\_jh159134\\textbackslash{}\\_fix] 'hg19'\n",
       "\\item[chr7\\textbackslash{}\\_jh636058\\textbackslash{}\\_fix] 'hg19'\n",
       "\\item[chr7\\textbackslash{}\\_ke332499\\textbackslash{}\\_fix] 'hg19'\n",
       "\\item[chr8\\textbackslash{}\\_gl000196\\textbackslash{}\\_random] 'hg19'\n",
       "\\item[chr8\\textbackslash{}\\_gl000197\\textbackslash{}\\_random] 'hg19'\n",
       "\\item[chr8\\textbackslash{}\\_gl383535\\textbackslash{}\\_fix] 'hg19'\n",
       "\\item[chr8\\textbackslash{}\\_gl383536\\textbackslash{}\\_fix] 'hg19'\n",
       "\\item[chr8\\textbackslash{}\\_gl949743\\textbackslash{}\\_fix] 'hg19'\n",
       "\\item[chr8\\textbackslash{}\\_jh159135\\textbackslash{}\\_fix] 'hg19'\n",
       "\\item[chr8\\textbackslash{}\\_ke332500\\textbackslash{}\\_fix] 'hg19'\n",
       "\\item[chr9\\textbackslash{}\\_gl000198\\textbackslash{}\\_random] 'hg19'\n",
       "\\item[chr9\\textbackslash{}\\_gl000199\\textbackslash{}\\_random] 'hg19'\n",
       "\\item[chr9\\textbackslash{}\\_gl000200\\textbackslash{}\\_random] 'hg19'\n",
       "\\item[chr9\\textbackslash{}\\_gl000201\\textbackslash{}\\_random] 'hg19'\n",
       "\\item[chr9\\textbackslash{}\\_gl339450\\textbackslash{}\\_fix] 'hg19'\n",
       "\\item[chr9\\textbackslash{}\\_gl383537\\textbackslash{}\\_fix] 'hg19'\n",
       "\\item[chr9\\textbackslash{}\\_gl383538\\textbackslash{}\\_fix] 'hg19'\n",
       "\\item[chr9\\textbackslash{}\\_gl383539\\textbackslash{}\\_alt] 'hg19'\n",
       "\\item[chr9\\textbackslash{}\\_gl383540\\textbackslash{}\\_alt] 'hg19'\n",
       "\\item[chr9\\textbackslash{}\\_gl383541\\textbackslash{}\\_alt] 'hg19'\n",
       "\\item[chr9\\textbackslash{}\\_gl383542\\textbackslash{}\\_alt] 'hg19'\n",
       "\\item[chr9\\textbackslash{}\\_jh636059\\textbackslash{}\\_fix] 'hg19'\n",
       "\\item[chr9\\textbackslash{}\\_jh806577\\textbackslash{}\\_fix] 'hg19'\n",
       "\\item[chr9\\textbackslash{}\\_jh806578\\textbackslash{}\\_fix] 'hg19'\n",
       "\\item[chr9\\textbackslash{}\\_jh806579\\textbackslash{}\\_fix] 'hg19'\n",
       "\\item[chr9\\textbackslash{}\\_kb663605\\textbackslash{}\\_fix] 'hg19'\n",
       "\\item[chr10\\textbackslash{}\\_gl383543\\textbackslash{}\\_fix] 'hg19'\n",
       "\\item[chr10\\textbackslash{}\\_gl383544\\textbackslash{}\\_fix] 'hg19'\n",
       "\\item[chr10\\textbackslash{}\\_gl383545\\textbackslash{}\\_alt] 'hg19'\n",
       "\\item[chr10\\textbackslash{}\\_gl383546\\textbackslash{}\\_alt] 'hg19'\n",
       "\\item[chr10\\textbackslash{}\\_gl877873\\textbackslash{}\\_fix] 'hg19'\n",
       "\\item[chr10\\textbackslash{}\\_jh591181\\textbackslash{}\\_fix] 'hg19'\n",
       "\\item[chr10\\textbackslash{}\\_jh591182\\textbackslash{}\\_fix] 'hg19'\n",
       "\\item[chr10\\textbackslash{}\\_jh591183\\textbackslash{}\\_fix] 'hg19'\n",
       "\\item[chr10\\textbackslash{}\\_jh636060\\textbackslash{}\\_fix] 'hg19'\n",
       "\\item[chr10\\textbackslash{}\\_jh806580\\textbackslash{}\\_fix] 'hg19'\n",
       "\\item[chr10\\textbackslash{}\\_kb663606\\textbackslash{}\\_fix] 'hg19'\n",
       "\\item[chr10\\textbackslash{}\\_ke332501\\textbackslash{}\\_fix] 'hg19'\n",
       "\\item[chr11\\textbackslash{}\\_gl000202\\textbackslash{}\\_random] 'hg19'\n",
       "\\item[chr11\\textbackslash{}\\_gl383547\\textbackslash{}\\_alt] 'hg19'\n",
       "\\item[chr11\\textbackslash{}\\_gl582973\\textbackslash{}\\_fix] 'hg19'\n",
       "\\item[chr11\\textbackslash{}\\_gl949744\\textbackslash{}\\_fix] 'hg19'\n",
       "\\item[chr11\\textbackslash{}\\_jh159136\\textbackslash{}\\_alt] 'hg19'\n",
       "\\item[chr11\\textbackslash{}\\_jh159137\\textbackslash{}\\_alt] 'hg19'\n",
       "\\item[chr11\\textbackslash{}\\_jh159138\\textbackslash{}\\_fix] 'hg19'\n",
       "\\item[chr11\\textbackslash{}\\_jh159139\\textbackslash{}\\_fix] 'hg19'\n",
       "\\item[chr11\\textbackslash{}\\_jh159140\\textbackslash{}\\_fix] 'hg19'\n",
       "\\item[chr11\\textbackslash{}\\_jh159141\\textbackslash{}\\_fix] 'hg19'\n",
       "\\item[chr11\\textbackslash{}\\_jh159142\\textbackslash{}\\_fix] 'hg19'\n",
       "\\item[chr11\\textbackslash{}\\_jh159143\\textbackslash{}\\_fix] 'hg19'\n",
       "\\item[chr11\\textbackslash{}\\_jh591184\\textbackslash{}\\_fix] 'hg19'\n",
       "\\item[chr11\\textbackslash{}\\_jh591185\\textbackslash{}\\_fix] 'hg19'\n",
       "\\item[chr11\\textbackslash{}\\_jh720443\\textbackslash{}\\_fix] 'hg19'\n",
       "\\item[chr11\\textbackslash{}\\_jh806581\\textbackslash{}\\_fix] 'hg19'\n",
       "\\item[chr12\\textbackslash{}\\_gl383548\\textbackslash{}\\_fix] 'hg19'\n",
       "\\item[chr12\\textbackslash{}\\_gl383549\\textbackslash{}\\_alt] 'hg19'\n",
       "\\item[chr12\\textbackslash{}\\_gl383550\\textbackslash{}\\_alt] 'hg19'\n",
       "\\item[chr12\\textbackslash{}\\_gl383551\\textbackslash{}\\_alt] 'hg19'\n",
       "\\item[chr12\\textbackslash{}\\_gl383552\\textbackslash{}\\_alt] 'hg19'\n",
       "\\item[chr12\\textbackslash{}\\_gl383553\\textbackslash{}\\_alt] 'hg19'\n",
       "\\item[chr12\\textbackslash{}\\_gl582974\\textbackslash{}\\_fix] 'hg19'\n",
       "\\item[chr12\\textbackslash{}\\_gl877875\\textbackslash{}\\_alt] 'hg19'\n",
       "\\item[chr12\\textbackslash{}\\_gl877876\\textbackslash{}\\_alt] 'hg19'\n",
       "\\item[chr12\\textbackslash{}\\_gl949745\\textbackslash{}\\_alt] 'hg19'\n",
       "\\item[chr12\\textbackslash{}\\_jh720444\\textbackslash{}\\_fix] 'hg19'\n",
       "\\item[chr12\\textbackslash{}\\_kb663607\\textbackslash{}\\_fix] 'hg19'\n",
       "\\item[chr13\\textbackslash{}\\_gl582975\\textbackslash{}\\_fix] 'hg19'\n",
       "\\item[chr14\\textbackslash{}\\_kb021645\\textbackslash{}\\_fix] 'hg19'\n",
       "\\item[chr15\\textbackslash{}\\_gl383554\\textbackslash{}\\_alt] 'hg19'\n",
       "\\item[chr15\\textbackslash{}\\_gl383555\\textbackslash{}\\_alt] 'hg19'\n",
       "\\item[chr15\\textbackslash{}\\_jh720445\\textbackslash{}\\_fix] 'hg19'\n",
       "\\item[chr16\\textbackslash{}\\_gl383556\\textbackslash{}\\_alt] 'hg19'\n",
       "\\item[chr16\\textbackslash{}\\_gl383557\\textbackslash{}\\_alt] 'hg19'\n",
       "\\item[chr16\\textbackslash{}\\_jh720446\\textbackslash{}\\_fix] 'hg19'\n",
       "\\item[chr17\\textbackslash{}\\_ctg5\\textbackslash{}\\_hap1] 'hg19'\n",
       "\\item[chr17\\textbackslash{}\\_gl000203\\textbackslash{}\\_random] 'hg19'\n",
       "\\item[chr17\\textbackslash{}\\_gl000204\\textbackslash{}\\_random] 'hg19'\n",
       "\\item[chr17\\textbackslash{}\\_gl000205\\textbackslash{}\\_random] 'hg19'\n",
       "\\item[chr17\\textbackslash{}\\_gl000206\\textbackslash{}\\_random] 'hg19'\n",
       "\\item[chr17\\textbackslash{}\\_gl383558\\textbackslash{}\\_fix] 'hg19'\n",
       "\\item[chr17\\textbackslash{}\\_gl383559\\textbackslash{}\\_fix] 'hg19'\n",
       "\\item[chr17\\textbackslash{}\\_gl383560\\textbackslash{}\\_fix] 'hg19'\n",
       "\\item[chr17\\textbackslash{}\\_gl383561\\textbackslash{}\\_fix] 'hg19'\n",
       "\\item[chr17\\textbackslash{}\\_gl383562\\textbackslash{}\\_fix] 'hg19'\n",
       "\\item[chr17\\textbackslash{}\\_gl383563\\textbackslash{}\\_alt] 'hg19'\n",
       "\\item[chr17\\textbackslash{}\\_gl383564\\textbackslash{}\\_alt] 'hg19'\n",
       "\\item[chr17\\textbackslash{}\\_gl383565\\textbackslash{}\\_alt] 'hg19'\n",
       "\\item[chr17\\textbackslash{}\\_gl383566\\textbackslash{}\\_alt] 'hg19'\n",
       "\\item[chr17\\textbackslash{}\\_gl582976\\textbackslash{}\\_fix] 'hg19'\n",
       "\\item[chr17\\textbackslash{}\\_jh159144\\textbackslash{}\\_fix] 'hg19'\n",
       "\\item[chr17\\textbackslash{}\\_jh159145\\textbackslash{}\\_fix] 'hg19'\n",
       "\\item[chr17\\textbackslash{}\\_jh159146\\textbackslash{}\\_alt] 'hg19'\n",
       "\\item[chr17\\textbackslash{}\\_jh159147\\textbackslash{}\\_alt] 'hg19'\n",
       "\\item[chr17\\textbackslash{}\\_jh159148\\textbackslash{}\\_alt] 'hg19'\n",
       "\\item[chr17\\textbackslash{}\\_jh591186\\textbackslash{}\\_fix] 'hg19'\n",
       "\\item[chr17\\textbackslash{}\\_jh636061\\textbackslash{}\\_fix] 'hg19'\n",
       "\\item[chr17\\textbackslash{}\\_jh720447\\textbackslash{}\\_fix] 'hg19'\n",
       "\\item[chr17\\textbackslash{}\\_jh806582\\textbackslash{}\\_fix] 'hg19'\n",
       "\\item[chr17\\textbackslash{}\\_kb021646\\textbackslash{}\\_fix] 'hg19'\n",
       "\\item[chr17\\textbackslash{}\\_ke332502\\textbackslash{}\\_fix] 'hg19'\n",
       "\\item[chr18\\textbackslash{}\\_gl000207\\textbackslash{}\\_random] 'hg19'\n",
       "\\item[chr18\\textbackslash{}\\_gl383567\\textbackslash{}\\_alt] 'hg19'\n",
       "\\item[chr18\\textbackslash{}\\_gl383568\\textbackslash{}\\_alt] 'hg19'\n",
       "\\item[chr18\\textbackslash{}\\_gl383569\\textbackslash{}\\_alt] 'hg19'\n",
       "\\item[chr18\\textbackslash{}\\_gl383570\\textbackslash{}\\_alt] 'hg19'\n",
       "\\item[chr18\\textbackslash{}\\_gl383571\\textbackslash{}\\_alt] 'hg19'\n",
       "\\item[chr18\\textbackslash{}\\_gl383572\\textbackslash{}\\_alt] 'hg19'\n",
       "\\item[chr19\\textbackslash{}\\_gl000208\\textbackslash{}\\_random] 'hg19'\n",
       "\\item[chr19\\textbackslash{}\\_gl000209\\textbackslash{}\\_random] 'hg19'\n",
       "\\item[chr19\\textbackslash{}\\_gl383573\\textbackslash{}\\_alt] 'hg19'\n",
       "\\item[chr19\\textbackslash{}\\_gl383574\\textbackslash{}\\_alt] 'hg19'\n",
       "\\item[chr19\\textbackslash{}\\_gl383575\\textbackslash{}\\_alt] 'hg19'\n",
       "\\item[chr19\\textbackslash{}\\_gl383576\\textbackslash{}\\_alt] 'hg19'\n",
       "\\item[chr19\\textbackslash{}\\_gl582977\\textbackslash{}\\_fix] 'hg19'\n",
       "\\item[chr19\\textbackslash{}\\_gl949746\\textbackslash{}\\_alt] 'hg19'\n",
       "\\item[chr19\\textbackslash{}\\_gl949747\\textbackslash{}\\_alt] 'hg19'\n",
       "\\item[chr19\\textbackslash{}\\_gl949748\\textbackslash{}\\_alt] 'hg19'\n",
       "\\item[chr19\\textbackslash{}\\_gl949749\\textbackslash{}\\_alt] 'hg19'\n",
       "\\item[chr19\\textbackslash{}\\_gl949750\\textbackslash{}\\_alt] 'hg19'\n",
       "\\item[chr19\\textbackslash{}\\_gl949751\\textbackslash{}\\_alt] 'hg19'\n",
       "\\item[chr19\\textbackslash{}\\_gl949752\\textbackslash{}\\_alt] 'hg19'\n",
       "\\item[chr19\\textbackslash{}\\_gl949753\\textbackslash{}\\_alt] 'hg19'\n",
       "\\item[chr19\\textbackslash{}\\_jh159149\\textbackslash{}\\_fix] 'hg19'\n",
       "\\item[chr19\\textbackslash{}\\_kb021647\\textbackslash{}\\_fix] 'hg19'\n",
       "\\item[chr19\\textbackslash{}\\_ke332505\\textbackslash{}\\_fix] 'hg19'\n",
       "\\item[chr20\\textbackslash{}\\_gl383577\\textbackslash{}\\_alt] 'hg19'\n",
       "\\item[chr20\\textbackslash{}\\_gl582979\\textbackslash{}\\_fix] 'hg19'\n",
       "\\item[chr20\\textbackslash{}\\_jh720448\\textbackslash{}\\_fix] 'hg19'\n",
       "\\item[chr20\\textbackslash{}\\_kb663608\\textbackslash{}\\_fix] 'hg19'\n",
       "\\item[chr21\\textbackslash{}\\_gl000210\\textbackslash{}\\_random] 'hg19'\n",
       "\\item[chr21\\textbackslash{}\\_gl383578\\textbackslash{}\\_alt] 'hg19'\n",
       "\\item[chr21\\textbackslash{}\\_gl383579\\textbackslash{}\\_alt] 'hg19'\n",
       "\\item[chr21\\textbackslash{}\\_gl383580\\textbackslash{}\\_alt] 'hg19'\n",
       "\\item[chr21\\textbackslash{}\\_gl383581\\textbackslash{}\\_alt] 'hg19'\n",
       "\\item[chr21\\textbackslash{}\\_ke332506\\textbackslash{}\\_fix] 'hg19'\n",
       "\\item[chr22\\textbackslash{}\\_gl383582\\textbackslash{}\\_alt] 'hg19'\n",
       "\\item[chr22\\textbackslash{}\\_gl383583\\textbackslash{}\\_alt] 'hg19'\n",
       "\\item[chr22\\textbackslash{}\\_jh720449\\textbackslash{}\\_fix] 'hg19'\n",
       "\\item[chr22\\textbackslash{}\\_jh806583\\textbackslash{}\\_fix] 'hg19'\n",
       "\\item[chr22\\textbackslash{}\\_jh806584\\textbackslash{}\\_fix] 'hg19'\n",
       "\\item[chr22\\textbackslash{}\\_jh806585\\textbackslash{}\\_fix] 'hg19'\n",
       "\\item[chr22\\textbackslash{}\\_jh806586\\textbackslash{}\\_fix] 'hg19'\n",
       "\\item[chr22\\textbackslash{}\\_kb663609\\textbackslash{}\\_alt] 'hg19'\n",
       "\\item[chrX\\textbackslash{}\\_gl877877\\textbackslash{}\\_fix] 'hg19'\n",
       "\\item[chrX\\textbackslash{}\\_jh159150\\textbackslash{}\\_fix] 'hg19'\n",
       "\\item[chrX\\textbackslash{}\\_jh720451\\textbackslash{}\\_fix] 'hg19'\n",
       "\\item[chrX\\textbackslash{}\\_jh720452\\textbackslash{}\\_fix] 'hg19'\n",
       "\\item[chrX\\textbackslash{}\\_jh720453\\textbackslash{}\\_fix] 'hg19'\n",
       "\\item[chrX\\textbackslash{}\\_jh720454\\textbackslash{}\\_fix] 'hg19'\n",
       "\\item[chrX\\textbackslash{}\\_jh720455\\textbackslash{}\\_fix] 'hg19'\n",
       "\\item[chrX\\textbackslash{}\\_jh806587\\textbackslash{}\\_fix] 'hg19'\n",
       "\\item[chrX\\textbackslash{}\\_jh806588\\textbackslash{}\\_fix] 'hg19'\n",
       "\\item[chrX\\textbackslash{}\\_jh806589\\textbackslash{}\\_fix] 'hg19'\n",
       "\\item[chrX\\textbackslash{}\\_jh806590\\textbackslash{}\\_fix] 'hg19'\n",
       "\\item[chrX\\textbackslash{}\\_jh806591\\textbackslash{}\\_fix] 'hg19'\n",
       "\\item[chrX\\textbackslash{}\\_jh806592\\textbackslash{}\\_fix] 'hg19'\n",
       "\\item[chrX\\textbackslash{}\\_jh806593\\textbackslash{}\\_fix] 'hg19'\n",
       "\\item[chrX\\textbackslash{}\\_jh806594\\textbackslash{}\\_fix] 'hg19'\n",
       "\\item[chrX\\textbackslash{}\\_jh806595\\textbackslash{}\\_fix] 'hg19'\n",
       "\\item[chrX\\textbackslash{}\\_jh806596\\textbackslash{}\\_fix] 'hg19'\n",
       "\\item[chrX\\textbackslash{}\\_jh806597\\textbackslash{}\\_fix] 'hg19'\n",
       "\\item[chrX\\textbackslash{}\\_jh806598\\textbackslash{}\\_fix] 'hg19'\n",
       "\\item[chrX\\textbackslash{}\\_jh806599\\textbackslash{}\\_fix] 'hg19'\n",
       "\\item[chrX\\textbackslash{}\\_jh806600\\textbackslash{}\\_fix] 'hg19'\n",
       "\\item[chrX\\textbackslash{}\\_jh806601\\textbackslash{}\\_fix] 'hg19'\n",
       "\\item[chrX\\textbackslash{}\\_jh806602\\textbackslash{}\\_fix] 'hg19'\n",
       "\\item[chrX\\textbackslash{}\\_jh806603\\textbackslash{}\\_fix] 'hg19'\n",
       "\\item[chrX\\textbackslash{}\\_kb021648\\textbackslash{}\\_fix] 'hg19'\n",
       "\\item[chrUn\\textbackslash{}\\_gl000211] 'hg19'\n",
       "\\item[chrUn\\textbackslash{}\\_gl000212] 'hg19'\n",
       "\\item[chrUn\\textbackslash{}\\_gl000213] 'hg19'\n",
       "\\item[chrUn\\textbackslash{}\\_gl000214] 'hg19'\n",
       "\\item[chrUn\\textbackslash{}\\_gl000215] 'hg19'\n",
       "\\item[chrUn\\textbackslash{}\\_gl000216] 'hg19'\n",
       "\\item[chrUn\\textbackslash{}\\_gl000217] 'hg19'\n",
       "\\item[chrUn\\textbackslash{}\\_gl000218] 'hg19'\n",
       "\\item[chrUn\\textbackslash{}\\_gl000219] 'hg19'\n",
       "\\item[chrUn\\textbackslash{}\\_gl000220] 'hg19'\n",
       "\\item[chrUn\\textbackslash{}\\_gl000221] 'hg19'\n",
       "\\item[chrUn\\textbackslash{}\\_gl000222] 'hg19'\n",
       "\\item[chrUn\\textbackslash{}\\_gl000223] 'hg19'\n",
       "\\item[chrUn\\textbackslash{}\\_gl000224] 'hg19'\n",
       "\\item[chrUn\\textbackslash{}\\_gl000225] 'hg19'\n",
       "\\item[chrUn\\textbackslash{}\\_gl000226] 'hg19'\n",
       "\\item[chrUn\\textbackslash{}\\_gl000227] 'hg19'\n",
       "\\item[chrUn\\textbackslash{}\\_gl000228] 'hg19'\n",
       "\\item[chrUn\\textbackslash{}\\_gl000229] 'hg19'\n",
       "\\item[chrUn\\textbackslash{}\\_gl000230] 'hg19'\n",
       "\\item[chrUn\\textbackslash{}\\_gl000231] 'hg19'\n",
       "\\item[chrUn\\textbackslash{}\\_gl000232] 'hg19'\n",
       "\\item[chrUn\\textbackslash{}\\_gl000233] 'hg19'\n",
       "\\item[chrUn\\textbackslash{}\\_gl000234] 'hg19'\n",
       "\\item[chrUn\\textbackslash{}\\_gl000235] 'hg19'\n",
       "\\item[chrUn\\textbackslash{}\\_gl000236] 'hg19'\n",
       "\\item[chrUn\\textbackslash{}\\_gl000237] 'hg19'\n",
       "\\item[chrUn\\textbackslash{}\\_gl000238] 'hg19'\n",
       "\\item[chrUn\\textbackslash{}\\_gl000239] 'hg19'\n",
       "\\item[chrUn\\textbackslash{}\\_gl000240] 'hg19'\n",
       "\\item[chrUn\\textbackslash{}\\_gl000241] 'hg19'\n",
       "\\item[chrUn\\textbackslash{}\\_gl000242] 'hg19'\n",
       "\\item[chrUn\\textbackslash{}\\_gl000243] 'hg19'\n",
       "\\item[chrUn\\textbackslash{}\\_gl000244] 'hg19'\n",
       "\\item[chrUn\\textbackslash{}\\_gl000245] 'hg19'\n",
       "\\item[chrUn\\textbackslash{}\\_gl000246] 'hg19'\n",
       "\\item[chrUn\\textbackslash{}\\_gl000247] 'hg19'\n",
       "\\item[chrUn\\textbackslash{}\\_gl000248] 'hg19'\n",
       "\\item[chrUn\\textbackslash{}\\_gl000249] 'hg19'\n",
       "\\end{description*}\n"
      ],
      "text/markdown": [
       "chr1\n",
       ":   'hg19'chr2\n",
       ":   'hg19'chr3\n",
       ":   'hg19'chr4\n",
       ":   'hg19'chr5\n",
       ":   'hg19'chr6\n",
       ":   'hg19'chr7\n",
       ":   'hg19'chr8\n",
       ":   'hg19'chr9\n",
       ":   'hg19'chr10\n",
       ":   'hg19'chr11\n",
       ":   'hg19'chr12\n",
       ":   'hg19'chr13\n",
       ":   'hg19'chr14\n",
       ":   'hg19'chr15\n",
       ":   'hg19'chr16\n",
       ":   'hg19'chr17\n",
       ":   'hg19'chr18\n",
       ":   'hg19'chr19\n",
       ":   'hg19'chr20\n",
       ":   'hg19'chr21\n",
       ":   'hg19'chr22\n",
       ":   'hg19'chrX\n",
       ":   'hg19'chrY\n",
       ":   'hg19'chrM\n",
       ":   'hg19'chrMT\n",
       ":   'hg19'chr1_gl000191_random\n",
       ":   'hg19'chr1_gl000192_random\n",
       ":   'hg19'chr1_gl383516_fix\n",
       ":   'hg19'chr1_gl383517_fix\n",
       ":   'hg19'chr1_gl383518_alt\n",
       ":   'hg19'chr1_gl383519_alt\n",
       ":   'hg19'chr1_gl383520_alt\n",
       ":   'hg19'chr1_gl949741_fix\n",
       ":   'hg19'chr1_jh636052_fix\n",
       ":   'hg19'chr1_jh636053_fix\n",
       ":   'hg19'chr1_jh636054_fix\n",
       ":   'hg19'chr1_jh806573_fix\n",
       ":   'hg19'chr1_jh806574_fix\n",
       ":   'hg19'chr1_jh806575_fix\n",
       ":   'hg19'chr2_gl383521_alt\n",
       ":   'hg19'chr2_gl383522_alt\n",
       ":   'hg19'chr2_gl582966_alt\n",
       ":   'hg19'chr2_gl877870_fix\n",
       ":   'hg19'chr2_gl877871_fix\n",
       ":   'hg19'chr2_kb663603_fix\n",
       ":   'hg19'chr3_gl383523_fix\n",
       ":   'hg19'chr3_gl383524_fix\n",
       ":   'hg19'chr3_gl383525_fix\n",
       ":   'hg19'chr3_gl383526_alt\n",
       ":   'hg19'chr3_jh159131_fix\n",
       ":   'hg19'chr3_jh159132_fix\n",
       ":   'hg19'chr3_jh636055_alt\n",
       ":   'hg19'chr3_ke332495_fix\n",
       ":   'hg19'chr4_ctg9_hap1\n",
       ":   'hg19'chr4_gl000193_random\n",
       ":   'hg19'chr4_gl000194_random\n",
       ":   'hg19'chr4_gl383527_alt\n",
       ":   'hg19'chr4_gl383528_alt\n",
       ":   'hg19'chr4_gl383529_alt\n",
       ":   'hg19'chr4_gl582967_fix\n",
       ":   'hg19'chr4_gl877872_fix\n",
       ":   'hg19'chr4_ke332496_fix\n",
       ":   'hg19'chr5_gl339449_alt\n",
       ":   'hg19'chr5_gl383530_alt\n",
       ":   'hg19'chr5_gl383531_alt\n",
       ":   'hg19'chr5_gl383532_alt\n",
       ":   'hg19'chr5_gl949742_alt\n",
       ":   'hg19'chr5_jh159133_fix\n",
       ":   'hg19'chr5_ke332497_fix\n",
       ":   'hg19'chr6_apd_hap1\n",
       ":   'hg19'chr6_cox_hap2\n",
       ":   'hg19'chr6_dbb_hap3\n",
       ":   'hg19'chr6_gl383533_alt\n",
       ":   'hg19'chr6_jh636056_fix\n",
       ":   'hg19'chr6_jh636057_fix\n",
       ":   'hg19'chr6_jh806576_fix\n",
       ":   'hg19'chr6_kb021644_alt\n",
       ":   'hg19'chr6_kb663604_fix\n",
       ":   'hg19'chr6_ke332498_fix\n",
       ":   'hg19'chr6_mann_hap4\n",
       ":   'hg19'chr6_mcf_hap5\n",
       ":   'hg19'chr6_qbl_hap6\n",
       ":   'hg19'chr6_ssto_hap7\n",
       ":   'hg19'chr7_gl000195_random\n",
       ":   'hg19'chr7_gl383534_alt\n",
       ":   'hg19'chr7_gl582968_fix\n",
       ":   'hg19'chr7_gl582969_fix\n",
       ":   'hg19'chr7_gl582970_fix\n",
       ":   'hg19'chr7_gl582971_fix\n",
       ":   'hg19'chr7_gl582972_fix\n",
       ":   'hg19'chr7_jh159134_fix\n",
       ":   'hg19'chr7_jh636058_fix\n",
       ":   'hg19'chr7_ke332499_fix\n",
       ":   'hg19'chr8_gl000196_random\n",
       ":   'hg19'chr8_gl000197_random\n",
       ":   'hg19'chr8_gl383535_fix\n",
       ":   'hg19'chr8_gl383536_fix\n",
       ":   'hg19'chr8_gl949743_fix\n",
       ":   'hg19'chr8_jh159135_fix\n",
       ":   'hg19'chr8_ke332500_fix\n",
       ":   'hg19'chr9_gl000198_random\n",
       ":   'hg19'chr9_gl000199_random\n",
       ":   'hg19'chr9_gl000200_random\n",
       ":   'hg19'chr9_gl000201_random\n",
       ":   'hg19'chr9_gl339450_fix\n",
       ":   'hg19'chr9_gl383537_fix\n",
       ":   'hg19'chr9_gl383538_fix\n",
       ":   'hg19'chr9_gl383539_alt\n",
       ":   'hg19'chr9_gl383540_alt\n",
       ":   'hg19'chr9_gl383541_alt\n",
       ":   'hg19'chr9_gl383542_alt\n",
       ":   'hg19'chr9_jh636059_fix\n",
       ":   'hg19'chr9_jh806577_fix\n",
       ":   'hg19'chr9_jh806578_fix\n",
       ":   'hg19'chr9_jh806579_fix\n",
       ":   'hg19'chr9_kb663605_fix\n",
       ":   'hg19'chr10_gl383543_fix\n",
       ":   'hg19'chr10_gl383544_fix\n",
       ":   'hg19'chr10_gl383545_alt\n",
       ":   'hg19'chr10_gl383546_alt\n",
       ":   'hg19'chr10_gl877873_fix\n",
       ":   'hg19'chr10_jh591181_fix\n",
       ":   'hg19'chr10_jh591182_fix\n",
       ":   'hg19'chr10_jh591183_fix\n",
       ":   'hg19'chr10_jh636060_fix\n",
       ":   'hg19'chr10_jh806580_fix\n",
       ":   'hg19'chr10_kb663606_fix\n",
       ":   'hg19'chr10_ke332501_fix\n",
       ":   'hg19'chr11_gl000202_random\n",
       ":   'hg19'chr11_gl383547_alt\n",
       ":   'hg19'chr11_gl582973_fix\n",
       ":   'hg19'chr11_gl949744_fix\n",
       ":   'hg19'chr11_jh159136_alt\n",
       ":   'hg19'chr11_jh159137_alt\n",
       ":   'hg19'chr11_jh159138_fix\n",
       ":   'hg19'chr11_jh159139_fix\n",
       ":   'hg19'chr11_jh159140_fix\n",
       ":   'hg19'chr11_jh159141_fix\n",
       ":   'hg19'chr11_jh159142_fix\n",
       ":   'hg19'chr11_jh159143_fix\n",
       ":   'hg19'chr11_jh591184_fix\n",
       ":   'hg19'chr11_jh591185_fix\n",
       ":   'hg19'chr11_jh720443_fix\n",
       ":   'hg19'chr11_jh806581_fix\n",
       ":   'hg19'chr12_gl383548_fix\n",
       ":   'hg19'chr12_gl383549_alt\n",
       ":   'hg19'chr12_gl383550_alt\n",
       ":   'hg19'chr12_gl383551_alt\n",
       ":   'hg19'chr12_gl383552_alt\n",
       ":   'hg19'chr12_gl383553_alt\n",
       ":   'hg19'chr12_gl582974_fix\n",
       ":   'hg19'chr12_gl877875_alt\n",
       ":   'hg19'chr12_gl877876_alt\n",
       ":   'hg19'chr12_gl949745_alt\n",
       ":   'hg19'chr12_jh720444_fix\n",
       ":   'hg19'chr12_kb663607_fix\n",
       ":   'hg19'chr13_gl582975_fix\n",
       ":   'hg19'chr14_kb021645_fix\n",
       ":   'hg19'chr15_gl383554_alt\n",
       ":   'hg19'chr15_gl383555_alt\n",
       ":   'hg19'chr15_jh720445_fix\n",
       ":   'hg19'chr16_gl383556_alt\n",
       ":   'hg19'chr16_gl383557_alt\n",
       ":   'hg19'chr16_jh720446_fix\n",
       ":   'hg19'chr17_ctg5_hap1\n",
       ":   'hg19'chr17_gl000203_random\n",
       ":   'hg19'chr17_gl000204_random\n",
       ":   'hg19'chr17_gl000205_random\n",
       ":   'hg19'chr17_gl000206_random\n",
       ":   'hg19'chr17_gl383558_fix\n",
       ":   'hg19'chr17_gl383559_fix\n",
       ":   'hg19'chr17_gl383560_fix\n",
       ":   'hg19'chr17_gl383561_fix\n",
       ":   'hg19'chr17_gl383562_fix\n",
       ":   'hg19'chr17_gl383563_alt\n",
       ":   'hg19'chr17_gl383564_alt\n",
       ":   'hg19'chr17_gl383565_alt\n",
       ":   'hg19'chr17_gl383566_alt\n",
       ":   'hg19'chr17_gl582976_fix\n",
       ":   'hg19'chr17_jh159144_fix\n",
       ":   'hg19'chr17_jh159145_fix\n",
       ":   'hg19'chr17_jh159146_alt\n",
       ":   'hg19'chr17_jh159147_alt\n",
       ":   'hg19'chr17_jh159148_alt\n",
       ":   'hg19'chr17_jh591186_fix\n",
       ":   'hg19'chr17_jh636061_fix\n",
       ":   'hg19'chr17_jh720447_fix\n",
       ":   'hg19'chr17_jh806582_fix\n",
       ":   'hg19'chr17_kb021646_fix\n",
       ":   'hg19'chr17_ke332502_fix\n",
       ":   'hg19'chr18_gl000207_random\n",
       ":   'hg19'chr18_gl383567_alt\n",
       ":   'hg19'chr18_gl383568_alt\n",
       ":   'hg19'chr18_gl383569_alt\n",
       ":   'hg19'chr18_gl383570_alt\n",
       ":   'hg19'chr18_gl383571_alt\n",
       ":   'hg19'chr18_gl383572_alt\n",
       ":   'hg19'chr19_gl000208_random\n",
       ":   'hg19'chr19_gl000209_random\n",
       ":   'hg19'chr19_gl383573_alt\n",
       ":   'hg19'chr19_gl383574_alt\n",
       ":   'hg19'chr19_gl383575_alt\n",
       ":   'hg19'chr19_gl383576_alt\n",
       ":   'hg19'chr19_gl582977_fix\n",
       ":   'hg19'chr19_gl949746_alt\n",
       ":   'hg19'chr19_gl949747_alt\n",
       ":   'hg19'chr19_gl949748_alt\n",
       ":   'hg19'chr19_gl949749_alt\n",
       ":   'hg19'chr19_gl949750_alt\n",
       ":   'hg19'chr19_gl949751_alt\n",
       ":   'hg19'chr19_gl949752_alt\n",
       ":   'hg19'chr19_gl949753_alt\n",
       ":   'hg19'chr19_jh159149_fix\n",
       ":   'hg19'chr19_kb021647_fix\n",
       ":   'hg19'chr19_ke332505_fix\n",
       ":   'hg19'chr20_gl383577_alt\n",
       ":   'hg19'chr20_gl582979_fix\n",
       ":   'hg19'chr20_jh720448_fix\n",
       ":   'hg19'chr20_kb663608_fix\n",
       ":   'hg19'chr21_gl000210_random\n",
       ":   'hg19'chr21_gl383578_alt\n",
       ":   'hg19'chr21_gl383579_alt\n",
       ":   'hg19'chr21_gl383580_alt\n",
       ":   'hg19'chr21_gl383581_alt\n",
       ":   'hg19'chr21_ke332506_fix\n",
       ":   'hg19'chr22_gl383582_alt\n",
       ":   'hg19'chr22_gl383583_alt\n",
       ":   'hg19'chr22_jh720449_fix\n",
       ":   'hg19'chr22_jh806583_fix\n",
       ":   'hg19'chr22_jh806584_fix\n",
       ":   'hg19'chr22_jh806585_fix\n",
       ":   'hg19'chr22_jh806586_fix\n",
       ":   'hg19'chr22_kb663609_alt\n",
       ":   'hg19'chrX_gl877877_fix\n",
       ":   'hg19'chrX_jh159150_fix\n",
       ":   'hg19'chrX_jh720451_fix\n",
       ":   'hg19'chrX_jh720452_fix\n",
       ":   'hg19'chrX_jh720453_fix\n",
       ":   'hg19'chrX_jh720454_fix\n",
       ":   'hg19'chrX_jh720455_fix\n",
       ":   'hg19'chrX_jh806587_fix\n",
       ":   'hg19'chrX_jh806588_fix\n",
       ":   'hg19'chrX_jh806589_fix\n",
       ":   'hg19'chrX_jh806590_fix\n",
       ":   'hg19'chrX_jh806591_fix\n",
       ":   'hg19'chrX_jh806592_fix\n",
       ":   'hg19'chrX_jh806593_fix\n",
       ":   'hg19'chrX_jh806594_fix\n",
       ":   'hg19'chrX_jh806595_fix\n",
       ":   'hg19'chrX_jh806596_fix\n",
       ":   'hg19'chrX_jh806597_fix\n",
       ":   'hg19'chrX_jh806598_fix\n",
       ":   'hg19'chrX_jh806599_fix\n",
       ":   'hg19'chrX_jh806600_fix\n",
       ":   'hg19'chrX_jh806601_fix\n",
       ":   'hg19'chrX_jh806602_fix\n",
       ":   'hg19'chrX_jh806603_fix\n",
       ":   'hg19'chrX_kb021648_fix\n",
       ":   'hg19'chrUn_gl000211\n",
       ":   'hg19'chrUn_gl000212\n",
       ":   'hg19'chrUn_gl000213\n",
       ":   'hg19'chrUn_gl000214\n",
       ":   'hg19'chrUn_gl000215\n",
       ":   'hg19'chrUn_gl000216\n",
       ":   'hg19'chrUn_gl000217\n",
       ":   'hg19'chrUn_gl000218\n",
       ":   'hg19'chrUn_gl000219\n",
       ":   'hg19'chrUn_gl000220\n",
       ":   'hg19'chrUn_gl000221\n",
       ":   'hg19'chrUn_gl000222\n",
       ":   'hg19'chrUn_gl000223\n",
       ":   'hg19'chrUn_gl000224\n",
       ":   'hg19'chrUn_gl000225\n",
       ":   'hg19'chrUn_gl000226\n",
       ":   'hg19'chrUn_gl000227\n",
       ":   'hg19'chrUn_gl000228\n",
       ":   'hg19'chrUn_gl000229\n",
       ":   'hg19'chrUn_gl000230\n",
       ":   'hg19'chrUn_gl000231\n",
       ":   'hg19'chrUn_gl000232\n",
       ":   'hg19'chrUn_gl000233\n",
       ":   'hg19'chrUn_gl000234\n",
       ":   'hg19'chrUn_gl000235\n",
       ":   'hg19'chrUn_gl000236\n",
       ":   'hg19'chrUn_gl000237\n",
       ":   'hg19'chrUn_gl000238\n",
       ":   'hg19'chrUn_gl000239\n",
       ":   'hg19'chrUn_gl000240\n",
       ":   'hg19'chrUn_gl000241\n",
       ":   'hg19'chrUn_gl000242\n",
       ":   'hg19'chrUn_gl000243\n",
       ":   'hg19'chrUn_gl000244\n",
       ":   'hg19'chrUn_gl000245\n",
       ":   'hg19'chrUn_gl000246\n",
       ":   'hg19'chrUn_gl000247\n",
       ":   'hg19'chrUn_gl000248\n",
       ":   'hg19'chrUn_gl000249\n",
       ":   'hg19'\n",
       "\n"
      ],
      "text/plain": [
       "                 chr1                  chr2                  chr3 \n",
       "               \"hg19\"                \"hg19\"                \"hg19\" \n",
       "                 chr4                  chr5                  chr6 \n",
       "               \"hg19\"                \"hg19\"                \"hg19\" \n",
       "                 chr7                  chr8                  chr9 \n",
       "               \"hg19\"                \"hg19\"                \"hg19\" \n",
       "                chr10                 chr11                 chr12 \n",
       "               \"hg19\"                \"hg19\"                \"hg19\" \n",
       "                chr13                 chr14                 chr15 \n",
       "               \"hg19\"                \"hg19\"                \"hg19\" \n",
       "                chr16                 chr17                 chr18 \n",
       "               \"hg19\"                \"hg19\"                \"hg19\" \n",
       "                chr19                 chr20                 chr21 \n",
       "               \"hg19\"                \"hg19\"                \"hg19\" \n",
       "                chr22                  chrX                  chrY \n",
       "               \"hg19\"                \"hg19\"                \"hg19\" \n",
       "                 chrM                 chrMT  chr1_gl000191_random \n",
       "               \"hg19\"                \"hg19\"                \"hg19\" \n",
       " chr1_gl000192_random     chr1_gl383516_fix     chr1_gl383517_fix \n",
       "               \"hg19\"                \"hg19\"                \"hg19\" \n",
       "    chr1_gl383518_alt     chr1_gl383519_alt     chr1_gl383520_alt \n",
       "               \"hg19\"                \"hg19\"                \"hg19\" \n",
       "    chr1_gl949741_fix     chr1_jh636052_fix     chr1_jh636053_fix \n",
       "               \"hg19\"                \"hg19\"                \"hg19\" \n",
       "    chr1_jh636054_fix     chr1_jh806573_fix     chr1_jh806574_fix \n",
       "               \"hg19\"                \"hg19\"                \"hg19\" \n",
       "    chr1_jh806575_fix     chr2_gl383521_alt     chr2_gl383522_alt \n",
       "               \"hg19\"                \"hg19\"                \"hg19\" \n",
       "    chr2_gl582966_alt     chr2_gl877870_fix     chr2_gl877871_fix \n",
       "               \"hg19\"                \"hg19\"                \"hg19\" \n",
       "    chr2_kb663603_fix     chr3_gl383523_fix     chr3_gl383524_fix \n",
       "               \"hg19\"                \"hg19\"                \"hg19\" \n",
       "    chr3_gl383525_fix     chr3_gl383526_alt     chr3_jh159131_fix \n",
       "               \"hg19\"                \"hg19\"                \"hg19\" \n",
       "    chr3_jh159132_fix     chr3_jh636055_alt     chr3_ke332495_fix \n",
       "               \"hg19\"                \"hg19\"                \"hg19\" \n",
       "       chr4_ctg9_hap1  chr4_gl000193_random  chr4_gl000194_random \n",
       "               \"hg19\"                \"hg19\"                \"hg19\" \n",
       "    chr4_gl383527_alt     chr4_gl383528_alt     chr4_gl383529_alt \n",
       "               \"hg19\"                \"hg19\"                \"hg19\" \n",
       "    chr4_gl582967_fix     chr4_gl877872_fix     chr4_ke332496_fix \n",
       "               \"hg19\"                \"hg19\"                \"hg19\" \n",
       "    chr5_gl339449_alt     chr5_gl383530_alt     chr5_gl383531_alt \n",
       "               \"hg19\"                \"hg19\"                \"hg19\" \n",
       "    chr5_gl383532_alt     chr5_gl949742_alt     chr5_jh159133_fix \n",
       "               \"hg19\"                \"hg19\"                \"hg19\" \n",
       "    chr5_ke332497_fix         chr6_apd_hap1         chr6_cox_hap2 \n",
       "               \"hg19\"                \"hg19\"                \"hg19\" \n",
       "        chr6_dbb_hap3     chr6_gl383533_alt     chr6_jh636056_fix \n",
       "               \"hg19\"                \"hg19\"                \"hg19\" \n",
       "    chr6_jh636057_fix     chr6_jh806576_fix     chr6_kb021644_alt \n",
       "               \"hg19\"                \"hg19\"                \"hg19\" \n",
       "    chr6_kb663604_fix     chr6_ke332498_fix        chr6_mann_hap4 \n",
       "               \"hg19\"                \"hg19\"                \"hg19\" \n",
       "        chr6_mcf_hap5         chr6_qbl_hap6        chr6_ssto_hap7 \n",
       "               \"hg19\"                \"hg19\"                \"hg19\" \n",
       " chr7_gl000195_random     chr7_gl383534_alt     chr7_gl582968_fix \n",
       "               \"hg19\"                \"hg19\"                \"hg19\" \n",
       "    chr7_gl582969_fix     chr7_gl582970_fix     chr7_gl582971_fix \n",
       "               \"hg19\"                \"hg19\"                \"hg19\" \n",
       "    chr7_gl582972_fix     chr7_jh159134_fix     chr7_jh636058_fix \n",
       "               \"hg19\"                \"hg19\"                \"hg19\" \n",
       "    chr7_ke332499_fix  chr8_gl000196_random  chr8_gl000197_random \n",
       "               \"hg19\"                \"hg19\"                \"hg19\" \n",
       "    chr8_gl383535_fix     chr8_gl383536_fix     chr8_gl949743_fix \n",
       "               \"hg19\"                \"hg19\"                \"hg19\" \n",
       "    chr8_jh159135_fix     chr8_ke332500_fix  chr9_gl000198_random \n",
       "               \"hg19\"                \"hg19\"                \"hg19\" \n",
       " chr9_gl000199_random  chr9_gl000200_random  chr9_gl000201_random \n",
       "               \"hg19\"                \"hg19\"                \"hg19\" \n",
       "    chr9_gl339450_fix     chr9_gl383537_fix     chr9_gl383538_fix \n",
       "               \"hg19\"                \"hg19\"                \"hg19\" \n",
       "    chr9_gl383539_alt     chr9_gl383540_alt     chr9_gl383541_alt \n",
       "               \"hg19\"                \"hg19\"                \"hg19\" \n",
       "    chr9_gl383542_alt     chr9_jh636059_fix     chr9_jh806577_fix \n",
       "               \"hg19\"                \"hg19\"                \"hg19\" \n",
       "    chr9_jh806578_fix     chr9_jh806579_fix     chr9_kb663605_fix \n",
       "               \"hg19\"                \"hg19\"                \"hg19\" \n",
       "   chr10_gl383543_fix    chr10_gl383544_fix    chr10_gl383545_alt \n",
       "               \"hg19\"                \"hg19\"                \"hg19\" \n",
       "   chr10_gl383546_alt    chr10_gl877873_fix    chr10_jh591181_fix \n",
       "               \"hg19\"                \"hg19\"                \"hg19\" \n",
       "   chr10_jh591182_fix    chr10_jh591183_fix    chr10_jh636060_fix \n",
       "               \"hg19\"                \"hg19\"                \"hg19\" \n",
       "   chr10_jh806580_fix    chr10_kb663606_fix    chr10_ke332501_fix \n",
       "               \"hg19\"                \"hg19\"                \"hg19\" \n",
       "chr11_gl000202_random    chr11_gl383547_alt    chr11_gl582973_fix \n",
       "               \"hg19\"                \"hg19\"                \"hg19\" \n",
       "   chr11_gl949744_fix    chr11_jh159136_alt    chr11_jh159137_alt \n",
       "               \"hg19\"                \"hg19\"                \"hg19\" \n",
       "   chr11_jh159138_fix    chr11_jh159139_fix    chr11_jh159140_fix \n",
       "               \"hg19\"                \"hg19\"                \"hg19\" \n",
       "   chr11_jh159141_fix    chr11_jh159142_fix    chr11_jh159143_fix \n",
       "               \"hg19\"                \"hg19\"                \"hg19\" \n",
       "   chr11_jh591184_fix    chr11_jh591185_fix    chr11_jh720443_fix \n",
       "               \"hg19\"                \"hg19\"                \"hg19\" \n",
       "   chr11_jh806581_fix    chr12_gl383548_fix    chr12_gl383549_alt \n",
       "               \"hg19\"                \"hg19\"                \"hg19\" \n",
       "   chr12_gl383550_alt    chr12_gl383551_alt    chr12_gl383552_alt \n",
       "               \"hg19\"                \"hg19\"                \"hg19\" \n",
       "   chr12_gl383553_alt    chr12_gl582974_fix    chr12_gl877875_alt \n",
       "               \"hg19\"                \"hg19\"                \"hg19\" \n",
       "   chr12_gl877876_alt    chr12_gl949745_alt    chr12_jh720444_fix \n",
       "               \"hg19\"                \"hg19\"                \"hg19\" \n",
       "   chr12_kb663607_fix    chr13_gl582975_fix    chr14_kb021645_fix \n",
       "               \"hg19\"                \"hg19\"                \"hg19\" \n",
       "   chr15_gl383554_alt    chr15_gl383555_alt    chr15_jh720445_fix \n",
       "               \"hg19\"                \"hg19\"                \"hg19\" \n",
       "   chr16_gl383556_alt    chr16_gl383557_alt    chr16_jh720446_fix \n",
       "               \"hg19\"                \"hg19\"                \"hg19\" \n",
       "      chr17_ctg5_hap1 chr17_gl000203_random chr17_gl000204_random \n",
       "               \"hg19\"                \"hg19\"                \"hg19\" \n",
       "chr17_gl000205_random chr17_gl000206_random    chr17_gl383558_fix \n",
       "               \"hg19\"                \"hg19\"                \"hg19\" \n",
       "   chr17_gl383559_fix    chr17_gl383560_fix    chr17_gl383561_fix \n",
       "               \"hg19\"                \"hg19\"                \"hg19\" \n",
       "   chr17_gl383562_fix    chr17_gl383563_alt    chr17_gl383564_alt \n",
       "               \"hg19\"                \"hg19\"                \"hg19\" \n",
       "   chr17_gl383565_alt    chr17_gl383566_alt    chr17_gl582976_fix \n",
       "               \"hg19\"                \"hg19\"                \"hg19\" \n",
       "   chr17_jh159144_fix    chr17_jh159145_fix    chr17_jh159146_alt \n",
       "               \"hg19\"                \"hg19\"                \"hg19\" \n",
       "   chr17_jh159147_alt    chr17_jh159148_alt    chr17_jh591186_fix \n",
       "               \"hg19\"                \"hg19\"                \"hg19\" \n",
       "   chr17_jh636061_fix    chr17_jh720447_fix    chr17_jh806582_fix \n",
       "               \"hg19\"                \"hg19\"                \"hg19\" \n",
       "   chr17_kb021646_fix    chr17_ke332502_fix chr18_gl000207_random \n",
       "               \"hg19\"                \"hg19\"                \"hg19\" \n",
       "   chr18_gl383567_alt    chr18_gl383568_alt    chr18_gl383569_alt \n",
       "               \"hg19\"                \"hg19\"                \"hg19\" \n",
       "   chr18_gl383570_alt    chr18_gl383571_alt    chr18_gl383572_alt \n",
       "               \"hg19\"                \"hg19\"                \"hg19\" \n",
       "chr19_gl000208_random chr19_gl000209_random    chr19_gl383573_alt \n",
       "               \"hg19\"                \"hg19\"                \"hg19\" \n",
       "   chr19_gl383574_alt    chr19_gl383575_alt    chr19_gl383576_alt \n",
       "               \"hg19\"                \"hg19\"                \"hg19\" \n",
       "   chr19_gl582977_fix    chr19_gl949746_alt    chr19_gl949747_alt \n",
       "               \"hg19\"                \"hg19\"                \"hg19\" \n",
       "   chr19_gl949748_alt    chr19_gl949749_alt    chr19_gl949750_alt \n",
       "               \"hg19\"                \"hg19\"                \"hg19\" \n",
       "   chr19_gl949751_alt    chr19_gl949752_alt    chr19_gl949753_alt \n",
       "               \"hg19\"                \"hg19\"                \"hg19\" \n",
       "   chr19_jh159149_fix    chr19_kb021647_fix    chr19_ke332505_fix \n",
       "               \"hg19\"                \"hg19\"                \"hg19\" \n",
       "   chr20_gl383577_alt    chr20_gl582979_fix    chr20_jh720448_fix \n",
       "               \"hg19\"                \"hg19\"                \"hg19\" \n",
       "   chr20_kb663608_fix chr21_gl000210_random    chr21_gl383578_alt \n",
       "               \"hg19\"                \"hg19\"                \"hg19\" \n",
       "   chr21_gl383579_alt    chr21_gl383580_alt    chr21_gl383581_alt \n",
       "               \"hg19\"                \"hg19\"                \"hg19\" \n",
       "   chr21_ke332506_fix    chr22_gl383582_alt    chr22_gl383583_alt \n",
       "               \"hg19\"                \"hg19\"                \"hg19\" \n",
       "   chr22_jh720449_fix    chr22_jh806583_fix    chr22_jh806584_fix \n",
       "               \"hg19\"                \"hg19\"                \"hg19\" \n",
       "   chr22_jh806585_fix    chr22_jh806586_fix    chr22_kb663609_alt \n",
       "               \"hg19\"                \"hg19\"                \"hg19\" \n",
       "    chrX_gl877877_fix     chrX_jh159150_fix     chrX_jh720451_fix \n",
       "               \"hg19\"                \"hg19\"                \"hg19\" \n",
       "    chrX_jh720452_fix     chrX_jh720453_fix     chrX_jh720454_fix \n",
       "               \"hg19\"                \"hg19\"                \"hg19\" \n",
       "    chrX_jh720455_fix     chrX_jh806587_fix     chrX_jh806588_fix \n",
       "               \"hg19\"                \"hg19\"                \"hg19\" \n",
       "    chrX_jh806589_fix     chrX_jh806590_fix     chrX_jh806591_fix \n",
       "               \"hg19\"                \"hg19\"                \"hg19\" \n",
       "    chrX_jh806592_fix     chrX_jh806593_fix     chrX_jh806594_fix \n",
       "               \"hg19\"                \"hg19\"                \"hg19\" \n",
       "    chrX_jh806595_fix     chrX_jh806596_fix     chrX_jh806597_fix \n",
       "               \"hg19\"                \"hg19\"                \"hg19\" \n",
       "    chrX_jh806598_fix     chrX_jh806599_fix     chrX_jh806600_fix \n",
       "               \"hg19\"                \"hg19\"                \"hg19\" \n",
       "    chrX_jh806601_fix     chrX_jh806602_fix     chrX_jh806603_fix \n",
       "               \"hg19\"                \"hg19\"                \"hg19\" \n",
       "    chrX_kb021648_fix        chrUn_gl000211        chrUn_gl000212 \n",
       "               \"hg19\"                \"hg19\"                \"hg19\" \n",
       "       chrUn_gl000213        chrUn_gl000214        chrUn_gl000215 \n",
       "               \"hg19\"                \"hg19\"                \"hg19\" \n",
       "       chrUn_gl000216        chrUn_gl000217        chrUn_gl000218 \n",
       "               \"hg19\"                \"hg19\"                \"hg19\" \n",
       "       chrUn_gl000219        chrUn_gl000220        chrUn_gl000221 \n",
       "               \"hg19\"                \"hg19\"                \"hg19\" \n",
       "       chrUn_gl000222        chrUn_gl000223        chrUn_gl000224 \n",
       "               \"hg19\"                \"hg19\"                \"hg19\" \n",
       "       chrUn_gl000225        chrUn_gl000226        chrUn_gl000227 \n",
       "               \"hg19\"                \"hg19\"                \"hg19\" \n",
       "       chrUn_gl000228        chrUn_gl000229        chrUn_gl000230 \n",
       "               \"hg19\"                \"hg19\"                \"hg19\" \n",
       "       chrUn_gl000231        chrUn_gl000232        chrUn_gl000233 \n",
       "               \"hg19\"                \"hg19\"                \"hg19\" \n",
       "       chrUn_gl000234        chrUn_gl000235        chrUn_gl000236 \n",
       "               \"hg19\"                \"hg19\"                \"hg19\" \n",
       "       chrUn_gl000237        chrUn_gl000238        chrUn_gl000239 \n",
       "               \"hg19\"                \"hg19\"                \"hg19\" \n",
       "       chrUn_gl000240        chrUn_gl000241        chrUn_gl000242 \n",
       "               \"hg19\"                \"hg19\"                \"hg19\" \n",
       "       chrUn_gl000243        chrUn_gl000244        chrUn_gl000245 \n",
       "               \"hg19\"                \"hg19\"                \"hg19\" \n",
       "       chrUn_gl000246        chrUn_gl000247        chrUn_gl000248 \n",
       "               \"hg19\"                \"hg19\"                \"hg19\" \n",
       "       chrUn_gl000249 \n",
       "               \"hg19\" "
      ]
     },
     "metadata": {},
     "output_type": "display_data"
    }
   ],
   "source": [
    "# This looks like the same resources, but in different genome builds. We have\n",
    "genome(gr1)"
   ]
  },
  {
   "cell_type": "code",
   "execution_count": 19,
   "metadata": {},
   "outputs": [
    {
     "data": {
      "text/plain": [
       "AnnotationHub with 1 record\n",
       "# snapshotDate(): 2021-05-18\n",
       "# names(): AH5040\n",
       "# $dataprovider: UCSC\n",
       "# $species: Homo sapiens\n",
       "# $rdataclass: GRanges\n",
       "# $rdatadateadded: 2013-03-26\n",
       "# $title: RefSeq Genes\n",
       "# $description: GRanges object from UCSC track 'RefSeq Genes'\n",
       "# $taxonomyid: 9606\n",
       "# $genome: hg19\n",
       "# $sourcetype: UCSC track\n",
       "# $sourceurl: rtracklayer://hgdownload.cse.ucsc.edu/goldenpath/hg19/database...\n",
       "# $sourcesize: NA\n",
       "# $tags: c(\"refGene\", \"UCSC\", \"track\", \"Gene\", \"Transcript\",\n",
       "#   \"Annotation\") \n",
       "# retrieve record with 'object[[\"AH5040\"]]' "
      ]
     },
     "metadata": {},
     "output_type": "display_data"
    }
   ],
   "source": [
    "# so we know which one to get:\n",
    "refseq <- qhs[qhs$genome == \"hg19\" & qhs$title == \"RefSeq Genes\"]\n",
    "refseq"
   ]
  },
  {
   "cell_type": "code",
   "execution_count": 20,
   "metadata": {},
   "outputs": [
    {
     "name": "stderr",
     "output_type": "stream",
     "text": [
      "downloading 1 resources\n",
      "\n",
      "retrieving 1 resource\n",
      "\n",
      "loading from cache\n",
      "\n"
     ]
    }
   ],
   "source": [
    "refseq <- refseq[[1]] ## Downloads"
   ]
  },
  {
   "cell_type": "code",
   "execution_count": 21,
   "metadata": {},
   "outputs": [
    {
     "data": {
      "text/plain": [
       "UCSC track 'refGene'\n",
       "UCSCData object with 50066 ranges and 5 metadata columns:\n",
       "                       seqnames            ranges strand |         name\n",
       "                          <Rle>         <IRanges>  <Rle> |  <character>\n",
       "      [1]                  chr1 66999825-67210768      + |    NM_032291\n",
       "      [2]                  chr1   8378145-8404227      + | NM_001080397\n",
       "      [3]                  chr1 48998527-50489626      - |    NM_032785\n",
       "      [4]                  chr1 16767167-16786584      + | NM_001145277\n",
       "      [5]                  chr1 16767167-16786584      + | NM_001145278\n",
       "      ...                   ...               ...    ... .          ...\n",
       "  [50062] chr19_gl000209_random       57209-68123      + |    NM_002255\n",
       "  [50063] chr19_gl000209_random       46646-68123      + | NM_001258383\n",
       "  [50064] chr19_gl000209_random      98135-112667      + |    NM_012313\n",
       "  [50065] chr19_gl000209_random       70071-84658      + | NM_001083539\n",
       "  [50066] chr19_gl000209_random     131433-145745      + |    NM_012312\n",
       "              score     itemRgb             thick\n",
       "          <numeric> <character>         <IRanges>\n",
       "      [1]         0        <NA> 67000042-67208778\n",
       "      [2]         0        <NA>   8378169-8404073\n",
       "      [3]         0        <NA> 48999845-50489468\n",
       "      [4]         0        <NA> 16767257-16785491\n",
       "      [5]         0        <NA> 16767257-16785385\n",
       "      ...       ...         ...               ...\n",
       "  [50062]         0        <NA>       57249-67717\n",
       "  [50063]         0        <NA>       57132-67717\n",
       "  [50064]         0        <NA>      98146-112480\n",
       "  [50065]         0        <NA>       70108-83979\n",
       "  [50066]         0        <NA>     131468-145120\n",
       "                                     blocks\n",
       "                              <IRangesList>\n",
       "      [1] 1-227,91706-91769,98929-98953,...\n",
       "      [2]     1-102,6222-6642,7214-7306,...\n",
       "      [3]    1-1439,2036-2062,6788-6884,...\n",
       "      [4]     1-182,2961-3061,7199-7303,...\n",
       "      [5]     1-104,2961-3061,7199-7303,...\n",
       "      ...                               ...\n",
       "  [50062]        1-80,280-315,1182-1466,...\n",
       "  [50063]  1-86,10414-10643,10843-10878,...\n",
       "  [50064]      1-46,1523-1557,4002-4301,...\n",
       "  [50065]      1-71,1071-1106,1851-2135,...\n",
       "  [50066]        1-69,862-897,3334-3633,...\n",
       "  -------\n",
       "  seqinfo: 93 sequences (1 circular) from hg19 genome"
      ]
     },
     "metadata": {},
     "output_type": "display_data"
    }
   ],
   "source": [
    "refseq"
   ]
  },
  {
   "cell_type": "code",
   "execution_count": 22,
   "metadata": {},
   "outputs": [
    {
     "data": {
      "text/plain": [
       "\n",
       "    1     2     3     4     5     6     7     8     9    10    12    13    19 \n",
       "45178   568   102    27    74    52   171   129    13    19     1     1     5 "
      ]
     },
     "metadata": {},
     "output_type": "display_data"
    }
   ],
   "source": [
    "## Let us look at the number of isoforms per gene name:\n",
    "table(table(refseq$name))"
   ]
  },
  {
   "cell_type": "markdown",
   "metadata": {},
   "source": [
    "(the table(table()) construction may seems weird at first, but its a great way to get a quick tabular summary of occurrences with the same name). This shows that almost all genes have a single transcript, which reflects how conservative RefSeq is.\n",
    "\n",
    "Notice that each transcript is a separate range. Therefore, each transcript is represented as the “outer” coordinates of the gene; the ranges does not exclude introns. Because we got this from UCSC I happen to know that the $blocks metadata really contains the coordinates of the different exons. In a later example we will introduce a gene representation where we keep track of exons, introns and transcripts from the same gene, through something known as a TxDb (transcript database) object.\n",
    "\n",
    "For now, we just need the promoters, so we don’t really care about introns. We need to keep track of which strand each transcript is on, to get the transcription start site.\n",
    "\n",
    "Or we could just use the convenience function promoters():"
   ]
  },
  {
   "cell_type": "code",
   "execution_count": 23,
   "metadata": {},
   "outputs": [
    {
     "data": {
      "text/plain": [
       "\n",
       " 2200 \n",
       "50066 "
      ]
     },
     "metadata": {},
     "output_type": "display_data"
    }
   ],
   "source": [
    "promoters <- promoters(refseq)\n",
    "table(width(promoters))"
   ]
  },
  {
   "cell_type": "code",
   "execution_count": 24,
   "metadata": {},
   "outputs": [
    {
     "data": {
      "text/plain": [
       "NULL"
      ]
     },
     "metadata": {},
     "output_type": "display_data"
    }
   ],
   "source": [
    "args(promoters)"
   ]
  },
  {
   "cell_type": "markdown",
   "metadata": {},
   "source": [
    "There are many definitions of promoters based on transcription start site. The default in this function is to use 2kb upstream and 200bp downstream of the start site. Let’s keep this.\n",
    "\n",
    "`Now we compute which promoters have a H3K4me3 peak in them:`"
   ]
  },
  {
   "cell_type": "code",
   "execution_count": 25,
   "metadata": {},
   "outputs": [
    {
     "data": {
      "text/plain": [
       "Hits object with 46022 hits and 0 metadata columns:\n",
       "          queryHits subjectHits\n",
       "          <integer>   <integer>\n",
       "      [1]         2         387\n",
       "      [2]         3        2523\n",
       "      [3]         4         774\n",
       "      [4]         5         774\n",
       "      [5]         6        1114\n",
       "      ...       ...         ...\n",
       "  [46018]     47457       47491\n",
       "  [46019]     47459       47493\n",
       "  [46020]     47459       47494\n",
       "  [46021]     47460       47493\n",
       "  [46022]     47460       47494\n",
       "  -------\n",
       "  queryLength: 50066 / subjectLength: 74470"
      ]
     },
     "metadata": {},
     "output_type": "display_data"
    }
   ],
   "source": [
    "ov <- findOverlaps(promoters, gr1)\n",
    "ov"
   ]
  },
  {
   "cell_type": "code",
   "execution_count": 26,
   "metadata": {},
   "outputs": [
    {
     "data": {
      "text/html": [
       "0.33336914193635"
      ],
      "text/latex": [
       "0.33336914193635"
      ],
      "text/markdown": [
       "0.33336914193635"
      ],
      "text/plain": [
       "[1] 0.3333691"
      ]
     },
     "metadata": {},
     "output_type": "display_data"
    }
   ],
   "source": [
    "## Let us compute how many percent of the peaks are in a promoter\n",
    "length(unique(queryHits(ov))) / length(gr1)"
   ]
  },
  {
   "cell_type": "code",
   "execution_count": 28,
   "metadata": {},
   "outputs": [
    {
     "data": {
      "text/html": [
       "0.440878040985899"
      ],
      "text/latex": [
       "0.440878040985899"
      ],
      "text/markdown": [
       "0.440878040985899"
      ],
      "text/plain": [
       "[1] 0.440878"
      ]
     },
     "metadata": {},
     "output_type": "display_data"
    }
   ],
   "source": [
    "## and how many percent of promoters have a peak in them\n",
    "length(unique(subjectHits(ov))) / length(promoters)"
   ]
  },
  {
   "cell_type": "markdown",
   "metadata": {},
   "source": [
    "My rule of thumb is that any cell type has at most 50% of genes expressed, which fits well with these numbers. We also see that there are many H3K4me3 peaks which do not lie in a genic promoter. This is actually expected.\n",
    "\n",
    "Now, the overlap is non-empty, but is it interesting or “significant”. Answering this question thoroughly requires thinking deeply about background distributions etc. We will avoid a careful statistical approach to this question, and will instead do a few back-of-the-envelope calculations to get a feel for it."
   ]
  },
  {
   "cell_type": "code",
   "execution_count": 29,
   "metadata": {},
   "outputs": [
    {
     "data": {
      "text/html": [
       "11.19044"
      ],
      "text/latex": [
       "11.19044"
      ],
      "text/markdown": [
       "11.19044"
      ],
      "text/plain": [
       "[1] 11.19044"
      ]
     },
     "metadata": {},
     "output_type": "display_data"
    }
   ],
   "source": [
    "## First we notice that both promoters and peaks are small compared to the size of the human genome:\n",
    "sum(width(reduce(gr1))) / 10^6"
   ]
  },
  {
   "cell_type": "code",
   "execution_count": 30,
   "metadata": {},
   "outputs": [
    {
     "data": {
      "text/html": [
       "64.300503"
      ],
      "text/latex": [
       "64.300503"
      ],
      "text/markdown": [
       "64.300503"
      ],
      "text/plain": [
       "[1] 64.3005"
      ]
     },
     "metadata": {},
     "output_type": "display_data"
    }
   ],
   "source": [
    "sum(width(reduce(promoters))) / 10^6"
   ]
  },
  {
   "cell_type": "markdown",
   "metadata": {},
   "source": [
    "(result is in megabases; the human genome is 3000 megabases). Just this fact alone should convince you that the overlap is highly unlikely happen purely by chance. Let us calculate the overlap in megabases:"
   ]
  },
  {
   "cell_type": "code",
   "execution_count": 31,
   "metadata": {},
   "outputs": [
    {
     "data": {
      "text/html": [
       "0"
      ],
      "text/latex": [
       "0"
      ],
      "text/markdown": [
       "0"
      ],
      "text/plain": [
       "[1] 0"
      ]
     },
     "metadata": {},
     "output_type": "display_data"
    }
   ],
   "source": [
    "sum(width(intersect(gr1, promoters))) / 10^6"
   ]
  },
  {
   "cell_type": "markdown",
   "metadata": {},
   "source": [
    "That’s weird; why is the overlap empty when we know (using findOverlaps) that there is plenty of overlap? Turns out the answer is strand. We need to ignore the strand when we do this calculation:"
   ]
  },
  {
   "cell_type": "code",
   "execution_count": 32,
   "metadata": {},
   "outputs": [
    {
     "data": {
      "text/html": [
       "3.019608"
      ],
      "text/latex": [
       "3.019608"
      ],
      "text/markdown": [
       "3.019608"
      ],
      "text/plain": [
       "[1] 3.019608"
      ]
     },
     "metadata": {},
     "output_type": "display_data"
    }
   ],
   "source": [
    "sum(width(intersect(gr1, promoters, ignore.strand = TRUE))) / 10^6"
   ]
  },
  {
   "cell_type": "markdown",
   "metadata": {},
   "source": [
    "This brings us back to the question of the size of the promoter set above; this is also affected by strand when there is a promoter on each strand which overlaps. Contrast"
   ]
  },
  {
   "cell_type": "code",
   "execution_count": 33,
   "metadata": {},
   "outputs": [
    {
     "data": {
      "text/html": [
       "64.300503"
      ],
      "text/latex": [
       "64.300503"
      ],
      "text/markdown": [
       "64.300503"
      ],
      "text/plain": [
       "[1] 64.3005"
      ]
     },
     "metadata": {},
     "output_type": "display_data"
    }
   ],
   "source": [
    "sum(width(reduce(promoters))) / 10^6"
   ]
  },
  {
   "cell_type": "code",
   "execution_count": 34,
   "metadata": {},
   "outputs": [
    {
     "data": {
      "text/html": [
       "62.279572"
      ],
      "text/latex": [
       "62.279572"
      ],
      "text/markdown": [
       "62.279572"
      ],
      "text/plain": [
       "[1] 62.27957"
      ]
     },
     "metadata": {},
     "output_type": "display_data"
    }
   ],
   "source": [
    "sum(width(reduce(promoters, ignore.strand = TRUE))) / 10^6"
   ]
  },
  {
   "cell_type": "code",
   "execution_count": 35,
   "metadata": {},
   "outputs": [
    {
     "data": {
      "text/html": [
       "<table class=\"dataframe\">\n",
       "<caption>A matrix: 2 × 2 of type dbl</caption>\n",
       "<thead>\n",
       "\t<tr><th></th><th scope=col>in.peaks</th><th scope=col>out.peaks</th></tr>\n",
       "</thead>\n",
       "<tbody>\n",
       "\t<tr><th scope=row>in.promoters</th><td>3.02</td><td>  59.26</td></tr>\n",
       "\t<tr><th scope=row>out.promoter</th><td>8.17</td><td>2929.55</td></tr>\n",
       "</tbody>\n",
       "</table>\n"
      ],
      "text/latex": [
       "A matrix: 2 × 2 of type dbl\n",
       "\\begin{tabular}{r|ll}\n",
       "  & in.peaks & out.peaks\\\\\n",
       "\\hline\n",
       "\tin.promoters & 3.02 &   59.26\\\\\n",
       "\tout.promoter & 8.17 & 2929.55\\\\\n",
       "\\end{tabular}\n"
      ],
      "text/markdown": [
       "\n",
       "A matrix: 2 × 2 of type dbl\n",
       "\n",
       "| <!--/--> | in.peaks | out.peaks |\n",
       "|---|---|---|\n",
       "| in.promoters | 3.02 |   59.26 |\n",
       "| out.promoter | 8.17 | 2929.55 |\n",
       "\n"
      ],
      "text/plain": [
       "             in.peaks out.peaks\n",
       "in.promoters 3.02       59.26  \n",
       "out.promoter 8.17     2929.55  "
      ]
     },
     "metadata": {},
     "output_type": "display_data"
    }
   ],
   "source": [
    "## Let us compute a small 2x2 matrix for which bases are in promoters and/or peaks:\n",
    "prom <- reduce(promoters, ignore.strand = TRUE)\n",
    "peaks <- reduce(gr1)\n",
    "both <- intersect(prom, peaks)\n",
    "only.prom <- setdiff(prom, both)\n",
    "only.peaks <- setdiff(peaks, both)\n",
    "overlapMat <- matrix(0,, ncol = 2, nrow = 2)\n",
    "colnames(overlapMat) <- c(\"in.peaks\", \"out.peaks\")\n",
    "rownames(overlapMat) <- c(\"in.promoters\", \"out.promoter\")\n",
    "overlapMat[1,1] <- sum(width(both))\n",
    "overlapMat[1,2] <- sum(width(only.prom))\n",
    "overlapMat[2,1] <- sum(width(only.peaks))\n",
    "overlapMat[2,2] <- 3*10^9 - sum(overlapMat)\n",
    "round(overlapMat / 10^6, 2)"
   ]
  },
  {
   "cell_type": "markdown",
   "metadata": {},
   "source": [
    "Here we have just used the genome size of 3 billion bases. This is not correct. There are many of these bases which have not been sequenced and in addition, there are many bases which cannot be mapped using short reads. This will reduce the genome size.\n",
    "\n",
    "Nevertheless, let us compute an odds-ratio for this table:"
   ]
  },
  {
   "cell_type": "code",
   "execution_count": 36,
   "metadata": {},
   "outputs": [
    {
     "data": {
      "text/html": [
       "18.2693778369865"
      ],
      "text/latex": [
       "18.2693778369865"
      ],
      "text/markdown": [
       "18.2693778369865"
      ],
      "text/plain": [
       "[1] 18.26938"
      ]
     },
     "metadata": {},
     "output_type": "display_data"
    }
   ],
   "source": [
    "oddsRatio <- overlapMat[1,1] * overlapMat[2,2] / (overlapMat[2,1] * overlapMat[1,2])\n",
    "oddsRatio"
   ]
  },
  {
   "cell_type": "markdown",
   "metadata": {},
   "source": [
    "This odds-ratio shows an enrichment of peaks in promoters. We can get a feel for how much the genome size (which we use incorrectly) affects our result by using a lower bound on the genome size. Let us say 1.5 billion bases:"
   ]
  },
  {
   "cell_type": "code",
   "execution_count": 37,
   "metadata": {},
   "outputs": [
    {
     "data": {
      "text/html": [
       "9.35436177387033"
      ],
      "text/latex": [
       "9.35436177387033"
      ],
      "text/markdown": [
       "9.35436177387033"
      ],
      "text/plain": [
       "[1] 9.354362"
      ]
     },
     "metadata": {},
     "output_type": "display_data"
    }
   ],
   "source": [
    "overlapMat[2,2] <- 1.5*10^9\n",
    "oddsRatio <- overlapMat[1,1] * overlapMat[2,2] / (overlapMat[2,1] * overlapMat[1,2])\n",
    "oddsRatio"
   ]
  },
  {
   "cell_type": "markdown",
   "metadata": {},
   "source": [
    "The odds-ratio got smaller, but it is still bigger than 1.\n",
    "\n",
    "Here we basically says that each base can be assigned to peaks or promoters independently, which is definitely false. So there are many, many reasons why this calculation is not the “right” one. Nevertheless, it appears that we have some enrichment, as expected."
   ]
  }
 ],
 "metadata": {
  "kernelspec": {
   "display_name": "R",
   "language": "R",
   "name": "python3102jvsc74a57bd055db829a23e27f1a4129460ab65de434bf1fc9efa4ae0ce0afb72d96498ad818"
  },
  "language_info": {
   "codemirror_mode": "r",
   "file_extension": ".r",
   "mimetype": "text/x-r-source",
   "name": "R",
   "pygments_lexer": "r",
   "version": "4.1.2"
  },
  "orig_nbformat": 4
 },
 "nbformat": 4,
 "nbformat_minor": 2
}
