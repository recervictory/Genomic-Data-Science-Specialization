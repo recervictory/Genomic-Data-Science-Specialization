{
 "cells": [
  {
   "cell_type": "markdown",
   "metadata": {},
   "source": [
    "# Quiz 02"
   ]
  },
  {
   "cell_type": "code",
   "execution_count": 4,
   "metadata": {},
   "outputs": [
    {
     "name": "stderr",
     "output_type": "stream",
     "text": [
      "'getOption(\"repos\")' replaces Bioconductor standard repositories, see\n",
      "'?repositories' for details\n",
      "\n",
      "replacement repositories:\n",
      "    CRAN: https://cran.r-project.org\n",
      "\n",
      "\n",
      "Bioconductor version 3.13 (BiocManager 1.30.16), R 4.1.2 (2021-11-01)\n",
      "\n",
      "Installing package(s) 'BSgenome.Hsapiens.UCSC.hg19'\n",
      "\n",
      "installing the source package 'BSgenome.Hsapiens.UCSC.hg19'\n",
      "\n",
      "\n",
      "Old packages: 'brew', 'digest', 'doParallel', 'foreach', 'fs', 'generics',\n",
      "  'glue', 'gower', 'iterators', 'jsonlite', 'languageserver', 'magrittr',\n",
      "  'pillar', 'readr', 'rlang', 'stringi', 'terra', 'testthat', 'tidyr', 'uuid',\n",
      "  'xml2', 'pbdZMQ', 'randomForest'\n",
      "\n"
     ]
    }
   ],
   "source": [
    "BiocManager::install(\"BSgenome.Hsapiens.UCSC.hg19\")"
   ]
  },
  {
   "cell_type": "code",
   "execution_count": 1,
   "metadata": {},
   "outputs": [
    {
     "name": "stderr",
     "output_type": "stream",
     "text": [
      "Loading required package: BiocGenerics\n",
      "\n",
      "Loading required package: parallel\n",
      "\n",
      "\n",
      "Attaching package: 'BiocGenerics'\n",
      "\n",
      "\n",
      "The following objects are masked from 'package:parallel':\n",
      "\n",
      "    clusterApply, clusterApplyLB, clusterCall, clusterEvalQ,\n",
      "    clusterExport, clusterMap, parApply, parCapply, parLapply,\n",
      "    parLapplyLB, parRapply, parSapply, parSapplyLB\n",
      "\n",
      "\n",
      "The following objects are masked from 'package:stats':\n",
      "\n",
      "    IQR, mad, sd, var, xtabs\n",
      "\n",
      "\n",
      "The following objects are masked from 'package:base':\n",
      "\n",
      "    anyDuplicated, append, as.data.frame, basename, cbind, colnames,\n",
      "    dirname, do.call, duplicated, eval, evalq, Filter, Find, get, grep,\n",
      "    grepl, intersect, is.unsorted, lapply, Map, mapply, match, mget,\n",
      "    order, paste, pmax, pmax.int, pmin, pmin.int, Position, rank,\n",
      "    rbind, Reduce, rownames, sapply, setdiff, sort, table, tapply,\n",
      "    union, unique, unsplit, which.max, which.min\n",
      "\n",
      "\n",
      "Loading required package: BiocFileCache\n",
      "\n",
      "Loading required package: dbplyr\n",
      "\n",
      "Loading required package: S4Vectors\n",
      "\n",
      "Loading required package: stats4\n",
      "\n",
      "\n",
      "Attaching package: 'S4Vectors'\n",
      "\n",
      "\n",
      "The following objects are masked from 'package:base':\n",
      "\n",
      "    expand.grid, I, unname\n",
      "\n",
      "\n",
      "Loading required package: IRanges\n",
      "\n",
      "\n",
      "Attaching package: 'IRanges'\n",
      "\n",
      "\n",
      "The following object is masked from 'package:grDevices':\n",
      "\n",
      "    windows\n",
      "\n",
      "\n",
      "Loading required package: XVector\n",
      "\n",
      "Loading required package: GenomeInfoDb\n",
      "\n",
      "\n",
      "Attaching package: 'Biostrings'\n",
      "\n",
      "\n",
      "The following object is masked from 'package:base':\n",
      "\n",
      "    strsplit\n",
      "\n",
      "\n",
      "Loading required package: GenomicRanges\n",
      "\n",
      "Loading required package: rtracklayer\n",
      "\n",
      "\n",
      "Attaching package: 'rtracklayer'\n",
      "\n",
      "\n",
      "The following object is masked from 'package:AnnotationHub':\n",
      "\n",
      "    hubUrl\n",
      "\n",
      "\n",
      "Loading required package: AnnotationDbi\n",
      "\n",
      "Loading required package: Biobase\n",
      "\n",
      "Welcome to Bioconductor\n",
      "\n",
      "    Vignettes contain introductory material; view with\n",
      "    'browseVignettes()'. To cite Bioconductor, see\n",
      "    'citation(\"Biobase\")', and for packages 'citation(\"pkgname\")'.\n",
      "\n",
      "\n",
      "\n",
      "Attaching package: 'Biobase'\n",
      "\n",
      "\n",
      "The following object is masked from 'package:AnnotationHub':\n",
      "\n",
      "    cache\n",
      "\n",
      "\n"
     ]
    }
   ],
   "source": [
    "library(AnnotationHub)\n",
    "library(Biostrings)\n",
    "library(BSgenome)\n",
    "library(GenomicRanges)\n",
    "library(rtracklayer)\n",
    "library(Rsamtools)\n",
    "library(GenomicFeatures)\n",
    "library(BSgenome.Hsapiens.UCSC.hg19)\n",
    "library(TxDb.Hsapiens.UCSC.hg19.knownGene)"
   ]
  },
  {
   "cell_type": "code",
   "execution_count": 2,
   "metadata": {},
   "outputs": [
    {
     "data": {
      "text/plain": [
       "Human genome:\n",
       "# organism: Homo sapiens (Human)\n",
       "# genome: hg19\n",
       "# provider: UCSC\n",
       "# release date: June 2013\n",
       "# 298 sequences:\n",
       "#   chr1                  chr2                  chr3                 \n",
       "#   chr4                  chr5                  chr6                 \n",
       "#   chr7                  chr8                  chr9                 \n",
       "#   chr10                 chr11                 chr12                \n",
       "#   chr13                 chr14                 chr15                \n",
       "#   ...                   ...                   ...                  \n",
       "#   chr19_gl949749_alt    chr19_gl949750_alt    chr19_gl949751_alt   \n",
       "#   chr19_gl949752_alt    chr19_gl949753_alt    chr20_gl383577_alt   \n",
       "#   chr21_gl383578_alt    chr21_gl383579_alt    chr21_gl383580_alt   \n",
       "#   chr21_gl383581_alt    chr22_gl383582_alt    chr22_gl383583_alt   \n",
       "#   chr22_kb663609_alt                                               \n",
       "# (use 'seqnames()' to see all the sequence names, use the '$' or '[[' operator\n",
       "# to access a given sequence)"
      ]
     },
     "metadata": {},
     "output_type": "display_data"
    }
   ],
   "source": [
    "Hsapiens"
   ]
  },
  {
   "cell_type": "markdown",
   "metadata": {},
   "source": [
    "**Question 1. What is the GC content of “chr22” in the “hg19” build of the human genome?**"
   ]
  },
  {
   "cell_type": "code",
   "execution_count": 3,
   "metadata": {},
   "outputs": [
    {
     "data": {
      "text/html": [
       "0.479880709148092"
      ],
      "text/latex": [
       "0.479880709148092"
      ],
      "text/markdown": [
       "0.479880709148092"
      ],
      "text/plain": [
       "[1] 0.4798807"
      ]
     },
     "metadata": {},
     "output_type": "display_data"
    }
   ],
   "source": [
    "Hsapiens.Chr22.alphaFreq <- alphabetFrequency(Hsapiens$chr22)\n",
    "\n",
    "#total bases\n",
    "total.bases <- sum(Hsapiens.Chr22.alphaFreq[c('A','T','G','C')])\n",
    "\n",
    "# GC bases\n",
    "GC.bases <- sum(Hsapiens.Chr22.alphaFreq[c('G','C')])\n",
    "\n",
    "# GC ratio\n",
    "GC.content <- GC.bases / total.bases\n",
    "GC.content"
   ]
  },
  {
   "cell_type": "markdown",
   "metadata": {},
   "source": [
    "\n",
    "**Question 2**\n",
    "Background: In the previous assessment we studied H3K27me3 “narrowPeak” regions from the H1 cell line (recall that the Roadmap ID for this cell line is “E003”). We want to examine whether the GC content of the regions influence the signal; in other words wether the reported results appear biased by GC content.\n",
    "\n",
    "Question: What is mean GC content of `H3K27me3` “`narrowPeak`” regions from Epigenomics Roadmap from the H1 stem cell line on chr 22.\n",
    "\n",
    "Clarification: Compute the GC content for each peak region as a percentage and then average those percentages to compute a number between 0 and 1."
   ]
  },
  {
   "cell_type": "code",
   "execution_count": 5,
   "metadata": {},
   "outputs": [
    {
     "name": "stderr",
     "output_type": "stream",
     "text": [
      "snapshotDate(): 2021-05-18\n",
      "\n"
     ]
    },
    {
     "data": {
      "text/plain": [
       "AnnotationHub with 1 record\n",
       "# snapshotDate(): 2021-05-18\n",
       "# names(): AH29892\n",
       "# $dataprovider: BroadInstitute\n",
       "# $species: Homo sapiens\n",
       "# $rdataclass: GRanges\n",
       "# $rdatadateadded: 2015-05-06\n",
       "# $title: E003-H3K27me3.narrowPeak.gz\n",
       "# $description: Narrow ChIP-seq peaks for consolidated epigenomes from Epige...\n",
       "# $taxonomyid: 9606\n",
       "# $genome: hg19\n",
       "# $sourcetype: BED\n",
       "# $sourceurl: http://egg2.wustl.edu/roadmap/data/byFileType/peaks/consolidat...\n",
       "# $sourcesize: 1926389\n",
       "# $tags: c(\"EpigenomeRoadMap\", \"peaks\", \"consolidated\", \"narrowPeak\",\n",
       "#   \"E003\", \"ESC\", \"ESC.H1\", \"H1 Cells\") \n",
       "# retrieve record with 'object[[\"AH29892\"]]' "
      ]
     },
     "metadata": {},
     "output_type": "display_data"
    }
   ],
   "source": [
    "# Retrive record from anotation Hub\n",
    "ah <- AnnotationHub()\n",
    "H3K27me3 <- query(ah, c(\"H3K27me3\",\"E003\",\"narrowPeak\"))\n",
    "H3K27me3"
   ]
  },
  {
   "cell_type": "code",
   "execution_count": 12,
   "metadata": {},
   "outputs": [
    {
     "data": {
      "text/plain": [
       "BSgenomeViews object with 4068 views and 6 metadata columns:\n",
       "         seqnames            ranges strand                       dna |\n",
       "            <Rle>         <IRanges>  <Rle>            <DNAStringSet> |\n",
       "     [1]    chr22 46363540-46374569      * [GGCACCCACC...CAGTGGCGGG] |\n",
       "     [2]    chr22 50240688-50245798      * [GGGAGGTGGA...TCCTGGTCAA] |\n",
       "     [3]    chr22 19748252-19758017      * [TGCGGTGTGG...ACCCAGGAAA] |\n",
       "     [4]    chr22 29709323-29713512      * [CCCCTGCAGG...CAGGCGTGAG] |\n",
       "     [5]    chr22 19705721-19713356      * [CCCGGCCCGC...CGGGGCGGTG] |\n",
       "     ...      ...               ...    ...                       ... .\n",
       "  [4064]    chr22 26701857-26701970      * [TCTCTCTCTC...AGTGCACAAT] |\n",
       "  [4065]    chr22 30291593-30291706      * [TGTTGTCGGG...TCTCAGATGT] |\n",
       "  [4066]    chr22 31514021-31514134      * [CAGAGGCCCC...ATTAGCCTGG] |\n",
       "  [4067]    chr22 33605218-33605331      * [TTACAGCTTT...GTAATTTTCC] |\n",
       "  [4068]    chr22 32835826-32835939      * [TCCTGACCTC...GTTGTTACTC] |\n",
       "                name     score signalValue    pValue    qValue      peak\n",
       "         <character> <numeric>   <numeric> <numeric> <numeric> <numeric>\n",
       "     [1]     Rank_91      1881     44.9454   188.172   182.535      5238\n",
       "     [2]    Rank_182      1667     47.4348   166.712   161.717      3165\n",
       "     [3]    Rank_293      1524     24.4156   152.496   147.887      3519\n",
       "     [4]    Rank_458      1374     29.4512   137.489   133.251      1611\n",
       "     [5]    Rank_501      1338     25.0087   133.821   129.667      5082\n",
       "     ...         ...       ...         ...       ...       ...       ...\n",
       "  [4064] Rank_123201        20     2.24116   2.06643   0.34765        59\n",
       "  [4065] Rank_123202        20     2.24116   2.06643   0.34765        98\n",
       "  [4066] Rank_123203        20     2.24116   2.06643   0.34765        21\n",
       "  [4067] Rank_123204        20     2.24116   2.06643   0.34765        76\n",
       "  [4068] Rank_123483        20     2.21054   2.02341   0.34765        35\n",
       "  -------\n",
       "  seqinfo: 298 sequences (2 circular) from hg19 genome"
      ]
     },
     "metadata": {},
     "output_type": "display_data"
    },
    {
     "data": {
      "text/html": [
       "0.528866018435937"
      ],
      "text/latex": [
       "0.528866018435937"
      ],
      "text/markdown": [
       "0.528866018435937"
      ],
      "text/plain": [
       "[1] 0.528866"
      ]
     },
     "metadata": {},
     "output_type": "display_data"
    }
   ],
   "source": [
    "# Retrive chr22 data\n",
    "H3K27me3.AH29892.chr22 <- subset(H3K27me3.AH29892, seqnames == 'chr22')\n",
    "H3K27me3.AH29892.chr22.view <- Views(Hsapiens,H3K27me3.AH29892.chr22)\n",
    "H3K27me3.AH29892.chr22.view\n",
    "\n",
    "# calculate the GC content\n",
    "GC.content <- letterFrequency(H3K27me3.AH29892.chr22.view,\"GC\",as.prob = TRUE)\n",
    "mean(GC.content)"
   ]
  },
  {
   "cell_type": "markdown",
   "metadata": {},
   "source": [
    "**Question 3: The “narrowPeak” regions includes information on a value they call “`signalValue`”. What is the correlation between GC content and “signalValue” of these regions (on chr22)?**"
   ]
  },
  {
   "cell_type": "code",
   "execution_count": 11,
   "metadata": {},
   "outputs": [
    {
     "data": {
      "text/html": [
       "<table class=\"dataframe\">\n",
       "<caption>A matrix: 1 × 1 of type dbl</caption>\n",
       "<thead>\n",
       "\t<tr><th scope=col>G|C</th></tr>\n",
       "</thead>\n",
       "<tbody>\n",
       "\t<tr><td>0.004467924</td></tr>\n",
       "</tbody>\n",
       "</table>\n"
      ],
      "text/latex": [
       "A matrix: 1 × 1 of type dbl\n",
       "\\begin{tabular}{l}\n",
       " G\\textbar{}C\\\\\n",
       "\\hline\n",
       "\t 0.004467924\\\\\n",
       "\\end{tabular}\n"
      ],
      "text/markdown": [
       "\n",
       "A matrix: 1 × 1 of type dbl\n",
       "\n",
       "| G|C |\n",
       "|---|\n",
       "| 0.004467924 |\n",
       "\n"
      ],
      "text/plain": [
       "     G|C        \n",
       "[1,] 0.004467924"
      ]
     },
     "metadata": {},
     "output_type": "display_data"
    }
   ],
   "source": [
    "signalValues <- mcols(H3K27me3.AH29892.chr22.view)$signalValue # mcol take metadata s4vector and return the DataFrame object\n",
    "cor(signalValues , GC.content)"
   ]
  },
  {
   "cell_type": "markdown",
   "metadata": {},
   "source": [
    "Question 4. The “narrowPeak” regions are presumably reflective of a ChIP signal in these regions. To confirm this, we want to obtain the “`fc.signal`” data from AnnotationHub package on the same cell line and histone modification. This data represents a vector of fold-change enrichment of ChIP signal over input.\n",
    "What is the correlation between the “signalValue” of the “narrowPeak” regions and the average “fc.signal” across the same regions?\n",
    "\n",
    "*Clarification: First compute the average “fc.signal” for across each region, for example using “Views”; this yields a single number of each region. Next correlate these numbers with the “signalValue” of the “narrowPeaks”.*"
   ]
  },
  {
   "cell_type": "code",
   "execution_count": 15,
   "metadata": {},
   "outputs": [
    {
     "data": {
      "text/plain": [
       "AnnotationHub with 1 record\n",
       "# snapshotDate(): 2021-05-18\n",
       "# names(): AH32033\n",
       "# $dataprovider: BroadInstitute\n",
       "# $species: Homo sapiens\n",
       "# $rdataclass: BigWigFile\n",
       "# $rdatadateadded: 2015-05-07\n",
       "# $title: E003-H3K27me3.fc.signal.bigwig\n",
       "# $description: Bigwig File containing fold enrichment signal tracks from Ep...\n",
       "# $taxonomyid: 9606\n",
       "# $genome: hg19\n",
       "# $sourcetype: BigWig\n",
       "# $sourceurl: http://egg2.wustl.edu/roadmap/data/byFileType/signal/consolida...\n",
       "# $sourcesize: 525643252\n",
       "# $tags: c(\"EpigenomeRoadMap\", \"signal\", \"consolidated\", \"macs2signal\",\n",
       "#   \"E003\", \"ESC\", \"ESC.H1\", \"H1 Cells\") \n",
       "# retrieve record with 'object[[\"AH32033\"]]' "
      ]
     },
     "metadata": {},
     "output_type": "display_data"
    },
    {
     "name": "stderr",
     "output_type": "stream",
     "text": [
      "downloading 1 resources\n",
      "\n",
      "retrieving 1 resource\n",
      "\n",
      "Warning message:\n",
      "\"download failed\n",
      "  web resource path: 'https://annotationhub.bioconductor.org/fetch/37473'\n",
      "  local file path: 'C:\\Users\\recer\\AppData\\Local/R/cache/R/AnnotationHub/6e98556c7eb0_37473'\n",
      "  reason: Send failure: Connection was aborted\"\n",
      "Warning message:\n",
      "\"bfcadd() failed; resource removed\n",
      "  rid: BFC20\n",
      "  fpath: 'https://annotationhub.bioconductor.org/fetch/37473'\n",
      "  reason: download failed\"\n",
      "Warning message:\n",
      "\"download failed\n",
      "  hub path: 'https://annotationhub.bioconductor.org/fetch/37473'\n",
      "  cache resource: 'AH32033 : 37473'\n",
      "  reason: bfcadd() failed; see warnings()\"\n"
     ]
    },
    {
     "ename": "ERROR",
     "evalue": "Error: failed to load resource\n  name: AH32033\n  title: E003-H3K27me3.fc.signal.bigwig\n  reason: 1 resources failed to download\n",
     "output_type": "error",
     "traceback": [
      "Error: failed to load resource\n  name: AH32033\n  title: E003-H3K27me3.fc.signal.bigwig\n  reason: 1 resources failed to download\nTraceback:\n",
      "1. H3K27me3_foldChange[[\"AH32033\"]]",
      "2. H3K27me3_foldChange[[\"AH32033\"]]",
      "3. .local(x, i, j = j, ...)",
      "4. .Hub_get1(x[idx], force = force, verbose = verbose)",
      "5. tryCatch({\n .     fls <- cache(getHub(class), force = force, verbose = verbose)\n .     .get1(class)\n . }, error = function(err) {\n .     stop(\"failed to load resource\", \"\\n  name: \", names(x), \"\\n  title: \", \n .         x$title, \"\\n  reason: \", conditionMessage(err), call. = FALSE)\n . })",
      "6. tryCatchList(expr, classes, parentenv, handlers)",
      "7. tryCatchOne(expr, names, parentenv, handlers[[1L]])",
      "8. value[[3L]](cond)",
      "9. stop(\"failed to load resource\", \"\\n  name: \", names(x), \"\\n  title: \", \n .     x$title, \"\\n  reason: \", conditionMessage(err), call. = FALSE)"
     ]
    }
   ],
   "source": [
    "# Retrive FoldChange Data \n",
    "H3K27me3_foldChange <- query(ah,c(\"H3K27me3\",\"E003\",\"fc.signal\"))\n",
    "H3K27me3_foldChange\n",
    "\n",
    "# Download The File\n",
    "H3K27me3.AH32033 <- H3K27me3_foldChange[[\"AH32033\"]]"
   ]
  },
  {
   "cell_type": "code",
   "execution_count": null,
   "metadata": {},
   "outputs": [],
   "source": []
  }
 ],
 "metadata": {
  "kernelspec": {
   "display_name": "R",
   "language": "R",
   "name": "python3102jvsc74a57bd055db829a23e27f1a4129460ab65de434bf1fc9efa4ae0ce0afb72d96498ad818"
  },
  "language_info": {
   "codemirror_mode": "r",
   "file_extension": ".r",
   "mimetype": "text/x-r-source",
   "name": "R",
   "pygments_lexer": "r",
   "version": "4.1.2"
  },
  "orig_nbformat": 4
 },
 "nbformat": 4,
 "nbformat_minor": 2
}
