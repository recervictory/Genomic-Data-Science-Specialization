{
 "cells": [
  {
   "cell_type": "markdown",
   "metadata": {},
   "source": [
    "# Datacamp - RNA-Seq with Bioconductor in R\n",
    "RNA-Seq is an exciting next-generation sequencing method used for identifying genes and pathways underlying particular diseases or conditions. As high-throughput sequencing becomes more affordable and accessible to a wider community of researchers, the knowledge to analyze this data is becoming an increasingly valuable skill. Join us in learning about the RNA-Seq workflow and discovering how to identify which genes and biological processes may be important for your condition of interest! We will start the course with a brief overview of the RNA-Seq workflow with an emphasis on differential expression (DE) analysis. Starting with the counts for each gene, the course will cover how to prepare data for DE analysis, assess the quality of the count data, and identify outliers and detect major sources of variation in the data. The DESeq2 R package will be used to model the count data using a negative binomial model and test for differentially expressed genes. Visualization of the results with heatmaps and volcano plots will be performed and the significant differentially expressed genes will be identified and saved."
   ]
  },
  {
   "cell_type": "markdown",
   "metadata": {},
   "source": [
    "## Introduction to RNA-Seq theory and workflow\n",
    "In this chapter we explore what we can do with RNA-Seq data and why it is exciting. We learn about the different steps and considerations involved in an RNA-Seq workflow."
   ]
  },
  {
   "cell_type": "markdown",
   "metadata": {},
   "source": [
    "### RNA-Seq Packages\n",
    "We will be using DESeq2 for performing the differential expression analysis and additional R packages for data wrangling and plotting. Before we can run any analyses, we need to load the following packages `DESeq2`, `RColorBrewer`, `pheatmap`, and `tidyverse`."
   ]
  },
  {
   "cell_type": "code",
   "execution_count": 1,
   "metadata": {},
   "outputs": [
    {
     "name": "stderr",
     "output_type": "stream",
     "text": [
      "'getOption(\"repos\")' replaces Bioconductor standard repositories, see\n",
      "'?repositories' for details\n",
      "\n",
      "replacement repositories:\n",
      "    CRAN: https://cran.r-project.org\n",
      "\n",
      "\n",
      "Bioconductor version 3.13 (BiocManager 1.30.16), R 4.1.2 (2021-11-01)\n",
      "\n",
      "Installing package(s) 'DESeq2'\n",
      "\n",
      "also installing the dependencies 'annotate', 'genefilter', 'locfit', 'geneplotter', 'RcppArmadillo'\n",
      "\n",
      "\n"
     ]
    },
    {
     "name": "stdout",
     "output_type": "stream",
     "text": [
      "package 'annotate' successfully unpacked and MD5 sums checked\n",
      "package 'genefilter' successfully unpacked and MD5 sums checked\n",
      "package 'locfit' successfully unpacked and MD5 sums checked\n",
      "package 'geneplotter' successfully unpacked and MD5 sums checked\n",
      "package 'RcppArmadillo' successfully unpacked and MD5 sums checked\n",
      "package 'DESeq2' successfully unpacked and MD5 sums checked\n",
      "\n",
      "The downloaded binary packages are in\n",
      "\tC:\\Users\\recer\\AppData\\Local\\Temp\\Rtmp2L9qwm\\downloaded_packages\n"
     ]
    },
    {
     "name": "stderr",
     "output_type": "stream",
     "text": [
      "Old packages: 'backports', 'brio', 'broom', 'cli', 'cpp11', 'crayon', 'DBI',\n",
      "  'digest', 'dtplyr', 'fansi', 'fs', 'generics', 'glmnet', 'glue', 'jsonlite',\n",
      "  'knitr', 'languageserver', 'magrittr', 'mvtnorm', 'openssl', 'permute',\n",
      "  'pillar', 'pkgload', 'raster', 'Rcpp', 'readr', 'remotes', 'repr', 'rex',\n",
      "  'rJava', 'rjson', 'rlang', 'rsconnect', 'rvest', 'sp', 'stringi', 'testthat',\n",
      "  'tibble', 'tinytex', 'tzdb', 'uuid', 'vroom', 'withr', 'xfun', 'xgboost',\n",
      "  'xml2', 'yaml', 'foreign', 'later', 'rpart'\n",
      "\n",
      "'getOption(\"repos\")' replaces Bioconductor standard repositories, see\n",
      "'?repositories' for details\n",
      "\n",
      "replacement repositories:\n",
      "    CRAN: https://cran.r-project.org\n",
      "\n",
      "\n",
      "Bioconductor version 3.13 (BiocManager 1.30.16), R 4.1.2 (2021-11-01)\n",
      "\n",
      "Warning message:\n",
      "\"package(s) not installed when version(s) same as current; use `force = TRUE` to\n",
      "  re-install: 'RColorBrewer'\"\n",
      "Old packages: 'backports', 'brio', 'broom', 'cli', 'cpp11', 'crayon', 'DBI',\n",
      "  'digest', 'dtplyr', 'fansi', 'fs', 'generics', 'glmnet', 'glue', 'jsonlite',\n",
      "  'knitr', 'languageserver', 'magrittr', 'mvtnorm', 'openssl', 'permute',\n",
      "  'pillar', 'pkgload', 'raster', 'Rcpp', 'readr', 'remotes', 'repr', 'rex',\n",
      "  'rJava', 'rjson', 'rlang', 'rsconnect', 'rvest', 'sp', 'stringi', 'testthat',\n",
      "  'tibble', 'tinytex', 'tzdb', 'uuid', 'vroom', 'withr', 'xfun', 'xgboost',\n",
      "  'xml2', 'yaml', 'foreign', 'later', 'rpart'\n",
      "\n",
      "'getOption(\"repos\")' replaces Bioconductor standard repositories, see\n",
      "'?repositories' for details\n",
      "\n",
      "replacement repositories:\n",
      "    CRAN: https://cran.r-project.org\n",
      "\n",
      "\n",
      "Bioconductor version 3.13 (BiocManager 1.30.16), R 4.1.2 (2021-11-01)\n",
      "\n",
      "Installing package(s) 'pheatmap'\n",
      "\n"
     ]
    },
    {
     "name": "stdout",
     "output_type": "stream",
     "text": [
      "package 'pheatmap' successfully unpacked and MD5 sums checked\n",
      "\n",
      "The downloaded binary packages are in\n",
      "\tC:\\Users\\recer\\AppData\\Local\\Temp\\Rtmp2L9qwm\\downloaded_packages\n"
     ]
    },
    {
     "name": "stderr",
     "output_type": "stream",
     "text": [
      "Old packages: 'backports', 'brio', 'broom', 'cli', 'cpp11', 'crayon', 'DBI',\n",
      "  'digest', 'dtplyr', 'fansi', 'fs', 'generics', 'glmnet', 'glue', 'jsonlite',\n",
      "  'knitr', 'languageserver', 'magrittr', 'mvtnorm', 'openssl', 'permute',\n",
      "  'pillar', 'pkgload', 'raster', 'Rcpp', 'readr', 'remotes', 'repr', 'rex',\n",
      "  'rJava', 'rjson', 'rlang', 'rsconnect', 'rvest', 'sp', 'stringi', 'testthat',\n",
      "  'tibble', 'tinytex', 'tzdb', 'uuid', 'vroom', 'withr', 'xfun', 'xgboost',\n",
      "  'xml2', 'yaml', 'foreign', 'later', 'rpart'\n",
      "\n"
     ]
    }
   ],
   "source": [
    "# Install library for DESeq2\n",
    "BiocManager::install(\"DESeq2\")\n",
    "\n",
    "# Install library for RColorBrewer\n",
    "BiocManager::install(\"RColorBrewer\")\n",
    "\n",
    "# Install library for pheatmap\n",
    "BiocManager::install(\"pheatmap\")\n"
   ]
  },
  {
   "cell_type": "code",
   "execution_count": 3,
   "metadata": {},
   "outputs": [],
   "source": [
    "# Load library for DESeq2\n",
    "library(\"DESeq2\")\n",
    "\n",
    "# Load library for RColorBrewer\n",
    "library(\"RColorBrewer\")\n",
    "\n",
    "# Load library for pheatmap\n",
    "library(\"pheatmap\")\n",
    "\n",
    "# Load library for tidyverse\n",
    "library(\"tidyverse\")"
   ]
  },
  {
   "cell_type": "code",
   "execution_count": null,
   "metadata": {},
   "outputs": [],
   "source": []
  }
 ],
 "metadata": {
  "kernelspec": {
   "display_name": "R",
   "language": "R",
   "name": "python3102jvsc74a57bd055db829a23e27f1a4129460ab65de434bf1fc9efa4ae0ce0afb72d96498ad818"
  },
  "language_info": {
   "codemirror_mode": "r",
   "file_extension": ".r",
   "mimetype": "text/x-r-source",
   "name": "R",
   "pygments_lexer": "r",
   "version": "4.1.2"
  },
  "orig_nbformat": 4
 },
 "nbformat": 4,
 "nbformat_minor": 2
}
