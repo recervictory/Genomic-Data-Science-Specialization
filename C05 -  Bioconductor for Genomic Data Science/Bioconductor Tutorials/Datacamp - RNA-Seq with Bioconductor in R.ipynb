{
 "cells": [
  {
   "cell_type": "markdown",
   "metadata": {},
   "source": [
    "# Datacamp - RNA-Seq with Bioconductor in R\n",
    "RNA-Seq is an exciting next-generation sequencing method used for identifying genes and pathways underlying particular diseases or conditions. As high-throughput sequencing becomes more affordable and accessible to a wider community of researchers, the knowledge to analyze this data is becoming an increasingly valuable skill. Join us in learning about the RNA-Seq workflow and discovering how to identify which genes and biological processes may be important for your condition of interest! We will start the course with a brief overview of the RNA-Seq workflow with an emphasis on differential expression (DE) analysis. Starting with the counts for each gene, the course will cover how to prepare data for DE analysis, assess the quality of the count data, and identify outliers and detect major sources of variation in the data. The DESeq2 R package will be used to model the count data using a negative binomial model and test for differentially expressed genes. Visualization of the results with heatmaps and volcano plots will be performed and the significant differentially expressed genes will be identified and saved."
   ]
  },
  {
   "cell_type": "markdown",
   "metadata": {},
   "source": [
    "## Introduction to RNA-Seq theory and workflow\n",
    "In this chapter we explore what we can do with RNA-Seq data and why it is exciting. We learn about the different steps and considerations involved in an RNA-Seq workflow."
   ]
  },
  {
   "cell_type": "markdown",
   "metadata": {},
   "source": [
    "### RNA-Seq Packages\n",
    "We will be using DESeq2 for performing the differential expression analysis and additional R packages for data wrangling and plotting. Before we can run any analyses, we need to load the following packages `DESeq2`, `RColorBrewer`, `pheatmap`, and `tidyverse`."
   ]
  },
  {
   "cell_type": "code",
   "execution_count": 1,
   "metadata": {},
   "outputs": [
    {
     "name": "stderr",
     "output_type": "stream",
     "text": [
      "'getOption(\"repos\")' replaces Bioconductor standard repositories, see\n",
      "'?repositories' for details\n",
      "\n",
      "replacement repositories:\n",
      "    CRAN: https://cran.r-project.org\n",
      "\n",
      "\n",
      "Bioconductor version 3.13 (BiocManager 1.30.16), R 4.1.2 (2021-11-01)\n",
      "\n",
      "Installing package(s) 'DESeq2'\n",
      "\n",
      "also installing the dependencies 'annotate', 'genefilter', 'locfit', 'geneplotter', 'RcppArmadillo'\n",
      "\n",
      "\n"
     ]
    },
    {
     "name": "stdout",
     "output_type": "stream",
     "text": [
      "package 'annotate' successfully unpacked and MD5 sums checked\n",
      "package 'genefilter' successfully unpacked and MD5 sums checked\n",
      "package 'locfit' successfully unpacked and MD5 sums checked\n",
      "package 'geneplotter' successfully unpacked and MD5 sums checked\n",
      "package 'RcppArmadillo' successfully unpacked and MD5 sums checked\n",
      "package 'DESeq2' successfully unpacked and MD5 sums checked\n",
      "\n",
      "The downloaded binary packages are in\n",
      "\tC:\\Users\\recer\\AppData\\Local\\Temp\\Rtmp2L9qwm\\downloaded_packages\n"
     ]
    },
    {
     "name": "stderr",
     "output_type": "stream",
     "text": [
      "Old packages: 'backports', 'brio', 'broom', 'cli', 'cpp11', 'crayon', 'DBI',\n",
      "  'digest', 'dtplyr', 'fansi', 'fs', 'generics', 'glmnet', 'glue', 'jsonlite',\n",
      "  'knitr', 'languageserver', 'magrittr', 'mvtnorm', 'openssl', 'permute',\n",
      "  'pillar', 'pkgload', 'raster', 'Rcpp', 'readr', 'remotes', 'repr', 'rex',\n",
      "  'rJava', 'rjson', 'rlang', 'rsconnect', 'rvest', 'sp', 'stringi', 'testthat',\n",
      "  'tibble', 'tinytex', 'tzdb', 'uuid', 'vroom', 'withr', 'xfun', 'xgboost',\n",
      "  'xml2', 'yaml', 'foreign', 'later', 'rpart'\n",
      "\n",
      "'getOption(\"repos\")' replaces Bioconductor standard repositories, see\n",
      "'?repositories' for details\n",
      "\n",
      "replacement repositories:\n",
      "    CRAN: https://cran.r-project.org\n",
      "\n",
      "\n",
      "Bioconductor version 3.13 (BiocManager 1.30.16), R 4.1.2 (2021-11-01)\n",
      "\n",
      "Warning message:\n",
      "\"package(s) not installed when version(s) same as current; use `force = TRUE` to\n",
      "  re-install: 'RColorBrewer'\"\n",
      "Old packages: 'backports', 'brio', 'broom', 'cli', 'cpp11', 'crayon', 'DBI',\n",
      "  'digest', 'dtplyr', 'fansi', 'fs', 'generics', 'glmnet', 'glue', 'jsonlite',\n",
      "  'knitr', 'languageserver', 'magrittr', 'mvtnorm', 'openssl', 'permute',\n",
      "  'pillar', 'pkgload', 'raster', 'Rcpp', 'readr', 'remotes', 'repr', 'rex',\n",
      "  'rJava', 'rjson', 'rlang', 'rsconnect', 'rvest', 'sp', 'stringi', 'testthat',\n",
      "  'tibble', 'tinytex', 'tzdb', 'uuid', 'vroom', 'withr', 'xfun', 'xgboost',\n",
      "  'xml2', 'yaml', 'foreign', 'later', 'rpart'\n",
      "\n",
      "'getOption(\"repos\")' replaces Bioconductor standard repositories, see\n",
      "'?repositories' for details\n",
      "\n",
      "replacement repositories:\n",
      "    CRAN: https://cran.r-project.org\n",
      "\n",
      "\n",
      "Bioconductor version 3.13 (BiocManager 1.30.16), R 4.1.2 (2021-11-01)\n",
      "\n",
      "Installing package(s) 'pheatmap'\n",
      "\n"
     ]
    },
    {
     "name": "stdout",
     "output_type": "stream",
     "text": [
      "package 'pheatmap' successfully unpacked and MD5 sums checked\n",
      "\n",
      "The downloaded binary packages are in\n",
      "\tC:\\Users\\recer\\AppData\\Local\\Temp\\Rtmp2L9qwm\\downloaded_packages\n"
     ]
    },
    {
     "name": "stderr",
     "output_type": "stream",
     "text": [
      "Old packages: 'backports', 'brio', 'broom', 'cli', 'cpp11', 'crayon', 'DBI',\n",
      "  'digest', 'dtplyr', 'fansi', 'fs', 'generics', 'glmnet', 'glue', 'jsonlite',\n",
      "  'knitr', 'languageserver', 'magrittr', 'mvtnorm', 'openssl', 'permute',\n",
      "  'pillar', 'pkgload', 'raster', 'Rcpp', 'readr', 'remotes', 'repr', 'rex',\n",
      "  'rJava', 'rjson', 'rlang', 'rsconnect', 'rvest', 'sp', 'stringi', 'testthat',\n",
      "  'tibble', 'tinytex', 'tzdb', 'uuid', 'vroom', 'withr', 'xfun', 'xgboost',\n",
      "  'xml2', 'yaml', 'foreign', 'later', 'rpart'\n",
      "\n"
     ]
    }
   ],
   "source": [
    "# Install library for DESeq2\n",
    "BiocManager::install(\"DESeq2\")\n",
    "\n",
    "# Install library for RColorBrewer\n",
    "BiocManager::install(\"RColorBrewer\")\n",
    "\n",
    "# Install library for pheatmap\n",
    "BiocManager::install(\"pheatmap\")\n"
   ]
  },
  {
   "cell_type": "code",
   "execution_count": 4,
   "metadata": {},
   "outputs": [],
   "source": [
    "# Load library for DESeq2\n",
    "library(\"DESeq2\")\n",
    "\n",
    "# Load library for RColorBrewer\n",
    "library(\"RColorBrewer\")\n",
    "\n",
    "# Load library for pheatmap\n",
    "library(\"pheatmap\")\n",
    "\n",
    "# Load library for tidyverse\n",
    "library(\"tidyverse\")"
   ]
  },
  {
   "cell_type": "markdown",
   "metadata": {},
   "source": [
    "### Exploring the raw count matrix\n",
    "Let's explore the contents of the raw count matrix. The dataset smoc2_rawcounts has already been loaded for you using the `read.csv()` function."
   ]
  },
  {
   "cell_type": "code",
   "execution_count": 3,
   "metadata": {},
   "outputs": [],
   "source": [
    "# Read CSV read file\n",
    "smoc2_rawcounts <- read.csv('data/smoc2_rawcounts.csv') "
   ]
  },
  {
   "cell_type": "code",
   "execution_count": 5,
   "metadata": {},
   "outputs": [
    {
     "data": {
      "text/html": [
       "<table class=\"dataframe\">\n",
       "<caption>A data.frame: 6 × 8</caption>\n",
       "<thead>\n",
       "\t<tr><th></th><th scope=col>X</th><th scope=col>smoc2_fibrosis1</th><th scope=col>smoc2_fibrosis4</th><th scope=col>smoc2_normal1</th><th scope=col>smoc2_normal3</th><th scope=col>smoc2_fibrosis3</th><th scope=col>smoc2_normal4</th><th scope=col>smoc2_fibrosis2</th></tr>\n",
       "\t<tr><th></th><th scope=col>&lt;chr&gt;</th><th scope=col>&lt;int&gt;</th><th scope=col>&lt;int&gt;</th><th scope=col>&lt;int&gt;</th><th scope=col>&lt;int&gt;</th><th scope=col>&lt;int&gt;</th><th scope=col>&lt;int&gt;</th><th scope=col>&lt;int&gt;</th></tr>\n",
       "</thead>\n",
       "<tbody>\n",
       "\t<tr><th scope=row>1</th><td>ENSMUSG00000102693</td><td> 0</td><td> 0</td><td>0</td><td>0</td><td> 0</td><td>0</td><td> 0</td></tr>\n",
       "\t<tr><th scope=row>2</th><td>ENSMUSG00000064842</td><td> 0</td><td> 0</td><td>0</td><td>0</td><td> 0</td><td>0</td><td> 0</td></tr>\n",
       "\t<tr><th scope=row>3</th><td>ENSMUSG00000051951</td><td>72</td><td>30</td><td>0</td><td>3</td><td>36</td><td>1</td><td>51</td></tr>\n",
       "\t<tr><th scope=row>4</th><td>ENSMUSG00000102851</td><td> 0</td><td> 0</td><td>0</td><td>0</td><td> 0</td><td>0</td><td> 0</td></tr>\n",
       "\t<tr><th scope=row>5</th><td>ENSMUSG00000103377</td><td> 0</td><td> 0</td><td>1</td><td>0</td><td> 0</td><td>0</td><td> 0</td></tr>\n",
       "\t<tr><th scope=row>6</th><td>ENSMUSG00000104017</td><td> 0</td><td> 0</td><td>0</td><td>0</td><td> 0</td><td>0</td><td> 0</td></tr>\n",
       "</tbody>\n",
       "</table>\n"
      ],
      "text/latex": [
       "A data.frame: 6 × 8\n",
       "\\begin{tabular}{r|llllllll}\n",
       "  & X & smoc2\\_fibrosis1 & smoc2\\_fibrosis4 & smoc2\\_normal1 & smoc2\\_normal3 & smoc2\\_fibrosis3 & smoc2\\_normal4 & smoc2\\_fibrosis2\\\\\n",
       "  & <chr> & <int> & <int> & <int> & <int> & <int> & <int> & <int>\\\\\n",
       "\\hline\n",
       "\t1 & ENSMUSG00000102693 &  0 &  0 & 0 & 0 &  0 & 0 &  0\\\\\n",
       "\t2 & ENSMUSG00000064842 &  0 &  0 & 0 & 0 &  0 & 0 &  0\\\\\n",
       "\t3 & ENSMUSG00000051951 & 72 & 30 & 0 & 3 & 36 & 1 & 51\\\\\n",
       "\t4 & ENSMUSG00000102851 &  0 &  0 & 0 & 0 &  0 & 0 &  0\\\\\n",
       "\t5 & ENSMUSG00000103377 &  0 &  0 & 1 & 0 &  0 & 0 &  0\\\\\n",
       "\t6 & ENSMUSG00000104017 &  0 &  0 & 0 & 0 &  0 & 0 &  0\\\\\n",
       "\\end{tabular}\n"
      ],
      "text/markdown": [
       "\n",
       "A data.frame: 6 × 8\n",
       "\n",
       "| <!--/--> | X &lt;chr&gt; | smoc2_fibrosis1 &lt;int&gt; | smoc2_fibrosis4 &lt;int&gt; | smoc2_normal1 &lt;int&gt; | smoc2_normal3 &lt;int&gt; | smoc2_fibrosis3 &lt;int&gt; | smoc2_normal4 &lt;int&gt; | smoc2_fibrosis2 &lt;int&gt; |\n",
       "|---|---|---|---|---|---|---|---|---|\n",
       "| 1 | ENSMUSG00000102693 |  0 |  0 | 0 | 0 |  0 | 0 |  0 |\n",
       "| 2 | ENSMUSG00000064842 |  0 |  0 | 0 | 0 |  0 | 0 |  0 |\n",
       "| 3 | ENSMUSG00000051951 | 72 | 30 | 0 | 3 | 36 | 1 | 51 |\n",
       "| 4 | ENSMUSG00000102851 |  0 |  0 | 0 | 0 |  0 | 0 |  0 |\n",
       "| 5 | ENSMUSG00000103377 |  0 |  0 | 1 | 0 |  0 | 0 |  0 |\n",
       "| 6 | ENSMUSG00000104017 |  0 |  0 | 0 | 0 |  0 | 0 |  0 |\n",
       "\n"
      ],
      "text/plain": [
       "  X                  smoc2_fibrosis1 smoc2_fibrosis4 smoc2_normal1\n",
       "1 ENSMUSG00000102693  0               0              0            \n",
       "2 ENSMUSG00000064842  0               0              0            \n",
       "3 ENSMUSG00000051951 72              30              0            \n",
       "4 ENSMUSG00000102851  0               0              0            \n",
       "5 ENSMUSG00000103377  0               0              1            \n",
       "6 ENSMUSG00000104017  0               0              0            \n",
       "  smoc2_normal3 smoc2_fibrosis3 smoc2_normal4 smoc2_fibrosis2\n",
       "1 0              0              0              0             \n",
       "2 0              0              0              0             \n",
       "3 3             36              1             51             \n",
       "4 0              0              0              0             \n",
       "5 0              0              0              0             \n",
       "6 0              0              0              0             "
      ]
     },
     "metadata": {},
     "output_type": "display_data"
    },
    {
     "name": "stdout",
     "output_type": "stream",
     "text": [
      "'data.frame':\t47729 obs. of  8 variables:\n",
      " $ X              : chr  \"ENSMUSG00000102693\" \"ENSMUSG00000064842\" \"ENSMUSG00000051951\" \"ENSMUSG00000102851\" ...\n",
      " $ smoc2_fibrosis1: int  0 0 72 0 0 0 0 0 0 1 ...\n",
      " $ smoc2_fibrosis4: int  0 0 30 0 0 0 0 0 0 1 ...\n",
      " $ smoc2_normal1  : int  0 0 0 0 1 0 0 0 0 1 ...\n",
      " $ smoc2_normal3  : int  0 0 3 0 0 0 0 0 0 0 ...\n",
      " $ smoc2_fibrosis3: int  0 0 36 0 0 0 0 0 0 1 ...\n",
      " $ smoc2_normal4  : int  0 0 1 0 0 0 0 0 0 0 ...\n",
      " $ smoc2_fibrosis2: int  0 0 51 0 0 0 0 0 0 1 ...\n"
     ]
    }
   ],
   "source": [
    "# Explore the first six observations of smoc2_rawcounts\n",
    "head(smoc2_rawcounts)\n",
    "\n",
    "# Explore the structure of smoc2_rawcounts\n",
    "str(smoc2_rawcounts)"
   ]
  },
  {
   "cell_type": "code",
   "execution_count": 6,
   "metadata": {},
   "outputs": [],
   "source": [
    "# Create genotype vector\n",
    "genotype <- c(\"smoc2_oe\", \"smoc2_oe\", \"smoc2_oe\", \"smoc2_oe\", \"smoc2_oe\", \"smoc2_oe\", \"smoc2_oe\")\n",
    "\n",
    "# Create condition vector\n",
    "condition <- c(\"fibrosis\", \"fibrosis\", \"fibrosis\", \"fibrosis\", \"normal\", \"normal\", \"normal\")\n",
    "\n",
    "# Create data frame\n",
    "smoc2_metadata <- data.frame(genotype, condition)\n",
    "\n",
    "# Assign the row names of the data frame\n",
    "rownames(smoc2_metadata) <- c(\"smoc2_fibrosis1\", \"smoc2_fibrosis2\", \"smoc2_fibrosis3\", \"smoc2_fibrosis4\", \"smoc2_normal1\", \"smoc2_normal3\", \"smoc2_normal4\")"
   ]
  },
  {
   "cell_type": "code",
   "execution_count": 7,
   "metadata": {},
   "outputs": [
    {
     "data": {
      "text/html": [
       "<table class=\"dataframe\">\n",
       "<caption>A data.frame: 7 × 2</caption>\n",
       "<thead>\n",
       "\t<tr><th></th><th scope=col>genotype</th><th scope=col>condition</th></tr>\n",
       "\t<tr><th></th><th scope=col>&lt;chr&gt;</th><th scope=col>&lt;chr&gt;</th></tr>\n",
       "</thead>\n",
       "<tbody>\n",
       "\t<tr><th scope=row>smoc2_fibrosis1</th><td>smoc2_oe</td><td>fibrosis</td></tr>\n",
       "\t<tr><th scope=row>smoc2_fibrosis2</th><td>smoc2_oe</td><td>fibrosis</td></tr>\n",
       "\t<tr><th scope=row>smoc2_fibrosis3</th><td>smoc2_oe</td><td>fibrosis</td></tr>\n",
       "\t<tr><th scope=row>smoc2_fibrosis4</th><td>smoc2_oe</td><td>fibrosis</td></tr>\n",
       "\t<tr><th scope=row>smoc2_normal1</th><td>smoc2_oe</td><td>normal  </td></tr>\n",
       "\t<tr><th scope=row>smoc2_normal3</th><td>smoc2_oe</td><td>normal  </td></tr>\n",
       "\t<tr><th scope=row>smoc2_normal4</th><td>smoc2_oe</td><td>normal  </td></tr>\n",
       "</tbody>\n",
       "</table>\n"
      ],
      "text/latex": [
       "A data.frame: 7 × 2\n",
       "\\begin{tabular}{r|ll}\n",
       "  & genotype & condition\\\\\n",
       "  & <chr> & <chr>\\\\\n",
       "\\hline\n",
       "\tsmoc2\\_fibrosis1 & smoc2\\_oe & fibrosis\\\\\n",
       "\tsmoc2\\_fibrosis2 & smoc2\\_oe & fibrosis\\\\\n",
       "\tsmoc2\\_fibrosis3 & smoc2\\_oe & fibrosis\\\\\n",
       "\tsmoc2\\_fibrosis4 & smoc2\\_oe & fibrosis\\\\\n",
       "\tsmoc2\\_normal1 & smoc2\\_oe & normal  \\\\\n",
       "\tsmoc2\\_normal3 & smoc2\\_oe & normal  \\\\\n",
       "\tsmoc2\\_normal4 & smoc2\\_oe & normal  \\\\\n",
       "\\end{tabular}\n"
      ],
      "text/markdown": [
       "\n",
       "A data.frame: 7 × 2\n",
       "\n",
       "| <!--/--> | genotype &lt;chr&gt; | condition &lt;chr&gt; |\n",
       "|---|---|---|\n",
       "| smoc2_fibrosis1 | smoc2_oe | fibrosis |\n",
       "| smoc2_fibrosis2 | smoc2_oe | fibrosis |\n",
       "| smoc2_fibrosis3 | smoc2_oe | fibrosis |\n",
       "| smoc2_fibrosis4 | smoc2_oe | fibrosis |\n",
       "| smoc2_normal1 | smoc2_oe | normal   |\n",
       "| smoc2_normal3 | smoc2_oe | normal   |\n",
       "| smoc2_normal4 | smoc2_oe | normal   |\n",
       "\n"
      ],
      "text/plain": [
       "                genotype condition\n",
       "smoc2_fibrosis1 smoc2_oe fibrosis \n",
       "smoc2_fibrosis2 smoc2_oe fibrosis \n",
       "smoc2_fibrosis3 smoc2_oe fibrosis \n",
       "smoc2_fibrosis4 smoc2_oe fibrosis \n",
       "smoc2_normal1   smoc2_oe normal   \n",
       "smoc2_normal3   smoc2_oe normal   \n",
       "smoc2_normal4   smoc2_oe normal   "
      ]
     },
     "metadata": {},
     "output_type": "display_data"
    }
   ],
   "source": [
    "smoc2_metadata "
   ]
  },
  {
   "cell_type": "code",
   "execution_count": 5,
   "metadata": {},
   "outputs": [
    {
     "name": "stderr",
     "output_type": "stream",
     "text": [
      "starting httpd help server ...\n",
      " done\n",
      "\n"
     ]
    }
   ],
   "source": [
    "vignette(\"DESeq2\")"
   ]
  },
  {
   "cell_type": "markdown",
   "metadata": {},
   "source": [
    "### Matching metadata and counts data\n",
    "To perform any analysis with DESeq2, we need to create a DESeq2 object by providing the raw counts, metadata, and design formula. To do this, we need to read in the raw counts data and associated metadata we created previously, make sure the sample names are in the same order in both datasets, then create a DESeq2 object to use for differential expression analysis. We will use the design formula `~ condition` to test for differential expression between conditions (normal and fibrosis).\n",
    "\n",
    "The `DESeq2` and `dplyr` libraries have been loaded for you, and the smoc2_rawcounts and smoc2_metadata files have been read in.\n",
    "\n",
    "- Use the `match()` function to return the indices for how to reorder the columns of the counts data to match the order of the row names of the metadata. Assign the result to reorder_idx.\n",
    "- Remember that when using the match() function, the first vector is in the order desired, while the second vector is the one to reorder.\n",
    "- To create the DESeq2 object, we need to specify our reordered counts (reordered_smoc2_rawcounts) as the countData and our metadata (smoc2_metadata) as the colData.\n",
    "\n",
    "- Reorder the columns of the count data with reorder_idx such that the column names match the order of the row names in the metadata.\n",
    "\n",
    "- Create a DESeq2 object, dds_smoc2 using the `DESeqDataSetFromMatrix()` function using the metadata and reordered counts."
   ]
  },
  {
   "cell_type": "code",
   "execution_count": 8,
   "metadata": {},
   "outputs": [
    {
     "data": {
      "text/html": [
       "<style>\n",
       ".list-inline {list-style: none; margin:0; padding: 0}\n",
       ".list-inline>li {display: inline-block}\n",
       ".list-inline>li:not(:last-child)::after {content: \"\\00b7\"; padding: 0 .5ex}\n",
       "</style>\n",
       "<ol class=list-inline><li>2</li><li>8</li><li>6</li><li>3</li><li>4</li><li>5</li><li>7</li></ol>\n"
      ],
      "text/latex": [
       "\\begin{enumerate*}\n",
       "\\item 2\n",
       "\\item 8\n",
       "\\item 6\n",
       "\\item 3\n",
       "\\item 4\n",
       "\\item 5\n",
       "\\item 7\n",
       "\\end{enumerate*}\n"
      ],
      "text/markdown": [
       "1. 2\n",
       "2. 8\n",
       "3. 6\n",
       "4. 3\n",
       "5. 4\n",
       "6. 5\n",
       "7. 7\n",
       "\n",
       "\n"
      ],
      "text/plain": [
       "[1] 2 8 6 3 4 5 7"
      ]
     },
     "metadata": {},
     "output_type": "display_data"
    }
   ],
   "source": [
    "# Use the match() function to reorder the columns of the raw counts\n",
    "reorder_idx <- match(rownames(smoc2_metadata), colnames(smoc2_rawcounts))\n",
    "reorder_idx"
   ]
  },
  {
   "cell_type": "code",
   "execution_count": 9,
   "metadata": {},
   "outputs": [
    {
     "name": "stderr",
     "output_type": "stream",
     "text": [
      "Warning message in DESeqDataSet(se, design = design, ignoreRank):\n",
      "\"some variables in design formula are characters, converting to factors\"\n"
     ]
    },
    {
     "data": {
      "text/plain": [
       "class: DESeqDataSet \n",
       "dim: 47729 7 \n",
       "metadata(1): version\n",
       "assays(1): counts\n",
       "rownames: NULL\n",
       "rowData names(0):\n",
       "colnames(7): smoc2_fibrosis1 smoc2_fibrosis2 ... smoc2_normal3\n",
       "  smoc2_normal4\n",
       "colData names(2): genotype condition"
      ]
     },
     "metadata": {},
     "output_type": "display_data"
    }
   ],
   "source": [
    "\n",
    "# Reorder the columns of the count data\n",
    "reordered_smoc2_rawcounts <- smoc2_rawcounts[ , reorder_idx]\n",
    "\n",
    "# Create a DESeq2 object\n",
    "dds_smoc2 <- DESeqDataSetFromMatrix(countData = reordered_smoc2_rawcounts,\n",
    "                              colData = smoc2_metadata,\n",
    "                              design = ~ condition)\n",
    "dds_smoc2"
   ]
  },
  {
   "cell_type": "markdown",
   "metadata": {},
   "source": [
    "### Normalizing counts with DESeq2\n",
    "We have created the DESeq2 object and now wish to perform quality control on our samples. Therefore, we need to generate the normalized counts (normalized for library size, which is the total number of gene counts per sample, while accounting for library composition). To obtain the normalized counts, use the DESeq2 object and generate the normalized counts matrix."
   ]
  },
  {
   "cell_type": "code",
   "execution_count": 20,
   "metadata": {},
   "outputs": [
    {
     "data": {
      "text/html": [
       "<style>\n",
       ".dl-inline {width: auto; margin:0; padding: 0}\n",
       ".dl-inline>dt, .dl-inline>dd {float: none; width: auto; display: inline-block}\n",
       ".dl-inline>dt::after {content: \":\\0020\"; padding-right: .5ex}\n",
       ".dl-inline>dt:not(:first-of-type) {padding-left: .5ex}\n",
       "</style><dl class=dl-inline><dt>smoc2_fibrosis1</dt><dd>1.43198320905838</dd><dt>smoc2_fibrosis2</dt><dd>1.11896424564986</dd><dt>smoc2_fibrosis3</dt><dd>1.2480023540238</dd><dt>smoc2_fibrosis4</dt><dd>1.08267987463881</dd><dt>smoc2_normal1</dt><dd>0.710648210882817</dd><dt>smoc2_normal3</dt><dd>0.798973447160559</dd><dt>smoc2_normal4</dt><dd>0.848242621232058</dd></dl>\n"
      ],
      "text/latex": [
       "\\begin{description*}\n",
       "\\item[smoc2\\textbackslash{}\\_fibrosis1] 1.43198320905838\n",
       "\\item[smoc2\\textbackslash{}\\_fibrosis2] 1.11896424564986\n",
       "\\item[smoc2\\textbackslash{}\\_fibrosis3] 1.2480023540238\n",
       "\\item[smoc2\\textbackslash{}\\_fibrosis4] 1.08267987463881\n",
       "\\item[smoc2\\textbackslash{}\\_normal1] 0.710648210882817\n",
       "\\item[smoc2\\textbackslash{}\\_normal3] 0.798973447160559\n",
       "\\item[smoc2\\textbackslash{}\\_normal4] 0.848242621232058\n",
       "\\end{description*}\n"
      ],
      "text/markdown": [
       "smoc2_fibrosis1\n",
       ":   1.43198320905838smoc2_fibrosis2\n",
       ":   1.11896424564986smoc2_fibrosis3\n",
       ":   1.2480023540238smoc2_fibrosis4\n",
       ":   1.08267987463881smoc2_normal1\n",
       ":   0.710648210882817smoc2_normal3\n",
       ":   0.798973447160559smoc2_normal4\n",
       ":   0.848242621232058\n",
       "\n"
      ],
      "text/plain": [
       "smoc2_fibrosis1 smoc2_fibrosis2 smoc2_fibrosis3 smoc2_fibrosis4   smoc2_normal1 \n",
       "      1.4319832       1.1189642       1.2480024       1.0826799       0.7106482 \n",
       "  smoc2_normal3   smoc2_normal4 \n",
       "      0.7989734       0.8482426 "
      ]
     },
     "metadata": {},
     "output_type": "display_data"
    },
    {
     "data": {
      "text/html": [
       "<table class=\"dataframe\">\n",
       "<caption>A matrix: 47729 × 7 of type dbl</caption>\n",
       "<thead>\n",
       "\t<tr><th scope=col>smoc2_fibrosis1</th><th scope=col>smoc2_fibrosis2</th><th scope=col>smoc2_fibrosis3</th><th scope=col>smoc2_fibrosis4</th><th scope=col>smoc2_normal1</th><th scope=col>smoc2_normal3</th><th scope=col>smoc2_normal4</th></tr>\n",
       "</thead>\n",
       "<tbody>\n",
       "\t<tr><td>  0.0000000</td><td>  0.0000000</td><td>  0.0000000</td><td>  0.0000000</td><td>  0.000000</td><td>  0.000000</td><td>  0.000000</td></tr>\n",
       "\t<tr><td>  0.0000000</td><td>  0.0000000</td><td>  0.0000000</td><td>  0.0000000</td><td>  0.000000</td><td>  0.000000</td><td>  0.000000</td></tr>\n",
       "\t<tr><td> 50.2799192</td><td> 45.5778638</td><td> 28.8460994</td><td> 27.7090216</td><td>  0.000000</td><td>  3.754818</td><td>  1.178908</td></tr>\n",
       "\t<tr><td>  0.0000000</td><td>  0.0000000</td><td>  0.0000000</td><td>  0.0000000</td><td>  0.000000</td><td>  0.000000</td><td>  0.000000</td></tr>\n",
       "\t<tr><td>  0.0000000</td><td>  0.0000000</td><td>  0.0000000</td><td>  0.0000000</td><td>  1.407166</td><td>  0.000000</td><td>  0.000000</td></tr>\n",
       "\t<tr><td>  0.0000000</td><td>  0.0000000</td><td>  0.0000000</td><td>  0.0000000</td><td>  0.000000</td><td>  0.000000</td><td>  0.000000</td></tr>\n",
       "\t<tr><td>  0.0000000</td><td>  0.0000000</td><td>  0.0000000</td><td>  0.0000000</td><td>  0.000000</td><td>  0.000000</td><td>  0.000000</td></tr>\n",
       "\t<tr><td>  0.0000000</td><td>  0.0000000</td><td>  0.0000000</td><td>  0.0000000</td><td>  0.000000</td><td>  0.000000</td><td>  0.000000</td></tr>\n",
       "\t<tr><td>  0.0000000</td><td>  0.0000000</td><td>  0.0000000</td><td>  0.0000000</td><td>  0.000000</td><td>  0.000000</td><td>  0.000000</td></tr>\n",
       "\t<tr><td>  0.6983322</td><td>  0.8936836</td><td>  0.8012805</td><td>  0.9236341</td><td>  1.407166</td><td>  0.000000</td><td>  0.000000</td></tr>\n",
       "\t<tr><td>  0.0000000</td><td>  0.0000000</td><td>  0.0000000</td><td>  0.9236341</td><td>  0.000000</td><td>  0.000000</td><td>  0.000000</td></tr>\n",
       "\t<tr><td>  6.2849899</td><td>  2.6810508</td><td>  5.6089638</td><td>  1.8472681</td><td>  1.407166</td><td>  1.251606</td><td>  1.178908</td></tr>\n",
       "\t<tr><td>  0.0000000</td><td>  0.0000000</td><td>  0.0000000</td><td>  0.0000000</td><td>  0.000000</td><td>  0.000000</td><td>  0.000000</td></tr>\n",
       "\t<tr><td>  0.0000000</td><td>  0.0000000</td><td>  0.0000000</td><td>  0.0000000</td><td>  0.000000</td><td>  0.000000</td><td>  0.000000</td></tr>\n",
       "\t<tr><td>  0.0000000</td><td>  0.0000000</td><td>  0.0000000</td><td>  0.0000000</td><td>  0.000000</td><td>  0.000000</td><td>  0.000000</td></tr>\n",
       "\t<tr><td>  0.0000000</td><td>  0.0000000</td><td>  0.0000000</td><td>  0.0000000</td><td>  0.000000</td><td>  0.000000</td><td>  0.000000</td></tr>\n",
       "\t<tr><td>  3.4916611</td><td>  2.6810508</td><td>  7.2115249</td><td>  3.6945362</td><td> 15.478826</td><td> 21.277303</td><td> 30.651608</td></tr>\n",
       "\t<tr><td>  0.0000000</td><td>  0.0000000</td><td>  0.0000000</td><td>  0.0000000</td><td>  0.000000</td><td>  0.000000</td><td>  0.000000</td></tr>\n",
       "\t<tr><td>  0.0000000</td><td>  0.0000000</td><td>  0.0000000</td><td>  0.0000000</td><td>  0.000000</td><td>  0.000000</td><td>  0.000000</td></tr>\n",
       "\t<tr><td>  0.0000000</td><td>  0.0000000</td><td>  0.0000000</td><td>  0.0000000</td><td>  0.000000</td><td>  0.000000</td><td>  0.000000</td></tr>\n",
       "\t<tr><td>339.3894544</td><td>279.7229681</td><td>342.1467905</td><td>237.3739515</td><td>368.677492</td><td>445.571754</td><td>418.512335</td></tr>\n",
       "\t<tr><td>  0.0000000</td><td>  0.8936836</td><td>  0.0000000</td><td>  0.0000000</td><td>  1.407166</td><td>  0.000000</td><td>  0.000000</td></tr>\n",
       "\t<tr><td>  4.8883255</td><td>  4.4684180</td><td>  4.0064027</td><td>  1.8472681</td><td> 16.885992</td><td> 11.264454</td><td>  3.536724</td></tr>\n",
       "\t<tr><td>  1.3966644</td><td>  0.8936836</td><td>  0.0000000</td><td>  0.0000000</td><td>  0.000000</td><td>  1.251606</td><td>  0.000000</td></tr>\n",
       "\t<tr><td>  0.0000000</td><td>  0.0000000</td><td>  0.0000000</td><td>  0.0000000</td><td>  0.000000</td><td>  0.000000</td><td>  0.000000</td></tr>\n",
       "\t<tr><td>  1.3966644</td><td>  0.8936836</td><td>  2.4038416</td><td>  3.6945362</td><td>  4.221498</td><td>  0.000000</td><td>  2.357816</td></tr>\n",
       "\t<tr><td>  0.0000000</td><td>  0.8936836</td><td>  0.0000000</td><td>  0.0000000</td><td>  0.000000</td><td>  0.000000</td><td>  1.178908</td></tr>\n",
       "\t<tr><td>  4.8883255</td><td> 16.0863049</td><td>  8.0128054</td><td>  8.3127065</td><td>  2.814332</td><td>  7.509636</td><td> 12.967988</td></tr>\n",
       "\t<tr><td>  2.0949966</td><td>  4.4684180</td><td>  0.8012805</td><td>  0.0000000</td><td>  0.000000</td><td>  0.000000</td><td>  0.000000</td></tr>\n",
       "\t<tr><td>  0.0000000</td><td>  0.8936836</td><td>  0.8012805</td><td>  0.0000000</td><td>  0.000000</td><td>  0.000000</td><td>  0.000000</td></tr>\n",
       "\t<tr><td>...</td><td>...</td><td>...</td><td>...</td><td>...</td><td>...</td><td>...</td></tr>\n",
       "\t<tr><td>   0.0000000</td><td>   0.000000</td><td>   0.0000000</td><td>   0.0000000</td><td>   0.0000</td><td>   0.0000</td><td>   0.000000</td></tr>\n",
       "\t<tr><td>   0.0000000</td><td>   0.000000</td><td>   0.0000000</td><td>   0.0000000</td><td>   0.0000</td><td>   0.0000</td><td>   0.000000</td></tr>\n",
       "\t<tr><td>   0.0000000</td><td>   0.000000</td><td>   0.0000000</td><td>   0.0000000</td><td>   0.0000</td><td>   0.0000</td><td>   0.000000</td></tr>\n",
       "\t<tr><td>   0.0000000</td><td>   0.000000</td><td>   0.0000000</td><td>   0.0000000</td><td>   0.0000</td><td>   0.0000</td><td>   0.000000</td></tr>\n",
       "\t<tr><td>   0.0000000</td><td>   0.000000</td><td>   0.0000000</td><td>   0.0000000</td><td>   0.0000</td><td>   0.0000</td><td>   0.000000</td></tr>\n",
       "\t<tr><td>   0.0000000</td><td>   0.000000</td><td>   0.0000000</td><td>   0.0000000</td><td>   0.0000</td><td>   0.0000</td><td>   0.000000</td></tr>\n",
       "\t<tr><td>   0.0000000</td><td>   0.000000</td><td>   0.0000000</td><td>   0.0000000</td><td>   0.0000</td><td>   0.0000</td><td>   0.000000</td></tr>\n",
       "\t<tr><td>   0.0000000</td><td>   0.000000</td><td>   0.0000000</td><td>   0.0000000</td><td>   0.0000</td><td>   0.0000</td><td>   0.000000</td></tr>\n",
       "\t<tr><td>   0.0000000</td><td>   0.000000</td><td>   0.0000000</td><td>   0.0000000</td><td>   0.0000</td><td>   0.0000</td><td>   0.000000</td></tr>\n",
       "\t<tr><td>   0.0000000</td><td>   0.000000</td><td>   0.0000000</td><td>   0.0000000</td><td>   0.0000</td><td>   0.0000</td><td>   0.000000</td></tr>\n",
       "\t<tr><td>   0.0000000</td><td>   0.000000</td><td>   0.0000000</td><td>   0.0000000</td><td>   0.0000</td><td>   0.0000</td><td>   0.000000</td></tr>\n",
       "\t<tr><td>   0.0000000</td><td>   0.000000</td><td>   0.0000000</td><td>   0.0000000</td><td>   0.0000</td><td>   0.0000</td><td>   0.000000</td></tr>\n",
       "\t<tr><td>   0.0000000</td><td>   0.000000</td><td>   0.0000000</td><td>   0.0000000</td><td>   0.0000</td><td>   0.0000</td><td>   0.000000</td></tr>\n",
       "\t<tr><td>   0.0000000</td><td>   0.000000</td><td>   0.0000000</td><td>   0.0000000</td><td>   0.0000</td><td>   0.0000</td><td>   0.000000</td></tr>\n",
       "\t<tr><td>   1.3966644</td><td>   0.000000</td><td>   0.0000000</td><td>   0.0000000</td><td>   0.0000</td><td>   0.0000</td><td>   0.000000</td></tr>\n",
       "\t<tr><td>   0.6983322</td><td>   0.000000</td><td>   0.0000000</td><td>   0.0000000</td><td>   0.0000</td><td>   0.0000</td><td>   0.000000</td></tr>\n",
       "\t<tr><td>   0.0000000</td><td>   0.000000</td><td>   0.0000000</td><td>   0.0000000</td><td>   0.0000</td><td>   0.0000</td><td>   0.000000</td></tr>\n",
       "\t<tr><td>   0.0000000</td><td>   0.000000</td><td>   0.0000000</td><td>   0.0000000</td><td>   0.0000</td><td>   0.0000</td><td>   0.000000</td></tr>\n",
       "\t<tr><td>   0.0000000</td><td>   0.000000</td><td>   0.0000000</td><td>   0.0000000</td><td>   0.0000</td><td>   0.0000</td><td>   0.000000</td></tr>\n",
       "\t<tr><td>   0.6983322</td><td>   3.574734</td><td>   0.8012805</td><td>   7.3890724</td><td>   0.0000</td><td>   0.0000</td><td>   0.000000</td></tr>\n",
       "\t<tr><td>4110.3833919</td><td>3521.113400</td><td>3840.5376276</td><td>4067.6843665</td><td>2544.1561</td><td>2055.1371</td><td>1661.081352</td></tr>\n",
       "\t<tr><td> 569.8390839</td><td> 655.070082</td><td> 655.4474816</td><td> 549.5622611</td><td> 716.2475</td><td> 699.6478</td><td> 811.088694</td></tr>\n",
       "\t<tr><td>   0.0000000</td><td>   0.000000</td><td>   0.8012805</td><td>   0.0000000</td><td>   0.0000</td><td>   0.0000</td><td>   0.000000</td></tr>\n",
       "\t<tr><td>   0.0000000</td><td>   0.000000</td><td>   0.0000000</td><td>   0.0000000</td><td>   0.0000</td><td>   0.0000</td><td>   0.000000</td></tr>\n",
       "\t<tr><td>   0.0000000</td><td>   0.000000</td><td>   0.0000000</td><td>   0.0000000</td><td>   0.0000</td><td>   0.0000</td><td>   0.000000</td></tr>\n",
       "\t<tr><td>   0.0000000</td><td>   0.000000</td><td>   0.0000000</td><td>   0.0000000</td><td>   0.0000</td><td>   0.0000</td><td>   0.000000</td></tr>\n",
       "\t<tr><td>   0.0000000</td><td>   0.000000</td><td>   0.0000000</td><td>   0.9236341</td><td>   0.0000</td><td>   0.0000</td><td>   1.178908</td></tr>\n",
       "\t<tr><td>   0.0000000</td><td>   0.000000</td><td>   0.0000000</td><td>   0.0000000</td><td>   0.0000</td><td>   0.0000</td><td>   0.000000</td></tr>\n",
       "\t<tr><td>   0.0000000</td><td>   0.000000</td><td>   0.0000000</td><td>   0.0000000</td><td>   0.0000</td><td>   0.0000</td><td>   0.000000</td></tr>\n",
       "\t<tr><td> 975.5700983</td><td>1026.842461</td><td>1318.9077686</td><td> 621.6057172</td><td> 270.1759</td><td> 287.8694</td><td> 278.222285</td></tr>\n",
       "</tbody>\n",
       "</table>\n"
      ],
      "text/latex": [
       "A matrix: 47729 × 7 of type dbl\n",
       "\\begin{tabular}{lllllll}\n",
       " smoc2\\_fibrosis1 & smoc2\\_fibrosis2 & smoc2\\_fibrosis3 & smoc2\\_fibrosis4 & smoc2\\_normal1 & smoc2\\_normal3 & smoc2\\_normal4\\\\\n",
       "\\hline\n",
       "\t   0.0000000 &   0.0000000 &   0.0000000 &   0.0000000 &   0.000000 &   0.000000 &   0.000000\\\\\n",
       "\t   0.0000000 &   0.0000000 &   0.0000000 &   0.0000000 &   0.000000 &   0.000000 &   0.000000\\\\\n",
       "\t  50.2799192 &  45.5778638 &  28.8460994 &  27.7090216 &   0.000000 &   3.754818 &   1.178908\\\\\n",
       "\t   0.0000000 &   0.0000000 &   0.0000000 &   0.0000000 &   0.000000 &   0.000000 &   0.000000\\\\\n",
       "\t   0.0000000 &   0.0000000 &   0.0000000 &   0.0000000 &   1.407166 &   0.000000 &   0.000000\\\\\n",
       "\t   0.0000000 &   0.0000000 &   0.0000000 &   0.0000000 &   0.000000 &   0.000000 &   0.000000\\\\\n",
       "\t   0.0000000 &   0.0000000 &   0.0000000 &   0.0000000 &   0.000000 &   0.000000 &   0.000000\\\\\n",
       "\t   0.0000000 &   0.0000000 &   0.0000000 &   0.0000000 &   0.000000 &   0.000000 &   0.000000\\\\\n",
       "\t   0.0000000 &   0.0000000 &   0.0000000 &   0.0000000 &   0.000000 &   0.000000 &   0.000000\\\\\n",
       "\t   0.6983322 &   0.8936836 &   0.8012805 &   0.9236341 &   1.407166 &   0.000000 &   0.000000\\\\\n",
       "\t   0.0000000 &   0.0000000 &   0.0000000 &   0.9236341 &   0.000000 &   0.000000 &   0.000000\\\\\n",
       "\t   6.2849899 &   2.6810508 &   5.6089638 &   1.8472681 &   1.407166 &   1.251606 &   1.178908\\\\\n",
       "\t   0.0000000 &   0.0000000 &   0.0000000 &   0.0000000 &   0.000000 &   0.000000 &   0.000000\\\\\n",
       "\t   0.0000000 &   0.0000000 &   0.0000000 &   0.0000000 &   0.000000 &   0.000000 &   0.000000\\\\\n",
       "\t   0.0000000 &   0.0000000 &   0.0000000 &   0.0000000 &   0.000000 &   0.000000 &   0.000000\\\\\n",
       "\t   0.0000000 &   0.0000000 &   0.0000000 &   0.0000000 &   0.000000 &   0.000000 &   0.000000\\\\\n",
       "\t   3.4916611 &   2.6810508 &   7.2115249 &   3.6945362 &  15.478826 &  21.277303 &  30.651608\\\\\n",
       "\t   0.0000000 &   0.0000000 &   0.0000000 &   0.0000000 &   0.000000 &   0.000000 &   0.000000\\\\\n",
       "\t   0.0000000 &   0.0000000 &   0.0000000 &   0.0000000 &   0.000000 &   0.000000 &   0.000000\\\\\n",
       "\t   0.0000000 &   0.0000000 &   0.0000000 &   0.0000000 &   0.000000 &   0.000000 &   0.000000\\\\\n",
       "\t 339.3894544 & 279.7229681 & 342.1467905 & 237.3739515 & 368.677492 & 445.571754 & 418.512335\\\\\n",
       "\t   0.0000000 &   0.8936836 &   0.0000000 &   0.0000000 &   1.407166 &   0.000000 &   0.000000\\\\\n",
       "\t   4.8883255 &   4.4684180 &   4.0064027 &   1.8472681 &  16.885992 &  11.264454 &   3.536724\\\\\n",
       "\t   1.3966644 &   0.8936836 &   0.0000000 &   0.0000000 &   0.000000 &   1.251606 &   0.000000\\\\\n",
       "\t   0.0000000 &   0.0000000 &   0.0000000 &   0.0000000 &   0.000000 &   0.000000 &   0.000000\\\\\n",
       "\t   1.3966644 &   0.8936836 &   2.4038416 &   3.6945362 &   4.221498 &   0.000000 &   2.357816\\\\\n",
       "\t   0.0000000 &   0.8936836 &   0.0000000 &   0.0000000 &   0.000000 &   0.000000 &   1.178908\\\\\n",
       "\t   4.8883255 &  16.0863049 &   8.0128054 &   8.3127065 &   2.814332 &   7.509636 &  12.967988\\\\\n",
       "\t   2.0949966 &   4.4684180 &   0.8012805 &   0.0000000 &   0.000000 &   0.000000 &   0.000000\\\\\n",
       "\t   0.0000000 &   0.8936836 &   0.8012805 &   0.0000000 &   0.000000 &   0.000000 &   0.000000\\\\\n",
       "\t ... & ... & ... & ... & ... & ... & ...\\\\\n",
       "\t    0.0000000 &    0.000000 &    0.0000000 &    0.0000000 &    0.0000 &    0.0000 &    0.000000\\\\\n",
       "\t    0.0000000 &    0.000000 &    0.0000000 &    0.0000000 &    0.0000 &    0.0000 &    0.000000\\\\\n",
       "\t    0.0000000 &    0.000000 &    0.0000000 &    0.0000000 &    0.0000 &    0.0000 &    0.000000\\\\\n",
       "\t    0.0000000 &    0.000000 &    0.0000000 &    0.0000000 &    0.0000 &    0.0000 &    0.000000\\\\\n",
       "\t    0.0000000 &    0.000000 &    0.0000000 &    0.0000000 &    0.0000 &    0.0000 &    0.000000\\\\\n",
       "\t    0.0000000 &    0.000000 &    0.0000000 &    0.0000000 &    0.0000 &    0.0000 &    0.000000\\\\\n",
       "\t    0.0000000 &    0.000000 &    0.0000000 &    0.0000000 &    0.0000 &    0.0000 &    0.000000\\\\\n",
       "\t    0.0000000 &    0.000000 &    0.0000000 &    0.0000000 &    0.0000 &    0.0000 &    0.000000\\\\\n",
       "\t    0.0000000 &    0.000000 &    0.0000000 &    0.0000000 &    0.0000 &    0.0000 &    0.000000\\\\\n",
       "\t    0.0000000 &    0.000000 &    0.0000000 &    0.0000000 &    0.0000 &    0.0000 &    0.000000\\\\\n",
       "\t    0.0000000 &    0.000000 &    0.0000000 &    0.0000000 &    0.0000 &    0.0000 &    0.000000\\\\\n",
       "\t    0.0000000 &    0.000000 &    0.0000000 &    0.0000000 &    0.0000 &    0.0000 &    0.000000\\\\\n",
       "\t    0.0000000 &    0.000000 &    0.0000000 &    0.0000000 &    0.0000 &    0.0000 &    0.000000\\\\\n",
       "\t    0.0000000 &    0.000000 &    0.0000000 &    0.0000000 &    0.0000 &    0.0000 &    0.000000\\\\\n",
       "\t    1.3966644 &    0.000000 &    0.0000000 &    0.0000000 &    0.0000 &    0.0000 &    0.000000\\\\\n",
       "\t    0.6983322 &    0.000000 &    0.0000000 &    0.0000000 &    0.0000 &    0.0000 &    0.000000\\\\\n",
       "\t    0.0000000 &    0.000000 &    0.0000000 &    0.0000000 &    0.0000 &    0.0000 &    0.000000\\\\\n",
       "\t    0.0000000 &    0.000000 &    0.0000000 &    0.0000000 &    0.0000 &    0.0000 &    0.000000\\\\\n",
       "\t    0.0000000 &    0.000000 &    0.0000000 &    0.0000000 &    0.0000 &    0.0000 &    0.000000\\\\\n",
       "\t    0.6983322 &    3.574734 &    0.8012805 &    7.3890724 &    0.0000 &    0.0000 &    0.000000\\\\\n",
       "\t 4110.3833919 & 3521.113400 & 3840.5376276 & 4067.6843665 & 2544.1561 & 2055.1371 & 1661.081352\\\\\n",
       "\t  569.8390839 &  655.070082 &  655.4474816 &  549.5622611 &  716.2475 &  699.6478 &  811.088694\\\\\n",
       "\t    0.0000000 &    0.000000 &    0.8012805 &    0.0000000 &    0.0000 &    0.0000 &    0.000000\\\\\n",
       "\t    0.0000000 &    0.000000 &    0.0000000 &    0.0000000 &    0.0000 &    0.0000 &    0.000000\\\\\n",
       "\t    0.0000000 &    0.000000 &    0.0000000 &    0.0000000 &    0.0000 &    0.0000 &    0.000000\\\\\n",
       "\t    0.0000000 &    0.000000 &    0.0000000 &    0.0000000 &    0.0000 &    0.0000 &    0.000000\\\\\n",
       "\t    0.0000000 &    0.000000 &    0.0000000 &    0.9236341 &    0.0000 &    0.0000 &    1.178908\\\\\n",
       "\t    0.0000000 &    0.000000 &    0.0000000 &    0.0000000 &    0.0000 &    0.0000 &    0.000000\\\\\n",
       "\t    0.0000000 &    0.000000 &    0.0000000 &    0.0000000 &    0.0000 &    0.0000 &    0.000000\\\\\n",
       "\t  975.5700983 & 1026.842461 & 1318.9077686 &  621.6057172 &  270.1759 &  287.8694 &  278.222285\\\\\n",
       "\\end{tabular}\n"
      ],
      "text/markdown": [
       "\n",
       "A matrix: 47729 × 7 of type dbl\n",
       "\n",
       "| smoc2_fibrosis1 | smoc2_fibrosis2 | smoc2_fibrosis3 | smoc2_fibrosis4 | smoc2_normal1 | smoc2_normal3 | smoc2_normal4 |\n",
       "|---|---|---|---|---|---|---|\n",
       "|   0.0000000 |   0.0000000 |   0.0000000 |   0.0000000 |   0.000000 |   0.000000 |   0.000000 |\n",
       "|   0.0000000 |   0.0000000 |   0.0000000 |   0.0000000 |   0.000000 |   0.000000 |   0.000000 |\n",
       "|  50.2799192 |  45.5778638 |  28.8460994 |  27.7090216 |   0.000000 |   3.754818 |   1.178908 |\n",
       "|   0.0000000 |   0.0000000 |   0.0000000 |   0.0000000 |   0.000000 |   0.000000 |   0.000000 |\n",
       "|   0.0000000 |   0.0000000 |   0.0000000 |   0.0000000 |   1.407166 |   0.000000 |   0.000000 |\n",
       "|   0.0000000 |   0.0000000 |   0.0000000 |   0.0000000 |   0.000000 |   0.000000 |   0.000000 |\n",
       "|   0.0000000 |   0.0000000 |   0.0000000 |   0.0000000 |   0.000000 |   0.000000 |   0.000000 |\n",
       "|   0.0000000 |   0.0000000 |   0.0000000 |   0.0000000 |   0.000000 |   0.000000 |   0.000000 |\n",
       "|   0.0000000 |   0.0000000 |   0.0000000 |   0.0000000 |   0.000000 |   0.000000 |   0.000000 |\n",
       "|   0.6983322 |   0.8936836 |   0.8012805 |   0.9236341 |   1.407166 |   0.000000 |   0.000000 |\n",
       "|   0.0000000 |   0.0000000 |   0.0000000 |   0.9236341 |   0.000000 |   0.000000 |   0.000000 |\n",
       "|   6.2849899 |   2.6810508 |   5.6089638 |   1.8472681 |   1.407166 |   1.251606 |   1.178908 |\n",
       "|   0.0000000 |   0.0000000 |   0.0000000 |   0.0000000 |   0.000000 |   0.000000 |   0.000000 |\n",
       "|   0.0000000 |   0.0000000 |   0.0000000 |   0.0000000 |   0.000000 |   0.000000 |   0.000000 |\n",
       "|   0.0000000 |   0.0000000 |   0.0000000 |   0.0000000 |   0.000000 |   0.000000 |   0.000000 |\n",
       "|   0.0000000 |   0.0000000 |   0.0000000 |   0.0000000 |   0.000000 |   0.000000 |   0.000000 |\n",
       "|   3.4916611 |   2.6810508 |   7.2115249 |   3.6945362 |  15.478826 |  21.277303 |  30.651608 |\n",
       "|   0.0000000 |   0.0000000 |   0.0000000 |   0.0000000 |   0.000000 |   0.000000 |   0.000000 |\n",
       "|   0.0000000 |   0.0000000 |   0.0000000 |   0.0000000 |   0.000000 |   0.000000 |   0.000000 |\n",
       "|   0.0000000 |   0.0000000 |   0.0000000 |   0.0000000 |   0.000000 |   0.000000 |   0.000000 |\n",
       "| 339.3894544 | 279.7229681 | 342.1467905 | 237.3739515 | 368.677492 | 445.571754 | 418.512335 |\n",
       "|   0.0000000 |   0.8936836 |   0.0000000 |   0.0000000 |   1.407166 |   0.000000 |   0.000000 |\n",
       "|   4.8883255 |   4.4684180 |   4.0064027 |   1.8472681 |  16.885992 |  11.264454 |   3.536724 |\n",
       "|   1.3966644 |   0.8936836 |   0.0000000 |   0.0000000 |   0.000000 |   1.251606 |   0.000000 |\n",
       "|   0.0000000 |   0.0000000 |   0.0000000 |   0.0000000 |   0.000000 |   0.000000 |   0.000000 |\n",
       "|   1.3966644 |   0.8936836 |   2.4038416 |   3.6945362 |   4.221498 |   0.000000 |   2.357816 |\n",
       "|   0.0000000 |   0.8936836 |   0.0000000 |   0.0000000 |   0.000000 |   0.000000 |   1.178908 |\n",
       "|   4.8883255 |  16.0863049 |   8.0128054 |   8.3127065 |   2.814332 |   7.509636 |  12.967988 |\n",
       "|   2.0949966 |   4.4684180 |   0.8012805 |   0.0000000 |   0.000000 |   0.000000 |   0.000000 |\n",
       "|   0.0000000 |   0.8936836 |   0.8012805 |   0.0000000 |   0.000000 |   0.000000 |   0.000000 |\n",
       "| ... | ... | ... | ... | ... | ... | ... |\n",
       "|    0.0000000 |    0.000000 |    0.0000000 |    0.0000000 |    0.0000 |    0.0000 |    0.000000 |\n",
       "|    0.0000000 |    0.000000 |    0.0000000 |    0.0000000 |    0.0000 |    0.0000 |    0.000000 |\n",
       "|    0.0000000 |    0.000000 |    0.0000000 |    0.0000000 |    0.0000 |    0.0000 |    0.000000 |\n",
       "|    0.0000000 |    0.000000 |    0.0000000 |    0.0000000 |    0.0000 |    0.0000 |    0.000000 |\n",
       "|    0.0000000 |    0.000000 |    0.0000000 |    0.0000000 |    0.0000 |    0.0000 |    0.000000 |\n",
       "|    0.0000000 |    0.000000 |    0.0000000 |    0.0000000 |    0.0000 |    0.0000 |    0.000000 |\n",
       "|    0.0000000 |    0.000000 |    0.0000000 |    0.0000000 |    0.0000 |    0.0000 |    0.000000 |\n",
       "|    0.0000000 |    0.000000 |    0.0000000 |    0.0000000 |    0.0000 |    0.0000 |    0.000000 |\n",
       "|    0.0000000 |    0.000000 |    0.0000000 |    0.0000000 |    0.0000 |    0.0000 |    0.000000 |\n",
       "|    0.0000000 |    0.000000 |    0.0000000 |    0.0000000 |    0.0000 |    0.0000 |    0.000000 |\n",
       "|    0.0000000 |    0.000000 |    0.0000000 |    0.0000000 |    0.0000 |    0.0000 |    0.000000 |\n",
       "|    0.0000000 |    0.000000 |    0.0000000 |    0.0000000 |    0.0000 |    0.0000 |    0.000000 |\n",
       "|    0.0000000 |    0.000000 |    0.0000000 |    0.0000000 |    0.0000 |    0.0000 |    0.000000 |\n",
       "|    0.0000000 |    0.000000 |    0.0000000 |    0.0000000 |    0.0000 |    0.0000 |    0.000000 |\n",
       "|    1.3966644 |    0.000000 |    0.0000000 |    0.0000000 |    0.0000 |    0.0000 |    0.000000 |\n",
       "|    0.6983322 |    0.000000 |    0.0000000 |    0.0000000 |    0.0000 |    0.0000 |    0.000000 |\n",
       "|    0.0000000 |    0.000000 |    0.0000000 |    0.0000000 |    0.0000 |    0.0000 |    0.000000 |\n",
       "|    0.0000000 |    0.000000 |    0.0000000 |    0.0000000 |    0.0000 |    0.0000 |    0.000000 |\n",
       "|    0.0000000 |    0.000000 |    0.0000000 |    0.0000000 |    0.0000 |    0.0000 |    0.000000 |\n",
       "|    0.6983322 |    3.574734 |    0.8012805 |    7.3890724 |    0.0000 |    0.0000 |    0.000000 |\n",
       "| 4110.3833919 | 3521.113400 | 3840.5376276 | 4067.6843665 | 2544.1561 | 2055.1371 | 1661.081352 |\n",
       "|  569.8390839 |  655.070082 |  655.4474816 |  549.5622611 |  716.2475 |  699.6478 |  811.088694 |\n",
       "|    0.0000000 |    0.000000 |    0.8012805 |    0.0000000 |    0.0000 |    0.0000 |    0.000000 |\n",
       "|    0.0000000 |    0.000000 |    0.0000000 |    0.0000000 |    0.0000 |    0.0000 |    0.000000 |\n",
       "|    0.0000000 |    0.000000 |    0.0000000 |    0.0000000 |    0.0000 |    0.0000 |    0.000000 |\n",
       "|    0.0000000 |    0.000000 |    0.0000000 |    0.0000000 |    0.0000 |    0.0000 |    0.000000 |\n",
       "|    0.0000000 |    0.000000 |    0.0000000 |    0.9236341 |    0.0000 |    0.0000 |    1.178908 |\n",
       "|    0.0000000 |    0.000000 |    0.0000000 |    0.0000000 |    0.0000 |    0.0000 |    0.000000 |\n",
       "|    0.0000000 |    0.000000 |    0.0000000 |    0.0000000 |    0.0000 |    0.0000 |    0.000000 |\n",
       "|  975.5700983 | 1026.842461 | 1318.9077686 |  621.6057172 |  270.1759 |  287.8694 |  278.222285 |\n",
       "\n"
      ],
      "text/plain": [
       "      smoc2_fibrosis1 smoc2_fibrosis2 smoc2_fibrosis3 smoc2_fibrosis4\n",
       " [1,]   0.0000000       0.0000000       0.0000000       0.0000000    \n",
       " [2,]   0.0000000       0.0000000       0.0000000       0.0000000    \n",
       " [3,]  50.2799192      45.5778638      28.8460994      27.7090216    \n",
       " [4,]   0.0000000       0.0000000       0.0000000       0.0000000    \n",
       " [5,]   0.0000000       0.0000000       0.0000000       0.0000000    \n",
       " [6,]   0.0000000       0.0000000       0.0000000       0.0000000    \n",
       " [7,]   0.0000000       0.0000000       0.0000000       0.0000000    \n",
       " [8,]   0.0000000       0.0000000       0.0000000       0.0000000    \n",
       " [9,]   0.0000000       0.0000000       0.0000000       0.0000000    \n",
       "[10,]   0.6983322       0.8936836       0.8012805       0.9236341    \n",
       "[11,]   0.0000000       0.0000000       0.0000000       0.9236341    \n",
       "[12,]   6.2849899       2.6810508       5.6089638       1.8472681    \n",
       "[13,]   0.0000000       0.0000000       0.0000000       0.0000000    \n",
       "[14,]   0.0000000       0.0000000       0.0000000       0.0000000    \n",
       "[15,]   0.0000000       0.0000000       0.0000000       0.0000000    \n",
       "[16,]   0.0000000       0.0000000       0.0000000       0.0000000    \n",
       "[17,]   3.4916611       2.6810508       7.2115249       3.6945362    \n",
       "[18,]   0.0000000       0.0000000       0.0000000       0.0000000    \n",
       "[19,]   0.0000000       0.0000000       0.0000000       0.0000000    \n",
       "[20,]   0.0000000       0.0000000       0.0000000       0.0000000    \n",
       "[21,] 339.3894544     279.7229681     342.1467905     237.3739515    \n",
       "[22,]   0.0000000       0.8936836       0.0000000       0.0000000    \n",
       "[23,]   4.8883255       4.4684180       4.0064027       1.8472681    \n",
       "[24,]   1.3966644       0.8936836       0.0000000       0.0000000    \n",
       "[25,]   0.0000000       0.0000000       0.0000000       0.0000000    \n",
       "[26,]   1.3966644       0.8936836       2.4038416       3.6945362    \n",
       "[27,]   0.0000000       0.8936836       0.0000000       0.0000000    \n",
       "[28,]   4.8883255      16.0863049       8.0128054       8.3127065    \n",
       "[29,]   2.0949966       4.4684180       0.8012805       0.0000000    \n",
       "[30,]   0.0000000       0.8936836       0.8012805       0.0000000    \n",
       "[31,] ...             ...             ...             ...            \n",
       "[32,]    0.0000000       0.000000        0.0000000       0.0000000   \n",
       "[33,]    0.0000000       0.000000        0.0000000       0.0000000   \n",
       "[34,]    0.0000000       0.000000        0.0000000       0.0000000   \n",
       "[35,]    0.0000000       0.000000        0.0000000       0.0000000   \n",
       "[36,]    0.0000000       0.000000        0.0000000       0.0000000   \n",
       "[37,]    0.0000000       0.000000        0.0000000       0.0000000   \n",
       "[38,]    0.0000000       0.000000        0.0000000       0.0000000   \n",
       "[39,]    0.0000000       0.000000        0.0000000       0.0000000   \n",
       "[40,]    0.0000000       0.000000        0.0000000       0.0000000   \n",
       "[41,]    0.0000000       0.000000        0.0000000       0.0000000   \n",
       "[42,]    0.0000000       0.000000        0.0000000       0.0000000   \n",
       "[43,]    0.0000000       0.000000        0.0000000       0.0000000   \n",
       "[44,]    0.0000000       0.000000        0.0000000       0.0000000   \n",
       "[45,]    0.0000000       0.000000        0.0000000       0.0000000   \n",
       "[46,]    1.3966644       0.000000        0.0000000       0.0000000   \n",
       "[47,]    0.6983322       0.000000        0.0000000       0.0000000   \n",
       "[48,]    0.0000000       0.000000        0.0000000       0.0000000   \n",
       "[49,]    0.0000000       0.000000        0.0000000       0.0000000   \n",
       "[50,]    0.0000000       0.000000        0.0000000       0.0000000   \n",
       "[51,]    0.6983322       3.574734        0.8012805       7.3890724   \n",
       "[52,] 4110.3833919    3521.113400     3840.5376276    4067.6843665   \n",
       "[53,]  569.8390839     655.070082      655.4474816     549.5622611   \n",
       "[54,]    0.0000000       0.000000        0.8012805       0.0000000   \n",
       "[55,]    0.0000000       0.000000        0.0000000       0.0000000   \n",
       "[56,]    0.0000000       0.000000        0.0000000       0.0000000   \n",
       "[57,]    0.0000000       0.000000        0.0000000       0.0000000   \n",
       "[58,]    0.0000000       0.000000        0.0000000       0.9236341   \n",
       "[59,]    0.0000000       0.000000        0.0000000       0.0000000   \n",
       "[60,]    0.0000000       0.000000        0.0000000       0.0000000   \n",
       "[61,]  975.5700983    1026.842461     1318.9077686     621.6057172   \n",
       "      smoc2_normal1 smoc2_normal3 smoc2_normal4\n",
       " [1,]   0.000000      0.000000      0.000000   \n",
       " [2,]   0.000000      0.000000      0.000000   \n",
       " [3,]   0.000000      3.754818      1.178908   \n",
       " [4,]   0.000000      0.000000      0.000000   \n",
       " [5,]   1.407166      0.000000      0.000000   \n",
       " [6,]   0.000000      0.000000      0.000000   \n",
       " [7,]   0.000000      0.000000      0.000000   \n",
       " [8,]   0.000000      0.000000      0.000000   \n",
       " [9,]   0.000000      0.000000      0.000000   \n",
       "[10,]   1.407166      0.000000      0.000000   \n",
       "[11,]   0.000000      0.000000      0.000000   \n",
       "[12,]   1.407166      1.251606      1.178908   \n",
       "[13,]   0.000000      0.000000      0.000000   \n",
       "[14,]   0.000000      0.000000      0.000000   \n",
       "[15,]   0.000000      0.000000      0.000000   \n",
       "[16,]   0.000000      0.000000      0.000000   \n",
       "[17,]  15.478826     21.277303     30.651608   \n",
       "[18,]   0.000000      0.000000      0.000000   \n",
       "[19,]   0.000000      0.000000      0.000000   \n",
       "[20,]   0.000000      0.000000      0.000000   \n",
       "[21,] 368.677492    445.571754    418.512335   \n",
       "[22,]   1.407166      0.000000      0.000000   \n",
       "[23,]  16.885992     11.264454      3.536724   \n",
       "[24,]   0.000000      1.251606      0.000000   \n",
       "[25,]   0.000000      0.000000      0.000000   \n",
       "[26,]   4.221498      0.000000      2.357816   \n",
       "[27,]   0.000000      0.000000      1.178908   \n",
       "[28,]   2.814332      7.509636     12.967988   \n",
       "[29,]   0.000000      0.000000      0.000000   \n",
       "[30,]   0.000000      0.000000      0.000000   \n",
       "[31,] ...           ...           ...          \n",
       "[32,]    0.0000        0.0000        0.000000  \n",
       "[33,]    0.0000        0.0000        0.000000  \n",
       "[34,]    0.0000        0.0000        0.000000  \n",
       "[35,]    0.0000        0.0000        0.000000  \n",
       "[36,]    0.0000        0.0000        0.000000  \n",
       "[37,]    0.0000        0.0000        0.000000  \n",
       "[38,]    0.0000        0.0000        0.000000  \n",
       "[39,]    0.0000        0.0000        0.000000  \n",
       "[40,]    0.0000        0.0000        0.000000  \n",
       "[41,]    0.0000        0.0000        0.000000  \n",
       "[42,]    0.0000        0.0000        0.000000  \n",
       "[43,]    0.0000        0.0000        0.000000  \n",
       "[44,]    0.0000        0.0000        0.000000  \n",
       "[45,]    0.0000        0.0000        0.000000  \n",
       "[46,]    0.0000        0.0000        0.000000  \n",
       "[47,]    0.0000        0.0000        0.000000  \n",
       "[48,]    0.0000        0.0000        0.000000  \n",
       "[49,]    0.0000        0.0000        0.000000  \n",
       "[50,]    0.0000        0.0000        0.000000  \n",
       "[51,]    0.0000        0.0000        0.000000  \n",
       "[52,] 2544.1561     2055.1371     1661.081352  \n",
       "[53,]  716.2475      699.6478      811.088694  \n",
       "[54,]    0.0000        0.0000        0.000000  \n",
       "[55,]    0.0000        0.0000        0.000000  \n",
       "[56,]    0.0000        0.0000        0.000000  \n",
       "[57,]    0.0000        0.0000        0.000000  \n",
       "[58,]    0.0000        0.0000        1.178908  \n",
       "[59,]    0.0000        0.0000        0.000000  \n",
       "[60,]    0.0000        0.0000        0.000000  \n",
       "[61,]  270.1759      287.8694      278.222285  "
      ]
     },
     "metadata": {},
     "output_type": "display_data"
    }
   ],
   "source": [
    "# Determine the size factors to use for normalization\n",
    "dds_smoc2 <- estimateSizeFactors(dds_smoc2)\n",
    "\n",
    "# Show Size Factors\n",
    "sizeFactors(dds_smoc2)\n",
    "\n",
    "# Extract the normalized counts\n",
    "smoc2_normalized_counts <- counts(dds_smoc2, normalized = TRUE)\n",
    "smoc2_normalized_counts "
   ]
  },
  {
   "cell_type": "markdown",
   "metadata": {},
   "source": [
    "### Hierarchical heatmap by condition\n",
    "When performing quality assessment of our count data, we need to transform the normalized counts for better visualization of the variance for unsupervised clustering analyses. To assess the similarity of the `smoc2` samples using hierarchical heatmaps, transform the normalized counts and perform hierarchical clustering analysis. Assume all libraries have been loaded, the DESeq2 object created, and the size factors have been stored in the DESeq2 object, `dds_smoc2`.\n",
    "\n",
    "- Transform the normalized counts from the dds_smoc2 object using the vst() function with the blind argument and save to vsd_smoc2.\n",
    "- Extract the matrix of transformed normalized counts from the vsd_smoc2 object using the assay() function and save as vsd_mat_smoc2.\n",
    "- Calculate the correlation values between samples and save to vsd_cor_smoc2.\n",
    "- Create a heatmap of the correlation values using pheatmap() with an annotation bar designating condition from the smoc2_metadata data frame."
   ]
  },
  {
   "cell_type": "code",
   "execution_count": 21,
   "metadata": {},
   "outputs": [
    {
     "data": {
      "image/png": "[encoded data removed]",
      "text/plain": [
       "plot without title"
      ]
     },
     "metadata": {
      "image/png": {
       "height": 420,
       "width": 420
      }
     },
     "output_type": "display_data"
    }
   ],
   "source": [
    "# Transform the normalized counts \n",
    "vsd_smoc2 <- vst(dds_smoc2, blind = TRUE)\n",
    "\n",
    "# Extract the matrix of transformed counts\n",
    "vsd_mat_smoc2 <- assay(vsd_smoc2)\n",
    "\n",
    "# Compute the correlation values between samples\n",
    "vsd_cor_smoc2 <- cor(vsd_mat_smoc2) \n",
    "\n",
    "# Plot the heatmap\n",
    "pheatmap(vsd_cor_smoc2, annotation = select(smoc2_metadata, condition))"
   ]
  },
  {
   "cell_type": "markdown",
   "metadata": {},
   "source": [
    "### PCA analysis\n",
    "\n",
    "To continue with the quality assessment of our samples, in the first part of this exercise, we will perform PCA to look how our samples cluster and whether our condition of interest corresponds with the principal components explaining the most variation in the data. In the second part, we will answer questions about the PCA plot.\n",
    "\n",
    "To assess the similarity of the `smoc2` samples using PCA, we need to transform the normalized counts then perform the PCA analysis. Assume all libraries have been loaded, the DESeq2 object created, and the size factors have been stored in the DESeq2 object, `dds_smoc2`."
   ]
  },
  {
   "cell_type": "code",
   "execution_count": 22,
   "metadata": {},
   "outputs": [
    {
     "data": {
      "image/png": "[encoded data removed]",
      "text/plain": [
       "plot without title"
      ]
     },
     "metadata": {
      "image/png": {
       "height": 420,
       "width": 420
      }
     },
     "output_type": "display_data"
    }
   ],
   "source": [
    " # Transform the normalized counts \n",
    "vsd_smoc2 <- vst(dds_smoc2, blind = TRUE)\n",
    "\n",
    "# Plot the PCA of PC1 and PC2\n",
    "plotPCA(vsd_smoc2, intgroup=\"condition\")"
   ]
  },
  {
   "cell_type": "markdown",
   "metadata": {},
   "source": [
    "### Creating the DE object\n",
    "Using our `smoc2` overexpression samples, create the `DESeq2` object such that the design formula specifies the comparison of the expression differences between the fibrosis and normal samples. The metadata for the experiment is displayed below. We have the data read in with the samples in the same order for the smoc2 raw counts, `reordered_smoc2_rawcounts`, and the metadata, `smoc2_metadata`."
   ]
  },
  {
   "cell_type": "code",
   "execution_count": 10,
   "metadata": {},
   "outputs": [
    {
     "name": "stderr",
     "output_type": "stream",
     "text": [
      "Warning message in DESeqDataSet(se, design = design, ignoreRank):\n",
      "\"some variables in design formula are characters, converting to factors\"\n",
      "estimating size factors\n",
      "\n",
      "estimating dispersions\n",
      "\n",
      "gene-wise dispersion estimates\n",
      "\n",
      "mean-dispersion relationship\n",
      "\n",
      "final dispersion estimates\n",
      "\n",
      "fitting model and testing\n",
      "\n"
     ]
    }
   ],
   "source": [
    "# Create DESeq2 object\n",
    "dds_smoc2 <- DESeqDataSetFromMatrix(countData = reordered_smoc2_rawcounts,\n",
    "                 colData = smoc2_metadata,\n",
    "                 design = ~ condition)\n",
    "\n",
    "# Run the DESeq2 analysis\n",
    "dds_smoc2 <- DESeq(dds_smoc2)"
   ]
  },
  {
   "cell_type": "markdown",
   "metadata": {},
   "source": [
    "### DESeq2 model - exploring dispersions\n",
    "\n",
    "After fitting the model in the previous exercise, let's explore the fit of our smoc2 data to the negative binomial model by plotting the dispersion estimates using the `plotDispEsts()` function. Remember that the dispersion estimates are used to model the raw counts; if the dispersions don't follow the assumptions made by DESeq2, then the variation in the data could be poorly estimated and the DE results could be less accurate.\n",
    "\n",
    "The assumptions DESeq2 makes are that the dispersions should generally decrease with increasing mean and that they should more or less follow the fitted line.\n",
    "\n",
    "- Plot the dispersion estimates for the smoc2 data using the `plotDispEsts()` function. Assume all prior steps have been executed, including the creation of the DESeq2 object, `dds_smoc2` and running the DESeq() function."
   ]
  },
  {
   "cell_type": "code",
   "execution_count": 11,
   "metadata": {},
   "outputs": [
    {
     "data": {
      "image/png": "[encoded data removed]",
      "text/plain": [
       "plot without title"
      ]
     },
     "metadata": {
      "image/png": {
       "height": 420,
       "width": 420
      }
     },
     "output_type": "display_data"
    }
   ],
   "source": [
    "# Plot dispersions\n",
    "plotDispEsts(dds_smoc2)"
   ]
  },
  {
   "cell_type": "code",
   "execution_count": null,
   "metadata": {},
   "outputs": [],
   "source": []
  }
 ],
 "metadata": {
  "kernelspec": {
   "display_name": "R",
   "language": "R",
   "name": "python3102jvsc74a57bd055db829a23e27f1a4129460ab65de434bf1fc9efa4ae0ce0afb72d96498ad818"
  },
  "language_info": {
   "codemirror_mode": "r",
   "file_extension": ".r",
   "mimetype": "text/x-r-source",
   "name": "R",
   "pygments_lexer": "r",
   "version": "4.1.2"
  },
  "orig_nbformat": 4
 },
 "nbformat": 4,
 "nbformat_minor": 2
}
