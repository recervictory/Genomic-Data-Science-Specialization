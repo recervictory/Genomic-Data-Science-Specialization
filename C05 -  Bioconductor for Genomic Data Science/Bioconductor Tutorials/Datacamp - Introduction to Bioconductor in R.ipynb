{
 "cells": [
  {
   "cell_type": "markdown",
   "metadata": {},
   "source": [
    "# Datacamp: Introduction to Bioconductor in R"
   ]
  },
  {
   "cell_type": "markdown",
   "metadata": {},
   "source": [
    "## What is Bioconductor?\n",
    "In this chapter you will get hands-on with Bioconductor. Bioconductor is the specialized repository for bioinformatics software, developed and maintained by the R community. You will learn how to install and use bioconductor packages. You will be introduced to S4 objects and functions, because most packages within Bioconductor inherit from S4. Additionally, you will use a real genomic dataset of a fungus to explore the BSgenome package."
   ]
  },
  {
   "cell_type": "markdown",
   "metadata": {},
   "source": [
    "### Bioconductor version"
   ]
  },
  {
   "cell_type": "code",
   "execution_count": 1,
   "metadata": {},
   "outputs": [
    {
     "data": {
      "text/plain": [
       "               _                           \n",
       "platform       x86_64-w64-mingw32          \n",
       "arch           x86_64                      \n",
       "os             mingw32                     \n",
       "system         x86_64, mingw32             \n",
       "status                                     \n",
       "major          4                           \n",
       "minor          1.2                         \n",
       "year           2021                        \n",
       "month          11                          \n",
       "day            01                          \n",
       "svn rev        81115                       \n",
       "language       R                           \n",
       "version.string R version 4.1.2 (2021-11-01)\n",
       "nickname       Bird Hippie                 "
      ]
     },
     "metadata": {},
     "output_type": "display_data"
    },
    {
     "data": {
      "text/plain": [
       "R version 4.1.2 (2021-11-01)\n",
       "Platform: x86_64-w64-mingw32/x64 (64-bit)\n",
       "Running under: Windows 10 x64 (build 22538)\n",
       "\n",
       "Matrix products: default\n",
       "\n",
       "locale:\n",
       "[1] LC_COLLATE=English_United States.1252 \n",
       "[2] LC_CTYPE=English_United States.1252   \n",
       "[3] LC_MONETARY=English_United States.1252\n",
       "[4] LC_NUMERIC=C                          \n",
       "[5] LC_TIME=English_United States.1252    \n",
       "\n",
       "attached base packages:\n",
       "[1] stats     graphics  grDevices utils     datasets  methods   base     \n",
       "\n",
       "loaded via a namespace (and not attached):\n",
       " [1] fansi_0.5.0     digest_0.6.27   utf8_1.2.2      crayon_1.4.1   \n",
       " [5] IRdisplay_1.1   repr_1.1.3      lifecycle_1.0.1 jsonlite_1.7.2 \n",
       " [9] evaluate_0.14   pillar_1.6.3    rlang_0.4.11    uuid_0.1-4     \n",
       "[13] vctrs_0.3.8     ellipsis_0.3.2  IRkernel_1.3    tools_4.1.2    \n",
       "[17] fastmap_1.1.0   compiler_4.1.2  base64enc_0.1-3 pbdZMQ_0.3-6   \n",
       "[21] htmltools_0.5.2"
      ]
     },
     "metadata": {},
     "output_type": "display_data"
    }
   ],
   "source": [
    "# Check R version\n",
    "R.version\n",
    "\n",
    "# Sessoion Info\n",
    "sessionInfo()"
   ]
  },
  {
   "cell_type": "markdown",
   "metadata": {},
   "source": [
    "### BioManager to install packages\n",
    "BSgenome is a Bioconductor data package that contains representations of several genomes. This package has already been installed for you, as installing the dependencies usually takes some time, using the following code:\n"
   ]
  },
  {
   "cell_type": "code",
   "execution_count": 3,
   "metadata": {},
   "outputs": [
    {
     "name": "stderr",
     "output_type": "stream",
     "text": [
      "'getOption(\"repos\")' replaces Bioconductor standard repositories, see\n",
      "'?repositories' for details\n",
      "\n",
      "replacement repositories:\n",
      "    CRAN: https://cran.r-project.org\n",
      "\n",
      "\n",
      "Bioconductor version 3.13 (BiocManager 1.30.16), R 4.1.2 (2021-11-01)\n",
      "\n",
      "Warning message:\n",
      "\"package(s) not installed when version(s) same as current; use `force = TRUE` to\n",
      "  re-install: 'BSgenome'\"\n",
      "Old packages: 'backports', 'brio', 'broom', 'cli', 'cpp11', 'crayon', 'DBI',\n",
      "  'digest', 'dtplyr', 'fansi', 'fs', 'generics', 'glmnet', 'glue', 'jsonlite',\n",
      "  'knitr', 'languageserver', 'mvtnorm', 'openssl', 'pillar', 'pkgload',\n",
      "  'raster', 'Rcpp', 'readr', 'remotes', 'repr', 'rex', 'rJava', 'rjson',\n",
      "  'rlang', 'rsconnect', 'rvest', 'sp', 'stringi', 'testthat', 'tibble',\n",
      "  'tinytex', 'tzdb', 'uuid', 'vroom', 'withr', 'xfun', 'xgboost', 'xml2',\n",
      "  'yaml', 'class', 'foreign', 'later', 'MASS', 'nlme', 'nnet', 'rpart',\n",
      "  'spatial'\n",
      "\n"
     ]
    }
   ],
   "source": [
    "if (!requireNamespace(\"BiocManager\", quietly = TRUE))\n",
    "    install.packages(\"BiocManager\")\n",
    "\n",
    "BiocManager::install(\"BSgenome\")"
   ]
  },
  {
   "cell_type": "code",
   "execution_count": 3,
   "metadata": {},
   "outputs": [
    {
     "data": {
      "text/plain": [
       "[1] '1.60.0'"
      ]
     },
     "metadata": {},
     "output_type": "display_data"
    }
   ],
   "source": [
    "# Load the BSgenome package\n",
    "library(\"BSgenome\")\n",
    "# Check the version of the BSgenome package\n",
    "packageVersion(\"BSgenome\")"
   ]
  },
  {
   "cell_type": "markdown",
   "metadata": {},
   "source": [
    "### S4 class definition\n",
    "We will use the class `BSgenome`, which is already loaded for you.\n",
    "\n",
    "Let's check the formal definition of this class by using the function `showClass(\"className\")`. Check the BSgenome class results and find its parent classes (Extends) and the classes that inherit from it (Subclasses)."
   ]
  },
  {
   "cell_type": "code",
   "execution_count": 8,
   "metadata": {},
   "outputs": [
    {
     "name": "stdout",
     "output_type": "stream",
     "text": [
      "Class \"BSgenome\" [package \"BSgenome\"]\n",
      "\n",
      "Slots:\n",
      "                                                                     \n",
      "Name:               pkgname     single_sequences   multiple_sequences\n",
      "Class:            character OnDiskNamedSequences        RdaCollection\n",
      "                                                                     \n",
      "Name:               seqinfo        user_seqnames   injectSNPs_handler\n",
      "Class:              Seqinfo            character    InjectSNPsHandler\n",
      "                                                                     \n",
      "Name:           .seqs_cache         .link_counts             metadata\n",
      "Class:          environment          environment                 list\n",
      "\n",
      "Extends: \"Annotated\"\n",
      "\n",
      "Known Subclasses: \"MaskedBSgenome\"\n"
     ]
    }
   ],
   "source": [
    "showClass(\"BSgenome\")"
   ]
  },
  {
   "cell_type": "markdown",
   "metadata": {},
   "source": [
    "### Interaction with classes\n",
    "Let's say we have an object called a_genome from class BSgenome. With a_genome, you can ask questions like these:\n",
    "```\n",
    "# What is a_genome's main class?\n",
    "class(a_genome)  # \"BSgenome\"\n",
    "\n",
    "# What is a_genome's other classes?\n",
    "is(a_genome)  # \"BSgenome\", \"GenomeDescription\"\n",
    "\n",
    "# Is a_genome an S4 representation?\n",
    "isS4(a_genome)  # TRUE\n",
    "\n",
    "```\n",
    "If you want to find out more about the a_genome object, you can use the accessor `show(a_genome)` or use other specific accessors from the list of .S4methods(class = \"BSgenome\")."
   ]
  },
  {
   "cell_type": "code",
   "execution_count": 9,
   "metadata": {},
   "outputs": [
    {
     "data": {
      "text/plain": [
       " [1] $               [[              as.list         coerce         \n",
       " [5] commonName      countPWM        export          extractAt      \n",
       " [9] getSeq          injectSNPs      length          masknames      \n",
       "[13] matchPWM        mseqnames       names           organism       \n",
       "[17] provider        providerVersion releaseDate     releaseName    \n",
       "[21] seqinfo         seqinfo<-       seqnames        seqnames<-     \n",
       "[25] show            snpcount        snplocs         SNPlocs_pkgname\n",
       "[29] sourceUrl       vcountPattern   Views           vmatchPattern  \n",
       "[33] vcountPDict     vmatchPDict     bsgenomeName    metadata       \n",
       "[37] metadata<-     \n",
       "see '?methods' for accessing help and source code"
      ]
     },
     "metadata": {},
     "output_type": "display_data"
    }
   ],
   "source": [
    ".S4methods(class = \"BSgenome\")"
   ]
  },
  {
   "cell_type": "code",
   "execution_count": 6,
   "metadata": {},
   "outputs": [],
   "source": [
    "library('BSgenome.Scerevisiae.UCSC.sacCer3')\n",
    "a_genome <- BSgenome.Scerevisiae.UCSC.sacCer3"
   ]
  },
  {
   "cell_type": "code",
   "execution_count": 7,
   "metadata": {},
   "outputs": [
    {
     "name": "stdout",
     "output_type": "stream",
     "text": [
      "Yeast genome:\n",
      "# organism: Saccharomyces cerevisiae (Yeast)\n",
      "# genome: sacCer3\n",
      "# provider: UCSC\n",
      "# release date: April 2011\n",
      "# 17 sequences:\n",
      "#   chrI    chrII   chrIII  chrIV   chrV    chrVI   chrVII  chrVIII chrIX  \n",
      "#   chrX    chrXI   chrXII  chrXIII chrXIV  chrXV   chrXVI  chrM           \n",
      "# (use 'seqnames()' to see all the sequence names, use the '$' or '[[' operator\n",
      "# to access a given sequence)\n"
     ]
    },
    {
     "data": {
      "text/html": [
       "'Saccharomyces cerevisiae'"
      ],
      "text/latex": [
       "'Saccharomyces cerevisiae'"
      ],
      "text/markdown": [
       "'Saccharomyces cerevisiae'"
      ],
      "text/plain": [
       "[1] \"Saccharomyces cerevisiae\""
      ]
     },
     "metadata": {},
     "output_type": "display_data"
    },
    {
     "data": {
      "text/html": [
       "'UCSC'"
      ],
      "text/latex": [
       "'UCSC'"
      ],
      "text/markdown": [
       "'UCSC'"
      ],
      "text/plain": [
       "[1] \"UCSC\""
      ]
     },
     "metadata": {},
     "output_type": "display_data"
    },
    {
     "data": {
      "text/plain": [
       "Seqinfo object with 17 sequences (1 circular) from sacCer3 genome:\n",
       "  seqnames seqlengths isCircular  genome\n",
       "  chrI         230218      FALSE sacCer3\n",
       "  chrII        813184      FALSE sacCer3\n",
       "  chrIII       316620      FALSE sacCer3\n",
       "  chrIV       1531933      FALSE sacCer3\n",
       "  chrV         576874      FALSE sacCer3\n",
       "  ...             ...        ...     ...\n",
       "  chrXIII      924431      FALSE sacCer3\n",
       "  chrXIV       784333      FALSE sacCer3\n",
       "  chrXV       1091291      FALSE sacCer3\n",
       "  chrXVI       948066      FALSE sacCer3\n",
       "  chrM          85779       TRUE sacCer3"
      ]
     },
     "metadata": {},
     "output_type": "display_data"
    }
   ],
   "source": [
    "# Investigate the a_genome using show()\n",
    "show(a_genome)\n",
    "\n",
    "# Investigate some other accesors\n",
    "organism(a_genome)\n",
    "provider(a_genome)\n",
    "seqinfo(a_genome)"
   ]
  },
  {
   "cell_type": "code",
   "execution_count": 4,
   "metadata": {},
   "outputs": [
    {
     "name": "stderr",
     "output_type": "stream",
     "text": [
      "'getOption(\"repos\")' replaces Bioconductor standard repositories, see\n",
      "'?repositories' for details\n",
      "\n",
      "replacement repositories:\n",
      "    CRAN: https://cran.r-project.org\n",
      "\n",
      "\n"
     ]
    },
    {
     "data": {
      "text/html": [
       "<style>\n",
       ".list-inline {list-style: none; margin:0; padding: 0}\n",
       ".list-inline>li {display: inline-block}\n",
       ".list-inline>li:not(:last-child)::after {content: \"\\00b7\"; padding: 0 .5ex}\n",
       "</style>\n",
       "<ol class=list-inline><li>'BSgenome.Alyrata.JGI.v1'</li><li>'BSgenome.Amellifera.BeeBase.assembly4'</li><li>'BSgenome.Amellifera.NCBI.AmelHAv3.1'</li><li>'BSgenome.Amellifera.UCSC.apiMel2'</li><li>'BSgenome.Amellifera.UCSC.apiMel2.masked'</li><li>'BSgenome.Aofficinalis.NCBI.V1'</li><li>'BSgenome.Athaliana.TAIR.04232008'</li><li>'BSgenome.Athaliana.TAIR.TAIR9'</li><li>'BSgenome.Btaurus.UCSC.bosTau3'</li><li>'BSgenome.Btaurus.UCSC.bosTau3.masked'</li><li>'BSgenome.Btaurus.UCSC.bosTau4'</li><li>'BSgenome.Btaurus.UCSC.bosTau4.masked'</li><li>'BSgenome.Btaurus.UCSC.bosTau6'</li><li>'BSgenome.Btaurus.UCSC.bosTau6.masked'</li><li>'BSgenome.Btaurus.UCSC.bosTau8'</li><li>'BSgenome.Btaurus.UCSC.bosTau9'</li><li>'BSgenome.Carietinum.NCBI.v1'</li><li>'BSgenome.Celegans.UCSC.ce10'</li><li>'BSgenome.Celegans.UCSC.ce11'</li><li>'BSgenome.Celegans.UCSC.ce2'</li><li>'BSgenome.Celegans.UCSC.ce6'</li><li>'BSgenome.Cfamiliaris.UCSC.canFam2'</li><li>'BSgenome.Cfamiliaris.UCSC.canFam2.masked'</li><li>'BSgenome.Cfamiliaris.UCSC.canFam3'</li><li>'BSgenome.Cfamiliaris.UCSC.canFam3.masked'</li><li>'BSgenome.Cjacchus.UCSC.calJac3'</li><li>'BSgenome.Creinhardtii.JGI.v5.6'</li><li>'BSgenome.Dmelanogaster.UCSC.dm2'</li><li>'BSgenome.Dmelanogaster.UCSC.dm2.masked'</li><li>'BSgenome.Dmelanogaster.UCSC.dm3'</li><li>'BSgenome.Dmelanogaster.UCSC.dm3.masked'</li><li>'BSgenome.Dmelanogaster.UCSC.dm6'</li><li>'BSgenome.Drerio.UCSC.danRer10'</li><li>'BSgenome.Drerio.UCSC.danRer11'</li><li>'BSgenome.Drerio.UCSC.danRer5'</li><li>'BSgenome.Drerio.UCSC.danRer5.masked'</li><li>'BSgenome.Drerio.UCSC.danRer6'</li><li>'BSgenome.Drerio.UCSC.danRer6.masked'</li><li>'BSgenome.Drerio.UCSC.danRer7'</li><li>'BSgenome.Drerio.UCSC.danRer7.masked'</li><li>'BSgenome.Dvirilis.Ensembl.dvircaf1'</li><li>'BSgenome.Ecoli.NCBI.20080805'</li><li>'BSgenome.Gaculeatus.UCSC.gasAcu1'</li><li>'BSgenome.Gaculeatus.UCSC.gasAcu1.masked'</li><li>'BSgenome.Ggallus.UCSC.galGal3'</li><li>'BSgenome.Ggallus.UCSC.galGal3.masked'</li><li>'BSgenome.Ggallus.UCSC.galGal4'</li><li>'BSgenome.Ggallus.UCSC.galGal4.masked'</li><li>'BSgenome.Ggallus.UCSC.galGal5'</li><li>'BSgenome.Ggallus.UCSC.galGal6'</li><li>'BSgenome.Hsapiens.1000genomes.hs37d5'</li><li>'BSgenome.Hsapiens.NCBI.GRCh38'</li><li>'BSgenome.Hsapiens.UCSC.hg17'</li><li>'BSgenome.Hsapiens.UCSC.hg17.masked'</li><li>'BSgenome.Hsapiens.UCSC.hg18'</li><li>'BSgenome.Hsapiens.UCSC.hg18.masked'</li><li>'BSgenome.Hsapiens.UCSC.hg19'</li><li>'BSgenome.Hsapiens.UCSC.hg19.masked'</li><li>'BSgenome.Hsapiens.UCSC.hg38'</li><li>'BSgenome.Hsapiens.UCSC.hg38.dbSNP151.major'</li><li>'BSgenome.Hsapiens.UCSC.hg38.dbSNP151.minor'</li><li>'BSgenome.Hsapiens.UCSC.hg38.masked'</li><li>'BSgenome.Mdomestica.UCSC.monDom5'</li><li>'BSgenome.Mfascicularis.NCBI.5.0'</li><li>'BSgenome.Mfuro.UCSC.musFur1'</li><li>'BSgenome.Mmulatta.UCSC.rheMac10'</li><li>'BSgenome.Mmulatta.UCSC.rheMac2'</li><li>'BSgenome.Mmulatta.UCSC.rheMac2.masked'</li><li>'BSgenome.Mmulatta.UCSC.rheMac3'</li><li>'BSgenome.Mmulatta.UCSC.rheMac3.masked'</li><li>'BSgenome.Mmulatta.UCSC.rheMac8'</li><li>'BSgenome.Mmusculus.UCSC.mm10'</li><li>'BSgenome.Mmusculus.UCSC.mm10.masked'</li><li>'BSgenome.Mmusculus.UCSC.mm8'</li><li>'BSgenome.Mmusculus.UCSC.mm8.masked'</li><li>'BSgenome.Mmusculus.UCSC.mm9'</li><li>'BSgenome.Mmusculus.UCSC.mm9.masked'</li><li>'BSgenome.Osativa.MSU.MSU7'</li><li>'BSgenome.Ppaniscus.UCSC.panPan1'</li><li>'BSgenome.Ppaniscus.UCSC.panPan2'</li><li>'BSgenome.Ptroglodytes.UCSC.panTro2'</li><li>'BSgenome.Ptroglodytes.UCSC.panTro2.masked'</li><li>'BSgenome.Ptroglodytes.UCSC.panTro3'</li><li>'BSgenome.Ptroglodytes.UCSC.panTro3.masked'</li><li>'BSgenome.Ptroglodytes.UCSC.panTro5'</li><li>'BSgenome.Ptroglodytes.UCSC.panTro6'</li><li>'BSgenome.Rnorvegicus.UCSC.rn4'</li><li>'BSgenome.Rnorvegicus.UCSC.rn4.masked'</li><li>'BSgenome.Rnorvegicus.UCSC.rn5'</li><li>'BSgenome.Rnorvegicus.UCSC.rn5.masked'</li><li>'BSgenome.Rnorvegicus.UCSC.rn6'</li><li>'BSgenome.Rnorvegicus.UCSC.rn7'</li><li>'BSgenome.Scerevisiae.UCSC.sacCer1'</li><li>'BSgenome.Scerevisiae.UCSC.sacCer2'</li><li>'BSgenome.Scerevisiae.UCSC.sacCer3'</li><li>'BSgenome.Sscrofa.UCSC.susScr11'</li><li>'BSgenome.Sscrofa.UCSC.susScr3'</li><li>'BSgenome.Sscrofa.UCSC.susScr3.masked'</li><li>'BSgenome.Tgondii.ToxoDB.7.0'</li><li>'BSgenome.Tguttata.UCSC.taeGut1'</li><li>'BSgenome.Tguttata.UCSC.taeGut1.masked'</li><li>'BSgenome.Tguttata.UCSC.taeGut2'</li><li>'BSgenome.Vvinifera.URGI.IGGP12Xv0'</li><li>'BSgenome.Vvinifera.URGI.IGGP12Xv2'</li><li>'BSgenome.Vvinifera.URGI.IGGP8X'</li></ol>\n"
      ],
      "text/latex": [
       "\\begin{enumerate*}\n",
       "\\item 'BSgenome.Alyrata.JGI.v1'\n",
       "\\item 'BSgenome.Amellifera.BeeBase.assembly4'\n",
       "\\item 'BSgenome.Amellifera.NCBI.AmelHAv3.1'\n",
       "\\item 'BSgenome.Amellifera.UCSC.apiMel2'\n",
       "\\item 'BSgenome.Amellifera.UCSC.apiMel2.masked'\n",
       "\\item 'BSgenome.Aofficinalis.NCBI.V1'\n",
       "\\item 'BSgenome.Athaliana.TAIR.04232008'\n",
       "\\item 'BSgenome.Athaliana.TAIR.TAIR9'\n",
       "\\item 'BSgenome.Btaurus.UCSC.bosTau3'\n",
       "\\item 'BSgenome.Btaurus.UCSC.bosTau3.masked'\n",
       "\\item 'BSgenome.Btaurus.UCSC.bosTau4'\n",
       "\\item 'BSgenome.Btaurus.UCSC.bosTau4.masked'\n",
       "\\item 'BSgenome.Btaurus.UCSC.bosTau6'\n",
       "\\item 'BSgenome.Btaurus.UCSC.bosTau6.masked'\n",
       "\\item 'BSgenome.Btaurus.UCSC.bosTau8'\n",
       "\\item 'BSgenome.Btaurus.UCSC.bosTau9'\n",
       "\\item 'BSgenome.Carietinum.NCBI.v1'\n",
       "\\item 'BSgenome.Celegans.UCSC.ce10'\n",
       "\\item 'BSgenome.Celegans.UCSC.ce11'\n",
       "\\item 'BSgenome.Celegans.UCSC.ce2'\n",
       "\\item 'BSgenome.Celegans.UCSC.ce6'\n",
       "\\item 'BSgenome.Cfamiliaris.UCSC.canFam2'\n",
       "\\item 'BSgenome.Cfamiliaris.UCSC.canFam2.masked'\n",
       "\\item 'BSgenome.Cfamiliaris.UCSC.canFam3'\n",
       "\\item 'BSgenome.Cfamiliaris.UCSC.canFam3.masked'\n",
       "\\item 'BSgenome.Cjacchus.UCSC.calJac3'\n",
       "\\item 'BSgenome.Creinhardtii.JGI.v5.6'\n",
       "\\item 'BSgenome.Dmelanogaster.UCSC.dm2'\n",
       "\\item 'BSgenome.Dmelanogaster.UCSC.dm2.masked'\n",
       "\\item 'BSgenome.Dmelanogaster.UCSC.dm3'\n",
       "\\item 'BSgenome.Dmelanogaster.UCSC.dm3.masked'\n",
       "\\item 'BSgenome.Dmelanogaster.UCSC.dm6'\n",
       "\\item 'BSgenome.Drerio.UCSC.danRer10'\n",
       "\\item 'BSgenome.Drerio.UCSC.danRer11'\n",
       "\\item 'BSgenome.Drerio.UCSC.danRer5'\n",
       "\\item 'BSgenome.Drerio.UCSC.danRer5.masked'\n",
       "\\item 'BSgenome.Drerio.UCSC.danRer6'\n",
       "\\item 'BSgenome.Drerio.UCSC.danRer6.masked'\n",
       "\\item 'BSgenome.Drerio.UCSC.danRer7'\n",
       "\\item 'BSgenome.Drerio.UCSC.danRer7.masked'\n",
       "\\item 'BSgenome.Dvirilis.Ensembl.dvircaf1'\n",
       "\\item 'BSgenome.Ecoli.NCBI.20080805'\n",
       "\\item 'BSgenome.Gaculeatus.UCSC.gasAcu1'\n",
       "\\item 'BSgenome.Gaculeatus.UCSC.gasAcu1.masked'\n",
       "\\item 'BSgenome.Ggallus.UCSC.galGal3'\n",
       "\\item 'BSgenome.Ggallus.UCSC.galGal3.masked'\n",
       "\\item 'BSgenome.Ggallus.UCSC.galGal4'\n",
       "\\item 'BSgenome.Ggallus.UCSC.galGal4.masked'\n",
       "\\item 'BSgenome.Ggallus.UCSC.galGal5'\n",
       "\\item 'BSgenome.Ggallus.UCSC.galGal6'\n",
       "\\item 'BSgenome.Hsapiens.1000genomes.hs37d5'\n",
       "\\item 'BSgenome.Hsapiens.NCBI.GRCh38'\n",
       "\\item 'BSgenome.Hsapiens.UCSC.hg17'\n",
       "\\item 'BSgenome.Hsapiens.UCSC.hg17.masked'\n",
       "\\item 'BSgenome.Hsapiens.UCSC.hg18'\n",
       "\\item 'BSgenome.Hsapiens.UCSC.hg18.masked'\n",
       "\\item 'BSgenome.Hsapiens.UCSC.hg19'\n",
       "\\item 'BSgenome.Hsapiens.UCSC.hg19.masked'\n",
       "\\item 'BSgenome.Hsapiens.UCSC.hg38'\n",
       "\\item 'BSgenome.Hsapiens.UCSC.hg38.dbSNP151.major'\n",
       "\\item 'BSgenome.Hsapiens.UCSC.hg38.dbSNP151.minor'\n",
       "\\item 'BSgenome.Hsapiens.UCSC.hg38.masked'\n",
       "\\item 'BSgenome.Mdomestica.UCSC.monDom5'\n",
       "\\item 'BSgenome.Mfascicularis.NCBI.5.0'\n",
       "\\item 'BSgenome.Mfuro.UCSC.musFur1'\n",
       "\\item 'BSgenome.Mmulatta.UCSC.rheMac10'\n",
       "\\item 'BSgenome.Mmulatta.UCSC.rheMac2'\n",
       "\\item 'BSgenome.Mmulatta.UCSC.rheMac2.masked'\n",
       "\\item 'BSgenome.Mmulatta.UCSC.rheMac3'\n",
       "\\item 'BSgenome.Mmulatta.UCSC.rheMac3.masked'\n",
       "\\item 'BSgenome.Mmulatta.UCSC.rheMac8'\n",
       "\\item 'BSgenome.Mmusculus.UCSC.mm10'\n",
       "\\item 'BSgenome.Mmusculus.UCSC.mm10.masked'\n",
       "\\item 'BSgenome.Mmusculus.UCSC.mm8'\n",
       "\\item 'BSgenome.Mmusculus.UCSC.mm8.masked'\n",
       "\\item 'BSgenome.Mmusculus.UCSC.mm9'\n",
       "\\item 'BSgenome.Mmusculus.UCSC.mm9.masked'\n",
       "\\item 'BSgenome.Osativa.MSU.MSU7'\n",
       "\\item 'BSgenome.Ppaniscus.UCSC.panPan1'\n",
       "\\item 'BSgenome.Ppaniscus.UCSC.panPan2'\n",
       "\\item 'BSgenome.Ptroglodytes.UCSC.panTro2'\n",
       "\\item 'BSgenome.Ptroglodytes.UCSC.panTro2.masked'\n",
       "\\item 'BSgenome.Ptroglodytes.UCSC.panTro3'\n",
       "\\item 'BSgenome.Ptroglodytes.UCSC.panTro3.masked'\n",
       "\\item 'BSgenome.Ptroglodytes.UCSC.panTro5'\n",
       "\\item 'BSgenome.Ptroglodytes.UCSC.panTro6'\n",
       "\\item 'BSgenome.Rnorvegicus.UCSC.rn4'\n",
       "\\item 'BSgenome.Rnorvegicus.UCSC.rn4.masked'\n",
       "\\item 'BSgenome.Rnorvegicus.UCSC.rn5'\n",
       "\\item 'BSgenome.Rnorvegicus.UCSC.rn5.masked'\n",
       "\\item 'BSgenome.Rnorvegicus.UCSC.rn6'\n",
       "\\item 'BSgenome.Rnorvegicus.UCSC.rn7'\n",
       "\\item 'BSgenome.Scerevisiae.UCSC.sacCer1'\n",
       "\\item 'BSgenome.Scerevisiae.UCSC.sacCer2'\n",
       "\\item 'BSgenome.Scerevisiae.UCSC.sacCer3'\n",
       "\\item 'BSgenome.Sscrofa.UCSC.susScr11'\n",
       "\\item 'BSgenome.Sscrofa.UCSC.susScr3'\n",
       "\\item 'BSgenome.Sscrofa.UCSC.susScr3.masked'\n",
       "\\item 'BSgenome.Tgondii.ToxoDB.7.0'\n",
       "\\item 'BSgenome.Tguttata.UCSC.taeGut1'\n",
       "\\item 'BSgenome.Tguttata.UCSC.taeGut1.masked'\n",
       "\\item 'BSgenome.Tguttata.UCSC.taeGut2'\n",
       "\\item 'BSgenome.Vvinifera.URGI.IGGP12Xv0'\n",
       "\\item 'BSgenome.Vvinifera.URGI.IGGP12Xv2'\n",
       "\\item 'BSgenome.Vvinifera.URGI.IGGP8X'\n",
       "\\end{enumerate*}\n"
      ],
      "text/markdown": [
       "1. 'BSgenome.Alyrata.JGI.v1'\n",
       "2. 'BSgenome.Amellifera.BeeBase.assembly4'\n",
       "3. 'BSgenome.Amellifera.NCBI.AmelHAv3.1'\n",
       "4. 'BSgenome.Amellifera.UCSC.apiMel2'\n",
       "5. 'BSgenome.Amellifera.UCSC.apiMel2.masked'\n",
       "6. 'BSgenome.Aofficinalis.NCBI.V1'\n",
       "7. 'BSgenome.Athaliana.TAIR.04232008'\n",
       "8. 'BSgenome.Athaliana.TAIR.TAIR9'\n",
       "9. 'BSgenome.Btaurus.UCSC.bosTau3'\n",
       "10. 'BSgenome.Btaurus.UCSC.bosTau3.masked'\n",
       "11. 'BSgenome.Btaurus.UCSC.bosTau4'\n",
       "12. 'BSgenome.Btaurus.UCSC.bosTau4.masked'\n",
       "13. 'BSgenome.Btaurus.UCSC.bosTau6'\n",
       "14. 'BSgenome.Btaurus.UCSC.bosTau6.masked'\n",
       "15. 'BSgenome.Btaurus.UCSC.bosTau8'\n",
       "16. 'BSgenome.Btaurus.UCSC.bosTau9'\n",
       "17. 'BSgenome.Carietinum.NCBI.v1'\n",
       "18. 'BSgenome.Celegans.UCSC.ce10'\n",
       "19. 'BSgenome.Celegans.UCSC.ce11'\n",
       "20. 'BSgenome.Celegans.UCSC.ce2'\n",
       "21. 'BSgenome.Celegans.UCSC.ce6'\n",
       "22. 'BSgenome.Cfamiliaris.UCSC.canFam2'\n",
       "23. 'BSgenome.Cfamiliaris.UCSC.canFam2.masked'\n",
       "24. 'BSgenome.Cfamiliaris.UCSC.canFam3'\n",
       "25. 'BSgenome.Cfamiliaris.UCSC.canFam3.masked'\n",
       "26. 'BSgenome.Cjacchus.UCSC.calJac3'\n",
       "27. 'BSgenome.Creinhardtii.JGI.v5.6'\n",
       "28. 'BSgenome.Dmelanogaster.UCSC.dm2'\n",
       "29. 'BSgenome.Dmelanogaster.UCSC.dm2.masked'\n",
       "30. 'BSgenome.Dmelanogaster.UCSC.dm3'\n",
       "31. 'BSgenome.Dmelanogaster.UCSC.dm3.masked'\n",
       "32. 'BSgenome.Dmelanogaster.UCSC.dm6'\n",
       "33. 'BSgenome.Drerio.UCSC.danRer10'\n",
       "34. 'BSgenome.Drerio.UCSC.danRer11'\n",
       "35. 'BSgenome.Drerio.UCSC.danRer5'\n",
       "36. 'BSgenome.Drerio.UCSC.danRer5.masked'\n",
       "37. 'BSgenome.Drerio.UCSC.danRer6'\n",
       "38. 'BSgenome.Drerio.UCSC.danRer6.masked'\n",
       "39. 'BSgenome.Drerio.UCSC.danRer7'\n",
       "40. 'BSgenome.Drerio.UCSC.danRer7.masked'\n",
       "41. 'BSgenome.Dvirilis.Ensembl.dvircaf1'\n",
       "42. 'BSgenome.Ecoli.NCBI.20080805'\n",
       "43. 'BSgenome.Gaculeatus.UCSC.gasAcu1'\n",
       "44. 'BSgenome.Gaculeatus.UCSC.gasAcu1.masked'\n",
       "45. 'BSgenome.Ggallus.UCSC.galGal3'\n",
       "46. 'BSgenome.Ggallus.UCSC.galGal3.masked'\n",
       "47. 'BSgenome.Ggallus.UCSC.galGal4'\n",
       "48. 'BSgenome.Ggallus.UCSC.galGal4.masked'\n",
       "49. 'BSgenome.Ggallus.UCSC.galGal5'\n",
       "50. 'BSgenome.Ggallus.UCSC.galGal6'\n",
       "51. 'BSgenome.Hsapiens.1000genomes.hs37d5'\n",
       "52. 'BSgenome.Hsapiens.NCBI.GRCh38'\n",
       "53. 'BSgenome.Hsapiens.UCSC.hg17'\n",
       "54. 'BSgenome.Hsapiens.UCSC.hg17.masked'\n",
       "55. 'BSgenome.Hsapiens.UCSC.hg18'\n",
       "56. 'BSgenome.Hsapiens.UCSC.hg18.masked'\n",
       "57. 'BSgenome.Hsapiens.UCSC.hg19'\n",
       "58. 'BSgenome.Hsapiens.UCSC.hg19.masked'\n",
       "59. 'BSgenome.Hsapiens.UCSC.hg38'\n",
       "60. 'BSgenome.Hsapiens.UCSC.hg38.dbSNP151.major'\n",
       "61. 'BSgenome.Hsapiens.UCSC.hg38.dbSNP151.minor'\n",
       "62. 'BSgenome.Hsapiens.UCSC.hg38.masked'\n",
       "63. 'BSgenome.Mdomestica.UCSC.monDom5'\n",
       "64. 'BSgenome.Mfascicularis.NCBI.5.0'\n",
       "65. 'BSgenome.Mfuro.UCSC.musFur1'\n",
       "66. 'BSgenome.Mmulatta.UCSC.rheMac10'\n",
       "67. 'BSgenome.Mmulatta.UCSC.rheMac2'\n",
       "68. 'BSgenome.Mmulatta.UCSC.rheMac2.masked'\n",
       "69. 'BSgenome.Mmulatta.UCSC.rheMac3'\n",
       "70. 'BSgenome.Mmulatta.UCSC.rheMac3.masked'\n",
       "71. 'BSgenome.Mmulatta.UCSC.rheMac8'\n",
       "72. 'BSgenome.Mmusculus.UCSC.mm10'\n",
       "73. 'BSgenome.Mmusculus.UCSC.mm10.masked'\n",
       "74. 'BSgenome.Mmusculus.UCSC.mm8'\n",
       "75. 'BSgenome.Mmusculus.UCSC.mm8.masked'\n",
       "76. 'BSgenome.Mmusculus.UCSC.mm9'\n",
       "77. 'BSgenome.Mmusculus.UCSC.mm9.masked'\n",
       "78. 'BSgenome.Osativa.MSU.MSU7'\n",
       "79. 'BSgenome.Ppaniscus.UCSC.panPan1'\n",
       "80. 'BSgenome.Ppaniscus.UCSC.panPan2'\n",
       "81. 'BSgenome.Ptroglodytes.UCSC.panTro2'\n",
       "82. 'BSgenome.Ptroglodytes.UCSC.panTro2.masked'\n",
       "83. 'BSgenome.Ptroglodytes.UCSC.panTro3'\n",
       "84. 'BSgenome.Ptroglodytes.UCSC.panTro3.masked'\n",
       "85. 'BSgenome.Ptroglodytes.UCSC.panTro5'\n",
       "86. 'BSgenome.Ptroglodytes.UCSC.panTro6'\n",
       "87. 'BSgenome.Rnorvegicus.UCSC.rn4'\n",
       "88. 'BSgenome.Rnorvegicus.UCSC.rn4.masked'\n",
       "89. 'BSgenome.Rnorvegicus.UCSC.rn5'\n",
       "90. 'BSgenome.Rnorvegicus.UCSC.rn5.masked'\n",
       "91. 'BSgenome.Rnorvegicus.UCSC.rn6'\n",
       "92. 'BSgenome.Rnorvegicus.UCSC.rn7'\n",
       "93. 'BSgenome.Scerevisiae.UCSC.sacCer1'\n",
       "94. 'BSgenome.Scerevisiae.UCSC.sacCer2'\n",
       "95. 'BSgenome.Scerevisiae.UCSC.sacCer3'\n",
       "96. 'BSgenome.Sscrofa.UCSC.susScr11'\n",
       "97. 'BSgenome.Sscrofa.UCSC.susScr3'\n",
       "98. 'BSgenome.Sscrofa.UCSC.susScr3.masked'\n",
       "99. 'BSgenome.Tgondii.ToxoDB.7.0'\n",
       "100. 'BSgenome.Tguttata.UCSC.taeGut1'\n",
       "101. 'BSgenome.Tguttata.UCSC.taeGut1.masked'\n",
       "102. 'BSgenome.Tguttata.UCSC.taeGut2'\n",
       "103. 'BSgenome.Vvinifera.URGI.IGGP12Xv0'\n",
       "104. 'BSgenome.Vvinifera.URGI.IGGP12Xv2'\n",
       "105. 'BSgenome.Vvinifera.URGI.IGGP8X'\n",
       "\n",
       "\n"
      ],
      "text/plain": [
       "  [1] \"BSgenome.Alyrata.JGI.v1\"                   \n",
       "  [2] \"BSgenome.Amellifera.BeeBase.assembly4\"     \n",
       "  [3] \"BSgenome.Amellifera.NCBI.AmelHAv3.1\"       \n",
       "  [4] \"BSgenome.Amellifera.UCSC.apiMel2\"          \n",
       "  [5] \"BSgenome.Amellifera.UCSC.apiMel2.masked\"   \n",
       "  [6] \"BSgenome.Aofficinalis.NCBI.V1\"             \n",
       "  [7] \"BSgenome.Athaliana.TAIR.04232008\"          \n",
       "  [8] \"BSgenome.Athaliana.TAIR.TAIR9\"             \n",
       "  [9] \"BSgenome.Btaurus.UCSC.bosTau3\"             \n",
       " [10] \"BSgenome.Btaurus.UCSC.bosTau3.masked\"      \n",
       " [11] \"BSgenome.Btaurus.UCSC.bosTau4\"             \n",
       " [12] \"BSgenome.Btaurus.UCSC.bosTau4.masked\"      \n",
       " [13] \"BSgenome.Btaurus.UCSC.bosTau6\"             \n",
       " [14] \"BSgenome.Btaurus.UCSC.bosTau6.masked\"      \n",
       " [15] \"BSgenome.Btaurus.UCSC.bosTau8\"             \n",
       " [16] \"BSgenome.Btaurus.UCSC.bosTau9\"             \n",
       " [17] \"BSgenome.Carietinum.NCBI.v1\"               \n",
       " [18] \"BSgenome.Celegans.UCSC.ce10\"               \n",
       " [19] \"BSgenome.Celegans.UCSC.ce11\"               \n",
       " [20] \"BSgenome.Celegans.UCSC.ce2\"                \n",
       " [21] \"BSgenome.Celegans.UCSC.ce6\"                \n",
       " [22] \"BSgenome.Cfamiliaris.UCSC.canFam2\"         \n",
       " [23] \"BSgenome.Cfamiliaris.UCSC.canFam2.masked\"  \n",
       " [24] \"BSgenome.Cfamiliaris.UCSC.canFam3\"         \n",
       " [25] \"BSgenome.Cfamiliaris.UCSC.canFam3.masked\"  \n",
       " [26] \"BSgenome.Cjacchus.UCSC.calJac3\"            \n",
       " [27] \"BSgenome.Creinhardtii.JGI.v5.6\"            \n",
       " [28] \"BSgenome.Dmelanogaster.UCSC.dm2\"           \n",
       " [29] \"BSgenome.Dmelanogaster.UCSC.dm2.masked\"    \n",
       " [30] \"BSgenome.Dmelanogaster.UCSC.dm3\"           \n",
       " [31] \"BSgenome.Dmelanogaster.UCSC.dm3.masked\"    \n",
       " [32] \"BSgenome.Dmelanogaster.UCSC.dm6\"           \n",
       " [33] \"BSgenome.Drerio.UCSC.danRer10\"             \n",
       " [34] \"BSgenome.Drerio.UCSC.danRer11\"             \n",
       " [35] \"BSgenome.Drerio.UCSC.danRer5\"              \n",
       " [36] \"BSgenome.Drerio.UCSC.danRer5.masked\"       \n",
       " [37] \"BSgenome.Drerio.UCSC.danRer6\"              \n",
       " [38] \"BSgenome.Drerio.UCSC.danRer6.masked\"       \n",
       " [39] \"BSgenome.Drerio.UCSC.danRer7\"              \n",
       " [40] \"BSgenome.Drerio.UCSC.danRer7.masked\"       \n",
       " [41] \"BSgenome.Dvirilis.Ensembl.dvircaf1\"        \n",
       " [42] \"BSgenome.Ecoli.NCBI.20080805\"              \n",
       " [43] \"BSgenome.Gaculeatus.UCSC.gasAcu1\"          \n",
       " [44] \"BSgenome.Gaculeatus.UCSC.gasAcu1.masked\"   \n",
       " [45] \"BSgenome.Ggallus.UCSC.galGal3\"             \n",
       " [46] \"BSgenome.Ggallus.UCSC.galGal3.masked\"      \n",
       " [47] \"BSgenome.Ggallus.UCSC.galGal4\"             \n",
       " [48] \"BSgenome.Ggallus.UCSC.galGal4.masked\"      \n",
       " [49] \"BSgenome.Ggallus.UCSC.galGal5\"             \n",
       " [50] \"BSgenome.Ggallus.UCSC.galGal6\"             \n",
       " [51] \"BSgenome.Hsapiens.1000genomes.hs37d5\"      \n",
       " [52] \"BSgenome.Hsapiens.NCBI.GRCh38\"             \n",
       " [53] \"BSgenome.Hsapiens.UCSC.hg17\"               \n",
       " [54] \"BSgenome.Hsapiens.UCSC.hg17.masked\"        \n",
       " [55] \"BSgenome.Hsapiens.UCSC.hg18\"               \n",
       " [56] \"BSgenome.Hsapiens.UCSC.hg18.masked\"        \n",
       " [57] \"BSgenome.Hsapiens.UCSC.hg19\"               \n",
       " [58] \"BSgenome.Hsapiens.UCSC.hg19.masked\"        \n",
       " [59] \"BSgenome.Hsapiens.UCSC.hg38\"               \n",
       " [60] \"BSgenome.Hsapiens.UCSC.hg38.dbSNP151.major\"\n",
       " [61] \"BSgenome.Hsapiens.UCSC.hg38.dbSNP151.minor\"\n",
       " [62] \"BSgenome.Hsapiens.UCSC.hg38.masked\"        \n",
       " [63] \"BSgenome.Mdomestica.UCSC.monDom5\"          \n",
       " [64] \"BSgenome.Mfascicularis.NCBI.5.0\"           \n",
       " [65] \"BSgenome.Mfuro.UCSC.musFur1\"               \n",
       " [66] \"BSgenome.Mmulatta.UCSC.rheMac10\"           \n",
       " [67] \"BSgenome.Mmulatta.UCSC.rheMac2\"            \n",
       " [68] \"BSgenome.Mmulatta.UCSC.rheMac2.masked\"     \n",
       " [69] \"BSgenome.Mmulatta.UCSC.rheMac3\"            \n",
       " [70] \"BSgenome.Mmulatta.UCSC.rheMac3.masked\"     \n",
       " [71] \"BSgenome.Mmulatta.UCSC.rheMac8\"            \n",
       " [72] \"BSgenome.Mmusculus.UCSC.mm10\"              \n",
       " [73] \"BSgenome.Mmusculus.UCSC.mm10.masked\"       \n",
       " [74] \"BSgenome.Mmusculus.UCSC.mm8\"               \n",
       " [75] \"BSgenome.Mmusculus.UCSC.mm8.masked\"        \n",
       " [76] \"BSgenome.Mmusculus.UCSC.mm9\"               \n",
       " [77] \"BSgenome.Mmusculus.UCSC.mm9.masked\"        \n",
       " [78] \"BSgenome.Osativa.MSU.MSU7\"                 \n",
       " [79] \"BSgenome.Ppaniscus.UCSC.panPan1\"           \n",
       " [80] \"BSgenome.Ppaniscus.UCSC.panPan2\"           \n",
       " [81] \"BSgenome.Ptroglodytes.UCSC.panTro2\"        \n",
       " [82] \"BSgenome.Ptroglodytes.UCSC.panTro2.masked\" \n",
       " [83] \"BSgenome.Ptroglodytes.UCSC.panTro3\"        \n",
       " [84] \"BSgenome.Ptroglodytes.UCSC.panTro3.masked\" \n",
       " [85] \"BSgenome.Ptroglodytes.UCSC.panTro5\"        \n",
       " [86] \"BSgenome.Ptroglodytes.UCSC.panTro6\"        \n",
       " [87] \"BSgenome.Rnorvegicus.UCSC.rn4\"             \n",
       " [88] \"BSgenome.Rnorvegicus.UCSC.rn4.masked\"      \n",
       " [89] \"BSgenome.Rnorvegicus.UCSC.rn5\"             \n",
       " [90] \"BSgenome.Rnorvegicus.UCSC.rn5.masked\"      \n",
       " [91] \"BSgenome.Rnorvegicus.UCSC.rn6\"             \n",
       " [92] \"BSgenome.Rnorvegicus.UCSC.rn7\"             \n",
       " [93] \"BSgenome.Scerevisiae.UCSC.sacCer1\"         \n",
       " [94] \"BSgenome.Scerevisiae.UCSC.sacCer2\"         \n",
       " [95] \"BSgenome.Scerevisiae.UCSC.sacCer3\"         \n",
       " [96] \"BSgenome.Sscrofa.UCSC.susScr11\"            \n",
       " [97] \"BSgenome.Sscrofa.UCSC.susScr3\"             \n",
       " [98] \"BSgenome.Sscrofa.UCSC.susScr3.masked\"      \n",
       " [99] \"BSgenome.Tgondii.ToxoDB.7.0\"               \n",
       "[100] \"BSgenome.Tguttata.UCSC.taeGut1\"            \n",
       "[101] \"BSgenome.Tguttata.UCSC.taeGut1.masked\"     \n",
       "[102] \"BSgenome.Tguttata.UCSC.taeGut2\"            \n",
       "[103] \"BSgenome.Vvinifera.URGI.IGGP12Xv0\"         \n",
       "[104] \"BSgenome.Vvinifera.URGI.IGGP12Xv2\"         \n",
       "[105] \"BSgenome.Vvinifera.URGI.IGGP8X\"            "
      ]
     },
     "metadata": {},
     "output_type": "display_data"
    }
   ],
   "source": [
    "# available genomes in BSgenome\n",
    "available.genomes()"
   ]
  },
  {
   "cell_type": "code",
   "execution_count": 5,
   "metadata": {},
   "outputs": [
    {
     "name": "stderr",
     "output_type": "stream",
     "text": [
      "'getOption(\"repos\")' replaces Bioconductor standard repositories, see\n",
      "'?repositories' for details\n",
      "\n",
      "replacement repositories:\n",
      "    CRAN: https://cran.r-project.org\n",
      "\n",
      "\n",
      "Bioconductor version 3.13 (BiocManager 1.30.16), R 4.1.2 (2021-11-01)\n",
      "\n",
      "Installing package(s) 'BSgenome.Scerevisiae.UCSC.sacCer3'\n",
      "\n",
      "installing the source package 'BSgenome.Scerevisiae.UCSC.sacCer3'\n",
      "\n",
      "\n",
      "Old packages: 'backports', 'brio', 'broom', 'cli', 'cpp11', 'crayon', 'DBI',\n",
      "  'digest', 'dtplyr', 'fansi', 'fs', 'generics', 'glmnet', 'glue', 'jsonlite',\n",
      "  'knitr', 'languageserver', 'mvtnorm', 'openssl', 'pillar', 'pkgload',\n",
      "  'raster', 'Rcpp', 'readr', 'remotes', 'repr', 'rex', 'rJava', 'rjson',\n",
      "  'rlang', 'rsconnect', 'rvest', 'sp', 'stringi', 'testthat', 'tibble',\n",
      "  'tinytex', 'tzdb', 'uuid', 'vroom', 'withr', 'xfun', 'xgboost', 'xml2',\n",
      "  'yaml', 'class', 'foreign', 'later', 'MASS', 'nlme', 'nnet', 'rpart',\n",
      "  'spatial'\n",
      "\n"
     ]
    }
   ],
   "source": [
    "## Install yeast genome\n",
    "BiocManager::install('BSgenome.Scerevisiae.UCSC.sacCer3')"
   ]
  },
  {
   "cell_type": "markdown",
   "metadata": {},
   "source": [
    "### Discovering the yeast genome\n",
    "You'll begin to explore the yeast genome for yourself using the package `BSgenome.Scerevisiae.UCSC.sacCer3`, which is already installed for you.\n",
    "\n",
    "As with other data in R, you can use `head()` and `tail()` to explore the yeastGenome object. You can also subset the genome by chromosome by using `$` syntax as follows: `object_name$chromosome_name`.\n",
    "\n",
    "The names of the chromosomes can be obtained using the `names()` function, and `nchar()` can be used to count the number of characters in a sequence."
   ]
  },
  {
   "cell_type": "code",
   "execution_count": 8,
   "metadata": {},
   "outputs": [],
   "source": [
    "# Load the yeast genome\n",
    "library(BSgenome.Scerevisiae.UCSC.sacCer3)\n",
    "\n",
    "# Assign data to the yeastGenome object\n",
    "yeastGenome <- BSgenome.Scerevisiae.UCSC.sacCer3"
   ]
  },
  {
   "cell_type": "markdown",
   "metadata": {},
   "source": [
    "### Partitioning the yeast genome\n",
    "Genomes are often big, but interest usually lies in specific regions of them. Therefore, we need to subset a genome by extracting parts of it. To pick a sequence interval, use `getSeq()` and specify the name of the chromosome and the start and end of the sequence interval.\n",
    "\n",
    "The following example will select the bases of \"chrI\" from 100 to 150.\n",
    "\n",
    "`getSeq(yeastGenome, names = \"chrI\", start = 100, end = 150)`\n",
    "\n",
    "Note: `names` is optional; if not specified, it will return all chromosomes. The parameters `start` and `end` are also optional and, if not specified, will take the default values 1 and the length of the sequence, respectively."
   ]
  },
  {
   "cell_type": "code",
   "execution_count": 10,
   "metadata": {},
   "outputs": [
    {
     "data": {
      "text/plain": [
       "300-letter DNAString object\n",
       "seq: \u001b[47m\u001b[30mT\u001b[39m\u001b[49m\u001b[47m\u001b[30mT\u001b[39m\u001b[49m\u001b[47m\u001b[30mC\u001b[39m\u001b[49m\u001b[47m\u001b[30mA\u001b[39m\u001b[49m\u001b[47m\u001b[30mT\u001b[39m\u001b[49m\u001b[47m\u001b[30mA\u001b[39m\u001b[49m\u001b[47m\u001b[30mA\u001b[39m\u001b[49m\u001b[47m\u001b[30mT\u001b[39m\u001b[49m\u001b[47m\u001b[30mT\u001b[39m\u001b[49m\u001b[47m\u001b[30mA\u001b[39m\u001b[49m\u001b[47m\u001b[30mA\u001b[39m\u001b[49m\u001b[47m\u001b[30mT\u001b[39m\u001b[49m\u001b[47m\u001b[30mT\u001b[39m\u001b[49m\u001b[47m\u001b[30mT\u001b[39m\u001b[49m\u001b[47m\u001b[30mT\u001b[39m\u001b[49m\u001b[47m\u001b[30mT\u001b[39m\u001b[49m\u001b[47m\u001b[30mT\u001b[39m\u001b[49m\u001b[47m\u001b[30mA\u001b[39m\u001b[49m\u001b[47m\u001b[30mT\u001b[39m\u001b[49m\u001b[47m\u001b[30mA\u001b[39m\u001b[49m\u001b[47m\u001b[30mT\u001b[39m\u001b[49m\u001b[47m\u001b[30mA\u001b[39m\u001b[49m\u001b[47m\u001b[30mT\u001b[39m\u001b[49m\u001b[47m\u001b[30mA\u001b[39m\u001b[49m\u001b[47m\u001b[30mT\u001b[39m\u001b[49m\u001b[47m\u001b[30mA\u001b[39m\u001b[49m\u001b[47m\u001b[30mT\u001b[39m\u001b[49m\u001b[47m\u001b[30mT\u001b[39m\u001b[49m\u001b[47m\u001b[30mA\u001b[39m\u001b[49m\u001b[47m\u001b[30mT\u001b[39m\u001b[49m\u001b[47m\u001b[30mA\u001b[39m\u001b[49m\u001b[47m\u001b[30mT\u001b[39m\u001b[49m\u001b[47m\u001b[30mT\u001b[39m\u001b[49m\u001b[47m\u001b[30mA\u001b[39m\u001b[49m\u001b[47m\u001b[30mT\u001b[39m\u001b[49m\u001b[47m\u001b[30mA\u001b[39m\u001b[49m...\u001b[47m\u001b[30mA\u001b[39m\u001b[49m\u001b[47m\u001b[30mA\u001b[39m\u001b[49m\u001b[47m\u001b[30mT\u001b[39m\u001b[49m\u001b[47m\u001b[30mT\u001b[39m\u001b[49m\u001b[47m\u001b[30mA\u001b[39m\u001b[49m\u001b[47m\u001b[30mA\u001b[39m\u001b[49m\u001b[47m\u001b[30mT\u001b[39m\u001b[49m\u001b[47m\u001b[30mT\u001b[39m\u001b[49m\u001b[47m\u001b[30mA\u001b[39m\u001b[49m\u001b[47m\u001b[30mA\u001b[39m\u001b[49m\u001b[47m\u001b[30mT\u001b[39m\u001b[49m\u001b[47m\u001b[30mT\u001b[39m\u001b[49m\u001b[47m\u001b[30mA\u001b[39m\u001b[49m\u001b[47m\u001b[30mA\u001b[39m\u001b[49m\u001b[47m\u001b[30mT\u001b[39m\u001b[49m\u001b[47m\u001b[30mA\u001b[39m\u001b[49m\u001b[47m\u001b[30mA\u001b[39m\u001b[49m\u001b[47m\u001b[30mT\u001b[39m\u001b[49m\u001b[47m\u001b[30mA\u001b[39m\u001b[49m\u001b[47m\u001b[30mA\u001b[39m\u001b[49m\u001b[47m\u001b[30mA\u001b[39m\u001b[49m\u001b[47m\u001b[30mA\u001b[39m\u001b[49m\u001b[47m\u001b[30mA\u001b[39m\u001b[49m\u001b[47m\u001b[30mT\u001b[39m\u001b[49m\u001b[47m\u001b[30mA\u001b[39m\u001b[49m\u001b[47m\u001b[30mT\u001b[39m\u001b[49m\u001b[47m\u001b[30mA\u001b[39m\u001b[49m\u001b[47m\u001b[30mA\u001b[39m\u001b[49m\u001b[47m\u001b[30mT\u001b[39m\u001b[49m\u001b[47m\u001b[30mT\u001b[39m\u001b[49m\u001b[47m\u001b[30mA\u001b[39m\u001b[49m\u001b[47m\u001b[30mT\u001b[39m\u001b[49m\u001b[47m\u001b[30mA\u001b[39m\u001b[49m\u001b[47m\u001b[30mA\u001b[39m\u001b[49m\u001b[47m\u001b[30mA\u001b[39m\u001b[49m\u001b[47m\u001b[30mT\u001b[39m\u001b[49m"
      ]
     },
     "metadata": {},
     "output_type": "display_data"
    }
   ],
   "source": [
    "# Load the yeast genome\n",
    "library(BSgenome.Scerevisiae.UCSC.sacCer3)\n",
    "\n",
    "# Assign data to the yeastGenome object\n",
    "yeastGenome <- BSgenome.Scerevisiae.UCSC.sacCer3\n",
    "\n",
    "# Get the first 30 bases of chrM\n",
    "getSeq(yeastGenome, names = \"chrM\", end = 300)"
   ]
  },
  {
   "cell_type": "code",
   "execution_count": null,
   "metadata": {},
   "outputs": [],
   "source": []
  }
 ],
 "metadata": {
  "kernelspec": {
   "display_name": "R",
   "language": "R",
   "name": "python3101jvsc74a57bd09ae0b405bbfcf0c42d015a995bc7876400d71fabac674abd5bc2e8e03e35e142"
  },
  "language_info": {
   "codemirror_mode": "r",
   "file_extension": ".r",
   "mimetype": "text/x-r-source",
   "name": "R",
   "pygments_lexer": "r",
   "version": "4.1.2"
  },
  "orig_nbformat": 4
 },
 "nbformat": 4,
 "nbformat_minor": 2
}
