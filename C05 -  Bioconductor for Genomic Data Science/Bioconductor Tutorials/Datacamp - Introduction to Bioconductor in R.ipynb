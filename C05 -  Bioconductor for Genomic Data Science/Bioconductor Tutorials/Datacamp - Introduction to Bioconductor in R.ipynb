{
 "cells": [
  {
   "cell_type": "markdown",
   "metadata": {},
   "source": [
    "# Datacamp: Introduction to Bioconductor in R"
   ]
  },
  {
   "cell_type": "markdown",
   "metadata": {},
   "source": [
    "## What is Bioconductor?\n",
    "In this chapter you will get hands-on with Bioconductor. Bioconductor is the specialized repository for bioinformatics software, developed and maintained by the R community. You will learn how to install and use bioconductor packages. You will be introduced to S4 objects and functions, because most packages within Bioconductor inherit from S4. Additionally, you will use a real genomic dataset of a fungus to explore the BSgenome package."
   ]
  },
  {
   "cell_type": "markdown",
   "metadata": {},
   "source": [
    "### Bioconductor version"
   ]
  },
  {
   "cell_type": "code",
   "execution_count": 1,
   "metadata": {},
   "outputs": [
    {
     "data": {
      "text/plain": [
       "               _                           \n",
       "platform       x86_64-w64-mingw32          \n",
       "arch           x86_64                      \n",
       "os             mingw32                     \n",
       "system         x86_64, mingw32             \n",
       "status                                     \n",
       "major          4                           \n",
       "minor          1.2                         \n",
       "year           2021                        \n",
       "month          11                          \n",
       "day            01                          \n",
       "svn rev        81115                       \n",
       "language       R                           \n",
       "version.string R version 4.1.2 (2021-11-01)\n",
       "nickname       Bird Hippie                 "
      ]
     },
     "metadata": {},
     "output_type": "display_data"
    },
    {
     "data": {
      "text/plain": [
       "R version 4.1.2 (2021-11-01)\n",
       "Platform: x86_64-w64-mingw32/x64 (64-bit)\n",
       "Running under: Windows 10 x64 (build 22538)\n",
       "\n",
       "Matrix products: default\n",
       "\n",
       "locale:\n",
       "[1] LC_COLLATE=English_United States.1252 \n",
       "[2] LC_CTYPE=English_United States.1252   \n",
       "[3] LC_MONETARY=English_United States.1252\n",
       "[4] LC_NUMERIC=C                          \n",
       "[5] LC_TIME=English_United States.1252    \n",
       "\n",
       "attached base packages:\n",
       "[1] stats     graphics  grDevices utils     datasets  methods   base     \n",
       "\n",
       "loaded via a namespace (and not attached):\n",
       " [1] fansi_0.5.0     digest_0.6.27   utf8_1.2.2      crayon_1.4.1   \n",
       " [5] IRdisplay_1.1   repr_1.1.3      lifecycle_1.0.1 jsonlite_1.7.2 \n",
       " [9] evaluate_0.14   pillar_1.6.3    rlang_0.4.11    uuid_0.1-4     \n",
       "[13] vctrs_0.3.8     ellipsis_0.3.2  IRkernel_1.3    tools_4.1.2    \n",
       "[17] fastmap_1.1.0   compiler_4.1.2  base64enc_0.1-3 pbdZMQ_0.3-6   \n",
       "[21] htmltools_0.5.2"
      ]
     },
     "metadata": {},
     "output_type": "display_data"
    }
   ],
   "source": [
    "# Check R version\n",
    "R.version\n",
    "\n",
    "# Sessoion Info\n",
    "sessionInfo()"
   ]
  },
  {
   "cell_type": "markdown",
   "metadata": {},
   "source": [
    "### BioManager to install packages\n",
    "BSgenome is a Bioconductor data package that contains representations of several genomes. This package has already been installed for you, as installing the dependencies usually takes some time, using the following code:\n"
   ]
  },
  {
   "cell_type": "code",
   "execution_count": 3,
   "metadata": {},
   "outputs": [
    {
     "name": "stderr",
     "output_type": "stream",
     "text": [
      "'getOption(\"repos\")' replaces Bioconductor standard repositories, see\n",
      "'?repositories' for details\n",
      "\n",
      "replacement repositories:\n",
      "    CRAN: https://cran.r-project.org\n",
      "\n",
      "\n",
      "Bioconductor version 3.13 (BiocManager 1.30.16), R 4.1.2 (2021-11-01)\n",
      "\n",
      "Warning message:\n",
      "\"package(s) not installed when version(s) same as current; use `force = TRUE` to\n",
      "  re-install: 'BSgenome'\"\n",
      "Old packages: 'backports', 'brio', 'broom', 'cli', 'cpp11', 'crayon', 'DBI',\n",
      "  'digest', 'dtplyr', 'fansi', 'fs', 'generics', 'glmnet', 'glue', 'jsonlite',\n",
      "  'knitr', 'languageserver', 'mvtnorm', 'openssl', 'pillar', 'pkgload',\n",
      "  'raster', 'Rcpp', 'readr', 'remotes', 'repr', 'rex', 'rJava', 'rjson',\n",
      "  'rlang', 'rsconnect', 'rvest', 'sp', 'stringi', 'testthat', 'tibble',\n",
      "  'tinytex', 'tzdb', 'uuid', 'vroom', 'withr', 'xfun', 'xgboost', 'xml2',\n",
      "  'yaml', 'class', 'foreign', 'later', 'MASS', 'nlme', 'nnet', 'rpart',\n",
      "  'spatial'\n",
      "\n"
     ]
    }
   ],
   "source": [
    "if (!requireNamespace(\"BiocManager\", quietly = TRUE))\n",
    "    install.packages(\"BiocManager\")\n",
    "\n",
    "BiocManager::install(\"BSgenome\")"
   ]
  },
  {
   "cell_type": "code",
   "execution_count": 3,
   "metadata": {},
   "outputs": [
    {
     "data": {
      "text/plain": [
       "[1] '1.60.0'"
      ]
     },
     "metadata": {},
     "output_type": "display_data"
    }
   ],
   "source": [
    "# Load the BSgenome package\n",
    "library(\"BSgenome\")\n",
    "# Check the version of the BSgenome package\n",
    "packageVersion(\"BSgenome\")"
   ]
  },
  {
   "cell_type": "markdown",
   "metadata": {},
   "source": [
    "### S4 class definition\n",
    "We will use the class `BSgenome`, which is already loaded for you.\n",
    "\n",
    "Let's check the formal definition of this class by using the function `showClass(\"className\")`. Check the BSgenome class results and find its parent classes (Extends) and the classes that inherit from it (Subclasses)."
   ]
  },
  {
   "cell_type": "code",
   "execution_count": 8,
   "metadata": {},
   "outputs": [
    {
     "name": "stdout",
     "output_type": "stream",
     "text": [
      "Class \"BSgenome\" [package \"BSgenome\"]\n",
      "\n",
      "Slots:\n",
      "                                                                     \n",
      "Name:               pkgname     single_sequences   multiple_sequences\n",
      "Class:            character OnDiskNamedSequences        RdaCollection\n",
      "                                                                     \n",
      "Name:               seqinfo        user_seqnames   injectSNPs_handler\n",
      "Class:              Seqinfo            character    InjectSNPsHandler\n",
      "                                                                     \n",
      "Name:           .seqs_cache         .link_counts             metadata\n",
      "Class:          environment          environment                 list\n",
      "\n",
      "Extends: \"Annotated\"\n",
      "\n",
      "Known Subclasses: \"MaskedBSgenome\"\n"
     ]
    }
   ],
   "source": [
    "showClass(\"BSgenome\")"
   ]
  },
  {
   "cell_type": "markdown",
   "metadata": {},
   "source": [
    "### Interaction with classes"
   ]
  },
  {
   "cell_type": "markdown",
   "metadata": {},
   "source": [
    "#### Let's say we have an object called a_genome from class BSgenome. With a_genome, you can ask questions like these:\n",
    "\n",
    "```\n",
    "# What is a_genome's main class?\n",
    "class(a_genome)  # \"BSgenome\"\n",
    "\n",
    "# What is a_genome's other classes?\n",
    "is(a_genome)  # \"BSgenome\", \"GenomeDescription\"\n",
    "\n",
    "# Is a_genome an S4 representation?\n",
    "isS4(a_genome)  # TRUE\n",
    "\n",
    "```\n",
    "If you want to find out more about the a_genome object, you can use the accessor `show(a_genome)` or use other specific accessors from the list of .S4methods(class = \"BSgenome\")."
   ]
  },
  {
   "cell_type": "code",
   "execution_count": 1,
   "metadata": {},
   "outputs": [
    {
     "data": {
      "text/plain": [
       "no methods found"
      ]
     },
     "metadata": {},
     "output_type": "display_data"
    }
   ],
   "source": [
    "# test S4 method\n",
    ".S4methods(class = \"BSgenome\")"
   ]
  },
  {
   "cell_type": "code",
   "execution_count": 6,
   "metadata": {},
   "outputs": [],
   "source": [
    "library('BSgenome.Scerevisiae.UCSC.sacCer3')\n",
    "a_genome <- BSgenome.Scerevisiae.UCSC.sacCer3"
   ]
  },
  {
   "cell_type": "code",
   "execution_count": 7,
   "metadata": {},
   "outputs": [
    {
     "name": "stdout",
     "output_type": "stream",
     "text": [
      "Yeast genome:\n",
      "# organism: Saccharomyces cerevisiae (Yeast)\n",
      "# genome: sacCer3\n",
      "# provider: UCSC\n",
      "# release date: April 2011\n",
      "# 17 sequences:\n",
      "#   chrI    chrII   chrIII  chrIV   chrV    chrVI   chrVII  chrVIII chrIX  \n",
      "#   chrX    chrXI   chrXII  chrXIII chrXIV  chrXV   chrXVI  chrM           \n",
      "# (use 'seqnames()' to see all the sequence names, use the '$' or '[[' operator\n",
      "# to access a given sequence)\n"
     ]
    },
    {
     "data": {
      "text/html": [
       "'Saccharomyces cerevisiae'"
      ],
      "text/latex": [
       "'Saccharomyces cerevisiae'"
      ],
      "text/markdown": [
       "'Saccharomyces cerevisiae'"
      ],
      "text/plain": [
       "[1] \"Saccharomyces cerevisiae\""
      ]
     },
     "metadata": {},
     "output_type": "display_data"
    },
    {
     "data": {
      "text/html": [
       "'UCSC'"
      ],
      "text/latex": [
       "'UCSC'"
      ],
      "text/markdown": [
       "'UCSC'"
      ],
      "text/plain": [
       "[1] \"UCSC\""
      ]
     },
     "metadata": {},
     "output_type": "display_data"
    },
    {
     "data": {
      "text/plain": [
       "Seqinfo object with 17 sequences (1 circular) from sacCer3 genome:\n",
       "  seqnames seqlengths isCircular  genome\n",
       "  chrI         230218      FALSE sacCer3\n",
       "  chrII        813184      FALSE sacCer3\n",
       "  chrIII       316620      FALSE sacCer3\n",
       "  chrIV       1531933      FALSE sacCer3\n",
       "  chrV         576874      FALSE sacCer3\n",
       "  ...             ...        ...     ...\n",
       "  chrXIII      924431      FALSE sacCer3\n",
       "  chrXIV       784333      FALSE sacCer3\n",
       "  chrXV       1091291      FALSE sacCer3\n",
       "  chrXVI       948066      FALSE sacCer3\n",
       "  chrM          85779       TRUE sacCer3"
      ]
     },
     "metadata": {},
     "output_type": "display_data"
    }
   ],
   "source": [
    "# Investigate the a_genome using show()\n",
    "show(a_genome)\n",
    "\n",
    "# Investigate some other accesors\n",
    "organism(a_genome)\n",
    "provider(a_genome)\n",
    "seqinfo(a_genome)"
   ]
  },
  {
   "cell_type": "code",
   "execution_count": 4,
   "metadata": {},
   "outputs": [
    {
     "name": "stderr",
     "output_type": "stream",
     "text": [
      "'getOption(\"repos\")' replaces Bioconductor standard repositories, see\n",
      "'?repositories' for details\n",
      "\n",
      "replacement repositories:\n",
      "    CRAN: https://cran.r-project.org\n",
      "\n",
      "\n"
     ]
    },
    {
     "data": {
      "text/html": [
       "<style>\n",
       ".list-inline {list-style: none; margin:0; padding: 0}\n",
       ".list-inline>li {display: inline-block}\n",
       ".list-inline>li:not(:last-child)::after {content: \"\\00b7\"; padding: 0 .5ex}\n",
       "</style>\n",
       "<ol class=list-inline><li>'BSgenome.Alyrata.JGI.v1'</li><li>'BSgenome.Amellifera.BeeBase.assembly4'</li><li>'BSgenome.Amellifera.NCBI.AmelHAv3.1'</li><li>'BSgenome.Amellifera.UCSC.apiMel2'</li><li>'BSgenome.Amellifera.UCSC.apiMel2.masked'</li><li>'BSgenome.Aofficinalis.NCBI.V1'</li><li>'BSgenome.Athaliana.TAIR.04232008'</li><li>'BSgenome.Athaliana.TAIR.TAIR9'</li><li>'BSgenome.Btaurus.UCSC.bosTau3'</li><li>'BSgenome.Btaurus.UCSC.bosTau3.masked'</li><li>'BSgenome.Btaurus.UCSC.bosTau4'</li><li>'BSgenome.Btaurus.UCSC.bosTau4.masked'</li><li>'BSgenome.Btaurus.UCSC.bosTau6'</li><li>'BSgenome.Btaurus.UCSC.bosTau6.masked'</li><li>'BSgenome.Btaurus.UCSC.bosTau8'</li><li>'BSgenome.Btaurus.UCSC.bosTau9'</li><li>'BSgenome.Carietinum.NCBI.v1'</li><li>'BSgenome.Celegans.UCSC.ce10'</li><li>'BSgenome.Celegans.UCSC.ce11'</li><li>'BSgenome.Celegans.UCSC.ce2'</li><li>'BSgenome.Celegans.UCSC.ce6'</li><li>'BSgenome.Cfamiliaris.UCSC.canFam2'</li><li>'BSgenome.Cfamiliaris.UCSC.canFam2.masked'</li><li>'BSgenome.Cfamiliaris.UCSC.canFam3'</li><li>'BSgenome.Cfamiliaris.UCSC.canFam3.masked'</li><li>'BSgenome.Cjacchus.UCSC.calJac3'</li><li>'BSgenome.Creinhardtii.JGI.v5.6'</li><li>'BSgenome.Dmelanogaster.UCSC.dm2'</li><li>'BSgenome.Dmelanogaster.UCSC.dm2.masked'</li><li>'BSgenome.Dmelanogaster.UCSC.dm3'</li><li>'BSgenome.Dmelanogaster.UCSC.dm3.masked'</li><li>'BSgenome.Dmelanogaster.UCSC.dm6'</li><li>'BSgenome.Drerio.UCSC.danRer10'</li><li>'BSgenome.Drerio.UCSC.danRer11'</li><li>'BSgenome.Drerio.UCSC.danRer5'</li><li>'BSgenome.Drerio.UCSC.danRer5.masked'</li><li>'BSgenome.Drerio.UCSC.danRer6'</li><li>'BSgenome.Drerio.UCSC.danRer6.masked'</li><li>'BSgenome.Drerio.UCSC.danRer7'</li><li>'BSgenome.Drerio.UCSC.danRer7.masked'</li><li>'BSgenome.Dvirilis.Ensembl.dvircaf1'</li><li>'BSgenome.Ecoli.NCBI.20080805'</li><li>'BSgenome.Gaculeatus.UCSC.gasAcu1'</li><li>'BSgenome.Gaculeatus.UCSC.gasAcu1.masked'</li><li>'BSgenome.Ggallus.UCSC.galGal3'</li><li>'BSgenome.Ggallus.UCSC.galGal3.masked'</li><li>'BSgenome.Ggallus.UCSC.galGal4'</li><li>'BSgenome.Ggallus.UCSC.galGal4.masked'</li><li>'BSgenome.Ggallus.UCSC.galGal5'</li><li>'BSgenome.Ggallus.UCSC.galGal6'</li><li>'BSgenome.Hsapiens.1000genomes.hs37d5'</li><li>'BSgenome.Hsapiens.NCBI.GRCh38'</li><li>'BSgenome.Hsapiens.UCSC.hg17'</li><li>'BSgenome.Hsapiens.UCSC.hg17.masked'</li><li>'BSgenome.Hsapiens.UCSC.hg18'</li><li>'BSgenome.Hsapiens.UCSC.hg18.masked'</li><li>'BSgenome.Hsapiens.UCSC.hg19'</li><li>'BSgenome.Hsapiens.UCSC.hg19.masked'</li><li>'BSgenome.Hsapiens.UCSC.hg38'</li><li>'BSgenome.Hsapiens.UCSC.hg38.dbSNP151.major'</li><li>'BSgenome.Hsapiens.UCSC.hg38.dbSNP151.minor'</li><li>'BSgenome.Hsapiens.UCSC.hg38.masked'</li><li>'BSgenome.Mdomestica.UCSC.monDom5'</li><li>'BSgenome.Mfascicularis.NCBI.5.0'</li><li>'BSgenome.Mfuro.UCSC.musFur1'</li><li>'BSgenome.Mmulatta.UCSC.rheMac10'</li><li>'BSgenome.Mmulatta.UCSC.rheMac2'</li><li>'BSgenome.Mmulatta.UCSC.rheMac2.masked'</li><li>'BSgenome.Mmulatta.UCSC.rheMac3'</li><li>'BSgenome.Mmulatta.UCSC.rheMac3.masked'</li><li>'BSgenome.Mmulatta.UCSC.rheMac8'</li><li>'BSgenome.Mmusculus.UCSC.mm10'</li><li>'BSgenome.Mmusculus.UCSC.mm10.masked'</li><li>'BSgenome.Mmusculus.UCSC.mm8'</li><li>'BSgenome.Mmusculus.UCSC.mm8.masked'</li><li>'BSgenome.Mmusculus.UCSC.mm9'</li><li>'BSgenome.Mmusculus.UCSC.mm9.masked'</li><li>'BSgenome.Osativa.MSU.MSU7'</li><li>'BSgenome.Ppaniscus.UCSC.panPan1'</li><li>'BSgenome.Ppaniscus.UCSC.panPan2'</li><li>'BSgenome.Ptroglodytes.UCSC.panTro2'</li><li>'BSgenome.Ptroglodytes.UCSC.panTro2.masked'</li><li>'BSgenome.Ptroglodytes.UCSC.panTro3'</li><li>'BSgenome.Ptroglodytes.UCSC.panTro3.masked'</li><li>'BSgenome.Ptroglodytes.UCSC.panTro5'</li><li>'BSgenome.Ptroglodytes.UCSC.panTro6'</li><li>'BSgenome.Rnorvegicus.UCSC.rn4'</li><li>'BSgenome.Rnorvegicus.UCSC.rn4.masked'</li><li>'BSgenome.Rnorvegicus.UCSC.rn5'</li><li>'BSgenome.Rnorvegicus.UCSC.rn5.masked'</li><li>'BSgenome.Rnorvegicus.UCSC.rn6'</li><li>'BSgenome.Rnorvegicus.UCSC.rn7'</li><li>'BSgenome.Scerevisiae.UCSC.sacCer1'</li><li>'BSgenome.Scerevisiae.UCSC.sacCer2'</li><li>'BSgenome.Scerevisiae.UCSC.sacCer3'</li><li>'BSgenome.Sscrofa.UCSC.susScr11'</li><li>'BSgenome.Sscrofa.UCSC.susScr3'</li><li>'BSgenome.Sscrofa.UCSC.susScr3.masked'</li><li>'BSgenome.Tgondii.ToxoDB.7.0'</li><li>'BSgenome.Tguttata.UCSC.taeGut1'</li><li>'BSgenome.Tguttata.UCSC.taeGut1.masked'</li><li>'BSgenome.Tguttata.UCSC.taeGut2'</li><li>'BSgenome.Vvinifera.URGI.IGGP12Xv0'</li><li>'BSgenome.Vvinifera.URGI.IGGP12Xv2'</li><li>'BSgenome.Vvinifera.URGI.IGGP8X'</li></ol>\n"
      ],
      "text/latex": [
       "\\begin{enumerate*}\n",
       "\\item 'BSgenome.Alyrata.JGI.v1'\n",
       "\\item 'BSgenome.Amellifera.BeeBase.assembly4'\n",
       "\\item 'BSgenome.Amellifera.NCBI.AmelHAv3.1'\n",
       "\\item 'BSgenome.Amellifera.UCSC.apiMel2'\n",
       "\\item 'BSgenome.Amellifera.UCSC.apiMel2.masked'\n",
       "\\item 'BSgenome.Aofficinalis.NCBI.V1'\n",
       "\\item 'BSgenome.Athaliana.TAIR.04232008'\n",
       "\\item 'BSgenome.Athaliana.TAIR.TAIR9'\n",
       "\\item 'BSgenome.Btaurus.UCSC.bosTau3'\n",
       "\\item 'BSgenome.Btaurus.UCSC.bosTau3.masked'\n",
       "\\item 'BSgenome.Btaurus.UCSC.bosTau4'\n",
       "\\item 'BSgenome.Btaurus.UCSC.bosTau4.masked'\n",
       "\\item 'BSgenome.Btaurus.UCSC.bosTau6'\n",
       "\\item 'BSgenome.Btaurus.UCSC.bosTau6.masked'\n",
       "\\item 'BSgenome.Btaurus.UCSC.bosTau8'\n",
       "\\item 'BSgenome.Btaurus.UCSC.bosTau9'\n",
       "\\item 'BSgenome.Carietinum.NCBI.v1'\n",
       "\\item 'BSgenome.Celegans.UCSC.ce10'\n",
       "\\item 'BSgenome.Celegans.UCSC.ce11'\n",
       "\\item 'BSgenome.Celegans.UCSC.ce2'\n",
       "\\item 'BSgenome.Celegans.UCSC.ce6'\n",
       "\\item 'BSgenome.Cfamiliaris.UCSC.canFam2'\n",
       "\\item 'BSgenome.Cfamiliaris.UCSC.canFam2.masked'\n",
       "\\item 'BSgenome.Cfamiliaris.UCSC.canFam3'\n",
       "\\item 'BSgenome.Cfamiliaris.UCSC.canFam3.masked'\n",
       "\\item 'BSgenome.Cjacchus.UCSC.calJac3'\n",
       "\\item 'BSgenome.Creinhardtii.JGI.v5.6'\n",
       "\\item 'BSgenome.Dmelanogaster.UCSC.dm2'\n",
       "\\item 'BSgenome.Dmelanogaster.UCSC.dm2.masked'\n",
       "\\item 'BSgenome.Dmelanogaster.UCSC.dm3'\n",
       "\\item 'BSgenome.Dmelanogaster.UCSC.dm3.masked'\n",
       "\\item 'BSgenome.Dmelanogaster.UCSC.dm6'\n",
       "\\item 'BSgenome.Drerio.UCSC.danRer10'\n",
       "\\item 'BSgenome.Drerio.UCSC.danRer11'\n",
       "\\item 'BSgenome.Drerio.UCSC.danRer5'\n",
       "\\item 'BSgenome.Drerio.UCSC.danRer5.masked'\n",
       "\\item 'BSgenome.Drerio.UCSC.danRer6'\n",
       "\\item 'BSgenome.Drerio.UCSC.danRer6.masked'\n",
       "\\item 'BSgenome.Drerio.UCSC.danRer7'\n",
       "\\item 'BSgenome.Drerio.UCSC.danRer7.masked'\n",
       "\\item 'BSgenome.Dvirilis.Ensembl.dvircaf1'\n",
       "\\item 'BSgenome.Ecoli.NCBI.20080805'\n",
       "\\item 'BSgenome.Gaculeatus.UCSC.gasAcu1'\n",
       "\\item 'BSgenome.Gaculeatus.UCSC.gasAcu1.masked'\n",
       "\\item 'BSgenome.Ggallus.UCSC.galGal3'\n",
       "\\item 'BSgenome.Ggallus.UCSC.galGal3.masked'\n",
       "\\item 'BSgenome.Ggallus.UCSC.galGal4'\n",
       "\\item 'BSgenome.Ggallus.UCSC.galGal4.masked'\n",
       "\\item 'BSgenome.Ggallus.UCSC.galGal5'\n",
       "\\item 'BSgenome.Ggallus.UCSC.galGal6'\n",
       "\\item 'BSgenome.Hsapiens.1000genomes.hs37d5'\n",
       "\\item 'BSgenome.Hsapiens.NCBI.GRCh38'\n",
       "\\item 'BSgenome.Hsapiens.UCSC.hg17'\n",
       "\\item 'BSgenome.Hsapiens.UCSC.hg17.masked'\n",
       "\\item 'BSgenome.Hsapiens.UCSC.hg18'\n",
       "\\item 'BSgenome.Hsapiens.UCSC.hg18.masked'\n",
       "\\item 'BSgenome.Hsapiens.UCSC.hg19'\n",
       "\\item 'BSgenome.Hsapiens.UCSC.hg19.masked'\n",
       "\\item 'BSgenome.Hsapiens.UCSC.hg38'\n",
       "\\item 'BSgenome.Hsapiens.UCSC.hg38.dbSNP151.major'\n",
       "\\item 'BSgenome.Hsapiens.UCSC.hg38.dbSNP151.minor'\n",
       "\\item 'BSgenome.Hsapiens.UCSC.hg38.masked'\n",
       "\\item 'BSgenome.Mdomestica.UCSC.monDom5'\n",
       "\\item 'BSgenome.Mfascicularis.NCBI.5.0'\n",
       "\\item 'BSgenome.Mfuro.UCSC.musFur1'\n",
       "\\item 'BSgenome.Mmulatta.UCSC.rheMac10'\n",
       "\\item 'BSgenome.Mmulatta.UCSC.rheMac2'\n",
       "\\item 'BSgenome.Mmulatta.UCSC.rheMac2.masked'\n",
       "\\item 'BSgenome.Mmulatta.UCSC.rheMac3'\n",
       "\\item 'BSgenome.Mmulatta.UCSC.rheMac3.masked'\n",
       "\\item 'BSgenome.Mmulatta.UCSC.rheMac8'\n",
       "\\item 'BSgenome.Mmusculus.UCSC.mm10'\n",
       "\\item 'BSgenome.Mmusculus.UCSC.mm10.masked'\n",
       "\\item 'BSgenome.Mmusculus.UCSC.mm8'\n",
       "\\item 'BSgenome.Mmusculus.UCSC.mm8.masked'\n",
       "\\item 'BSgenome.Mmusculus.UCSC.mm9'\n",
       "\\item 'BSgenome.Mmusculus.UCSC.mm9.masked'\n",
       "\\item 'BSgenome.Osativa.MSU.MSU7'\n",
       "\\item 'BSgenome.Ppaniscus.UCSC.panPan1'\n",
       "\\item 'BSgenome.Ppaniscus.UCSC.panPan2'\n",
       "\\item 'BSgenome.Ptroglodytes.UCSC.panTro2'\n",
       "\\item 'BSgenome.Ptroglodytes.UCSC.panTro2.masked'\n",
       "\\item 'BSgenome.Ptroglodytes.UCSC.panTro3'\n",
       "\\item 'BSgenome.Ptroglodytes.UCSC.panTro3.masked'\n",
       "\\item 'BSgenome.Ptroglodytes.UCSC.panTro5'\n",
       "\\item 'BSgenome.Ptroglodytes.UCSC.panTro6'\n",
       "\\item 'BSgenome.Rnorvegicus.UCSC.rn4'\n",
       "\\item 'BSgenome.Rnorvegicus.UCSC.rn4.masked'\n",
       "\\item 'BSgenome.Rnorvegicus.UCSC.rn5'\n",
       "\\item 'BSgenome.Rnorvegicus.UCSC.rn5.masked'\n",
       "\\item 'BSgenome.Rnorvegicus.UCSC.rn6'\n",
       "\\item 'BSgenome.Rnorvegicus.UCSC.rn7'\n",
       "\\item 'BSgenome.Scerevisiae.UCSC.sacCer1'\n",
       "\\item 'BSgenome.Scerevisiae.UCSC.sacCer2'\n",
       "\\item 'BSgenome.Scerevisiae.UCSC.sacCer3'\n",
       "\\item 'BSgenome.Sscrofa.UCSC.susScr11'\n",
       "\\item 'BSgenome.Sscrofa.UCSC.susScr3'\n",
       "\\item 'BSgenome.Sscrofa.UCSC.susScr3.masked'\n",
       "\\item 'BSgenome.Tgondii.ToxoDB.7.0'\n",
       "\\item 'BSgenome.Tguttata.UCSC.taeGut1'\n",
       "\\item 'BSgenome.Tguttata.UCSC.taeGut1.masked'\n",
       "\\item 'BSgenome.Tguttata.UCSC.taeGut2'\n",
       "\\item 'BSgenome.Vvinifera.URGI.IGGP12Xv0'\n",
       "\\item 'BSgenome.Vvinifera.URGI.IGGP12Xv2'\n",
       "\\item 'BSgenome.Vvinifera.URGI.IGGP8X'\n",
       "\\end{enumerate*}\n"
      ],
      "text/markdown": [
       "1. 'BSgenome.Alyrata.JGI.v1'\n",
       "2. 'BSgenome.Amellifera.BeeBase.assembly4'\n",
       "3. 'BSgenome.Amellifera.NCBI.AmelHAv3.1'\n",
       "4. 'BSgenome.Amellifera.UCSC.apiMel2'\n",
       "5. 'BSgenome.Amellifera.UCSC.apiMel2.masked'\n",
       "6. 'BSgenome.Aofficinalis.NCBI.V1'\n",
       "7. 'BSgenome.Athaliana.TAIR.04232008'\n",
       "8. 'BSgenome.Athaliana.TAIR.TAIR9'\n",
       "9. 'BSgenome.Btaurus.UCSC.bosTau3'\n",
       "10. 'BSgenome.Btaurus.UCSC.bosTau3.masked'\n",
       "11. 'BSgenome.Btaurus.UCSC.bosTau4'\n",
       "12. 'BSgenome.Btaurus.UCSC.bosTau4.masked'\n",
       "13. 'BSgenome.Btaurus.UCSC.bosTau6'\n",
       "14. 'BSgenome.Btaurus.UCSC.bosTau6.masked'\n",
       "15. 'BSgenome.Btaurus.UCSC.bosTau8'\n",
       "16. 'BSgenome.Btaurus.UCSC.bosTau9'\n",
       "17. 'BSgenome.Carietinum.NCBI.v1'\n",
       "18. 'BSgenome.Celegans.UCSC.ce10'\n",
       "19. 'BSgenome.Celegans.UCSC.ce11'\n",
       "20. 'BSgenome.Celegans.UCSC.ce2'\n",
       "21. 'BSgenome.Celegans.UCSC.ce6'\n",
       "22. 'BSgenome.Cfamiliaris.UCSC.canFam2'\n",
       "23. 'BSgenome.Cfamiliaris.UCSC.canFam2.masked'\n",
       "24. 'BSgenome.Cfamiliaris.UCSC.canFam3'\n",
       "25. 'BSgenome.Cfamiliaris.UCSC.canFam3.masked'\n",
       "26. 'BSgenome.Cjacchus.UCSC.calJac3'\n",
       "27. 'BSgenome.Creinhardtii.JGI.v5.6'\n",
       "28. 'BSgenome.Dmelanogaster.UCSC.dm2'\n",
       "29. 'BSgenome.Dmelanogaster.UCSC.dm2.masked'\n",
       "30. 'BSgenome.Dmelanogaster.UCSC.dm3'\n",
       "31. 'BSgenome.Dmelanogaster.UCSC.dm3.masked'\n",
       "32. 'BSgenome.Dmelanogaster.UCSC.dm6'\n",
       "33. 'BSgenome.Drerio.UCSC.danRer10'\n",
       "34. 'BSgenome.Drerio.UCSC.danRer11'\n",
       "35. 'BSgenome.Drerio.UCSC.danRer5'\n",
       "36. 'BSgenome.Drerio.UCSC.danRer5.masked'\n",
       "37. 'BSgenome.Drerio.UCSC.danRer6'\n",
       "38. 'BSgenome.Drerio.UCSC.danRer6.masked'\n",
       "39. 'BSgenome.Drerio.UCSC.danRer7'\n",
       "40. 'BSgenome.Drerio.UCSC.danRer7.masked'\n",
       "41. 'BSgenome.Dvirilis.Ensembl.dvircaf1'\n",
       "42. 'BSgenome.Ecoli.NCBI.20080805'\n",
       "43. 'BSgenome.Gaculeatus.UCSC.gasAcu1'\n",
       "44. 'BSgenome.Gaculeatus.UCSC.gasAcu1.masked'\n",
       "45. 'BSgenome.Ggallus.UCSC.galGal3'\n",
       "46. 'BSgenome.Ggallus.UCSC.galGal3.masked'\n",
       "47. 'BSgenome.Ggallus.UCSC.galGal4'\n",
       "48. 'BSgenome.Ggallus.UCSC.galGal4.masked'\n",
       "49. 'BSgenome.Ggallus.UCSC.galGal5'\n",
       "50. 'BSgenome.Ggallus.UCSC.galGal6'\n",
       "51. 'BSgenome.Hsapiens.1000genomes.hs37d5'\n",
       "52. 'BSgenome.Hsapiens.NCBI.GRCh38'\n",
       "53. 'BSgenome.Hsapiens.UCSC.hg17'\n",
       "54. 'BSgenome.Hsapiens.UCSC.hg17.masked'\n",
       "55. 'BSgenome.Hsapiens.UCSC.hg18'\n",
       "56. 'BSgenome.Hsapiens.UCSC.hg18.masked'\n",
       "57. 'BSgenome.Hsapiens.UCSC.hg19'\n",
       "58. 'BSgenome.Hsapiens.UCSC.hg19.masked'\n",
       "59. 'BSgenome.Hsapiens.UCSC.hg38'\n",
       "60. 'BSgenome.Hsapiens.UCSC.hg38.dbSNP151.major'\n",
       "61. 'BSgenome.Hsapiens.UCSC.hg38.dbSNP151.minor'\n",
       "62. 'BSgenome.Hsapiens.UCSC.hg38.masked'\n",
       "63. 'BSgenome.Mdomestica.UCSC.monDom5'\n",
       "64. 'BSgenome.Mfascicularis.NCBI.5.0'\n",
       "65. 'BSgenome.Mfuro.UCSC.musFur1'\n",
       "66. 'BSgenome.Mmulatta.UCSC.rheMac10'\n",
       "67. 'BSgenome.Mmulatta.UCSC.rheMac2'\n",
       "68. 'BSgenome.Mmulatta.UCSC.rheMac2.masked'\n",
       "69. 'BSgenome.Mmulatta.UCSC.rheMac3'\n",
       "70. 'BSgenome.Mmulatta.UCSC.rheMac3.masked'\n",
       "71. 'BSgenome.Mmulatta.UCSC.rheMac8'\n",
       "72. 'BSgenome.Mmusculus.UCSC.mm10'\n",
       "73. 'BSgenome.Mmusculus.UCSC.mm10.masked'\n",
       "74. 'BSgenome.Mmusculus.UCSC.mm8'\n",
       "75. 'BSgenome.Mmusculus.UCSC.mm8.masked'\n",
       "76. 'BSgenome.Mmusculus.UCSC.mm9'\n",
       "77. 'BSgenome.Mmusculus.UCSC.mm9.masked'\n",
       "78. 'BSgenome.Osativa.MSU.MSU7'\n",
       "79. 'BSgenome.Ppaniscus.UCSC.panPan1'\n",
       "80. 'BSgenome.Ppaniscus.UCSC.panPan2'\n",
       "81. 'BSgenome.Ptroglodytes.UCSC.panTro2'\n",
       "82. 'BSgenome.Ptroglodytes.UCSC.panTro2.masked'\n",
       "83. 'BSgenome.Ptroglodytes.UCSC.panTro3'\n",
       "84. 'BSgenome.Ptroglodytes.UCSC.panTro3.masked'\n",
       "85. 'BSgenome.Ptroglodytes.UCSC.panTro5'\n",
       "86. 'BSgenome.Ptroglodytes.UCSC.panTro6'\n",
       "87. 'BSgenome.Rnorvegicus.UCSC.rn4'\n",
       "88. 'BSgenome.Rnorvegicus.UCSC.rn4.masked'\n",
       "89. 'BSgenome.Rnorvegicus.UCSC.rn5'\n",
       "90. 'BSgenome.Rnorvegicus.UCSC.rn5.masked'\n",
       "91. 'BSgenome.Rnorvegicus.UCSC.rn6'\n",
       "92. 'BSgenome.Rnorvegicus.UCSC.rn7'\n",
       "93. 'BSgenome.Scerevisiae.UCSC.sacCer1'\n",
       "94. 'BSgenome.Scerevisiae.UCSC.sacCer2'\n",
       "95. 'BSgenome.Scerevisiae.UCSC.sacCer3'\n",
       "96. 'BSgenome.Sscrofa.UCSC.susScr11'\n",
       "97. 'BSgenome.Sscrofa.UCSC.susScr3'\n",
       "98. 'BSgenome.Sscrofa.UCSC.susScr3.masked'\n",
       "99. 'BSgenome.Tgondii.ToxoDB.7.0'\n",
       "100. 'BSgenome.Tguttata.UCSC.taeGut1'\n",
       "101. 'BSgenome.Tguttata.UCSC.taeGut1.masked'\n",
       "102. 'BSgenome.Tguttata.UCSC.taeGut2'\n",
       "103. 'BSgenome.Vvinifera.URGI.IGGP12Xv0'\n",
       "104. 'BSgenome.Vvinifera.URGI.IGGP12Xv2'\n",
       "105. 'BSgenome.Vvinifera.URGI.IGGP8X'\n",
       "\n",
       "\n"
      ],
      "text/plain": [
       "  [1] \"BSgenome.Alyrata.JGI.v1\"                   \n",
       "  [2] \"BSgenome.Amellifera.BeeBase.assembly4\"     \n",
       "  [3] \"BSgenome.Amellifera.NCBI.AmelHAv3.1\"       \n",
       "  [4] \"BSgenome.Amellifera.UCSC.apiMel2\"          \n",
       "  [5] \"BSgenome.Amellifera.UCSC.apiMel2.masked\"   \n",
       "  [6] \"BSgenome.Aofficinalis.NCBI.V1\"             \n",
       "  [7] \"BSgenome.Athaliana.TAIR.04232008\"          \n",
       "  [8] \"BSgenome.Athaliana.TAIR.TAIR9\"             \n",
       "  [9] \"BSgenome.Btaurus.UCSC.bosTau3\"             \n",
       " [10] \"BSgenome.Btaurus.UCSC.bosTau3.masked\"      \n",
       " [11] \"BSgenome.Btaurus.UCSC.bosTau4\"             \n",
       " [12] \"BSgenome.Btaurus.UCSC.bosTau4.masked\"      \n",
       " [13] \"BSgenome.Btaurus.UCSC.bosTau6\"             \n",
       " [14] \"BSgenome.Btaurus.UCSC.bosTau6.masked\"      \n",
       " [15] \"BSgenome.Btaurus.UCSC.bosTau8\"             \n",
       " [16] \"BSgenome.Btaurus.UCSC.bosTau9\"             \n",
       " [17] \"BSgenome.Carietinum.NCBI.v1\"               \n",
       " [18] \"BSgenome.Celegans.UCSC.ce10\"               \n",
       " [19] \"BSgenome.Celegans.UCSC.ce11\"               \n",
       " [20] \"BSgenome.Celegans.UCSC.ce2\"                \n",
       " [21] \"BSgenome.Celegans.UCSC.ce6\"                \n",
       " [22] \"BSgenome.Cfamiliaris.UCSC.canFam2\"         \n",
       " [23] \"BSgenome.Cfamiliaris.UCSC.canFam2.masked\"  \n",
       " [24] \"BSgenome.Cfamiliaris.UCSC.canFam3\"         \n",
       " [25] \"BSgenome.Cfamiliaris.UCSC.canFam3.masked\"  \n",
       " [26] \"BSgenome.Cjacchus.UCSC.calJac3\"            \n",
       " [27] \"BSgenome.Creinhardtii.JGI.v5.6\"            \n",
       " [28] \"BSgenome.Dmelanogaster.UCSC.dm2\"           \n",
       " [29] \"BSgenome.Dmelanogaster.UCSC.dm2.masked\"    \n",
       " [30] \"BSgenome.Dmelanogaster.UCSC.dm3\"           \n",
       " [31] \"BSgenome.Dmelanogaster.UCSC.dm3.masked\"    \n",
       " [32] \"BSgenome.Dmelanogaster.UCSC.dm6\"           \n",
       " [33] \"BSgenome.Drerio.UCSC.danRer10\"             \n",
       " [34] \"BSgenome.Drerio.UCSC.danRer11\"             \n",
       " [35] \"BSgenome.Drerio.UCSC.danRer5\"              \n",
       " [36] \"BSgenome.Drerio.UCSC.danRer5.masked\"       \n",
       " [37] \"BSgenome.Drerio.UCSC.danRer6\"              \n",
       " [38] \"BSgenome.Drerio.UCSC.danRer6.masked\"       \n",
       " [39] \"BSgenome.Drerio.UCSC.danRer7\"              \n",
       " [40] \"BSgenome.Drerio.UCSC.danRer7.masked\"       \n",
       " [41] \"BSgenome.Dvirilis.Ensembl.dvircaf1\"        \n",
       " [42] \"BSgenome.Ecoli.NCBI.20080805\"              \n",
       " [43] \"BSgenome.Gaculeatus.UCSC.gasAcu1\"          \n",
       " [44] \"BSgenome.Gaculeatus.UCSC.gasAcu1.masked\"   \n",
       " [45] \"BSgenome.Ggallus.UCSC.galGal3\"             \n",
       " [46] \"BSgenome.Ggallus.UCSC.galGal3.masked\"      \n",
       " [47] \"BSgenome.Ggallus.UCSC.galGal4\"             \n",
       " [48] \"BSgenome.Ggallus.UCSC.galGal4.masked\"      \n",
       " [49] \"BSgenome.Ggallus.UCSC.galGal5\"             \n",
       " [50] \"BSgenome.Ggallus.UCSC.galGal6\"             \n",
       " [51] \"BSgenome.Hsapiens.1000genomes.hs37d5\"      \n",
       " [52] \"BSgenome.Hsapiens.NCBI.GRCh38\"             \n",
       " [53] \"BSgenome.Hsapiens.UCSC.hg17\"               \n",
       " [54] \"BSgenome.Hsapiens.UCSC.hg17.masked\"        \n",
       " [55] \"BSgenome.Hsapiens.UCSC.hg18\"               \n",
       " [56] \"BSgenome.Hsapiens.UCSC.hg18.masked\"        \n",
       " [57] \"BSgenome.Hsapiens.UCSC.hg19\"               \n",
       " [58] \"BSgenome.Hsapiens.UCSC.hg19.masked\"        \n",
       " [59] \"BSgenome.Hsapiens.UCSC.hg38\"               \n",
       " [60] \"BSgenome.Hsapiens.UCSC.hg38.dbSNP151.major\"\n",
       " [61] \"BSgenome.Hsapiens.UCSC.hg38.dbSNP151.minor\"\n",
       " [62] \"BSgenome.Hsapiens.UCSC.hg38.masked\"        \n",
       " [63] \"BSgenome.Mdomestica.UCSC.monDom5\"          \n",
       " [64] \"BSgenome.Mfascicularis.NCBI.5.0\"           \n",
       " [65] \"BSgenome.Mfuro.UCSC.musFur1\"               \n",
       " [66] \"BSgenome.Mmulatta.UCSC.rheMac10\"           \n",
       " [67] \"BSgenome.Mmulatta.UCSC.rheMac2\"            \n",
       " [68] \"BSgenome.Mmulatta.UCSC.rheMac2.masked\"     \n",
       " [69] \"BSgenome.Mmulatta.UCSC.rheMac3\"            \n",
       " [70] \"BSgenome.Mmulatta.UCSC.rheMac3.masked\"     \n",
       " [71] \"BSgenome.Mmulatta.UCSC.rheMac8\"            \n",
       " [72] \"BSgenome.Mmusculus.UCSC.mm10\"              \n",
       " [73] \"BSgenome.Mmusculus.UCSC.mm10.masked\"       \n",
       " [74] \"BSgenome.Mmusculus.UCSC.mm8\"               \n",
       " [75] \"BSgenome.Mmusculus.UCSC.mm8.masked\"        \n",
       " [76] \"BSgenome.Mmusculus.UCSC.mm9\"               \n",
       " [77] \"BSgenome.Mmusculus.UCSC.mm9.masked\"        \n",
       " [78] \"BSgenome.Osativa.MSU.MSU7\"                 \n",
       " [79] \"BSgenome.Ppaniscus.UCSC.panPan1\"           \n",
       " [80] \"BSgenome.Ppaniscus.UCSC.panPan2\"           \n",
       " [81] \"BSgenome.Ptroglodytes.UCSC.panTro2\"        \n",
       " [82] \"BSgenome.Ptroglodytes.UCSC.panTro2.masked\" \n",
       " [83] \"BSgenome.Ptroglodytes.UCSC.panTro3\"        \n",
       " [84] \"BSgenome.Ptroglodytes.UCSC.panTro3.masked\" \n",
       " [85] \"BSgenome.Ptroglodytes.UCSC.panTro5\"        \n",
       " [86] \"BSgenome.Ptroglodytes.UCSC.panTro6\"        \n",
       " [87] \"BSgenome.Rnorvegicus.UCSC.rn4\"             \n",
       " [88] \"BSgenome.Rnorvegicus.UCSC.rn4.masked\"      \n",
       " [89] \"BSgenome.Rnorvegicus.UCSC.rn5\"             \n",
       " [90] \"BSgenome.Rnorvegicus.UCSC.rn5.masked\"      \n",
       " [91] \"BSgenome.Rnorvegicus.UCSC.rn6\"             \n",
       " [92] \"BSgenome.Rnorvegicus.UCSC.rn7\"             \n",
       " [93] \"BSgenome.Scerevisiae.UCSC.sacCer1\"         \n",
       " [94] \"BSgenome.Scerevisiae.UCSC.sacCer2\"         \n",
       " [95] \"BSgenome.Scerevisiae.UCSC.sacCer3\"         \n",
       " [96] \"BSgenome.Sscrofa.UCSC.susScr11\"            \n",
       " [97] \"BSgenome.Sscrofa.UCSC.susScr3\"             \n",
       " [98] \"BSgenome.Sscrofa.UCSC.susScr3.masked\"      \n",
       " [99] \"BSgenome.Tgondii.ToxoDB.7.0\"               \n",
       "[100] \"BSgenome.Tguttata.UCSC.taeGut1\"            \n",
       "[101] \"BSgenome.Tguttata.UCSC.taeGut1.masked\"     \n",
       "[102] \"BSgenome.Tguttata.UCSC.taeGut2\"            \n",
       "[103] \"BSgenome.Vvinifera.URGI.IGGP12Xv0\"         \n",
       "[104] \"BSgenome.Vvinifera.URGI.IGGP12Xv2\"         \n",
       "[105] \"BSgenome.Vvinifera.URGI.IGGP8X\"            "
      ]
     },
     "metadata": {},
     "output_type": "display_data"
    }
   ],
   "source": [
    "# available genomes in BSgenome\n",
    "available.genomes()"
   ]
  },
  {
   "cell_type": "code",
   "execution_count": 5,
   "metadata": {},
   "outputs": [
    {
     "name": "stderr",
     "output_type": "stream",
     "text": [
      "'getOption(\"repos\")' replaces Bioconductor standard repositories, see\n",
      "'?repositories' for details\n",
      "\n",
      "replacement repositories:\n",
      "    CRAN: https://cran.r-project.org\n",
      "\n",
      "\n",
      "Bioconductor version 3.13 (BiocManager 1.30.16), R 4.1.2 (2021-11-01)\n",
      "\n",
      "Installing package(s) 'BSgenome.Scerevisiae.UCSC.sacCer3'\n",
      "\n",
      "installing the source package 'BSgenome.Scerevisiae.UCSC.sacCer3'\n",
      "\n",
      "\n",
      "Old packages: 'backports', 'brio', 'broom', 'cli', 'cpp11', 'crayon', 'DBI',\n",
      "  'digest', 'dtplyr', 'fansi', 'fs', 'generics', 'glmnet', 'glue', 'jsonlite',\n",
      "  'knitr', 'languageserver', 'mvtnorm', 'openssl', 'pillar', 'pkgload',\n",
      "  'raster', 'Rcpp', 'readr', 'remotes', 'repr', 'rex', 'rJava', 'rjson',\n",
      "  'rlang', 'rsconnect', 'rvest', 'sp', 'stringi', 'testthat', 'tibble',\n",
      "  'tinytex', 'tzdb', 'uuid', 'vroom', 'withr', 'xfun', 'xgboost', 'xml2',\n",
      "  'yaml', 'class', 'foreign', 'later', 'MASS', 'nlme', 'nnet', 'rpart',\n",
      "  'spatial'\n",
      "\n"
     ]
    }
   ],
   "source": [
    "## Install yeast genome\n",
    "BiocManager::install('BSgenome.Scerevisiae.UCSC.sacCer3')"
   ]
  },
  {
   "cell_type": "markdown",
   "metadata": {},
   "source": [
    "### Discovering the yeast genome\n",
    "You'll begin to explore the yeast genome for yourself using the package `BSgenome.Scerevisiae.UCSC.sacCer3`, which is already installed for you.\n",
    "\n",
    "As with other data in R, you can use `head()` and `tail()` to explore the yeastGenome object. You can also subset the genome by chromosome by using `$` syntax as follows: `object_name$chromosome_name`.\n",
    "\n",
    "The names of the chromosomes can be obtained using the `names()` function, and `nchar()` can be used to count the number of characters in a sequence."
   ]
  },
  {
   "cell_type": "code",
   "execution_count": 8,
   "metadata": {},
   "outputs": [],
   "source": [
    "# Load the yeast genome\n",
    "library(BSgenome.Scerevisiae.UCSC.sacCer3)\n",
    "\n",
    "# Assign data to the yeastGenome object\n",
    "yeastGenome <- BSgenome.Scerevisiae.UCSC.sacCer3"
   ]
  },
  {
   "cell_type": "markdown",
   "metadata": {},
   "source": [
    "### Partitioning the yeast genome\n",
    "Genomes are often big, but interest usually lies in specific regions of them. Therefore, we need to subset a genome by extracting parts of it. To pick a sequence interval, use `getSeq()` and specify the name of the chromosome and the start and end of the sequence interval.\n",
    "\n",
    "The following example will select the bases of \"chrI\" from 100 to 150.\n",
    "\n",
    "`getSeq(yeastGenome, names = \"chrI\", start = 100, end = 150)`\n",
    "\n",
    "Note: `names` is optional; if not specified, it will return all chromosomes. The parameters `start` and `end` are also optional and, if not specified, will take the default values 1 and the length of the sequence, respectively."
   ]
  },
  {
   "cell_type": "code",
   "execution_count": 10,
   "metadata": {},
   "outputs": [
    {
     "data": {
      "text/plain": [
       "300-letter DNAString object\n",
       "seq: \u001b[47m\u001b[30mT\u001b[39m\u001b[49m\u001b[47m\u001b[30mT\u001b[39m\u001b[49m\u001b[47m\u001b[30mC\u001b[39m\u001b[49m\u001b[47m\u001b[30mA\u001b[39m\u001b[49m\u001b[47m\u001b[30mT\u001b[39m\u001b[49m\u001b[47m\u001b[30mA\u001b[39m\u001b[49m\u001b[47m\u001b[30mA\u001b[39m\u001b[49m\u001b[47m\u001b[30mT\u001b[39m\u001b[49m\u001b[47m\u001b[30mT\u001b[39m\u001b[49m\u001b[47m\u001b[30mA\u001b[39m\u001b[49m\u001b[47m\u001b[30mA\u001b[39m\u001b[49m\u001b[47m\u001b[30mT\u001b[39m\u001b[49m\u001b[47m\u001b[30mT\u001b[39m\u001b[49m\u001b[47m\u001b[30mT\u001b[39m\u001b[49m\u001b[47m\u001b[30mT\u001b[39m\u001b[49m\u001b[47m\u001b[30mT\u001b[39m\u001b[49m\u001b[47m\u001b[30mT\u001b[39m\u001b[49m\u001b[47m\u001b[30mA\u001b[39m\u001b[49m\u001b[47m\u001b[30mT\u001b[39m\u001b[49m\u001b[47m\u001b[30mA\u001b[39m\u001b[49m\u001b[47m\u001b[30mT\u001b[39m\u001b[49m\u001b[47m\u001b[30mA\u001b[39m\u001b[49m\u001b[47m\u001b[30mT\u001b[39m\u001b[49m\u001b[47m\u001b[30mA\u001b[39m\u001b[49m\u001b[47m\u001b[30mT\u001b[39m\u001b[49m\u001b[47m\u001b[30mA\u001b[39m\u001b[49m\u001b[47m\u001b[30mT\u001b[39m\u001b[49m\u001b[47m\u001b[30mT\u001b[39m\u001b[49m\u001b[47m\u001b[30mA\u001b[39m\u001b[49m\u001b[47m\u001b[30mT\u001b[39m\u001b[49m\u001b[47m\u001b[30mA\u001b[39m\u001b[49m\u001b[47m\u001b[30mT\u001b[39m\u001b[49m\u001b[47m\u001b[30mT\u001b[39m\u001b[49m\u001b[47m\u001b[30mA\u001b[39m\u001b[49m\u001b[47m\u001b[30mT\u001b[39m\u001b[49m\u001b[47m\u001b[30mA\u001b[39m\u001b[49m...\u001b[47m\u001b[30mA\u001b[39m\u001b[49m\u001b[47m\u001b[30mA\u001b[39m\u001b[49m\u001b[47m\u001b[30mT\u001b[39m\u001b[49m\u001b[47m\u001b[30mT\u001b[39m\u001b[49m\u001b[47m\u001b[30mA\u001b[39m\u001b[49m\u001b[47m\u001b[30mA\u001b[39m\u001b[49m\u001b[47m\u001b[30mT\u001b[39m\u001b[49m\u001b[47m\u001b[30mT\u001b[39m\u001b[49m\u001b[47m\u001b[30mA\u001b[39m\u001b[49m\u001b[47m\u001b[30mA\u001b[39m\u001b[49m\u001b[47m\u001b[30mT\u001b[39m\u001b[49m\u001b[47m\u001b[30mT\u001b[39m\u001b[49m\u001b[47m\u001b[30mA\u001b[39m\u001b[49m\u001b[47m\u001b[30mA\u001b[39m\u001b[49m\u001b[47m\u001b[30mT\u001b[39m\u001b[49m\u001b[47m\u001b[30mA\u001b[39m\u001b[49m\u001b[47m\u001b[30mA\u001b[39m\u001b[49m\u001b[47m\u001b[30mT\u001b[39m\u001b[49m\u001b[47m\u001b[30mA\u001b[39m\u001b[49m\u001b[47m\u001b[30mA\u001b[39m\u001b[49m\u001b[47m\u001b[30mA\u001b[39m\u001b[49m\u001b[47m\u001b[30mA\u001b[39m\u001b[49m\u001b[47m\u001b[30mA\u001b[39m\u001b[49m\u001b[47m\u001b[30mT\u001b[39m\u001b[49m\u001b[47m\u001b[30mA\u001b[39m\u001b[49m\u001b[47m\u001b[30mT\u001b[39m\u001b[49m\u001b[47m\u001b[30mA\u001b[39m\u001b[49m\u001b[47m\u001b[30mA\u001b[39m\u001b[49m\u001b[47m\u001b[30mT\u001b[39m\u001b[49m\u001b[47m\u001b[30mT\u001b[39m\u001b[49m\u001b[47m\u001b[30mA\u001b[39m\u001b[49m\u001b[47m\u001b[30mT\u001b[39m\u001b[49m\u001b[47m\u001b[30mA\u001b[39m\u001b[49m\u001b[47m\u001b[30mA\u001b[39m\u001b[49m\u001b[47m\u001b[30mA\u001b[39m\u001b[49m\u001b[47m\u001b[30mT\u001b[39m\u001b[49m"
      ]
     },
     "metadata": {},
     "output_type": "display_data"
    }
   ],
   "source": [
    "# Load the yeast genome\n",
    "library(BSgenome.Scerevisiae.UCSC.sacCer3)\n",
    "\n",
    "# Assign data to the yeastGenome object\n",
    "yeastGenome <- BSgenome.Scerevisiae.UCSC.sacCer3\n",
    "\n",
    "# Get the first 30 bases of chrM\n",
    "getSeq(yeastGenome, names = \"chrM\", end = 300)"
   ]
  },
  {
   "cell_type": "markdown",
   "metadata": {},
   "source": [
    "## Biostrings and when to use them?\n",
    "Biostrings are memory efficient string containers. Biostring has matching algorithms, and other utilities, for fast manipulation of large biological sequences or sets of sequences. How efficient you can become by using the right containers for your sequences? You will learn about alphabets, and sequence manipulation by using the tiny genome of a virus."
   ]
  },
  {
   "cell_type": "markdown",
   "metadata": {},
   "source": [
    "### Exploring the Zika virus sequence\n",
    "It's your turn to explore the Zika virus genome, which has been loaded in your workspace as zikaVirus. The genome was downloaded from NCBI and you can apply Biostrings functions to learn more about it.\n",
    "\n",
    "Start by checking the alphabet of the sequence.\n",
    "\n",
    "`alphabet()` # Shows the letters included in the sequence\n",
    "`alphabetFrequency()` # Shows the counts per letter\n",
    "Remember from the video that each alphabet corresponds to a specific biostring container, and each alphabet usually has extra code letters and symbols."
   ]
  },
  {
   "cell_type": "code",
   "execution_count": null,
   "metadata": {},
   "outputs": [],
   "source": []
  },
  {
   "cell_type": "code",
   "execution_count": 12,
   "metadata": {},
   "outputs": [
    {
     "data": {
      "text/html": [
       "<style>\n",
       ".list-inline {list-style: none; margin:0; padding: 0}\n",
       ".list-inline>li {display: inline-block}\n",
       ".list-inline>li:not(:last-child)::after {content: \"\\00b7\"; padding: 0 .5ex}\n",
       "</style>\n",
       "<ol class=list-inline><li>'A'</li><li>'C'</li><li>'G'</li><li>'T'</li><li>'M'</li><li>'R'</li><li>'W'</li><li>'S'</li><li>'Y'</li><li>'K'</li><li>'V'</li><li>'H'</li><li>'D'</li><li>'B'</li><li>'N'</li><li>'-'</li><li>'+'</li><li>'.'</li></ol>\n"
      ],
      "text/latex": [
       "\\begin{enumerate*}\n",
       "\\item 'A'\n",
       "\\item 'C'\n",
       "\\item 'G'\n",
       "\\item 'T'\n",
       "\\item 'M'\n",
       "\\item 'R'\n",
       "\\item 'W'\n",
       "\\item 'S'\n",
       "\\item 'Y'\n",
       "\\item 'K'\n",
       "\\item 'V'\n",
       "\\item 'H'\n",
       "\\item 'D'\n",
       "\\item 'B'\n",
       "\\item 'N'\n",
       "\\item '-'\n",
       "\\item '+'\n",
       "\\item '.'\n",
       "\\end{enumerate*}\n"
      ],
      "text/markdown": [
       "1. 'A'\n",
       "2. 'C'\n",
       "3. 'G'\n",
       "4. 'T'\n",
       "5. 'M'\n",
       "6. 'R'\n",
       "7. 'W'\n",
       "8. 'S'\n",
       "9. 'Y'\n",
       "10. 'K'\n",
       "11. 'V'\n",
       "12. 'H'\n",
       "13. 'D'\n",
       "14. 'B'\n",
       "15. 'N'\n",
       "16. '-'\n",
       "17. '+'\n",
       "18. '.'\n",
       "\n",
       "\n"
      ],
      "text/plain": [
       " [1] \"A\" \"C\" \"G\" \"T\" \"M\" \"R\" \"W\" \"S\" \"Y\" \"K\" \"V\" \"H\" \"D\" \"B\" \"N\" \"-\" \"+\" \".\""
      ]
     },
     "metadata": {},
     "output_type": "display_data"
    },
    {
     "data": {
      "text/html": [
       "<table class=\"dataframe\">\n",
       "<caption>A matrix: 1 × 18 of type int</caption>\n",
       "<thead>\n",
       "\t<tr><th scope=col>A</th><th scope=col>C</th><th scope=col>G</th><th scope=col>T</th><th scope=col>M</th><th scope=col>R</th><th scope=col>W</th><th scope=col>S</th><th scope=col>Y</th><th scope=col>K</th><th scope=col>V</th><th scope=col>H</th><th scope=col>D</th><th scope=col>B</th><th scope=col>N</th><th scope=col>-</th><th scope=col>+</th><th scope=col>.</th></tr>\n",
       "</thead>\n",
       "<tbody>\n",
       "\t<tr><td>2991</td><td>2359</td><td>3139</td><td>2305</td><td>0</td><td>0</td><td>0</td><td>0</td><td>0</td><td>0</td><td>0</td><td>0</td><td>0</td><td>0</td><td>0</td><td>0</td><td>0</td><td>0</td></tr>\n",
       "</tbody>\n",
       "</table>\n"
      ],
      "text/latex": [
       "A matrix: 1 × 18 of type int\n",
       "\\begin{tabular}{llllllllllllllllll}\n",
       " A & C & G & T & M & R & W & S & Y & K & V & H & D & B & N & - & + & .\\\\\n",
       "\\hline\n",
       "\t 2991 & 2359 & 3139 & 2305 & 0 & 0 & 0 & 0 & 0 & 0 & 0 & 0 & 0 & 0 & 0 & 0 & 0 & 0\\\\\n",
       "\\end{tabular}\n"
      ],
      "text/markdown": [
       "\n",
       "A matrix: 1 × 18 of type int\n",
       "\n",
       "| A | C | G | T | M | R | W | S | Y | K | V | H | D | B | N | - | + | . |\n",
       "|---|---|---|---|---|---|---|---|---|---|---|---|---|---|---|---|---|---|\n",
       "| 2991 | 2359 | 3139 | 2305 | 0 | 0 | 0 | 0 | 0 | 0 | 0 | 0 | 0 | 0 | 0 | 0 | 0 | 0 |\n",
       "\n"
      ],
      "text/plain": [
       "     A    C    G    T    M R W S Y K V H D B N - + .\n",
       "[1,] 2991 2359 3139 2305 0 0 0 0 0 0 0 0 0 0 0 0 0 0"
      ]
     },
     "metadata": {},
     "output_type": "display_data"
    },
    {
     "data": {
      "text/html": [
       "<style>\n",
       ".list-inline {list-style: none; margin:0; padding: 0}\n",
       ".list-inline>li {display: inline-block}\n",
       ".list-inline>li:not(:last-child)::after {content: \"\\00b7\"; padding: 0 .5ex}\n",
       "</style>\n",
       "<ol class=list-inline><li>'A'</li><li>'C'</li><li>'G'</li><li>'T'</li></ol>\n"
      ],
      "text/latex": [
       "\\begin{enumerate*}\n",
       "\\item 'A'\n",
       "\\item 'C'\n",
       "\\item 'G'\n",
       "\\item 'T'\n",
       "\\end{enumerate*}\n"
      ],
      "text/markdown": [
       "1. 'A'\n",
       "2. 'C'\n",
       "3. 'G'\n",
       "4. 'T'\n",
       "\n",
       "\n"
      ],
      "text/plain": [
       "[1] \"A\" \"C\" \"G\" \"T\""
      ]
     },
     "metadata": {},
     "output_type": "display_data"
    }
   ],
   "source": [
    "# Load packages\n",
    "library(Biostrings)\n",
    "\n",
    "# read file\n",
    "zikaVirus <- readDNAStringSet(\"zikaVirus.fasta\")\n",
    "\n",
    "# Check the alphabet of the zikaVirus\n",
    "alphabet(zikaVirus)\n",
    "\n",
    "# Check the alphabetFrequency of the zikaVirus\n",
    "alphabetFrequency(zikaVirus)\n",
    "\n",
    "# Check alphabet of the zikaVirus using baseOnly = TRUE\n",
    "alphabet(zikaVirus, baseOnly = TRUE)"
   ]
  },
  {
   "cell_type": "markdown",
   "metadata": {},
   "source": [
    "### Manipulating Biostrings\n",
    "Using a short sequence (`dna_seq`) from the `zikaVirus` object, it is your turn to have a go with the two biological processes of **transcription** and **translation**.\n",
    "\n",
    "In the first two parts of this exercise, you will apply these processes separately. In the last part, you'll apply them in one step.\n",
    "\n",
    "You'll be using a very small sequence in this exercise, but remember that the power of `Biostrings` comes to light when manipulating much larger sequences.\n",
    "\n",
    "The `Biostrings` package has already been loaded for you. Using `zikaVirus`, you will translate the first 21 characters into an AAString."
   ]
  },
  {
   "cell_type": "markdown",
   "metadata": {},
   "source": [
    "- `unlist()` the zikaVirus set and select the first 21 base pairs with `subseq()`. The resulting object will be a \"DNAString\" object.\n",
    "- Transcribe the dna_seq into an \"`RNAString`\" and assign it to `rna_seq`.\n",
    "- Translate the rna_seq into an \"AAString\" and assign it to `aa_seq`.\n",
    "- Complete the processes of transcription and translation on the \"`DNAString`\" object dna_seq in one step, converting it directly into an \"`AAString`\" object, `aa_seq`.\n"
   ]
  },
  {
   "cell_type": "code",
   "execution_count": 8,
   "metadata": {},
   "outputs": [
    {
     "data": {
      "text/plain": [
       "21-letter DNAString object\n",
       "seq: \u001b[47m\u001b[30mA\u001b[39m\u001b[49m\u001b[47m\u001b[30mG\u001b[39m\u001b[49m\u001b[47m\u001b[30mT\u001b[39m\u001b[49m\u001b[47m\u001b[30mT\u001b[39m\u001b[49m\u001b[47m\u001b[30mG\u001b[39m\u001b[49m\u001b[47m\u001b[30mT\u001b[39m\u001b[49m\u001b[47m\u001b[30mT\u001b[39m\u001b[49m\u001b[47m\u001b[30mG\u001b[39m\u001b[49m\u001b[47m\u001b[30mA\u001b[39m\u001b[49m\u001b[47m\u001b[30mT\u001b[39m\u001b[49m\u001b[47m\u001b[30mC\u001b[39m\u001b[49m\u001b[47m\u001b[30mT\u001b[39m\u001b[49m\u001b[47m\u001b[30mG\u001b[39m\u001b[49m\u001b[47m\u001b[30mT\u001b[39m\u001b[49m\u001b[47m\u001b[30mG\u001b[39m\u001b[49m\u001b[47m\u001b[30mT\u001b[39m\u001b[49m\u001b[47m\u001b[30mG\u001b[39m\u001b[49m\u001b[47m\u001b[30mA\u001b[39m\u001b[49m\u001b[47m\u001b[30mG\u001b[39m\u001b[49m\u001b[47m\u001b[30mT\u001b[39m\u001b[49m\u001b[47m\u001b[30mC\u001b[39m\u001b[49m"
      ]
     },
     "metadata": {},
     "output_type": "display_data"
    },
    {
     "data": {
      "text/plain": [
       "21-letter RNAString object\n",
       "seq: \u001b[47m\u001b[30mA\u001b[39m\u001b[49m\u001b[47m\u001b[30mG\u001b[39m\u001b[49m\u001b[47m\u001b[30mU\u001b[39m\u001b[49m\u001b[47m\u001b[30mU\u001b[39m\u001b[49m\u001b[47m\u001b[30mG\u001b[39m\u001b[49m\u001b[47m\u001b[30mU\u001b[39m\u001b[49m\u001b[47m\u001b[30mU\u001b[39m\u001b[49m\u001b[47m\u001b[30mG\u001b[39m\u001b[49m\u001b[47m\u001b[30mA\u001b[39m\u001b[49m\u001b[47m\u001b[30mU\u001b[39m\u001b[49m\u001b[47m\u001b[30mC\u001b[39m\u001b[49m\u001b[47m\u001b[30mU\u001b[39m\u001b[49m\u001b[47m\u001b[30mG\u001b[39m\u001b[49m\u001b[47m\u001b[30mU\u001b[39m\u001b[49m\u001b[47m\u001b[30mG\u001b[39m\u001b[49m\u001b[47m\u001b[30mU\u001b[39m\u001b[49m\u001b[47m\u001b[30mG\u001b[39m\u001b[49m\u001b[47m\u001b[30mA\u001b[39m\u001b[49m\u001b[47m\u001b[30mG\u001b[39m\u001b[49m\u001b[47m\u001b[30mU\u001b[39m\u001b[49m\u001b[47m\u001b[30mC\u001b[39m\u001b[49m"
      ]
     },
     "metadata": {},
     "output_type": "display_data"
    },
    {
     "data": {
      "text/plain": [
       "7-letter AAString object\n",
       "seq: SC*SV*V"
      ]
     },
     "metadata": {},
     "output_type": "display_data"
    },
    {
     "data": {
      "text/plain": [
       "7-letter AAString object\n",
       "seq: SC*SV*V"
      ]
     },
     "metadata": {},
     "output_type": "display_data"
    }
   ],
   "source": [
    "# Unlist the set, select the first 21 letters, and assign to dna_seq\n",
    "dna_seq <- subseq(unlist(zikaVirus), end = 21)\n",
    "dna_seq\n",
    "\n",
    "# Transcribe dna_seq into an RNAString object and print it\n",
    "rna_seq <- RNAString(dna_seq) \n",
    "rna_seq\n",
    "\n",
    "# Translate rna_seq into an AAString object and print it\n",
    "aa_seq <- translate(rna_seq)\n",
    "aa_seq\n",
    "\n",
    "# Transcribe and translate dna_seq into an AAString object and print it\n",
    "aa_seq <- translate(dna_seq)\n",
    "aa_seq"
   ]
  },
  {
   "cell_type": "markdown",
   "metadata": {},
   "source": [
    "### From a set to a single sequence\n",
    "From the video, you know that sequences can be loaded into R using the function `readDNAStringSet()`. The `zikaVirus` has been read into your environment using this function.\n",
    "\n",
    "It is your turn to convert this set into a single sequence, explore the new sequence, and subset it.\n",
    "\n",
    "- Create a new object called zikv (as the Zika Virus convention name), collating the set to one sequence.\n",
    "- Check the length of the zikaVirus and the length of zikv.\n",
    "- Check the width of the zikaVirus and explain why zikv does not have width.\n",
    "- Subset the first 30 bases of zikv and assign to subZikv."
   ]
  },
  {
   "cell_type": "code",
   "execution_count": 9,
   "metadata": {},
   "outputs": [
    {
     "data": {
      "text/html": [
       "1"
      ],
      "text/latex": [
       "1"
      ],
      "text/markdown": [
       "1"
      ],
      "text/plain": [
       "[1] 1"
      ]
     },
     "metadata": {},
     "output_type": "display_data"
    },
    {
     "data": {
      "text/html": [
       "10794"
      ],
      "text/latex": [
       "10794"
      ],
      "text/markdown": [
       "10794"
      ],
      "text/plain": [
       "[1] 10794"
      ]
     },
     "metadata": {},
     "output_type": "display_data"
    },
    {
     "data": {
      "text/html": [
       "10794"
      ],
      "text/latex": [
       "10794"
      ],
      "text/markdown": [
       "10794"
      ],
      "text/plain": [
       "[1] 10794"
      ]
     },
     "metadata": {},
     "output_type": "display_data"
    },
    {
     "data": {
      "text/plain": [
       "30-letter DNAString object\n",
       "seq: \u001b[47m\u001b[30mA\u001b[39m\u001b[49m\u001b[47m\u001b[30mG\u001b[39m\u001b[49m\u001b[47m\u001b[30mT\u001b[39m\u001b[49m\u001b[47m\u001b[30mT\u001b[39m\u001b[49m\u001b[47m\u001b[30mG\u001b[39m\u001b[49m\u001b[47m\u001b[30mT\u001b[39m\u001b[49m\u001b[47m\u001b[30mT\u001b[39m\u001b[49m\u001b[47m\u001b[30mG\u001b[39m\u001b[49m\u001b[47m\u001b[30mA\u001b[39m\u001b[49m\u001b[47m\u001b[30mT\u001b[39m\u001b[49m\u001b[47m\u001b[30mC\u001b[39m\u001b[49m\u001b[47m\u001b[30mT\u001b[39m\u001b[49m\u001b[47m\u001b[30mG\u001b[39m\u001b[49m\u001b[47m\u001b[30mT\u001b[39m\u001b[49m\u001b[47m\u001b[30mG\u001b[39m\u001b[49m\u001b[47m\u001b[30mT\u001b[39m\u001b[49m\u001b[47m\u001b[30mG\u001b[39m\u001b[49m\u001b[47m\u001b[30mA\u001b[39m\u001b[49m\u001b[47m\u001b[30mG\u001b[39m\u001b[49m\u001b[47m\u001b[30mT\u001b[39m\u001b[49m\u001b[47m\u001b[30mC\u001b[39m\u001b[49m\u001b[47m\u001b[30mA\u001b[39m\u001b[49m\u001b[47m\u001b[30mG\u001b[39m\u001b[49m\u001b[47m\u001b[30mA\u001b[39m\u001b[49m\u001b[47m\u001b[30mC\u001b[39m\u001b[49m\u001b[47m\u001b[30mT\u001b[39m\u001b[49m\u001b[47m\u001b[30mG\u001b[39m\u001b[49m\u001b[47m\u001b[30mC\u001b[39m\u001b[49m\u001b[47m\u001b[30mG\u001b[39m\u001b[49m\u001b[47m\u001b[30mA\u001b[39m\u001b[49m"
      ]
     },
     "metadata": {},
     "output_type": "display_data"
    }
   ],
   "source": [
    "# Create zikv with one collated sequence using zikaVirus\n",
    "zikv <- unlist(zikaVirus)\n",
    "\n",
    "# Check the length of zikaVirus and zikv\n",
    "length(zikaVirus)\n",
    "length(zikv)\n",
    "\n",
    "# Check the width of zikaVirus\n",
    "width(zikaVirus)\n",
    "\n",
    "# Subset zikv to only the first 30 bases\n",
    "subZikv <- subseq(zikv, end = 30)\n",
    "subZikv"
   ]
  },
  {
   "cell_type": "code",
   "execution_count": 16,
   "metadata": {},
   "outputs": [
    {
     "data": {
      "text/plain": [
       "DNAStringSet object of length 1:\n",
       "    width seq                                               names               \n",
       "[1]    31 \u001b[47m\u001b[30mT\u001b[39m\u001b[49m\u001b[47m\u001b[30mC\u001b[39m\u001b[49m\u001b[47m\u001b[30mA\u001b[39m\u001b[49m\u001b[47m\u001b[30mG\u001b[39m\u001b[49m\u001b[47m\u001b[30mA\u001b[39m\u001b[49m\u001b[47m\u001b[30mC\u001b[39m\u001b[49m\u001b[47m\u001b[30mT\u001b[39m\u001b[49m\u001b[47m\u001b[30mG\u001b[39m\u001b[49m\u001b[47m\u001b[30mC\u001b[39m\u001b[49m\u001b[47m\u001b[30mG\u001b[39m\u001b[49m\u001b[47m\u001b[30mA\u001b[39m\u001b[49m\u001b[47m\u001b[30mC\u001b[39m\u001b[49m\u001b[47m\u001b[30mA\u001b[39m\u001b[49m\u001b[47m\u001b[30mG\u001b[39m\u001b[49m\u001b[47m\u001b[30mT\u001b[39m\u001b[49m\u001b[47m\u001b[30mT\u001b[39m\u001b[49m\u001b[47m\u001b[30mC\u001b[39m\u001b[49m\u001b[47m\u001b[30mG\u001b[39m\u001b[49m\u001b[47m\u001b[30mA\u001b[39m\u001b[49m\u001b[47m\u001b[30mG\u001b[39m\u001b[49m\u001b[47m\u001b[30mT\u001b[39m\u001b[49m\u001b[47m\u001b[30mC\u001b[39m\u001b[49m\u001b[47m\u001b[30mT\u001b[39m\u001b[49m\u001b[47m\u001b[30mG\u001b[39m\u001b[49m\u001b[47m\u001b[30mA\u001b[39m\u001b[49m\u001b[47m\u001b[30mA\u001b[39m\u001b[49m\u001b[47m\u001b[30mG\u001b[39m\u001b[49m\u001b[47m\u001b[30mC\u001b[39m\u001b[49m\u001b[47m\u001b[30mG\u001b[39m\u001b[49m\u001b[47m\u001b[30mA\u001b[39m\u001b[49m\u001b[47m\u001b[30mG\u001b[39m\u001b[49m                   NC_012532.1 Zika ..."
      ]
     },
     "metadata": {},
     "output_type": "display_data"
    }
   ],
   "source": [
    "subseq(zikaVirus, start = c(20), end = c(50))"
   ]
  },
  {
   "cell_type": "markdown",
   "metadata": {},
   "source": [
    "### Common sequence manipulation functions\n",
    "So far, you've learned the the most common sequence manipulation functions:\n",
    "```\n",
    "reverse()\n",
    "complement()\n",
    "reverseComplement()\n",
    "translate()\n",
    "```\n",
    "In real life, you can manipulate really large sequences using these functions.\n",
    "\n",
    "However, to see the value and the results of these functions in this exercise, you will use a small subset. The object zikv, which you have previously subsetted from the Zika genome, has only 30 bases."
   ]
  },
  {
   "cell_type": "code",
   "execution_count": 17,
   "metadata": {},
   "outputs": [
    {
     "data": {
      "text/plain": [
       "10794-letter DNAString object\n",
       "seq: \u001b[47m\u001b[30mT\u001b[39m\u001b[49m\u001b[47m\u001b[30mC\u001b[39m\u001b[49m\u001b[47m\u001b[30mT\u001b[39m\u001b[49m\u001b[47m\u001b[30mT\u001b[39m\u001b[49m\u001b[47m\u001b[30mT\u001b[39m\u001b[49m\u001b[47m\u001b[30mG\u001b[39m\u001b[49m\u001b[47m\u001b[30mG\u001b[39m\u001b[49m\u001b[47m\u001b[30mT\u001b[39m\u001b[49m\u001b[47m\u001b[30mA\u001b[39m\u001b[49m\u001b[47m\u001b[30mC\u001b[39m\u001b[49m\u001b[47m\u001b[30mC\u001b[39m\u001b[49m\u001b[47m\u001b[30mT\u001b[39m\u001b[49m\u001b[47m\u001b[30mA\u001b[39m\u001b[49m\u001b[47m\u001b[30mA\u001b[39m\u001b[49m\u001b[47m\u001b[30mA\u001b[39m\u001b[49m\u001b[47m\u001b[30mG\u001b[39m\u001b[49m\u001b[47m\u001b[30mG\u001b[39m\u001b[49m\u001b[47m\u001b[30mG\u001b[39m\u001b[49m\u001b[47m\u001b[30mG\u001b[39m\u001b[49m\u001b[47m\u001b[30mT\u001b[39m\u001b[49m\u001b[47m\u001b[30mG\u001b[39m\u001b[49m\u001b[47m\u001b[30mT\u001b[39m\u001b[49m\u001b[47m\u001b[30mG\u001b[39m\u001b[49m\u001b[47m\u001b[30mG\u001b[39m\u001b[49m\u001b[47m\u001b[30mC\u001b[39m\u001b[49m\u001b[47m\u001b[30mC\u001b[39m\u001b[49m\u001b[47m\u001b[30mG\u001b[39m\u001b[49m\u001b[47m\u001b[30mG\u001b[39m\u001b[49m\u001b[47m\u001b[30mC\u001b[39m\u001b[49m\u001b[47m\u001b[30mG\u001b[39m\u001b[49m\u001b[47m\u001b[30mG\u001b[39m\u001b[49m\u001b[47m\u001b[30mC\u001b[39m\u001b[49m\u001b[47m\u001b[30mT\u001b[39m\u001b[49m\u001b[47m\u001b[30mT\u001b[39m\u001b[49m\u001b[47m\u001b[30mC\u001b[39m\u001b[49m\u001b[47m\u001b[30mA\u001b[39m\u001b[49m...\u001b[47m\u001b[30mC\u001b[39m\u001b[49m\u001b[47m\u001b[30mT\u001b[39m\u001b[49m\u001b[47m\u001b[30mT\u001b[39m\u001b[49m\u001b[47m\u001b[30mG\u001b[39m\u001b[49m\u001b[47m\u001b[30mA\u001b[39m\u001b[49m\u001b[47m\u001b[30mC\u001b[39m\u001b[49m\u001b[47m\u001b[30mA\u001b[39m\u001b[49m\u001b[47m\u001b[30mG\u001b[39m\u001b[49m\u001b[47m\u001b[30mC\u001b[39m\u001b[49m\u001b[47m\u001b[30mG\u001b[39m\u001b[49m\u001b[47m\u001b[30mT\u001b[39m\u001b[49m\u001b[47m\u001b[30mC\u001b[39m\u001b[49m\u001b[47m\u001b[30mA\u001b[39m\u001b[49m\u001b[47m\u001b[30mG\u001b[39m\u001b[49m\u001b[47m\u001b[30mA\u001b[39m\u001b[49m\u001b[47m\u001b[30mC\u001b[39m\u001b[49m\u001b[47m\u001b[30mT\u001b[39m\u001b[49m\u001b[47m\u001b[30mG\u001b[39m\u001b[49m\u001b[47m\u001b[30mA\u001b[39m\u001b[49m\u001b[47m\u001b[30mG\u001b[39m\u001b[49m\u001b[47m\u001b[30mT\u001b[39m\u001b[49m\u001b[47m\u001b[30mG\u001b[39m\u001b[49m\u001b[47m\u001b[30mT\u001b[39m\u001b[49m\u001b[47m\u001b[30mG\u001b[39m\u001b[49m\u001b[47m\u001b[30mT\u001b[39m\u001b[49m\u001b[47m\u001b[30mC\u001b[39m\u001b[49m\u001b[47m\u001b[30mT\u001b[39m\u001b[49m\u001b[47m\u001b[30mA\u001b[39m\u001b[49m\u001b[47m\u001b[30mG\u001b[39m\u001b[49m\u001b[47m\u001b[30mT\u001b[39m\u001b[49m\u001b[47m\u001b[30mT\u001b[39m\u001b[49m\u001b[47m\u001b[30mG\u001b[39m\u001b[49m\u001b[47m\u001b[30mT\u001b[39m\u001b[49m\u001b[47m\u001b[30mT\u001b[39m\u001b[49m\u001b[47m\u001b[30mG\u001b[39m\u001b[49m\u001b[47m\u001b[30mA\u001b[39m\u001b[49m"
      ]
     },
     "metadata": {},
     "output_type": "display_data"
    },
    {
     "data": {
      "text/plain": [
       "10794-letter DNAString object\n",
       "seq: \u001b[47m\u001b[30mT\u001b[39m\u001b[49m\u001b[47m\u001b[30mC\u001b[39m\u001b[49m\u001b[47m\u001b[30mA\u001b[39m\u001b[49m\u001b[47m\u001b[30mA\u001b[39m\u001b[49m\u001b[47m\u001b[30mC\u001b[39m\u001b[49m\u001b[47m\u001b[30mA\u001b[39m\u001b[49m\u001b[47m\u001b[30mA\u001b[39m\u001b[49m\u001b[47m\u001b[30mC\u001b[39m\u001b[49m\u001b[47m\u001b[30mT\u001b[39m\u001b[49m\u001b[47m\u001b[30mA\u001b[39m\u001b[49m\u001b[47m\u001b[30mG\u001b[39m\u001b[49m\u001b[47m\u001b[30mA\u001b[39m\u001b[49m\u001b[47m\u001b[30mC\u001b[39m\u001b[49m\u001b[47m\u001b[30mA\u001b[39m\u001b[49m\u001b[47m\u001b[30mC\u001b[39m\u001b[49m\u001b[47m\u001b[30mA\u001b[39m\u001b[49m\u001b[47m\u001b[30mC\u001b[39m\u001b[49m\u001b[47m\u001b[30mT\u001b[39m\u001b[49m\u001b[47m\u001b[30mC\u001b[39m\u001b[49m\u001b[47m\u001b[30mA\u001b[39m\u001b[49m\u001b[47m\u001b[30mG\u001b[39m\u001b[49m\u001b[47m\u001b[30mT\u001b[39m\u001b[49m\u001b[47m\u001b[30mC\u001b[39m\u001b[49m\u001b[47m\u001b[30mT\u001b[39m\u001b[49m\u001b[47m\u001b[30mG\u001b[39m\u001b[49m\u001b[47m\u001b[30mA\u001b[39m\u001b[49m\u001b[47m\u001b[30mC\u001b[39m\u001b[49m\u001b[47m\u001b[30mG\u001b[39m\u001b[49m\u001b[47m\u001b[30mC\u001b[39m\u001b[49m\u001b[47m\u001b[30mT\u001b[39m\u001b[49m\u001b[47m\u001b[30mG\u001b[39m\u001b[49m\u001b[47m\u001b[30mT\u001b[39m\u001b[49m\u001b[47m\u001b[30mC\u001b[39m\u001b[49m\u001b[47m\u001b[30mA\u001b[39m\u001b[49m\u001b[47m\u001b[30mA\u001b[39m\u001b[49m\u001b[47m\u001b[30mG\u001b[39m\u001b[49m...\u001b[47m\u001b[30mT\u001b[39m\u001b[49m\u001b[47m\u001b[30mG\u001b[39m\u001b[49m\u001b[47m\u001b[30mA\u001b[39m\u001b[49m\u001b[47m\u001b[30mA\u001b[39m\u001b[49m\u001b[47m\u001b[30mG\u001b[39m\u001b[49m\u001b[47m\u001b[30mC\u001b[39m\u001b[49m\u001b[47m\u001b[30mC\u001b[39m\u001b[49m\u001b[47m\u001b[30mG\u001b[39m\u001b[49m\u001b[47m\u001b[30mC\u001b[39m\u001b[49m\u001b[47m\u001b[30mC\u001b[39m\u001b[49m\u001b[47m\u001b[30mG\u001b[39m\u001b[49m\u001b[47m\u001b[30mG\u001b[39m\u001b[49m\u001b[47m\u001b[30mC\u001b[39m\u001b[49m\u001b[47m\u001b[30mC\u001b[39m\u001b[49m\u001b[47m\u001b[30mA\u001b[39m\u001b[49m\u001b[47m\u001b[30mC\u001b[39m\u001b[49m\u001b[47m\u001b[30mA\u001b[39m\u001b[49m\u001b[47m\u001b[30mC\u001b[39m\u001b[49m\u001b[47m\u001b[30mC\u001b[39m\u001b[49m\u001b[47m\u001b[30mC\u001b[39m\u001b[49m\u001b[47m\u001b[30mC\u001b[39m\u001b[49m\u001b[47m\u001b[30mT\u001b[39m\u001b[49m\u001b[47m\u001b[30mT\u001b[39m\u001b[49m\u001b[47m\u001b[30mT\u001b[39m\u001b[49m\u001b[47m\u001b[30mA\u001b[39m\u001b[49m\u001b[47m\u001b[30mG\u001b[39m\u001b[49m\u001b[47m\u001b[30mG\u001b[39m\u001b[49m\u001b[47m\u001b[30mT\u001b[39m\u001b[49m\u001b[47m\u001b[30mA\u001b[39m\u001b[49m\u001b[47m\u001b[30mC\u001b[39m\u001b[49m\u001b[47m\u001b[30mC\u001b[39m\u001b[49m\u001b[47m\u001b[30mA\u001b[39m\u001b[49m\u001b[47m\u001b[30mA\u001b[39m\u001b[49m\u001b[47m\u001b[30mA\u001b[39m\u001b[49m\u001b[47m\u001b[30mG\u001b[39m\u001b[49m\u001b[47m\u001b[30mA\u001b[39m\u001b[49m"
      ]
     },
     "metadata": {},
     "output_type": "display_data"
    },
    {
     "data": {
      "text/plain": [
       "10794-letter DNAString object\n",
       "seq: \u001b[47m\u001b[30mA\u001b[39m\u001b[49m\u001b[47m\u001b[30mG\u001b[39m\u001b[49m\u001b[47m\u001b[30mA\u001b[39m\u001b[49m\u001b[47m\u001b[30mA\u001b[39m\u001b[49m\u001b[47m\u001b[30mA\u001b[39m\u001b[49m\u001b[47m\u001b[30mC\u001b[39m\u001b[49m\u001b[47m\u001b[30mC\u001b[39m\u001b[49m\u001b[47m\u001b[30mA\u001b[39m\u001b[49m\u001b[47m\u001b[30mT\u001b[39m\u001b[49m\u001b[47m\u001b[30mG\u001b[39m\u001b[49m\u001b[47m\u001b[30mG\u001b[39m\u001b[49m\u001b[47m\u001b[30mA\u001b[39m\u001b[49m\u001b[47m\u001b[30mT\u001b[39m\u001b[49m\u001b[47m\u001b[30mT\u001b[39m\u001b[49m\u001b[47m\u001b[30mT\u001b[39m\u001b[49m\u001b[47m\u001b[30mC\u001b[39m\u001b[49m\u001b[47m\u001b[30mC\u001b[39m\u001b[49m\u001b[47m\u001b[30mC\u001b[39m\u001b[49m\u001b[47m\u001b[30mC\u001b[39m\u001b[49m\u001b[47m\u001b[30mA\u001b[39m\u001b[49m\u001b[47m\u001b[30mC\u001b[39m\u001b[49m\u001b[47m\u001b[30mA\u001b[39m\u001b[49m\u001b[47m\u001b[30mC\u001b[39m\u001b[49m\u001b[47m\u001b[30mC\u001b[39m\u001b[49m\u001b[47m\u001b[30mG\u001b[39m\u001b[49m\u001b[47m\u001b[30mG\u001b[39m\u001b[49m\u001b[47m\u001b[30mC\u001b[39m\u001b[49m\u001b[47m\u001b[30mC\u001b[39m\u001b[49m\u001b[47m\u001b[30mG\u001b[39m\u001b[49m\u001b[47m\u001b[30mC\u001b[39m\u001b[49m\u001b[47m\u001b[30mC\u001b[39m\u001b[49m\u001b[47m\u001b[30mG\u001b[39m\u001b[49m\u001b[47m\u001b[30mA\u001b[39m\u001b[49m\u001b[47m\u001b[30mA\u001b[39m\u001b[49m\u001b[47m\u001b[30mG\u001b[39m\u001b[49m\u001b[47m\u001b[30mT\u001b[39m\u001b[49m...\u001b[47m\u001b[30mG\u001b[39m\u001b[49m\u001b[47m\u001b[30mA\u001b[39m\u001b[49m\u001b[47m\u001b[30mA\u001b[39m\u001b[49m\u001b[47m\u001b[30mC\u001b[39m\u001b[49m\u001b[47m\u001b[30mT\u001b[39m\u001b[49m\u001b[47m\u001b[30mG\u001b[39m\u001b[49m\u001b[47m\u001b[30mT\u001b[39m\u001b[49m\u001b[47m\u001b[30mC\u001b[39m\u001b[49m\u001b[47m\u001b[30mG\u001b[39m\u001b[49m\u001b[47m\u001b[30mC\u001b[39m\u001b[49m\u001b[47m\u001b[30mA\u001b[39m\u001b[49m\u001b[47m\u001b[30mG\u001b[39m\u001b[49m\u001b[47m\u001b[30mT\u001b[39m\u001b[49m\u001b[47m\u001b[30mC\u001b[39m\u001b[49m\u001b[47m\u001b[30mT\u001b[39m\u001b[49m\u001b[47m\u001b[30mG\u001b[39m\u001b[49m\u001b[47m\u001b[30mA\u001b[39m\u001b[49m\u001b[47m\u001b[30mC\u001b[39m\u001b[49m\u001b[47m\u001b[30mT\u001b[39m\u001b[49m\u001b[47m\u001b[30mC\u001b[39m\u001b[49m\u001b[47m\u001b[30mA\u001b[39m\u001b[49m\u001b[47m\u001b[30mC\u001b[39m\u001b[49m\u001b[47m\u001b[30mA\u001b[39m\u001b[49m\u001b[47m\u001b[30mC\u001b[39m\u001b[49m\u001b[47m\u001b[30mA\u001b[39m\u001b[49m\u001b[47m\u001b[30mG\u001b[39m\u001b[49m\u001b[47m\u001b[30mA\u001b[39m\u001b[49m\u001b[47m\u001b[30mT\u001b[39m\u001b[49m\u001b[47m\u001b[30mC\u001b[39m\u001b[49m\u001b[47m\u001b[30mA\u001b[39m\u001b[49m\u001b[47m\u001b[30mA\u001b[39m\u001b[49m\u001b[47m\u001b[30mC\u001b[39m\u001b[49m\u001b[47m\u001b[30mA\u001b[39m\u001b[49m\u001b[47m\u001b[30mA\u001b[39m\u001b[49m\u001b[47m\u001b[30mC\u001b[39m\u001b[49m\u001b[47m\u001b[30mT\u001b[39m\u001b[49m"
      ]
     },
     "metadata": {},
     "output_type": "display_data"
    },
    {
     "data": {
      "text/plain": [
       "3598-letter AAString object\n",
       "seq: SC*SV*VRLRQFESEARANNSINRFNLDLETRVSGH...AY*RGKDQRLHEFPPRWPPGTDRRTSAAGVGKSMVS"
      ]
     },
     "metadata": {},
     "output_type": "display_data"
    }
   ],
   "source": [
    "# Reverse the zikv sequence\n",
    "reverse(zikv)\n",
    "\n",
    "# Complement the zikv sequence\n",
    "complement(zikv)\n",
    "\n",
    "# Reverse complement the zikv sequence\n",
    "reverseComplement(zikv)\n",
    "\n",
    "# Translate the zikv sequence\n",
    "translate(zikv)"
   ]
  },
  {
   "cell_type": "markdown",
   "metadata": {},
   "source": [
    "### Searching for a pattern\n",
    "\n",
    "Let's find some occurrences of a pattern in the zikaVirus set using `vmatchPattern()`. Then, let's try the same pattern search using` matchPattern()` with a single sequence, zikv.\n",
    "\n",
    "```\n",
    "# For Sets\n",
    "vmatchPattern(pattern = \"ACATGGGCCTACCATGGGAG\", \n",
    "              subject = zikaVirus, max.mismatch = 1)\n",
    "# For single sequences\n",
    "matchPattern(pattern = \"ACATGGGCCTACCATGGGAG\", \n",
    "              subject = zikv, max.mismatch = 1)\n",
    "```"
   ]
  },
  {
   "cell_type": "code",
   "execution_count": 18,
   "metadata": {},
   "outputs": [
    {
     "data": {
      "text/plain": [
       "MIndex object of length 1\n",
       "$`NC_012532.1 Zika virus, complete genome`\n",
       "IRanges object with 1 range and 0 metadata columns:\n",
       "          start       end     width\n",
       "      <integer> <integer> <integer>\n",
       "  [1]      8561      8580        20\n"
      ]
     },
     "metadata": {},
     "output_type": "display_data"
    },
    {
     "data": {
      "text/plain": [
       "Views on a 10794-letter DNAString subject\n",
       "subject: \u001b[47m\u001b[30mA\u001b[39m\u001b[49m\u001b[47m\u001b[30mG\u001b[39m\u001b[49m\u001b[47m\u001b[30mT\u001b[39m\u001b[49m\u001b[47m\u001b[30mT\u001b[39m\u001b[49m\u001b[47m\u001b[30mG\u001b[39m\u001b[49m\u001b[47m\u001b[30mT\u001b[39m\u001b[49m\u001b[47m\u001b[30mT\u001b[39m\u001b[49m\u001b[47m\u001b[30mG\u001b[39m\u001b[49m\u001b[47m\u001b[30mA\u001b[39m\u001b[49m\u001b[47m\u001b[30mT\u001b[39m\u001b[49m\u001b[47m\u001b[30mC\u001b[39m\u001b[49m\u001b[47m\u001b[30mT\u001b[39m\u001b[49m\u001b[47m\u001b[30mG\u001b[39m\u001b[49m\u001b[47m\u001b[30mT\u001b[39m\u001b[49m\u001b[47m\u001b[30mG\u001b[39m\u001b[49m\u001b[47m\u001b[30mT\u001b[39m\u001b[49m\u001b[47m\u001b[30mG\u001b[39m\u001b[49m\u001b[47m\u001b[30mA\u001b[39m\u001b[49m\u001b[47m\u001b[30mG\u001b[39m\u001b[49m\u001b[47m\u001b[30mT\u001b[39m\u001b[49m\u001b[47m\u001b[30mC\u001b[39m\u001b[49m\u001b[47m\u001b[30mA\u001b[39m\u001b[49m\u001b[47m\u001b[30mG\u001b[39m\u001b[49m\u001b[47m\u001b[30mA\u001b[39m\u001b[49m\u001b[47m\u001b[30mC\u001b[39m\u001b[49m\u001b[47m\u001b[30mT\u001b[39m\u001b[49m\u001b[47m\u001b[30mG\u001b[39m\u001b[49m\u001b[47m\u001b[30mC\u001b[39m\u001b[49m\u001b[47m\u001b[30mG\u001b[39m\u001b[49m\u001b[47m\u001b[30mA\u001b[39m\u001b[49m\u001b[47m\u001b[30mC\u001b[39m\u001b[49m\u001b[47m\u001b[30mA\u001b[39m\u001b[49m\u001b[47m\u001b[30mG\u001b[39m\u001b[49m\u001b[47m\u001b[30mT\u001b[39m\u001b[49m...\u001b[47m\u001b[30mT\u001b[39m\u001b[49m\u001b[47m\u001b[30mT\u001b[39m\u001b[49m\u001b[47m\u001b[30mC\u001b[39m\u001b[49m\u001b[47m\u001b[30mG\u001b[39m\u001b[49m\u001b[47m\u001b[30mG\u001b[39m\u001b[49m\u001b[47m\u001b[30mC\u001b[39m\u001b[49m\u001b[47m\u001b[30mG\u001b[39m\u001b[49m\u001b[47m\u001b[30mG\u001b[39m\u001b[49m\u001b[47m\u001b[30mC\u001b[39m\u001b[49m\u001b[47m\u001b[30mC\u001b[39m\u001b[49m\u001b[47m\u001b[30mG\u001b[39m\u001b[49m\u001b[47m\u001b[30mG\u001b[39m\u001b[49m\u001b[47m\u001b[30mT\u001b[39m\u001b[49m\u001b[47m\u001b[30mG\u001b[39m\u001b[49m\u001b[47m\u001b[30mT\u001b[39m\u001b[49m\u001b[47m\u001b[30mG\u001b[39m\u001b[49m\u001b[47m\u001b[30mG\u001b[39m\u001b[49m\u001b[47m\u001b[30mG\u001b[39m\u001b[49m\u001b[47m\u001b[30mG\u001b[39m\u001b[49m\u001b[47m\u001b[30mA\u001b[39m\u001b[49m\u001b[47m\u001b[30mA\u001b[39m\u001b[49m\u001b[47m\u001b[30mA\u001b[39m\u001b[49m\u001b[47m\u001b[30mT\u001b[39m\u001b[49m\u001b[47m\u001b[30mC\u001b[39m\u001b[49m\u001b[47m\u001b[30mC\u001b[39m\u001b[49m\u001b[47m\u001b[30mA\u001b[39m\u001b[49m\u001b[47m\u001b[30mT\u001b[39m\u001b[49m\u001b[47m\u001b[30mG\u001b[39m\u001b[49m\u001b[47m\u001b[30mG\u001b[39m\u001b[49m\u001b[47m\u001b[30mT\u001b[39m\u001b[49m\u001b[47m\u001b[30mT\u001b[39m\u001b[49m\u001b[47m\u001b[30mT\u001b[39m\u001b[49m\u001b[47m\u001b[30mC\u001b[39m\u001b[49m\u001b[47m\u001b[30mT\u001b[39m\u001b[49m\n",
       "views:\n",
       "      start  end width\n",
       "  [1]  8561 8580    20 [\u001b[47m\u001b[30mA\u001b[39m\u001b[49m\u001b[47m\u001b[30mC\u001b[39m\u001b[49m\u001b[47m\u001b[30mA\u001b[39m\u001b[49m\u001b[47m\u001b[30mT\u001b[39m\u001b[49m\u001b[47m\u001b[30mG\u001b[39m\u001b[49m\u001b[47m\u001b[30mG\u001b[39m\u001b[49m\u001b[47m\u001b[30mG\u001b[39m\u001b[49m\u001b[47m\u001b[30mC\u001b[39m\u001b[49m\u001b[47m\u001b[30mC\u001b[39m\u001b[49m\u001b[47m\u001b[30mT\u001b[39m\u001b[49m\u001b[47m\u001b[30mA\u001b[39m\u001b[49m\u001b[47m\u001b[30mC\u001b[39m\u001b[49m\u001b[47m\u001b[30mC\u001b[39m\u001b[49m\u001b[47m\u001b[30mA\u001b[39m\u001b[49m\u001b[47m\u001b[30mT\u001b[39m\u001b[49m\u001b[47m\u001b[30mG\u001b[39m\u001b[49m\u001b[47m\u001b[30mG\u001b[39m\u001b[49m\u001b[47m\u001b[30mG\u001b[39m\u001b[49m\u001b[47m\u001b[30mA\u001b[39m\u001b[49m\u001b[47m\u001b[30mG\u001b[39m\u001b[49m]"
      ]
     },
     "metadata": {},
     "output_type": "display_data"
    }
   ],
   "source": [
    "# For Sets\n",
    "vmatchPattern(pattern = \"ACATGGGCCTACCATGGGAG\", \n",
    "              subject = zikaVirus, max.mismatch = 1)\n",
    "# For single sequences\n",
    "matchPattern(pattern = \"ACATGGGCCTACCATGGGAG\", \n",
    "              subject = zikv, max.mismatch = 1)"
   ]
  },
  {
   "cell_type": "markdown",
   "metadata": {},
   "source": [
    "### Finding Palindromes\n",
    "It is your turn to find palindromic sequences using the zikv sequence. Remember, `findPalindromes()` can only search a single sequence, and **does not work with a set**."
   ]
  },
  {
   "cell_type": "code",
   "execution_count": 19,
   "metadata": {},
   "outputs": [
    {
     "data": {
      "text/plain": [
       "Views on a 10794-letter DNAString subject\n",
       "subject: \u001b[47m\u001b[30mA\u001b[39m\u001b[49m\u001b[47m\u001b[30mG\u001b[39m\u001b[49m\u001b[47m\u001b[30mT\u001b[39m\u001b[49m\u001b[47m\u001b[30mT\u001b[39m\u001b[49m\u001b[47m\u001b[30mG\u001b[39m\u001b[49m\u001b[47m\u001b[30mT\u001b[39m\u001b[49m\u001b[47m\u001b[30mT\u001b[39m\u001b[49m\u001b[47m\u001b[30mG\u001b[39m\u001b[49m\u001b[47m\u001b[30mA\u001b[39m\u001b[49m\u001b[47m\u001b[30mT\u001b[39m\u001b[49m\u001b[47m\u001b[30mC\u001b[39m\u001b[49m\u001b[47m\u001b[30mT\u001b[39m\u001b[49m\u001b[47m\u001b[30mG\u001b[39m\u001b[49m\u001b[47m\u001b[30mT\u001b[39m\u001b[49m\u001b[47m\u001b[30mG\u001b[39m\u001b[49m\u001b[47m\u001b[30mT\u001b[39m\u001b[49m\u001b[47m\u001b[30mG\u001b[39m\u001b[49m\u001b[47m\u001b[30mA\u001b[39m\u001b[49m\u001b[47m\u001b[30mG\u001b[39m\u001b[49m\u001b[47m\u001b[30mT\u001b[39m\u001b[49m\u001b[47m\u001b[30mC\u001b[39m\u001b[49m\u001b[47m\u001b[30mA\u001b[39m\u001b[49m\u001b[47m\u001b[30mG\u001b[39m\u001b[49m\u001b[47m\u001b[30mA\u001b[39m\u001b[49m\u001b[47m\u001b[30mC\u001b[39m\u001b[49m\u001b[47m\u001b[30mT\u001b[39m\u001b[49m\u001b[47m\u001b[30mG\u001b[39m\u001b[49m\u001b[47m\u001b[30mC\u001b[39m\u001b[49m\u001b[47m\u001b[30mG\u001b[39m\u001b[49m\u001b[47m\u001b[30mA\u001b[39m\u001b[49m\u001b[47m\u001b[30mC\u001b[39m\u001b[49m\u001b[47m\u001b[30mA\u001b[39m\u001b[49m\u001b[47m\u001b[30mG\u001b[39m\u001b[49m\u001b[47m\u001b[30mT\u001b[39m\u001b[49m...\u001b[47m\u001b[30mT\u001b[39m\u001b[49m\u001b[47m\u001b[30mT\u001b[39m\u001b[49m\u001b[47m\u001b[30mC\u001b[39m\u001b[49m\u001b[47m\u001b[30mG\u001b[39m\u001b[49m\u001b[47m\u001b[30mG\u001b[39m\u001b[49m\u001b[47m\u001b[30mC\u001b[39m\u001b[49m\u001b[47m\u001b[30mG\u001b[39m\u001b[49m\u001b[47m\u001b[30mG\u001b[39m\u001b[49m\u001b[47m\u001b[30mC\u001b[39m\u001b[49m\u001b[47m\u001b[30mC\u001b[39m\u001b[49m\u001b[47m\u001b[30mG\u001b[39m\u001b[49m\u001b[47m\u001b[30mG\u001b[39m\u001b[49m\u001b[47m\u001b[30mT\u001b[39m\u001b[49m\u001b[47m\u001b[30mG\u001b[39m\u001b[49m\u001b[47m\u001b[30mT\u001b[39m\u001b[49m\u001b[47m\u001b[30mG\u001b[39m\u001b[49m\u001b[47m\u001b[30mG\u001b[39m\u001b[49m\u001b[47m\u001b[30mG\u001b[39m\u001b[49m\u001b[47m\u001b[30mG\u001b[39m\u001b[49m\u001b[47m\u001b[30mA\u001b[39m\u001b[49m\u001b[47m\u001b[30mA\u001b[39m\u001b[49m\u001b[47m\u001b[30mA\u001b[39m\u001b[49m\u001b[47m\u001b[30mT\u001b[39m\u001b[49m\u001b[47m\u001b[30mC\u001b[39m\u001b[49m\u001b[47m\u001b[30mC\u001b[39m\u001b[49m\u001b[47m\u001b[30mA\u001b[39m\u001b[49m\u001b[47m\u001b[30mT\u001b[39m\u001b[49m\u001b[47m\u001b[30mG\u001b[39m\u001b[49m\u001b[47m\u001b[30mG\u001b[39m\u001b[49m\u001b[47m\u001b[30mT\u001b[39m\u001b[49m\u001b[47m\u001b[30mT\u001b[39m\u001b[49m\u001b[47m\u001b[30mT\u001b[39m\u001b[49m\u001b[47m\u001b[30mC\u001b[39m\u001b[49m\u001b[47m\u001b[30mT\u001b[39m\u001b[49m\n",
       "views:\n",
       "       start   end width\n",
       "   [1]    18    26     9 [\u001b[47m\u001b[30mA\u001b[39m\u001b[49m\u001b[47m\u001b[30mG\u001b[39m\u001b[49m\u001b[47m\u001b[30mT\u001b[39m\u001b[49m\u001b[47m\u001b[30mC\u001b[39m\u001b[49m\u001b[47m\u001b[30mA\u001b[39m\u001b[49m\u001b[47m\u001b[30mG\u001b[39m\u001b[49m\u001b[47m\u001b[30mA\u001b[39m\u001b[49m\u001b[47m\u001b[30mC\u001b[39m\u001b[49m\u001b[47m\u001b[30mT\u001b[39m\u001b[49m]\n",
       "   [2]   137   144     8 [\u001b[47m\u001b[30mA\u001b[39m\u001b[49m\u001b[47m\u001b[30mT\u001b[39m\u001b[49m\u001b[47m\u001b[30mC\u001b[39m\u001b[49m\u001b[47m\u001b[30mC\u001b[39m\u001b[49m\u001b[47m\u001b[30mG\u001b[39m\u001b[49m\u001b[47m\u001b[30mG\u001b[39m\u001b[49m\u001b[47m\u001b[30mA\u001b[39m\u001b[49m\u001b[47m\u001b[30mT\u001b[39m\u001b[49m]\n",
       "   [3]   143   151     9 [\u001b[47m\u001b[30mA\u001b[39m\u001b[49m\u001b[47m\u001b[30mT\u001b[39m\u001b[49m\u001b[47m\u001b[30mT\u001b[39m\u001b[49m\u001b[47m\u001b[30mG\u001b[39m\u001b[49m\u001b[47m\u001b[30mT\u001b[39m\u001b[49m\u001b[47m\u001b[30mC\u001b[39m\u001b[49m\u001b[47m\u001b[30mA\u001b[39m\u001b[49m\u001b[47m\u001b[30mA\u001b[39m\u001b[49m\u001b[47m\u001b[30mT\u001b[39m\u001b[49m]\n",
       "   [4]   363   370     8 [\u001b[47m\u001b[30mA\u001b[39m\u001b[49m\u001b[47m\u001b[30mA\u001b[39m\u001b[49m\u001b[47m\u001b[30mG\u001b[39m\u001b[49m\u001b[47m\u001b[30mA\u001b[39m\u001b[49m\u001b[47m\u001b[30mT\u001b[39m\u001b[49m\u001b[47m\u001b[30mC\u001b[39m\u001b[49m\u001b[47m\u001b[30mT\u001b[39m\u001b[49m\u001b[47m\u001b[30mT\u001b[39m\u001b[49m]\n",
       "   [5]   464   471     8 [\u001b[47m\u001b[30mG\u001b[39m\u001b[49m\u001b[47m\u001b[30mC\u001b[39m\u001b[49m\u001b[47m\u001b[30mC\u001b[39m\u001b[49m\u001b[47m\u001b[30mA\u001b[39m\u001b[49m\u001b[47m\u001b[30mT\u001b[39m\u001b[49m\u001b[47m\u001b[30mG\u001b[39m\u001b[49m\u001b[47m\u001b[30mG\u001b[39m\u001b[49m\u001b[47m\u001b[30mC\u001b[39m\u001b[49m]\n",
       "   ...   ...   ...   ... ...\n",
       "  [79] 10482 10489     8 [\u001b[47m\u001b[30mG\u001b[39m\u001b[49m\u001b[47m\u001b[30mC\u001b[39m\u001b[49m\u001b[47m\u001b[30mC\u001b[39m\u001b[49m\u001b[47m\u001b[30mA\u001b[39m\u001b[49m\u001b[47m\u001b[30mT\u001b[39m\u001b[49m\u001b[47m\u001b[30mG\u001b[39m\u001b[49m\u001b[47m\u001b[30mG\u001b[39m\u001b[49m\u001b[47m\u001b[30mC\u001b[39m\u001b[49m]\n",
       "  [80] 10518 10526     9 [\u001b[47m\u001b[30mC\u001b[39m\u001b[49m\u001b[47m\u001b[30mC\u001b[39m\u001b[49m\u001b[47m\u001b[30mT\u001b[39m\u001b[49m\u001b[47m\u001b[30mC\u001b[39m\u001b[49m\u001b[47m\u001b[30mA\u001b[39m\u001b[49m\u001b[47m\u001b[30mG\u001b[39m\u001b[49m\u001b[47m\u001b[30mA\u001b[39m\u001b[49m\u001b[47m\u001b[30mG\u001b[39m\u001b[49m\u001b[47m\u001b[30mG\u001b[39m\u001b[49m]\n",
       "  [81] 10734 10744    11 [\u001b[47m\u001b[30mC\u001b[39m\u001b[49m\u001b[47m\u001b[30mT\u001b[39m\u001b[49m\u001b[47m\u001b[30mG\u001b[39m\u001b[49m\u001b[47m\u001b[30mG\u001b[39m\u001b[49m\u001b[47m\u001b[30mC\u001b[39m\u001b[49m\u001b[47m\u001b[30mC\u001b[39m\u001b[49m\u001b[47m\u001b[30mG\u001b[39m\u001b[49m\u001b[47m\u001b[30mC\u001b[39m\u001b[49m\u001b[47m\u001b[30mC\u001b[39m\u001b[49m\u001b[47m\u001b[30mA\u001b[39m\u001b[49m\u001b[47m\u001b[30mG\u001b[39m\u001b[49m]\n",
       "  [82] 10753 10767    15 [\u001b[47m\u001b[30mC\u001b[39m\u001b[49m\u001b[47m\u001b[30mG\u001b[39m\u001b[49m\u001b[47m\u001b[30mC\u001b[39m\u001b[49m\u001b[47m\u001b[30mC\u001b[39m\u001b[49m\u001b[47m\u001b[30mG\u001b[39m\u001b[49m\u001b[47m\u001b[30mA\u001b[39m\u001b[49m\u001b[47m\u001b[30mA\u001b[39m\u001b[49m\u001b[47m\u001b[30mC\u001b[39m\u001b[49m\u001b[47m\u001b[30mT\u001b[39m\u001b[49m\u001b[47m\u001b[30mT\u001b[39m\u001b[49m\u001b[47m\u001b[30mC\u001b[39m\u001b[49m\u001b[47m\u001b[30mG\u001b[39m\u001b[49m\u001b[47m\u001b[30mG\u001b[39m\u001b[49m\u001b[47m\u001b[30mC\u001b[39m\u001b[49m\u001b[47m\u001b[30mG\u001b[39m\u001b[49m]\n",
       "  [83] 10763 10771     9 [\u001b[47m\u001b[30mC\u001b[39m\u001b[49m\u001b[47m\u001b[30mG\u001b[39m\u001b[49m\u001b[47m\u001b[30mG\u001b[39m\u001b[49m\u001b[47m\u001b[30mC\u001b[39m\u001b[49m\u001b[47m\u001b[30mG\u001b[39m\u001b[49m\u001b[47m\u001b[30mG\u001b[39m\u001b[49m\u001b[47m\u001b[30mC\u001b[39m\u001b[49m\u001b[47m\u001b[30mC\u001b[39m\u001b[49m\u001b[47m\u001b[30mG\u001b[39m\u001b[49m]"
      ]
     },
     "metadata": {},
     "output_type": "display_data"
    }
   ],
   "source": [
    "# Find palindromes in zikv\n",
    "findPalindromes(zikv)"
   ]
  },
  {
   "cell_type": "markdown",
   "metadata": {},
   "source": [
    "### Finding a conserved region within six frames\n",
    "Now you will be able to look for the NS5 protein sequence in the Zika virus sequence. The NS5 is a very conserved virus protein.\n",
    "\n",
    "The Zika virus DNA sequence has been transcribed into an `RNAStringSet`, called `rnaframesZikaSet`. The set has six reading frames (one per sequence) for you to translate into amino acids. When doing the search, you will set the max.mismatch argument in your call of `vcountPattern()` to add flexibility to your search."
   ]
  },
  {
   "cell_type": "code",
   "execution_count": null,
   "metadata": {},
   "outputs": [],
   "source": [
    "####"
   ]
  },
  {
   "cell_type": "markdown",
   "metadata": {},
   "source": [
    "## IRanges and GenomicRanges\n",
    "The IRanges and GenomicRanges packages are also containers for storing and manipulating genomic intervals and variables defined along a genome. These packages provide infrastructure and support to many other Bioconductor packages because of their enriching features. You will learn how to use these containers and their associated metadata, for manipulation of your sequences. The dataset you will be looking at is a special gene of interest in the human genome."
   ]
  },
  {
   "cell_type": "markdown",
   "metadata": {},
   "source": [
    "### Constructing IRanges\n",
    "Some `IRanges` constructor examples were provided. This is your turn to practice creating sequence ranges with different arguments and see how these arguments are reused or complemented.\n",
    "\n",
    "Using the `IRanges()` function, you can specify parameters such as start, end, or width. These parameter inputs can fall into one of two categories:\n",
    "\n",
    "`start`, `end`, and `width` are numeric vectors.\n",
    "- The start parameter is a logical vector.\n",
    "- Missing arguments will be resolved using the equation width = end - start + 1.\n",
    "\n",
    "The IRanges() constructor indicates that all of the parameters are optional with default NULL:\n",
    "```\n",
    "IRanges(start = NULL, end = NULL, width = NULL, names = NULL)\n",
    "```"
   ]
  },
  {
   "cell_type": "markdown",
   "metadata": {},
   "source": [
    "Construct three IRanges objects with the following arguments:\n",
    "- IRnum1: A start equal to a vector of values 1 through 5 and end equal to 100.\n",
    "- IRnum2: An end equal to 100 and width equal to both 89 and 10.\n",
    "- IRlog1: start equal to Rle(c(F, T, T, T, F, T, T, T)).\n",
    "- Print the objects and see the results!"
   ]
  },
  {
   "cell_type": "code",
   "execution_count": 20,
   "metadata": {},
   "outputs": [
    {
     "name": "stdout",
     "output_type": "stream",
     "text": [
      "$IRnum1\n",
      "IRanges object with 5 ranges and 0 metadata columns:\n",
      "          start       end     width\n",
      "      <integer> <integer> <integer>\n",
      "  [1]         1       100       100\n",
      "  [2]         2       100        99\n",
      "  [3]         3       100        98\n",
      "  [4]         4       100        97\n",
      "  [5]         5       100        96\n",
      "\n",
      "$IRnum2\n",
      "IRanges object with 2 ranges and 0 metadata columns:\n",
      "          start       end     width\n",
      "      <integer> <integer> <integer>\n",
      "  [1]        12       100        89\n",
      "  [2]         1       100       100\n",
      "\n",
      "$IRlog1\n",
      "IRanges object with 2 ranges and 0 metadata columns:\n",
      "          start       end     width\n",
      "      <integer> <integer> <integer>\n",
      "  [1]         2         4         3\n",
      "  [2]         6         8         3\n",
      "\n"
     ]
    }
   ],
   "source": [
    "# Load IRanges package\n",
    "library(IRanges)\n",
    "\n",
    "# IRnum1: start - vector 1 through 5, end - 100  \n",
    "IRnum1 <- IRanges(start = 1:5, end = 100)\n",
    "\n",
    "# IRnum2: end - 100, width - 89 and 10\n",
    "IRnum2 <- IRanges(end = 100, width = c(89,100))\n",
    "\n",
    "# IRlog1: start = Rle(c(F, T, T, T, F, T, T, T)))\n",
    "IRlog1 <- IRanges(start = Rle(c(F, T, T, T, F, T, T, T)))\n",
    "\n",
    "# Print objects in a list\n",
    "print(list(IRnum1 = IRnum1, IRnum2 = IRnum2, IRlog1 = IRlog1))"
   ]
  },
  {
   "cell_type": "markdown",
   "metadata": {},
   "source": [
    "### Interacting with IRanges\n",
    "You can use the `IRanges()` function to create a single sequence. You can also provide vectors to `IRanges()` to create multiple sequence ranges at the same time. This is both fascinating and useful! The creation of objects seq_1 and seq_2 are examples of this.\n",
    "\n",
    "For this exercise, check the width of each of the sequences provided here, using `width()` and `lengths()`. Notice the difference between the two types of outputs.\n",
    "\n",
    "Remember that `width = end - start + 1`.\n",
    "\n"
   ]
  },
  {
   "cell_type": "code",
   "execution_count": 24,
   "metadata": {},
   "outputs": [],
   "source": [
    "# Create the first sequence seq_1\n",
    "seq_1 <- IRanges(start = 10, end = 37)\n",
    "\n",
    "# Create the second sequence seq_2\n",
    "seq_2 <- IRanges(start = c(5, 35, 50),\n",
    "                 end = c(12, 39, 61),\n",
    "                 names = LETTERS[1:3])"
   ]
  },
  {
   "cell_type": "code",
   "execution_count": 23,
   "metadata": {},
   "outputs": [
    {
     "data": {
      "text/html": [
       "28"
      ],
      "text/latex": [
       "28"
      ],
      "text/markdown": [
       "28"
      ],
      "text/plain": [
       "[1] 28"
      ]
     },
     "metadata": {},
     "output_type": "display_data"
    },
    {
     "data": {
      "text/html": [
       "<style>\n",
       ".list-inline {list-style: none; margin:0; padding: 0}\n",
       ".list-inline>li {display: inline-block}\n",
       ".list-inline>li:not(:last-child)::after {content: \"\\00b7\"; padding: 0 .5ex}\n",
       "</style>\n",
       "<ol class=list-inline><li>8</li><li>5</li><li>12</li></ol>\n"
      ],
      "text/latex": [
       "\\begin{enumerate*}\n",
       "\\item 8\n",
       "\\item 5\n",
       "\\item 12\n",
       "\\end{enumerate*}\n"
      ],
      "text/markdown": [
       "1. 8\n",
       "2. 5\n",
       "3. 12\n",
       "\n",
       "\n"
      ],
      "text/plain": [
       "[1]  8  5 12"
      ]
     },
     "metadata": {},
     "output_type": "display_data"
    }
   ],
   "source": [
    "# Check the width of seq_1 and seq_2\n",
    "width(seq_1)\n",
    "width(seq_2)"
   ]
  },
  {
   "cell_type": "code",
   "execution_count": 22,
   "metadata": {},
   "outputs": [
    {
     "data": {
      "text/html": [
       "1"
      ],
      "text/latex": [
       "1"
      ],
      "text/markdown": [
       "1"
      ],
      "text/plain": [
       "[1] 1"
      ]
     },
     "metadata": {},
     "output_type": "display_data"
    },
    {
     "data": {
      "text/html": [
       "3"
      ],
      "text/latex": [
       "3"
      ],
      "text/markdown": [
       "3"
      ],
      "text/plain": [
       "[1] 3"
      ]
     },
     "metadata": {},
     "output_type": "display_data"
    }
   ],
   "source": [
    "# Check the width of seq_1 and seq_2\n",
    "length(seq_1)\n",
    "length(seq_2)"
   ]
  },
  {
   "cell_type": "markdown",
   "metadata": {},
   "source": [
    "### From tabular data to Genomic Ranges:\n",
    "to create GRanges objects. You can define a `GRange` with a range's name, start, and end positions (seqnames, start, and end). If you have data in table format, you can also transform it into a GRanges object. Let's use a data frame, called seq_intervals, as this is most likely where you have stored your sequence intervals. Note: you can also use a tibble if you are more familiar with them.\n",
    "\n",
    "You will use the predefined seq_intervals data frame to transform into a GRanges object using the `as()` function. The as() function was introduced in the last video - it takes in an object and the name of the class to convert the object to."
   ]
  },
  {
   "cell_type": "code",
   "execution_count": 31,
   "metadata": {},
   "outputs": [
    {
     "data": {
      "text/html": [
       "<table class=\"dataframe\">\n",
       "<caption>A data.frame: 4 × 4</caption>\n",
       "<thead>\n",
       "\t<tr><th scope=col>seqnames</th><th scope=col>start</th><th scope=col>end</th><th scope=col>score</th></tr>\n",
       "\t<tr><th scope=col>&lt;chr&gt;</th><th scope=col>&lt;int&gt;</th><th scope=col>&lt;int&gt;</th><th scope=col>&lt;dbl&gt;</th></tr>\n",
       "</thead>\n",
       "<tbody>\n",
       "\t<tr><td>chrI </td><td>11</td><td>36</td><td>100</td></tr>\n",
       "\t<tr><td>chrI </td><td>12</td><td>37</td><td>182</td></tr>\n",
       "\t<tr><td>chrII</td><td>13</td><td>38</td><td> 77</td></tr>\n",
       "\t<tr><td>chrII</td><td>14</td><td>39</td><td> 88</td></tr>\n",
       "</tbody>\n",
       "</table>\n"
      ],
      "text/latex": [
       "A data.frame: 4 × 4\n",
       "\\begin{tabular}{llll}\n",
       " seqnames & start & end & score\\\\\n",
       " <chr> & <int> & <int> & <dbl>\\\\\n",
       "\\hline\n",
       "\t chrI  & 11 & 36 & 100\\\\\n",
       "\t chrI  & 12 & 37 & 182\\\\\n",
       "\t chrII & 13 & 38 &  77\\\\\n",
       "\t chrII & 14 & 39 &  88\\\\\n",
       "\\end{tabular}\n"
      ],
      "text/markdown": [
       "\n",
       "A data.frame: 4 × 4\n",
       "\n",
       "| seqnames &lt;chr&gt; | start &lt;int&gt; | end &lt;int&gt; | score &lt;dbl&gt; |\n",
       "|---|---|---|---|\n",
       "| chrI  | 11 | 36 | 100 |\n",
       "| chrI  | 12 | 37 | 182 |\n",
       "| chrII | 13 | 38 |  77 |\n",
       "| chrII | 14 | 39 |  88 |\n",
       "\n"
      ],
      "text/plain": [
       "  seqnames start end score\n",
       "1 chrI     11    36  100  \n",
       "2 chrI     12    37  182  \n",
       "3 chrII    13    38   77  \n",
       "4 chrII    14    39   88  "
      ]
     },
     "metadata": {},
     "output_type": "display_data"
    }
   ],
   "source": [
    "# create dataframe\n",
    "seq_intervals <- data.frame(seqnames = c('chrI','chrI','chrII','chrII'), start = 11:14, end= 36:39, score = c(100,182,77,88))\n",
    "seq_intervals"
   ]
  },
  {
   "cell_type": "code",
   "execution_count": 32,
   "metadata": {},
   "outputs": [
    {
     "name": "stdout",
     "output_type": "stream",
     "text": [
      "  seqnames start end score\n",
      "1     chrI    11  36   100\n",
      "2     chrI    12  37   182\n",
      "3    chrII    13  38    77\n",
      "4    chrII    14  39    88\n"
     ]
    },
    {
     "data": {
      "text/plain": [
       "GRanges object with 4 ranges and 1 metadata column:\n",
       "      seqnames    ranges strand |     score\n",
       "         <Rle> <IRanges>  <Rle> | <numeric>\n",
       "  [1]     chrI     11-36      * |       100\n",
       "  [2]     chrI     12-37      * |       182\n",
       "  [3]    chrII     13-38      * |        77\n",
       "  [4]    chrII     14-39      * |        88\n",
       "  -------\n",
       "  seqinfo: 2 sequences from an unspecified genome; no seqlengths"
      ]
     },
     "metadata": {},
     "output_type": "display_data"
    }
   ],
   "source": [
    "# Load GenomicRanges package\n",
    "library(GenomicRanges)\n",
    "\n",
    "# Print seq_intervals\n",
    "print(seq_intervals)\n",
    "\n",
    "# Create myGR\n",
    "seq_intervals <- as(seq_intervals, \"GRanges\")\n",
    "\n",
    "# Print myGR\n",
    "seq_intervals "
   ]
  },
  {
   "cell_type": "markdown",
   "metadata": {},
   "source": [
    "### GenomicRanges accessors\n",
    "In the previous exercise, you created a GRanges object from a data frame containing the basic information. You will discover that GRanges can store much more!\n",
    "\n",
    "Use the accessor method to explore the GRanges object, myGR. You can extract characteristics from a GRanges object such as chromosome names, the number of sequences, the names of each sequence, information about strand, score, length, and more.\n",
    "\n",
    "The following are basic accessors for `GRanges`:\n",
    "```\n",
    "seqnames(gr)\n",
    "ranges(gr)\n",
    "mcols(gr)\n",
    "genome(gr)\n",
    "seqinfo(gr)\n",
    "```\n"
   ]
  },
  {
   "cell_type": "code",
   "execution_count": 33,
   "metadata": {},
   "outputs": [
    {
     "data": {
      "text/plain": [
       "factor-Rle of length 4 with 2 runs\n",
       "  Lengths:     2     2\n",
       "  Values : chrI  chrII\n",
       "Levels(2): chrI chrII"
      ]
     },
     "metadata": {},
     "output_type": "display_data"
    },
    {
     "data": {
      "text/plain": [
       "IRanges object with 4 ranges and 0 metadata columns:\n",
       "          start       end     width\n",
       "      <integer> <integer> <integer>\n",
       "  [1]        11        36        26\n",
       "  [2]        12        37        26\n",
       "  [3]        13        38        26\n",
       "  [4]        14        39        26"
      ]
     },
     "metadata": {},
     "output_type": "display_data"
    },
    {
     "data": {
      "text/plain": [
       "DataFrame with 4 rows and 1 column\n",
       "      score\n",
       "  <numeric>\n",
       "1       100\n",
       "2       182\n",
       "3        77\n",
       "4        88"
      ]
     },
     "metadata": {},
     "output_type": "display_data"
    },
    {
     "data": {
      "text/html": [
       "<style>\n",
       ".dl-inline {width: auto; margin:0; padding: 0}\n",
       ".dl-inline>dt, .dl-inline>dd {float: none; width: auto; display: inline-block}\n",
       ".dl-inline>dt::after {content: \":\\0020\"; padding-right: .5ex}\n",
       ".dl-inline>dt:not(:first-of-type) {padding-left: .5ex}\n",
       "</style><dl class=dl-inline><dt>chrI</dt><dd>NA</dd><dt>chrII</dt><dd>NA</dd></dl>\n"
      ],
      "text/latex": [
       "\\begin{description*}\n",
       "\\item[chrI] NA\n",
       "\\item[chrII] NA\n",
       "\\end{description*}\n"
      ],
      "text/markdown": [
       "chrI\n",
       ":   NAchrII\n",
       ":   NA\n",
       "\n"
      ],
      "text/plain": [
       " chrI chrII \n",
       "   NA    NA "
      ]
     },
     "metadata": {},
     "output_type": "display_data"
    },
    {
     "data": {
      "text/plain": [
       "Seqinfo object with 2 sequences from an unspecified genome; no seqlengths:\n",
       "  seqnames seqlengths isCircular genome\n",
       "  chrI             NA         NA   <NA>\n",
       "  chrII            NA         NA   <NA>"
      ]
     },
     "metadata": {},
     "output_type": "display_data"
    }
   ],
   "source": [
    "gr <- as(seq_intervals, \"GRanges\")\n",
    "seqnames(gr)\n",
    "ranges(gr)\n",
    "mcols(gr)\n",
    "genome(gr)\n",
    "seqinfo(gr)"
   ]
  },
  {
   "cell_type": "markdown",
   "metadata": {},
   "source": [
    "### Human genome chromosome X\n",
    "It is your turn to use the `TxDb.Hsapiens.UCSC.hg38.knownGene` package and extract information from it. Like in the video, you will **subset all genes in chromosome X**, using the function `genes()` with the argument filter set to select instances where `tx_chrom = \"chrX\"`. Then, you will explore this subset of genes.\n",
    "\n",
    "Remember that filter receives a `list()` of filter conditions to select specific genome intervals.\n",
    "\n",
    "If you would like to test other filters, valid names for this list are: `\"gene_id\", \"tx_id\", \"tx_name\", \"tx_chrom\", \"tx_strand\", \"exon_id\", \"exon_name\", \"exon_chrom\", \"exon_strand\", \"cds_id\", \"cds_name\", \"cds_chrom\", \"cds_strand\", and \"exon_rank\"`"
   ]
  },
  {
   "cell_type": "markdown",
   "metadata": {},
   "source": [
    "#### Installation [TxDb.Hsapiens.UCSC.hg38.knownGene](https://www.bioconductor.org/packages/release/data/annotation/html/TxDb.Hsapiens.UCSC.hg38.knownGene.html)\n"
   ]
  },
  {
   "cell_type": "code",
   "execution_count": 1,
   "metadata": {},
   "outputs": [
    {
     "name": "stderr",
     "output_type": "stream",
     "text": [
      "'getOption(\"repos\")' replaces Bioconductor standard repositories, see\n",
      "'?repositories' for details\n",
      "\n",
      "replacement repositories:\n",
      "    CRAN: https://cran.r-project.org\n",
      "\n",
      "\n",
      "Bioconductor version 3.13 (BiocManager 1.30.16), R 4.1.2 (2021-11-01)\n",
      "\n",
      "Installing package(s) 'TxDb.Hsapiens.UCSC.hg38.knownGene'\n",
      "\n",
      "installing the source package 'TxDb.Hsapiens.UCSC.hg38.knownGene'\n",
      "\n",
      "\n",
      "Old packages: 'backports', 'brio', 'broom', 'cli', 'cpp11', 'crayon', 'DBI',\n",
      "  'digest', 'dtplyr', 'fansi', 'fs', 'generics', 'glmnet', 'glue', 'jsonlite',\n",
      "  'knitr', 'languageserver', 'magrittr', 'mvtnorm', 'openssl', 'pillar',\n",
      "  'pkgload', 'raster', 'Rcpp', 'readr', 'remotes', 'repr', 'rex', 'rJava',\n",
      "  'rjson', 'rlang', 'rsconnect', 'rvest', 'sp', 'stringi', 'testthat',\n",
      "  'tibble', 'tinytex', 'tzdb', 'uuid', 'vroom', 'withr', 'xfun', 'xgboost',\n",
      "  'xml2', 'yaml', 'foreign', 'later', 'rpart'\n",
      "\n"
     ]
    }
   ],
   "source": [
    "# To install this package, start R (version \"4.1\") and enter:\n",
    "\n",
    "if (!requireNamespace(\"BiocManager\", quietly = TRUE))\n",
    "    install.packages(\"BiocManager\")\n",
    "\n",
    "BiocManager::install(\"TxDb.Hsapiens.UCSC.hg38.knownGene\")"
   ]
  },
  {
   "cell_type": "code",
   "execution_count": 3,
   "metadata": {},
   "outputs": [
    {
     "data": {
      "text/plain": [
       "TxDb object:\n",
       "# Db type: TxDb\n",
       "# Supporting package: GenomicFeatures\n",
       "# Data source: UCSC\n",
       "# Genome: hg38\n",
       "# Organism: Homo sapiens\n",
       "# Taxonomy ID: 9606\n",
       "# UCSC Table: knownGene\n",
       "# UCSC Track: GENCODE V36\n",
       "# Resource URL: http://genome.ucsc.edu/\n",
       "# Type of Gene ID: Entrez Gene ID\n",
       "# Full dataset: yes\n",
       "# miRBase build ID: NA\n",
       "# Nb of transcripts: 232184\n",
       "# Db created by: GenomicFeatures package from Bioconductor\n",
       "# Creation time: 2021-04-28 16:32:07 +0000 (Wed, 28 Apr 2021)\n",
       "# GenomicFeatures version at creation time: 1.41.3\n",
       "# RSQLite version at creation time: 2.2.6\n",
       "# DBSCHEMAVERSION: 1.2"
      ]
     },
     "metadata": {},
     "output_type": "display_data"
    },
    {
     "name": "stderr",
     "output_type": "stream",
     "text": [
      "  30 genes were dropped because they have exons located on both strands\n",
      "  of the same reference sequence or on more than one reference sequence,\n",
      "  so cannot be represented by a single genomic range.\n",
      "  Use 'single.strand.genes.only=FALSE' to get all the genes in a\n",
      "  GRangesList object, or use suppressMessages() to suppress this message.\n",
      "\n"
     ]
    },
    {
     "data": {
      "text/plain": [
       "GRanges object with 1071 ranges and 1 metadata column:\n",
       "            seqnames              ranges strand |     gene_id\n",
       "               <Rle>           <IRanges>  <Rle> | <character>\n",
       "      10009     chrX 120250752-120258398      + |       10009\n",
       "  100093698     chrX   13310652-13319933      + |   100093698\n",
       "  100124540     chrX   47388649-47388777      + |   100124540\n",
       "  100126270     chrX 147909431-147911817      - |   100126270\n",
       "  100126301     chrX 147258760-147258850      - |   100126301\n",
       "        ...      ...                 ...    ... .         ...\n",
       "       9823     chrX 101655281-101659850      - |        9823\n",
       "       9843     chrX   66162549-66268867      + |        9843\n",
       "       9947     chrX 141903894-141909374      + |        9947\n",
       "       9949     chrX 110194186-110440233      - |        9949\n",
       "       9968     chrX   71118556-71142454      + |        9968\n",
       "  -------\n",
       "  seqinfo: 595 sequences (1 circular) from hg38 genome"
      ]
     },
     "metadata": {},
     "output_type": "display_data"
    }
   ],
   "source": [
    "# Load human reference genome hg38\n",
    "library(TxDb.Hsapiens.UCSC.hg38.knownGene)\n",
    "\n",
    "# Assign hg38 to hg, then print it\n",
    "hg <- TxDb.Hsapiens.UCSC.hg38.knownGene\n",
    "hg\n",
    "\n",
    "# Extract all the genes in chromosome X as hg_chrXg, then print it\n",
    "hg_chrXg <- genes(hg, filter = list(tx_chrom = c(\"chrX\")))\n",
    "hg_chrXg"
   ]
  },
  {
   "cell_type": "code",
   "execution_count": 4,
   "metadata": {},
   "outputs": [
    {
     "data": {
      "text/plain": [
       "GRanges object with 578 ranges and 1 metadata column:\n",
       "            seqnames              ranges strand |     gene_id\n",
       "               <Rle>           <IRanges>  <Rle> | <character>\n",
       "      55344     chrX       276322-303356      + |       55344\n",
       "       6473     chrX       624344-659411      + |        6473\n",
       "       1438     chrX     1268800-1310381      + |        1438\n",
       "  100500894     chrX     1293918-1293992      + |   100500894\n",
       "       3563     chrX     1336616-1382689      + |        3563\n",
       "        ...      ...                 ...    ... .         ...\n",
       "  100302111     chrX 155457517-155457615      + |   100302111\n",
       "  100507404     chrX 155466540-155611616      + |   100507404\n",
       "      10251     chrX 155612572-155782459      + |       10251\n",
       "       6845     chrX 155881345-155943769      + |        6845\n",
       "       3581     chrX 155997581-156022236      + |        3581\n",
       "  -------\n",
       "  seqinfo: 595 sequences (1 circular) from hg38 genome"
      ]
     },
     "metadata": {},
     "output_type": "display_data"
    }
   ],
   "source": [
    "# Extract all positive stranded genes in chromosome X, assign to hg_chrXgp, then sort it\n",
    "hg_chrXgp <- genes(hg, filter = list(tx_chrom = \"chrX\", tx_strand = \"+\"))\n",
    "sort(hg_chrXgp)"
   ]
  },
  {
   "cell_type": "markdown",
   "metadata": {},
   "source": [
    "### A sequence window\n",
    "\n",
    "To temporarily partition sections of your sequences, you will use the concept of windows of given widths that can move in steps. As you have seen in the video, GRanges provides the `slidingWindows()` function, with arguments such as `width` and `step`.\n",
    "```\n",
    "slidingWindows(x, width, step = 1L)\n",
    "```\n",
    "\n",
    "The GRanges object called ABCD1, with gene id 215 and length 19895, has been pre-loaded for this exercise. Use the `ranges()` function to see its structure.\n",
    "```\n",
    "ranges(ABCD1)\n",
    "```\n",
    "\n",
    "`GRangesLists` also come with useful accessor functions; almost all the accessors from IRanges and GRanges are reused, but they instead result in a list. You can find accessors using the function `methods(class = \"GRangesList\")`."
   ]
  },
  {
   "cell_type": "code",
   "execution_count": 5,
   "metadata": {},
   "outputs": [
    {
     "data": {
      "text/plain": [
       "  [1] !                                     \n",
       "  [2] !=                                    \n",
       "  [3] $                                     \n",
       "  [4] $<-                                   \n",
       "  [5] %in%                                  \n",
       "  [6] [                                     \n",
       "  [7] [[                                    \n",
       "  [8] [[<-                                  \n",
       "  [9] [<-                                   \n",
       " [10] <                                     \n",
       " [11] <=                                    \n",
       " [12] ==                                    \n",
       " [13] >                                     \n",
       " [14] >=                                    \n",
       " [15] aggregate                             \n",
       " [16] anyDuplicated                         \n",
       " [17] anyNA                                 \n",
       " [18] append                                \n",
       " [19] as.character                          \n",
       " [20] as.complex                            \n",
       " [21] as.data.frame                         \n",
       " [22] as.env                                \n",
       " [23] as.integer                            \n",
       " [24] as.list                               \n",
       " [25] as.logical                            \n",
       " [26] as.matrix                             \n",
       " [27] as.numeric                            \n",
       " [28] as.raw                                \n",
       " [29] asBED                                 \n",
       " [30] asGFF                                 \n",
       " [31] bindROWS                              \n",
       " [32] by                                    \n",
       " [33] c                                     \n",
       " [34] cbind                                 \n",
       " [35] coerce                                \n",
       " [36] countOverlaps                         \n",
       " [37] coverage                              \n",
       " [38] disjoin                               \n",
       " [39] do.call                               \n",
       " [40] droplevels                            \n",
       " [41] duplicated                            \n",
       " [42] elementMetadata                       \n",
       " [43] elementMetadata<-                     \n",
       " [44] elementNROWS                          \n",
       " [45] elementType                           \n",
       " [46] end                                   \n",
       " [47] eval                                  \n",
       " [48] expand                                \n",
       " [49] expand.grid                           \n",
       " [50] extractROWS                           \n",
       " [51] extractUpstreamSeqs                   \n",
       " [52] FactorToClass                         \n",
       " [53] Filter                                \n",
       " [54] findOverlaps                          \n",
       " [55] flank                                 \n",
       " [56] getListElement                        \n",
       " [57] getPromoterSeq                        \n",
       " [58] head                                  \n",
       " [59] ifelse2                               \n",
       " [60] intersect                             \n",
       " [61] is.na                                 \n",
       " [62] is.unsorted                           \n",
       " [63] isDisjoint                            \n",
       " [64] isEmpty                               \n",
       " [65] lapply                                \n",
       " [66] length                                \n",
       " [67] lengths                               \n",
       " [68] mapFromTranscripts                    \n",
       " [69] mapToTranscripts                      \n",
       " [70] match                                 \n",
       " [71] mcols                                 \n",
       " [72] mcols<-                               \n",
       " [73] merge                                 \n",
       " [74] mergeROWS                             \n",
       " [75] metadata                              \n",
       " [76] metadata<-                            \n",
       " [77] mstack                                \n",
       " [78] names                                 \n",
       " [79] names<-                               \n",
       " [80] normalizeSingleBracketReplacementValue\n",
       " [81] Ops                                   \n",
       " [82] order                                 \n",
       " [83] overlapsAny                           \n",
       " [84] parallel_slot_names                   \n",
       " [85] parallelVectorNames                   \n",
       " [86] pcompare                              \n",
       " [87] pcompareRecursively                   \n",
       " [88] pintersect                            \n",
       " [89] pmapFromTranscripts                   \n",
       " [90] pmapToTranscripts                     \n",
       " [91] promoters                             \n",
       " [92] psetdiff                              \n",
       " [93] punion                                \n",
       " [94] range                                 \n",
       " [95] rank                                  \n",
       " [96] rbind                                 \n",
       " [97] reduce                                \n",
       " [98] Reduce                                \n",
       " [99] relist                                \n",
       "[100] rename                                \n",
       "[101] rep                                   \n",
       "[102] rep.int                               \n",
       "[103] replaceROWS                           \n",
       "[104] resize                                \n",
       "[105] restrict                              \n",
       "[106] rev                                   \n",
       "[107] revElements                           \n",
       "[108] sapply                                \n",
       "[109] score                                 \n",
       "[110] score<-                               \n",
       "[111] selfmatch                             \n",
       "[112] seqinfo                               \n",
       "[113] seqinfo<-                             \n",
       "[114] seqlevelsInUse                        \n",
       "[115] seqnames                              \n",
       "[116] setdiff                               \n",
       "[117] setequal                              \n",
       "[118] setListElement                        \n",
       "[119] shift                                 \n",
       "[120] shiftApply                            \n",
       "[121] show                                  \n",
       "[122] showAsCell                            \n",
       "[123] sort                                  \n",
       "[124] split                                 \n",
       "[125] split<-                               \n",
       "[126] stack                                 \n",
       "[127] start                                 \n",
       "[128] strand                                \n",
       "[129] subset                                \n",
       "[130] subsetByOverlaps                      \n",
       "[131] summary                               \n",
       "[132] table                                 \n",
       "[133] tail                                  \n",
       "[134] tapply                                \n",
       "[135] transform                             \n",
       "[136] trim                                  \n",
       "[137] union                                 \n",
       "[138] unique                                \n",
       "[139] unlist                                \n",
       "[140] unsplit                               \n",
       "[141] updateObject                          \n",
       "[142] values                                \n",
       "[143] values<-                              \n",
       "[144] width                                 \n",
       "[145] window                                \n",
       "[146] window<-                              \n",
       "[147] windows                               \n",
       "[148] with                                  \n",
       "[149] within                                \n",
       "[150] xtabs                                 \n",
       "[151] xtfrm                                 \n",
       "[152] zipdown                               \n",
       "see '?methods' for accessing help and source code"
      ]
     },
     "metadata": {},
     "output_type": "display_data"
    }
   ],
   "source": [
    "methods(class = \"GRangesList\")"
   ]
  },
  {
   "cell_type": "markdown",
   "metadata": {},
   "source": [
    "### How many transcripts?\n",
    "Remember in the video how we discovered the length of the exons in one of the transcripts of our gene of interest? It is your turn to find out how many transcripts the gene ABCD1 has. You can find out by using:\n",
    "```\n",
    "transcriptsBy(x, by = \"gene\")\n",
    "```"
   ]
  },
  {
   "cell_type": "code",
   "execution_count": 7,
   "metadata": {},
   "outputs": [
    {
     "data": {
      "text/plain": [
       "GRangesList object of length 1075:\n",
       "$`10009`\n",
       "GRanges object with 2 ranges and 2 metadata columns:\n",
       "      seqnames              ranges strand |     tx_id           tx_name\n",
       "         <Rle>           <IRanges>  <Rle> | <integer>       <character>\n",
       "  [1]     chrX 120250752-120258398      + |    226612 ENST00000326624.2\n",
       "  [2]     chrX 120250812-120258398      + |    226613 ENST00000557385.2\n",
       "  -------\n",
       "  seqinfo: 1 sequence from hg38 genome\n",
       "\n",
       "$`100093698`\n",
       "GRanges object with 1 range and 2 metadata columns:\n",
       "      seqnames            ranges strand |     tx_id           tx_name\n",
       "         <Rle>         <IRanges>  <Rle> | <integer>       <character>\n",
       "  [1]     chrX 13310652-13319933      + |    224200 ENST00000431486.1\n",
       "  -------\n",
       "  seqinfo: 1 sequence from hg38 genome\n",
       "\n",
       "$`100124540`\n",
       "GRanges object with 1 range and 2 metadata columns:\n",
       "      seqnames            ranges strand |     tx_id           tx_name\n",
       "         <Rle>         <IRanges>  <Rle> | <integer>       <character>\n",
       "  [1]     chrX 47388649-47388777      + |    224935 ENST00000408532.1\n",
       "  -------\n",
       "  seqinfo: 1 sequence from hg38 genome\n",
       "\n",
       "...\n",
       "<1072 more elements>"
      ]
     },
     "metadata": {},
     "output_type": "display_data"
    }
   ],
   "source": [
    "# Load the human transcripts DB to hg\n",
    "library(TxDb.Hsapiens.UCSC.hg38.knownGene)\n",
    "hg <- TxDb.Hsapiens.UCSC.hg38.knownGene\n",
    "\n",
    "# Prefilter chromosome X \"chrX\" using seqlevels()\n",
    "seqlevels(hg) <- c(\"chrX\")\n",
    "\n",
    "# Get all transcripts by gene and print it\n",
    "hg_chrXt <- transcriptsBy(hg, by = \"gene\")\n",
    "hg_chrXt\n"
   ]
  },
  {
   "cell_type": "code",
   "execution_count": 8,
   "metadata": {},
   "outputs": [
    {
     "data": {
      "text/plain": [
       "GRanges object with 3 ranges and 2 metadata columns:\n",
       "      seqnames              ranges strand |     tx_id           tx_name\n",
       "         <Rle>           <IRanges>  <Rle> | <integer>       <character>\n",
       "  [1]     chrX 153724856-153744755      + |    227331 ENST00000218104.6\n",
       "  [2]     chrX 153725817-153729897      + |    227332 ENST00000370129.4\n",
       "  [3]     chrX 153735344-153740604      + |    227333 ENST00000443684.2\n",
       "  -------\n",
       "  seqinfo: 1 sequence from hg38 genome"
      ]
     },
     "metadata": {},
     "output_type": "display_data"
    }
   ],
   "source": [
    "# Select gene `215` from the hg_chrXt\n",
    "hg_chrXt$`215`"
   ]
  },
  {
   "cell_type": "code",
   "execution_count": 9,
   "metadata": {},
   "outputs": [
    {
     "data": {
      "text/plain": [
       "GRanges object with 1 range and 2 metadata columns:\n",
       "      seqnames              ranges strand |     tx_id           tx_name\n",
       "         <Rle>           <IRanges>  <Rle> | <integer>       <character>\n",
       "  [1]     chrX 153724856-153744755      + |    227331 ENST00000218104.6\n",
       "  -------\n",
       "  seqinfo: 1 sequence from hg38 genome"
      ]
     },
     "metadata": {},
     "output_type": "display_data"
    }
   ],
   "source": [
    "# ABCD1 gene\n",
    "ABCD1 <- hg_chrXt$`215`[1]\n",
    "ABCD1 "
   ]
  },
  {
   "cell_type": "code",
   "execution_count": 10,
   "metadata": {},
   "outputs": [
    {
     "data": {
      "text/plain": [
       "IRanges object with 1 range and 0 metadata columns:\n",
       "          start       end     width\n",
       "      <integer> <integer> <integer>\n",
       "  [1] 153724856 153744755     19900"
      ]
     },
     "metadata": {},
     "output_type": "display_data"
    }
   ],
   "source": [
    "# ABCD1 gene ranges\n",
    "ranges(ABCD1)"
   ]
  },
  {
   "cell_type": "markdown",
   "metadata": {},
   "source": [
    "It is your turn to explore chromosome X genes, hg_chrX, and find the gene of interest, ABCD1. You will do this by using the function `overlapsAny()` between the target ABCD1 and the subject hg_chrX."
   ]
  },
  {
   "cell_type": "code",
   "execution_count": 11,
   "metadata": {},
   "outputs": [
    {
     "data": {
      "text/html": [
       "TRUE"
      ],
      "text/latex": [
       "TRUE"
      ],
      "text/markdown": [
       "TRUE"
      ],
      "text/plain": [
       "[1] TRUE"
      ]
     },
     "metadata": {},
     "output_type": "display_data"
    }
   ],
   "source": [
    "overlapsAny(ABCD1,hg_chrXt)"
   ]
  },
  {
   "cell_type": "code",
   "execution_count": 13,
   "metadata": {},
   "outputs": [
    {
     "data": {
      "text/html": [
       "'215'"
      ],
      "text/latex": [
       "'215'"
      ],
      "text/markdown": [
       "'215'"
      ],
      "text/plain": [
       "[1] \"215\""
      ]
     },
     "metadata": {},
     "output_type": "display_data"
    },
    {
     "name": "stdout",
     "output_type": "stream",
     "text": [
      "GRanges object with 1 range and 2 metadata columns:\n",
      "      seqnames              ranges strand |     tx_id           tx_name\n",
      "         <Rle>           <IRanges>  <Rle> | <integer>       <character>\n",
      "  [1]     chrX 153724856-153744755      + |    227331 ENST00000218104.6\n",
      "  -------\n",
      "  seqinfo: 1 sequence from hg38 genome\n",
      "GRangesList object of length 1:\n",
      "$`215`\n",
      "GRanges object with 3 ranges and 2 metadata columns:\n",
      "      seqnames              ranges strand |     tx_id           tx_name\n",
      "         <Rle>           <IRanges>  <Rle> | <integer>       <character>\n",
      "  [1]     chrX 153724856-153744755      + |    227331 ENST00000218104.6\n",
      "  [2]     chrX 153725817-153729897      + |    227332 ENST00000370129.4\n",
      "  [3]     chrX 153735344-153740604      + |    227333 ENST00000443684.2\n",
      "  -------\n",
      "  seqinfo: 1 sequence from hg38 genome\n",
      "\n"
     ]
    }
   ],
   "source": [
    "# Store the overlapping range in rangefound\n",
    "rangefound <- subsetByOverlaps(hg_chrXt, ABCD1)\n",
    "\n",
    "# Print names of rangefound\n",
    "names(rangefound)\n",
    "\n",
    "# Print the gene of interest \n",
    "print(ABCD1)\n",
    "\n",
    "# Print rangefound\n",
    "print(rangefound)"
   ]
  },
  {
   "cell_type": "markdown",
   "metadata": {},
   "source": [
    "### From GRangesList object into a GRanges object\n",
    "The `unlist()` operation is fast and serves to partition a GRangesList.\n",
    "\n",
    "You can unlist the hg_ChrX and then check how the lengths differ between the GRangesList and the GRanges objects."
   ]
  },
  {
   "cell_type": "code",
   "execution_count": 17,
   "metadata": {},
   "outputs": [
    {
     "data": {
      "text/plain": [
       "GRangesList object of length 1075:\n",
       "$`10009`\n",
       "GRanges object with 2 ranges and 2 metadata columns:\n",
       "      seqnames              ranges strand |     tx_id           tx_name\n",
       "         <Rle>           <IRanges>  <Rle> | <integer>       <character>\n",
       "  [1]     chrX 120250752-120258398      + |    226612 ENST00000326624.2\n",
       "  [2]     chrX 120250812-120258398      + |    226613 ENST00000557385.2\n",
       "  -------\n",
       "  seqinfo: 1 sequence from hg38 genome\n",
       "\n",
       "$`100093698`\n",
       "GRanges object with 1 range and 2 metadata columns:\n",
       "      seqnames            ranges strand |     tx_id           tx_name\n",
       "         <Rle>         <IRanges>  <Rle> | <integer>       <character>\n",
       "  [1]     chrX 13310652-13319933      + |    224200 ENST00000431486.1\n",
       "  -------\n",
       "  seqinfo: 1 sequence from hg38 genome\n",
       "\n",
       "$`100124540`\n",
       "GRanges object with 1 range and 2 metadata columns:\n",
       "      seqnames            ranges strand |     tx_id           tx_name\n",
       "         <Rle>         <IRanges>  <Rle> | <integer>       <character>\n",
       "  [1]     chrX 47388649-47388777      + |    224935 ENST00000408532.1\n",
       "  -------\n",
       "  seqinfo: 1 sequence from hg38 genome\n",
       "\n",
       "...\n",
       "<1072 more elements>"
      ]
     },
     "metadata": {},
     "output_type": "display_data"
    }
   ],
   "source": [
    "# Unlist hg_ChrX and save result as myGR\n",
    "myGR <- unlist(hg_chrXt)\n",
    "\n",
    "# Compare classes of hg_ChrX and myGR\n",
    "hg_chrXt\n"
   ]
  },
  {
   "cell_type": "code",
   "execution_count": 18,
   "metadata": {},
   "outputs": [
    {
     "data": {
      "text/plain": [
       "GRanges object with 5497 ranges and 2 metadata columns:\n",
       "            seqnames              ranges strand |     tx_id           tx_name\n",
       "               <Rle>           <IRanges>  <Rle> | <integer>       <character>\n",
       "      10009     chrX 120250752-120258398      + |    226612 ENST00000326624.2\n",
       "      10009     chrX 120250812-120258398      + |    226613 ENST00000557385.2\n",
       "  100093698     chrX   13310652-13319933      + |    224200 ENST00000431486.1\n",
       "  100124540     chrX   47388649-47388777      + |    224935 ENST00000408532.1\n",
       "  100124541     chrX   52190621-52190748      + |    225251 ENST00000408548.1\n",
       "        ...      ...                 ...    ... .       ...               ...\n",
       "       9968     chrX   71126261-71127386      + |    225572 ENST00000471663.5\n",
       "       9968     chrX   71126374-71127691      + |    225573 ENST00000462984.1\n",
       "       9968     chrX   71128315-71128820      + |    225574 ENST00000489199.1\n",
       "       9968     chrX   71129183-71129862      + |    225575 ENST00000460771.1\n",
       "       9968     chrX   71136594-71140755      + |    225576 ENST00000444034.1\n",
       "  -------\n",
       "  seqinfo: 1 sequence from hg38 genome"
      ]
     },
     "metadata": {},
     "output_type": "display_data"
    }
   ],
   "source": [
    "myGR"
   ]
  },
  {
   "cell_type": "markdown",
   "metadata": {},
   "source": [
    "### From GRangesList object into a GRanges object\n",
    "The `unlist()` operation is fast and serves to partition a GRangesList.\n",
    "\n",
    "You can unlist the hg_ChrX and then check how the lengths differ between the GRangesList and the GRanges objects."
   ]
  },
  {
   "cell_type": "code",
   "execution_count": 19,
   "metadata": {},
   "outputs": [
    {
     "data": {
      "text/html": [
       "'CompressedGRangesList'"
      ],
      "text/latex": [
       "'CompressedGRangesList'"
      ],
      "text/markdown": [
       "'CompressedGRangesList'"
      ],
      "text/plain": [
       "[1] \"CompressedGRangesList\"\n",
       "attr(,\"package\")\n",
       "[1] \"GenomicRanges\""
      ]
     },
     "metadata": {},
     "output_type": "display_data"
    },
    {
     "data": {
      "text/html": [
       "'GRanges'"
      ],
      "text/latex": [
       "'GRanges'"
      ],
      "text/markdown": [
       "'GRanges'"
      ],
      "text/plain": [
       "[1] \"GRanges\"\n",
       "attr(,\"package\")\n",
       "[1] \"GenomicRanges\""
      ]
     },
     "metadata": {},
     "output_type": "display_data"
    },
    {
     "data": {
      "text/html": [
       "1075"
      ],
      "text/latex": [
       "1075"
      ],
      "text/markdown": [
       "1075"
      ],
      "text/plain": [
       "[1] 1075"
      ]
     },
     "metadata": {},
     "output_type": "display_data"
    },
    {
     "data": {
      "text/html": [
       "5497"
      ],
      "text/latex": [
       "5497"
      ],
      "text/markdown": [
       "5497"
      ],
      "text/plain": [
       "[1] 5497"
      ]
     },
     "metadata": {},
     "output_type": "display_data"
    }
   ],
   "source": [
    "# Unlist hg_ChrX and save result as myGR\n",
    "myGR <- unlist(hg_chrXt)\n",
    "\n",
    "# Compare classes of hg_ChrX and myGR\n",
    "class(hg_chrXt)\n",
    "class(myGR)\n",
    "\n",
    "# Compare length of hg_ChrX and myGR\n",
    "length(hg_chrXt)\n",
    "length(myGR)"
   ]
  },
  {
   "cell_type": "code",
   "execution_count": null,
   "metadata": {},
   "outputs": [],
   "source": []
  }
 ],
 "metadata": {
  "kernelspec": {
   "display_name": "R",
   "language": "R",
   "name": "python3102jvsc74a57bd055db829a23e27f1a4129460ab65de434bf1fc9efa4ae0ce0afb72d96498ad818"
  },
  "language_info": {
   "codemirror_mode": "r",
   "file_extension": ".r",
   "mimetype": "text/x-r-source",
   "name": "R",
   "pygments_lexer": "r",
   "version": "4.1.2"
  },
  "orig_nbformat": 4
 },
 "nbformat": 4,
 "nbformat_minor": 2
}
