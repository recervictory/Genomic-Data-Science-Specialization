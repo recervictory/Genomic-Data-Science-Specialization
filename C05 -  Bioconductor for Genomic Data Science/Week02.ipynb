{
 "cells": [
  {
   "cell_type": "markdown",
   "metadata": {},
   "source": [
    "# Week 02 : Working with BioStrings"
   ]
  },
  {
   "cell_type": "markdown",
   "metadata": {},
   "source": [
    "## [Biostrings](https://bioconductor.org/packages/release/bioc/html/Biostrings.html)\n",
    "The Biostrings package contains classes and functions for representing biological strings such as DNA, RNA and amino acids. In addition the package has functionality for pattern matching (short read alignment) as well as a pairwise alignment function implementing Smith-Waterman local alignments and Needleman-Wunsch global alignments used in classic sequence alignment (see (Durbin et al. 1998) for a description of these algorithms). There are also functions for reading and writing output such as FASTA files."
   ]
  },
  {
   "cell_type": "markdown",
   "metadata": {},
   "source": [
    "### Dependencies"
   ]
  },
  {
   "cell_type": "code",
   "execution_count": 2,
   "metadata": {},
   "outputs": [],
   "source": [
    "if (!require(\"BiocManager\", quietly = TRUE))\n",
    "    install.packages(\"BiocManager\")\n",
    "\n",
    "BiocManager::install(\"Biostrings\")\n",
    "\n"
   ]
  },
  {
   "cell_type": "code",
   "execution_count": 3,
   "metadata": {},
   "outputs": [],
   "source": [
    "library(Biostrings)"
   ]
  },
  {
   "cell_type": "markdown",
   "metadata": {},
   "source": [
    "### Representing sequences\n",
    "There are two basic types of containers for representing strings. One container represents a single string (say a chromosome or a single short read) and the other container represents a set of strings (say a set of short reads). There are different classes intended to represent different types of sequences such as DNA or RNA sequences."
   ]
  },
  {
   "cell_type": "code",
   "execution_count": 4,
   "metadata": {},
   "outputs": [
    {
     "data": {
      "text/plain": [
       "6-letter DNAString object\n",
       "seq: \u001b[47m\u001b[30mA\u001b[39m\u001b[49m\u001b[47m\u001b[30mC\u001b[39m\u001b[49m\u001b[47m\u001b[30mG\u001b[39m\u001b[49m\u001b[47m\u001b[30mT\u001b[39m\u001b[49m-\u001b[47m\u001b[37mN\u001b[39m\u001b[49m"
      ]
     },
     "metadata": {},
     "output_type": "display_data"
    }
   ],
   "source": [
    "dna1 <- DNAString(\"ACGT-N\")\n",
    "dna1"
   ]
  },
  {
   "cell_type": "code",
   "execution_count": 5,
   "metadata": {},
   "outputs": [
    {
     "ename": "ERROR",
     "evalue": "Error in .Call2(\"new_XString_from_CHARACTER\", class(x0), string, start, : key 69 (char 'E') not in lookup table\n",
     "output_type": "error",
     "traceback": [
      "Error in .Call2(\"new_XString_from_CHARACTER\", class(x0), string, start, : key 69 (char 'E') not in lookup table\nTraceback:\n",
      "1. DNAStringSet(\"ADE\")",
      "2. XStringSet(\"DNA\", x, start = start, end = end, width = width, \n .     use.names = use.names)",
      "3. XStringSet(\"DNA\", x, start = start, end = end, width = width, \n .     use.names = use.names)",
      "4. .charToXStringSet(seqtype, x, start, end, width, use.names)",
      "5. .oneSeqToXStringSet(seqtype, strings, start, end, width, use.names)",
      "6. XString(seqtype, x)",
      "7. XString(seqtype, x)",
      "8. .charToXString(seqtype, x, start, end, width)",
      "9. make_XString_from_string(x0, string, start(solved_SEW), width(solved_SEW))",
      "10. make_XString_from_string(x0, string, start(solved_SEW), width(solved_SEW))",
      "11. .Call2(\"new_XString_from_CHARACTER\", class(x0), string, start, \n  .     width, lkup, PACKAGE = \"Biostrings\")"
     ]
    }
   ],
   "source": [
    "DNAStringSet(\"ADE\")"
   ]
  },
  {
   "cell_type": "code",
   "execution_count": 6,
   "metadata": {},
   "outputs": [
    {
     "data": {
      "text/plain": [
       "DNAStringSet object of length 3:\n",
       "    width seq\n",
       "[1]     4 \u001b[47m\u001b[30mA\u001b[39m\u001b[49m\u001b[47m\u001b[30mC\u001b[39m\u001b[49m\u001b[47m\u001b[30mG\u001b[39m\u001b[49m\u001b[47m\u001b[30mT\u001b[39m\u001b[49m\n",
       "[2]     4 \u001b[47m\u001b[30mG\u001b[39m\u001b[49m\u001b[47m\u001b[30mT\u001b[39m\u001b[49m\u001b[47m\u001b[30mC\u001b[39m\u001b[49m\u001b[47m\u001b[30mA\u001b[39m\u001b[49m\n",
       "[3]     4 \u001b[47m\u001b[30mG\u001b[39m\u001b[49m\u001b[47m\u001b[30mC\u001b[39m\u001b[49m\u001b[47m\u001b[30mT\u001b[39m\u001b[49m\u001b[47m\u001b[30mA\u001b[39m\u001b[49m"
      ]
     },
     "metadata": {},
     "output_type": "display_data"
    }
   ],
   "source": [
    "dna2 <- DNAStringSet(c(\"ACGT\", \"GTCA\", \"GCTA\"))\n",
    "dna2"
   ]
  },
  {
   "cell_type": "markdown",
   "metadata": {},
   "source": [
    "Note that the alphabet of a DNAString is an extended alphabet: - (for insertion) and N are allowed. In fact, IUPAC codes are allowed (these codes represent different characters, for example the code “M” represents either and “A” or a “C”). A list of IUPAC codes can be obtained by"
   ]
  },
  {
   "cell_type": "code",
   "execution_count": 7,
   "metadata": {},
   "outputs": [
    {
     "data": {
      "text/html": [
       "<style>\n",
       ".dl-inline {width: auto; margin:0; padding: 0}\n",
       ".dl-inline>dt, .dl-inline>dd {float: none; width: auto; display: inline-block}\n",
       ".dl-inline>dt::after {content: \":\\0020\"; padding-right: .5ex}\n",
       ".dl-inline>dt:not(:first-of-type) {padding-left: .5ex}\n",
       "</style><dl class=dl-inline><dt>A</dt><dd>'A'</dd><dt>C</dt><dd>'C'</dd><dt>G</dt><dd>'G'</dd><dt>T</dt><dd>'T'</dd><dt>M</dt><dd>'AC'</dd><dt>R</dt><dd>'AG'</dd><dt>W</dt><dd>'AT'</dd><dt>S</dt><dd>'CG'</dd><dt>Y</dt><dd>'CT'</dd><dt>K</dt><dd>'GT'</dd><dt>V</dt><dd>'ACG'</dd><dt>H</dt><dd>'ACT'</dd><dt>D</dt><dd>'AGT'</dd><dt>B</dt><dd>'CGT'</dd><dt>N</dt><dd>'ACGT'</dd></dl>\n"
      ],
      "text/latex": [
       "\\begin{description*}\n",
       "\\item[A] 'A'\n",
       "\\item[C] 'C'\n",
       "\\item[G] 'G'\n",
       "\\item[T] 'T'\n",
       "\\item[M] 'AC'\n",
       "\\item[R] 'AG'\n",
       "\\item[W] 'AT'\n",
       "\\item[S] 'CG'\n",
       "\\item[Y] 'CT'\n",
       "\\item[K] 'GT'\n",
       "\\item[V] 'ACG'\n",
       "\\item[H] 'ACT'\n",
       "\\item[D] 'AGT'\n",
       "\\item[B] 'CGT'\n",
       "\\item[N] 'ACGT'\n",
       "\\end{description*}\n"
      ],
      "text/markdown": [
       "A\n",
       ":   'A'C\n",
       ":   'C'G\n",
       ":   'G'T\n",
       ":   'T'M\n",
       ":   'AC'R\n",
       ":   'AG'W\n",
       ":   'AT'S\n",
       ":   'CG'Y\n",
       ":   'CT'K\n",
       ":   'GT'V\n",
       ":   'ACG'H\n",
       ":   'ACT'D\n",
       ":   'AGT'B\n",
       ":   'CGT'N\n",
       ":   'ACGT'\n",
       "\n"
      ],
      "text/plain": [
       "     A      C      G      T      M      R      W      S      Y      K      V \n",
       "   \"A\"    \"C\"    \"G\"    \"T\"   \"AC\"   \"AG\"   \"AT\"   \"CG\"   \"CT\"   \"GT\"  \"ACG\" \n",
       "     H      D      B      N \n",
       " \"ACT\"  \"AGT\"  \"CGT\" \"ACGT\" "
      ]
     },
     "metadata": {},
     "output_type": "display_data"
    }
   ],
   "source": [
    "IUPAC_CODE_MAP"
   ]
  },
  {
   "cell_type": "markdown",
   "metadata": {},
   "source": [
    "Indexing into a DNAString retrieves a subsequence (similar to the standard R function substr), whereas indexing into a DNAStringSet gives you a subset of sequences."
   ]
  },
  {
   "cell_type": "code",
   "execution_count": 8,
   "metadata": {},
   "outputs": [
    {
     "data": {
      "text/plain": [
       "3-letter DNAString object\n",
       "seq: \u001b[47m\u001b[30mC\u001b[39m\u001b[49m\u001b[47m\u001b[30mG\u001b[39m\u001b[49m\u001b[47m\u001b[30mT\u001b[39m\u001b[49m"
      ]
     },
     "metadata": {},
     "output_type": "display_data"
    }
   ],
   "source": [
    "dna1[2:4]"
   ]
  },
  {
   "cell_type": "code",
   "execution_count": 9,
   "metadata": {},
   "outputs": [
    {
     "data": {
      "text/plain": [
       "DNAStringSet object of length 2:\n",
       "    width seq\n",
       "[1]     4 \u001b[47m\u001b[30mG\u001b[39m\u001b[49m\u001b[47m\u001b[30mT\u001b[39m\u001b[49m\u001b[47m\u001b[30mC\u001b[39m\u001b[49m\u001b[47m\u001b[30mA\u001b[39m\u001b[49m\n",
       "[2]     4 \u001b[47m\u001b[30mG\u001b[39m\u001b[49m\u001b[47m\u001b[30mC\u001b[39m\u001b[49m\u001b[47m\u001b[30mT\u001b[39m\u001b[49m\u001b[47m\u001b[30mA\u001b[39m\u001b[49m"
      ]
     },
     "metadata": {},
     "output_type": "display_data"
    }
   ],
   "source": [
    "dna2[2:3]"
   ]
  },
  {
   "cell_type": "markdown",
   "metadata": {},
   "source": [
    "Note that `[[` allows you to get a single element of a DNAStringSet as a DNAString. This is very similar to `[` and `[[` for lists."
   ]
  },
  {
   "cell_type": "code",
   "execution_count": 10,
   "metadata": {},
   "outputs": [
    {
     "data": {
      "text/plain": [
       "4-letter DNAString object\n",
       "seq: \u001b[47m\u001b[30mG\u001b[39m\u001b[49m\u001b[47m\u001b[30mT\u001b[39m\u001b[49m\u001b[47m\u001b[30mC\u001b[39m\u001b[49m\u001b[47m\u001b[30mA\u001b[39m\u001b[49m"
      ]
     },
     "metadata": {},
     "output_type": "display_data"
    }
   ],
   "source": [
    "dna2[[2]] "
   ]
  },
  {
   "cell_type": "code",
   "execution_count": 11,
   "metadata": {},
   "outputs": [
    {
     "data": {
      "text/plain": [
       "DNAStringSet object of length 3:\n",
       "    width seq                                               names               \n",
       "[1]     4 \u001b[47m\u001b[30mA\u001b[39m\u001b[49m\u001b[47m\u001b[30mC\u001b[39m\u001b[49m\u001b[47m\u001b[30mG\u001b[39m\u001b[49m\u001b[47m\u001b[30mT\u001b[39m\u001b[49m                                              seq1\n",
       "[2]     4 \u001b[47m\u001b[30mG\u001b[39m\u001b[49m\u001b[47m\u001b[30mT\u001b[39m\u001b[49m\u001b[47m\u001b[30mC\u001b[39m\u001b[49m\u001b[47m\u001b[30mA\u001b[39m\u001b[49m                                              seq2\n",
       "[3]     4 \u001b[47m\u001b[30mG\u001b[39m\u001b[49m\u001b[47m\u001b[30mC\u001b[39m\u001b[49m\u001b[47m\u001b[30mT\u001b[39m\u001b[49m\u001b[47m\u001b[30mA\u001b[39m\u001b[49m                                              seq3"
      ]
     },
     "metadata": {},
     "output_type": "display_data"
    }
   ],
   "source": [
    "# DNAStringSet objects can have names, like ordinary vectors\n",
    "names(dna2) <- paste0(\"seq\", 1:3)\n",
    "dna2"
   ]
  },
  {
   "cell_type": "markdown",
   "metadata": {},
   "source": [
    "**The full set of string classes are**\n",
    "\n",
    "- `DNAString`[Set]: DNA sequences.\n",
    "- `RNAString`[Set]: RNA sequences.\n",
    "- `AAString`[Set]: Amino Acids sequences (protein).\n",
    "- `BString`[Set]: “Big” sequences, using any kind of letter.\n",
    "In addition you will often see references to `XString`[Set] in the documentation. An `XString`[Set] is basically any of the above classes.\n",
    "\n",
    "These classes seem very similar to standard characters() from base R, but there are important differences. The differences are mostly about efficiencies when you deal with either (a) many sequences or (b) very long strings (think whole chromosomes)."
   ]
  },
  {
   "cell_type": "markdown",
   "metadata": {},
   "source": [
    "### Basic functionality\n",
    "\n",
    "Basic character functionality is supported, like\n",
    "\n",
    "- `length`, `names`.\n",
    "- `c` and `rev` (reverse the sequence).\n",
    "- `width`, `nchar` (number of characters in each sequence).\n",
    "- `==`, `duplicated`, `unique`.\n",
    "- `as.charcater` or `toString`: converts to a base character() vector.\n",
    "- `sort`, `order`.\n",
    "- `chartr`: convert some letters into other letters.\n",
    "- `subseq`, subseq<-, extractAt, replaceAt.\n",
    "- `replaceLetterAt`."
   ]
  },
  {
   "cell_type": "code",
   "execution_count": 12,
   "metadata": {},
   "outputs": [
    {
     "data": {
      "text/html": [
       "<style>\n",
       ".list-inline {list-style: none; margin:0; padding: 0}\n",
       ".list-inline>li {display: inline-block}\n",
       ".list-inline>li:not(:last-child)::after {content: \"\\00b7\"; padding: 0 .5ex}\n",
       "</style>\n",
       "<ol class=list-inline><li>4</li><li>4</li><li>4</li></ol>\n"
      ],
      "text/latex": [
       "\\begin{enumerate*}\n",
       "\\item 4\n",
       "\\item 4\n",
       "\\item 4\n",
       "\\end{enumerate*}\n"
      ],
      "text/markdown": [
       "1. 4\n",
       "2. 4\n",
       "3. 4\n",
       "\n",
       "\n"
      ],
      "text/plain": [
       "[1] 4 4 4"
      ]
     },
     "metadata": {},
     "output_type": "display_data"
    }
   ],
   "source": [
    "width(dna2)"
   ]
  },
  {
   "cell_type": "code",
   "execution_count": 13,
   "metadata": {},
   "outputs": [
    {
     "data": {
      "text/plain": [
       "DNAStringSet object of length 3:\n",
       "    width seq                                               names               \n",
       "[1]     4 \u001b[47m\u001b[30mA\u001b[39m\u001b[49m\u001b[47m\u001b[30mC\u001b[39m\u001b[49m\u001b[47m\u001b[30mG\u001b[39m\u001b[49m\u001b[47m\u001b[30mT\u001b[39m\u001b[49m                                              seq1\n",
       "[2]     4 \u001b[47m\u001b[30mG\u001b[39m\u001b[49m\u001b[47m\u001b[30mC\u001b[39m\u001b[49m\u001b[47m\u001b[30mT\u001b[39m\u001b[49m\u001b[47m\u001b[30mA\u001b[39m\u001b[49m                                              seq3\n",
       "[3]     4 \u001b[47m\u001b[30mG\u001b[39m\u001b[49m\u001b[47m\u001b[30mT\u001b[39m\u001b[49m\u001b[47m\u001b[30mC\u001b[39m\u001b[49m\u001b[47m\u001b[30mA\u001b[39m\u001b[49m                                              seq2"
      ]
     },
     "metadata": {},
     "output_type": "display_data"
    }
   ],
   "source": [
    "sort(dna2)"
   ]
  },
  {
   "cell_type": "markdown",
   "metadata": {},
   "source": [
    "**Note that `rev` on a `DNAStringSet` just reverse the order of the elements, whereas rev on a DNAString actually reverse the string.**"
   ]
  },
  {
   "cell_type": "code",
   "execution_count": 15,
   "metadata": {},
   "outputs": [
    {
     "data": {
      "text/plain": [
       "DNAStringSet object of length 3:\n",
       "    width seq                                               names               \n",
       "[1]     4 \u001b[47m\u001b[30mG\u001b[39m\u001b[49m\u001b[47m\u001b[30mC\u001b[39m\u001b[49m\u001b[47m\u001b[30mT\u001b[39m\u001b[49m\u001b[47m\u001b[30mA\u001b[39m\u001b[49m                                              seq3\n",
       "[2]     4 \u001b[47m\u001b[30mG\u001b[39m\u001b[49m\u001b[47m\u001b[30mT\u001b[39m\u001b[49m\u001b[47m\u001b[30mC\u001b[39m\u001b[49m\u001b[47m\u001b[30mA\u001b[39m\u001b[49m                                              seq2\n",
       "[3]     4 \u001b[47m\u001b[30mA\u001b[39m\u001b[49m\u001b[47m\u001b[30mC\u001b[39m\u001b[49m\u001b[47m\u001b[30mG\u001b[39m\u001b[49m\u001b[47m\u001b[30mT\u001b[39m\u001b[49m                                              seq1"
      ]
     },
     "metadata": {},
     "output_type": "display_data"
    }
   ],
   "source": [
    "rev(dna2)"
   ]
  },
  {
   "cell_type": "code",
   "execution_count": 16,
   "metadata": {},
   "outputs": [
    {
     "data": {
      "text/plain": [
       "6-letter DNAString object\n",
       "seq: \u001b[47m\u001b[37mN\u001b[39m\u001b[49m-\u001b[47m\u001b[30mT\u001b[39m\u001b[49m\u001b[47m\u001b[30mG\u001b[39m\u001b[49m\u001b[47m\u001b[30mC\u001b[39m\u001b[49m\u001b[47m\u001b[30mA\u001b[39m\u001b[49m"
      ]
     },
     "metadata": {},
     "output_type": "display_data"
    }
   ],
   "source": [
    "rev(dna1)"
   ]
  },
  {
   "cell_type": "markdown",
   "metadata": {},
   "source": [
    "### Biological functionality\n",
    "\n",
    "There are also functions which are related to the biological interpretation of the sequences, including\n",
    "\n",
    "- `reverse`: reverse the sequence.\n",
    "- `complement`, `reverseComplement`: (reverse) complement the sequence.\n",
    "- `translate`: translate the DNA or RNA sequence into amino acids."
   ]
  },
  {
   "cell_type": "code",
   "execution_count": 17,
   "metadata": {},
   "outputs": [
    {
     "name": "stderr",
     "output_type": "stream",
     "text": [
      "Warning message in .Call2(\"DNAStringSet_translate\", x, skip_code, dna_codes[codon_alphabet], :\n",
      "\"in 'x[[1]]': last base was ignored\"\n",
      "Warning message in .Call2(\"DNAStringSet_translate\", x, skip_code, dna_codes[codon_alphabet], :\n",
      "\"in 'x[[2]]': last base was ignored\"\n",
      "Warning message in .Call2(\"DNAStringSet_translate\", x, skip_code, dna_codes[codon_alphabet], :\n",
      "\"in 'x[[3]]': last base was ignored\"\n"
     ]
    },
    {
     "data": {
      "text/plain": [
       "AAStringSet object of length 3:\n",
       "    width seq                                               names               \n",
       "[1]     1 T                                                 seq1\n",
       "[2]     1 V                                                 seq2\n",
       "[3]     1 A                                                 seq3"
      ]
     },
     "metadata": {},
     "output_type": "display_data"
    }
   ],
   "source": [
    "translate(dna2)"
   ]
  },
  {
   "cell_type": "code",
   "execution_count": 18,
   "metadata": {},
   "outputs": [
    {
     "data": {
      "text/plain": [
       "6-letter DNAString object\n",
       "seq: \u001b[47m\u001b[37mN\u001b[39m\u001b[49m-\u001b[47m\u001b[30mA\u001b[39m\u001b[49m\u001b[47m\u001b[30mC\u001b[39m\u001b[49m\u001b[47m\u001b[30mG\u001b[39m\u001b[49m\u001b[47m\u001b[30mT\u001b[39m\u001b[49m"
      ]
     },
     "metadata": {},
     "output_type": "display_data"
    }
   ],
   "source": [
    "reverseComplement(dna1)"
   ]
  },
  {
   "cell_type": "markdown",
   "metadata": {},
   "source": [
    "### Counting letters"
   ]
  },
  {
   "cell_type": "markdown",
   "metadata": {},
   "source": [
    "We very often want to count sequences in various ways. Examples include:\n",
    "\n",
    "- Compute the GC content of a set of sequences.\n",
    "- Compute the frequencies of dinucleotides in a set of sequences.\n",
    "- Compute a position weight matrix from a set of aligned sequences.\n",
    "\n",
    "There is a rich set of functions for doing this quickly.\n",
    "\n",
    "- alphabetFrequency, letterFrequency: Compute the frequency of all characters (alphabetFrequency) or only specific letters (letterFrequency).\n",
    "- dinucleotideFrequency, trinucleotideFrequency, oligonucleotideFrequeny: compute frequencies of dinucleotides (2 bases), trinucleotides (3 bases) and oligonucleotides (general number of bases).\n",
    "- letterFrequencyInSlidingView: letter frequencies, but in sliding views along the string.\n",
    "- consensusMatrix: consensus matrix; almost a position weight matrix.\n",
    "  \n",
    "Let’s look at some examples, note how the output expands to a matrix when you use the functions on a DNAStringSet:"
   ]
  },
  {
   "cell_type": "code",
   "execution_count": 19,
   "metadata": {},
   "outputs": [
    {
     "data": {
      "text/html": [
       "<style>\n",
       ".dl-inline {width: auto; margin:0; padding: 0}\n",
       ".dl-inline>dt, .dl-inline>dd {float: none; width: auto; display: inline-block}\n",
       ".dl-inline>dt::after {content: \":\\0020\"; padding-right: .5ex}\n",
       ".dl-inline>dt:not(:first-of-type) {padding-left: .5ex}\n",
       "</style><dl class=dl-inline><dt>A</dt><dd>1</dd><dt>C</dt><dd>1</dd><dt>G</dt><dd>1</dd><dt>T</dt><dd>1</dd><dt>M</dt><dd>0</dd><dt>R</dt><dd>0</dd><dt>W</dt><dd>0</dd><dt>S</dt><dd>0</dd><dt>Y</dt><dd>0</dd><dt>K</dt><dd>0</dd><dt>V</dt><dd>0</dd><dt>H</dt><dd>0</dd><dt>D</dt><dd>0</dd><dt>B</dt><dd>0</dd><dt>N</dt><dd>1</dd><dt>-</dt><dd>1</dd><dt>+</dt><dd>0</dd><dt>.</dt><dd>0</dd></dl>\n"
      ],
      "text/latex": [
       "\\begin{description*}\n",
       "\\item[A] 1\n",
       "\\item[C] 1\n",
       "\\item[G] 1\n",
       "\\item[T] 1\n",
       "\\item[M] 0\n",
       "\\item[R] 0\n",
       "\\item[W] 0\n",
       "\\item[S] 0\n",
       "\\item[Y] 0\n",
       "\\item[K] 0\n",
       "\\item[V] 0\n",
       "\\item[H] 0\n",
       "\\item[D] 0\n",
       "\\item[B] 0\n",
       "\\item[N] 1\n",
       "\\item[-] 1\n",
       "\\item[+] 0\n",
       "\\item[.] 0\n",
       "\\end{description*}\n"
      ],
      "text/markdown": [
       "A\n",
       ":   1C\n",
       ":   1G\n",
       ":   1T\n",
       ":   1M\n",
       ":   0R\n",
       ":   0W\n",
       ":   0S\n",
       ":   0Y\n",
       ":   0K\n",
       ":   0V\n",
       ":   0H\n",
       ":   0D\n",
       ":   0B\n",
       ":   0N\n",
       ":   1-\n",
       ":   1+\n",
       ":   0.\n",
       ":   0\n",
       "\n"
      ],
      "text/plain": [
       "A C G T M R W S Y K V H D B N - + . \n",
       "1 1 1 1 0 0 0 0 0 0 0 0 0 0 1 1 0 0 "
      ]
     },
     "metadata": {},
     "output_type": "display_data"
    }
   ],
   "source": [
    "alphabetFrequency(dna1)"
   ]
  },
  {
   "cell_type": "code",
   "execution_count": 20,
   "metadata": {},
   "outputs": [
    {
     "data": {
      "text/html": [
       "<table class=\"dataframe\">\n",
       "<caption>A matrix: 3 × 18 of type int</caption>\n",
       "<thead>\n",
       "\t<tr><th scope=col>A</th><th scope=col>C</th><th scope=col>G</th><th scope=col>T</th><th scope=col>M</th><th scope=col>R</th><th scope=col>W</th><th scope=col>S</th><th scope=col>Y</th><th scope=col>K</th><th scope=col>V</th><th scope=col>H</th><th scope=col>D</th><th scope=col>B</th><th scope=col>N</th><th scope=col>-</th><th scope=col>+</th><th scope=col>.</th></tr>\n",
       "</thead>\n",
       "<tbody>\n",
       "\t<tr><td>1</td><td>1</td><td>1</td><td>1</td><td>0</td><td>0</td><td>0</td><td>0</td><td>0</td><td>0</td><td>0</td><td>0</td><td>0</td><td>0</td><td>0</td><td>0</td><td>0</td><td>0</td></tr>\n",
       "\t<tr><td>1</td><td>1</td><td>1</td><td>1</td><td>0</td><td>0</td><td>0</td><td>0</td><td>0</td><td>0</td><td>0</td><td>0</td><td>0</td><td>0</td><td>0</td><td>0</td><td>0</td><td>0</td></tr>\n",
       "\t<tr><td>1</td><td>1</td><td>1</td><td>1</td><td>0</td><td>0</td><td>0</td><td>0</td><td>0</td><td>0</td><td>0</td><td>0</td><td>0</td><td>0</td><td>0</td><td>0</td><td>0</td><td>0</td></tr>\n",
       "</tbody>\n",
       "</table>\n"
      ],
      "text/latex": [
       "A matrix: 3 × 18 of type int\n",
       "\\begin{tabular}{llllllllllllllllll}\n",
       " A & C & G & T & M & R & W & S & Y & K & V & H & D & B & N & - & + & .\\\\\n",
       "\\hline\n",
       "\t 1 & 1 & 1 & 1 & 0 & 0 & 0 & 0 & 0 & 0 & 0 & 0 & 0 & 0 & 0 & 0 & 0 & 0\\\\\n",
       "\t 1 & 1 & 1 & 1 & 0 & 0 & 0 & 0 & 0 & 0 & 0 & 0 & 0 & 0 & 0 & 0 & 0 & 0\\\\\n",
       "\t 1 & 1 & 1 & 1 & 0 & 0 & 0 & 0 & 0 & 0 & 0 & 0 & 0 & 0 & 0 & 0 & 0 & 0\\\\\n",
       "\\end{tabular}\n"
      ],
      "text/markdown": [
       "\n",
       "A matrix: 3 × 18 of type int\n",
       "\n",
       "| A | C | G | T | M | R | W | S | Y | K | V | H | D | B | N | - | + | . |\n",
       "|---|---|---|---|---|---|---|---|---|---|---|---|---|---|---|---|---|---|\n",
       "| 1 | 1 | 1 | 1 | 0 | 0 | 0 | 0 | 0 | 0 | 0 | 0 | 0 | 0 | 0 | 0 | 0 | 0 |\n",
       "| 1 | 1 | 1 | 1 | 0 | 0 | 0 | 0 | 0 | 0 | 0 | 0 | 0 | 0 | 0 | 0 | 0 | 0 |\n",
       "| 1 | 1 | 1 | 1 | 0 | 0 | 0 | 0 | 0 | 0 | 0 | 0 | 0 | 0 | 0 | 0 | 0 | 0 |\n",
       "\n"
      ],
      "text/plain": [
       "     A C G T M R W S Y K V H D B N - + .\n",
       "[1,] 1 1 1 1 0 0 0 0 0 0 0 0 0 0 0 0 0 0\n",
       "[2,] 1 1 1 1 0 0 0 0 0 0 0 0 0 0 0 0 0 0\n",
       "[3,] 1 1 1 1 0 0 0 0 0 0 0 0 0 0 0 0 0 0"
      ]
     },
     "metadata": {},
     "output_type": "display_data"
    }
   ],
   "source": [
    "alphabetFrequency(dna2)"
   ]
  },
  {
   "cell_type": "code",
   "execution_count": 21,
   "metadata": {},
   "outputs": [
    {
     "data": {
      "text/html": [
       "<table class=\"dataframe\">\n",
       "<caption>A matrix: 3 × 1 of type int</caption>\n",
       "<thead>\n",
       "\t<tr><th scope=col>G|C</th></tr>\n",
       "</thead>\n",
       "<tbody>\n",
       "\t<tr><td>2</td></tr>\n",
       "\t<tr><td>2</td></tr>\n",
       "\t<tr><td>2</td></tr>\n",
       "</tbody>\n",
       "</table>\n"
      ],
      "text/latex": [
       "A matrix: 3 × 1 of type int\n",
       "\\begin{tabular}{l}\n",
       " G\\textbar{}C\\\\\n",
       "\\hline\n",
       "\t 2\\\\\n",
       "\t 2\\\\\n",
       "\t 2\\\\\n",
       "\\end{tabular}\n"
      ],
      "text/markdown": [
       "\n",
       "A matrix: 3 × 1 of type int\n",
       "\n",
       "| G|C |\n",
       "|---|\n",
       "| 2 |\n",
       "| 2 |\n",
       "| 2 |\n",
       "\n"
      ],
      "text/plain": [
       "     G|C\n",
       "[1,] 2  \n",
       "[2,] 2  \n",
       "[3,] 2  "
      ]
     },
     "metadata": {},
     "output_type": "display_data"
    }
   ],
   "source": [
    "letterFrequency(dna2, \"GC\")"
   ]
  },
  {
   "cell_type": "code",
   "execution_count": 22,
   "metadata": {},
   "outputs": [
    {
     "data": {
      "text/html": [
       "<table class=\"dataframe\">\n",
       "<caption>A matrix: 18 × 4 of type dbl</caption>\n",
       "<tbody>\n",
       "\t<tr><th scope=row>A</th><td>0.3333333</td><td>0.0000000</td><td>0.0000000</td><td>0.6666667</td></tr>\n",
       "\t<tr><th scope=row>C</th><td>0.0000000</td><td>0.6666667</td><td>0.3333333</td><td>0.0000000</td></tr>\n",
       "\t<tr><th scope=row>G</th><td>0.6666667</td><td>0.0000000</td><td>0.3333333</td><td>0.0000000</td></tr>\n",
       "\t<tr><th scope=row>T</th><td>0.0000000</td><td>0.3333333</td><td>0.3333333</td><td>0.3333333</td></tr>\n",
       "\t<tr><th scope=row>M</th><td>0.0000000</td><td>0.0000000</td><td>0.0000000</td><td>0.0000000</td></tr>\n",
       "\t<tr><th scope=row>R</th><td>0.0000000</td><td>0.0000000</td><td>0.0000000</td><td>0.0000000</td></tr>\n",
       "\t<tr><th scope=row>W</th><td>0.0000000</td><td>0.0000000</td><td>0.0000000</td><td>0.0000000</td></tr>\n",
       "\t<tr><th scope=row>S</th><td>0.0000000</td><td>0.0000000</td><td>0.0000000</td><td>0.0000000</td></tr>\n",
       "\t<tr><th scope=row>Y</th><td>0.0000000</td><td>0.0000000</td><td>0.0000000</td><td>0.0000000</td></tr>\n",
       "\t<tr><th scope=row>K</th><td>0.0000000</td><td>0.0000000</td><td>0.0000000</td><td>0.0000000</td></tr>\n",
       "\t<tr><th scope=row>V</th><td>0.0000000</td><td>0.0000000</td><td>0.0000000</td><td>0.0000000</td></tr>\n",
       "\t<tr><th scope=row>H</th><td>0.0000000</td><td>0.0000000</td><td>0.0000000</td><td>0.0000000</td></tr>\n",
       "\t<tr><th scope=row>D</th><td>0.0000000</td><td>0.0000000</td><td>0.0000000</td><td>0.0000000</td></tr>\n",
       "\t<tr><th scope=row>B</th><td>0.0000000</td><td>0.0000000</td><td>0.0000000</td><td>0.0000000</td></tr>\n",
       "\t<tr><th scope=row>N</th><td>0.0000000</td><td>0.0000000</td><td>0.0000000</td><td>0.0000000</td></tr>\n",
       "\t<tr><th scope=row>-</th><td>0.0000000</td><td>0.0000000</td><td>0.0000000</td><td>0.0000000</td></tr>\n",
       "\t<tr><th scope=row>+</th><td>0.0000000</td><td>0.0000000</td><td>0.0000000</td><td>0.0000000</td></tr>\n",
       "\t<tr><th scope=row>.</th><td>0.0000000</td><td>0.0000000</td><td>0.0000000</td><td>0.0000000</td></tr>\n",
       "</tbody>\n",
       "</table>\n"
      ],
      "text/latex": [
       "A matrix: 18 × 4 of type dbl\n",
       "\\begin{tabular}{r|llll}\n",
       "\tA & 0.3333333 & 0.0000000 & 0.0000000 & 0.6666667\\\\\n",
       "\tC & 0.0000000 & 0.6666667 & 0.3333333 & 0.0000000\\\\\n",
       "\tG & 0.6666667 & 0.0000000 & 0.3333333 & 0.0000000\\\\\n",
       "\tT & 0.0000000 & 0.3333333 & 0.3333333 & 0.3333333\\\\\n",
       "\tM & 0.0000000 & 0.0000000 & 0.0000000 & 0.0000000\\\\\n",
       "\tR & 0.0000000 & 0.0000000 & 0.0000000 & 0.0000000\\\\\n",
       "\tW & 0.0000000 & 0.0000000 & 0.0000000 & 0.0000000\\\\\n",
       "\tS & 0.0000000 & 0.0000000 & 0.0000000 & 0.0000000\\\\\n",
       "\tY & 0.0000000 & 0.0000000 & 0.0000000 & 0.0000000\\\\\n",
       "\tK & 0.0000000 & 0.0000000 & 0.0000000 & 0.0000000\\\\\n",
       "\tV & 0.0000000 & 0.0000000 & 0.0000000 & 0.0000000\\\\\n",
       "\tH & 0.0000000 & 0.0000000 & 0.0000000 & 0.0000000\\\\\n",
       "\tD & 0.0000000 & 0.0000000 & 0.0000000 & 0.0000000\\\\\n",
       "\tB & 0.0000000 & 0.0000000 & 0.0000000 & 0.0000000\\\\\n",
       "\tN & 0.0000000 & 0.0000000 & 0.0000000 & 0.0000000\\\\\n",
       "\t- & 0.0000000 & 0.0000000 & 0.0000000 & 0.0000000\\\\\n",
       "\t+ & 0.0000000 & 0.0000000 & 0.0000000 & 0.0000000\\\\\n",
       "\t. & 0.0000000 & 0.0000000 & 0.0000000 & 0.0000000\\\\\n",
       "\\end{tabular}\n"
      ],
      "text/markdown": [
       "\n",
       "A matrix: 18 × 4 of type dbl\n",
       "\n",
       "| A | 0.3333333 | 0.0000000 | 0.0000000 | 0.6666667 |\n",
       "| C | 0.0000000 | 0.6666667 | 0.3333333 | 0.0000000 |\n",
       "| G | 0.6666667 | 0.0000000 | 0.3333333 | 0.0000000 |\n",
       "| T | 0.0000000 | 0.3333333 | 0.3333333 | 0.3333333 |\n",
       "| M | 0.0000000 | 0.0000000 | 0.0000000 | 0.0000000 |\n",
       "| R | 0.0000000 | 0.0000000 | 0.0000000 | 0.0000000 |\n",
       "| W | 0.0000000 | 0.0000000 | 0.0000000 | 0.0000000 |\n",
       "| S | 0.0000000 | 0.0000000 | 0.0000000 | 0.0000000 |\n",
       "| Y | 0.0000000 | 0.0000000 | 0.0000000 | 0.0000000 |\n",
       "| K | 0.0000000 | 0.0000000 | 0.0000000 | 0.0000000 |\n",
       "| V | 0.0000000 | 0.0000000 | 0.0000000 | 0.0000000 |\n",
       "| H | 0.0000000 | 0.0000000 | 0.0000000 | 0.0000000 |\n",
       "| D | 0.0000000 | 0.0000000 | 0.0000000 | 0.0000000 |\n",
       "| B | 0.0000000 | 0.0000000 | 0.0000000 | 0.0000000 |\n",
       "| N | 0.0000000 | 0.0000000 | 0.0000000 | 0.0000000 |\n",
       "| - | 0.0000000 | 0.0000000 | 0.0000000 | 0.0000000 |\n",
       "| + | 0.0000000 | 0.0000000 | 0.0000000 | 0.0000000 |\n",
       "| . | 0.0000000 | 0.0000000 | 0.0000000 | 0.0000000 |\n",
       "\n"
      ],
      "text/plain": [
       "  [,1]      [,2]      [,3]      [,4]     \n",
       "A 0.3333333 0.0000000 0.0000000 0.6666667\n",
       "C 0.0000000 0.6666667 0.3333333 0.0000000\n",
       "G 0.6666667 0.0000000 0.3333333 0.0000000\n",
       "T 0.0000000 0.3333333 0.3333333 0.3333333\n",
       "M 0.0000000 0.0000000 0.0000000 0.0000000\n",
       "R 0.0000000 0.0000000 0.0000000 0.0000000\n",
       "W 0.0000000 0.0000000 0.0000000 0.0000000\n",
       "S 0.0000000 0.0000000 0.0000000 0.0000000\n",
       "Y 0.0000000 0.0000000 0.0000000 0.0000000\n",
       "K 0.0000000 0.0000000 0.0000000 0.0000000\n",
       "V 0.0000000 0.0000000 0.0000000 0.0000000\n",
       "H 0.0000000 0.0000000 0.0000000 0.0000000\n",
       "D 0.0000000 0.0000000 0.0000000 0.0000000\n",
       "B 0.0000000 0.0000000 0.0000000 0.0000000\n",
       "N 0.0000000 0.0000000 0.0000000 0.0000000\n",
       "- 0.0000000 0.0000000 0.0000000 0.0000000\n",
       "+ 0.0000000 0.0000000 0.0000000 0.0000000\n",
       ". 0.0000000 0.0000000 0.0000000 0.0000000"
      ]
     },
     "metadata": {},
     "output_type": "display_data"
    }
   ],
   "source": [
    "consensusMatrix(dna2, as.prob = TRUE)"
   ]
  },
  {
   "cell_type": "code",
   "execution_count": 23,
   "metadata": {},
   "outputs": [
    {
     "data": {
      "text/plain": [
       "R version 4.1.2 (2021-11-01)\n",
       "Platform: x86_64-w64-mingw32/x64 (64-bit)\n",
       "Running under: Windows 10 x64 (build 22543)\n",
       "\n",
       "Matrix products: default\n",
       "\n",
       "locale:\n",
       "[1] LC_COLLATE=English_United States.1252 \n",
       "[2] LC_CTYPE=English_United States.1252   \n",
       "[3] LC_MONETARY=English_United States.1252\n",
       "[4] LC_NUMERIC=C                          \n",
       "[5] LC_TIME=English_United States.1252    \n",
       "\n",
       "attached base packages:\n",
       "[1] stats4    parallel  stats     graphics  grDevices utils     datasets \n",
       "[8] methods   base     \n",
       "\n",
       "other attached packages:\n",
       "[1] Biostrings_2.60.2   GenomeInfoDb_1.28.4 XVector_0.32.0     \n",
       "[4] IRanges_2.26.0      S4Vectors_0.30.2    BiocGenerics_0.38.0\n",
       "\n",
       "loaded via a namespace (and not attached):\n",
       " [1] zlibbioc_1.38.0        uuid_0.1-4             rlang_0.4.12          \n",
       " [4] fastmap_1.1.0          fansi_1.0.2            tools_4.1.2           \n",
       " [7] utf8_1.2.2             htmltools_0.5.2        ellipsis_0.3.2        \n",
       "[10] digest_0.6.27          lifecycle_1.0.1        crayon_1.4.2          \n",
       "[13] GenomeInfoDbData_1.2.6 IRdisplay_1.1          repr_1.1.4            \n",
       "[16] bitops_1.0-7           base64enc_0.1-3        vctrs_0.3.8           \n",
       "[19] RCurl_1.98-1.5         IRkernel_1.3           glue_1.4.2            \n",
       "[22] evaluate_0.14          pbdZMQ_0.3-6           compiler_4.1.2        \n",
       "[25] pillar_1.6.5           jsonlite_1.7.2        "
      ]
     },
     "metadata": {},
     "output_type": "display_data"
    }
   ],
   "source": [
    "sessionInfo()"
   ]
  },
  {
   "cell_type": "markdown",
   "metadata": {},
   "source": [
    "## [BSgenome](https://bioconductor.org/packages/release/bioc/html/BSgenome.html)\n",
    "\n",
    "### Dependencies"
   ]
  },
  {
   "cell_type": "code",
   "execution_count": null,
   "metadata": {},
   "outputs": [],
   "source": [
    "if (!require(\"BiocManager\", quietly = TRUE))\n",
    "    install.packages(\"BiocManager\")\n",
    "\n",
    "BiocManager::install(\"BSgenome\")\n",
    "BiocManager::install(\"BSgenome.Scerevisiae.UCSC.sacCer2\")"
   ]
  },
  {
   "cell_type": "code",
   "execution_count": 26,
   "metadata": {},
   "outputs": [
    {
     "name": "stderr",
     "output_type": "stream",
     "text": [
      "'getOption(\"repos\")' replaces Bioconductor standard repositories, see\n",
      "'?repositories' for details\n",
      "\n",
      "replacement repositories:\n",
      "    CRAN: https://cran.r-project.org\n",
      "\n",
      "\n",
      "Bioconductor version 3.13 (BiocManager 1.30.16), R 4.1.2 (2021-11-01)\n",
      "\n",
      "Installing package(s) 'BSgenome.Scerevisiae.UCSC.sacCer2'\n",
      "\n",
      "installing the source package 'BSgenome.Scerevisiae.UCSC.sacCer2'\n",
      "\n",
      "\n",
      "Old packages: 'brew', 'digest', 'doParallel', 'foreach', 'fs', 'generics',\n",
      "  'glue', 'gower', 'iterators', 'jsonlite', 'languageserver', 'magrittr',\n",
      "  'pillar', 'readr', 'rlang', 'stringi', 'terra', 'testthat', 'tidyr', 'uuid',\n",
      "  'xml2', 'pbdZMQ', 'randomForest'\n",
      "\n"
     ]
    }
   ],
   "source": [
    "BiocManager::install(\"BSgenome.Scerevisiae.UCSC.sacCer2\")"
   ]
  },
  {
   "cell_type": "markdown",
   "metadata": {},
   "source": [
    "The BSgenome package provides support for genomes. In Bioconductor, we have special classes for genomes, because the chromosomes can get really big. For example, the human genome takes up several GB of memory.\n",
    "\n",
    "The `available.genomes()` function lists which genomes are currently available from from Bioconductor (it is possible to make your own genome package). Note that there are several so-called “masked” genomes, where some parts of the genome are masked. We will avoid this subject for now.\n",
    "\n",
    "Let us load the latest yeast genome"
   ]
  },
  {
   "cell_type": "code",
   "execution_count": 27,
   "metadata": {},
   "outputs": [],
   "source": [
    "library(BSgenome)\n",
    "library(BSgenome.Scerevisiae.UCSC.sacCer2)"
   ]
  },
  {
   "cell_type": "code",
   "execution_count": 25,
   "metadata": {},
   "outputs": [
    {
     "name": "stderr",
     "output_type": "stream",
     "text": [
      "'getOption(\"repos\")' replaces Bioconductor standard repositories, see\n",
      "'?repositories' for details\n",
      "\n",
      "replacement repositories:\n",
      "    CRAN: https://cran.r-project.org\n",
      "\n",
      "\n"
     ]
    },
    {
     "data": {
      "text/html": [
       "<style>\n",
       ".list-inline {list-style: none; margin:0; padding: 0}\n",
       ".list-inline>li {display: inline-block}\n",
       ".list-inline>li:not(:last-child)::after {content: \"\\00b7\"; padding: 0 .5ex}\n",
       "</style>\n",
       "<ol class=list-inline><li>'BSgenome.Alyrata.JGI.v1'</li><li>'BSgenome.Amellifera.BeeBase.assembly4'</li><li>'BSgenome.Amellifera.NCBI.AmelHAv3.1'</li><li>'BSgenome.Amellifera.UCSC.apiMel2'</li><li>'BSgenome.Amellifera.UCSC.apiMel2.masked'</li><li>'BSgenome.Aofficinalis.NCBI.V1'</li><li>'BSgenome.Athaliana.TAIR.04232008'</li><li>'BSgenome.Athaliana.TAIR.TAIR9'</li><li>'BSgenome.Btaurus.UCSC.bosTau3'</li><li>'BSgenome.Btaurus.UCSC.bosTau3.masked'</li><li>'BSgenome.Btaurus.UCSC.bosTau4'</li><li>'BSgenome.Btaurus.UCSC.bosTau4.masked'</li><li>'BSgenome.Btaurus.UCSC.bosTau6'</li><li>'BSgenome.Btaurus.UCSC.bosTau6.masked'</li><li>'BSgenome.Btaurus.UCSC.bosTau8'</li><li>'BSgenome.Btaurus.UCSC.bosTau9'</li><li>'BSgenome.Carietinum.NCBI.v1'</li><li>'BSgenome.Celegans.UCSC.ce10'</li><li>'BSgenome.Celegans.UCSC.ce11'</li><li>'BSgenome.Celegans.UCSC.ce2'</li><li>'BSgenome.Celegans.UCSC.ce6'</li><li>'BSgenome.Cfamiliaris.UCSC.canFam2'</li><li>'BSgenome.Cfamiliaris.UCSC.canFam2.masked'</li><li>'BSgenome.Cfamiliaris.UCSC.canFam3'</li><li>'BSgenome.Cfamiliaris.UCSC.canFam3.masked'</li><li>'BSgenome.Cjacchus.UCSC.calJac3'</li><li>'BSgenome.Creinhardtii.JGI.v5.6'</li><li>'BSgenome.Dmelanogaster.UCSC.dm2'</li><li>'BSgenome.Dmelanogaster.UCSC.dm2.masked'</li><li>'BSgenome.Dmelanogaster.UCSC.dm3'</li><li>'BSgenome.Dmelanogaster.UCSC.dm3.masked'</li><li>'BSgenome.Dmelanogaster.UCSC.dm6'</li><li>'BSgenome.Drerio.UCSC.danRer10'</li><li>'BSgenome.Drerio.UCSC.danRer11'</li><li>'BSgenome.Drerio.UCSC.danRer5'</li><li>'BSgenome.Drerio.UCSC.danRer5.masked'</li><li>'BSgenome.Drerio.UCSC.danRer6'</li><li>'BSgenome.Drerio.UCSC.danRer6.masked'</li><li>'BSgenome.Drerio.UCSC.danRer7'</li><li>'BSgenome.Drerio.UCSC.danRer7.masked'</li><li>'BSgenome.Dvirilis.Ensembl.dvircaf1'</li><li>'BSgenome.Ecoli.NCBI.20080805'</li><li>'BSgenome.Gaculeatus.UCSC.gasAcu1'</li><li>'BSgenome.Gaculeatus.UCSC.gasAcu1.masked'</li><li>'BSgenome.Ggallus.UCSC.galGal3'</li><li>'BSgenome.Ggallus.UCSC.galGal3.masked'</li><li>'BSgenome.Ggallus.UCSC.galGal4'</li><li>'BSgenome.Ggallus.UCSC.galGal4.masked'</li><li>'BSgenome.Ggallus.UCSC.galGal5'</li><li>'BSgenome.Ggallus.UCSC.galGal6'</li><li>'BSgenome.Hsapiens.1000genomes.hs37d5'</li><li>'BSgenome.Hsapiens.NCBI.GRCh38'</li><li>'BSgenome.Hsapiens.UCSC.hg17'</li><li>'BSgenome.Hsapiens.UCSC.hg17.masked'</li><li>'BSgenome.Hsapiens.UCSC.hg18'</li><li>'BSgenome.Hsapiens.UCSC.hg18.masked'</li><li>'BSgenome.Hsapiens.UCSC.hg19'</li><li>'BSgenome.Hsapiens.UCSC.hg19.masked'</li><li>'BSgenome.Hsapiens.UCSC.hg38'</li><li>'BSgenome.Hsapiens.UCSC.hg38.dbSNP151.major'</li><li>'BSgenome.Hsapiens.UCSC.hg38.dbSNP151.minor'</li><li>'BSgenome.Hsapiens.UCSC.hg38.masked'</li><li>'BSgenome.Mdomestica.UCSC.monDom5'</li><li>'BSgenome.Mfascicularis.NCBI.5.0'</li><li>'BSgenome.Mfuro.UCSC.musFur1'</li><li>'BSgenome.Mmulatta.UCSC.rheMac10'</li><li>'BSgenome.Mmulatta.UCSC.rheMac2'</li><li>'BSgenome.Mmulatta.UCSC.rheMac2.masked'</li><li>'BSgenome.Mmulatta.UCSC.rheMac3'</li><li>'BSgenome.Mmulatta.UCSC.rheMac3.masked'</li><li>'BSgenome.Mmulatta.UCSC.rheMac8'</li><li>'BSgenome.Mmusculus.UCSC.mm10'</li><li>'BSgenome.Mmusculus.UCSC.mm10.masked'</li><li>'BSgenome.Mmusculus.UCSC.mm8'</li><li>'BSgenome.Mmusculus.UCSC.mm8.masked'</li><li>'BSgenome.Mmusculus.UCSC.mm9'</li><li>'BSgenome.Mmusculus.UCSC.mm9.masked'</li><li>'BSgenome.Osativa.MSU.MSU7'</li><li>'BSgenome.Ppaniscus.UCSC.panPan1'</li><li>'BSgenome.Ppaniscus.UCSC.panPan2'</li><li>'BSgenome.Ptroglodytes.UCSC.panTro2'</li><li>'BSgenome.Ptroglodytes.UCSC.panTro2.masked'</li><li>'BSgenome.Ptroglodytes.UCSC.panTro3'</li><li>'BSgenome.Ptroglodytes.UCSC.panTro3.masked'</li><li>'BSgenome.Ptroglodytes.UCSC.panTro5'</li><li>'BSgenome.Ptroglodytes.UCSC.panTro6'</li><li>'BSgenome.Rnorvegicus.UCSC.rn4'</li><li>'BSgenome.Rnorvegicus.UCSC.rn4.masked'</li><li>'BSgenome.Rnorvegicus.UCSC.rn5'</li><li>'BSgenome.Rnorvegicus.UCSC.rn5.masked'</li><li>'BSgenome.Rnorvegicus.UCSC.rn6'</li><li>'BSgenome.Rnorvegicus.UCSC.rn7'</li><li>'BSgenome.Scerevisiae.UCSC.sacCer1'</li><li>'BSgenome.Scerevisiae.UCSC.sacCer2'</li><li>'BSgenome.Scerevisiae.UCSC.sacCer3'</li><li>'BSgenome.Sscrofa.UCSC.susScr11'</li><li>'BSgenome.Sscrofa.UCSC.susScr3'</li><li>'BSgenome.Sscrofa.UCSC.susScr3.masked'</li><li>'BSgenome.Tgondii.ToxoDB.7.0'</li><li>'BSgenome.Tguttata.UCSC.taeGut1'</li><li>'BSgenome.Tguttata.UCSC.taeGut1.masked'</li><li>'BSgenome.Tguttata.UCSC.taeGut2'</li><li>'BSgenome.Vvinifera.URGI.IGGP12Xv0'</li><li>'BSgenome.Vvinifera.URGI.IGGP12Xv2'</li><li>'BSgenome.Vvinifera.URGI.IGGP8X'</li></ol>\n"
      ],
      "text/latex": [
       "\\begin{enumerate*}\n",
       "\\item 'BSgenome.Alyrata.JGI.v1'\n",
       "\\item 'BSgenome.Amellifera.BeeBase.assembly4'\n",
       "\\item 'BSgenome.Amellifera.NCBI.AmelHAv3.1'\n",
       "\\item 'BSgenome.Amellifera.UCSC.apiMel2'\n",
       "\\item 'BSgenome.Amellifera.UCSC.apiMel2.masked'\n",
       "\\item 'BSgenome.Aofficinalis.NCBI.V1'\n",
       "\\item 'BSgenome.Athaliana.TAIR.04232008'\n",
       "\\item 'BSgenome.Athaliana.TAIR.TAIR9'\n",
       "\\item 'BSgenome.Btaurus.UCSC.bosTau3'\n",
       "\\item 'BSgenome.Btaurus.UCSC.bosTau3.masked'\n",
       "\\item 'BSgenome.Btaurus.UCSC.bosTau4'\n",
       "\\item 'BSgenome.Btaurus.UCSC.bosTau4.masked'\n",
       "\\item 'BSgenome.Btaurus.UCSC.bosTau6'\n",
       "\\item 'BSgenome.Btaurus.UCSC.bosTau6.masked'\n",
       "\\item 'BSgenome.Btaurus.UCSC.bosTau8'\n",
       "\\item 'BSgenome.Btaurus.UCSC.bosTau9'\n",
       "\\item 'BSgenome.Carietinum.NCBI.v1'\n",
       "\\item 'BSgenome.Celegans.UCSC.ce10'\n",
       "\\item 'BSgenome.Celegans.UCSC.ce11'\n",
       "\\item 'BSgenome.Celegans.UCSC.ce2'\n",
       "\\item 'BSgenome.Celegans.UCSC.ce6'\n",
       "\\item 'BSgenome.Cfamiliaris.UCSC.canFam2'\n",
       "\\item 'BSgenome.Cfamiliaris.UCSC.canFam2.masked'\n",
       "\\item 'BSgenome.Cfamiliaris.UCSC.canFam3'\n",
       "\\item 'BSgenome.Cfamiliaris.UCSC.canFam3.masked'\n",
       "\\item 'BSgenome.Cjacchus.UCSC.calJac3'\n",
       "\\item 'BSgenome.Creinhardtii.JGI.v5.6'\n",
       "\\item 'BSgenome.Dmelanogaster.UCSC.dm2'\n",
       "\\item 'BSgenome.Dmelanogaster.UCSC.dm2.masked'\n",
       "\\item 'BSgenome.Dmelanogaster.UCSC.dm3'\n",
       "\\item 'BSgenome.Dmelanogaster.UCSC.dm3.masked'\n",
       "\\item 'BSgenome.Dmelanogaster.UCSC.dm6'\n",
       "\\item 'BSgenome.Drerio.UCSC.danRer10'\n",
       "\\item 'BSgenome.Drerio.UCSC.danRer11'\n",
       "\\item 'BSgenome.Drerio.UCSC.danRer5'\n",
       "\\item 'BSgenome.Drerio.UCSC.danRer5.masked'\n",
       "\\item 'BSgenome.Drerio.UCSC.danRer6'\n",
       "\\item 'BSgenome.Drerio.UCSC.danRer6.masked'\n",
       "\\item 'BSgenome.Drerio.UCSC.danRer7'\n",
       "\\item 'BSgenome.Drerio.UCSC.danRer7.masked'\n",
       "\\item 'BSgenome.Dvirilis.Ensembl.dvircaf1'\n",
       "\\item 'BSgenome.Ecoli.NCBI.20080805'\n",
       "\\item 'BSgenome.Gaculeatus.UCSC.gasAcu1'\n",
       "\\item 'BSgenome.Gaculeatus.UCSC.gasAcu1.masked'\n",
       "\\item 'BSgenome.Ggallus.UCSC.galGal3'\n",
       "\\item 'BSgenome.Ggallus.UCSC.galGal3.masked'\n",
       "\\item 'BSgenome.Ggallus.UCSC.galGal4'\n",
       "\\item 'BSgenome.Ggallus.UCSC.galGal4.masked'\n",
       "\\item 'BSgenome.Ggallus.UCSC.galGal5'\n",
       "\\item 'BSgenome.Ggallus.UCSC.galGal6'\n",
       "\\item 'BSgenome.Hsapiens.1000genomes.hs37d5'\n",
       "\\item 'BSgenome.Hsapiens.NCBI.GRCh38'\n",
       "\\item 'BSgenome.Hsapiens.UCSC.hg17'\n",
       "\\item 'BSgenome.Hsapiens.UCSC.hg17.masked'\n",
       "\\item 'BSgenome.Hsapiens.UCSC.hg18'\n",
       "\\item 'BSgenome.Hsapiens.UCSC.hg18.masked'\n",
       "\\item 'BSgenome.Hsapiens.UCSC.hg19'\n",
       "\\item 'BSgenome.Hsapiens.UCSC.hg19.masked'\n",
       "\\item 'BSgenome.Hsapiens.UCSC.hg38'\n",
       "\\item 'BSgenome.Hsapiens.UCSC.hg38.dbSNP151.major'\n",
       "\\item 'BSgenome.Hsapiens.UCSC.hg38.dbSNP151.minor'\n",
       "\\item 'BSgenome.Hsapiens.UCSC.hg38.masked'\n",
       "\\item 'BSgenome.Mdomestica.UCSC.monDom5'\n",
       "\\item 'BSgenome.Mfascicularis.NCBI.5.0'\n",
       "\\item 'BSgenome.Mfuro.UCSC.musFur1'\n",
       "\\item 'BSgenome.Mmulatta.UCSC.rheMac10'\n",
       "\\item 'BSgenome.Mmulatta.UCSC.rheMac2'\n",
       "\\item 'BSgenome.Mmulatta.UCSC.rheMac2.masked'\n",
       "\\item 'BSgenome.Mmulatta.UCSC.rheMac3'\n",
       "\\item 'BSgenome.Mmulatta.UCSC.rheMac3.masked'\n",
       "\\item 'BSgenome.Mmulatta.UCSC.rheMac8'\n",
       "\\item 'BSgenome.Mmusculus.UCSC.mm10'\n",
       "\\item 'BSgenome.Mmusculus.UCSC.mm10.masked'\n",
       "\\item 'BSgenome.Mmusculus.UCSC.mm8'\n",
       "\\item 'BSgenome.Mmusculus.UCSC.mm8.masked'\n",
       "\\item 'BSgenome.Mmusculus.UCSC.mm9'\n",
       "\\item 'BSgenome.Mmusculus.UCSC.mm9.masked'\n",
       "\\item 'BSgenome.Osativa.MSU.MSU7'\n",
       "\\item 'BSgenome.Ppaniscus.UCSC.panPan1'\n",
       "\\item 'BSgenome.Ppaniscus.UCSC.panPan2'\n",
       "\\item 'BSgenome.Ptroglodytes.UCSC.panTro2'\n",
       "\\item 'BSgenome.Ptroglodytes.UCSC.panTro2.masked'\n",
       "\\item 'BSgenome.Ptroglodytes.UCSC.panTro3'\n",
       "\\item 'BSgenome.Ptroglodytes.UCSC.panTro3.masked'\n",
       "\\item 'BSgenome.Ptroglodytes.UCSC.panTro5'\n",
       "\\item 'BSgenome.Ptroglodytes.UCSC.panTro6'\n",
       "\\item 'BSgenome.Rnorvegicus.UCSC.rn4'\n",
       "\\item 'BSgenome.Rnorvegicus.UCSC.rn4.masked'\n",
       "\\item 'BSgenome.Rnorvegicus.UCSC.rn5'\n",
       "\\item 'BSgenome.Rnorvegicus.UCSC.rn5.masked'\n",
       "\\item 'BSgenome.Rnorvegicus.UCSC.rn6'\n",
       "\\item 'BSgenome.Rnorvegicus.UCSC.rn7'\n",
       "\\item 'BSgenome.Scerevisiae.UCSC.sacCer1'\n",
       "\\item 'BSgenome.Scerevisiae.UCSC.sacCer2'\n",
       "\\item 'BSgenome.Scerevisiae.UCSC.sacCer3'\n",
       "\\item 'BSgenome.Sscrofa.UCSC.susScr11'\n",
       "\\item 'BSgenome.Sscrofa.UCSC.susScr3'\n",
       "\\item 'BSgenome.Sscrofa.UCSC.susScr3.masked'\n",
       "\\item 'BSgenome.Tgondii.ToxoDB.7.0'\n",
       "\\item 'BSgenome.Tguttata.UCSC.taeGut1'\n",
       "\\item 'BSgenome.Tguttata.UCSC.taeGut1.masked'\n",
       "\\item 'BSgenome.Tguttata.UCSC.taeGut2'\n",
       "\\item 'BSgenome.Vvinifera.URGI.IGGP12Xv0'\n",
       "\\item 'BSgenome.Vvinifera.URGI.IGGP12Xv2'\n",
       "\\item 'BSgenome.Vvinifera.URGI.IGGP8X'\n",
       "\\end{enumerate*}\n"
      ],
      "text/markdown": [
       "1. 'BSgenome.Alyrata.JGI.v1'\n",
       "2. 'BSgenome.Amellifera.BeeBase.assembly4'\n",
       "3. 'BSgenome.Amellifera.NCBI.AmelHAv3.1'\n",
       "4. 'BSgenome.Amellifera.UCSC.apiMel2'\n",
       "5. 'BSgenome.Amellifera.UCSC.apiMel2.masked'\n",
       "6. 'BSgenome.Aofficinalis.NCBI.V1'\n",
       "7. 'BSgenome.Athaliana.TAIR.04232008'\n",
       "8. 'BSgenome.Athaliana.TAIR.TAIR9'\n",
       "9. 'BSgenome.Btaurus.UCSC.bosTau3'\n",
       "10. 'BSgenome.Btaurus.UCSC.bosTau3.masked'\n",
       "11. 'BSgenome.Btaurus.UCSC.bosTau4'\n",
       "12. 'BSgenome.Btaurus.UCSC.bosTau4.masked'\n",
       "13. 'BSgenome.Btaurus.UCSC.bosTau6'\n",
       "14. 'BSgenome.Btaurus.UCSC.bosTau6.masked'\n",
       "15. 'BSgenome.Btaurus.UCSC.bosTau8'\n",
       "16. 'BSgenome.Btaurus.UCSC.bosTau9'\n",
       "17. 'BSgenome.Carietinum.NCBI.v1'\n",
       "18. 'BSgenome.Celegans.UCSC.ce10'\n",
       "19. 'BSgenome.Celegans.UCSC.ce11'\n",
       "20. 'BSgenome.Celegans.UCSC.ce2'\n",
       "21. 'BSgenome.Celegans.UCSC.ce6'\n",
       "22. 'BSgenome.Cfamiliaris.UCSC.canFam2'\n",
       "23. 'BSgenome.Cfamiliaris.UCSC.canFam2.masked'\n",
       "24. 'BSgenome.Cfamiliaris.UCSC.canFam3'\n",
       "25. 'BSgenome.Cfamiliaris.UCSC.canFam3.masked'\n",
       "26. 'BSgenome.Cjacchus.UCSC.calJac3'\n",
       "27. 'BSgenome.Creinhardtii.JGI.v5.6'\n",
       "28. 'BSgenome.Dmelanogaster.UCSC.dm2'\n",
       "29. 'BSgenome.Dmelanogaster.UCSC.dm2.masked'\n",
       "30. 'BSgenome.Dmelanogaster.UCSC.dm3'\n",
       "31. 'BSgenome.Dmelanogaster.UCSC.dm3.masked'\n",
       "32. 'BSgenome.Dmelanogaster.UCSC.dm6'\n",
       "33. 'BSgenome.Drerio.UCSC.danRer10'\n",
       "34. 'BSgenome.Drerio.UCSC.danRer11'\n",
       "35. 'BSgenome.Drerio.UCSC.danRer5'\n",
       "36. 'BSgenome.Drerio.UCSC.danRer5.masked'\n",
       "37. 'BSgenome.Drerio.UCSC.danRer6'\n",
       "38. 'BSgenome.Drerio.UCSC.danRer6.masked'\n",
       "39. 'BSgenome.Drerio.UCSC.danRer7'\n",
       "40. 'BSgenome.Drerio.UCSC.danRer7.masked'\n",
       "41. 'BSgenome.Dvirilis.Ensembl.dvircaf1'\n",
       "42. 'BSgenome.Ecoli.NCBI.20080805'\n",
       "43. 'BSgenome.Gaculeatus.UCSC.gasAcu1'\n",
       "44. 'BSgenome.Gaculeatus.UCSC.gasAcu1.masked'\n",
       "45. 'BSgenome.Ggallus.UCSC.galGal3'\n",
       "46. 'BSgenome.Ggallus.UCSC.galGal3.masked'\n",
       "47. 'BSgenome.Ggallus.UCSC.galGal4'\n",
       "48. 'BSgenome.Ggallus.UCSC.galGal4.masked'\n",
       "49. 'BSgenome.Ggallus.UCSC.galGal5'\n",
       "50. 'BSgenome.Ggallus.UCSC.galGal6'\n",
       "51. 'BSgenome.Hsapiens.1000genomes.hs37d5'\n",
       "52. 'BSgenome.Hsapiens.NCBI.GRCh38'\n",
       "53. 'BSgenome.Hsapiens.UCSC.hg17'\n",
       "54. 'BSgenome.Hsapiens.UCSC.hg17.masked'\n",
       "55. 'BSgenome.Hsapiens.UCSC.hg18'\n",
       "56. 'BSgenome.Hsapiens.UCSC.hg18.masked'\n",
       "57. 'BSgenome.Hsapiens.UCSC.hg19'\n",
       "58. 'BSgenome.Hsapiens.UCSC.hg19.masked'\n",
       "59. 'BSgenome.Hsapiens.UCSC.hg38'\n",
       "60. 'BSgenome.Hsapiens.UCSC.hg38.dbSNP151.major'\n",
       "61. 'BSgenome.Hsapiens.UCSC.hg38.dbSNP151.minor'\n",
       "62. 'BSgenome.Hsapiens.UCSC.hg38.masked'\n",
       "63. 'BSgenome.Mdomestica.UCSC.monDom5'\n",
       "64. 'BSgenome.Mfascicularis.NCBI.5.0'\n",
       "65. 'BSgenome.Mfuro.UCSC.musFur1'\n",
       "66. 'BSgenome.Mmulatta.UCSC.rheMac10'\n",
       "67. 'BSgenome.Mmulatta.UCSC.rheMac2'\n",
       "68. 'BSgenome.Mmulatta.UCSC.rheMac2.masked'\n",
       "69. 'BSgenome.Mmulatta.UCSC.rheMac3'\n",
       "70. 'BSgenome.Mmulatta.UCSC.rheMac3.masked'\n",
       "71. 'BSgenome.Mmulatta.UCSC.rheMac8'\n",
       "72. 'BSgenome.Mmusculus.UCSC.mm10'\n",
       "73. 'BSgenome.Mmusculus.UCSC.mm10.masked'\n",
       "74. 'BSgenome.Mmusculus.UCSC.mm8'\n",
       "75. 'BSgenome.Mmusculus.UCSC.mm8.masked'\n",
       "76. 'BSgenome.Mmusculus.UCSC.mm9'\n",
       "77. 'BSgenome.Mmusculus.UCSC.mm9.masked'\n",
       "78. 'BSgenome.Osativa.MSU.MSU7'\n",
       "79. 'BSgenome.Ppaniscus.UCSC.panPan1'\n",
       "80. 'BSgenome.Ppaniscus.UCSC.panPan2'\n",
       "81. 'BSgenome.Ptroglodytes.UCSC.panTro2'\n",
       "82. 'BSgenome.Ptroglodytes.UCSC.panTro2.masked'\n",
       "83. 'BSgenome.Ptroglodytes.UCSC.panTro3'\n",
       "84. 'BSgenome.Ptroglodytes.UCSC.panTro3.masked'\n",
       "85. 'BSgenome.Ptroglodytes.UCSC.panTro5'\n",
       "86. 'BSgenome.Ptroglodytes.UCSC.panTro6'\n",
       "87. 'BSgenome.Rnorvegicus.UCSC.rn4'\n",
       "88. 'BSgenome.Rnorvegicus.UCSC.rn4.masked'\n",
       "89. 'BSgenome.Rnorvegicus.UCSC.rn5'\n",
       "90. 'BSgenome.Rnorvegicus.UCSC.rn5.masked'\n",
       "91. 'BSgenome.Rnorvegicus.UCSC.rn6'\n",
       "92. 'BSgenome.Rnorvegicus.UCSC.rn7'\n",
       "93. 'BSgenome.Scerevisiae.UCSC.sacCer1'\n",
       "94. 'BSgenome.Scerevisiae.UCSC.sacCer2'\n",
       "95. 'BSgenome.Scerevisiae.UCSC.sacCer3'\n",
       "96. 'BSgenome.Sscrofa.UCSC.susScr11'\n",
       "97. 'BSgenome.Sscrofa.UCSC.susScr3'\n",
       "98. 'BSgenome.Sscrofa.UCSC.susScr3.masked'\n",
       "99. 'BSgenome.Tgondii.ToxoDB.7.0'\n",
       "100. 'BSgenome.Tguttata.UCSC.taeGut1'\n",
       "101. 'BSgenome.Tguttata.UCSC.taeGut1.masked'\n",
       "102. 'BSgenome.Tguttata.UCSC.taeGut2'\n",
       "103. 'BSgenome.Vvinifera.URGI.IGGP12Xv0'\n",
       "104. 'BSgenome.Vvinifera.URGI.IGGP12Xv2'\n",
       "105. 'BSgenome.Vvinifera.URGI.IGGP8X'\n",
       "\n",
       "\n"
      ],
      "text/plain": [
       "  [1] \"BSgenome.Alyrata.JGI.v1\"                   \n",
       "  [2] \"BSgenome.Amellifera.BeeBase.assembly4\"     \n",
       "  [3] \"BSgenome.Amellifera.NCBI.AmelHAv3.1\"       \n",
       "  [4] \"BSgenome.Amellifera.UCSC.apiMel2\"          \n",
       "  [5] \"BSgenome.Amellifera.UCSC.apiMel2.masked\"   \n",
       "  [6] \"BSgenome.Aofficinalis.NCBI.V1\"             \n",
       "  [7] \"BSgenome.Athaliana.TAIR.04232008\"          \n",
       "  [8] \"BSgenome.Athaliana.TAIR.TAIR9\"             \n",
       "  [9] \"BSgenome.Btaurus.UCSC.bosTau3\"             \n",
       " [10] \"BSgenome.Btaurus.UCSC.bosTau3.masked\"      \n",
       " [11] \"BSgenome.Btaurus.UCSC.bosTau4\"             \n",
       " [12] \"BSgenome.Btaurus.UCSC.bosTau4.masked\"      \n",
       " [13] \"BSgenome.Btaurus.UCSC.bosTau6\"             \n",
       " [14] \"BSgenome.Btaurus.UCSC.bosTau6.masked\"      \n",
       " [15] \"BSgenome.Btaurus.UCSC.bosTau8\"             \n",
       " [16] \"BSgenome.Btaurus.UCSC.bosTau9\"             \n",
       " [17] \"BSgenome.Carietinum.NCBI.v1\"               \n",
       " [18] \"BSgenome.Celegans.UCSC.ce10\"               \n",
       " [19] \"BSgenome.Celegans.UCSC.ce11\"               \n",
       " [20] \"BSgenome.Celegans.UCSC.ce2\"                \n",
       " [21] \"BSgenome.Celegans.UCSC.ce6\"                \n",
       " [22] \"BSgenome.Cfamiliaris.UCSC.canFam2\"         \n",
       " [23] \"BSgenome.Cfamiliaris.UCSC.canFam2.masked\"  \n",
       " [24] \"BSgenome.Cfamiliaris.UCSC.canFam3\"         \n",
       " [25] \"BSgenome.Cfamiliaris.UCSC.canFam3.masked\"  \n",
       " [26] \"BSgenome.Cjacchus.UCSC.calJac3\"            \n",
       " [27] \"BSgenome.Creinhardtii.JGI.v5.6\"            \n",
       " [28] \"BSgenome.Dmelanogaster.UCSC.dm2\"           \n",
       " [29] \"BSgenome.Dmelanogaster.UCSC.dm2.masked\"    \n",
       " [30] \"BSgenome.Dmelanogaster.UCSC.dm3\"           \n",
       " [31] \"BSgenome.Dmelanogaster.UCSC.dm3.masked\"    \n",
       " [32] \"BSgenome.Dmelanogaster.UCSC.dm6\"           \n",
       " [33] \"BSgenome.Drerio.UCSC.danRer10\"             \n",
       " [34] \"BSgenome.Drerio.UCSC.danRer11\"             \n",
       " [35] \"BSgenome.Drerio.UCSC.danRer5\"              \n",
       " [36] \"BSgenome.Drerio.UCSC.danRer5.masked\"       \n",
       " [37] \"BSgenome.Drerio.UCSC.danRer6\"              \n",
       " [38] \"BSgenome.Drerio.UCSC.danRer6.masked\"       \n",
       " [39] \"BSgenome.Drerio.UCSC.danRer7\"              \n",
       " [40] \"BSgenome.Drerio.UCSC.danRer7.masked\"       \n",
       " [41] \"BSgenome.Dvirilis.Ensembl.dvircaf1\"        \n",
       " [42] \"BSgenome.Ecoli.NCBI.20080805\"              \n",
       " [43] \"BSgenome.Gaculeatus.UCSC.gasAcu1\"          \n",
       " [44] \"BSgenome.Gaculeatus.UCSC.gasAcu1.masked\"   \n",
       " [45] \"BSgenome.Ggallus.UCSC.galGal3\"             \n",
       " [46] \"BSgenome.Ggallus.UCSC.galGal3.masked\"      \n",
       " [47] \"BSgenome.Ggallus.UCSC.galGal4\"             \n",
       " [48] \"BSgenome.Ggallus.UCSC.galGal4.masked\"      \n",
       " [49] \"BSgenome.Ggallus.UCSC.galGal5\"             \n",
       " [50] \"BSgenome.Ggallus.UCSC.galGal6\"             \n",
       " [51] \"BSgenome.Hsapiens.1000genomes.hs37d5\"      \n",
       " [52] \"BSgenome.Hsapiens.NCBI.GRCh38\"             \n",
       " [53] \"BSgenome.Hsapiens.UCSC.hg17\"               \n",
       " [54] \"BSgenome.Hsapiens.UCSC.hg17.masked\"        \n",
       " [55] \"BSgenome.Hsapiens.UCSC.hg18\"               \n",
       " [56] \"BSgenome.Hsapiens.UCSC.hg18.masked\"        \n",
       " [57] \"BSgenome.Hsapiens.UCSC.hg19\"               \n",
       " [58] \"BSgenome.Hsapiens.UCSC.hg19.masked\"        \n",
       " [59] \"BSgenome.Hsapiens.UCSC.hg38\"               \n",
       " [60] \"BSgenome.Hsapiens.UCSC.hg38.dbSNP151.major\"\n",
       " [61] \"BSgenome.Hsapiens.UCSC.hg38.dbSNP151.minor\"\n",
       " [62] \"BSgenome.Hsapiens.UCSC.hg38.masked\"        \n",
       " [63] \"BSgenome.Mdomestica.UCSC.monDom5\"          \n",
       " [64] \"BSgenome.Mfascicularis.NCBI.5.0\"           \n",
       " [65] \"BSgenome.Mfuro.UCSC.musFur1\"               \n",
       " [66] \"BSgenome.Mmulatta.UCSC.rheMac10\"           \n",
       " [67] \"BSgenome.Mmulatta.UCSC.rheMac2\"            \n",
       " [68] \"BSgenome.Mmulatta.UCSC.rheMac2.masked\"     \n",
       " [69] \"BSgenome.Mmulatta.UCSC.rheMac3\"            \n",
       " [70] \"BSgenome.Mmulatta.UCSC.rheMac3.masked\"     \n",
       " [71] \"BSgenome.Mmulatta.UCSC.rheMac8\"            \n",
       " [72] \"BSgenome.Mmusculus.UCSC.mm10\"              \n",
       " [73] \"BSgenome.Mmusculus.UCSC.mm10.masked\"       \n",
       " [74] \"BSgenome.Mmusculus.UCSC.mm8\"               \n",
       " [75] \"BSgenome.Mmusculus.UCSC.mm8.masked\"        \n",
       " [76] \"BSgenome.Mmusculus.UCSC.mm9\"               \n",
       " [77] \"BSgenome.Mmusculus.UCSC.mm9.masked\"        \n",
       " [78] \"BSgenome.Osativa.MSU.MSU7\"                 \n",
       " [79] \"BSgenome.Ppaniscus.UCSC.panPan1\"           \n",
       " [80] \"BSgenome.Ppaniscus.UCSC.panPan2\"           \n",
       " [81] \"BSgenome.Ptroglodytes.UCSC.panTro2\"        \n",
       " [82] \"BSgenome.Ptroglodytes.UCSC.panTro2.masked\" \n",
       " [83] \"BSgenome.Ptroglodytes.UCSC.panTro3\"        \n",
       " [84] \"BSgenome.Ptroglodytes.UCSC.panTro3.masked\" \n",
       " [85] \"BSgenome.Ptroglodytes.UCSC.panTro5\"        \n",
       " [86] \"BSgenome.Ptroglodytes.UCSC.panTro6\"        \n",
       " [87] \"BSgenome.Rnorvegicus.UCSC.rn4\"             \n",
       " [88] \"BSgenome.Rnorvegicus.UCSC.rn4.masked\"      \n",
       " [89] \"BSgenome.Rnorvegicus.UCSC.rn5\"             \n",
       " [90] \"BSgenome.Rnorvegicus.UCSC.rn5.masked\"      \n",
       " [91] \"BSgenome.Rnorvegicus.UCSC.rn6\"             \n",
       " [92] \"BSgenome.Rnorvegicus.UCSC.rn7\"             \n",
       " [93] \"BSgenome.Scerevisiae.UCSC.sacCer1\"         \n",
       " [94] \"BSgenome.Scerevisiae.UCSC.sacCer2\"         \n",
       " [95] \"BSgenome.Scerevisiae.UCSC.sacCer3\"         \n",
       " [96] \"BSgenome.Sscrofa.UCSC.susScr11\"            \n",
       " [97] \"BSgenome.Sscrofa.UCSC.susScr3\"             \n",
       " [98] \"BSgenome.Sscrofa.UCSC.susScr3.masked\"      \n",
       " [99] \"BSgenome.Tgondii.ToxoDB.7.0\"               \n",
       "[100] \"BSgenome.Tguttata.UCSC.taeGut1\"            \n",
       "[101] \"BSgenome.Tguttata.UCSC.taeGut1.masked\"     \n",
       "[102] \"BSgenome.Tguttata.UCSC.taeGut2\"            \n",
       "[103] \"BSgenome.Vvinifera.URGI.IGGP12Xv0\"         \n",
       "[104] \"BSgenome.Vvinifera.URGI.IGGP12Xv2\"         \n",
       "[105] \"BSgenome.Vvinifera.URGI.IGGP8X\"            "
      ]
     },
     "metadata": {},
     "output_type": "display_data"
    }
   ],
   "source": [
    "available.genomes()"
   ]
  },
  {
   "cell_type": "code",
   "execution_count": 28,
   "metadata": {},
   "outputs": [
    {
     "data": {
      "text/plain": [
       "Yeast genome:\n",
       "# organism: Saccharomyces cerevisiae (Yeast)\n",
       "# genome: sacCer2\n",
       "# provider: UCSC\n",
       "# release date: June 2008\n",
       "# 18 sequences:\n",
       "#   chrI    chrII   chrIII  chrIV   chrV    chrVI   chrVII  chrVIII chrIX  \n",
       "#   chrX    chrXI   chrXII  chrXIII chrXIV  chrXV   chrXVI  chrM    2micron\n",
       "# (use 'seqnames()' to see all the sequence names, use the '$' or '[[' operator\n",
       "# to access a given sequence)"
      ]
     },
     "metadata": {},
     "output_type": "display_data"
    }
   ],
   "source": [
    "Scerevisiae"
   ]
  },
  {
   "cell_type": "markdown",
   "metadata": {},
   "source": [
    "\n",
    "A BSgenome package contains a single object which is the second component of the name. At first, nothing is loaded into memory, which makes it very fast. You can get the length and names of the chromosomes without actually loading them."
   ]
  },
  {
   "cell_type": "code",
   "execution_count": 29,
   "metadata": {},
   "outputs": [
    {
     "data": {
      "text/html": [
       "<style>\n",
       ".dl-inline {width: auto; margin:0; padding: 0}\n",
       ".dl-inline>dt, .dl-inline>dd {float: none; width: auto; display: inline-block}\n",
       ".dl-inline>dt::after {content: \":\\0020\"; padding-right: .5ex}\n",
       ".dl-inline>dt:not(:first-of-type) {padding-left: .5ex}\n",
       "</style><dl class=dl-inline><dt>chrI</dt><dd>230208</dd><dt>chrII</dt><dd>813178</dd><dt>chrIII</dt><dd>316617</dd><dt>chrIV</dt><dd>1531919</dd><dt>chrV</dt><dd>576869</dd><dt>chrVI</dt><dd>270148</dd><dt>chrVII</dt><dd>1090947</dd><dt>chrVIII</dt><dd>562643</dd><dt>chrIX</dt><dd>439885</dd><dt>chrX</dt><dd>745742</dd><dt>chrXI</dt><dd>666454</dd><dt>chrXII</dt><dd>1078175</dd><dt>chrXIII</dt><dd>924429</dd><dt>chrXIV</dt><dd>784333</dd><dt>chrXV</dt><dd>1091289</dd><dt>chrXVI</dt><dd>948062</dd><dt>chrM</dt><dd>85779</dd><dt>2micron</dt><dd>6318</dd></dl>\n"
      ],
      "text/latex": [
       "\\begin{description*}\n",
       "\\item[chrI] 230208\n",
       "\\item[chrII] 813178\n",
       "\\item[chrIII] 316617\n",
       "\\item[chrIV] 1531919\n",
       "\\item[chrV] 576869\n",
       "\\item[chrVI] 270148\n",
       "\\item[chrVII] 1090947\n",
       "\\item[chrVIII] 562643\n",
       "\\item[chrIX] 439885\n",
       "\\item[chrX] 745742\n",
       "\\item[chrXI] 666454\n",
       "\\item[chrXII] 1078175\n",
       "\\item[chrXIII] 924429\n",
       "\\item[chrXIV] 784333\n",
       "\\item[chrXV] 1091289\n",
       "\\item[chrXVI] 948062\n",
       "\\item[chrM] 85779\n",
       "\\item[2micron] 6318\n",
       "\\end{description*}\n"
      ],
      "text/markdown": [
       "chrI\n",
       ":   230208chrII\n",
       ":   813178chrIII\n",
       ":   316617chrIV\n",
       ":   1531919chrV\n",
       ":   576869chrVI\n",
       ":   270148chrVII\n",
       ":   1090947chrVIII\n",
       ":   562643chrIX\n",
       ":   439885chrX\n",
       ":   745742chrXI\n",
       ":   666454chrXII\n",
       ":   1078175chrXIII\n",
       ":   924429chrXIV\n",
       ":   784333chrXV\n",
       ":   1091289chrXVI\n",
       ":   948062chrM\n",
       ":   857792micron\n",
       ":   6318\n",
       "\n"
      ],
      "text/plain": [
       "   chrI   chrII  chrIII   chrIV    chrV   chrVI  chrVII chrVIII   chrIX    chrX \n",
       " 230208  813178  316617 1531919  576869  270148 1090947  562643  439885  745742 \n",
       "  chrXI  chrXII chrXIII  chrXIV   chrXV  chrXVI    chrM 2micron \n",
       " 666454 1078175  924429  784333 1091289  948062   85779    6318 "
      ]
     },
     "metadata": {},
     "output_type": "display_data"
    }
   ],
   "source": [
    "seqlengths(Scerevisiae)"
   ]
  },
  {
   "cell_type": "code",
   "execution_count": 30,
   "metadata": {},
   "outputs": [
    {
     "data": {
      "text/html": [
       "<style>\n",
       ".list-inline {list-style: none; margin:0; padding: 0}\n",
       ".list-inline>li {display: inline-block}\n",
       ".list-inline>li:not(:last-child)::after {content: \"\\00b7\"; padding: 0 .5ex}\n",
       "</style>\n",
       "<ol class=list-inline><li>'chrI'</li><li>'chrII'</li><li>'chrIII'</li><li>'chrIV'</li><li>'chrV'</li><li>'chrVI'</li><li>'chrVII'</li><li>'chrVIII'</li><li>'chrIX'</li><li>'chrX'</li><li>'chrXI'</li><li>'chrXII'</li><li>'chrXIII'</li><li>'chrXIV'</li><li>'chrXV'</li><li>'chrXVI'</li><li>'chrM'</li><li>'2micron'</li></ol>\n"
      ],
      "text/latex": [
       "\\begin{enumerate*}\n",
       "\\item 'chrI'\n",
       "\\item 'chrII'\n",
       "\\item 'chrIII'\n",
       "\\item 'chrIV'\n",
       "\\item 'chrV'\n",
       "\\item 'chrVI'\n",
       "\\item 'chrVII'\n",
       "\\item 'chrVIII'\n",
       "\\item 'chrIX'\n",
       "\\item 'chrX'\n",
       "\\item 'chrXI'\n",
       "\\item 'chrXII'\n",
       "\\item 'chrXIII'\n",
       "\\item 'chrXIV'\n",
       "\\item 'chrXV'\n",
       "\\item 'chrXVI'\n",
       "\\item 'chrM'\n",
       "\\item '2micron'\n",
       "\\end{enumerate*}\n"
      ],
      "text/markdown": [
       "1. 'chrI'\n",
       "2. 'chrII'\n",
       "3. 'chrIII'\n",
       "4. 'chrIV'\n",
       "5. 'chrV'\n",
       "6. 'chrVI'\n",
       "7. 'chrVII'\n",
       "8. 'chrVIII'\n",
       "9. 'chrIX'\n",
       "10. 'chrX'\n",
       "11. 'chrXI'\n",
       "12. 'chrXII'\n",
       "13. 'chrXIII'\n",
       "14. 'chrXIV'\n",
       "15. 'chrXV'\n",
       "16. 'chrXVI'\n",
       "17. 'chrM'\n",
       "18. '2micron'\n",
       "\n",
       "\n"
      ],
      "text/plain": [
       " [1] \"chrI\"    \"chrII\"   \"chrIII\"  \"chrIV\"   \"chrV\"    \"chrVI\"   \"chrVII\" \n",
       " [8] \"chrVIII\" \"chrIX\"   \"chrX\"    \"chrXI\"   \"chrXII\"  \"chrXIII\" \"chrXIV\" \n",
       "[15] \"chrXV\"   \"chrXVI\"  \"chrM\"    \"2micron\""
      ]
     },
     "metadata": {},
     "output_type": "display_data"
    }
   ],
   "source": [
    "seqnames(Scerevisiae)"
   ]
  },
  {
   "cell_type": "code",
   "execution_count": 31,
   "metadata": {},
   "outputs": [
    {
     "data": {
      "text/plain": [
       "230208-letter DNAString object\n",
       "seq: \u001b[47m\u001b[30mC\u001b[39m\u001b[49m\u001b[47m\u001b[30mC\u001b[39m\u001b[49m\u001b[47m\u001b[30mA\u001b[39m\u001b[49m\u001b[47m\u001b[30mC\u001b[39m\u001b[49m\u001b[47m\u001b[30mA\u001b[39m\u001b[49m\u001b[47m\u001b[30mC\u001b[39m\u001b[49m\u001b[47m\u001b[30mC\u001b[39m\u001b[49m\u001b[47m\u001b[30mA\u001b[39m\u001b[49m\u001b[47m\u001b[30mC\u001b[39m\u001b[49m\u001b[47m\u001b[30mA\u001b[39m\u001b[49m\u001b[47m\u001b[30mC\u001b[39m\u001b[49m\u001b[47m\u001b[30mC\u001b[39m\u001b[49m\u001b[47m\u001b[30mC\u001b[39m\u001b[49m\u001b[47m\u001b[30mA\u001b[39m\u001b[49m\u001b[47m\u001b[30mC\u001b[39m\u001b[49m\u001b[47m\u001b[30mA\u001b[39m\u001b[49m\u001b[47m\u001b[30mC\u001b[39m\u001b[49m\u001b[47m\u001b[30mA\u001b[39m\u001b[49m\u001b[47m\u001b[30mC\u001b[39m\u001b[49m\u001b[47m\u001b[30mC\u001b[39m\u001b[49m\u001b[47m\u001b[30mC\u001b[39m\u001b[49m\u001b[47m\u001b[30mA\u001b[39m\u001b[49m\u001b[47m\u001b[30mC\u001b[39m\u001b[49m\u001b[47m\u001b[30mA\u001b[39m\u001b[49m\u001b[47m\u001b[30mC\u001b[39m\u001b[49m\u001b[47m\u001b[30mA\u001b[39m\u001b[49m\u001b[47m\u001b[30mC\u001b[39m\u001b[49m\u001b[47m\u001b[30mC\u001b[39m\u001b[49m\u001b[47m\u001b[30mA\u001b[39m\u001b[49m\u001b[47m\u001b[30mC\u001b[39m\u001b[49m\u001b[47m\u001b[30mA\u001b[39m\u001b[49m\u001b[47m\u001b[30mC\u001b[39m\u001b[49m\u001b[47m\u001b[30mC\u001b[39m\u001b[49m\u001b[47m\u001b[30mA\u001b[39m\u001b[49m\u001b[47m\u001b[30mC\u001b[39m\u001b[49m\u001b[47m\u001b[30mA\u001b[39m\u001b[49m...\u001b[47m\u001b[30mG\u001b[39m\u001b[49m\u001b[47m\u001b[30mG\u001b[39m\u001b[49m\u001b[47m\u001b[30mT\u001b[39m\u001b[49m\u001b[47m\u001b[30mG\u001b[39m\u001b[49m\u001b[47m\u001b[30mT\u001b[39m\u001b[49m\u001b[47m\u001b[30mG\u001b[39m\u001b[49m\u001b[47m\u001b[30mT\u001b[39m\u001b[49m\u001b[47m\u001b[30mG\u001b[39m\u001b[49m\u001b[47m\u001b[30mG\u001b[39m\u001b[49m\u001b[47m\u001b[30mG\u001b[39m\u001b[49m\u001b[47m\u001b[30mT\u001b[39m\u001b[49m\u001b[47m\u001b[30mG\u001b[39m\u001b[49m\u001b[47m\u001b[30mT\u001b[39m\u001b[49m\u001b[47m\u001b[30mG\u001b[39m\u001b[49m\u001b[47m\u001b[30mG\u001b[39m\u001b[49m\u001b[47m\u001b[30mT\u001b[39m\u001b[49m\u001b[47m\u001b[30mG\u001b[39m\u001b[49m\u001b[47m\u001b[30mT\u001b[39m\u001b[49m\u001b[47m\u001b[30mG\u001b[39m\u001b[49m\u001b[47m\u001b[30mG\u001b[39m\u001b[49m\u001b[47m\u001b[30mG\u001b[39m\u001b[49m\u001b[47m\u001b[30mT\u001b[39m\u001b[49m\u001b[47m\u001b[30mG\u001b[39m\u001b[49m\u001b[47m\u001b[30mT\u001b[39m\u001b[49m\u001b[47m\u001b[30mG\u001b[39m\u001b[49m\u001b[47m\u001b[30mG\u001b[39m\u001b[49m\u001b[47m\u001b[30mT\u001b[39m\u001b[49m\u001b[47m\u001b[30mG\u001b[39m\u001b[49m\u001b[47m\u001b[30mT\u001b[39m\u001b[49m\u001b[47m\u001b[30mG\u001b[39m\u001b[49m\u001b[47m\u001b[30mT\u001b[39m\u001b[49m\u001b[47m\u001b[30mG\u001b[39m\u001b[49m\u001b[47m\u001b[30mT\u001b[39m\u001b[49m\u001b[47m\u001b[30mG\u001b[39m\u001b[49m\u001b[47m\u001b[30mG\u001b[39m\u001b[49m\u001b[47m\u001b[30mG\u001b[39m\u001b[49m"
      ]
     },
     "metadata": {},
     "output_type": "display_data"
    }
   ],
   "source": [
    "## We load a chromosome by using the [[ or $ operators:\n",
    "Scerevisiae$chrI"
   ]
  },
  {
   "cell_type": "code",
   "execution_count": 32,
   "metadata": {},
   "outputs": [
    {
     "data": {
      "text/html": [
       "<strong>C|G:</strong> 0.392736134278565"
      ],
      "text/latex": [
       "\\textbf{C\\textbackslash{}textbar\\{\\}G:} 0.392736134278565"
      ],
      "text/markdown": [
       "**C|G:** 0.392736134278565"
      ],
      "text/plain": [
       "      C|G \n",
       "0.3927361 "
      ]
     },
     "metadata": {},
     "output_type": "display_data"
    }
   ],
   "source": [
    "## We can now do things like compute the GC content of the first chromosome\n",
    "letterFrequency(Scerevisiae$chrI, \"CG\", as.prob = TRUE)"
   ]
  },
  {
   "cell_type": "markdown",
   "metadata": {},
   "source": [
    "To iterate over chromosomes seems straightforward with lapply. However, this function may end up using a lot of memory because the entire genome is loaded. Instead there is the `bsapply` function which handles loading and unloading of different chromosomes. The interface to `bsapply` is weird at first; you set up a `BSparams` object which contains which function you are using and which genome you are using it on (and a bit more information). This paradigm is being used in other packages these days, for example [BiocParallel](https://bioconductor.org/packages/release/bioc/html/BiocParallel.html). An example will make this clear:"
   ]
  },
  {
   "cell_type": "code",
   "execution_count": 33,
   "metadata": {},
   "outputs": [
    {
     "data": {
      "text/html": [
       "<dl>\n",
       "\t<dt>$chrI</dt>\n",
       "\t\t<dd><strong>G|C:</strong> 90411</dd>\n",
       "\t<dt>$chrII</dt>\n",
       "\t\t<dd><strong>G|C:</strong> 311807</dd>\n",
       "\t<dt>$chrIII</dt>\n",
       "\t\t<dd><strong>G|C:</strong> 121998</dd>\n",
       "\t<dt>$chrIV</dt>\n",
       "\t\t<dd><strong>G|C:</strong> 580699</dd>\n",
       "\t<dt>$chrV</dt>\n",
       "\t\t<dd><strong>G|C:</strong> 222141</dd>\n",
       "\t<dt>$chrVI</dt>\n",
       "\t\t<dd><strong>G|C:</strong> 104636</dd>\n",
       "</dl>\n"
      ],
      "text/latex": [
       "\\begin{description}\n",
       "\\item[\\$chrI] \\textbf{G\\textbackslash{}textbar\\{\\}C:} 90411\n",
       "\\item[\\$chrII] \\textbf{G\\textbackslash{}textbar\\{\\}C:} 311807\n",
       "\\item[\\$chrIII] \\textbf{G\\textbackslash{}textbar\\{\\}C:} 121998\n",
       "\\item[\\$chrIV] \\textbf{G\\textbackslash{}textbar\\{\\}C:} 580699\n",
       "\\item[\\$chrV] \\textbf{G\\textbackslash{}textbar\\{\\}C:} 222141\n",
       "\\item[\\$chrVI] \\textbf{G\\textbackslash{}textbar\\{\\}C:} 104636\n",
       "\\end{description}\n"
      ],
      "text/markdown": [
       "$chrI\n",
       ":   **G|C:** 90411\n",
       "$chrII\n",
       ":   **G|C:** 311807\n",
       "$chrIII\n",
       ":   **G|C:** 121998\n",
       "$chrIV\n",
       ":   **G|C:** 580699\n",
       "$chrV\n",
       ":   **G|C:** 222141\n",
       "$chrVI\n",
       ":   **G|C:** 104636\n",
       "\n",
       "\n"
      ],
      "text/plain": [
       "$chrI\n",
       "  G|C \n",
       "90411 \n",
       "\n",
       "$chrII\n",
       "   G|C \n",
       "311807 \n",
       "\n",
       "$chrIII\n",
       "   G|C \n",
       "121998 \n",
       "\n",
       "$chrIV\n",
       "   G|C \n",
       "580699 \n",
       "\n",
       "$chrV\n",
       "   G|C \n",
       "222141 \n",
       "\n",
       "$chrVI\n",
       "   G|C \n",
       "104636 \n"
      ]
     },
     "metadata": {},
     "output_type": "display_data"
    }
   ],
   "source": [
    "param <- new(\"BSParams\", X = Scerevisiae, FUN = letterFrequency)\n",
    "head(bsapply(param, letters = \"GC\"))"
   ]
  },
  {
   "cell_type": "markdown",
   "metadata": {},
   "source": [
    "note how the additional argument `letters` to the `letterFrequency` function is given as an argument to bsapply, not to the BSParams object. This gives us a list; you can simplify the output (like the difference between `lapply` and `sapply`) by"
   ]
  },
  {
   "cell_type": "code",
   "execution_count": 34,
   "metadata": {},
   "outputs": [
    {
     "data": {
      "text/html": [
       "<style>\n",
       ".dl-inline {width: auto; margin:0; padding: 0}\n",
       ".dl-inline>dt, .dl-inline>dd {float: none; width: auto; display: inline-block}\n",
       ".dl-inline>dt::after {content: \":\\0020\"; padding-right: .5ex}\n",
       ".dl-inline>dt:not(:first-of-type) {padding-left: .5ex}\n",
       "</style><dl class=dl-inline><dt>chrI.G|C</dt><dd>90411</dd><dt>chrII.G|C</dt><dd>311807</dd><dt>chrIII.G|C</dt><dd>121998</dd><dt>chrIV.G|C</dt><dd>580699</dd><dt>chrV.G|C</dt><dd>222141</dd><dt>chrVI.G|C</dt><dd>104636</dd><dt>chrVII.G|C</dt><dd>415227</dd><dt>chrVIII.G|C</dt><dd>216586</dd><dt>chrIX.G|C</dt><dd>171122</dd><dt>chrX.G|C</dt><dd>286167</dd><dt>chrXI.G|C</dt><dd>253728</dd><dt>chrXII.G|C</dt><dd>414843</dd><dt>chrXIII.G|C</dt><dd>353167</dd><dt>chrXIV.G|C</dt><dd>303042</dd><dt>chrXV.G|C</dt><dd>416443</dd><dt>chrXVI.G|C</dt><dd>360871</dd><dt>chrM.G|C</dt><dd>14676</dd><dt>2micron.G|C</dt><dd>2463</dd></dl>\n"
      ],
      "text/latex": [
       "\\begin{description*}\n",
       "\\item[chrI.G\\textbackslash{}textbar\\{\\}C] 90411\n",
       "\\item[chrII.G\\textbackslash{}textbar\\{\\}C] 311807\n",
       "\\item[chrIII.G\\textbackslash{}textbar\\{\\}C] 121998\n",
       "\\item[chrIV.G\\textbackslash{}textbar\\{\\}C] 580699\n",
       "\\item[chrV.G\\textbackslash{}textbar\\{\\}C] 222141\n",
       "\\item[chrVI.G\\textbackslash{}textbar\\{\\}C] 104636\n",
       "\\item[chrVII.G\\textbackslash{}textbar\\{\\}C] 415227\n",
       "\\item[chrVIII.G\\textbackslash{}textbar\\{\\}C] 216586\n",
       "\\item[chrIX.G\\textbackslash{}textbar\\{\\}C] 171122\n",
       "\\item[chrX.G\\textbackslash{}textbar\\{\\}C] 286167\n",
       "\\item[chrXI.G\\textbackslash{}textbar\\{\\}C] 253728\n",
       "\\item[chrXII.G\\textbackslash{}textbar\\{\\}C] 414843\n",
       "\\item[chrXIII.G\\textbackslash{}textbar\\{\\}C] 353167\n",
       "\\item[chrXIV.G\\textbackslash{}textbar\\{\\}C] 303042\n",
       "\\item[chrXV.G\\textbackslash{}textbar\\{\\}C] 416443\n",
       "\\item[chrXVI.G\\textbackslash{}textbar\\{\\}C] 360871\n",
       "\\item[chrM.G\\textbackslash{}textbar\\{\\}C] 14676\n",
       "\\item[2micron.G\\textbackslash{}textbar\\{\\}C] 2463\n",
       "\\end{description*}\n"
      ],
      "text/markdown": [
       "chrI.G|C\n",
       ":   90411chrII.G|C\n",
       ":   311807chrIII.G|C\n",
       ":   121998chrIV.G|C\n",
       ":   580699chrV.G|C\n",
       ":   222141chrVI.G|C\n",
       ":   104636chrVII.G|C\n",
       ":   415227chrVIII.G|C\n",
       ":   216586chrIX.G|C\n",
       ":   171122chrX.G|C\n",
       ":   286167chrXI.G|C\n",
       ":   253728chrXII.G|C\n",
       ":   414843chrXIII.G|C\n",
       ":   353167chrXIV.G|C\n",
       ":   303042chrXV.G|C\n",
       ":   416443chrXVI.G|C\n",
       ":   360871chrM.G|C\n",
       ":   146762micron.G|C\n",
       ":   2463\n",
       "\n"
      ],
      "text/plain": [
       "   chrI.G|C   chrII.G|C  chrIII.G|C   chrIV.G|C    chrV.G|C   chrVI.G|C \n",
       "      90411      311807      121998      580699      222141      104636 \n",
       " chrVII.G|C chrVIII.G|C   chrIX.G|C    chrX.G|C   chrXI.G|C  chrXII.G|C \n",
       "     415227      216586      171122      286167      253728      414843 \n",
       "chrXIII.G|C  chrXIV.G|C   chrXV.G|C  chrXVI.G|C    chrM.G|C 2micron.G|C \n",
       "     353167      303042      416443      360871       14676        2463 "
      ]
     },
     "metadata": {},
     "output_type": "display_data"
    }
   ],
   "source": [
    "param <- new(\"BSParams\", X = Scerevisiae, FUN = letterFrequency, simplify = TRUE)\n",
    "bsapply(param, letters = \"GC\")"
   ]
  },
  {
   "cell_type": "markdown",
   "metadata": {},
   "source": [
    "Note how the mitochondria chromosome is very different. To conclude, the GC percentage of the genome is\n"
   ]
  },
  {
   "cell_type": "code",
   "execution_count": 35,
   "metadata": {},
   "outputs": [
    {
     "data": {
      "text/html": [
       "0.381487207714876"
      ],
      "text/latex": [
       "0.381487207714876"
      ],
      "text/markdown": [
       "0.381487207714876"
      ],
      "text/plain": [
       "[1] 0.3814872"
      ]
     },
     "metadata": {},
     "output_type": "display_data"
    }
   ],
   "source": [
    "sum(bsapply(param, letters = \"GC\")) / sum(seqlengths(Scerevisiae))"
   ]
  },
  {
   "cell_type": "code",
   "execution_count": 36,
   "metadata": {},
   "outputs": [
    {
     "data": {
      "text/plain": [
       "R version 4.1.2 (2021-11-01)\n",
       "Platform: x86_64-w64-mingw32/x64 (64-bit)\n",
       "Running under: Windows 10 x64 (build 22543)\n",
       "\n",
       "Matrix products: default\n",
       "\n",
       "locale:\n",
       "[1] LC_COLLATE=English_United States.1252 \n",
       "[2] LC_CTYPE=English_United States.1252   \n",
       "[3] LC_MONETARY=English_United States.1252\n",
       "[4] LC_NUMERIC=C                          \n",
       "[5] LC_TIME=English_United States.1252    \n",
       "\n",
       "attached base packages:\n",
       "[1] stats4    parallel  stats     graphics  grDevices utils     datasets \n",
       "[8] methods   base     \n",
       "\n",
       "other attached packages:\n",
       " [1] BSgenome.Scerevisiae.UCSC.sacCer2_1.4.0\n",
       " [2] BSgenome_1.60.0                        \n",
       " [3] rtracklayer_1.52.1                     \n",
       " [4] GenomicRanges_1.44.0                   \n",
       " [5] Biostrings_2.60.2                      \n",
       " [6] GenomeInfoDb_1.28.4                    \n",
       " [7] XVector_0.32.0                         \n",
       " [8] IRanges_2.26.0                         \n",
       " [9] S4Vectors_0.30.2                       \n",
       "[10] BiocGenerics_0.38.0                    \n",
       "\n",
       "loaded via a namespace (and not attached):\n",
       " [1] BiocManager_1.30.16         pillar_1.6.5               \n",
       " [3] compiler_4.1.2              restfulr_0.0.13            \n",
       " [5] MatrixGenerics_1.4.3        base64enc_0.1-3            \n",
       " [7] bitops_1.0-7                tools_4.1.2                \n",
       " [9] zlibbioc_1.38.0             digest_0.6.27              \n",
       "[11] uuid_0.1-4                  lattice_0.20-45            \n",
       "[13] jsonlite_1.7.2              evaluate_0.14              \n",
       "[15] lifecycle_1.0.1             rlang_0.4.12               \n",
       "[17] Matrix_1.4-0                DelayedArray_0.18.0        \n",
       "[19] IRdisplay_1.1               IRkernel_1.3               \n",
       "[21] yaml_2.2.2                  fastmap_1.1.0              \n",
       "[23] GenomeInfoDbData_1.2.6      repr_1.1.4                 \n",
       "[25] vctrs_0.3.8                 grid_4.1.2                 \n",
       "[27] Biobase_2.52.0              glue_1.4.2                 \n",
       "[29] fansi_1.0.2                 BiocParallel_1.26.2        \n",
       "[31] XML_3.99-0.8                pbdZMQ_0.3-6               \n",
       "[33] matrixStats_0.61.0          GenomicAlignments_1.28.0   \n",
       "[35] Rsamtools_2.8.0             ellipsis_0.3.2             \n",
       "[37] htmltools_0.5.2             SummarizedExperiment_1.22.0\n",
       "[39] utf8_1.2.2                  RCurl_1.98-1.5             \n",
       "[41] crayon_1.4.2                rjson_0.2.21               \n",
       "[43] BiocIO_1.2.0               "
      ]
     },
     "metadata": {},
     "output_type": "display_data"
    }
   ],
   "source": [
    "sessionInfo()"
   ]
  },
  {
   "cell_type": "markdown",
   "metadata": {},
   "source": [
    "## Biostrings - Matching"
   ]
  },
  {
   "cell_type": "code",
   "execution_count": 37,
   "metadata": {},
   "outputs": [],
   "source": [
    "library(Biostrings)\n",
    "library(BSgenome)\n",
    "library(BSgenome.Scerevisiae.UCSC.sacCer2)"
   ]
  },
  {
   "cell_type": "markdown",
   "metadata": {},
   "source": [
    "### Pattern matching\n",
    "\n",
    "We often want to find patterns in (long) sequences. Biostrings have a number of functions for doing so\n",
    "\n",
    "- matchPattern and vmatchPattern: match a single sequence against one sequence (matchPattern) or more than one (vmatchPattern) sequences.\n",
    "- matchPDict and vmatchPDict: match a (possibly large) set of sequences against one sequence (matchPDict) or more than one (vmatchPDict) sequences.\n",
    "These functions allows a small set of mismatches and some small indels. The Dict term is used because the function builds a “dictionary” over the sequences.\n",
    "\n",
    "There are also functions with similar naming using count instead of match (eg. countPatterns). These functions returns the number of matches instead of precise information about where the matches occur.\n",
    "\n",
    "In many ways, these functions are similar to using short read aligners like Bowtie. But these functions are designed to be comprehensive (return all matches satisfying certain criteria). Having this functionality available in Bioconductor can sometimes be very useful."
   ]
  },
  {
   "cell_type": "code",
   "execution_count": 38,
   "metadata": {},
   "outputs": [
    {
     "data": {
      "text/plain": [
       "Views on a 230208-letter DNAString subject\n",
       "subject: \u001b[47m\u001b[30mC\u001b[39m\u001b[49m\u001b[47m\u001b[30mC\u001b[39m\u001b[49m\u001b[47m\u001b[30mA\u001b[39m\u001b[49m\u001b[47m\u001b[30mC\u001b[39m\u001b[49m\u001b[47m\u001b[30mA\u001b[39m\u001b[49m\u001b[47m\u001b[30mC\u001b[39m\u001b[49m\u001b[47m\u001b[30mC\u001b[39m\u001b[49m\u001b[47m\u001b[30mA\u001b[39m\u001b[49m\u001b[47m\u001b[30mC\u001b[39m\u001b[49m\u001b[47m\u001b[30mA\u001b[39m\u001b[49m\u001b[47m\u001b[30mC\u001b[39m\u001b[49m\u001b[47m\u001b[30mC\u001b[39m\u001b[49m\u001b[47m\u001b[30mC\u001b[39m\u001b[49m\u001b[47m\u001b[30mA\u001b[39m\u001b[49m\u001b[47m\u001b[30mC\u001b[39m\u001b[49m\u001b[47m\u001b[30mA\u001b[39m\u001b[49m\u001b[47m\u001b[30mC\u001b[39m\u001b[49m\u001b[47m\u001b[30mA\u001b[39m\u001b[49m\u001b[47m\u001b[30mC\u001b[39m\u001b[49m\u001b[47m\u001b[30mC\u001b[39m\u001b[49m\u001b[47m\u001b[30mC\u001b[39m\u001b[49m\u001b[47m\u001b[30mA\u001b[39m\u001b[49m\u001b[47m\u001b[30mC\u001b[39m\u001b[49m\u001b[47m\u001b[30mA\u001b[39m\u001b[49m\u001b[47m\u001b[30mC\u001b[39m\u001b[49m\u001b[47m\u001b[30mA\u001b[39m\u001b[49m\u001b[47m\u001b[30mC\u001b[39m\u001b[49m\u001b[47m\u001b[30mC\u001b[39m\u001b[49m\u001b[47m\u001b[30mA\u001b[39m\u001b[49m\u001b[47m\u001b[30mC\u001b[39m\u001b[49m\u001b[47m\u001b[30mA\u001b[39m\u001b[49m\u001b[47m\u001b[30mC\u001b[39m\u001b[49m\u001b[47m\u001b[30mC\u001b[39m\u001b[49m\u001b[47m\u001b[30mA\u001b[39m\u001b[49m...\u001b[47m\u001b[30mT\u001b[39m\u001b[49m\u001b[47m\u001b[30mG\u001b[39m\u001b[49m\u001b[47m\u001b[30mT\u001b[39m\u001b[49m\u001b[47m\u001b[30mG\u001b[39m\u001b[49m\u001b[47m\u001b[30mT\u001b[39m\u001b[49m\u001b[47m\u001b[30mG\u001b[39m\u001b[49m\u001b[47m\u001b[30mG\u001b[39m\u001b[49m\u001b[47m\u001b[30mG\u001b[39m\u001b[49m\u001b[47m\u001b[30mT\u001b[39m\u001b[49m\u001b[47m\u001b[30mG\u001b[39m\u001b[49m\u001b[47m\u001b[30mT\u001b[39m\u001b[49m\u001b[47m\u001b[30mG\u001b[39m\u001b[49m\u001b[47m\u001b[30mG\u001b[39m\u001b[49m\u001b[47m\u001b[30mT\u001b[39m\u001b[49m\u001b[47m\u001b[30mG\u001b[39m\u001b[49m\u001b[47m\u001b[30mT\u001b[39m\u001b[49m\u001b[47m\u001b[30mG\u001b[39m\u001b[49m\u001b[47m\u001b[30mG\u001b[39m\u001b[49m\u001b[47m\u001b[30mG\u001b[39m\u001b[49m\u001b[47m\u001b[30mT\u001b[39m\u001b[49m\u001b[47m\u001b[30mG\u001b[39m\u001b[49m\u001b[47m\u001b[30mT\u001b[39m\u001b[49m\u001b[47m\u001b[30mG\u001b[39m\u001b[49m\u001b[47m\u001b[30mG\u001b[39m\u001b[49m\u001b[47m\u001b[30mT\u001b[39m\u001b[49m\u001b[47m\u001b[30mG\u001b[39m\u001b[49m\u001b[47m\u001b[30mT\u001b[39m\u001b[49m\u001b[47m\u001b[30mG\u001b[39m\u001b[49m\u001b[47m\u001b[30mT\u001b[39m\u001b[49m\u001b[47m\u001b[30mG\u001b[39m\u001b[49m\u001b[47m\u001b[30mT\u001b[39m\u001b[49m\u001b[47m\u001b[30mG\u001b[39m\u001b[49m\u001b[47m\u001b[30mG\u001b[39m\u001b[49m\u001b[47m\u001b[30mG\u001b[39m\u001b[49m\n",
       "views:\n",
       "      start   end width\n",
       "  [1] 57932 57939     8 [\u001b[47m\u001b[30mA\u001b[39m\u001b[49m\u001b[47m\u001b[30mC\u001b[39m\u001b[49m\u001b[47m\u001b[30mG\u001b[39m\u001b[49m\u001b[47m\u001b[30mT\u001b[39m\u001b[49m\u001b[47m\u001b[30mA\u001b[39m\u001b[49m\u001b[47m\u001b[30mC\u001b[39m\u001b[49m\u001b[47m\u001b[30mG\u001b[39m\u001b[49m\u001b[47m\u001b[30mT\u001b[39m\u001b[49m]"
      ]
     },
     "metadata": {},
     "output_type": "display_data"
    }
   ],
   "source": [
    "dnaseq <- DNAString(\"ACGTACGT\")\n",
    "matchPattern(dnaseq, Scerevisiae$chrI)"
   ]
  },
  {
   "cell_type": "code",
   "execution_count": 39,
   "metadata": {},
   "outputs": [
    {
     "data": {
      "text/html": [
       "1"
      ],
      "text/latex": [
       "1"
      ],
      "text/markdown": [
       "1"
      ],
      "text/plain": [
       "[1] 1"
      ]
     },
     "metadata": {},
     "output_type": "display_data"
    }
   ],
   "source": [
    "countPattern(dnaseq, Scerevisiae$chrI)"
   ]
  },
  {
   "cell_type": "code",
   "execution_count": 40,
   "metadata": {},
   "outputs": [
    {
     "data": {
      "text/plain": [
       "GRanges object with 170 ranges and 0 metadata columns:\n",
       "        seqnames        ranges strand\n",
       "           <Rle>     <IRanges>  <Rle>\n",
       "    [1]     chrI   57932-57939      +\n",
       "    [2]     chrI   57932-57939      -\n",
       "    [3]    chrII   49581-49588      +\n",
       "    [4]    chrII 411291-411298      +\n",
       "    [5]    chrII 491129-491136      +\n",
       "    ...      ...           ...    ...\n",
       "  [166]   chrXVI 195477-195484      -\n",
       "  [167]   chrXVI 683620-683627      -\n",
       "  [168]   chrXVI 837296-837303      -\n",
       "  [169]   chrXVI 906938-906945      -\n",
       "  [170]   chrXVI 943045-943052      -\n",
       "  -------\n",
       "  seqinfo: 18 sequences (2 circular) from sacCer2 genome"
      ]
     },
     "metadata": {},
     "output_type": "display_data"
    }
   ],
   "source": [
    "vmatchPattern(dnaseq, Scerevisiae)"
   ]
  },
  {
   "cell_type": "code",
   "execution_count": 41,
   "metadata": {},
   "outputs": [
    {
     "data": {
      "text/html": [
       "<table class=\"dataframe\">\n",
       "<caption>A data.frame: 6 × 3</caption>\n",
       "<thead>\n",
       "\t<tr><th></th><th scope=col>seqname</th><th scope=col>strand</th><th scope=col>count</th></tr>\n",
       "\t<tr><th></th><th scope=col>&lt;fct&gt;</th><th scope=col>&lt;fct&gt;</th><th scope=col>&lt;int&gt;</th></tr>\n",
       "</thead>\n",
       "<tbody>\n",
       "\t<tr><th scope=row>1</th><td>chrI  </td><td>+</td><td>1</td></tr>\n",
       "\t<tr><th scope=row>2</th><td>chrI  </td><td>-</td><td>1</td></tr>\n",
       "\t<tr><th scope=row>3</th><td>chrII </td><td>+</td><td>4</td></tr>\n",
       "\t<tr><th scope=row>4</th><td>chrII </td><td>-</td><td>4</td></tr>\n",
       "\t<tr><th scope=row>5</th><td>chrIII</td><td>+</td><td>3</td></tr>\n",
       "\t<tr><th scope=row>6</th><td>chrIII</td><td>-</td><td>3</td></tr>\n",
       "</tbody>\n",
       "</table>\n"
      ],
      "text/latex": [
       "A data.frame: 6 × 3\n",
       "\\begin{tabular}{r|lll}\n",
       "  & seqname & strand & count\\\\\n",
       "  & <fct> & <fct> & <int>\\\\\n",
       "\\hline\n",
       "\t1 & chrI   & + & 1\\\\\n",
       "\t2 & chrI   & - & 1\\\\\n",
       "\t3 & chrII  & + & 4\\\\\n",
       "\t4 & chrII  & - & 4\\\\\n",
       "\t5 & chrIII & + & 3\\\\\n",
       "\t6 & chrIII & - & 3\\\\\n",
       "\\end{tabular}\n"
      ],
      "text/markdown": [
       "\n",
       "A data.frame: 6 × 3\n",
       "\n",
       "| <!--/--> | seqname &lt;fct&gt; | strand &lt;fct&gt; | count &lt;int&gt; |\n",
       "|---|---|---|---|\n",
       "| 1 | chrI   | + | 1 |\n",
       "| 2 | chrI   | - | 1 |\n",
       "| 3 | chrII  | + | 4 |\n",
       "| 4 | chrII  | - | 4 |\n",
       "| 5 | chrIII | + | 3 |\n",
       "| 6 | chrIII | - | 3 |\n",
       "\n"
      ],
      "text/plain": [
       "  seqname strand count\n",
       "1 chrI    +      1    \n",
       "2 chrI    -      1    \n",
       "3 chrII   +      4    \n",
       "4 chrII   -      4    \n",
       "5 chrIII  +      3    \n",
       "6 chrIII  -      3    "
      ]
     },
     "metadata": {},
     "output_type": "display_data"
    }
   ],
   "source": [
    "head(vcountPattern(dnaseq, Scerevisiae))"
   ]
  },
  {
   "cell_type": "markdown",
   "metadata": {},
   "source": [
    "See how we use vmatchPattern to examine across all chromosomes.\n",
    "\n",
    "First, note how the return object of vmatchPattern is a GRanges given the exact information of where the string matches. Note sequence we search for is its own reverse complement, so we get hits on both strands (which makes sense). Obviously, not all sequences are like this"
   ]
  },
  {
   "cell_type": "code",
   "execution_count": 42,
   "metadata": {},
   "outputs": [
    {
     "data": {
      "text/html": [
       "TRUE"
      ],
      "text/latex": [
       "TRUE"
      ],
      "text/markdown": [
       "TRUE"
      ],
      "text/plain": [
       "[1] TRUE"
      ]
     },
     "metadata": {},
     "output_type": "display_data"
    }
   ],
   "source": [
    "dnaseq == reverseComplement(dnaseq)"
   ]
  },
  {
   "cell_type": "markdown",
   "metadata": {},
   "source": [
    "Second, note how the return object of matchPattern looks like an IRanges but is really something called a Views (see another session)."
   ]
  },
  {
   "cell_type": "markdown",
   "metadata": {},
   "source": [
    "### Specialized alignments\n",
    "\n",
    "There are a number of other, specialized, alignment functions in Biostrings. They include\n",
    "\n",
    "- `matchPWM`: a position weight matrix is a common way to represent for example a transcription factor binding motif (think sequence logos). This function allows you to search for such motifs in the genome.\n",
    "- `pairwiseAlignment`: This function implements pairwise alignments using dynamic programming; providing an interface to both the Smith-Waterman local alignment problem and the Needleman-Wunsch global alignment problems, see a thorough description in (Durbin et al. 1998).\n",
    "- ` trimLRpattern` (trim left-right pattern): Takes a set of sequences and looks for whether they start or end with a given (other sequence), for example a sequencing adapter. Used for trimming reads based on adapter sequences.\n",
    "For now, we will avoid further discussion of these functions.\n",
    "\n",
    "One note: pairwiseAlignment allows you to do pairwise alignments of millions of short reads against a single sequence, for example a gene or a transposable element. Few people use these algorithms for short read data, because the algorithms scale badly with the length of the sequence (ie. the genome), but they work fine for millions of reads as long as the reference sequence is short. In my opinion this approach might be very fruitful if you are particular interested in high-quality alignments to a specific small gene or region of the genome."
   ]
  },
  {
   "cell_type": "code",
   "execution_count": 43,
   "metadata": {},
   "outputs": [
    {
     "data": {
      "text/plain": [
       "R version 4.1.2 (2021-11-01)\n",
       "Platform: x86_64-w64-mingw32/x64 (64-bit)\n",
       "Running under: Windows 10 x64 (build 22543)\n",
       "\n",
       "Matrix products: default\n",
       "\n",
       "locale:\n",
       "[1] LC_COLLATE=English_United States.1252 \n",
       "[2] LC_CTYPE=English_United States.1252   \n",
       "[3] LC_MONETARY=English_United States.1252\n",
       "[4] LC_NUMERIC=C                          \n",
       "[5] LC_TIME=English_United States.1252    \n",
       "\n",
       "attached base packages:\n",
       "[1] stats4    parallel  stats     graphics  grDevices utils     datasets \n",
       "[8] methods   base     \n",
       "\n",
       "other attached packages:\n",
       " [1] BSgenome.Scerevisiae.UCSC.sacCer2_1.4.0\n",
       " [2] BSgenome_1.60.0                        \n",
       " [3] rtracklayer_1.52.1                     \n",
       " [4] GenomicRanges_1.44.0                   \n",
       " [5] Biostrings_2.60.2                      \n",
       " [6] GenomeInfoDb_1.28.4                    \n",
       " [7] XVector_0.32.0                         \n",
       " [8] IRanges_2.26.0                         \n",
       " [9] S4Vectors_0.30.2                       \n",
       "[10] BiocGenerics_0.38.0                    \n",
       "\n",
       "loaded via a namespace (and not attached):\n",
       " [1] BiocManager_1.30.16         pillar_1.6.5               \n",
       " [3] compiler_4.1.2              restfulr_0.0.13            \n",
       " [5] MatrixGenerics_1.4.3        base64enc_0.1-3            \n",
       " [7] bitops_1.0-7                tools_4.1.2                \n",
       " [9] zlibbioc_1.38.0             digest_0.6.27              \n",
       "[11] uuid_0.1-4                  lattice_0.20-45            \n",
       "[13] jsonlite_1.7.2              evaluate_0.14              \n",
       "[15] lifecycle_1.0.1             rlang_0.4.12               \n",
       "[17] Matrix_1.4-0                DelayedArray_0.18.0        \n",
       "[19] IRdisplay_1.1               IRkernel_1.3               \n",
       "[21] yaml_2.2.2                  fastmap_1.1.0              \n",
       "[23] GenomeInfoDbData_1.2.6      repr_1.1.4                 \n",
       "[25] vctrs_0.3.8                 grid_4.1.2                 \n",
       "[27] Biobase_2.52.0              glue_1.4.2                 \n",
       "[29] fansi_1.0.2                 BiocParallel_1.26.2        \n",
       "[31] XML_3.99-0.8                pbdZMQ_0.3-6               \n",
       "[33] matrixStats_0.61.0          GenomicAlignments_1.28.0   \n",
       "[35] Rsamtools_2.8.0             ellipsis_0.3.2             \n",
       "[37] htmltools_0.5.2             SummarizedExperiment_1.22.0\n",
       "[39] utf8_1.2.2                  RCurl_1.98-1.5             \n",
       "[41] crayon_1.4.2                rjson_0.2.21               \n",
       "[43] BiocIO_1.2.0               "
      ]
     },
     "metadata": {},
     "output_type": "display_data"
    }
   ],
   "source": [
    "sessionInfo()"
   ]
  },
  {
   "cell_type": "code",
   "execution_count": null,
   "metadata": {},
   "outputs": [],
   "source": []
  }
 ],
 "metadata": {
  "kernelspec": {
   "display_name": "R",
   "language": "R",
   "name": "python3102jvsc74a57bd055db829a23e27f1a4129460ab65de434bf1fc9efa4ae0ce0afb72d96498ad818"
  },
  "language_info": {
   "codemirror_mode": "r",
   "file_extension": ".r",
   "mimetype": "text/x-r-source",
   "name": "R",
   "pygments_lexer": "r",
   "version": "4.1.2"
  },
  "orig_nbformat": 4
 },
 "nbformat": 4,
 "nbformat_minor": 2
}
