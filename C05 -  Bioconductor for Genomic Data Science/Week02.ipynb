{
 "cells": [
  {
   "cell_type": "markdown",
   "metadata": {},
   "source": [
    "# Week 02 : Working with BioStrings"
   ]
  },
  {
   "cell_type": "markdown",
   "metadata": {},
   "source": [
    "## [Biostrings](https://bioconductor.org/packages/release/bioc/html/Biostrings.html)\n",
    "The Biostrings package contains classes and functions for representing biological strings such as DNA, RNA and amino acids. In addition the package has functionality for pattern matching (short read alignment) as well as a pairwise alignment function implementing Smith-Waterman local alignments and Needleman-Wunsch global alignments used in classic sequence alignment (see (Durbin et al. 1998) for a description of these algorithms). There are also functions for reading and writing output such as FASTA files."
   ]
  },
  {
   "cell_type": "markdown",
   "metadata": {},
   "source": [
    "### Dependencies"
   ]
  },
  {
   "cell_type": "code",
   "execution_count": 2,
   "metadata": {},
   "outputs": [],
   "source": [
    "if (!require(\"BiocManager\", quietly = TRUE))\n",
    "    install.packages(\"BiocManager\")\n",
    "\n",
    "BiocManager::install(\"Biostrings\")\n",
    "\n"
   ]
  },
  {
   "cell_type": "code",
   "execution_count": 3,
   "metadata": {},
   "outputs": [],
   "source": [
    "library(Biostrings)"
   ]
  },
  {
   "cell_type": "markdown",
   "metadata": {},
   "source": [
    "### Representing sequences\n",
    "There are two basic types of containers for representing strings. One container represents a single string (say a chromosome or a single short read) and the other container represents a set of strings (say a set of short reads). There are different classes intended to represent different types of sequences such as DNA or RNA sequences."
   ]
  },
  {
   "cell_type": "code",
   "execution_count": 4,
   "metadata": {},
   "outputs": [
    {
     "data": {
      "text/plain": [
       "6-letter DNAString object\n",
       "seq: \u001b[47m\u001b[30mA\u001b[39m\u001b[49m\u001b[47m\u001b[30mC\u001b[39m\u001b[49m\u001b[47m\u001b[30mG\u001b[39m\u001b[49m\u001b[47m\u001b[30mT\u001b[39m\u001b[49m-\u001b[47m\u001b[37mN\u001b[39m\u001b[49m"
      ]
     },
     "metadata": {},
     "output_type": "display_data"
    }
   ],
   "source": [
    "dna1 <- DNAString(\"ACGT-N\")\n",
    "dna1"
   ]
  },
  {
   "cell_type": "code",
   "execution_count": 5,
   "metadata": {},
   "outputs": [
    {
     "ename": "ERROR",
     "evalue": "Error in .Call2(\"new_XString_from_CHARACTER\", class(x0), string, start, : key 69 (char 'E') not in lookup table\n",
     "output_type": "error",
     "traceback": [
      "Error in .Call2(\"new_XString_from_CHARACTER\", class(x0), string, start, : key 69 (char 'E') not in lookup table\nTraceback:\n",
      "1. DNAStringSet(\"ADE\")",
      "2. XStringSet(\"DNA\", x, start = start, end = end, width = width, \n .     use.names = use.names)",
      "3. XStringSet(\"DNA\", x, start = start, end = end, width = width, \n .     use.names = use.names)",
      "4. .charToXStringSet(seqtype, x, start, end, width, use.names)",
      "5. .oneSeqToXStringSet(seqtype, strings, start, end, width, use.names)",
      "6. XString(seqtype, x)",
      "7. XString(seqtype, x)",
      "8. .charToXString(seqtype, x, start, end, width)",
      "9. make_XString_from_string(x0, string, start(solved_SEW), width(solved_SEW))",
      "10. make_XString_from_string(x0, string, start(solved_SEW), width(solved_SEW))",
      "11. .Call2(\"new_XString_from_CHARACTER\", class(x0), string, start, \n  .     width, lkup, PACKAGE = \"Biostrings\")"
     ]
    }
   ],
   "source": [
    "DNAStringSet(\"ADE\")"
   ]
  },
  {
   "cell_type": "code",
   "execution_count": 6,
   "metadata": {},
   "outputs": [
    {
     "data": {
      "text/plain": [
       "DNAStringSet object of length 3:\n",
       "    width seq\n",
       "[1]     4 \u001b[47m\u001b[30mA\u001b[39m\u001b[49m\u001b[47m\u001b[30mC\u001b[39m\u001b[49m\u001b[47m\u001b[30mG\u001b[39m\u001b[49m\u001b[47m\u001b[30mT\u001b[39m\u001b[49m\n",
       "[2]     4 \u001b[47m\u001b[30mG\u001b[39m\u001b[49m\u001b[47m\u001b[30mT\u001b[39m\u001b[49m\u001b[47m\u001b[30mC\u001b[39m\u001b[49m\u001b[47m\u001b[30mA\u001b[39m\u001b[49m\n",
       "[3]     4 \u001b[47m\u001b[30mG\u001b[39m\u001b[49m\u001b[47m\u001b[30mC\u001b[39m\u001b[49m\u001b[47m\u001b[30mT\u001b[39m\u001b[49m\u001b[47m\u001b[30mA\u001b[39m\u001b[49m"
      ]
     },
     "metadata": {},
     "output_type": "display_data"
    }
   ],
   "source": [
    "dna2 <- DNAStringSet(c(\"ACGT\", \"GTCA\", \"GCTA\"))\n",
    "dna2"
   ]
  },
  {
   "cell_type": "markdown",
   "metadata": {},
   "source": [
    "Note that the alphabet of a DNAString is an extended alphabet: - (for insertion) and N are allowed. In fact, IUPAC codes are allowed (these codes represent different characters, for example the code “M” represents either and “A” or a “C”). A list of IUPAC codes can be obtained by"
   ]
  },
  {
   "cell_type": "code",
   "execution_count": 7,
   "metadata": {},
   "outputs": [
    {
     "data": {
      "text/html": [
       "<style>\n",
       ".dl-inline {width: auto; margin:0; padding: 0}\n",
       ".dl-inline>dt, .dl-inline>dd {float: none; width: auto; display: inline-block}\n",
       ".dl-inline>dt::after {content: \":\\0020\"; padding-right: .5ex}\n",
       ".dl-inline>dt:not(:first-of-type) {padding-left: .5ex}\n",
       "</style><dl class=dl-inline><dt>A</dt><dd>'A'</dd><dt>C</dt><dd>'C'</dd><dt>G</dt><dd>'G'</dd><dt>T</dt><dd>'T'</dd><dt>M</dt><dd>'AC'</dd><dt>R</dt><dd>'AG'</dd><dt>W</dt><dd>'AT'</dd><dt>S</dt><dd>'CG'</dd><dt>Y</dt><dd>'CT'</dd><dt>K</dt><dd>'GT'</dd><dt>V</dt><dd>'ACG'</dd><dt>H</dt><dd>'ACT'</dd><dt>D</dt><dd>'AGT'</dd><dt>B</dt><dd>'CGT'</dd><dt>N</dt><dd>'ACGT'</dd></dl>\n"
      ],
      "text/latex": [
       "\\begin{description*}\n",
       "\\item[A] 'A'\n",
       "\\item[C] 'C'\n",
       "\\item[G] 'G'\n",
       "\\item[T] 'T'\n",
       "\\item[M] 'AC'\n",
       "\\item[R] 'AG'\n",
       "\\item[W] 'AT'\n",
       "\\item[S] 'CG'\n",
       "\\item[Y] 'CT'\n",
       "\\item[K] 'GT'\n",
       "\\item[V] 'ACG'\n",
       "\\item[H] 'ACT'\n",
       "\\item[D] 'AGT'\n",
       "\\item[B] 'CGT'\n",
       "\\item[N] 'ACGT'\n",
       "\\end{description*}\n"
      ],
      "text/markdown": [
       "A\n",
       ":   'A'C\n",
       ":   'C'G\n",
       ":   'G'T\n",
       ":   'T'M\n",
       ":   'AC'R\n",
       ":   'AG'W\n",
       ":   'AT'S\n",
       ":   'CG'Y\n",
       ":   'CT'K\n",
       ":   'GT'V\n",
       ":   'ACG'H\n",
       ":   'ACT'D\n",
       ":   'AGT'B\n",
       ":   'CGT'N\n",
       ":   'ACGT'\n",
       "\n"
      ],
      "text/plain": [
       "     A      C      G      T      M      R      W      S      Y      K      V \n",
       "   \"A\"    \"C\"    \"G\"    \"T\"   \"AC\"   \"AG\"   \"AT\"   \"CG\"   \"CT\"   \"GT\"  \"ACG\" \n",
       "     H      D      B      N \n",
       " \"ACT\"  \"AGT\"  \"CGT\" \"ACGT\" "
      ]
     },
     "metadata": {},
     "output_type": "display_data"
    }
   ],
   "source": [
    "IUPAC_CODE_MAP"
   ]
  },
  {
   "cell_type": "markdown",
   "metadata": {},
   "source": [
    "Indexing into a DNAString retrieves a subsequence (similar to the standard R function substr), whereas indexing into a DNAStringSet gives you a subset of sequences."
   ]
  },
  {
   "cell_type": "code",
   "execution_count": 8,
   "metadata": {},
   "outputs": [
    {
     "data": {
      "text/plain": [
       "3-letter DNAString object\n",
       "seq: \u001b[47m\u001b[30mC\u001b[39m\u001b[49m\u001b[47m\u001b[30mG\u001b[39m\u001b[49m\u001b[47m\u001b[30mT\u001b[39m\u001b[49m"
      ]
     },
     "metadata": {},
     "output_type": "display_data"
    }
   ],
   "source": [
    "dna1[2:4]"
   ]
  },
  {
   "cell_type": "code",
   "execution_count": 9,
   "metadata": {},
   "outputs": [
    {
     "data": {
      "text/plain": [
       "DNAStringSet object of length 2:\n",
       "    width seq\n",
       "[1]     4 \u001b[47m\u001b[30mG\u001b[39m\u001b[49m\u001b[47m\u001b[30mT\u001b[39m\u001b[49m\u001b[47m\u001b[30mC\u001b[39m\u001b[49m\u001b[47m\u001b[30mA\u001b[39m\u001b[49m\n",
       "[2]     4 \u001b[47m\u001b[30mG\u001b[39m\u001b[49m\u001b[47m\u001b[30mC\u001b[39m\u001b[49m\u001b[47m\u001b[30mT\u001b[39m\u001b[49m\u001b[47m\u001b[30mA\u001b[39m\u001b[49m"
      ]
     },
     "metadata": {},
     "output_type": "display_data"
    }
   ],
   "source": [
    "dna2[2:3]"
   ]
  },
  {
   "cell_type": "markdown",
   "metadata": {},
   "source": [
    "Note that `[[` allows you to get a single element of a DNAStringSet as a DNAString. This is very similar to `[` and `[[` for lists."
   ]
  },
  {
   "cell_type": "code",
   "execution_count": 10,
   "metadata": {},
   "outputs": [
    {
     "data": {
      "text/plain": [
       "4-letter DNAString object\n",
       "seq: \u001b[47m\u001b[30mG\u001b[39m\u001b[49m\u001b[47m\u001b[30mT\u001b[39m\u001b[49m\u001b[47m\u001b[30mC\u001b[39m\u001b[49m\u001b[47m\u001b[30mA\u001b[39m\u001b[49m"
      ]
     },
     "metadata": {},
     "output_type": "display_data"
    }
   ],
   "source": [
    "dna2[[2]] "
   ]
  },
  {
   "cell_type": "code",
   "execution_count": 11,
   "metadata": {},
   "outputs": [
    {
     "data": {
      "text/plain": [
       "DNAStringSet object of length 3:\n",
       "    width seq                                               names               \n",
       "[1]     4 \u001b[47m\u001b[30mA\u001b[39m\u001b[49m\u001b[47m\u001b[30mC\u001b[39m\u001b[49m\u001b[47m\u001b[30mG\u001b[39m\u001b[49m\u001b[47m\u001b[30mT\u001b[39m\u001b[49m                                              seq1\n",
       "[2]     4 \u001b[47m\u001b[30mG\u001b[39m\u001b[49m\u001b[47m\u001b[30mT\u001b[39m\u001b[49m\u001b[47m\u001b[30mC\u001b[39m\u001b[49m\u001b[47m\u001b[30mA\u001b[39m\u001b[49m                                              seq2\n",
       "[3]     4 \u001b[47m\u001b[30mG\u001b[39m\u001b[49m\u001b[47m\u001b[30mC\u001b[39m\u001b[49m\u001b[47m\u001b[30mT\u001b[39m\u001b[49m\u001b[47m\u001b[30mA\u001b[39m\u001b[49m                                              seq3"
      ]
     },
     "metadata": {},
     "output_type": "display_data"
    }
   ],
   "source": [
    "# DNAStringSet objects can have names, like ordinary vectors\n",
    "names(dna2) <- paste0(\"seq\", 1:3)\n",
    "dna2"
   ]
  },
  {
   "cell_type": "markdown",
   "metadata": {},
   "source": [
    "**The full set of string classes are**\n",
    "\n",
    "- `DNAString`[Set]: DNA sequences.\n",
    "- `RNAString`[Set]: RNA sequences.\n",
    "- `AAString`[Set]: Amino Acids sequences (protein).\n",
    "- `BString`[Set]: “Big” sequences, using any kind of letter.\n",
    "In addition you will often see references to `XString`[Set] in the documentation. An `XString`[Set] is basically any of the above classes.\n",
    "\n",
    "These classes seem very similar to standard characters() from base R, but there are important differences. The differences are mostly about efficiencies when you deal with either (a) many sequences or (b) very long strings (think whole chromosomes)."
   ]
  },
  {
   "cell_type": "markdown",
   "metadata": {},
   "source": [
    "### Basic functionality\n",
    "\n",
    "Basic character functionality is supported, like\n",
    "\n",
    "- `length`, `names`.\n",
    "- `c` and `rev` (reverse the sequence).\n",
    "- `width`, `nchar` (number of characters in each sequence).\n",
    "- `==`, `duplicated`, `unique`.\n",
    "- `as.charcater` or `toString`: converts to a base character() vector.\n",
    "- `sort`, `order`.\n",
    "- `chartr`: convert some letters into other letters.\n",
    "- `subseq`, subseq<-, extractAt, replaceAt.\n",
    "- `replaceLetterAt`."
   ]
  },
  {
   "cell_type": "code",
   "execution_count": 12,
   "metadata": {},
   "outputs": [
    {
     "data": {
      "text/html": [
       "<style>\n",
       ".list-inline {list-style: none; margin:0; padding: 0}\n",
       ".list-inline>li {display: inline-block}\n",
       ".list-inline>li:not(:last-child)::after {content: \"\\00b7\"; padding: 0 .5ex}\n",
       "</style>\n",
       "<ol class=list-inline><li>4</li><li>4</li><li>4</li></ol>\n"
      ],
      "text/latex": [
       "\\begin{enumerate*}\n",
       "\\item 4\n",
       "\\item 4\n",
       "\\item 4\n",
       "\\end{enumerate*}\n"
      ],
      "text/markdown": [
       "1. 4\n",
       "2. 4\n",
       "3. 4\n",
       "\n",
       "\n"
      ],
      "text/plain": [
       "[1] 4 4 4"
      ]
     },
     "metadata": {},
     "output_type": "display_data"
    }
   ],
   "source": [
    "width(dna2)"
   ]
  },
  {
   "cell_type": "code",
   "execution_count": 13,
   "metadata": {},
   "outputs": [
    {
     "data": {
      "text/plain": [
       "DNAStringSet object of length 3:\n",
       "    width seq                                               names               \n",
       "[1]     4 \u001b[47m\u001b[30mA\u001b[39m\u001b[49m\u001b[47m\u001b[30mC\u001b[39m\u001b[49m\u001b[47m\u001b[30mG\u001b[39m\u001b[49m\u001b[47m\u001b[30mT\u001b[39m\u001b[49m                                              seq1\n",
       "[2]     4 \u001b[47m\u001b[30mG\u001b[39m\u001b[49m\u001b[47m\u001b[30mC\u001b[39m\u001b[49m\u001b[47m\u001b[30mT\u001b[39m\u001b[49m\u001b[47m\u001b[30mA\u001b[39m\u001b[49m                                              seq3\n",
       "[3]     4 \u001b[47m\u001b[30mG\u001b[39m\u001b[49m\u001b[47m\u001b[30mT\u001b[39m\u001b[49m\u001b[47m\u001b[30mC\u001b[39m\u001b[49m\u001b[47m\u001b[30mA\u001b[39m\u001b[49m                                              seq2"
      ]
     },
     "metadata": {},
     "output_type": "display_data"
    }
   ],
   "source": [
    "sort(dna2)"
   ]
  },
  {
   "cell_type": "markdown",
   "metadata": {},
   "source": [
    "**Note that `rev` on a `DNAStringSet` just reverse the order of the elements, whereas rev on a DNAString actually reverse the string.**"
   ]
  },
  {
   "cell_type": "code",
   "execution_count": 15,
   "metadata": {},
   "outputs": [
    {
     "data": {
      "text/plain": [
       "DNAStringSet object of length 3:\n",
       "    width seq                                               names               \n",
       "[1]     4 \u001b[47m\u001b[30mG\u001b[39m\u001b[49m\u001b[47m\u001b[30mC\u001b[39m\u001b[49m\u001b[47m\u001b[30mT\u001b[39m\u001b[49m\u001b[47m\u001b[30mA\u001b[39m\u001b[49m                                              seq3\n",
       "[2]     4 \u001b[47m\u001b[30mG\u001b[39m\u001b[49m\u001b[47m\u001b[30mT\u001b[39m\u001b[49m\u001b[47m\u001b[30mC\u001b[39m\u001b[49m\u001b[47m\u001b[30mA\u001b[39m\u001b[49m                                              seq2\n",
       "[3]     4 \u001b[47m\u001b[30mA\u001b[39m\u001b[49m\u001b[47m\u001b[30mC\u001b[39m\u001b[49m\u001b[47m\u001b[30mG\u001b[39m\u001b[49m\u001b[47m\u001b[30mT\u001b[39m\u001b[49m                                              seq1"
      ]
     },
     "metadata": {},
     "output_type": "display_data"
    }
   ],
   "source": [
    "rev(dna2)"
   ]
  },
  {
   "cell_type": "code",
   "execution_count": 16,
   "metadata": {},
   "outputs": [
    {
     "data": {
      "text/plain": [
       "6-letter DNAString object\n",
       "seq: \u001b[47m\u001b[37mN\u001b[39m\u001b[49m-\u001b[47m\u001b[30mT\u001b[39m\u001b[49m\u001b[47m\u001b[30mG\u001b[39m\u001b[49m\u001b[47m\u001b[30mC\u001b[39m\u001b[49m\u001b[47m\u001b[30mA\u001b[39m\u001b[49m"
      ]
     },
     "metadata": {},
     "output_type": "display_data"
    }
   ],
   "source": [
    "rev(dna1)"
   ]
  },
  {
   "cell_type": "markdown",
   "metadata": {},
   "source": [
    "### Biological functionality\n",
    "\n",
    "There are also functions which are related to the biological interpretation of the sequences, including\n",
    "\n",
    "- `reverse`: reverse the sequence.\n",
    "- `complement`, `reverseComplement`: (reverse) complement the sequence.\n",
    "- `translate`: translate the DNA or RNA sequence into amino acids."
   ]
  },
  {
   "cell_type": "code",
   "execution_count": 17,
   "metadata": {},
   "outputs": [
    {
     "name": "stderr",
     "output_type": "stream",
     "text": [
      "Warning message in .Call2(\"DNAStringSet_translate\", x, skip_code, dna_codes[codon_alphabet], :\n",
      "\"in 'x[[1]]': last base was ignored\"\n",
      "Warning message in .Call2(\"DNAStringSet_translate\", x, skip_code, dna_codes[codon_alphabet], :\n",
      "\"in 'x[[2]]': last base was ignored\"\n",
      "Warning message in .Call2(\"DNAStringSet_translate\", x, skip_code, dna_codes[codon_alphabet], :\n",
      "\"in 'x[[3]]': last base was ignored\"\n"
     ]
    },
    {
     "data": {
      "text/plain": [
       "AAStringSet object of length 3:\n",
       "    width seq                                               names               \n",
       "[1]     1 T                                                 seq1\n",
       "[2]     1 V                                                 seq2\n",
       "[3]     1 A                                                 seq3"
      ]
     },
     "metadata": {},
     "output_type": "display_data"
    }
   ],
   "source": [
    "translate(dna2)"
   ]
  },
  {
   "cell_type": "code",
   "execution_count": 18,
   "metadata": {},
   "outputs": [
    {
     "data": {
      "text/plain": [
       "6-letter DNAString object\n",
       "seq: \u001b[47m\u001b[37mN\u001b[39m\u001b[49m-\u001b[47m\u001b[30mA\u001b[39m\u001b[49m\u001b[47m\u001b[30mC\u001b[39m\u001b[49m\u001b[47m\u001b[30mG\u001b[39m\u001b[49m\u001b[47m\u001b[30mT\u001b[39m\u001b[49m"
      ]
     },
     "metadata": {},
     "output_type": "display_data"
    }
   ],
   "source": [
    "reverseComplement(dna1)"
   ]
  },
  {
   "cell_type": "markdown",
   "metadata": {},
   "source": [
    "### Counting letters"
   ]
  },
  {
   "cell_type": "markdown",
   "metadata": {},
   "source": [
    "We very often want to count sequences in various ways. Examples include:\n",
    "\n",
    "- Compute the GC content of a set of sequences.\n",
    "- Compute the frequencies of dinucleotides in a set of sequences.\n",
    "- Compute a position weight matrix from a set of aligned sequences.\n",
    "\n",
    "There is a rich set of functions for doing this quickly.\n",
    "\n",
    "- alphabetFrequency, letterFrequency: Compute the frequency of all characters (alphabetFrequency) or only specific letters (letterFrequency).\n",
    "- dinucleotideFrequency, trinucleotideFrequency, oligonucleotideFrequeny: compute frequencies of dinucleotides (2 bases), trinucleotides (3 bases) and oligonucleotides (general number of bases).\n",
    "- letterFrequencyInSlidingView: letter frequencies, but in sliding views along the string.\n",
    "- consensusMatrix: consensus matrix; almost a position weight matrix.\n",
    "  \n",
    "Let’s look at some examples, note how the output expands to a matrix when you use the functions on a DNAStringSet:"
   ]
  },
  {
   "cell_type": "code",
   "execution_count": 19,
   "metadata": {},
   "outputs": [
    {
     "data": {
      "text/html": [
       "<style>\n",
       ".dl-inline {width: auto; margin:0; padding: 0}\n",
       ".dl-inline>dt, .dl-inline>dd {float: none; width: auto; display: inline-block}\n",
       ".dl-inline>dt::after {content: \":\\0020\"; padding-right: .5ex}\n",
       ".dl-inline>dt:not(:first-of-type) {padding-left: .5ex}\n",
       "</style><dl class=dl-inline><dt>A</dt><dd>1</dd><dt>C</dt><dd>1</dd><dt>G</dt><dd>1</dd><dt>T</dt><dd>1</dd><dt>M</dt><dd>0</dd><dt>R</dt><dd>0</dd><dt>W</dt><dd>0</dd><dt>S</dt><dd>0</dd><dt>Y</dt><dd>0</dd><dt>K</dt><dd>0</dd><dt>V</dt><dd>0</dd><dt>H</dt><dd>0</dd><dt>D</dt><dd>0</dd><dt>B</dt><dd>0</dd><dt>N</dt><dd>1</dd><dt>-</dt><dd>1</dd><dt>+</dt><dd>0</dd><dt>.</dt><dd>0</dd></dl>\n"
      ],
      "text/latex": [
       "\\begin{description*}\n",
       "\\item[A] 1\n",
       "\\item[C] 1\n",
       "\\item[G] 1\n",
       "\\item[T] 1\n",
       "\\item[M] 0\n",
       "\\item[R] 0\n",
       "\\item[W] 0\n",
       "\\item[S] 0\n",
       "\\item[Y] 0\n",
       "\\item[K] 0\n",
       "\\item[V] 0\n",
       "\\item[H] 0\n",
       "\\item[D] 0\n",
       "\\item[B] 0\n",
       "\\item[N] 1\n",
       "\\item[-] 1\n",
       "\\item[+] 0\n",
       "\\item[.] 0\n",
       "\\end{description*}\n"
      ],
      "text/markdown": [
       "A\n",
       ":   1C\n",
       ":   1G\n",
       ":   1T\n",
       ":   1M\n",
       ":   0R\n",
       ":   0W\n",
       ":   0S\n",
       ":   0Y\n",
       ":   0K\n",
       ":   0V\n",
       ":   0H\n",
       ":   0D\n",
       ":   0B\n",
       ":   0N\n",
       ":   1-\n",
       ":   1+\n",
       ":   0.\n",
       ":   0\n",
       "\n"
      ],
      "text/plain": [
       "A C G T M R W S Y K V H D B N - + . \n",
       "1 1 1 1 0 0 0 0 0 0 0 0 0 0 1 1 0 0 "
      ]
     },
     "metadata": {},
     "output_type": "display_data"
    }
   ],
   "source": [
    "alphabetFrequency(dna1)"
   ]
  },
  {
   "cell_type": "code",
   "execution_count": 20,
   "metadata": {},
   "outputs": [
    {
     "data": {
      "text/html": [
       "<table class=\"dataframe\">\n",
       "<caption>A matrix: 3 × 18 of type int</caption>\n",
       "<thead>\n",
       "\t<tr><th scope=col>A</th><th scope=col>C</th><th scope=col>G</th><th scope=col>T</th><th scope=col>M</th><th scope=col>R</th><th scope=col>W</th><th scope=col>S</th><th scope=col>Y</th><th scope=col>K</th><th scope=col>V</th><th scope=col>H</th><th scope=col>D</th><th scope=col>B</th><th scope=col>N</th><th scope=col>-</th><th scope=col>+</th><th scope=col>.</th></tr>\n",
       "</thead>\n",
       "<tbody>\n",
       "\t<tr><td>1</td><td>1</td><td>1</td><td>1</td><td>0</td><td>0</td><td>0</td><td>0</td><td>0</td><td>0</td><td>0</td><td>0</td><td>0</td><td>0</td><td>0</td><td>0</td><td>0</td><td>0</td></tr>\n",
       "\t<tr><td>1</td><td>1</td><td>1</td><td>1</td><td>0</td><td>0</td><td>0</td><td>0</td><td>0</td><td>0</td><td>0</td><td>0</td><td>0</td><td>0</td><td>0</td><td>0</td><td>0</td><td>0</td></tr>\n",
       "\t<tr><td>1</td><td>1</td><td>1</td><td>1</td><td>0</td><td>0</td><td>0</td><td>0</td><td>0</td><td>0</td><td>0</td><td>0</td><td>0</td><td>0</td><td>0</td><td>0</td><td>0</td><td>0</td></tr>\n",
       "</tbody>\n",
       "</table>\n"
      ],
      "text/latex": [
       "A matrix: 3 × 18 of type int\n",
       "\\begin{tabular}{llllllllllllllllll}\n",
       " A & C & G & T & M & R & W & S & Y & K & V & H & D & B & N & - & + & .\\\\\n",
       "\\hline\n",
       "\t 1 & 1 & 1 & 1 & 0 & 0 & 0 & 0 & 0 & 0 & 0 & 0 & 0 & 0 & 0 & 0 & 0 & 0\\\\\n",
       "\t 1 & 1 & 1 & 1 & 0 & 0 & 0 & 0 & 0 & 0 & 0 & 0 & 0 & 0 & 0 & 0 & 0 & 0\\\\\n",
       "\t 1 & 1 & 1 & 1 & 0 & 0 & 0 & 0 & 0 & 0 & 0 & 0 & 0 & 0 & 0 & 0 & 0 & 0\\\\\n",
       "\\end{tabular}\n"
      ],
      "text/markdown": [
       "\n",
       "A matrix: 3 × 18 of type int\n",
       "\n",
       "| A | C | G | T | M | R | W | S | Y | K | V | H | D | B | N | - | + | . |\n",
       "|---|---|---|---|---|---|---|---|---|---|---|---|---|---|---|---|---|---|\n",
       "| 1 | 1 | 1 | 1 | 0 | 0 | 0 | 0 | 0 | 0 | 0 | 0 | 0 | 0 | 0 | 0 | 0 | 0 |\n",
       "| 1 | 1 | 1 | 1 | 0 | 0 | 0 | 0 | 0 | 0 | 0 | 0 | 0 | 0 | 0 | 0 | 0 | 0 |\n",
       "| 1 | 1 | 1 | 1 | 0 | 0 | 0 | 0 | 0 | 0 | 0 | 0 | 0 | 0 | 0 | 0 | 0 | 0 |\n",
       "\n"
      ],
      "text/plain": [
       "     A C G T M R W S Y K V H D B N - + .\n",
       "[1,] 1 1 1 1 0 0 0 0 0 0 0 0 0 0 0 0 0 0\n",
       "[2,] 1 1 1 1 0 0 0 0 0 0 0 0 0 0 0 0 0 0\n",
       "[3,] 1 1 1 1 0 0 0 0 0 0 0 0 0 0 0 0 0 0"
      ]
     },
     "metadata": {},
     "output_type": "display_data"
    }
   ],
   "source": [
    "alphabetFrequency(dna2)"
   ]
  },
  {
   "cell_type": "code",
   "execution_count": 21,
   "metadata": {},
   "outputs": [
    {
     "data": {
      "text/html": [
       "<table class=\"dataframe\">\n",
       "<caption>A matrix: 3 × 1 of type int</caption>\n",
       "<thead>\n",
       "\t<tr><th scope=col>G|C</th></tr>\n",
       "</thead>\n",
       "<tbody>\n",
       "\t<tr><td>2</td></tr>\n",
       "\t<tr><td>2</td></tr>\n",
       "\t<tr><td>2</td></tr>\n",
       "</tbody>\n",
       "</table>\n"
      ],
      "text/latex": [
       "A matrix: 3 × 1 of type int\n",
       "\\begin{tabular}{l}\n",
       " G\\textbar{}C\\\\\n",
       "\\hline\n",
       "\t 2\\\\\n",
       "\t 2\\\\\n",
       "\t 2\\\\\n",
       "\\end{tabular}\n"
      ],
      "text/markdown": [
       "\n",
       "A matrix: 3 × 1 of type int\n",
       "\n",
       "| G|C |\n",
       "|---|\n",
       "| 2 |\n",
       "| 2 |\n",
       "| 2 |\n",
       "\n"
      ],
      "text/plain": [
       "     G|C\n",
       "[1,] 2  \n",
       "[2,] 2  \n",
       "[3,] 2  "
      ]
     },
     "metadata": {},
     "output_type": "display_data"
    }
   ],
   "source": [
    "letterFrequency(dna2, \"GC\")"
   ]
  },
  {
   "cell_type": "code",
   "execution_count": 22,
   "metadata": {},
   "outputs": [
    {
     "data": {
      "text/html": [
       "<table class=\"dataframe\">\n",
       "<caption>A matrix: 18 × 4 of type dbl</caption>\n",
       "<tbody>\n",
       "\t<tr><th scope=row>A</th><td>0.3333333</td><td>0.0000000</td><td>0.0000000</td><td>0.6666667</td></tr>\n",
       "\t<tr><th scope=row>C</th><td>0.0000000</td><td>0.6666667</td><td>0.3333333</td><td>0.0000000</td></tr>\n",
       "\t<tr><th scope=row>G</th><td>0.6666667</td><td>0.0000000</td><td>0.3333333</td><td>0.0000000</td></tr>\n",
       "\t<tr><th scope=row>T</th><td>0.0000000</td><td>0.3333333</td><td>0.3333333</td><td>0.3333333</td></tr>\n",
       "\t<tr><th scope=row>M</th><td>0.0000000</td><td>0.0000000</td><td>0.0000000</td><td>0.0000000</td></tr>\n",
       "\t<tr><th scope=row>R</th><td>0.0000000</td><td>0.0000000</td><td>0.0000000</td><td>0.0000000</td></tr>\n",
       "\t<tr><th scope=row>W</th><td>0.0000000</td><td>0.0000000</td><td>0.0000000</td><td>0.0000000</td></tr>\n",
       "\t<tr><th scope=row>S</th><td>0.0000000</td><td>0.0000000</td><td>0.0000000</td><td>0.0000000</td></tr>\n",
       "\t<tr><th scope=row>Y</th><td>0.0000000</td><td>0.0000000</td><td>0.0000000</td><td>0.0000000</td></tr>\n",
       "\t<tr><th scope=row>K</th><td>0.0000000</td><td>0.0000000</td><td>0.0000000</td><td>0.0000000</td></tr>\n",
       "\t<tr><th scope=row>V</th><td>0.0000000</td><td>0.0000000</td><td>0.0000000</td><td>0.0000000</td></tr>\n",
       "\t<tr><th scope=row>H</th><td>0.0000000</td><td>0.0000000</td><td>0.0000000</td><td>0.0000000</td></tr>\n",
       "\t<tr><th scope=row>D</th><td>0.0000000</td><td>0.0000000</td><td>0.0000000</td><td>0.0000000</td></tr>\n",
       "\t<tr><th scope=row>B</th><td>0.0000000</td><td>0.0000000</td><td>0.0000000</td><td>0.0000000</td></tr>\n",
       "\t<tr><th scope=row>N</th><td>0.0000000</td><td>0.0000000</td><td>0.0000000</td><td>0.0000000</td></tr>\n",
       "\t<tr><th scope=row>-</th><td>0.0000000</td><td>0.0000000</td><td>0.0000000</td><td>0.0000000</td></tr>\n",
       "\t<tr><th scope=row>+</th><td>0.0000000</td><td>0.0000000</td><td>0.0000000</td><td>0.0000000</td></tr>\n",
       "\t<tr><th scope=row>.</th><td>0.0000000</td><td>0.0000000</td><td>0.0000000</td><td>0.0000000</td></tr>\n",
       "</tbody>\n",
       "</table>\n"
      ],
      "text/latex": [
       "A matrix: 18 × 4 of type dbl\n",
       "\\begin{tabular}{r|llll}\n",
       "\tA & 0.3333333 & 0.0000000 & 0.0000000 & 0.6666667\\\\\n",
       "\tC & 0.0000000 & 0.6666667 & 0.3333333 & 0.0000000\\\\\n",
       "\tG & 0.6666667 & 0.0000000 & 0.3333333 & 0.0000000\\\\\n",
       "\tT & 0.0000000 & 0.3333333 & 0.3333333 & 0.3333333\\\\\n",
       "\tM & 0.0000000 & 0.0000000 & 0.0000000 & 0.0000000\\\\\n",
       "\tR & 0.0000000 & 0.0000000 & 0.0000000 & 0.0000000\\\\\n",
       "\tW & 0.0000000 & 0.0000000 & 0.0000000 & 0.0000000\\\\\n",
       "\tS & 0.0000000 & 0.0000000 & 0.0000000 & 0.0000000\\\\\n",
       "\tY & 0.0000000 & 0.0000000 & 0.0000000 & 0.0000000\\\\\n",
       "\tK & 0.0000000 & 0.0000000 & 0.0000000 & 0.0000000\\\\\n",
       "\tV & 0.0000000 & 0.0000000 & 0.0000000 & 0.0000000\\\\\n",
       "\tH & 0.0000000 & 0.0000000 & 0.0000000 & 0.0000000\\\\\n",
       "\tD & 0.0000000 & 0.0000000 & 0.0000000 & 0.0000000\\\\\n",
       "\tB & 0.0000000 & 0.0000000 & 0.0000000 & 0.0000000\\\\\n",
       "\tN & 0.0000000 & 0.0000000 & 0.0000000 & 0.0000000\\\\\n",
       "\t- & 0.0000000 & 0.0000000 & 0.0000000 & 0.0000000\\\\\n",
       "\t+ & 0.0000000 & 0.0000000 & 0.0000000 & 0.0000000\\\\\n",
       "\t. & 0.0000000 & 0.0000000 & 0.0000000 & 0.0000000\\\\\n",
       "\\end{tabular}\n"
      ],
      "text/markdown": [
       "\n",
       "A matrix: 18 × 4 of type dbl\n",
       "\n",
       "| A | 0.3333333 | 0.0000000 | 0.0000000 | 0.6666667 |\n",
       "| C | 0.0000000 | 0.6666667 | 0.3333333 | 0.0000000 |\n",
       "| G | 0.6666667 | 0.0000000 | 0.3333333 | 0.0000000 |\n",
       "| T | 0.0000000 | 0.3333333 | 0.3333333 | 0.3333333 |\n",
       "| M | 0.0000000 | 0.0000000 | 0.0000000 | 0.0000000 |\n",
       "| R | 0.0000000 | 0.0000000 | 0.0000000 | 0.0000000 |\n",
       "| W | 0.0000000 | 0.0000000 | 0.0000000 | 0.0000000 |\n",
       "| S | 0.0000000 | 0.0000000 | 0.0000000 | 0.0000000 |\n",
       "| Y | 0.0000000 | 0.0000000 | 0.0000000 | 0.0000000 |\n",
       "| K | 0.0000000 | 0.0000000 | 0.0000000 | 0.0000000 |\n",
       "| V | 0.0000000 | 0.0000000 | 0.0000000 | 0.0000000 |\n",
       "| H | 0.0000000 | 0.0000000 | 0.0000000 | 0.0000000 |\n",
       "| D | 0.0000000 | 0.0000000 | 0.0000000 | 0.0000000 |\n",
       "| B | 0.0000000 | 0.0000000 | 0.0000000 | 0.0000000 |\n",
       "| N | 0.0000000 | 0.0000000 | 0.0000000 | 0.0000000 |\n",
       "| - | 0.0000000 | 0.0000000 | 0.0000000 | 0.0000000 |\n",
       "| + | 0.0000000 | 0.0000000 | 0.0000000 | 0.0000000 |\n",
       "| . | 0.0000000 | 0.0000000 | 0.0000000 | 0.0000000 |\n",
       "\n"
      ],
      "text/plain": [
       "  [,1]      [,2]      [,3]      [,4]     \n",
       "A 0.3333333 0.0000000 0.0000000 0.6666667\n",
       "C 0.0000000 0.6666667 0.3333333 0.0000000\n",
       "G 0.6666667 0.0000000 0.3333333 0.0000000\n",
       "T 0.0000000 0.3333333 0.3333333 0.3333333\n",
       "M 0.0000000 0.0000000 0.0000000 0.0000000\n",
       "R 0.0000000 0.0000000 0.0000000 0.0000000\n",
       "W 0.0000000 0.0000000 0.0000000 0.0000000\n",
       "S 0.0000000 0.0000000 0.0000000 0.0000000\n",
       "Y 0.0000000 0.0000000 0.0000000 0.0000000\n",
       "K 0.0000000 0.0000000 0.0000000 0.0000000\n",
       "V 0.0000000 0.0000000 0.0000000 0.0000000\n",
       "H 0.0000000 0.0000000 0.0000000 0.0000000\n",
       "D 0.0000000 0.0000000 0.0000000 0.0000000\n",
       "B 0.0000000 0.0000000 0.0000000 0.0000000\n",
       "N 0.0000000 0.0000000 0.0000000 0.0000000\n",
       "- 0.0000000 0.0000000 0.0000000 0.0000000\n",
       "+ 0.0000000 0.0000000 0.0000000 0.0000000\n",
       ". 0.0000000 0.0000000 0.0000000 0.0000000"
      ]
     },
     "metadata": {},
     "output_type": "display_data"
    }
   ],
   "source": [
    "consensusMatrix(dna2, as.prob = TRUE)"
   ]
  },
  {
   "cell_type": "code",
   "execution_count": 23,
   "metadata": {},
   "outputs": [
    {
     "data": {
      "text/plain": [
       "R version 4.1.2 (2021-11-01)\n",
       "Platform: x86_64-w64-mingw32/x64 (64-bit)\n",
       "Running under: Windows 10 x64 (build 22543)\n",
       "\n",
       "Matrix products: default\n",
       "\n",
       "locale:\n",
       "[1] LC_COLLATE=English_United States.1252 \n",
       "[2] LC_CTYPE=English_United States.1252   \n",
       "[3] LC_MONETARY=English_United States.1252\n",
       "[4] LC_NUMERIC=C                          \n",
       "[5] LC_TIME=English_United States.1252    \n",
       "\n",
       "attached base packages:\n",
       "[1] stats4    parallel  stats     graphics  grDevices utils     datasets \n",
       "[8] methods   base     \n",
       "\n",
       "other attached packages:\n",
       "[1] Biostrings_2.60.2   GenomeInfoDb_1.28.4 XVector_0.32.0     \n",
       "[4] IRanges_2.26.0      S4Vectors_0.30.2    BiocGenerics_0.38.0\n",
       "\n",
       "loaded via a namespace (and not attached):\n",
       " [1] zlibbioc_1.38.0        uuid_0.1-4             rlang_0.4.12          \n",
       " [4] fastmap_1.1.0          fansi_1.0.2            tools_4.1.2           \n",
       " [7] utf8_1.2.2             htmltools_0.5.2        ellipsis_0.3.2        \n",
       "[10] digest_0.6.27          lifecycle_1.0.1        crayon_1.4.2          \n",
       "[13] GenomeInfoDbData_1.2.6 IRdisplay_1.1          repr_1.1.4            \n",
       "[16] bitops_1.0-7           base64enc_0.1-3        vctrs_0.3.8           \n",
       "[19] RCurl_1.98-1.5         IRkernel_1.3           glue_1.4.2            \n",
       "[22] evaluate_0.14          pbdZMQ_0.3-6           compiler_4.1.2        \n",
       "[25] pillar_1.6.5           jsonlite_1.7.2        "
      ]
     },
     "metadata": {},
     "output_type": "display_data"
    }
   ],
   "source": [
    "sessionInfo()"
   ]
  },
  {
   "cell_type": "code",
   "execution_count": null,
   "metadata": {},
   "outputs": [],
   "source": []
  }
 ],
 "metadata": {
  "kernelspec": {
   "display_name": "R",
   "language": "R",
   "name": "python3102jvsc74a57bd055db829a23e27f1a4129460ab65de434bf1fc9efa4ae0ce0afb72d96498ad818"
  },
  "language_info": {
   "codemirror_mode": "r",
   "file_extension": ".r",
   "mimetype": "text/x-r-source",
   "name": "R",
   "pygments_lexer": "r",
   "version": "4.1.2"
  },
  "orig_nbformat": 4
 },
 "nbformat": 4,
 "nbformat_minor": 2
}
