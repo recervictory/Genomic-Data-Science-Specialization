{
 "cells": [
  {
   "cell_type": "markdown",
   "metadata": {},
   "source": [
    "## Quiz 1"
   ]
  },
  {
   "cell_type": "code",
   "execution_count": 32,
   "metadata": {},
   "outputs": [],
   "source": [
    "\n",
    "library(rtracklayer)\n",
    "library(AnnotationHub)\n",
    "library(tidyverse)\n",
    "library(GenomicRanges)"
   ]
  },
  {
   "cell_type": "markdown",
   "metadata": {},
   "source": [
    "\n",
    "**Question 1**: Use the AnnotationHub package to obtain data on \"CpG Islands\" in the human genome."
   ]
  },
  {
   "cell_type": "code",
   "execution_count": 6,
   "metadata": {},
   "outputs": [
    {
     "name": "stderr",
     "output_type": "stream",
     "text": [
      "snapshotDate(): 2021-05-18\n",
      "\n"
     ]
    }
   ],
   "source": [
    "# Create annotation hub object\n",
    "ah <- AnnotationHub()"
   ]
  },
  {
   "cell_type": "code",
   "execution_count": 22,
   "metadata": {},
   "outputs": [
    {
     "data": {
      "text/plain": [
       "AnnotationHub with 4 records\n",
       "# snapshotDate(): 2021-05-18\n",
       "# $dataprovider: UCSC\n",
       "# $species: Homo sapiens\n",
       "# $rdataclass: GRanges\n",
       "# additional mcols(): taxonomyid, genome, description,\n",
       "#   coordinate_1_based, maintainer, rdatadateadded, preparerclass, tags,\n",
       "#   rdatapath, sourceurl, sourcetype \n",
       "# retrieve records with, e.g., 'object[[\"AH5086\"]]' \n",
       "\n",
       "           title      \n",
       "  AH5086 | CpG Islands\n",
       "  AH5204 | CpG Islands\n",
       "  AH5344 | CpG Islands\n",
       "  AH5463 | CpG Islands"
      ]
     },
     "metadata": {},
     "output_type": "display_data"
    }
   ],
   "source": [
    "# retrive CpG Island Data\n",
    "ah.human <- subset(ah,species == \"Homo sapiens\")\n",
    "ah.human.cpg <- query(ah.human, \"CpG Islands\")\n",
    "ah.human.cpg"
   ]
  },
  {
   "cell_type": "code",
   "execution_count": 23,
   "metadata": {},
   "outputs": [
    {
     "name": "stderr",
     "output_type": "stream",
     "text": [
      "loading from cache\n",
      "\n"
     ]
    },
    {
     "data": {
      "text/plain": [
       "GRanges object with 28691 ranges and 1 metadata column:\n",
       "                       seqnames        ranges strand |        name\n",
       "                          <Rle>     <IRanges>  <Rle> | <character>\n",
       "      [1]                  chr1   28736-29810      * |    CpG:_116\n",
       "      [2]                  chr1 135125-135563      * |     CpG:_30\n",
       "      [3]                  chr1 327791-328229      * |     CpG:_29\n",
       "      [4]                  chr1 437152-438164      * |     CpG:_84\n",
       "      [5]                  chr1 449274-450544      * |     CpG:_99\n",
       "      ...                   ...           ...    ... .         ...\n",
       "  [28687]  chr9_gl000201_random   15651-15909      * |     CpG:_30\n",
       "  [28688]  chr9_gl000201_random   26397-26873      * |     CpG:_43\n",
       "  [28689] chr11_gl000202_random   16284-16540      * |     CpG:_23\n",
       "  [28690] chr17_gl000204_random   54686-57368      * |    CpG:_228\n",
       "  [28691] chr17_gl000205_random 117501-117801      * |     CpG:_23\n",
       "  -------\n",
       "  seqinfo: 93 sequences (1 circular) from hg19 genome"
      ]
     },
     "metadata": {},
     "output_type": "display_data"
    }
   ],
   "source": [
    "ah.human.cpg.AH5086 <- ah.human.cpg[[\"AH5086\"]]\n",
    "ah.human.cpg.AH5086"
   ]
  },
  {
   "cell_type": "code",
   "execution_count": 13,
   "metadata": {},
   "outputs": [
    {
     "data": {
      "text/plain": [
       "factor-Rle of length 28691 with 69 runs\n",
       "  Lengths:                  2462 ...                     1\n",
       "  Values :        chr1           ... chr17_gl000205_random\n",
       "Levels(93): chr1 chr2 chr3 ... chrUn_gl000247 chrUn_gl000248 chrUn_gl000249"
      ]
     },
     "metadata": {},
     "output_type": "display_data"
    }
   ],
   "source": [
    "seqnames(ah.human.cpg.AH5086) # all chromosome sequence names in the GRanges Object"
   ]
  },
  {
   "cell_type": "code",
   "execution_count": 25,
   "metadata": {},
   "outputs": [
    {
     "data": {
      "text/plain": [
       "GRangesList object of length 93:\n",
       "$chr1\n",
       "GRanges object with 2462 ranges and 1 metadata column:\n",
       "         seqnames              ranges strand |        name\n",
       "            <Rle>           <IRanges>  <Rle> | <character>\n",
       "     [1]     chr1         28736-29810      * |    CpG:_116\n",
       "     [2]     chr1       135125-135563      * |     CpG:_30\n",
       "     [3]     chr1       327791-328229      * |     CpG:_29\n",
       "     [4]     chr1       437152-438164      * |     CpG:_84\n",
       "     [5]     chr1       449274-450544      * |     CpG:_99\n",
       "     ...      ...                 ...    ... .         ...\n",
       "  [2458]     chr1 249132081-249133310      * |    CpG:_130\n",
       "  [2459]     chr1 249141564-249142796      * |    CpG:_145\n",
       "  [2460]     chr1 249152412-249153419      * |     CpG:_86\n",
       "  [2461]     chr1 249167409-249168010      * |     CpG:_48\n",
       "  [2462]     chr1 249200253-249200721      * |     CpG:_58\n",
       "  -------\n",
       "  seqinfo: 93 sequences (1 circular) from hg19 genome\n",
       "\n",
       "...\n",
       "<92 more elements>"
      ]
     },
     "metadata": {},
     "output_type": "display_data"
    }
   ],
   "source": [
    "# Split GRanges by SeqNames, retuen GRangeslist object where e\n",
    "ah.human.cpg.AH5086.splitBySeqNames <- split(ah.human.cpg.AH5086,seqnames(ah.human.cpg.AH5086))\n",
    "ah.human.cpg.AH5086.splitBySeqNames"
   ]
  },
  {
   "cell_type": "code",
   "execution_count": 26,
   "metadata": {},
   "outputs": [
    {
     "data": {
      "text/plain": [
       "GRanges object with 26641 ranges and 1 metadata column:\n",
       "        seqnames            ranges strand |        name\n",
       "           <Rle>         <IRanges>  <Rle> | <character>\n",
       "   chr1     chr1       28736-29810      * |    CpG:_116\n",
       "   chr1     chr1     135125-135563      * |     CpG:_30\n",
       "   chr1     chr1     327791-328229      * |     CpG:_29\n",
       "   chr1     chr1     437152-438164      * |     CpG:_84\n",
       "   chr1     chr1     449274-450544      * |     CpG:_99\n",
       "    ...      ...               ...    ... .         ...\n",
       "  chr22    chr22 51135671-51136118      * |     CpG:_44\n",
       "  chr22    chr22 51142803-51143308      * |     CpG:_38\n",
       "  chr22    chr22 51158387-51160060      * |    CpG:_167\n",
       "  chr22    chr22 51169028-51170019      * |     CpG:_81\n",
       "  chr22    chr22 51221773-51222317      * |     CpG:_63\n",
       "  -------\n",
       "  seqinfo: 93 sequences (1 circular) from hg19 genome"
      ]
     },
     "metadata": {},
     "output_type": "display_data"
    }
   ],
   "source": [
    "autsome.Names <- c(paste(\"chr\", 1:22, sep=\"\"))\n",
    "autosomes <- ah.human.cpg.AH5086.splitBySeqNames[autsome.Names]\n",
    "unlist(autosomes)"
   ]
  },
  {
   "cell_type": "code",
   "execution_count": 16,
   "metadata": {},
   "outputs": [
    {
     "name": "stderr",
     "output_type": "stream",
     "text": [
      "Loading required package: regioneR\n",
      "\n"
     ]
    },
    {
     "data": {
      "image/png": "[encoded data removed]",
      "text/plain": [
       "plot without title"
      ]
     },
     "metadata": {
      "image/png": {
       "height": 420,
       "width": 420
      }
     },
     "output_type": "display_data"
    }
   ],
   "source": [
    "#BiocManager::install(\"karyoploteR\")\n",
    "library(karyoploteR)\n",
    "kp <- plotKaryotype()\n",
    "kpPlotRegions(kp, data= unlist(autosomes))"
   ]
  },
  {
   "cell_type": "markdown",
   "metadata": {},
   "source": [
    "**Question 2.** How many CpG Islands exists on chromosome 4."
   ]
  },
  {
   "cell_type": "code",
   "execution_count": 23,
   "metadata": {},
   "outputs": [
    {
     "data": {
      "text/plain": [
       "GRangesList object of length 1:\n",
       "$chr4\n",
       "GRanges object with 1031 ranges and 1 metadata column:\n",
       "         seqnames              ranges strand |        name\n",
       "            <Rle>           <IRanges>  <Rle> | <character>\n",
       "     [1]     chr4         53199-53672      * |     CpG:_46\n",
       "     [2]     chr4       107147-107898      * |     CpG:_89\n",
       "     [3]     chr4       124333-124841      * |     CpG:_37\n",
       "     [4]     chr4       206378-206892      * |     CpG:_49\n",
       "     [5]     chr4       298804-299312      * |     CpG:_47\n",
       "     ...      ...                 ...    ... .         ...\n",
       "  [1027]     chr4 190939802-190940591      * |     CpG:_69\n",
       "  [1028]     chr4 190942735-190944898      * |    CpG:_196\n",
       "  [1029]     chr4 190959045-190960011      * |     CpG:_72\n",
       "  [1030]     chr4 190962112-190962689      * |     CpG:_59\n",
       "  [1031]     chr4 190986383-191013609      * |   CpG:_2005\n",
       "  -------\n",
       "  seqinfo: 93 sequences (1 circular) from hg19 genome\n"
      ]
     },
     "metadata": {},
     "output_type": "display_data"
    }
   ],
   "source": [
    "autosomes[4]"
   ]
  },
  {
   "cell_type": "markdown",
   "metadata": {},
   "source": [
    "**Question 3**: Obtain the data for the H3K4me3 histone modification for the H1 cell line from Epigenomics Roadmap, using AnnotationHub. Subset these regions to only keep regions mapped to the autosomes (chromosomes 1 to 22). How many bases does these regions cover?"
   ]
  },
  {
   "cell_type": "code",
   "execution_count": 7,
   "metadata": {},
   "outputs": [
    {
     "data": {
      "text/plain": [
       "AnnotationHub with 1 record\n",
       "# snapshotDate(): 2021-05-18\n",
       "# names(): AH29884\n",
       "# $dataprovider: BroadInstitute\n",
       "# $species: Homo sapiens\n",
       "# $rdataclass: GRanges\n",
       "# $rdatadateadded: 2015-05-06\n",
       "# $title: E003-H3K4me3.narrowPeak.gz\n",
       "# $description: Narrow ChIP-seq peaks for consolidated epigenomes from Epige...\n",
       "# $taxonomyid: 9606\n",
       "# $genome: hg19\n",
       "# $sourcetype: BED\n",
       "# $sourceurl: http://egg2.wustl.edu/roadmap/data/byFileType/peaks/consolidat...\n",
       "# $sourcesize: 803904\n",
       "# $tags: c(\"EpigenomeRoadMap\", \"peaks\", \"consolidated\", \"narrowPeak\",\n",
       "#   \"E003\", \"ESC\", \"ESC.H1\", \"H1 Cells\") \n",
       "# retrieve record with 'object[[\"AH29884\"]]' "
      ]
     },
     "metadata": {},
     "output_type": "display_data"
    }
   ],
   "source": [
    "## retrieve the record\n",
    "ah.H3K4me3 <- query(ah, c(\"H3K4me3\", \"narrowpeak\", \"E003\")) # E003 = Embryonic Stem Cell \n",
    "ah.H3K4me3"
   ]
  },
  {
   "cell_type": "code",
   "execution_count": 8,
   "metadata": {},
   "outputs": [
    {
     "name": "stderr",
     "output_type": "stream",
     "text": [
      "loading from cache\n",
      "\n",
      "'getOption(\"repos\")' replaces Bioconductor standard repositories, see\n",
      "'?repositories' for details\n",
      "\n",
      "replacement repositories:\n",
      "    CRAN: https://cran.r-project.org\n",
      "\n",
      "\n"
     ]
    },
    {
     "data": {
      "text/plain": [
       "GRanges object with 42194 ranges and 6 metadata columns:\n",
       "          seqnames              ranges strand |        name     score\n",
       "             <Rle>           <IRanges>  <Rle> | <character> <numeric>\n",
       "      [1]    chr16   20751574-20753603      * |      Rank_1      3574\n",
       "      [2]     chr2   85764276-85768872      * |      Rank_2      3548\n",
       "      [3]     chr1 110879747-110884121      * |      Rank_3      3486\n",
       "      [4]    chr17   74730356-74735029      * |      Rank_4      3439\n",
       "      [5]     chr1 115298643-115301088      * |      Rank_5      3414\n",
       "      ...      ...                 ...    ... .         ...       ...\n",
       "  [42190]    chr10 125730091-125730283      * |  Rank_42190        20\n",
       "  [42191]     chr7   72934005-72934138      * |  Rank_42191        20\n",
       "  [42192]     chr9   74373873-74374012      * |  Rank_42192        20\n",
       "  [42193]    chr19   18718610-18718743      * |  Rank_42193        20\n",
       "  [42194]    chr15   90775616-90775749      * |  Rank_42194        20\n",
       "          signalValue    pValue    qValue      peak\n",
       "            <numeric> <numeric> <numeric> <numeric>\n",
       "      [1]     84.8156   357.442   348.553      1415\n",
       "      [2]     71.3336   354.874   346.614      2158\n",
       "      [3]     80.6891   348.623   340.971      2449\n",
       "      [4]     76.6061   343.984   336.485      2717\n",
       "      [5]     73.0162   341.453   334.019      1736\n",
       "      ...         ...       ...       ...       ...\n",
       "  [42190]     1.78200   2.02869   0.19768         1\n",
       "  [42191]     1.78200   2.02869   0.19768       130\n",
       "  [42192]     1.78200   2.02869   0.19768         0\n",
       "  [42193]     2.17057   2.02333   0.19237        74\n",
       "  [42194]     2.16085   2.00951   0.17888        60\n",
       "  -------\n",
       "  seqinfo: 298 sequences (2 circular) from hg19 genome"
      ]
     },
     "metadata": {},
     "output_type": "display_data"
    }
   ],
   "source": [
    "## retriever record narrowpeak\n",
    "ah.H3K4me3.AH29884 <- ah.H3K4me3[[\"AH29884\"]]\n",
    "ah.H3K4me3.AH29884"
   ]
  },
  {
   "cell_type": "code",
   "execution_count": 10,
   "metadata": {},
   "outputs": [],
   "source": [
    "## extract autosomes\n",
    "autsome.Names <- c(paste(\"chr\", 1:22, sep=\"\"))\n",
    "H3K4me3.splitBySeqNames <- split(ah.H3K4me3.AH29884, seqnames(ah.H3K4me3.AH29884))\n",
    "H3K4me3.autosomes <- H3K4me3.splitBySeqNames[autsome.Names]\n"
   ]
  },
  {
   "cell_type": "code",
   "execution_count": 34,
   "metadata": {},
   "outputs": [
    {
     "data": {
      "text/html": [
       "41135164"
      ],
      "text/latex": [
       "41135164"
      ],
      "text/markdown": [
       "41135164"
      ],
      "text/plain": [
       "[1] 41135164"
      ]
     },
     "metadata": {},
     "output_type": "display_data"
    }
   ],
   "source": [
    "## check the number of regions cover\n",
    "sum(width(unlist(H3K4me3.autosomes)))"
   ]
  },
  {
   "cell_type": "code",
   "execution_count": 25,
   "metadata": {},
   "outputs": [
    {
     "data": {
      "image/png": "[encoded data removed]",
      "text/plain": [
       "plot without title"
      ]
     },
     "metadata": {
      "image/png": {
       "height": 420,
       "width": 420
      }
     },
     "output_type": "display_data"
    }
   ],
   "source": [
    "# H3K4me3 pattern in Embryonic Stem Cell (E003) autosome\n",
    "library(karyoploteR)\n",
    "kp <- plotKaryotype()\n",
    "kpPlotRegions(kp, data= unlist(H3K4me3.autosomes))"
   ]
  },
  {
   "cell_type": "markdown",
   "metadata": {},
   "source": [
    "**Question 4** Obtain the data for the H3K27me3 histone modification for the H1 cell line from Epigenomics Roadmap, using the AnnotationHub package. Subset these regions to only keep regions mapped to the autosomes. In the return data, each region has an associated \"signalValue\". \n",
    "\n",
    "What is the mean signalValue across all regions on the standard chromosomes?"
   ]
  },
  {
   "cell_type": "code",
   "execution_count": 11,
   "metadata": {},
   "outputs": [
    {
     "data": {
      "text/plain": [
       "AnnotationHub with 1 record\n",
       "# snapshotDate(): 2021-05-18\n",
       "# names(): AH29892\n",
       "# $dataprovider: BroadInstitute\n",
       "# $species: Homo sapiens\n",
       "# $rdataclass: GRanges\n",
       "# $rdatadateadded: 2015-05-06\n",
       "# $title: E003-H3K27me3.narrowPeak.gz\n",
       "# $description: Narrow ChIP-seq peaks for consolidated epigenomes from Epige...\n",
       "# $taxonomyid: 9606\n",
       "# $genome: hg19\n",
       "# $sourcetype: BED\n",
       "# $sourceurl: http://egg2.wustl.edu/roadmap/data/byFileType/peaks/consolidat...\n",
       "# $sourcesize: 1926389\n",
       "# $tags: c(\"EpigenomeRoadMap\", \"peaks\", \"consolidated\", \"narrowPeak\",\n",
       "#   \"E003\", \"ESC\", \"ESC.H1\", \"H1 Cells\") \n",
       "# retrieve record with 'object[[\"AH29892\"]]' "
      ]
     },
     "metadata": {},
     "output_type": "display_data"
    }
   ],
   "source": [
    "## retrieve the record\n",
    "ah.H3K27me3 <- query(ah, c(\"H3K27me3\", \"narrowpeak\", \"E003\")) # E003 = Embryonic Stem Cell \n",
    "\n",
    "ah.H3K27me3"
   ]
  },
  {
   "cell_type": "code",
   "execution_count": 12,
   "metadata": {},
   "outputs": [
    {
     "name": "stderr",
     "output_type": "stream",
     "text": [
      "loading from cache\n",
      "\n",
      "'getOption(\"repos\")' replaces Bioconductor standard repositories, see\n",
      "'?repositories' for details\n",
      "\n",
      "replacement repositories:\n",
      "    CRAN: https://cran.r-project.org\n",
      "\n",
      "\n"
     ]
    },
    {
     "data": {
      "text/plain": [
       "GRanges object with 120340 ranges and 6 metadata columns:\n",
       "        seqnames              ranges strand |        name     score signalValue\n",
       "           <Rle>           <IRanges>  <Rle> | <character> <numeric>   <numeric>\n",
       "   chr1     chr1   47685654-47702353      * |      Rank_7      2237     52.7690\n",
       "   chr1     chr1 221048224-221071054      * |      Rank_9      2235     51.3662\n",
       "   chr1     chr1   50879272-50899079      * |     Rank_30      2085     48.6627\n",
       "   chr1     chr1   46950343-46961192      * |     Rank_42      2040     45.1533\n",
       "   chr1     chr1 224802506-224807753      * |     Rank_45      2029     47.6489\n",
       "    ...      ...                 ...    ... .         ...       ...         ...\n",
       "  chr22    chr22   26701857-26701970      * | Rank_123201        20     2.24116\n",
       "  chr22    chr22   30291593-30291706      * | Rank_123202        20     2.24116\n",
       "  chr22    chr22   31514021-31514134      * | Rank_123203        20     2.24116\n",
       "  chr22    chr22   33605218-33605331      * | Rank_123204        20     2.24116\n",
       "  chr22    chr22   32835826-32835939      * | Rank_123483        20     2.21054\n",
       "           pValue    qValue      peak\n",
       "        <numeric> <numeric> <numeric>\n",
       "   chr1   223.738   216.720      5148\n",
       "   chr1   223.569   216.555     20166\n",
       "   chr1   208.532   202.138     13723\n",
       "   chr1   204.083   197.873      6919\n",
       "   chr1   202.942   196.769      2973\n",
       "    ...       ...       ...       ...\n",
       "  chr22   2.06643   0.34765        59\n",
       "  chr22   2.06643   0.34765        98\n",
       "  chr22   2.06643   0.34765        21\n",
       "  chr22   2.06643   0.34765        76\n",
       "  chr22   2.02341   0.34765        35\n",
       "  -------\n",
       "  seqinfo: 298 sequences (2 circular) from hg19 genome"
      ]
     },
     "metadata": {},
     "output_type": "display_data"
    }
   ],
   "source": [
    "## retriever record narrowpeak\n",
    "ah.H3K27me3.AH29892 <- ah.H3K27me3[[\"AH29892\"]]\n",
    "\n",
    "## extract autosomes\n",
    "autsome.Names <- c(paste(\"chr\", 1:22, sep=\"\"))\n",
    "H3K27me3.splitBySeqNames <- split(ah.H3K27me3.AH29892, seqnames(ah.H3K27me3.AH29892))\n",
    "H3K27me3.autosomes <- H3K27me3.splitBySeqNames[autsome.Names]\n",
    "\n",
    "# check all autosomes\n",
    "unlist(H3K27me3.autosomes)"
   ]
  },
  {
   "cell_type": "code",
   "execution_count": 45,
   "metadata": {},
   "outputs": [
    {
     "data": {
      "image/png": "[encoded data removed]",
      "text/plain": [
       "plot without title"
      ]
     },
     "metadata": {
      "image/png": {
       "height": 420,
       "width": 420
      }
     },
     "output_type": "display_data"
    }
   ],
   "source": [
    "# H3K27me3 pattern in Embryonic Stem Cell (E003) autosome\n",
    "library(karyoploteR)\n",
    "kp <- plotKaryotype()\n",
    "kpPlotRegions(kp, data= unlist(H3K27me3.autosomes))"
   ]
  },
  {
   "cell_type": "code",
   "execution_count": 44,
   "metadata": {},
   "outputs": [
    {
     "data": {
      "text/html": [
       "4.77072821364467"
      ],
      "text/latex": [
       "4.77072821364467"
      ],
      "text/markdown": [
       "4.77072821364467"
      ],
      "text/plain": [
       "[1] 4.770728"
      ]
     },
     "metadata": {},
     "output_type": "display_data"
    }
   ],
   "source": [
    "# calculate mean signalValue\n",
    "## create a subset of extracted autosomes\n",
    "ah.H3K27me3.autosomes.subset <- subset(unlist(H3K27me3.autosomes), seqnames %in% autsome.Names)\n",
    "\n",
    "mean.signalValue <- mean(ah.H3K27me3.autosomes.subset$signalValue)\n",
    "mean.signalValue "
   ]
  },
  {
   "cell_type": "markdown",
   "metadata": {},
   "source": [
    "**Question 5**: Using the regions we have obtained above, how many bases on the standard chromosomes are bivalently marked? (`Bivalent regions are bound by both H3K4me3 and H3K27me3`.)"
   ]
  },
  {
   "cell_type": "code",
   "execution_count": 20,
   "metadata": {},
   "outputs": [
    {
     "data": {
      "text/html": [
       "10289096"
      ],
      "text/latex": [
       "10289096"
      ],
      "text/markdown": [
       "10289096"
      ],
      "text/plain": [
       "[1] 10289096"
      ]
     },
     "metadata": {},
     "output_type": "display_data"
    }
   ],
   "source": [
    "## intersect between two chromosomes\n",
    "bivalent.histones <- GenomicRanges::intersect(unlist(H3K4me3.autosomes), unlist(H3K27me3.autosomes),ignore.strand=TRUE)\n",
    "sum(width(bivalent.histones))"
   ]
  },
  {
   "cell_type": "markdown",
   "metadata": {},
   "source": [
    "**Question 6**: how big a fraction (expressed as a number between 0 and 1) of the bivalent regions, overlap one or more CpG Islands? (We will examine the extent to which bivalent regions overlap CpG Islands.)"
   ]
  },
  {
   "cell_type": "code",
   "execution_count": 36,
   "metadata": {},
   "outputs": [],
   "source": [
    "# find the overlap region between CpG Island and bivalent\n",
    "cpg.autosomes <- autosomes\n",
    "cpg.bivalent.histones <- findOverlaps(bivalent.histones,unlist(cpg.autosomes))\n",
    "\n"
   ]
  },
  {
   "cell_type": "code",
   "execution_count": 37,
   "metadata": {},
   "outputs": [
    {
     "data": {
      "text/html": [
       "0.538364439635741"
      ],
      "text/latex": [
       "0.538364439635741"
      ],
      "text/markdown": [
       "0.538364439635741"
      ],
      "text/plain": [
       "[1] 0.5383644"
      ]
     },
     "metadata": {},
     "output_type": "display_data"
    }
   ],
   "source": [
    "# calculate the fraction of the bivalent regions overlap CpG Islands\n",
    "fraction.bivalent <- length(unique(queryHits(cpg.bivalent.histones)))/length(bivalent.histones)\n",
    "fraction.bivalent"
   ]
  },
  {
   "cell_type": "markdown",
   "metadata": {},
   "source": [
    "\n",
    "**Question 7**: How big a fraction (expressed as a number between 0 and 1) of the bases which are part of CpG Islands, are also bivalent marked?"
   ]
  },
  {
   "cell_type": "code",
   "execution_count": 48,
   "metadata": {},
   "outputs": [
    {
     "data": {
      "text/html": [
       "0.241687978531942"
      ],
      "text/latex": [
       "0.241687978531942"
      ],
      "text/markdown": [
       "0.241687978531942"
      ],
      "text/plain": [
       "[1] 0.241688"
      ]
     },
     "metadata": {},
     "output_type": "display_data"
    }
   ],
   "source": [
    "cpg.bivalent.intersect <- GenomicRanges::intersect(bivalent.histones,unlist(cpg.autosomes))\n",
    "\n",
    "cpg.bivalent.intersect.fraction <- sum(width(GenomicRanges::reduce(cpg.bivalent.intersect)))/sum(width(unlist(cpg.autosomes)))\n",
    "cpg.bivalent.intersect.fraction "
   ]
  },
  {
   "cell_type": "markdown",
   "metadata": {},
   "source": [
    "**Question 8**: How many bases are bivalently marked within 10kb of CpG Islands?\n"
   ]
  },
  {
   "cell_type": "code",
   "execution_count": 50,
   "metadata": {},
   "outputs": [
    {
     "data": {
      "text/plain": [
       "GRanges object with 26641 ranges and 1 metadata column:\n",
       "        seqnames            ranges strand |        name\n",
       "           <Rle>         <IRanges>  <Rle> | <character>\n",
       "   chr1     chr1       18736-39810      * |    CpG:_116\n",
       "   chr1     chr1     125125-145563      * |     CpG:_30\n",
       "   chr1     chr1     317791-338229      * |     CpG:_29\n",
       "   chr1     chr1     427152-448164      * |     CpG:_84\n",
       "   chr1     chr1     439274-460544      * |     CpG:_99\n",
       "    ...      ...               ...    ... .         ...\n",
       "  chr22    chr22 51125671-51146118      * |     CpG:_44\n",
       "  chr22    chr22 51132803-51153308      * |     CpG:_38\n",
       "  chr22    chr22 51148387-51170060      * |    CpG:_167\n",
       "  chr22    chr22 51159028-51180019      * |     CpG:_81\n",
       "  chr22    chr22 51211773-51232317      * |     CpG:_63\n",
       "  -------\n",
       "  seqinfo: 93 sequences (1 circular) from hg19 genome"
      ]
     },
     "metadata": {},
     "output_type": "display_data"
    }
   ],
   "source": [
    "# extract CpG Islands within 10kb\n",
    "kb <- 1000\n",
    "# 10kb ech side\n",
    "size10kb <- 2 * 10 * kb\n",
    "\n",
    "cpg.10kb <- resize(unlist(cpg.autosomes), width = size10kb  + width(unlist(cpg.autosomes)), fix = \"center\")\n",
    "\n",
    "cpg.10kb"
   ]
  },
  {
   "cell_type": "code",
   "execution_count": 51,
   "metadata": {},
   "outputs": [
    {
     "data": {
      "text/html": [
       "9782086"
      ],
      "text/latex": [
       "9782086"
      ],
      "text/markdown": [
       "9782086"
      ],
      "text/plain": [
       "[1] 9782086"
      ]
     },
     "metadata": {},
     "output_type": "display_data"
    }
   ],
   "source": [
    "cpg.10kb.bivalent <- GenomicRanges::intersect(cpg.10kb, bivalent.histones)\n",
    "sum(width(cpg.10kb.bivalent))"
   ]
  },
  {
   "cell_type": "markdown",
   "metadata": {},
   "source": [
    "**Question 9**: How big a fraction (expressed as a number between 0 and 1) of the human genome is contained in a CpG Island?\n",
    "\n",
    "- Tip 1: the object returned by AnnotationHub contains \"seqlengths\".\n",
    "- Tip 2: you may encounter an integer overflow. As described in the session on R Basic Types, you can address this by converting integers to numeric before summing them, \"as.numeric()\"."
   ]
  },
  {
   "cell_type": "code",
   "execution_count": 54,
   "metadata": {},
   "outputs": [
    {
     "data": {
      "text/html": [
       "2881033286"
      ],
      "text/latex": [
       "2881033286"
      ],
      "text/markdown": [
       "2881033286"
      ],
      "text/plain": [
       "[1] 2881033286"
      ]
     },
     "metadata": {},
     "output_type": "display_data"
    },
    {
     "data": {
      "text/html": [
       "0.00704748053369072"
      ],
      "text/latex": [
       "0.00704748053369072"
      ],
      "text/markdown": [
       "0.00704748053369072"
      ],
      "text/plain": [
       "[1] 0.007047481"
      ]
     },
     "metadata": {},
     "output_type": "display_data"
    }
   ],
   "source": [
    "## Genome size of AH5086\n",
    "autsome.Names <- c(paste(\"chr\", 1:22, sep=\"\"))\n",
    "human.genome <- keepSeqlevels(ah.human.cpg.AH5086,autsome.Names,pruning.mode = \"coarse\")\n",
    "human.genome.size <- sum(as.numeric(seqlengths(human.genome)))\n",
    "human.genome.size\n",
    "\n",
    "# CpG Island Size\n",
    "cpg.autosomes.size <- sum(as.numeric(width(unlist(cpg.autosomes))))\n",
    "cpg.autosomes.size/human.genome.size\n"
   ]
  },
  {
   "cell_type": "markdown",
   "metadata": {},
   "source": [
    "**Question 10**: Compute an odds-ratio for the overlap of bivalent marks with CpG islands."
   ]
  },
  {
   "cell_type": "code",
   "execution_count": 59,
   "metadata": {},
   "outputs": [
    {
     "data": {
      "text/html": [
       "<table class=\"dataframe\">\n",
       "<caption>A matrix: 2 × 2 of type dbl</caption>\n",
       "<thead>\n",
       "\t<tr><th></th><th scope=col>in</th><th scope=col>out</th></tr>\n",
       "</thead>\n",
       "<tbody>\n",
       "\t<tr><th scope=row>in</th><td> 4907239</td><td>   5381857</td></tr>\n",
       "\t<tr><th scope=row>out</th><td>15396787</td><td>2855347403</td></tr>\n",
       "</tbody>\n",
       "</table>\n"
      ],
      "text/latex": [
       "A matrix: 2 × 2 of type dbl\n",
       "\\begin{tabular}{r|ll}\n",
       "  & in & out\\\\\n",
       "\\hline\n",
       "\tin &  4907239 &    5381857\\\\\n",
       "\tout & 15396787 & 2855347403\\\\\n",
       "\\end{tabular}\n"
      ],
      "text/markdown": [
       "\n",
       "A matrix: 2 × 2 of type dbl\n",
       "\n",
       "| <!--/--> | in | out |\n",
       "|---|---|---|\n",
       "| in |  4907239 |    5381857 |\n",
       "| out | 15396787 | 2855347403 |\n",
       "\n"
      ],
      "text/plain": [
       "    in       out       \n",
       "in   4907239    5381857\n",
       "out 15396787 2855347403"
      ]
     },
     "metadata": {},
     "output_type": "display_data"
    }
   ],
   "source": [
    "## calculate InOut matrix\n",
    "overlapMat <- matrix(0,, ncol = 2, nrow = 2)\n",
    "colnames(overlapMat) <- c(\"in\", \"out\")\n",
    "rownames(overlapMat) <- c(\"in\", \"out\")\n",
    "overlapMat[1,1] <- sum(width(cpg.bivalent.intersect))\n",
    "overlapMat[1,2] <- sum(width(GenomicRanges::setdiff(bivalent.histones, unlist(cpg.autosomes))))\n",
    "overlapMat[2,1] <- sum(width(GenomicRanges::setdiff(unlist(cpg.autosomes), bivalent.histones)))\n",
    "overlapMat[2,2] <- human.genome.size - sum(overlapMat)\n",
    "\n",
    "overlapMat"
   ]
  },
  {
   "cell_type": "code",
   "execution_count": 60,
   "metadata": {},
   "outputs": [
    {
     "data": {
      "text/html": [
       "169.0962239977"
      ],
      "text/latex": [
       "169.0962239977"
      ],
      "text/markdown": [
       "169.0962239977"
      ],
      "text/plain": [
       "[1] 169.0962"
      ]
     },
     "metadata": {},
     "output_type": "display_data"
    }
   ],
   "source": [
    "## calculate odds-ratio\n",
    "oddsRatio <- overlapMat[1,1] * overlapMat[2,2] / (overlapMat[2,1] * overlapMat[1,2])\n",
    "oddsRatio"
   ]
  },
  {
   "cell_type": "code",
   "execution_count": 38,
   "metadata": {},
   "outputs": [
    {
     "data": {
      "text/plain": [
       "R version 4.1.2 (2021-11-01)\n",
       "Platform: x86_64-w64-mingw32/x64 (64-bit)\n",
       "Running under: Windows 10 x64 (build 22543)\n",
       "\n",
       "Matrix products: default\n",
       "\n",
       "locale:\n",
       "[1] LC_COLLATE=English_United States.1252 \n",
       "[2] LC_CTYPE=English_United States.1252   \n",
       "[3] LC_MONETARY=English_United States.1252\n",
       "[4] LC_NUMERIC=C                          \n",
       "[5] LC_TIME=English_United States.1252    \n",
       "\n",
       "attached base packages:\n",
       "[1] parallel  stats4    stats     graphics  grDevices utils     datasets \n",
       "[8] methods   base     \n",
       "\n",
       "other attached packages:\n",
       " [1] forcats_0.5.1        stringr_1.4.0        dplyr_1.0.7         \n",
       " [4] purrr_0.3.4          readr_2.1.1          tidyr_1.1.4         \n",
       " [7] tibble_3.1.6         ggplot2_3.3.5        tidyverse_1.3.1     \n",
       "[10] AnnotationHub_3.0.2  BiocFileCache_2.0.0  dbplyr_2.1.1        \n",
       "[13] rtracklayer_1.52.1   GenomicRanges_1.44.0 GenomeInfoDb_1.28.4 \n",
       "[16] IRanges_2.26.0       S4Vectors_0.30.2     BiocGenerics_0.38.0 \n",
       "\n",
       "loaded via a namespace (and not attached):\n",
       " [1] fs_1.5.0                      bitops_1.0-7                 \n",
       " [3] matrixStats_0.61.0            lubridate_1.8.0              \n",
       " [5] bit64_4.0.5                   filelock_1.0.2               \n",
       " [7] httr_1.4.2                    repr_1.1.4                   \n",
       " [9] tools_4.1.2                   backports_1.4.1              \n",
       "[11] utf8_1.2.2                    R6_2.5.1                     \n",
       "[13] DBI_1.1.2                     colorspace_2.0-2             \n",
       "[15] withr_2.4.3                   tidyselect_1.1.1             \n",
       "[17] bit_4.0.4                     curl_4.3.2                   \n",
       "[19] compiler_4.1.2                cli_3.1.1                    \n",
       "[21] rvest_1.0.2                   Biobase_2.52.0               \n",
       "[23] xml2_1.3.2                    DelayedArray_0.18.0          \n",
       "[25] scales_1.1.1                  rappdirs_0.3.3               \n",
       "[27] pbdZMQ_0.3-6                  digest_0.6.27                \n",
       "[29] Rsamtools_2.8.0               XVector_0.32.0               \n",
       "[31] base64enc_0.1-3               pkgconfig_2.0.3              \n",
       "[33] htmltools_0.5.2               MatrixGenerics_1.4.3         \n",
       "[35] BSgenome_1.60.0               fastmap_1.1.0                \n",
       "[37] readxl_1.3.1                  rlang_0.4.12                 \n",
       "[39] rstudioapi_0.13               RSQLite_2.2.9                \n",
       "[41] shiny_1.7.1                   BiocIO_1.2.0                 \n",
       "[43] generics_0.1.1                jsonlite_1.7.2               \n",
       "[45] BiocParallel_1.26.2           RCurl_1.98-1.5               \n",
       "[47] magrittr_2.0.1                GenomeInfoDbData_1.2.6       \n",
       "[49] Matrix_1.4-0                  Rcpp_1.0.8                   \n",
       "[51] IRkernel_1.3                  munsell_0.5.0                \n",
       "[53] fansi_1.0.2                   lifecycle_1.0.1              \n",
       "[55] stringi_1.7.5                 yaml_2.2.2                   \n",
       "[57] SummarizedExperiment_1.22.0   zlibbioc_1.38.0              \n",
       "[59] grid_4.1.2                    blob_1.2.2                   \n",
       "[61] promises_1.2.0.1              crayon_1.4.2                 \n",
       "[63] lattice_0.20-45               IRdisplay_1.1                \n",
       "[65] Biostrings_2.60.2             haven_2.4.3                  \n",
       "[67] hms_1.1.1                     KEGGREST_1.32.0              \n",
       "[69] pillar_1.6.5                  uuid_0.1-4                   \n",
       "[71] rjson_0.2.21                  reprex_2.0.1                 \n",
       "[73] XML_3.99-0.8                  glue_1.4.2                   \n",
       "[75] BiocVersion_3.13.1            evaluate_0.14                \n",
       "[77] BiocManager_1.30.16           modelr_0.1.8                 \n",
       "[79] tzdb_0.2.0                    vctrs_0.3.8                  \n",
       "[81] png_0.1-7                     httpuv_1.6.5                 \n",
       "[83] cellranger_1.1.0              gtable_0.3.0                 \n",
       "[85] assertthat_0.2.1              cachem_1.0.6                 \n",
       "[87] mime_0.12                     xtable_1.8-4                 \n",
       "[89] broom_0.7.12                  restfulr_0.0.13              \n",
       "[91] later_1.3.0                   GenomicAlignments_1.28.0     \n",
       "[93] AnnotationDbi_1.54.1          memoise_2.0.1                \n",
       "[95] ellipsis_0.3.2                interactiveDisplayBase_1.30.0"
      ]
     },
     "metadata": {},
     "output_type": "display_data"
    }
   ],
   "source": [
    "sessionInfo()"
   ]
  }
 ],
 "metadata": {
  "kernelspec": {
   "display_name": "R",
   "language": "R",
   "name": "python3102jvsc74a57bd055db829a23e27f1a4129460ab65de434bf1fc9efa4ae0ce0afb72d96498ad818"
  },
  "language_info": {
   "codemirror_mode": "r",
   "file_extension": ".r",
   "mimetype": "text/x-r-source",
   "name": "R",
   "pygments_lexer": "r",
   "version": "4.1.2"
  },
  "orig_nbformat": 4
 },
 "nbformat": 4,
 "nbformat_minor": 2
}
