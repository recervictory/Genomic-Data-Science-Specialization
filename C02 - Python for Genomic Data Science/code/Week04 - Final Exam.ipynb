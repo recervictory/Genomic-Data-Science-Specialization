{
 "cells": [
  {
   "cell_type": "markdown",
   "metadata": {},
   "source": [
    "# Final Exam Instructions\n",
    "---\n",
    "\n",
    "Write a Python program that takes as input a file containing DNA sequences in multi-FASTA format, and computes the answers to the following questions. You can choose to write one program with multiple functions to answer these questions, or you can write several programs to address them. We will provide a multi-FASTA file for you, and you will run your program to answer the exam questions. \n",
    "\n",
    "While developing your program(s), please use the following example file to test your work: dna.example.fasta\n",
    "\n",
    "You'll be given a different input file to launch the exam itself.\n",
    "\n",
    "Here are the questions your program needs to answer. The quiz itself contains the specific multiple-choice questions you need to answer for the file you will be provided."
   ]
  },
  {
   "cell_type": "markdown",
   "metadata": {},
   "source": [
    "---\n",
    "1. How many records are in the file? A record in a FASTA file is defined as a single-line header, followed by lines of sequence data. The header line is distinguished from the sequence data by a greater-than (\">\") symbol in the first column. The word following the \">\" symbol is the identifier of the sequence, and the rest of the line is an optional description of the entry. There should be no space between the \">\" and the first letter of the identifier. \n",
    "---\n"
   ]
  },
  {
   "cell_type": "code",
   "execution_count": 37,
   "metadata": {},
   "outputs": [],
   "source": [
    "def readFasta(filename):\n",
    "    '''\n",
    "    Read multiline fasta sequence from file.\n",
    "    Input : fasta filename or file path.\n",
    "    Output : dict with sequence name and fasta sequence.\n",
    "    '''\n",
    "    try:\n",
    "        fastaFile = open(filename, \"r\")\n",
    "    except IOError:\n",
    "        print(\"File \",filename,\" does not exist!!\")\n",
    "        return {}\n",
    "    \n",
    "    seqs={}\n",
    "    for line in fastaFile:\n",
    "        line=line.rstrip()\n",
    "        if line[0]=='>':\n",
    "            words = line.split()\n",
    "            name=words[0][1:]\n",
    "            seqs[name]=\"\"\n",
    "        else : # sequence, not header\n",
    "            seqs[name] = seqs[name] + line\n",
    "    fastaFile.close()\n",
    "    return seqs\n"
   ]
  },
  {
   "cell_type": "code",
   "execution_count": 48,
   "metadata": {},
   "outputs": [
    {
     "data": {
      "text/plain": [
       "'CGTGCTCGGCACGACTATCAGCCCGTATCTGTTTTTCTGGCAGGCCTCCCAGGAAGTCGAGGAGTTGCACGCGGCGCCGCGTGATCATCCATTGCGCCGCGCCCCCTTTCAGGCGCCAGTTCAACTACGCCGGATCAGTTTCGATACCTGGTTCGGCATGGGCGTATCGAACGTAATCGCGTTCTTCATCGTGCTGACCGCTGCCGCGACCCTCCATGCGCATCACATCGTCGTCAAGACATCGGCCGACGCGGCGCGTGCACTCGAACCGTTGGCGGGCCACTTCGCCTACGTCCTGTTCGCACTCGGCATCATCGGCACCGGCTTGCTGGCGCTTCCGGTGCTGGCCGGCTCGACCGCCTATGCGATGGCGGGGACCTTCAAATGGAGAAACAGTCTCGCGTTACGCGCGACGGTCGCGGGAGAGTTCTATGCGGTCATCGCTGCCGCGGTCGCGATTGGACTGGTCATGACGTTCGTTCATTTCGACCCGATTCGAGCGCTCTACTGGAGCGCCGTCATCAATGGGATCACGGCAGTGCCCATCATGGTGGTGATGATGCTGATGGCGCAGAGCCGGCGCGTGATGGGCGAGTTCGCAATCAGAGGACCGCTTGCGTGGGGAGGGTGGCTCGCGACGCTCGCCATGGCGCTCGCGGCGGCCGGAATGCTGCTGCCGGGATGAGCCGGCAATCCGGATGGAGAATGCGCATGCCCGCGACGCACCGGCGACGCCTCGCCGGACGGCGGGCGTCGCATTCGCCATTCGCCATTCGCCATTCGCCATTCGCCATTCGCCATTCGCCATTCGCCATTCGCCATTCGCCATTCGCCGAGCGCTCCATCGACGACGGTGGCGGCCACGCCCCGGAATTCGACATGCCTGCATCCTCCGATACGGCGAACCGGCGGGCGTCATCAATCGCGCGCATCCAGCGCGGGCTGAAGCGCGGGCTCGGCCGGCGCTGCCGGTTCATGGCCGCCGTGGCGCGCGGCGGTGGAATGGCCGGGCCGGATCCTGAACCAGATCGCATACATCGCGGGCAGGAACACGAGCGTGAGGACCGTCCCGGCGAACGTGCCGCCGATCAGCGTGTACGCGAGCGTGCCCCAGAACACCGAATGCGTGAGCGGAATGAACGCGAGCACGGCCGCCATCGCGGTAAGAATCACCGGGCGCGCCCGCTGCACGGTCGCTTCGACGACCGCGTGGAACGGATCGAGTCCCGCGTGTTCGTTCTGGTGGATCTGGCCGATCAGGATCAGCGTGTTGCGCATCAGGATCCCCGACAGCGCGATGAGGCCGACCAGCGCATTGATGCCGAACGGCTGCCCGAACAGGATCAGCGTCGGCACCACGCCGATCAAGCCGAGCGGGCTCGTCATGAACACCATCACCATCGCGGAGATCGAGCGCACCTGGAAGATGATGATCACGAGCGTGACCGCCAGCATGATCGGGAAGAGCGGCAGCATCGCCTTCGTGGCCTTGCCGGATTCCTCGATGGAGCCGGCTTCCTCGATTCGATAGCCGCTCGGCAGCGCGGCGACGATCGGCTGAAGCTGCTTCGTGATCGCGGCCGACACGTCCGGCGGCTGCAGGCCGTCGGCGATGTCGCCGCGCACCGTGAGCGTCGGCACGCGATCGCGCCAGCGCATGATCGGCTCTTCCATCCGCACGTCGACCTTGCCGACCTGCGACAGCGGGATGCGCTGCCCGTTCGCGCCGGCGAGCGTGAAGTCGTCGAGCCGCGCCGGGTCGAGCCGCGTATCGCCGCCCGAGCGCGCGATCACCTGTACGGTCCGGATATCCTCGCGTACCGCGGTGACGGGCACCCCGGTCAGCAGGAACTGCAGTTGCTGCGCGACCGCGCTGGACGTCAACCCGACTGCCTGCAGGCGGTCCTGCTGCAACGTAAAGTGCAGCGTCGGCGCGCGCGTGCCCCAGTCGGCATTGACCGTGCGCATCATCGGGCTGCCGTGCATCACACGCTCGACGTCGGTTGCGATACCGCGCAGCTTGTCCGGATCGGGGCCCGTGATCCGGTAGGCCACCGGGAACGGCGAATAAGGGCCGAACACGAGCTGCGTCACGCGCACTTGCGCTTCGGGCGCGAGGCCGTCGGCGATGGCGCGCCGCAGCCGCGCCTTCAGCGCTTCGCGCTCGTCCTGGCTGTCCGTGCGGATCACGATCTTCGCGAACGACGGATCGGGCAGCTCCGGCCCCATCGCGAGATAGAAGCGCGGCGCGCCCTGGCCGACGTACGCGGTGACGATCCTCGCTTCCTTCTGCTTCGCGAGCCACGCCTCGACCTTCTGCGTGGCGGCGCTCGTTTGCGTAATCGACGTGCCGTACGGCATCTGCACCTCGATCAGTACCTCGGGGCGATCGGAGATCGGGAAAAACTGCTTCTTCACGATCGCCATGCCGAGAATCGCGAGCACGAAGAGGGCGACGACCGAACCGGCGACGAGCCATTTGCGGGCGATCACGCGCGTCAGCAGTTGCCGGAAGCGGTTGTAGCGGGGCGTGTCGTAGATCGCATCGTGGCCGCCTTCGAATTTCCTGAGGTTCGGCAGCATCTTCACGCCGAGGTACGGCGTGAACGCGACGGCGACGACCCACGATGCGATCAGCGCGATTCCGACGATCCAGAACATGTTGCTCGTGTATTCGCCGGCGGTGGAGCGCGCGAAGCCGTTCGGCATGAAGCCGACCGCGGTGACCAGCGTGCCGGCCAGCATCGGCGCGGCCGTATGGCTCCACGCGTAGGCTGAAGCAGCCACGCGGTCGTAGCCTTCCTCCATCTTCACGACCATCATCTCGATCGCGATGATCGCGTCGTCGACCAGCAGCCCGAGCGCGAGGATCAGCGAGCCGAGCGTGATGCGGTCGAAGTTCTTGCCGGTCGCGGCCATCACGACGAACACGATCGCCAGCGTCAGCGGCACGGCCGCGGCGACGACGAGCCCCACGCGCCAGCCCATGCTGACGAAGCTCACGAGCATCACGACGAGCAGCGCGGCGAAGAACTTCACCATGAACTCGTCGACGGCCGAGCTGATGTTCACCGACTGGTCGGTGACCTTGGTCAGGCTCATGCCGAGCGGCAGCGCCGCGTTGATCGCGCCGACTTCGCGGTCCAGCGCGCGGCCGAGCTCGAGCCCGTTCCAGCCGTCGCGCATCACGACCCCGAGCAGCAGCGCGGGTTCGCCGTTGTTGTGGATCAGGAACGTGGACGGATCTTCGTAGCCGCGCTCGACGGTCGCGATGTCGGACAGTTTCAGCGTGCGGCCCTGCGAGACGATCGGCGTGTCGCGAATCTTCTGCAGCGTGTCGAACGCGCCGTCCACACGAATGAAGATCTCCGGCCCGCGCGTCTCGACGGAGCCGGCCGGCGTCAGCAGGTTCTGGCCGTTGAGCGCGGCGAACACGTCCTGCGGGCTCACGCCGAGCGTCGCGAGCCGGTCGTGCGACAGCTGCACGTAGATGCGCTCCGCCTGCTCGCCG'"
      ]
     },
     "execution_count": 48,
     "metadata": {},
     "output_type": "execute_result"
    }
   ],
   "source": [
    "dna = fasta['gi|142022655|gb|EQ086233.1|45']\n",
    "dna"
   ]
  },
  {
   "cell_type": "markdown",
   "metadata": {},
   "source": [
    "---\n",
    "2. What are the lengths of the sequences in the file? What is the longest sequence and what is the shortest sequence? Is there more than one longest or shortest sequence? What are their identifiers? \n",
    "---"
   ]
  },
  {
   "cell_type": "code",
   "execution_count": 38,
   "metadata": {},
   "outputs": [
    {
     "data": {
      "text/plain": [
       "{'gi|142022655|gb|EQ086233.1|255': 4894, 'gi|142022655|gb|EQ086233.1|346': 115}"
      ]
     },
     "execution_count": 38,
     "metadata": {},
     "output_type": "execute_result"
    }
   ],
   "source": [
    "file_path = \"data/dna2.fasta\"\n",
    "fasta = readFasta(file_path)\n",
    "def minMax(fasta_dict):\n",
    "    '''Given fasta as input provide Minmum and Maximum Length for Sequence as Dict'''\n",
    "    seqs = {name: len(seq)for name, seq in fasta_dict.items()}\n",
    "    mx,mn = max(seqs.values()), min(seqs.values())\n",
    "    return {key:value for key,value in seqs.items() if value == mx or value == mn}\n",
    "\n",
    "minMax(fasta)"
   ]
  },
  {
   "cell_type": "markdown",
   "metadata": {},
   "source": [
    "---\n",
    "3. In molecular biology, a reading frame is a way of dividing the DNA sequence of nucleotides into a set of consecutive, non-overlapping triplets (or codons). Depending on where we start, there are six possible reading frames: three in the forward (5' to 3') direction and three in the reverse (3' to 5'). For instance, the three possible forward reading frames for the sequence `AGGTGACACCGCAAGCCTTATATTAGC` are: \n",
    "\n",
    "    `AGG TGA CAC CGC AAG CCT TAT ATT AGC`\n",
    "\n",
    "    `A GGT GAC ACC GCA AGC CTT ATA TTA GC`\n",
    "\n",
    "    `AG GTG ACA CCG CAA GCC TTA TAT TAG C` \n",
    "\n",
    "    These are called reading frames 1, 2, and 3 respectively. An open reading frame (ORF) is the part of a reading frame that has the potential to encode a protein. It starts with a start codon (ATG), and ends with a stop codon (`TAA`, `TAG` or `TGA`). For instance, ATGAAATAG is an ORF of length 9.\n",
    "\n",
    "    Given an input reading frame on the forward strand (1, 2, or 3) your program should be able to identify all ORFs present in each sequence of the FASTA file, and answer the following questions: what is the length of the longest ORF in the file? What is the identifier of the sequence containing the longest ORF? For a given sequence identifier, what is the longest ORF contained in the sequence represented by that identifier? What is the starting position of the longest ORF in the sequence that contains it? The position should indicate the character number in the sequence. For instance, the following ORF in reading frame 1:\n",
    "    ```\n",
    "    >sequence1\n",
    "    ATGCCCTAG\n",
    "    ```\n",
    "    starts at position 1.\n",
    "\n",
    "    Note that because the following sequence:\n",
    "    ```\n",
    "    >sequence2\n",
    "    ATGAAAAAA\n",
    "    ```\n",
    "    does not have any stop codon in reading frame 1, we do not consider it to be an ORF in reading frame 1. \n",
    "\n",
    "---\n"
   ]
  },
  {
   "cell_type": "code",
   "execution_count": 72,
   "metadata": {},
   "outputs": [
    {
     "data": {
      "text/plain": [
       "'CGTGCTCGGCACGACTATCAGCCCGTATCTGTTTTTCTGGCAGGCCTCCCAGGAAGTCGAGGAGTTGCACGCGGCGCCGCGTGATCATCCATTGCGCCGCGCCCCCTTTCAGGCGCCAGTTCAACTACGCCGGATCAGTTTCGATACCTGGTTCGGCATGGGCGTATCGAACGTAATCGCGTTCTTCATCGTGCTGACCGCTGCCGCGACCCTCCATGCGCATCACATCGTCGTCAAGACATCGGCCGACGCGGCGCGTGCACTCGAACCGTTGGCGGGCCACTTCGCCTACGTCCTGTTCGCACTCGGCATCATCGGCACCGGCTTGCTGGCGCTTCCGGTGCTGGCCGGCTCGACCGCCTATGCGATGGCGGGGACCTTCAAATGGAGAAACAGTCTCGCGTTACGCGCGACGGTCGCGGGAGAGTTCTATGCGGTCATCGCTGCCGCGGTCGCGATTGGACTGGTCATGACGTTCGTTCATTTCGACCCGATTCGAGCGCTCTACTGGAGCGCCGTCATCAATGGGATCACGGCAGTGCCCATCATGGTGGTGATGATGCTGATGGCGCAGAGCCGGCGCGTGATGGGCGAGTTCGCAATCAGAGGACCGCTTGCGTGGGGAGGGTGGCTCGCGACGCTCGCCATGGCGCTCGCGGCGGCCGGAATGCTGCTGCCGGGATGAGCCGGCAATCCGGATGGAGAATGCGCATGCCCGCGACGCACCGGCGACGCCTCGCCGGACGGCGGGCGTCGCATTCGCCATTCGCCATTCGCCATTCGCCATTCGCCATTCGCCATTCGCCATTCGCCATTCGCCATTCGCCATTCGCCGAGCGCTCCATCGACGACGGTGGCGGCCACGCCCCGGAATTCGACATGCCTGCATCCTCCGATACGGCGAACCGGCGGGCGTCATCAATCGCGCGCATCCAGCGCGGGCTGAAGCGCGGGCTCGGCCGGCGCTGCCGGTTCATGGCCGCCGTGGCGCGCGGCGGTGGAATGGCCGGGCCGGATCCTGAACCAGATCGCATACATCGCGGGCAGGAACACGAGCGTGAGGACCGTCCCGGCGAACGTGCCGCCGATCAGCGTGTACGCGAGCGTGCCCCAGAACACCGAATGCGTGAGCGGAATGAACGCGAGCACGGCCGCCATCGCGGTAAGAATCACCGGGCGCGCCCGCTGCACGGTCGCTTCGACGACCGCGTGGAACGGATCGAGTCCCGCGTGTTCGTTCTGGTGGATCTGGCCGATCAGGATCAGCGTGTTGCGCATCAGGATCCCCGACAGCGCGATGAGGCCGACCAGCGCATTGATGCCGAACGGCTGCCCGAACAGGATCAGCGTCGGCACCACGCCGATCAAGCCGAGCGGGCTCGTCATGAACACCATCACCATCGCGGAGATCGAGCGCACCTGGAAGATGATGATCACGAGCGTGACCGCCAGCATGATCGGGAAGAGCGGCAGCATCGCCTTCGTGGCCTTGCCGGATTCCTCGATGGAGCCGGCTTCCTCGATTCGATAGCCGCTCGGCAGCGCGGCGACGATCGGCTGAAGCTGCTTCGTGATCGCGGCCGACACGTCCGGCGGCTGCAGGCCGTCGGCGATGTCGCCGCGCACCGTGAGCGTCGGCACGCGATCGCGCCAGCGCATGATCGGCTCTTCCATCCGCACGTCGACCTTGCCGACCTGCGACAGCGGGATGCGCTGCCCGTTCGCGCCGGCGAGCGTGAAGTCGTCGAGCCGCGCCGGGTCGAGCCGCGTATCGCCGCCCGAGCGCGCGATCACCTGTACGGTCCGGATATCCTCGCGTACCGCGGTGACGGGCACCCCGGTCAGCAGGAACTGCAGTTGCTGCGCGACCGCGCTGGACGTCAACCCGACTGCCTGCAGGCGGTCCTGCTGCAACGTAAAGTGCAGCGTCGGCGCGCGCGTGCCCCAGTCGGCATTGACCGTGCGCATCATCGGGCTGCCGTGCATCACACGCTCGACGTCGGTTGCGATACCGCGCAGCTTGTCCGGATCGGGGCCCGTGATCCGGTAGGCCACCGGGAACGGCGAATAAGGGCCGAACACGAGCTGCGTCACGCGCACTTGCGCTTCGGGCGCGAGGCCGTCGGCGATGGCGCGCCGCAGCCGCGCCTTCAGCGCTTCGCGCTCGTCCTGGCTGTCCGTGCGGATCACGATCTTCGCGAACGACGGATCGGGCAGCTCCGGCCCCATCGCGAGATAGAAGCGCGGCGCGCCCTGGCCGACGTACGCGGTGACGATCCTCGCTTCCTTCTGCTTCGCGAGCCACGCCTCGACCTTCTGCGTGGCGGCGCTCGTTTGCGTAATCGACGTGCCGTACGGCATCTGCACCTCGATCAGTACCTCGGGGCGATCGGAGATCGGGAAAAACTGCTTCTTCACGATCGCCATGCCGAGAATCGCGAGCACGAAGAGGGCGACGACCGAACCGGCGACGAGCCATTTGCGGGCGATCACGCGCGTCAGCAGTTGCCGGAAGCGGTTGTAGCGGGGCGTGTCGTAGATCGCATCGTGGCCGCCTTCGAATTTCCTGAGGTTCGGCAGCATCTTCACGCCGAGGTACGGCGTGAACGCGACGGCGACGACCCACGATGCGATCAGCGCGATTCCGACGATCCAGAACATGTTGCTCGTGTATTCGCCGGCGGTGGAGCGCGCGAAGCCGTTCGGCATGAAGCCGACCGCGGTGACCAGCGTGCCGGCCAGCATCGGCGCGGCCGTATGGCTCCACGCGTAGGCTGAAGCAGCCACGCGGTCGTAGCCTTCCTCCATCTTCACGACCATCATCTCGATCGCGATGATCGCGTCGTCGACCAGCAGCCCGAGCGCGAGGATCAGCGAGCCGAGCGTGATGCGGTCGAAGTTCTTGCCGGTCGCGGCCATCACGACGAACACGATCGCCAGCGTCAGCGGCACGGCCGCGGCGACGACGAGCCCCACGCGCCAGCCCATGCTGACGAAGCTCACGAGCATCACGACGAGCAGCGCGGCGAAGAACTTCACCATGAACTCGTCGACGGCCGAGCTGATGTTCACCGACTGGTCGGTGACCTTGGTCAGGCTCATGCCGAGCGGCAGCGCCGCGTTGATCGCGCCGACTTCGCGGTCCAGCGCGCGGCCGAGCTCGAGCCCGTTCCAGCCGTCGCGCATCACGACCCCGAGCAGCAGCGCGGGTTCGCCGTTGTTGTGGATCAGGAACGTGGACGGATCTTCGTAGCCGCGCTCGACGGTCGCGATGTCGGACAGTTTCAGCGTGCGGCCCTGCGAGACGATCGGCGTGTCGCGAATCTTCTGCAGCGTGTCGAACGCGCCGTCCACACGAATGAAGATCTCCGGCCCGCGCGTCTCGACGGAGCCGGCCGGCGTCAGCAGGTTCTGGCCGTTGAGCGCGGCGAACACGTCCTGCGGGCTCACGCCGAGCGTCGCGAGCCGGTCGTGCGACAGCTGCACGTAGATGCGCTCCGCCTGCTCGCCG'"
      ]
     },
     "execution_count": 72,
     "metadata": {},
     "output_type": "execute_result"
    }
   ],
   "source": [
    "# dict version\n",
    "def reverseComplemnet(dna):\n",
    "    transtab = str.maketrans(\"ATCG\", \"TAGC\")\n",
    "    return dna.translate(transtab)[::-1].strip()\n",
    "dna  =  reverseComplemnet('AGGTGACACCGCAAGCCTTATATTAGC')\n",
    "\n",
    "\n",
    "def orfs(dna,start= 'ATG',stop = ['TAA', 'TAG' , 'TGA'],frame=0) :  \n",
    "    _orfs = {1:set(),2:set(),3:set()}\n",
    "    for i in range(0,len(dna)-2,1):\n",
    "        if dna[i:i+3] == start:\n",
    "            orf = ''\n",
    "            j  = i\n",
    "            while j+3 < len(dna)-1:\n",
    "                if dna[j:j+3] in stop:\n",
    "                    orf += dna[j:j+3]\n",
    "                    _orfs[(i % 3) + 1].add(orf)\n",
    "                    break\n",
    "                else:\n",
    "                    orf += dna[j:j+3]\n",
    "                j += 3\n",
    "    return _orfs if frame == 0 else {frame : _orfs[frame]}\n",
    "\n",
    "\n",
    "def find_orfs(dna, frame = 0, strand= 'b',translate = True):\n",
    "    forword_orfs = set.union(*orfs(dna,frame = frame).values())\n",
    "    reverse_orfs = set.union(*orfs(reverseComplemnet(dna),frame = frame).values())\n",
    "    \n",
    "    if strand == 'f':\n",
    "        _orfs = forword_orfs\n",
    "    elif strand == 'r':\n",
    "        _orfs = reverse_orfs\n",
    "    elif strand == 'b':\n",
    "        _orfs = forword_orfs.union(reverse_orfs)\n",
    "    else:\n",
    "        return []\n",
    "    if translate:\n",
    "        from Bio.Seq import Seq\n",
    "        _translated = set()\n",
    "        for dna in _orfs:\n",
    "            dna = Seq(dna)\n",
    "            _translated.add(str(dna.translate()))\n",
    "        return list(_translated)\n",
    "    else:\n",
    "        return list(_orfs)\n",
    "\n",
    "#dna = 'AGCCATGTAGCTAACTCAGGTTACATGGGGATGACCCCGCGACTTGGATTAGAGTCTCTTTTGGAATAAGCCTGAATGATCCGAGTAGCATCTCAGTAG'\n",
    "dna = fasta['gi|142022655|gb|EQ086233.1|45']\n",
    "dna\n"
   ]
  },
  {
   "cell_type": "code",
   "execution_count": 21,
   "metadata": {},
   "outputs": [
    {
     "data": {
      "text/plain": [
       "['ATGAGGGTGGGG']"
      ]
     },
     "execution_count": 21,
     "metadata": {},
     "output_type": "execute_result"
    }
   ],
   "source": [
    "# using regex\n",
    "import re\n",
    "pattern = re.compile(r'(?=(ATG(?:...)*?)(?=TAG|TGA|TAA))')\n",
    "pattern.findall(dna)\n",
    "\n",
    "dna = 'AGCCATGTAGCTAACTCAGGTTACATGGGGATGACCCCGCGACTTGGATTAGAGTCTCTTTTGGAATAAGCCTGAATGATCCGAGTAGCATCTCAGTAG'\n",
    "find_orfs(dna,frame=2,translate=True)"
   ]
  },
  {
   "cell_type": "code",
   "execution_count": 34,
   "metadata": {},
   "outputs": [],
   "source": [
    "import re\n",
    "\n",
    "def find_all_proteins(dna):\n",
    "    p = []  \n",
    "    for seq in [dna, reverseComplemnet(dna)]:\n",
    "        starts = [aa.start() for aa in re.finditer('ATG', dna)]\n",
    "        stops =  [aa.start() for aa in re.finditer('TAG|TGA|TAA', dna)]\n",
    "\n",
    "        for x in starts:\n",
    "            for y in stops:\n",
    "                if (y-x) > 0 and ((y-x) % 3) == 0:  \n",
    "                    p.append(dna[x:y+3])\n",
    "                    break\n",
    "    return set(p)"
   ]
  },
  {
   "cell_type": "code",
   "execution_count": 36,
   "metadata": {},
   "outputs": [
    {
     "data": {
      "text/plain": [
       "{'ATGACCCCGCGACTTGGATTAGAGTCTCTTTTGGAATAA',\n",
       " 'ATGATCCGAGTAGCATCTCAGTAG',\n",
       " 'ATGGGGATGACCCCGCGACTTGGATTAGAGTCTCTTTTGGAATAA',\n",
       " 'ATGTAG'}"
      ]
     },
     "execution_count": 36,
     "metadata": {},
     "output_type": "execute_result"
    }
   ],
   "source": [
    "find_all_proteins(dna)"
   ]
  },
  {
   "cell_type": "code",
   "execution_count": 69,
   "metadata": {},
   "outputs": [
    {
     "data": {
      "text/plain": [
       "2268"
      ]
     },
     "execution_count": 69,
     "metadata": {},
     "output_type": "execute_result"
    }
   ],
   "source": [
    "def longest_orf(orfs):\n",
    "    orf_length = [len(orf) for orf in orfs]\n",
    "    try :\n",
    "        max_len = max(orf_length)\n",
    "    except ValueError:\n",
    "        max_len = 0\n",
    "    return max_len \n",
    "\n",
    "longest_orf(find_orfs(fasta['gi|142022655|gb|EQ086233.1|45'],translate=False,frame=2))        "
   ]
  },
  {
   "cell_type": "code",
   "execution_count": 71,
   "metadata": {},
   "outputs": [
    {
     "data": {
      "text/plain": [
       "{'gi|142022655|gb|EQ086233.1|91': 1632,\n",
       " 'gi|142022655|gb|EQ086233.1|304': 0,\n",
       " 'gi|142022655|gb|EQ086233.1|255': 1185,\n",
       " 'gi|142022655|gb|EQ086233.1|45': 2268,\n",
       " 'gi|142022655|gb|EQ086233.1|396': 1338,\n",
       " 'gi|142022655|gb|EQ086233.1|250': 1341,\n",
       " 'gi|142022655|gb|EQ086233.1|322': 156,\n",
       " 'gi|142022655|gb|EQ086233.1|88': 171,\n",
       " 'gi|142022655|gb|EQ086233.1|594': 33,\n",
       " 'gi|142022655|gb|EQ086233.1|293': 1233,\n",
       " 'gi|142022655|gb|EQ086233.1|75': 504,\n",
       " 'gi|142022655|gb|EQ086233.1|454': 822,\n",
       " 'gi|142022655|gb|EQ086233.1|16': 1458,\n",
       " 'gi|142022655|gb|EQ086233.1|584': 240,\n",
       " 'gi|142022655|gb|EQ086233.1|4': 963,\n",
       " 'gi|142022655|gb|EQ086233.1|277': 336,\n",
       " 'gi|142022655|gb|EQ086233.1|346': 0,\n",
       " 'gi|142022655|gb|EQ086233.1|527': 1014}"
      ]
     },
     "execution_count": 71,
     "metadata": {},
     "output_type": "execute_result"
    }
   ],
   "source": [
    "{seq_name:longest_orf(find_orfs(dna,frame=2,translate= False))  for seq_name,dna in fasta.items()}"
   ]
  },
  {
   "cell_type": "code",
   "execution_count": 43,
   "metadata": {},
   "outputs": [
    {
     "data": {
      "text/plain": [
       "{'gi|142022655|gb|EQ086233.1|91': 1632,\n",
       " 'gi|142022655|gb|EQ086233.1|304': 0,\n",
       " 'gi|142022655|gb|EQ086233.1|255': 1185,\n",
       " 'gi|142022655|gb|EQ086233.1|45': 2268,\n",
       " 'gi|142022655|gb|EQ086233.1|396': 1338,\n",
       " 'gi|142022655|gb|EQ086233.1|250': 1341,\n",
       " 'gi|142022655|gb|EQ086233.1|322': 156,\n",
       " 'gi|142022655|gb|EQ086233.1|88': 171,\n",
       " 'gi|142022655|gb|EQ086233.1|594': 33,\n",
       " 'gi|142022655|gb|EQ086233.1|293': 1233,\n",
       " 'gi|142022655|gb|EQ086233.1|75': 504,\n",
       " 'gi|142022655|gb|EQ086233.1|454': 822,\n",
       " 'gi|142022655|gb|EQ086233.1|16': 1458,\n",
       " 'gi|142022655|gb|EQ086233.1|584': 240,\n",
       " 'gi|142022655|gb|EQ086233.1|4': 963,\n",
       " 'gi|142022655|gb|EQ086233.1|277': 336,\n",
       " 'gi|142022655|gb|EQ086233.1|346': 0,\n",
       " 'gi|142022655|gb|EQ086233.1|527': 1014}"
      ]
     },
     "execution_count": 43,
     "metadata": {},
     "output_type": "execute_result"
    }
   ],
   "source": [
    "{seq_name:longest_orf(find_orfs(dna,frame=2,translate=False))  for seq_name,dna in fasta.items()}"
   ]
  },
  {
   "cell_type": "markdown",
   "metadata": {},
   "source": [
    "---\n",
    "4. A repeat is a substring of a DNA sequence that occurs in multiple copies (more than one) somewhere in the sequence. Although repeats can occur on both the forward and reverse strands of the DNA sequence, we will only consider repeats on the forward strand here. Also we will allow repeats to overlap themselves. For example, the sequence ACACA contains two copies of the sequence ACA - once at position 1 (index 0 in Python), and once at position 3. Given a length n, your program should be able to identify all repeats of length n in all sequences in the FASTA file. Your program should also determine how many times each repeat occurs in the file, and which is the most frequent repeat of a given length.\n",
    "---"
   ]
  },
  {
   "cell_type": "code",
   "execution_count": null,
   "metadata": {},
   "outputs": [],
   "source": []
  }
 ],
 "metadata": {
  "interpreter": {
   "hash": "7dae6437c12b1d87f00e0e10a4bd22be66a3b8ec05fb1161d95372f28c39fa9e"
  },
  "kernelspec": {
   "display_name": "Python 3.8.8 64-bit ('base': conda)",
   "name": "python3"
  },
  "language_info": {
   "codemirror_mode": {
    "name": "ipython",
    "version": 3
   },
   "file_extension": ".py",
   "mimetype": "text/x-python",
   "name": "python",
   "nbconvert_exporter": "python",
   "pygments_lexer": "ipython3",
   "version": "3.8.8"
  },
  "orig_nbformat": 4
 },
 "nbformat": 4,
 "nbformat_minor": 2
}
