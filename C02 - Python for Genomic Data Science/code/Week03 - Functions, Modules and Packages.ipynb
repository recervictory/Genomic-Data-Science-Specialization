{
 "cells": [
  {
   "cell_type": "markdown",
   "metadata": {},
   "source": [
    "---\n",
    "# Lecture 05: Functions in Python\n",
    "---"
   ]
  },
  {
   "cell_type": "markdown",
   "metadata": {},
   "source": [
    "## What Are Functions?\n",
    "Function    is    a    part    of    a    program.    It    takes    a    list    of    argument    values,    performs    a    computation    with    those    values,    and    returns    a    single    result.    Python    gives    you    many    built-­in    functions    like    print(),    len()    etc.    but    you    can    also    create    your    own    functions.    These    functions    are    called    user-­de0ined    functions.\n",
    "\n",
    "Python    gives    you    many    built-­in    functions    like    print(),    len()    etc.    but    you    can    also    create    your    own    functions.    These    functions    are    called    user-­de0ined    functions.\n",
    "\n",
    "## Why    Write    Functions?\n",
    "\n",
    "1. Reusability:    They    allow    us    to    reuse    code    instead    of    rewriting    it.    Once    a    function    is    deNined,    it    can    be    used    over    and    over    again.    You    can    invoke    the    same    function    many    times    in    your    program,    which    saves    you    work.    You    can    also    reuse    function    written    in    different    programs.    \n",
    "\n",
    "2. Abstraction:    They    allow    us    to    conceive    our    program    as    a    sequence    of    sub-­‐steps.    You    know    what    each    sub-­‐step    in    your    program    does,    but    you    don’t    necessarily    need    to    know    how    it    does    it    –    i.e.    like    when    you    use    functions    written    by    other    people.    \n",
    "\n",
    "\n",
    "## Some\tUseful\tDNA\tSequence\tFunctions\t\n",
    "1. A\tfunction\tthat\tcomputes\tthe\tGC\t percentage\tof\ta\tDNA\tsequence\t\n",
    "2. A\tfunction\tto\tcheck\tif\ta\tDNA\tsequence\thas\t an\tin\tframe\tstop\tcodon.\t\n",
    "3. A\tfunction\tto\treverse\tcomplement\ta\tDNA\t sequence.\t\n",
    "\n",
    "## Defining a Functions\n",
    "```{python}\n",
    "def function_name(input argument):\n",
    "    ''' String documenting the functions '''\n",
    "    < functions code block >\n",
    "    return output\n",
    "```\n",
    "\n",
    "## Example : A\tFunction\tTo\tCompute\tThe\tGC\tPercentage\tOf\tA\tDNA\tSequence.\n",
    "- Input\t:\tDNA\tsequence\t\n",
    "- Output:\tGC\tpercentage"
   ]
  },
  {
   "cell_type": "code",
   "execution_count": 8,
   "metadata": {},
   "outputs": [],
   "source": [
    "def gc(dna):\n",
    "    \"this function computes the GC percentage of a dna sequence.\"\n",
    "    nbases = dna.count('n') + dna.count('N')\n",
    "    gcpercent =float(dna.count('c') + dna.count('C') + dna.count('g') + dna.count('G'))* 100.0/(len(dna)-nbases)\n",
    "    return gcpercent"
   ]
  },
  {
   "cell_type": "code",
   "execution_count": 9,
   "metadata": {},
   "outputs": [
    {
     "data": {
      "text/plain": [
       "40.0"
      ]
     },
     "execution_count": 9,
     "metadata": {},
     "output_type": "execute_result"
    }
   ],
   "source": [
    "gc('AAAGTNNAGTCC')"
   ]
  },
  {
   "cell_type": "code",
   "execution_count": 10,
   "metadata": {},
   "outputs": [
    {
     "name": "stdout",
     "output_type": "stream",
     "text": [
      "Help on function gc in module __main__:\n",
      "\n",
      "gc(dna)\n",
      "    this function computes the GC percentage of a dna sequence.\n",
      "\n"
     ]
    }
   ],
   "source": [
    " help(gc)"
   ]
  },
  {
   "cell_type": "markdown",
   "metadata": {},
   "source": [
    "## Scope\tOf\tVariable\tDeclaration\n",
    "If\tyou\tdeclare\ta\tvariable\tinside\ta\tfunction\tit\twill\tonly\texist\tin\tthat\t function:\t"
   ]
  },
  {
   "cell_type": "code",
   "execution_count": 11,
   "metadata": {},
   "outputs": [
    {
     "ename": "NameError",
     "evalue": "name 'nbases' is not defined",
     "output_type": "error",
     "traceback": [
      "\u001b[1;31m---------------------------------------------------------------------------\u001b[0m",
      "\u001b[1;31mNameError\u001b[0m                                 Traceback (most recent call last)",
      "\u001b[1;32m<ipython-input-11-358df5fd2edb>\u001b[0m in \u001b[0;36m<module>\u001b[1;34m\u001b[0m\n\u001b[0;32m      4\u001b[0m     \u001b[0mgcpercent\u001b[0m \u001b[1;33m=\u001b[0m\u001b[0mfloat\u001b[0m\u001b[1;33m(\u001b[0m\u001b[0mdna\u001b[0m\u001b[1;33m.\u001b[0m\u001b[0mcount\u001b[0m\u001b[1;33m(\u001b[0m\u001b[1;34m'c'\u001b[0m\u001b[1;33m)\u001b[0m \u001b[1;33m+\u001b[0m \u001b[0mdna\u001b[0m\u001b[1;33m.\u001b[0m\u001b[0mcount\u001b[0m\u001b[1;33m(\u001b[0m\u001b[1;34m'C'\u001b[0m\u001b[1;33m)\u001b[0m \u001b[1;33m+\u001b[0m \u001b[0mdna\u001b[0m\u001b[1;33m.\u001b[0m\u001b[0mcount\u001b[0m\u001b[1;33m(\u001b[0m\u001b[1;34m'g'\u001b[0m\u001b[1;33m)\u001b[0m \u001b[1;33m+\u001b[0m \u001b[0mdna\u001b[0m\u001b[1;33m.\u001b[0m\u001b[0mcount\u001b[0m\u001b[1;33m(\u001b[0m\u001b[1;34m'G'\u001b[0m\u001b[1;33m)\u001b[0m\u001b[1;33m)\u001b[0m\u001b[1;33m*\u001b[0m \u001b[1;36m100.0\u001b[0m\u001b[1;33m/\u001b[0m\u001b[1;33m(\u001b[0m\u001b[0mlen\u001b[0m\u001b[1;33m(\u001b[0m\u001b[0mdna\u001b[0m\u001b[1;33m)\u001b[0m\u001b[1;33m-\u001b[0m\u001b[0mnbases\u001b[0m\u001b[1;33m)\u001b[0m\u001b[1;33m\u001b[0m\u001b[1;33m\u001b[0m\u001b[0m\n\u001b[0;32m      5\u001b[0m     \u001b[1;32mreturn\u001b[0m \u001b[0mgcpercent\u001b[0m\u001b[1;33m\u001b[0m\u001b[1;33m\u001b[0m\u001b[0m\n\u001b[1;32m----> 6\u001b[1;33m \u001b[0mprint\u001b[0m\u001b[1;33m(\u001b[0m\u001b[0mnbases\u001b[0m\u001b[1;33m)\u001b[0m\u001b[1;33m\u001b[0m\u001b[1;33m\u001b[0m\u001b[0m\n\u001b[0m",
      "\u001b[1;31mNameError\u001b[0m: name 'nbases' is not defined"
     ]
    }
   ],
   "source": [
    "def gc(dna):\n",
    "    \"this function computes the GC percentage of a dna sequence.\"\n",
    "    nbases = dna.count('n') + dna.count('N')\n",
    "    gcpercent =float(dna.count('c') + dna.count('C') + dna.count('g') + dna.count('G'))* 100.0/(len(dna)-nbases)\n",
    "    return gcpercent\n",
    "print(nbases)"
   ]
  },
  {
   "cell_type": "markdown",
   "metadata": {},
   "source": [
    "## Boolean\tFunctions\n",
    "Boolean\tfunctions\tare\tfunctions\tthat\treturn\ta\t`True`\tor\t`False`\tvalue.\t\tThey\tcan\t\n",
    "be\tused\tin\tconditionals\tsuch\tas\tif\tor\twhile\tstatements\twhenever\ta\t\n",
    "condition\tis\ttoo\tcomplex.\t\n",
    "\n",
    "\n",
    "### **Problem**.\tWrite\ta\tprogram\tthat\tchecks\tif\ta\tgiven\tDNA\tsequence\tcontains\tan\tin-frame\tstop\tcodon.\t\t"
   ]
  },
  {
   "cell_type": "code",
   "execution_count": null,
   "metadata": {},
   "outputs": [],
   "source": [
    "def has_stop_codon(dna) :\n",
    "    \"This function checks if given dna sequence has in frame stop codons.\"\n",
    "    stop_codon_found=False\n",
    "    stop_codons=['tga','tag','taa']\n",
    "    for i in range(0,len(dna),3) :\n",
    "        codon=dna[i:i+3].lower()\n",
    "        if codon in stop_codons :\n",
    "            stop_codon_found=True\n",
    "            break\n",
    "    return stop_codon_found"
   ]
  },
  {
   "cell_type": "code",
   "execution_count": null,
   "metadata": {},
   "outputs": [
    {
     "name": "stdout",
     "output_type": "stream",
     "text": [
      "Input sequence has no in frame stop codons.\n"
     ]
    }
   ],
   "source": [
    "# define has_stop_codon function here\n",
    "dna = input(\"Enter a DNA sequence, please:\")\n",
    "if(has_stop_codon(dna)) :\n",
    "    print(\"Input sequence has an in frame stop codon.\")\n",
    "else :\n",
    "    print(\"Input sequence has no in frame stop codons.\")"
   ]
  },
  {
   "cell_type": "markdown",
   "metadata": {},
   "source": [
    "## Defining\tFunction with Default Values\n",
    "Suppose\tthe\thas_stop_codon\tfunction\talso\taccepts\ta\tframe\t\n",
    "argument\t(equal\tto\t0,1,\tor\t2)\twhich\tspeciNies\tin\twhat\tframe\twe\t\n",
    "want\tto\tlook\tfor\tstop\tcodons."
   ]
  },
  {
   "cell_type": "code",
   "execution_count": null,
   "metadata": {},
   "outputs": [],
   "source": [
    "def has_stop_codon(dna,frame=0) :\n",
    "    \"This function checks if given dna sequence has in frame stop codons.\"\n",
    "    stop_codon_found=False\n",
    "    stop_codons=['tga','tag','taa']\n",
    "    for i in range(frame,len(dna),3) :\n",
    "        codon=dna[i:i+3].lower()\n",
    "        if codon in stop_codons :\n",
    "            stop_codon_found=True\n",
    "            break\n",
    "    return stop_codon_found"
   ]
  },
  {
   "cell_type": "code",
   "execution_count": null,
   "metadata": {},
   "outputs": [
    {
     "data": {
      "text/plain": [
       "False"
      ]
     },
     "execution_count": 15,
     "metadata": {},
     "output_type": "execute_result"
    }
   ],
   "source": [
    "dna=\"atgagcggccggct\"\n",
    "has_stop_codon(dna,0)"
   ]
  },
  {
   "cell_type": "code",
   "execution_count": null,
   "metadata": {},
   "outputs": [
    {
     "data": {
      "text/plain": [
       "True"
      ]
     },
     "execution_count": 16,
     "metadata": {},
     "output_type": "execute_result"
    }
   ],
   "source": [
    "has_stop_codon(dna,1)"
   ]
  },
  {
   "cell_type": "markdown",
   "metadata": {},
   "source": [
    "We\twould\tlike\tthe\t`has_stop_codon()`\tfunction\tto\tcheck\tfor\t in-frame\tstop\tcodons\tby\tdefault,\ti.e.\tif\twe\tcall\tthe\tfunction\tlike\tthis:"
   ]
  },
  {
   "cell_type": "code",
   "execution_count": null,
   "metadata": {},
   "outputs": [
    {
     "data": {
      "text/plain": [
       "False"
      ]
     },
     "execution_count": 17,
     "metadata": {},
     "output_type": "execute_result"
    }
   ],
   "source": [
    "has_stop_codon(dna)"
   ]
  },
  {
   "cell_type": "markdown",
   "metadata": {},
   "source": [
    "## Passing\tFunction\tArguments"
   ]
  },
  {
   "cell_type": "code",
   "execution_count": null,
   "metadata": {},
   "outputs": [
    {
     "data": {
      "text/plain": [
       "True"
      ]
     },
     "execution_count": 18,
     "metadata": {},
     "output_type": "execute_result"
    }
   ],
   "source": [
    "## Passing arguments by position:\n",
    "seq= 'tgggcctaggtaac'\n",
    "has_stop_codon(seq,1)"
   ]
  },
  {
   "cell_type": "code",
   "execution_count": null,
   "metadata": {},
   "outputs": [
    {
     "data": {
      "text/plain": [
       "True"
      ]
     },
     "execution_count": 19,
     "metadata": {},
     "output_type": "execute_result"
    }
   ],
   "source": [
    "# It is\talso possible to pass arguments\tby\tname:\n",
    "has_stop_codon(frame=0,dna=seq)"
   ]
  },
  {
   "cell_type": "code",
   "execution_count": null,
   "metadata": {},
   "outputs": [
    {
     "data": {
      "text/plain": [
       "False"
      ]
     },
     "execution_count": 20,
     "metadata": {},
     "output_type": "execute_result"
    }
   ],
   "source": [
    "# You\tcan\tmix\teither\tstyle,\tbut\tnamed\targument\tmust\tbe\tput\tafter\tpositioned\targuments:\n",
    "has_stop_codon(seq,frame=2)"
   ]
  },
  {
   "cell_type": "markdown",
   "metadata": {},
   "source": [
    "## A\tMore\tComplex\tFunction\tExample\n",
    "\n",
    "### Write\ta\tfunction\tto\treverse\tcomplement\ta\tDNA\tsequence.\t"
   ]
  },
  {
   "cell_type": "code",
   "execution_count": null,
   "metadata": {},
   "outputs": [
    {
     "data": {
      "text/plain": [
       "'GCGGGGTGTGA'"
      ]
     },
     "execution_count": 23,
     "metadata": {},
     "output_type": "execute_result"
    }
   ],
   "source": [
    "# Reversing\tA String\n",
    "dna=\"AGTGTGGGGCG\"\n",
    "dna[::-1]"
   ]
  },
  {
   "cell_type": "code",
   "execution_count": null,
   "metadata": {},
   "outputs": [],
   "source": [
    "# A\tFunction To\tComplement\tA\tDNA\tSequence\n",
    "def complement(dna): \n",
    "    \"\"\"Return the complementary sequence string.\"\"\"\n",
    "    basecomplement = {'A':'T', 'C':'G','G':'C', 'T':'A', 'N':'N', 'a':'t', 'c':'g','g':'c', 't':'a', 'n':'n'} \n",
    "    letters = list(dna) \n",
    "    letters = [basecomplement[base] for base in letters] \n",
    "    return ''.join(letters)"
   ]
  },
  {
   "cell_type": "code",
   "execution_count": null,
   "metadata": {},
   "outputs": [],
   "source": [
    "def reverse_string(seq):\n",
    "    \"Return reverse string\"\n",
    "    return seq[::-1]"
   ]
  },
  {
   "cell_type": "code",
   "execution_count": null,
   "metadata": {},
   "outputs": [],
   "source": [
    "def reversecomplement(seq): \n",
    " \"\"\"Return the reverse complement of the dna string.\"\"\"\n",
    " seq = reverse_string(seq) \n",
    " seq = complement(seq) \n",
    " return seq"
   ]
  },
  {
   "cell_type": "markdown",
   "metadata": {},
   "source": [
    "## List\tComprehensions\n",
    "- `List\tcomprehensions`\tin\tPython\tprovide\ta\tconcise\tway\tto\tcreate\tlists.\t\t\n",
    "- Common\tapplications\tare\tto\tmake\tnew\tlists\twhere\teach\t\n",
    "element\tis\tthe\tresult\tof\tsome\toperations\tapplied\tto\teach\t\n",
    "member\tof\tanother\tsequence,\tor\tto\tcreate\ta\tsubsequence\tof\t\n",
    "those\telements\tthat\tsatisfy\ta\tcertain\tcondition\n",
    "\n",
    "> `new_list = [operation(i) for i in old_list if filter(i)]`\n",
    "\n",
    "### or\n",
    "\n",
    "```{python}\n",
    "new_list = []\n",
    "for i in old_list:\n",
    " if filter(i):\n",
    " new_list.append(operation(i)\n",
    "\n",
    "```"
   ]
  },
  {
   "cell_type": "markdown",
   "metadata": {},
   "source": [
    "## Split And Join\n",
    "Split\tand\tjoin\tare\tmethods\tof\tthe\tstring\tobject.\t\n",
    "- `Split.`\tThe\tmethod\t`split()`\treturns\ta\tlist\tof\tall\tthe\twords\tin\tthe\tstring:\t\n",
    "\n",
    "\n",
    "- `Join`.\tThe\tmethod\tjoin()\treturns\ta\tstring\tin\twhich\tthe\tstring\telements were\tjoined\tfrom\ta\tlist.\tThe\tseparator\tstring\tthat\tjoins\tthe\telements\tis\tthe\t\n",
    "one\tupon\twhich\tthe\tfunction\tis\tcalled:\t\n"
   ]
  },
  {
   "cell_type": "code",
   "execution_count": null,
   "metadata": {},
   "outputs": [
    {
     "data": {
      "text/plain": [
       "['enzymes', 'and', 'other', 'proteins', 'come', 'in', 'many', 'shapes']"
      ]
     },
     "execution_count": 27,
     "metadata": {},
     "output_type": "execute_result"
    }
   ],
   "source": [
    "sentence=\"enzymes and other proteins come in many  shapes\"\n",
    "sentence.split()"
   ]
  },
  {
   "cell_type": "code",
   "execution_count": null,
   "metadata": {},
   "outputs": [
    {
     "data": {
      "text/plain": [
       "['enzymes ', ' other proteins come in many  shapes']"
      ]
     },
     "execution_count": 28,
     "metadata": {},
     "output_type": "execute_result"
    }
   ],
   "source": [
    "# By defaultit\tsplits\ton\tall\twhitespaces, but we\tcan\tspecify\ta\tseparator:\t\n",
    "sentence.split('and')"
   ]
  },
  {
   "cell_type": "code",
   "execution_count": null,
   "metadata": {},
   "outputs": [
    {
     "data": {
      "text/plain": [
       "'enzymes-and-other-proteins-come-in-many-shapes'"
      ]
     },
     "execution_count": 29,
     "metadata": {},
     "output_type": "execute_result"
    }
   ],
   "source": [
    "# join string\n",
    "'-'.join(['enzymes', 'and', 'other', 'proteins', 'come', 'in', 'many', 'shapes'])"
   ]
  },
  {
   "cell_type": "markdown",
   "metadata": {},
   "source": [
    "## Variable\tNumber\tOf\tFunction Arguments\n",
    "It\tis\tpossible\tto\tdeclare\tfunctions\twith\ta\tvariable\tnumber\tof\targuments,\t\n",
    "using\tthe\tfollowing\tsyntax:"
   ]
  },
  {
   "cell_type": "code",
   "execution_count": null,
   "metadata": {},
   "outputs": [
    {
     "name": "stdout",
     "output_type": "stream",
     "text": [
      "First: 1\n",
      "Second: 2\n",
      "Third: 3\n",
      "And all the rest...  (4, 5)\n"
     ]
    }
   ],
   "source": [
    "def newfunction(first, second, third, *therest):\n",
    "    print(\"First: %s\" % first)\n",
    "    print(\"Second: %s\" % second)\n",
    "    print(\"Third: %s\" % third)\n",
    "    print(\"And all the rest... \",therest)\n",
    "    return \n",
    "\n",
    "newfunction(1,2,3,4,5)"
   ]
  },
  {
   "cell_type": "markdown",
   "metadata": {},
   "source": [
    "## Lecture 5 Quizs\n",
    "---"
   ]
  },
  {
   "cell_type": "markdown",
   "metadata": {},
   "source": [
    "### Question 1\n",
    "A student writes several functions to swap the values of the two variables x and y, i.e. if x=1 and y=2, after calling the swap function x=2 and y=1. The different functions that the student writes are given below:"
   ]
  },
  {
   "cell_type": "code",
   "execution_count": null,
   "metadata": {},
   "outputs": [
    {
     "name": "stdout",
     "output_type": "stream",
     "text": [
      "(2, 2)\n",
      "(2, 1)\n",
      "(2, 1)\n",
      "(2, 1)\n"
     ]
    }
   ],
   "source": [
    "def swap1(x,y) :\n",
    "    x=y\n",
    "    y=x\n",
    "    return(x,y)\n",
    "\n",
    "def swap2(x,y) :\n",
    "    return(y,x)\n",
    "\n",
    "def swap3(x,y) :\n",
    "    z=x\n",
    "    x=y\n",
    "    y=z\n",
    "    return(x,y)\n",
    "\n",
    "def swap4(x,y) :\n",
    "    x,y=y,x\n",
    "    return(x,y)\n",
    "\n",
    "print(swap1(1,2))\n",
    "print(swap2(1,2))\n",
    "print(swap3(1,2))\n",
    "print(swap3(1,2))"
   ]
  },
  {
   "cell_type": "markdown",
   "metadata": {},
   "source": [
    "## Question 2: Consider the following two functions:\n",
    "For what values of x will f1 and f2 return the same value?"
   ]
  },
  {
   "cell_type": "code",
   "execution_count": 47,
   "metadata": {},
   "outputs": [
    {
     "name": "stdout",
     "output_type": "stream",
     "text": [
      "0\n",
      "0.0\n"
     ]
    }
   ],
   "source": [
    "def f1(x):\n",
    "    if (x > 0):\n",
    "        x = 3*x \n",
    "        x = x / 2\n",
    "    return x\n",
    "\n",
    "def f2(x):\n",
    "    if (x > 0):\n",
    "        x = 3*x\n",
    "    x = x / 2\n",
    "    return x\n",
    "\n",
    "print(f1(0))\n",
    "print(f2(0))"
   ]
  },
  {
   "cell_type": "code",
   "execution_count": null,
   "metadata": {},
   "outputs": [],
   "source": [
    "## All Positive"
   ]
  },
  {
   "cell_type": "markdown",
   "metadata": {},
   "source": [
    "## Question 3: A recursive function in programming is a function that calls itself during its execution. The following two functions are examples of recursive functions:"
   ]
  },
  {
   "cell_type": "code",
   "execution_count": 13,
   "metadata": {},
   "outputs": [],
   "source": [
    "def function1(length):\n",
    "    if length > 0:\n",
    "        print(length)\n",
    "        function1(length - 1)\n",
    "\n",
    "def function2(length):\n",
    "    while length > 0:\n",
    "        print(length)\n",
    "        function2(length - 1)\n",
    "\n"
   ]
  },
  {
   "cell_type": "code",
   "execution_count": 48,
   "metadata": {},
   "outputs": [
    {
     "name": "stdout",
     "output_type": "stream",
     "text": [
      "3\n",
      "2\n",
      "1\n"
     ]
    }
   ],
   "source": [
    "function1(3)"
   ]
  },
  {
   "cell_type": "code",
   "execution_count": null,
   "metadata": {},
   "outputs": [],
   "source": [
    "function2(3) # infininte loop"
   ]
  },
  {
   "cell_type": "markdown",
   "metadata": {},
   "source": [
    "## Question 4: he following recursive function takes three positive integer arguments:"
   ]
  },
  {
   "cell_type": "code",
   "execution_count": 17,
   "metadata": {},
   "outputs": [],
   "source": [
    "def compute(n,x,y) :\n",
    "    if n==0 : return x\n",
    "    return compute(n-1,x+y,y)"
   ]
  },
  {
   "cell_type": "code",
   "execution_count": null,
   "metadata": {},
   "outputs": [],
   "source": [
    "def compute(n,x,y) :\n",
    "    if n==0 : return x\n",
    "    return compute(n-1,x+y,y)\n",
    "\n",
    "compute(5,4,1)"
   ]
  },
  {
   "cell_type": "markdown",
   "metadata": {},
   "source": [
    "## Question 6:\n",
    "The following functions are all intended to check whether a string representing a dna sequence contains any characters that are not 'a','c','g','t', 'A', 'C', 'G', or 'T'. At least some of these functions are wrong. Which ones are correct? "
   ]
  },
  {
   "cell_type": "code",
   "execution_count": 34,
   "metadata": {},
   "outputs": [],
   "source": [
    "dna = \"ATGCggCCNNnn\""
   ]
  },
  {
   "cell_type": "code",
   "execution_count": 35,
   "metadata": {},
   "outputs": [
    {
     "data": {
      "text/plain": [
       "True"
      ]
     },
     "execution_count": 35,
     "metadata": {},
     "output_type": "execute_result"
    }
   ],
   "source": [
    "def valid_dna1(dna):\n",
    "    for c in dna:\n",
    "        if c in 'acgtACGT':\n",
    "            return True\n",
    "        else:\n",
    "            return False\n",
    "\n",
    "valid_dna1(dna)\n"
   ]
  },
  {
   "cell_type": "code",
   "execution_count": 36,
   "metadata": {},
   "outputs": [
    {
     "data": {
      "text/plain": [
       "'True'"
      ]
     },
     "execution_count": 36,
     "metadata": {},
     "output_type": "execute_result"
    }
   ],
   "source": [
    "def valid_dna2(dna):\n",
    "    for c in dna:\n",
    "        if 'c' in 'acgtACGT':\n",
    "           return 'True'\n",
    "        else:\n",
    "            return 'False'\n",
    "\n",
    "valid_dna2(dna)"
   ]
  },
  {
   "cell_type": "code",
   "execution_count": 38,
   "metadata": {},
   "outputs": [
    {
     "data": {
      "text/plain": [
       "False"
      ]
     },
     "execution_count": 38,
     "metadata": {},
     "output_type": "execute_result"
    }
   ],
   "source": [
    "def valid_dna3(dna):\n",
    "    for c in dna:\n",
    "        flag = c in 'acgtACGT'\n",
    "    return flag\n",
    "\n",
    "valid_dna3(dna)"
   ]
  },
  {
   "cell_type": "code",
   "execution_count": 37,
   "metadata": {},
   "outputs": [
    {
     "data": {
      "text/plain": [
       "False"
      ]
     },
     "execution_count": 37,
     "metadata": {},
     "output_type": "execute_result"
    }
   ],
   "source": [
    "def valid_dna4(dna):\n",
    "    for c in dna:\n",
    "        if not c in 'acgtACGT':\n",
    "            return False\n",
    "    return True\n",
    "valid_dna4(dna)"
   ]
  },
  {
   "cell_type": "markdown",
   "metadata": {},
   "source": [
    "### Questions 7:mWhat is the type of variable L3 and what is its value if L1 and L2 are lists?"
   ]
  },
  {
   "cell_type": "code",
   "execution_count": 41,
   "metadata": {},
   "outputs": [
    {
     "data": {
      "text/plain": [
       "[3, 4, 5]"
      ]
     },
     "execution_count": 41,
     "metadata": {},
     "output_type": "execute_result"
    }
   ],
   "source": [
    "L1 = [1,2,3,4,5,3]\n",
    "L2 = [3,4,5,6,7,7,3]\n",
    "\n",
    "L3 =  [i for i in set(L1) if i in L2]\n",
    "L3"
   ]
  },
  {
   "cell_type": "markdown",
   "metadata": {},
   "source": [
    "## Question 8: What will be printed after executing the following code?"
   ]
  },
  {
   "cell_type": "code",
   "execution_count": 44,
   "metadata": {},
   "outputs": [],
   "source": [
    "def f(mystring):\n",
    "         print(message)\n",
    "         print(mystring)\n",
    "         message=\"Inside function now!\"\n",
    "         print(message)\n"
   ]
  },
  {
   "cell_type": "code",
   "execution_count": 45,
   "metadata": {},
   "outputs": [
    {
     "ename": "UnboundLocalError",
     "evalue": "local variable 'message' referenced before assignment",
     "output_type": "error",
     "traceback": [
      "\u001b[1;31m---------------------------------------------------------------------------\u001b[0m",
      "\u001b[1;31mUnboundLocalError\u001b[0m                         Traceback (most recent call last)",
      "\u001b[1;32m<ipython-input-45-3d4216faee4f>\u001b[0m in \u001b[0;36m<module>\u001b[1;34m\u001b[0m\n\u001b[0;32m      1\u001b[0m \u001b[0mmessage\u001b[0m\u001b[1;33m=\u001b[0m\u001b[1;34m\"Outside function!\"\u001b[0m\u001b[1;33m\u001b[0m\u001b[1;33m\u001b[0m\u001b[0m\n\u001b[1;32m----> 2\u001b[1;33m \u001b[0mf\u001b[0m\u001b[1;33m(\u001b[0m\u001b[1;34m\"Test function:\"\u001b[0m\u001b[1;33m)\u001b[0m\u001b[1;33m\u001b[0m\u001b[1;33m\u001b[0m\u001b[0m\n\u001b[0m",
      "\u001b[1;32m<ipython-input-44-c036ec4494d6>\u001b[0m in \u001b[0;36mf\u001b[1;34m(mystring)\u001b[0m\n\u001b[0;32m      1\u001b[0m \u001b[1;32mdef\u001b[0m \u001b[0mf\u001b[0m\u001b[1;33m(\u001b[0m\u001b[0mmystring\u001b[0m\u001b[1;33m)\u001b[0m\u001b[1;33m:\u001b[0m\u001b[1;33m\u001b[0m\u001b[1;33m\u001b[0m\u001b[0m\n\u001b[1;32m----> 2\u001b[1;33m          \u001b[0mprint\u001b[0m\u001b[1;33m(\u001b[0m\u001b[0mmessage\u001b[0m\u001b[1;33m)\u001b[0m\u001b[1;33m\u001b[0m\u001b[1;33m\u001b[0m\u001b[0m\n\u001b[0m\u001b[0;32m      3\u001b[0m          \u001b[0mprint\u001b[0m\u001b[1;33m(\u001b[0m\u001b[0mmystring\u001b[0m\u001b[1;33m)\u001b[0m\u001b[1;33m\u001b[0m\u001b[1;33m\u001b[0m\u001b[0m\n\u001b[0;32m      4\u001b[0m          \u001b[0mmessage\u001b[0m\u001b[1;33m=\u001b[0m\u001b[1;34m\"Inside function now!\"\u001b[0m\u001b[1;33m\u001b[0m\u001b[1;33m\u001b[0m\u001b[0m\n\u001b[0;32m      5\u001b[0m          \u001b[0mprint\u001b[0m\u001b[1;33m(\u001b[0m\u001b[0mmessage\u001b[0m\u001b[1;33m)\u001b[0m\u001b[1;33m\u001b[0m\u001b[1;33m\u001b[0m\u001b[0m\n",
      "\u001b[1;31mUnboundLocalError\u001b[0m: local variable 'message' referenced before assignment"
     ]
    }
   ],
   "source": [
    "message=\"Outside function!\"\n",
    "f(\"Test function:\")"
   ]
  },
  {
   "cell_type": "markdown",
   "metadata": {},
   "source": [
    "---\n",
    "# Lecture 06 : Modules and Packages\n",
    "---"
   ]
  },
  {
   "cell_type": "markdown",
   "metadata": {},
   "source": [
    "## What\tAre\tModules?\t\n",
    "- Modules    in    Python    are    simply    Python    Files    with    the    .pyextension,    which    contain    deFinitions    of    functions,    or    variables,    usually    related    to    a    speciFic    theme.\n",
    "- Grouping    related    code    into    a    module    makes    the    code    easier    to    understand    and    use.\n",
    "- Example    We    could    put    all    the    functions    we    wrote    to    process    a    DNA    sequence    in    a    File    called,    for    instance, `dnautil.py`\n",
    "\n"
   ]
  },
  {
   "cell_type": "markdown",
   "metadata": {},
   "source": [
    "## Using Modules\t\n",
    " "
   ]
  },
  {
   "cell_type": "code",
   "execution_count": 6,
   "metadata": {},
   "outputs": [],
   "source": [
    "import dnautil"
   ]
  },
  {
   "cell_type": "markdown",
   "metadata": {},
   "source": [
    "## Where    Are    The    Modules?    \n",
    "When    a    module    is    imported,    Python    First    searches    for    a    built-­‐in    module    with    that    name.        \n",
    "\n",
    "If    a    built-­‐in    module    is    not    found,    Python    then    searches    for    a    File    obtained    by    adding    the    extension    .py to    the    name    of    the    module    that    it’s    imported:\n",
    "- in    your    current    working    directory,    \n",
    "- the    directory    where    Python    has    been    installed,    \n",
    "- in    a    path,    i.e.    a    colon    (':')    separated    list    of    File    paths,    stored    in    the    environment    variable    PYTHONPATH.  "
   ]
  },
  {
   "cell_type": "markdown",
   "metadata": {},
   "source": [
    "## The `sys.path` Variable\n",
    "If    the    sys.path    variable    doesn’t    contain    the    directory    where    you    put    your    module    you    can    extend    it:   "
   ]
  },
  {
   "cell_type": "code",
   "execution_count": 1,
   "metadata": {},
   "outputs": [
    {
     "data": {
      "text/plain": [
       "['c:\\\\Github\\\\Genomic-Data-Science-Specialization\\\\C02 - Python for Genomic Data Science\\\\code',\n",
       " 'c:\\\\Users\\\\recer\\\\.vscode\\\\extensions\\\\ms-toolsai.jupyter-2021.9.1101343141\\\\pythonFiles',\n",
       " 'c:\\\\Users\\\\recer\\\\.vscode\\\\extensions\\\\ms-toolsai.jupyter-2021.9.1101343141\\\\pythonFiles\\\\lib\\\\python',\n",
       " 'C:\\\\Users\\\\recer\\\\Anaconda3\\\\python38.zip',\n",
       " 'C:\\\\Users\\\\recer\\\\Anaconda3\\\\DLLs',\n",
       " 'C:\\\\Users\\\\recer\\\\Anaconda3\\\\lib',\n",
       " 'C:\\\\Users\\\\recer\\\\Anaconda3',\n",
       " '',\n",
       " 'C:\\\\Users\\\\recer\\\\Anaconda3\\\\lib\\\\site-packages',\n",
       " 'C:\\\\Users\\\\recer\\\\Anaconda3\\\\lib\\\\site-packages\\\\locket-0.2.1-py3.8.egg',\n",
       " 'C:\\\\Users\\\\recer\\\\Anaconda3\\\\lib\\\\site-packages\\\\win32',\n",
       " 'C:\\\\Users\\\\recer\\\\Anaconda3\\\\lib\\\\site-packages\\\\win32\\\\lib',\n",
       " 'C:\\\\Users\\\\recer\\\\Anaconda3\\\\lib\\\\site-packages\\\\Pythonwin',\n",
       " 'C:\\\\Users\\\\recer\\\\Anaconda3\\\\lib\\\\site-packages\\\\IPython\\\\extensions',\n",
       " 'C:\\\\Users\\\\recer\\\\.ipython']"
      ]
     },
     "execution_count": 1,
     "metadata": {},
     "output_type": "execute_result"
    }
   ],
   "source": [
    "import sys\n",
    "sys.path"
   ]
  },
  {
   "cell_type": "code",
   "execution_count": 4,
   "metadata": {},
   "outputs": [],
   "source": [
    "sys.path.append('c:\\\\Github\\\\Genomic-Data-Science-Specialization\\\\C02 - Python for Genomic Data Science\\\\code\\\\python')"
   ]
  },
  {
   "cell_type": "code",
   "execution_count": 4,
   "metadata": {},
   "outputs": [],
   "source": [
    "sys.path\n",
    "import dnautil"
   ]
  },
  {
   "cell_type": "code",
   "execution_count": 7,
   "metadata": {},
   "outputs": [
    {
     "ename": "NameError",
     "evalue": "name 'gc' is not defined",
     "output_type": "error",
     "traceback": [
      "\u001b[1;31m---------------------------------------------------------------------------\u001b[0m",
      "\u001b[1;31mNameError\u001b[0m                                 Traceback (most recent call last)",
      "\u001b[1;32m<ipython-input-7-18f1a25b04e3>\u001b[0m in \u001b[0;36m<module>\u001b[1;34m\u001b[0m\n\u001b[0;32m      1\u001b[0m \u001b[0mdna\u001b[0m\u001b[1;33m=\u001b[0m\u001b[1;34m\"atgagggctaggt\"\u001b[0m\u001b[1;33m\u001b[0m\u001b[1;33m\u001b[0m\u001b[0m\n\u001b[1;32m----> 2\u001b[1;33m \u001b[0mgc\u001b[0m\u001b[1;33m(\u001b[0m\u001b[0mdna\u001b[0m\u001b[1;33m)\u001b[0m\u001b[1;33m\u001b[0m\u001b[1;33m\u001b[0m\u001b[0m\n\u001b[0m",
      "\u001b[1;31mNameError\u001b[0m: name 'gc' is not defined"
     ]
    }
   ],
   "source": [
    "dna=\"atgagggctaggt\"\n",
    "gc(dna)"
   ]
  },
  {
   "cell_type": "code",
   "execution_count": 8,
   "metadata": {},
   "outputs": [
    {
     "data": {
      "text/plain": [
       "0.5384615384615384"
      ]
     },
     "execution_count": 8,
     "metadata": {},
     "output_type": "execute_result"
    }
   ],
   "source": [
    "dnautil.gc(dna)"
   ]
  },
  {
   "cell_type": "markdown",
   "metadata": {},
   "source": [
    "## Importing    Names    From    A    Module  \n",
    "You    can    import    all    names    that    a    module    deFines    with    the    following    statement:     "
   ]
  },
  {
   "cell_type": "code",
   "execution_count": 9,
   "metadata": {},
   "outputs": [
    {
     "data": {
      "text/plain": [
       "0.5384615384615384"
      ]
     },
     "execution_count": 9,
     "metadata": {},
     "output_type": "execute_result"
    }
   ],
   "source": [
    "from dnautil import *\n",
    "gc(dna)"
   ]
  },
  {
   "cell_type": "markdown",
   "metadata": {},
   "source": [
    "Or    you    can    import    just    a    few    select    functions    from    a    module:   "
   ]
  },
  {
   "cell_type": "code",
   "execution_count": 10,
   "metadata": {},
   "outputs": [],
   "source": [
    "from dnautil import gc,has_stop_codon"
   ]
  },
  {
   "cell_type": "markdown",
   "metadata": {},
   "source": [
    "## Packages\n",
    "\n",
    "- Packages    group    multiple    modules    under    one    name,    by    using    “dotted    module    names”.    For    example,    the    module    name    A.B    designates    a    submodule    named    B    in    a    package    named    A.    \n",
    "- Each    package    in    Python    is    a    directory    which    MUST    contain    a    special    File    called    `__init__.py`.    This    File    can    be    empty,    and    it    indicates    that    the    directory    it    contains    is    a    Python    package,    so    it    can    be    imported    the    same    way    a    module    can    be    imported.    \n",
    "\n",
    "### Package\tExample\t\n",
    "Suppose    you    have    several    modules:        \n",
    "- a `dnautil.py` Filecontaining    useful    functions    to    process    DNA    sequences    \n",
    "- a `rnautil.py`    File    containing    useful    functions    to    process    RNA    sequences    \n",
    "-  `proteinutil.py`    File    containing    useful    functions    to    process    protein    sequences    \n",
    "\n",
    "and    you    want    to    group    them    in    a    package    called    bioseq    which    processes    all    types    of    biological    sequences.\n",
    "\n",
    "### Here’s    a    possible    structure    for    your    package:   \n",
    "``` \n",
    "bioseq/   \n",
    " |-- __init__.py\n",
    " |-- dnautil.py\n",
    " |-- rnautil.py\n",
    " |-- proteinutil.py\n",
    " |-- fasta/ {subpackage}\n",
    "        |-- __init__.py\n",
    "        |--fastautil.py\n",
    " |-- fastaq/ {subpackage}\n",
    "        |-- __init__.py\n",
    "        |--fastaqutil.py\n",
    "...\n",
    "\n",
    "``` \n",
    "\n",
    " \n",
    " \n",
    " "
   ]
  },
  {
   "cell_type": "markdown",
   "metadata": {},
   "source": [
    "### Loading\tFrom Packages"
   ]
  },
  {
   "cell_type": "code",
   "execution_count": null,
   "metadata": {},
   "outputs": [],
   "source": [
    "import bioseq.dnautil"
   ]
  },
  {
   "cell_type": "code",
   "execution_count": null,
   "metadata": {},
   "outputs": [],
   "source": [
    "from bioseq import dnautil"
   ]
  },
  {
   "cell_type": "markdown",
   "metadata": {},
   "source": [
    "## Lecture 6 Quiz\n",
    "---"
   ]
  },
  {
   "cell_type": "markdown",
   "metadata": {},
   "source": [
    "### Question 1 : Which of the following is a correct Python program to obtain the Python version you are using?"
   ]
  },
  {
   "cell_type": "code",
   "execution_count": null,
   "metadata": {},
   "outputs": [],
   "source": [
    "print(__version__)"
   ]
  },
  {
   "cell_type": "code",
   "execution_count": 51,
   "metadata": {},
   "outputs": [
    {
     "name": "stdout",
     "output_type": "stream",
     "text": [
      "3.8.8 (default, Apr 13 2021, 15:08:03) [MSC v.1916 64 bit (AMD64)]\n"
     ]
    }
   ],
   "source": [
    "import sys\n",
    "\n",
    "print(sys.version) # Answer"
   ]
  },
  {
   "cell_type": "code",
   "execution_count": null,
   "metadata": {},
   "outputs": [],
   "source": [
    "print(version)"
   ]
  },
  {
   "cell_type": "code",
   "execution_count": null,
   "metadata": {},
   "outputs": [],
   "source": [
    "import sys\n",
    "\n",
    "print(sys.__version__)"
   ]
  },
  {
   "cell_type": "markdown",
   "metadata": {},
   "source": [
    "### Question 2: What does the following code do?"
   ]
  },
  {
   "cell_type": "code",
   "execution_count": 79,
   "metadata": {},
   "outputs": [
    {
     "data": {
      "text/plain": [
       "1000000"
      ]
     },
     "execution_count": 79,
     "metadata": {},
     "output_type": "execute_result"
    }
   ],
   "source": [
    "import random\n",
    "def create_dna(n, alphabet=\"acgt\"):\n",
    "    return \"\".join([random.choice(alphabet) for i in range(n)])\n",
    "dna = create_dna(1000000)\n",
    "len(dna)"
   ]
  },
  {
   "cell_type": "code",
   "execution_count": 56,
   "metadata": {},
   "outputs": [
    {
     "data": {
      "text/plain": [
       "50.2"
      ]
     },
     "execution_count": 56,
     "metadata": {},
     "output_type": "execute_result"
    }
   ],
   "source": [
    "gc(dna)"
   ]
  },
  {
   "cell_type": "markdown",
   "metadata": {},
   "source": [
    "### Questions 3: The following functions are all supposed to count how many times a certain base (represented as a character variable in Python) appears in a dna sequence (represented as a string variable in Python):"
   ]
  },
  {
   "cell_type": "code",
   "execution_count": 87,
   "metadata": {},
   "outputs": [],
   "source": [
    "def count1(dna, base):\n",
    "    i = 0\n",
    "    for c in dna:\n",
    "        if c == base:\n",
    "            i += 1 \n",
    "    return i\n",
    "\n",
    "def count2(dna, base):\n",
    "    i = 0 \n",
    "    for j in range(len(dna)):\n",
    "        if dna[j] == base:\n",
    "            i += 1 \n",
    "    return i \n",
    "\n",
    "def count3(dna, base):\n",
    "    match = [c == base for c in dna]\n",
    "    return sum(match)\n",
    "\n",
    "def count4(dna, base):\n",
    "    return dna.count(base)\n",
    "\n",
    "def count5(dna, base):\n",
    "    return len([i for i in range(len(dna)) if dna[i] == base])\n",
    "\n",
    "def count6(dna,base):\n",
    "    return sum(c == base for c in dna)\n"
   ]
  },
  {
   "cell_type": "markdown",
   "metadata": {},
   "source": [
    "\n",
    "### Question 4: Which of the correct functions defined in the previous exercise is the fastest?\n",
    "**Hint. You will need to generate a very large string to test them on, and the function clock() from the time module to time each function.**"
   ]
  },
  {
   "cell_type": "code",
   "execution_count": 82,
   "metadata": {},
   "outputs": [
    {
     "name": "stdout",
     "output_type": "stream",
     "text": [
      "0.0720057487487793\n"
     ]
    }
   ],
   "source": [
    "\n",
    "from time import time\n",
    "start = time()\n",
    "count2(dna,'a')\n",
    "stop = time()\n",
    "\n",
    "print(stop - start)"
   ]
  },
  {
   "cell_type": "code",
   "execution_count": 83,
   "metadata": {},
   "outputs": [
    {
     "name": "stdout",
     "output_type": "stream",
     "text": [
      "0.08802151679992676\n"
     ]
    }
   ],
   "source": [
    "start = time()\n",
    "count3(dna,'a')\n",
    "stop = time()\n",
    "\n",
    "print(stop - start)"
   ]
  },
  {
   "cell_type": "code",
   "execution_count": 86,
   "metadata": {},
   "outputs": [
    {
     "name": "stdout",
     "output_type": "stream",
     "text": [
      "0.0019965171813964844\n"
     ]
    }
   ],
   "source": [
    "start = time()\n",
    "count4(dna,'a')\n",
    "stop = time()\n",
    "\n",
    "print(stop - start) # fastest"
   ]
  },
  {
   "cell_type": "code",
   "execution_count": 85,
   "metadata": {},
   "outputs": [
    {
     "name": "stdout",
     "output_type": "stream",
     "text": [
      "0.07762598991394043\n"
     ]
    }
   ],
   "source": [
    "start = time()\n",
    "count5(dna,'a')\n",
    "stop = time()\n",
    "\n",
    "print(stop - start)"
   ]
  },
  {
   "cell_type": "markdown",
   "metadata": {},
   "source": [
    "### Question 6\n",
    "A student imports a module called dnautil in Python using the following command:\n",
    "\n",
    "import dnautil\n",
    "\n",
    "What does the following call to the dir function do?\n",
    "\n",
    "dir(dnautil)"
   ]
  },
  {
   "cell_type": "code",
   "execution_count": 5,
   "metadata": {},
   "outputs": [
    {
     "data": {
      "text/plain": [
       "['__builtins__',\n",
       " '__cached__',\n",
       " '__doc__',\n",
       " '__file__',\n",
       " '__loader__',\n",
       " '__name__',\n",
       " '__package__',\n",
       " '__spec__',\n",
       " 'gc',\n",
       " 'has_stop_codon']"
      ]
     },
     "execution_count": 5,
     "metadata": {},
     "output_type": "execute_result"
    }
   ],
   "source": [
    "import dnautil\n",
    "dir(dnautil)"
   ]
  }
 ],
 "metadata": {
  "interpreter": {
   "hash": "7dae6437c12b1d87f00e0e10a4bd22be66a3b8ec05fb1161d95372f28c39fa9e"
  },
  "kernelspec": {
   "display_name": "Python 3.8.8 64-bit ('base': conda)",
   "name": "python3"
  },
  "language_info": {
   "codemirror_mode": {
    "name": "ipython",
    "version": 3
   },
   "file_extension": ".py",
   "mimetype": "text/x-python",
   "name": "python",
   "nbconvert_exporter": "python",
   "pygments_lexer": "ipython3",
   "version": "3.8.8"
  },
  "orig_nbformat": 4
 },
 "nbformat": 4,
 "nbformat_minor": 2
}
