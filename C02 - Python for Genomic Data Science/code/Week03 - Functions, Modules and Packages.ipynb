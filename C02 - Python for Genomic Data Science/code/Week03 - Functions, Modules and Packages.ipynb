{
 "cells": [
  {
   "cell_type": "markdown",
   "metadata": {},
   "source": [
    "# Lecture 5: Functions\n",
    "\n",
    "## What Are Functions?\n",
    "Function    is    a    part    of    a    program.    It    takes    a    list    of    argument    values,    performs    a    computation    with    those    values,    and    returns    a    single    result.    Python    gives    you    many    built-­in    functions    like    print(),    len()    etc.    but    you    can    also    create    your    own    functions.    These    functions    are    called    user-­de0ined    functions.\n",
    "\n",
    "Python    gives    you    many    built-­in    functions    like    print(),    len()    etc.    but    you    can    also    create    your    own    functions.    These    functions    are    called    user-­de0ined    functions.\n",
    "\n",
    "## Why    Write    Functions?\n",
    "\n",
    "1. Reusability:    They    allow    us    to    reuse    code    instead    of    rewriting    it.    Once    a    function    is    deNined,    it    can    be    used    over    and    over    again.    You    can    invoke    the    same    function    many    times    in    your    program,    which    saves    you    work.    You    can    also    reuse    function    written    in    different    programs.    \n",
    "\n",
    "2. Abstraction:    They    allow    us    to    conceive    our    program    as    a    sequence    of    sub-­‐steps.    You    know    what    each    sub-­‐step    in    your    program    does,    but    you    don’t    necessarily    need    to    know    how    it    does    it    –    i.e.    like    when    you    use    functions    written    by    other    people.    \n",
    "\n",
    "\n",
    "## Some\tUseful\tDNA\tSequence\tFunctions\t\n",
    "1. A\tfunction\tthat\tcomputes\tthe\tGC\t percentage\tof\ta\tDNA\tsequence\t\n",
    "2. A\tfunction\tto\tcheck\tif\ta\tDNA\tsequence\thas\t an\tin\tframe\tstop\tcodon.\t\n",
    "3. A\tfunction\tto\treverse\tcomplement\ta\tDNA\t sequence.\t\n",
    "\n",
    "## Defining a Functions\n",
    "```{python}\n",
    "def function_name(input argument):\n",
    "    ''' String documenting the functions '''\n",
    "    < functions code block >\n",
    "    return output\n",
    "```\n",
    "\n",
    "## Example : A\tFunction\tTo\tCompute\tThe\tGC\tPercentage\tOf\tA\tDNA\tSequence.\n",
    "- Input\t:\tDNA\tsequence\t\n",
    "- Output:\tGC\tpercentage"
   ]
  },
  {
   "cell_type": "code",
   "execution_count": 4,
   "metadata": {},
   "outputs": [],
   "source": [
    "def gc(dna):\n",
    "    \"this function computes the GC percentage of a dna sequence.\"\n",
    "    nbases = dna.count('n') + dna.count('N')\n",
    "    gcpercent =float(dna.count('c') + dna.count('C') + dna.count('g') + dna.count('G'))* 100.0/(len(dna)-nbases)\n",
    "    return gcpercent"
   ]
  },
  {
   "cell_type": "code",
   "execution_count": 2,
   "metadata": {},
   "outputs": [
    {
     "data": {
      "text/plain": [
       "40.0"
      ]
     },
     "execution_count": 2,
     "metadata": {},
     "output_type": "execute_result"
    }
   ],
   "source": [
    "gc('AAAGTNNAGTCC')"
   ]
  },
  {
   "cell_type": "code",
   "execution_count": 3,
   "metadata": {},
   "outputs": [
    {
     "name": "stdout",
     "output_type": "stream",
     "text": [
      "Help on function gc in module __main__:\n",
      "\n",
      "gc(dna)\n",
      "    this function computes the GC percentage of a dna sequence\n",
      "\n"
     ]
    }
   ],
   "source": [
    " help(gc)"
   ]
  },
  {
   "cell_type": "markdown",
   "metadata": {},
   "source": [
    "## Scope\tOf\tVariable\tDeclaration\n",
    "If\tyou\tdeclare\ta\tvariable\tinside\ta\tfunction\tit\twill\tonly\texist\tin\tthat\t function:\t"
   ]
  },
  {
   "cell_type": "code",
   "execution_count": 9,
   "metadata": {},
   "outputs": [
    {
     "ename": "NameError",
     "evalue": "name 'nbases' is not defined",
     "output_type": "error",
     "traceback": [
      "\u001b[1;31m---------------------------------------------------------------------------\u001b[0m",
      "\u001b[1;31mNameError\u001b[0m                                 Traceback (most recent call last)",
      "\u001b[1;32m<ipython-input-9-358df5fd2edb>\u001b[0m in \u001b[0;36m<module>\u001b[1;34m\u001b[0m\n\u001b[0;32m      4\u001b[0m     \u001b[0mgcpercent\u001b[0m \u001b[1;33m=\u001b[0m\u001b[0mfloat\u001b[0m\u001b[1;33m(\u001b[0m\u001b[0mdna\u001b[0m\u001b[1;33m.\u001b[0m\u001b[0mcount\u001b[0m\u001b[1;33m(\u001b[0m\u001b[1;34m'c'\u001b[0m\u001b[1;33m)\u001b[0m \u001b[1;33m+\u001b[0m \u001b[0mdna\u001b[0m\u001b[1;33m.\u001b[0m\u001b[0mcount\u001b[0m\u001b[1;33m(\u001b[0m\u001b[1;34m'C'\u001b[0m\u001b[1;33m)\u001b[0m \u001b[1;33m+\u001b[0m \u001b[0mdna\u001b[0m\u001b[1;33m.\u001b[0m\u001b[0mcount\u001b[0m\u001b[1;33m(\u001b[0m\u001b[1;34m'g'\u001b[0m\u001b[1;33m)\u001b[0m \u001b[1;33m+\u001b[0m \u001b[0mdna\u001b[0m\u001b[1;33m.\u001b[0m\u001b[0mcount\u001b[0m\u001b[1;33m(\u001b[0m\u001b[1;34m'G'\u001b[0m\u001b[1;33m)\u001b[0m\u001b[1;33m)\u001b[0m\u001b[1;33m*\u001b[0m \u001b[1;36m100.0\u001b[0m\u001b[1;33m/\u001b[0m\u001b[1;33m(\u001b[0m\u001b[0mlen\u001b[0m\u001b[1;33m(\u001b[0m\u001b[0mdna\u001b[0m\u001b[1;33m)\u001b[0m\u001b[1;33m-\u001b[0m\u001b[0mnbases\u001b[0m\u001b[1;33m)\u001b[0m\u001b[1;33m\u001b[0m\u001b[1;33m\u001b[0m\u001b[0m\n\u001b[0;32m      5\u001b[0m     \u001b[1;32mreturn\u001b[0m \u001b[0mgcpercent\u001b[0m\u001b[1;33m\u001b[0m\u001b[1;33m\u001b[0m\u001b[0m\n\u001b[1;32m----> 6\u001b[1;33m \u001b[0mprint\u001b[0m\u001b[1;33m(\u001b[0m\u001b[0mnbases\u001b[0m\u001b[1;33m)\u001b[0m\u001b[1;33m\u001b[0m\u001b[1;33m\u001b[0m\u001b[0m\n\u001b[0m",
      "\u001b[1;31mNameError\u001b[0m: name 'nbases' is not defined"
     ]
    }
   ],
   "source": [
    "def gc(dna):\n",
    "    \"this function computes the GC percentage of a dna sequence.\"\n",
    "    nbases = dna.count('n') + dna.count('N')\n",
    "    gcpercent =float(dna.count('c') + dna.count('C') + dna.count('g') + dna.count('G'))* 100.0/(len(dna)-nbases)\n",
    "    return gcpercent\n",
    "print(nbases)"
   ]
  },
  {
   "cell_type": "markdown",
   "metadata": {},
   "source": [
    "## Boolean\tFunctions\n",
    "Boolean\tfunctions\tare\tfunctions\tthat\treturn\ta\t`True`\tor\t`False`\tvalue.\t\tThey\tcan\t\n",
    "be\tused\tin\tconditionals\tsuch\tas\tif\tor\twhile\tstatements\twhenever\ta\t\n",
    "condition\tis\ttoo\tcomplex.\t\n",
    "\n",
    "\n",
    "### **Problem**.\tWrite\ta\tprogram\tthat\tchecks\tif\ta\tgiven\tDNA\tsequence\tcontains\tan\tin-frame\tstop\tcodon.\t\t"
   ]
  },
  {
   "cell_type": "code",
   "execution_count": 12,
   "metadata": {},
   "outputs": [],
   "source": [
    "def has_stop_codon(dna) :\n",
    "    \"This function checks if given dna sequence has in frame stop codons.\"\n",
    "    stop_codon_found=False\n",
    "    stop_codons=['tga','tag','taa']\n",
    "    for i in range(0,len(dna),3) :\n",
    "        codon=dna[i:i+3].lower()\n",
    "        if codon in stop_codons :\n",
    "            stop_codon_found=True\n",
    "            break\n",
    "    return stop_codon_found"
   ]
  },
  {
   "cell_type": "code",
   "execution_count": 13,
   "metadata": {},
   "outputs": [
    {
     "name": "stdout",
     "output_type": "stream",
     "text": [
      "Input sequence has no in frame stop codons.\n"
     ]
    }
   ],
   "source": [
    "# define has_stop_codon function here\n",
    "dna = input(\"Enter a DNA sequence, please:\")\n",
    "if(has_stop_codon(dna)) :\n",
    "    print(\"Input sequence has an in frame stop codon.\")\n",
    "else :\n",
    "    print(\"Input sequence has no in frame stop codons.\")"
   ]
  },
  {
   "cell_type": "markdown",
   "metadata": {},
   "source": [
    "## Defining\tFunction with Default Values\n",
    "Suppose\tthe\thas_stop_codon\tfunction\talso\taccepts\ta\tframe\t\n",
    "argument\t(equal\tto\t0,1,\tor\t2)\twhich\tspeciNies\tin\twhat\tframe\twe\t\n",
    "want\tto\tlook\tfor\tstop\tcodons."
   ]
  },
  {
   "cell_type": "code",
   "execution_count": 14,
   "metadata": {},
   "outputs": [],
   "source": [
    "def has_stop_codon(dna,frame=0) :\n",
    "    \"This function checks if given dna sequence has in frame stop codons.\"\n",
    "    stop_codon_found=False\n",
    "    stop_codons=['tga','tag','taa']\n",
    "    for i in range(frame,len(dna),3) :\n",
    "        codon=dna[i:i+3].lower()\n",
    "        if codon in stop_codons :\n",
    "            stop_codon_found=True\n",
    "            break\n",
    "    return stop_codon_found"
   ]
  },
  {
   "cell_type": "code",
   "execution_count": 15,
   "metadata": {},
   "outputs": [
    {
     "data": {
      "text/plain": [
       "False"
      ]
     },
     "execution_count": 15,
     "metadata": {},
     "output_type": "execute_result"
    }
   ],
   "source": [
    "dna=\"atgagcggccggct\"\n",
    "has_stop_codon(dna,0)"
   ]
  },
  {
   "cell_type": "code",
   "execution_count": 16,
   "metadata": {},
   "outputs": [
    {
     "data": {
      "text/plain": [
       "True"
      ]
     },
     "execution_count": 16,
     "metadata": {},
     "output_type": "execute_result"
    }
   ],
   "source": [
    "has_stop_codon(dna,1)"
   ]
  },
  {
   "cell_type": "markdown",
   "metadata": {},
   "source": [
    "We\twould\tlike\tthe\t`has_stop_codon()`\tfunction\tto\tcheck\tfor\t in-frame\tstop\tcodons\tby\tdefault,\ti.e.\tif\twe\tcall\tthe\tfunction\tlike\tthis:"
   ]
  },
  {
   "cell_type": "code",
   "execution_count": 17,
   "metadata": {},
   "outputs": [
    {
     "data": {
      "text/plain": [
       "False"
      ]
     },
     "execution_count": 17,
     "metadata": {},
     "output_type": "execute_result"
    }
   ],
   "source": [
    "has_stop_codon(dna)"
   ]
  },
  {
   "cell_type": "markdown",
   "metadata": {},
   "source": [
    "## Passing\tFunction\tArguments"
   ]
  },
  {
   "cell_type": "code",
   "execution_count": 18,
   "metadata": {},
   "outputs": [
    {
     "data": {
      "text/plain": [
       "True"
      ]
     },
     "execution_count": 18,
     "metadata": {},
     "output_type": "execute_result"
    }
   ],
   "source": [
    "## Passing arguments by position:\n",
    "seq= 'tgggcctaggtaac'\n",
    "has_stop_codon(seq,1)"
   ]
  },
  {
   "cell_type": "code",
   "execution_count": 19,
   "metadata": {},
   "outputs": [
    {
     "data": {
      "text/plain": [
       "True"
      ]
     },
     "execution_count": 19,
     "metadata": {},
     "output_type": "execute_result"
    }
   ],
   "source": [
    "# It is\talso possible to pass arguments\tby\tname:\n",
    "has_stop_codon(frame=0,dna=seq)"
   ]
  },
  {
   "cell_type": "code",
   "execution_count": 20,
   "metadata": {},
   "outputs": [
    {
     "data": {
      "text/plain": [
       "False"
      ]
     },
     "execution_count": 20,
     "metadata": {},
     "output_type": "execute_result"
    }
   ],
   "source": [
    "# You\tcan\tmix\teither\tstyle,\tbut\tnamed\targument\tmust\tbe\tput\tafter\tpositioned\targuments:\n",
    "has_stop_codon(seq,frame=2)"
   ]
  },
  {
   "cell_type": "markdown",
   "metadata": {},
   "source": [
    "## A\tMore\tComplex\tFunction\tExample\n",
    "\n",
    "### Write\ta\tfunction\tto\treverse\tcomplement\ta\tDNA\tsequence.\t"
   ]
  },
  {
   "cell_type": "code",
   "execution_count": 23,
   "metadata": {},
   "outputs": [
    {
     "data": {
      "text/plain": [
       "'GCGGGGTGTGA'"
      ]
     },
     "execution_count": 23,
     "metadata": {},
     "output_type": "execute_result"
    }
   ],
   "source": [
    "# Reversing\tA String\n",
    "dna=\"AGTGTGGGGCG\"\n",
    "dna[::-1]"
   ]
  },
  {
   "cell_type": "code",
   "execution_count": 25,
   "metadata": {},
   "outputs": [],
   "source": [
    "# A\tFunction To\tComplement\tA\tDNA\tSequence\n",
    "def complement(dna): \n",
    "    \"\"\"Return the complementary sequence string.\"\"\"\n",
    "    basecomplement = {'A':'T', 'C':'G','G':'C', 'T':'A', 'N':'N', 'a':'t', 'c':'g','g':'c', 't':'a', 'n':'n'} \n",
    "    letters = list(dna) \n",
    "    letters = [basecomplement[base] for base in letters] \n",
    "    return ''.join(letters)"
   ]
  },
  {
   "cell_type": "code",
   "execution_count": 21,
   "metadata": {},
   "outputs": [],
   "source": [
    "def reversecomplement(seq): \n",
    " \"\"\"Return the reverse complement of the dna string.\"\"\"\n",
    " seq = reverse_string(seq) \n",
    " seq = complement(seq) \n",
    " return seq"
   ]
  },
  {
   "cell_type": "code",
   "execution_count": null,
   "metadata": {},
   "outputs": [],
   "source": []
  }
 ],
 "metadata": {
  "interpreter": {
   "hash": "7dae6437c12b1d87f00e0e10a4bd22be66a3b8ec05fb1161d95372f28c39fa9e"
  },
  "kernelspec": {
   "display_name": "Python 3.8.8 64-bit ('base': conda)",
   "name": "python3"
  },
  "language_info": {
   "codemirror_mode": {
    "name": "ipython",
    "version": 3
   },
   "file_extension": ".py",
   "mimetype": "text/x-python",
   "name": "python",
   "nbconvert_exporter": "python",
   "pygments_lexer": "ipython3",
   "version": "3.8.8"
  },
  "orig_nbformat": 4
 },
 "nbformat": 4,
 "nbformat_minor": 2
}
